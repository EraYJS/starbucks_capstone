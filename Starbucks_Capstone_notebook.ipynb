{
 "cells": [
  {
   "cell_type": "markdown",
   "metadata": {},
   "source": [
    "# Starbucks Capstone Challenge\n",
    "\n",
    "### Introduction\n",
    "\n",
    "This data set contains simulated data that mimics customer behavior on the Starbucks rewards mobile app. Once every few days, Starbucks sends out an offer to users of the mobile app. An offer can be merely an advertisement for a drink or an actual offer such as a discount or BOGO (buy one get one free). Some users might not receive any offer during certain weeks. \n",
    "\n",
    "Not all users receive the same offer, and that is the challenge to solve with this data set.\n",
    "\n",
    "Your task is to combine transaction, demographic and offer data to determine which demographic groups respond best to which offer type. This data set is a simplified version of the real Starbucks app because the underlying simulator only has one product whereas Starbucks actually sells dozens of products.\n",
    "\n",
    "Every offer has a validity period before the offer expires. As an example, a BOGO offer might be valid for only 5 days. You'll see in the data set that informational offers have a validity period even though these ads are merely providing information about a product; for example, if an informational offer has 7 days of validity, you can assume the customer is feeling the influence of the offer for 7 days after receiving the advertisement.\n",
    "\n",
    "You'll be given transactional data showing user purchases made on the app including the timestamp of purchase and the amount of money spent on a purchase. This transactional data also has a record for each offer that a user receives as well as a record for when a user actually views the offer. There are also records for when a user completes an offer. \n",
    "\n",
    "Keep in mind as well that someone using the app might make a purchase through the app without having received an offer or seen an offer.\n",
    "\n",
    "### Example\n",
    "\n",
    "To give an example, a user could receive a discount offer buy 10 dollars get 2 off on Monday. The offer is valid for 10 days from receipt. If the customer accumulates at least 10 dollars in purchases during the validity period, the customer completes the offer.\n",
    "\n",
    "However, there are a few things to watch out for in this data set. Customers do not opt into the offers that they receive; in other words, a user can receive an offer, never actually view the offer, and still complete the offer. For example, a user might receive the \"buy 10 dollars get 2 dollars off offer\", but the user never opens the offer during the 10 day validity period. The customer spends 15 dollars during those ten days. There will be an offer completion record in the data set; however, the customer was not influenced by the offer because the customer never viewed the offer.\n",
    "\n",
    "### Cleaning\n",
    "\n",
    "This makes data cleaning especially important and tricky.\n",
    "\n",
    "You'll also want to take into account that some demographic groups will make purchases even if they don't receive an offer. From a business perspective, if a customer is going to make a 10 dollar purchase without an offer anyway, you wouldn't want to send a buy 10 dollars get 2 dollars off offer. You'll want to try to assess what a certain demographic group will buy when not receiving any offers.\n",
    "\n",
    "---"
   ]
  },
  {
   "cell_type": "markdown",
   "metadata": {},
   "source": [
    "## Data Sets\n",
    "\n",
    "The data is contained in three files:\n",
    "\n",
    "* portfolio.json - containing offer ids and meta data about each offer (duration, type, etc.)\n",
    "* profile.json - demographic data for each customer\n",
    "* transcript.json - records for transactions, offers received, offers viewed, and offers completed\n",
    "\n",
    "Here is the schema and explanation of each variable in the files:\n",
    "\n",
    "**portfolio.json**\n",
    "* id (string) - offer id\n",
    "* offer_type (string) - type of offer ie BOGO, discount, informational\n",
    "* difficulty (int) - minimum required spend to complete an offer\n",
    "* reward (int) - reward given for completing an offer\n",
    "* duration (int) - time for offer to be open, in days\n",
    "* channels (list of strings)\n",
    "\n",
    "**profile.json**\n",
    "* age (int) - age of the customer \n",
    "* became_member_on (int) - date when customer created an app account\n",
    "* gender (str) - gender of the customer (note some entries contain 'O' for other rather than M or F)\n",
    "* id (str) - customer id\n",
    "* income (float) - customer's income\n",
    "\n",
    "**transcript.json**\n",
    "* event (str) - record description (ie transaction, offer received, offer viewed, etc.)\n",
    "* person (str) - customer id\n",
    "* time (int) - time in hours since start of test. The data begins at time t=0\n",
    "* value - (dict of strings) - either an offer id or transaction amount depending on the record\n"
   ]
  },
  {
   "cell_type": "code",
   "execution_count": 1,
   "metadata": {
    "pycharm": {
     "name": "#%%\n"
    }
   },
   "outputs": [],
   "source": [
    "import json\n",
    "import math\n",
    "import numpy as np\n",
    "import pandas as pd\n",
    "\n",
    "import matplotlib.pyplot as plt\n",
    "\n",
    "from sklearn.ensemble import RandomForestClassifier\n",
    "from sklearn.linear_model import Ridge\n",
    "from sklearn.metrics import classification_report, mean_squared_error\n",
    "from sklearn.model_selection import GridSearchCV, train_test_split\n",
    "from sklearn.preprocessing import PolynomialFeatures, StandardScaler\n",
    "from sklearn.tree import DecisionTreeClassifier\n",
    "\n",
    "from time import time\n",
    "\n",
    "%matplotlib inline"
   ]
  },
  {
   "cell_type": "code",
   "execution_count": 2,
   "metadata": {
    "pycharm": {
     "name": "#%%\n"
    }
   },
   "outputs": [],
   "source": [
    "# read in the json files\n",
    "portfolio = pd.read_json('data/portfolio.json', orient='records', lines=True)\n",
    "profile = pd.read_json('data/profile.json', orient='records', lines=True)\n",
    "transcript = pd.read_json('data/transcript.json', orient='records', lines=True)"
   ]
  },
  {
   "cell_type": "markdown",
   "metadata": {},
   "source": [
    "## Data Exploration\n",
    "\n",
    "### 1. Portfolio\n",
    "\n",
    "#### Basic Infos:"
   ]
  },
  {
   "cell_type": "code",
   "execution_count": 3,
   "metadata": {
    "pycharm": {
     "name": "#%% \n"
    }
   },
   "outputs": [
    {
     "output_type": "execute_result",
     "data": {
      "text/plain": "   reward                      channels  difficulty  duration     offer_type  \\\n0      10       [email, mobile, social]          10         7           bogo   \n1      10  [web, email, mobile, social]          10         5           bogo   \n2       0          [web, email, mobile]           0         4  informational   \n3       5          [web, email, mobile]           5         7           bogo   \n4       5                  [web, email]          20        10       discount   \n\n                                 id  \n0  ae264e3637204a6fb9bb56bc8210ddfd  \n1  4d5c57ea9a6940dd891ad53e9dbe8da0  \n2  3f207df678b143eea3cee63160fa8bed  \n3  9b98b8c7a33c4b65b9aebfe6a799e6d9  \n4  0b1e1539f2cc45b7b9fa7c272da2e1d7  ",
      "text/html": "<div>\n<style scoped>\n    .dataframe tbody tr th:only-of-type {\n        vertical-align: middle;\n    }\n\n    .dataframe tbody tr th {\n        vertical-align: top;\n    }\n\n    .dataframe thead th {\n        text-align: right;\n    }\n</style>\n<table border=\"1\" class=\"dataframe\">\n  <thead>\n    <tr style=\"text-align: right;\">\n      <th></th>\n      <th>reward</th>\n      <th>channels</th>\n      <th>difficulty</th>\n      <th>duration</th>\n      <th>offer_type</th>\n      <th>id</th>\n    </tr>\n  </thead>\n  <tbody>\n    <tr>\n      <th>0</th>\n      <td>10</td>\n      <td>[email, mobile, social]</td>\n      <td>10</td>\n      <td>7</td>\n      <td>bogo</td>\n      <td>ae264e3637204a6fb9bb56bc8210ddfd</td>\n    </tr>\n    <tr>\n      <th>1</th>\n      <td>10</td>\n      <td>[web, email, mobile, social]</td>\n      <td>10</td>\n      <td>5</td>\n      <td>bogo</td>\n      <td>4d5c57ea9a6940dd891ad53e9dbe8da0</td>\n    </tr>\n    <tr>\n      <th>2</th>\n      <td>0</td>\n      <td>[web, email, mobile]</td>\n      <td>0</td>\n      <td>4</td>\n      <td>informational</td>\n      <td>3f207df678b143eea3cee63160fa8bed</td>\n    </tr>\n    <tr>\n      <th>3</th>\n      <td>5</td>\n      <td>[web, email, mobile]</td>\n      <td>5</td>\n      <td>7</td>\n      <td>bogo</td>\n      <td>9b98b8c7a33c4b65b9aebfe6a799e6d9</td>\n    </tr>\n    <tr>\n      <th>4</th>\n      <td>5</td>\n      <td>[web, email]</td>\n      <td>20</td>\n      <td>10</td>\n      <td>discount</td>\n      <td>0b1e1539f2cc45b7b9fa7c272da2e1d7</td>\n    </tr>\n  </tbody>\n</table>\n</div>"
     },
     "metadata": {},
     "execution_count": 3
    }
   ],
   "source": [
    "portfolio.head()"
   ]
  },
  {
   "cell_type": "code",
   "execution_count": 4,
   "metadata": {
    "pycharm": {
     "name": "#%%\n"
    }
   },
   "outputs": [
    {
     "output_type": "stream",
     "name": "stdout",
     "text": "The shape of portfolio data is (10, 6)\n\nNull values statistics is: \nreward        0\nchannels      0\ndifficulty    0\nduration      0\noffer_type    0\nid            0\ndtype: int64\n\nThere are 10 unique ids.\n\n"
    }
   ],
   "source": [
    "print(f'The shape of portfolio data is {portfolio.shape}\\n')\n",
    "print(f'Null values statistics is: \\n{portfolio.isnull().sum()}\\n')\n",
    "print(f'There are {portfolio.id.nunique()} unique ids.\\n')"
   ]
  },
  {
   "cell_type": "code",
   "execution_count": 5,
   "metadata": {
    "pycharm": {
     "name": "#%%\n"
    }
   },
   "outputs": [
    {
     "output_type": "execute_result",
     "data": {
      "text/plain": "Text(0.5, 1.0, 'Offer Type Distribution')"
     },
     "metadata": {},
     "execution_count": 5
    },
    {
     "output_type": "display_data",
     "data": {
      "text/plain": "<Figure size 432x288 with 1 Axes>",
      "image/svg+xml": "<?xml version=\"1.0\" encoding=\"utf-8\" standalone=\"no\"?>\n<!DOCTYPE svg PUBLIC \"-//W3C//DTD SVG 1.1//EN\"\n  \"http://www.w3.org/Graphics/SVG/1.1/DTD/svg11.dtd\">\n<!-- Created with matplotlib (https://matplotlib.org/) -->\n<svg height=\"263.63625pt\" version=\"1.1\" viewBox=\"0 0 372.103125 263.63625\" width=\"372.103125pt\" xmlns=\"http://www.w3.org/2000/svg\" xmlns:xlink=\"http://www.w3.org/1999/xlink\">\n <defs>\n  <style type=\"text/css\">\n*{stroke-linecap:butt;stroke-linejoin:round;}\n  </style>\n </defs>\n <g id=\"figure_1\">\n  <g id=\"patch_1\">\n   <path d=\"M 0 263.63625 \nL 372.103125 263.63625 \nL 372.103125 0 \nL 0 0 \nz\n\" style=\"fill:none;\"/>\n  </g>\n  <g id=\"axes_1\">\n   <g id=\"patch_2\">\n    <path d=\"M 30.103125 239.758125 \nL 364.903125 239.758125 \nL 364.903125 22.318125 \nL 30.103125 22.318125 \nz\n\" style=\"fill:#ffffff;\"/>\n   </g>\n   <g id=\"patch_3\">\n    <path clip-path=\"url(#p8c1914660d)\" d=\"M 45.321307 239.758125 \nL 132.282346 239.758125 \nL 132.282346 32.672411 \nL 45.321307 32.672411 \nz\n\" style=\"fill:#1f77b4;\"/>\n   </g>\n   <g id=\"patch_4\">\n    <path clip-path=\"url(#p8c1914660d)\" d=\"M 154.022606 239.758125 \nL 240.983644 239.758125 \nL 240.983644 32.672411 \nL 154.022606 32.672411 \nz\n\" style=\"fill:#1f77b4;\"/>\n   </g>\n   <g id=\"patch_5\">\n    <path clip-path=\"url(#p8c1914660d)\" d=\"M 262.723904 239.758125 \nL 349.684943 239.758125 \nL 349.684943 136.215268 \nL 262.723904 136.215268 \nz\n\" style=\"fill:#1f77b4;\"/>\n   </g>\n   <g id=\"matplotlib.axis_1\">\n    <g id=\"xtick_1\">\n     <g id=\"line2d_1\">\n      <defs>\n       <path d=\"M 0 0 \nL 0 3.5 \n\" id=\"m60d202b0ea\" style=\"stroke:#000000;stroke-width:0.8;\"/>\n      </defs>\n      <g>\n       <use style=\"stroke:#000000;stroke-width:0.8;\" x=\"88.801826\" xlink:href=\"#m60d202b0ea\" y=\"239.758125\"/>\n      </g>\n     </g>\n     <g id=\"text_1\">\n      <!-- bogo -->\n      <defs>\n       <path d=\"M 48.6875 27.296875 \nQ 48.6875 37.203125 44.609375 42.84375 \nQ 40.53125 48.484375 33.40625 48.484375 \nQ 26.265625 48.484375 22.1875 42.84375 \nQ 18.109375 37.203125 18.109375 27.296875 \nQ 18.109375 17.390625 22.1875 11.75 \nQ 26.265625 6.109375 33.40625 6.109375 \nQ 40.53125 6.109375 44.609375 11.75 \nQ 48.6875 17.390625 48.6875 27.296875 \nz\nM 18.109375 46.390625 \nQ 20.953125 51.265625 25.265625 53.625 \nQ 29.59375 56 35.59375 56 \nQ 45.5625 56 51.78125 48.09375 \nQ 58.015625 40.1875 58.015625 27.296875 \nQ 58.015625 14.40625 51.78125 6.484375 \nQ 45.5625 -1.421875 35.59375 -1.421875 \nQ 29.59375 -1.421875 25.265625 0.953125 \nQ 20.953125 3.328125 18.109375 8.203125 \nL 18.109375 0 \nL 9.078125 0 \nL 9.078125 75.984375 \nL 18.109375 75.984375 \nz\n\" id=\"DejaVuSans-98\"/>\n       <path d=\"M 30.609375 48.390625 \nQ 23.390625 48.390625 19.1875 42.75 \nQ 14.984375 37.109375 14.984375 27.296875 \nQ 14.984375 17.484375 19.15625 11.84375 \nQ 23.34375 6.203125 30.609375 6.203125 \nQ 37.796875 6.203125 41.984375 11.859375 \nQ 46.1875 17.53125 46.1875 27.296875 \nQ 46.1875 37.015625 41.984375 42.703125 \nQ 37.796875 48.390625 30.609375 48.390625 \nz\nM 30.609375 56 \nQ 42.328125 56 49.015625 48.375 \nQ 55.71875 40.765625 55.71875 27.296875 \nQ 55.71875 13.875 49.015625 6.21875 \nQ 42.328125 -1.421875 30.609375 -1.421875 \nQ 18.84375 -1.421875 12.171875 6.21875 \nQ 5.515625 13.875 5.515625 27.296875 \nQ 5.515625 40.765625 12.171875 48.375 \nQ 18.84375 56 30.609375 56 \nz\n\" id=\"DejaVuSans-111\"/>\n       <path d=\"M 45.40625 27.984375 \nQ 45.40625 37.75 41.375 43.109375 \nQ 37.359375 48.484375 30.078125 48.484375 \nQ 22.859375 48.484375 18.828125 43.109375 \nQ 14.796875 37.75 14.796875 27.984375 \nQ 14.796875 18.265625 18.828125 12.890625 \nQ 22.859375 7.515625 30.078125 7.515625 \nQ 37.359375 7.515625 41.375 12.890625 \nQ 45.40625 18.265625 45.40625 27.984375 \nz\nM 54.390625 6.78125 \nQ 54.390625 -7.171875 48.1875 -13.984375 \nQ 42 -20.796875 29.203125 -20.796875 \nQ 24.46875 -20.796875 20.265625 -20.09375 \nQ 16.0625 -19.390625 12.109375 -17.921875 \nL 12.109375 -9.1875 \nQ 16.0625 -11.328125 19.921875 -12.34375 \nQ 23.78125 -13.375 27.78125 -13.375 \nQ 36.625 -13.375 41.015625 -8.765625 \nQ 45.40625 -4.15625 45.40625 5.171875 \nL 45.40625 9.625 \nQ 42.625 4.78125 38.28125 2.390625 \nQ 33.9375 0 27.875 0 \nQ 17.828125 0 11.671875 7.65625 \nQ 5.515625 15.328125 5.515625 27.984375 \nQ 5.515625 40.671875 11.671875 48.328125 \nQ 17.828125 56 27.875 56 \nQ 33.9375 56 38.28125 53.609375 \nQ 42.625 51.21875 45.40625 46.390625 \nL 45.40625 54.6875 \nL 54.390625 54.6875 \nz\n\" id=\"DejaVuSans-103\"/>\n      </defs>\n      <g transform=\"translate(76.334639 254.356563)scale(0.1 -0.1)\">\n       <use xlink:href=\"#DejaVuSans-98\"/>\n       <use x=\"63.476562\" xlink:href=\"#DejaVuSans-111\"/>\n       <use x=\"124.658203\" xlink:href=\"#DejaVuSans-103\"/>\n       <use x=\"188.134766\" xlink:href=\"#DejaVuSans-111\"/>\n      </g>\n     </g>\n    </g>\n    <g id=\"xtick_2\">\n     <g id=\"line2d_2\">\n      <g>\n       <use style=\"stroke:#000000;stroke-width:0.8;\" x=\"197.503125\" xlink:href=\"#m60d202b0ea\" y=\"239.758125\"/>\n      </g>\n     </g>\n     <g id=\"text_2\">\n      <!-- discount -->\n      <defs>\n       <path d=\"M 45.40625 46.390625 \nL 45.40625 75.984375 \nL 54.390625 75.984375 \nL 54.390625 0 \nL 45.40625 0 \nL 45.40625 8.203125 \nQ 42.578125 3.328125 38.25 0.953125 \nQ 33.9375 -1.421875 27.875 -1.421875 \nQ 17.96875 -1.421875 11.734375 6.484375 \nQ 5.515625 14.40625 5.515625 27.296875 \nQ 5.515625 40.1875 11.734375 48.09375 \nQ 17.96875 56 27.875 56 \nQ 33.9375 56 38.25 53.625 \nQ 42.578125 51.265625 45.40625 46.390625 \nz\nM 14.796875 27.296875 \nQ 14.796875 17.390625 18.875 11.75 \nQ 22.953125 6.109375 30.078125 6.109375 \nQ 37.203125 6.109375 41.296875 11.75 \nQ 45.40625 17.390625 45.40625 27.296875 \nQ 45.40625 37.203125 41.296875 42.84375 \nQ 37.203125 48.484375 30.078125 48.484375 \nQ 22.953125 48.484375 18.875 42.84375 \nQ 14.796875 37.203125 14.796875 27.296875 \nz\n\" id=\"DejaVuSans-100\"/>\n       <path d=\"M 9.421875 54.6875 \nL 18.40625 54.6875 \nL 18.40625 0 \nL 9.421875 0 \nz\nM 9.421875 75.984375 \nL 18.40625 75.984375 \nL 18.40625 64.59375 \nL 9.421875 64.59375 \nz\n\" id=\"DejaVuSans-105\"/>\n       <path d=\"M 44.28125 53.078125 \nL 44.28125 44.578125 \nQ 40.484375 46.53125 36.375 47.5 \nQ 32.28125 48.484375 27.875 48.484375 \nQ 21.1875 48.484375 17.84375 46.4375 \nQ 14.5 44.390625 14.5 40.28125 \nQ 14.5 37.15625 16.890625 35.375 \nQ 19.28125 33.59375 26.515625 31.984375 \nL 29.59375 31.296875 \nQ 39.15625 29.25 43.1875 25.515625 \nQ 47.21875 21.78125 47.21875 15.09375 \nQ 47.21875 7.46875 41.1875 3.015625 \nQ 35.15625 -1.421875 24.609375 -1.421875 \nQ 20.21875 -1.421875 15.453125 -0.5625 \nQ 10.6875 0.296875 5.421875 2 \nL 5.421875 11.28125 \nQ 10.40625 8.6875 15.234375 7.390625 \nQ 20.0625 6.109375 24.8125 6.109375 \nQ 31.15625 6.109375 34.5625 8.28125 \nQ 37.984375 10.453125 37.984375 14.40625 \nQ 37.984375 18.0625 35.515625 20.015625 \nQ 33.0625 21.96875 24.703125 23.78125 \nL 21.578125 24.515625 \nQ 13.234375 26.265625 9.515625 29.90625 \nQ 5.8125 33.546875 5.8125 39.890625 \nQ 5.8125 47.609375 11.28125 51.796875 \nQ 16.75 56 26.8125 56 \nQ 31.78125 56 36.171875 55.265625 \nQ 40.578125 54.546875 44.28125 53.078125 \nz\n\" id=\"DejaVuSans-115\"/>\n       <path d=\"M 48.78125 52.59375 \nL 48.78125 44.1875 \nQ 44.96875 46.296875 41.140625 47.34375 \nQ 37.3125 48.390625 33.40625 48.390625 \nQ 24.65625 48.390625 19.8125 42.84375 \nQ 14.984375 37.3125 14.984375 27.296875 \nQ 14.984375 17.28125 19.8125 11.734375 \nQ 24.65625 6.203125 33.40625 6.203125 \nQ 37.3125 6.203125 41.140625 7.25 \nQ 44.96875 8.296875 48.78125 10.40625 \nL 48.78125 2.09375 \nQ 45.015625 0.34375 40.984375 -0.53125 \nQ 36.96875 -1.421875 32.421875 -1.421875 \nQ 20.0625 -1.421875 12.78125 6.34375 \nQ 5.515625 14.109375 5.515625 27.296875 \nQ 5.515625 40.671875 12.859375 48.328125 \nQ 20.21875 56 33.015625 56 \nQ 37.15625 56 41.109375 55.140625 \nQ 45.0625 54.296875 48.78125 52.59375 \nz\n\" id=\"DejaVuSans-99\"/>\n       <path d=\"M 8.5 21.578125 \nL 8.5 54.6875 \nL 17.484375 54.6875 \nL 17.484375 21.921875 \nQ 17.484375 14.15625 20.5 10.265625 \nQ 23.53125 6.390625 29.59375 6.390625 \nQ 36.859375 6.390625 41.078125 11.03125 \nQ 45.3125 15.671875 45.3125 23.6875 \nL 45.3125 54.6875 \nL 54.296875 54.6875 \nL 54.296875 0 \nL 45.3125 0 \nL 45.3125 8.40625 \nQ 42.046875 3.421875 37.71875 1 \nQ 33.40625 -1.421875 27.6875 -1.421875 \nQ 18.265625 -1.421875 13.375 4.4375 \nQ 8.5 10.296875 8.5 21.578125 \nz\nM 31.109375 56 \nz\n\" id=\"DejaVuSans-117\"/>\n       <path d=\"M 54.890625 33.015625 \nL 54.890625 0 \nL 45.90625 0 \nL 45.90625 32.71875 \nQ 45.90625 40.484375 42.875 44.328125 \nQ 39.84375 48.1875 33.796875 48.1875 \nQ 26.515625 48.1875 22.3125 43.546875 \nQ 18.109375 38.921875 18.109375 30.90625 \nL 18.109375 0 \nL 9.078125 0 \nL 9.078125 54.6875 \nL 18.109375 54.6875 \nL 18.109375 46.1875 \nQ 21.34375 51.125 25.703125 53.5625 \nQ 30.078125 56 35.796875 56 \nQ 45.21875 56 50.046875 50.171875 \nQ 54.890625 44.34375 54.890625 33.015625 \nz\n\" id=\"DejaVuSans-110\"/>\n       <path d=\"M 18.3125 70.21875 \nL 18.3125 54.6875 \nL 36.8125 54.6875 \nL 36.8125 47.703125 \nL 18.3125 47.703125 \nL 18.3125 18.015625 \nQ 18.3125 11.328125 20.140625 9.421875 \nQ 21.96875 7.515625 27.59375 7.515625 \nL 36.8125 7.515625 \nL 36.8125 0 \nL 27.59375 0 \nQ 17.1875 0 13.234375 3.875 \nQ 9.28125 7.765625 9.28125 18.015625 \nL 9.28125 47.703125 \nL 2.6875 47.703125 \nL 2.6875 54.6875 \nL 9.28125 54.6875 \nL 9.28125 70.21875 \nz\n\" id=\"DejaVuSans-116\"/>\n      </defs>\n      <g transform=\"translate(176.228906 254.356563)scale(0.1 -0.1)\">\n       <use xlink:href=\"#DejaVuSans-100\"/>\n       <use x=\"63.476562\" xlink:href=\"#DejaVuSans-105\"/>\n       <use x=\"91.259766\" xlink:href=\"#DejaVuSans-115\"/>\n       <use x=\"143.359375\" xlink:href=\"#DejaVuSans-99\"/>\n       <use x=\"198.339844\" xlink:href=\"#DejaVuSans-111\"/>\n       <use x=\"259.521484\" xlink:href=\"#DejaVuSans-117\"/>\n       <use x=\"322.900391\" xlink:href=\"#DejaVuSans-110\"/>\n       <use x=\"386.279297\" xlink:href=\"#DejaVuSans-116\"/>\n      </g>\n     </g>\n    </g>\n    <g id=\"xtick_3\">\n     <g id=\"line2d_3\">\n      <g>\n       <use style=\"stroke:#000000;stroke-width:0.8;\" x=\"306.204424\" xlink:href=\"#m60d202b0ea\" y=\"239.758125\"/>\n      </g>\n     </g>\n     <g id=\"text_3\">\n      <!-- informational -->\n      <defs>\n       <path d=\"M 37.109375 75.984375 \nL 37.109375 68.5 \nL 28.515625 68.5 \nQ 23.6875 68.5 21.796875 66.546875 \nQ 19.921875 64.59375 19.921875 59.515625 \nL 19.921875 54.6875 \nL 34.71875 54.6875 \nL 34.71875 47.703125 \nL 19.921875 47.703125 \nL 19.921875 0 \nL 10.890625 0 \nL 10.890625 47.703125 \nL 2.296875 47.703125 \nL 2.296875 54.6875 \nL 10.890625 54.6875 \nL 10.890625 58.5 \nQ 10.890625 67.625 15.140625 71.796875 \nQ 19.390625 75.984375 28.609375 75.984375 \nz\n\" id=\"DejaVuSans-102\"/>\n       <path d=\"M 41.109375 46.296875 \nQ 39.59375 47.171875 37.8125 47.578125 \nQ 36.03125 48 33.890625 48 \nQ 26.265625 48 22.1875 43.046875 \nQ 18.109375 38.09375 18.109375 28.8125 \nL 18.109375 0 \nL 9.078125 0 \nL 9.078125 54.6875 \nL 18.109375 54.6875 \nL 18.109375 46.1875 \nQ 20.953125 51.171875 25.484375 53.578125 \nQ 30.03125 56 36.53125 56 \nQ 37.453125 56 38.578125 55.875 \nQ 39.703125 55.765625 41.0625 55.515625 \nz\n\" id=\"DejaVuSans-114\"/>\n       <path d=\"M 52 44.1875 \nQ 55.375 50.25 60.0625 53.125 \nQ 64.75 56 71.09375 56 \nQ 79.640625 56 84.28125 50.015625 \nQ 88.921875 44.046875 88.921875 33.015625 \nL 88.921875 0 \nL 79.890625 0 \nL 79.890625 32.71875 \nQ 79.890625 40.578125 77.09375 44.375 \nQ 74.3125 48.1875 68.609375 48.1875 \nQ 61.625 48.1875 57.5625 43.546875 \nQ 53.515625 38.921875 53.515625 30.90625 \nL 53.515625 0 \nL 44.484375 0 \nL 44.484375 32.71875 \nQ 44.484375 40.625 41.703125 44.40625 \nQ 38.921875 48.1875 33.109375 48.1875 \nQ 26.21875 48.1875 22.15625 43.53125 \nQ 18.109375 38.875 18.109375 30.90625 \nL 18.109375 0 \nL 9.078125 0 \nL 9.078125 54.6875 \nL 18.109375 54.6875 \nL 18.109375 46.1875 \nQ 21.1875 51.21875 25.484375 53.609375 \nQ 29.78125 56 35.6875 56 \nQ 41.65625 56 45.828125 52.96875 \nQ 50 49.953125 52 44.1875 \nz\n\" id=\"DejaVuSans-109\"/>\n       <path d=\"M 34.28125 27.484375 \nQ 23.390625 27.484375 19.1875 25 \nQ 14.984375 22.515625 14.984375 16.5 \nQ 14.984375 11.71875 18.140625 8.90625 \nQ 21.296875 6.109375 26.703125 6.109375 \nQ 34.1875 6.109375 38.703125 11.40625 \nQ 43.21875 16.703125 43.21875 25.484375 \nL 43.21875 27.484375 \nz\nM 52.203125 31.203125 \nL 52.203125 0 \nL 43.21875 0 \nL 43.21875 8.296875 \nQ 40.140625 3.328125 35.546875 0.953125 \nQ 30.953125 -1.421875 24.3125 -1.421875 \nQ 15.921875 -1.421875 10.953125 3.296875 \nQ 6 8.015625 6 15.921875 \nQ 6 25.140625 12.171875 29.828125 \nQ 18.359375 34.515625 30.609375 34.515625 \nL 43.21875 34.515625 \nL 43.21875 35.40625 \nQ 43.21875 41.609375 39.140625 45 \nQ 35.0625 48.390625 27.6875 48.390625 \nQ 23 48.390625 18.546875 47.265625 \nQ 14.109375 46.140625 10.015625 43.890625 \nL 10.015625 52.203125 \nQ 14.9375 54.109375 19.578125 55.046875 \nQ 24.21875 56 28.609375 56 \nQ 40.484375 56 46.34375 49.84375 \nQ 52.203125 43.703125 52.203125 31.203125 \nz\n\" id=\"DejaVuSans-97\"/>\n       <path d=\"M 9.421875 75.984375 \nL 18.40625 75.984375 \nL 18.40625 0 \nL 9.421875 0 \nz\n\" id=\"DejaVuSans-108\"/>\n      </defs>\n      <g transform=\"translate(272.807549 254.356563)scale(0.1 -0.1)\">\n       <use xlink:href=\"#DejaVuSans-105\"/>\n       <use x=\"27.783203\" xlink:href=\"#DejaVuSans-110\"/>\n       <use x=\"91.162109\" xlink:href=\"#DejaVuSans-102\"/>\n       <use x=\"126.367188\" xlink:href=\"#DejaVuSans-111\"/>\n       <use x=\"187.548828\" xlink:href=\"#DejaVuSans-114\"/>\n       <use x=\"228.646484\" xlink:href=\"#DejaVuSans-109\"/>\n       <use x=\"326.058594\" xlink:href=\"#DejaVuSans-97\"/>\n       <use x=\"387.337891\" xlink:href=\"#DejaVuSans-116\"/>\n       <use x=\"426.546875\" xlink:href=\"#DejaVuSans-105\"/>\n       <use x=\"454.330078\" xlink:href=\"#DejaVuSans-111\"/>\n       <use x=\"515.511719\" xlink:href=\"#DejaVuSans-110\"/>\n       <use x=\"578.890625\" xlink:href=\"#DejaVuSans-97\"/>\n       <use x=\"640.169922\" xlink:href=\"#DejaVuSans-108\"/>\n      </g>\n     </g>\n    </g>\n   </g>\n   <g id=\"matplotlib.axis_2\">\n    <g id=\"ytick_1\">\n     <g id=\"line2d_4\">\n      <defs>\n       <path d=\"M 0 0 \nL -3.5 0 \n\" id=\"mf176ce7659\" style=\"stroke:#000000;stroke-width:0.8;\"/>\n      </defs>\n      <g>\n       <use style=\"stroke:#000000;stroke-width:0.8;\" x=\"30.103125\" xlink:href=\"#mf176ce7659\" y=\"239.758125\"/>\n      </g>\n     </g>\n     <g id=\"text_4\">\n      <!-- 0.0 -->\n      <defs>\n       <path d=\"M 31.78125 66.40625 \nQ 24.171875 66.40625 20.328125 58.90625 \nQ 16.5 51.421875 16.5 36.375 \nQ 16.5 21.390625 20.328125 13.890625 \nQ 24.171875 6.390625 31.78125 6.390625 \nQ 39.453125 6.390625 43.28125 13.890625 \nQ 47.125 21.390625 47.125 36.375 \nQ 47.125 51.421875 43.28125 58.90625 \nQ 39.453125 66.40625 31.78125 66.40625 \nz\nM 31.78125 74.21875 \nQ 44.046875 74.21875 50.515625 64.515625 \nQ 56.984375 54.828125 56.984375 36.375 \nQ 56.984375 17.96875 50.515625 8.265625 \nQ 44.046875 -1.421875 31.78125 -1.421875 \nQ 19.53125 -1.421875 13.0625 8.265625 \nQ 6.59375 17.96875 6.59375 36.375 \nQ 6.59375 54.828125 13.0625 64.515625 \nQ 19.53125 74.21875 31.78125 74.21875 \nz\n\" id=\"DejaVuSans-48\"/>\n       <path d=\"M 10.6875 12.40625 \nL 21 12.40625 \nL 21 0 \nL 10.6875 0 \nz\n\" id=\"DejaVuSans-46\"/>\n      </defs>\n      <g transform=\"translate(7.2 243.557344)scale(0.1 -0.1)\">\n       <use xlink:href=\"#DejaVuSans-48\"/>\n       <use x=\"63.623047\" xlink:href=\"#DejaVuSans-46\"/>\n       <use x=\"95.410156\" xlink:href=\"#DejaVuSans-48\"/>\n      </g>\n     </g>\n    </g>\n    <g id=\"ytick_2\">\n     <g id=\"line2d_5\">\n      <g>\n       <use style=\"stroke:#000000;stroke-width:0.8;\" x=\"30.103125\" xlink:href=\"#mf176ce7659\" y=\"213.872411\"/>\n      </g>\n     </g>\n     <g id=\"text_5\">\n      <!-- 0.5 -->\n      <defs>\n       <path d=\"M 10.796875 72.90625 \nL 49.515625 72.90625 \nL 49.515625 64.59375 \nL 19.828125 64.59375 \nL 19.828125 46.734375 \nQ 21.96875 47.46875 24.109375 47.828125 \nQ 26.265625 48.1875 28.421875 48.1875 \nQ 40.625 48.1875 47.75 41.5 \nQ 54.890625 34.8125 54.890625 23.390625 \nQ 54.890625 11.625 47.5625 5.09375 \nQ 40.234375 -1.421875 26.90625 -1.421875 \nQ 22.3125 -1.421875 17.546875 -0.640625 \nQ 12.796875 0.140625 7.71875 1.703125 \nL 7.71875 11.625 \nQ 12.109375 9.234375 16.796875 8.0625 \nQ 21.484375 6.890625 26.703125 6.890625 \nQ 35.15625 6.890625 40.078125 11.328125 \nQ 45.015625 15.765625 45.015625 23.390625 \nQ 45.015625 31 40.078125 35.4375 \nQ 35.15625 39.890625 26.703125 39.890625 \nQ 22.75 39.890625 18.8125 39.015625 \nQ 14.890625 38.140625 10.796875 36.28125 \nz\n\" id=\"DejaVuSans-53\"/>\n      </defs>\n      <g transform=\"translate(7.2 217.671629)scale(0.1 -0.1)\">\n       <use xlink:href=\"#DejaVuSans-48\"/>\n       <use x=\"63.623047\" xlink:href=\"#DejaVuSans-46\"/>\n       <use x=\"95.410156\" xlink:href=\"#DejaVuSans-53\"/>\n      </g>\n     </g>\n    </g>\n    <g id=\"ytick_3\">\n     <g id=\"line2d_6\">\n      <g>\n       <use style=\"stroke:#000000;stroke-width:0.8;\" x=\"30.103125\" xlink:href=\"#mf176ce7659\" y=\"187.986696\"/>\n      </g>\n     </g>\n     <g id=\"text_6\">\n      <!-- 1.0 -->\n      <defs>\n       <path d=\"M 12.40625 8.296875 \nL 28.515625 8.296875 \nL 28.515625 63.921875 \nL 10.984375 60.40625 \nL 10.984375 69.390625 \nL 28.421875 72.90625 \nL 38.28125 72.90625 \nL 38.28125 8.296875 \nL 54.390625 8.296875 \nL 54.390625 0 \nL 12.40625 0 \nz\n\" id=\"DejaVuSans-49\"/>\n      </defs>\n      <g transform=\"translate(7.2 191.785915)scale(0.1 -0.1)\">\n       <use xlink:href=\"#DejaVuSans-49\"/>\n       <use x=\"63.623047\" xlink:href=\"#DejaVuSans-46\"/>\n       <use x=\"95.410156\" xlink:href=\"#DejaVuSans-48\"/>\n      </g>\n     </g>\n    </g>\n    <g id=\"ytick_4\">\n     <g id=\"line2d_7\">\n      <g>\n       <use style=\"stroke:#000000;stroke-width:0.8;\" x=\"30.103125\" xlink:href=\"#mf176ce7659\" y=\"162.100982\"/>\n      </g>\n     </g>\n     <g id=\"text_7\">\n      <!-- 1.5 -->\n      <g transform=\"translate(7.2 165.900201)scale(0.1 -0.1)\">\n       <use xlink:href=\"#DejaVuSans-49\"/>\n       <use x=\"63.623047\" xlink:href=\"#DejaVuSans-46\"/>\n       <use x=\"95.410156\" xlink:href=\"#DejaVuSans-53\"/>\n      </g>\n     </g>\n    </g>\n    <g id=\"ytick_5\">\n     <g id=\"line2d_8\">\n      <g>\n       <use style=\"stroke:#000000;stroke-width:0.8;\" x=\"30.103125\" xlink:href=\"#mf176ce7659\" y=\"136.215268\"/>\n      </g>\n     </g>\n     <g id=\"text_8\">\n      <!-- 2.0 -->\n      <defs>\n       <path d=\"M 19.1875 8.296875 \nL 53.609375 8.296875 \nL 53.609375 0 \nL 7.328125 0 \nL 7.328125 8.296875 \nQ 12.9375 14.109375 22.625 23.890625 \nQ 32.328125 33.6875 34.8125 36.53125 \nQ 39.546875 41.84375 41.421875 45.53125 \nQ 43.3125 49.21875 43.3125 52.78125 \nQ 43.3125 58.59375 39.234375 62.25 \nQ 35.15625 65.921875 28.609375 65.921875 \nQ 23.96875 65.921875 18.8125 64.3125 \nQ 13.671875 62.703125 7.8125 59.421875 \nL 7.8125 69.390625 \nQ 13.765625 71.78125 18.9375 73 \nQ 24.125 74.21875 28.421875 74.21875 \nQ 39.75 74.21875 46.484375 68.546875 \nQ 53.21875 62.890625 53.21875 53.421875 \nQ 53.21875 48.921875 51.53125 44.890625 \nQ 49.859375 40.875 45.40625 35.40625 \nQ 44.1875 33.984375 37.640625 27.21875 \nQ 31.109375 20.453125 19.1875 8.296875 \nz\n\" id=\"DejaVuSans-50\"/>\n      </defs>\n      <g transform=\"translate(7.2 140.014487)scale(0.1 -0.1)\">\n       <use xlink:href=\"#DejaVuSans-50\"/>\n       <use x=\"63.623047\" xlink:href=\"#DejaVuSans-46\"/>\n       <use x=\"95.410156\" xlink:href=\"#DejaVuSans-48\"/>\n      </g>\n     </g>\n    </g>\n    <g id=\"ytick_6\">\n     <g id=\"line2d_9\">\n      <g>\n       <use style=\"stroke:#000000;stroke-width:0.8;\" x=\"30.103125\" xlink:href=\"#mf176ce7659\" y=\"110.329554\"/>\n      </g>\n     </g>\n     <g id=\"text_9\">\n      <!-- 2.5 -->\n      <g transform=\"translate(7.2 114.128772)scale(0.1 -0.1)\">\n       <use xlink:href=\"#DejaVuSans-50\"/>\n       <use x=\"63.623047\" xlink:href=\"#DejaVuSans-46\"/>\n       <use x=\"95.410156\" xlink:href=\"#DejaVuSans-53\"/>\n      </g>\n     </g>\n    </g>\n    <g id=\"ytick_7\">\n     <g id=\"line2d_10\">\n      <g>\n       <use style=\"stroke:#000000;stroke-width:0.8;\" x=\"30.103125\" xlink:href=\"#mf176ce7659\" y=\"84.443839\"/>\n      </g>\n     </g>\n     <g id=\"text_10\">\n      <!-- 3.0 -->\n      <defs>\n       <path d=\"M 40.578125 39.3125 \nQ 47.65625 37.796875 51.625 33 \nQ 55.609375 28.21875 55.609375 21.1875 \nQ 55.609375 10.40625 48.1875 4.484375 \nQ 40.765625 -1.421875 27.09375 -1.421875 \nQ 22.515625 -1.421875 17.65625 -0.515625 \nQ 12.796875 0.390625 7.625 2.203125 \nL 7.625 11.71875 \nQ 11.71875 9.328125 16.59375 8.109375 \nQ 21.484375 6.890625 26.8125 6.890625 \nQ 36.078125 6.890625 40.9375 10.546875 \nQ 45.796875 14.203125 45.796875 21.1875 \nQ 45.796875 27.640625 41.28125 31.265625 \nQ 36.765625 34.90625 28.71875 34.90625 \nL 20.21875 34.90625 \nL 20.21875 43.015625 \nL 29.109375 43.015625 \nQ 36.375 43.015625 40.234375 45.921875 \nQ 44.09375 48.828125 44.09375 54.296875 \nQ 44.09375 59.90625 40.109375 62.90625 \nQ 36.140625 65.921875 28.71875 65.921875 \nQ 24.65625 65.921875 20.015625 65.03125 \nQ 15.375 64.15625 9.8125 62.3125 \nL 9.8125 71.09375 \nQ 15.4375 72.65625 20.34375 73.4375 \nQ 25.25 74.21875 29.59375 74.21875 \nQ 40.828125 74.21875 47.359375 69.109375 \nQ 53.90625 64.015625 53.90625 55.328125 \nQ 53.90625 49.265625 50.4375 45.09375 \nQ 46.96875 40.921875 40.578125 39.3125 \nz\n\" id=\"DejaVuSans-51\"/>\n      </defs>\n      <g transform=\"translate(7.2 88.243058)scale(0.1 -0.1)\">\n       <use xlink:href=\"#DejaVuSans-51\"/>\n       <use x=\"63.623047\" xlink:href=\"#DejaVuSans-46\"/>\n       <use x=\"95.410156\" xlink:href=\"#DejaVuSans-48\"/>\n      </g>\n     </g>\n    </g>\n    <g id=\"ytick_8\">\n     <g id=\"line2d_11\">\n      <g>\n       <use style=\"stroke:#000000;stroke-width:0.8;\" x=\"30.103125\" xlink:href=\"#mf176ce7659\" y=\"58.558125\"/>\n      </g>\n     </g>\n     <g id=\"text_11\">\n      <!-- 3.5 -->\n      <g transform=\"translate(7.2 62.357344)scale(0.1 -0.1)\">\n       <use xlink:href=\"#DejaVuSans-51\"/>\n       <use x=\"63.623047\" xlink:href=\"#DejaVuSans-46\"/>\n       <use x=\"95.410156\" xlink:href=\"#DejaVuSans-53\"/>\n      </g>\n     </g>\n    </g>\n    <g id=\"ytick_9\">\n     <g id=\"line2d_12\">\n      <g>\n       <use style=\"stroke:#000000;stroke-width:0.8;\" x=\"30.103125\" xlink:href=\"#mf176ce7659\" y=\"32.672411\"/>\n      </g>\n     </g>\n     <g id=\"text_12\">\n      <!-- 4.0 -->\n      <defs>\n       <path d=\"M 37.796875 64.3125 \nL 12.890625 25.390625 \nL 37.796875 25.390625 \nz\nM 35.203125 72.90625 \nL 47.609375 72.90625 \nL 47.609375 25.390625 \nL 58.015625 25.390625 \nL 58.015625 17.1875 \nL 47.609375 17.1875 \nL 47.609375 0 \nL 37.796875 0 \nL 37.796875 17.1875 \nL 4.890625 17.1875 \nL 4.890625 26.703125 \nz\n\" id=\"DejaVuSans-52\"/>\n      </defs>\n      <g transform=\"translate(7.2 36.471629)scale(0.1 -0.1)\">\n       <use xlink:href=\"#DejaVuSans-52\"/>\n       <use x=\"63.623047\" xlink:href=\"#DejaVuSans-46\"/>\n       <use x=\"95.410156\" xlink:href=\"#DejaVuSans-48\"/>\n      </g>\n     </g>\n    </g>\n   </g>\n   <g id=\"patch_6\">\n    <path d=\"M 30.103125 239.758125 \nL 30.103125 22.318125 \n\" style=\"fill:none;stroke:#000000;stroke-linecap:square;stroke-linejoin:miter;stroke-width:0.8;\"/>\n   </g>\n   <g id=\"patch_7\">\n    <path d=\"M 364.903125 239.758125 \nL 364.903125 22.318125 \n\" style=\"fill:none;stroke:#000000;stroke-linecap:square;stroke-linejoin:miter;stroke-width:0.8;\"/>\n   </g>\n   <g id=\"patch_8\">\n    <path d=\"M 30.103125 239.758125 \nL 364.903125 239.758125 \n\" style=\"fill:none;stroke:#000000;stroke-linecap:square;stroke-linejoin:miter;stroke-width:0.8;\"/>\n   </g>\n   <g id=\"patch_9\">\n    <path d=\"M 30.103125 22.318125 \nL 364.903125 22.318125 \n\" style=\"fill:none;stroke:#000000;stroke-linecap:square;stroke-linejoin:miter;stroke-width:0.8;\"/>\n   </g>\n   <g id=\"text_13\">\n    <!-- Offer Type Distribution -->\n    <defs>\n     <path d=\"M 39.40625 66.21875 \nQ 28.65625 66.21875 22.328125 58.203125 \nQ 16.015625 50.203125 16.015625 36.375 \nQ 16.015625 22.609375 22.328125 14.59375 \nQ 28.65625 6.59375 39.40625 6.59375 \nQ 50.140625 6.59375 56.421875 14.59375 \nQ 62.703125 22.609375 62.703125 36.375 \nQ 62.703125 50.203125 56.421875 58.203125 \nQ 50.140625 66.21875 39.40625 66.21875 \nz\nM 39.40625 74.21875 \nQ 54.734375 74.21875 63.90625 63.9375 \nQ 73.09375 53.65625 73.09375 36.375 \nQ 73.09375 19.140625 63.90625 8.859375 \nQ 54.734375 -1.421875 39.40625 -1.421875 \nQ 24.03125 -1.421875 14.8125 8.828125 \nQ 5.609375 19.09375 5.609375 36.375 \nQ 5.609375 53.65625 14.8125 63.9375 \nQ 24.03125 74.21875 39.40625 74.21875 \nz\n\" id=\"DejaVuSans-79\"/>\n     <path d=\"M 56.203125 29.59375 \nL 56.203125 25.203125 \nL 14.890625 25.203125 \nQ 15.484375 15.921875 20.484375 11.0625 \nQ 25.484375 6.203125 34.421875 6.203125 \nQ 39.59375 6.203125 44.453125 7.46875 \nQ 49.3125 8.734375 54.109375 11.28125 \nL 54.109375 2.78125 \nQ 49.265625 0.734375 44.1875 -0.34375 \nQ 39.109375 -1.421875 33.890625 -1.421875 \nQ 20.796875 -1.421875 13.15625 6.1875 \nQ 5.515625 13.8125 5.515625 26.8125 \nQ 5.515625 40.234375 12.765625 48.109375 \nQ 20.015625 56 32.328125 56 \nQ 43.359375 56 49.78125 48.890625 \nQ 56.203125 41.796875 56.203125 29.59375 \nz\nM 47.21875 32.234375 \nQ 47.125 39.59375 43.09375 43.984375 \nQ 39.0625 48.390625 32.421875 48.390625 \nQ 24.90625 48.390625 20.390625 44.140625 \nQ 15.875 39.890625 15.1875 32.171875 \nz\n\" id=\"DejaVuSans-101\"/>\n     <path id=\"DejaVuSans-32\"/>\n     <path d=\"M -0.296875 72.90625 \nL 61.375 72.90625 \nL 61.375 64.59375 \nL 35.5 64.59375 \nL 35.5 0 \nL 25.59375 0 \nL 25.59375 64.59375 \nL -0.296875 64.59375 \nz\n\" id=\"DejaVuSans-84\"/>\n     <path d=\"M 32.171875 -5.078125 \nQ 28.375 -14.84375 24.75 -17.8125 \nQ 21.140625 -20.796875 15.09375 -20.796875 \nL 7.90625 -20.796875 \nL 7.90625 -13.28125 \nL 13.1875 -13.28125 \nQ 16.890625 -13.28125 18.9375 -11.515625 \nQ 21 -9.765625 23.484375 -3.21875 \nL 25.09375 0.875 \nL 2.984375 54.6875 \nL 12.5 54.6875 \nL 29.59375 11.921875 \nL 46.6875 54.6875 \nL 56.203125 54.6875 \nz\n\" id=\"DejaVuSans-121\"/>\n     <path d=\"M 18.109375 8.203125 \nL 18.109375 -20.796875 \nL 9.078125 -20.796875 \nL 9.078125 54.6875 \nL 18.109375 54.6875 \nL 18.109375 46.390625 \nQ 20.953125 51.265625 25.265625 53.625 \nQ 29.59375 56 35.59375 56 \nQ 45.5625 56 51.78125 48.09375 \nQ 58.015625 40.1875 58.015625 27.296875 \nQ 58.015625 14.40625 51.78125 6.484375 \nQ 45.5625 -1.421875 35.59375 -1.421875 \nQ 29.59375 -1.421875 25.265625 0.953125 \nQ 20.953125 3.328125 18.109375 8.203125 \nz\nM 48.6875 27.296875 \nQ 48.6875 37.203125 44.609375 42.84375 \nQ 40.53125 48.484375 33.40625 48.484375 \nQ 26.265625 48.484375 22.1875 42.84375 \nQ 18.109375 37.203125 18.109375 27.296875 \nQ 18.109375 17.390625 22.1875 11.75 \nQ 26.265625 6.109375 33.40625 6.109375 \nQ 40.53125 6.109375 44.609375 11.75 \nQ 48.6875 17.390625 48.6875 27.296875 \nz\n\" id=\"DejaVuSans-112\"/>\n     <path d=\"M 19.671875 64.796875 \nL 19.671875 8.109375 \nL 31.59375 8.109375 \nQ 46.6875 8.109375 53.6875 14.9375 \nQ 60.6875 21.78125 60.6875 36.53125 \nQ 60.6875 51.171875 53.6875 57.984375 \nQ 46.6875 64.796875 31.59375 64.796875 \nz\nM 9.8125 72.90625 \nL 30.078125 72.90625 \nQ 51.265625 72.90625 61.171875 64.09375 \nQ 71.09375 55.28125 71.09375 36.53125 \nQ 71.09375 17.671875 61.125 8.828125 \nQ 51.171875 0 30.078125 0 \nL 9.8125 0 \nz\n\" id=\"DejaVuSans-68\"/>\n    </defs>\n    <g transform=\"translate(128.878125 16.318125)scale(0.12 -0.12)\">\n     <use xlink:href=\"#DejaVuSans-79\"/>\n     <use x=\"78.710938\" xlink:href=\"#DejaVuSans-102\"/>\n     <use x=\"113.916016\" xlink:href=\"#DejaVuSans-102\"/>\n     <use x=\"149.121094\" xlink:href=\"#DejaVuSans-101\"/>\n     <use x=\"210.644531\" xlink:href=\"#DejaVuSans-114\"/>\n     <use x=\"251.757812\" xlink:href=\"#DejaVuSans-32\"/>\n     <use x=\"283.544922\" xlink:href=\"#DejaVuSans-84\"/>\n     <use x=\"344.394531\" xlink:href=\"#DejaVuSans-121\"/>\n     <use x=\"403.574219\" xlink:href=\"#DejaVuSans-112\"/>\n     <use x=\"467.050781\" xlink:href=\"#DejaVuSans-101\"/>\n     <use x=\"528.574219\" xlink:href=\"#DejaVuSans-32\"/>\n     <use x=\"560.361328\" xlink:href=\"#DejaVuSans-68\"/>\n     <use x=\"637.363281\" xlink:href=\"#DejaVuSans-105\"/>\n     <use x=\"665.146484\" xlink:href=\"#DejaVuSans-115\"/>\n     <use x=\"717.246094\" xlink:href=\"#DejaVuSans-116\"/>\n     <use x=\"756.455078\" xlink:href=\"#DejaVuSans-114\"/>\n     <use x=\"797.568359\" xlink:href=\"#DejaVuSans-105\"/>\n     <use x=\"825.351562\" xlink:href=\"#DejaVuSans-98\"/>\n     <use x=\"888.828125\" xlink:href=\"#DejaVuSans-117\"/>\n     <use x=\"952.207031\" xlink:href=\"#DejaVuSans-116\"/>\n     <use x=\"991.416016\" xlink:href=\"#DejaVuSans-105\"/>\n     <use x=\"1019.199219\" xlink:href=\"#DejaVuSans-111\"/>\n     <use x=\"1080.380859\" xlink:href=\"#DejaVuSans-110\"/>\n    </g>\n   </g>\n  </g>\n </g>\n <defs>\n  <clipPath id=\"p8c1914660d\">\n   <rect height=\"217.44\" width=\"334.8\" x=\"30.103125\" y=\"22.318125\"/>\n  </clipPath>\n </defs>\n</svg>\n",
      "image/png": "[encoded data removed]"
     },
     "metadata": {
      "needs_background": "light"
     }
    }
   ],
   "source": [
    "plt.bar(['bogo', 'discount', 'informational'], \n",
    "        portfolio.groupby('offer_type').id.count())\n",
    "\n",
    "plt.title('Offer Type Distribution')"
   ]
  },
  {
   "cell_type": "markdown",
   "metadata": {},
   "source": [
    "### 2. Profiles\n",
    "\n",
    "#### Basic Infos:"
   ]
  },
  {
   "cell_type": "code",
   "execution_count": 6,
   "metadata": {
    "pycharm": {
     "name": "#%%\n"
    }
   },
   "outputs": [
    {
     "output_type": "execute_result",
     "data": {
      "text/plain": "  gender  age                                id  became_member_on    income\n0   None  118  68be06ca386d4c31939f3a4f0e3dd783          20170212       NaN\n1      F   55  0610b486422d4921ae7d2bf64640c50b          20170715  112000.0\n2   None  118  38fe809add3b4fcf9315a9694bb96ff5          20180712       NaN\n3      F   75  78afa995795e4d85b5d9ceeca43f5fef          20170509  100000.0\n4   None  118  a03223e636434f42ac4c3df47e8bac43          20170804       NaN",
      "text/html": "<div>\n<style scoped>\n    .dataframe tbody tr th:only-of-type {\n        vertical-align: middle;\n    }\n\n    .dataframe tbody tr th {\n        vertical-align: top;\n    }\n\n    .dataframe thead th {\n        text-align: right;\n    }\n</style>\n<table border=\"1\" class=\"dataframe\">\n  <thead>\n    <tr style=\"text-align: right;\">\n      <th></th>\n      <th>gender</th>\n      <th>age</th>\n      <th>id</th>\n      <th>became_member_on</th>\n      <th>income</th>\n    </tr>\n  </thead>\n  <tbody>\n    <tr>\n      <th>0</th>\n      <td>None</td>\n      <td>118</td>\n      <td>68be06ca386d4c31939f3a4f0e3dd783</td>\n      <td>20170212</td>\n      <td>NaN</td>\n    </tr>\n    <tr>\n      <th>1</th>\n      <td>F</td>\n      <td>55</td>\n      <td>0610b486422d4921ae7d2bf64640c50b</td>\n      <td>20170715</td>\n      <td>112000.0</td>\n    </tr>\n    <tr>\n      <th>2</th>\n      <td>None</td>\n      <td>118</td>\n      <td>38fe809add3b4fcf9315a9694bb96ff5</td>\n      <td>20180712</td>\n      <td>NaN</td>\n    </tr>\n    <tr>\n      <th>3</th>\n      <td>F</td>\n      <td>75</td>\n      <td>78afa995795e4d85b5d9ceeca43f5fef</td>\n      <td>20170509</td>\n      <td>100000.0</td>\n    </tr>\n    <tr>\n      <th>4</th>\n      <td>None</td>\n      <td>118</td>\n      <td>a03223e636434f42ac4c3df47e8bac43</td>\n      <td>20170804</td>\n      <td>NaN</td>\n    </tr>\n  </tbody>\n</table>\n</div>"
     },
     "metadata": {},
     "execution_count": 6
    }
   ],
   "source": [
    "profile.head()"
   ]
  },
  {
   "cell_type": "markdown",
   "metadata": {},
   "source": [
    "**NOTE:** from the `head` we can already see that there are missing values in `income` and `gender`, and `118` seems to represent missing ages."
   ]
  },
  {
   "cell_type": "code",
   "execution_count": 7,
   "metadata": {
    "pycharm": {
     "name": "#%%\n"
    }
   },
   "outputs": [
    {
     "output_type": "stream",
     "name": "stdout",
     "text": "The shape of Profile data is (17000, 5)\nNull values statistics is: \ngender              2175\nage                    0\nid                     0\nbecame_member_on       0\nincome              2175\ndtype: int64\nThere are 17000 unique ids.\n"
    }
   ],
   "source": [
    "print(f'The shape of Profile data is {profile.shape}')\n",
    "print(f'Null values statistics is: \\n{profile.isnull().sum()}')\n",
    "print(f'There are {profile.id.nunique()} unique ids.')"
   ]
  },
  {
   "cell_type": "code",
   "execution_count": 8,
   "metadata": {
    "pycharm": {
     "name": "#%%\n"
    }
   },
   "outputs": [
    {
     "output_type": "stream",
     "name": "stdout",
     "text": "The shape of the subset is (2175, 5)\n\nNull values statistics is: \ngender              2175\nage                    0\nid                     0\nbecame_member_on       0\nincome              2175\ndtype: int64\n"
    },
    {
     "output_type": "execute_result",
     "data": {
      "text/plain": "  gender  age                                id  became_member_on  income\n0   None  118  68be06ca386d4c31939f3a4f0e3dd783          20170212     NaN\n2   None  118  38fe809add3b4fcf9315a9694bb96ff5          20180712     NaN\n4   None  118  a03223e636434f42ac4c3df47e8bac43          20170804     NaN\n6   None  118  8ec6ce2a7e7949b1bf142def7d0e0586          20170925     NaN\n7   None  118  68617ca6246f4fbc85e91a2a49552598          20171002     NaN",
      "text/html": "<div>\n<style scoped>\n    .dataframe tbody tr th:only-of-type {\n        vertical-align: middle;\n    }\n\n    .dataframe tbody tr th {\n        vertical-align: top;\n    }\n\n    .dataframe thead th {\n        text-align: right;\n    }\n</style>\n<table border=\"1\" class=\"dataframe\">\n  <thead>\n    <tr style=\"text-align: right;\">\n      <th></th>\n      <th>gender</th>\n      <th>age</th>\n      <th>id</th>\n      <th>became_member_on</th>\n      <th>income</th>\n    </tr>\n  </thead>\n  <tbody>\n    <tr>\n      <th>0</th>\n      <td>None</td>\n      <td>118</td>\n      <td>68be06ca386d4c31939f3a4f0e3dd783</td>\n      <td>20170212</td>\n      <td>NaN</td>\n    </tr>\n    <tr>\n      <th>2</th>\n      <td>None</td>\n      <td>118</td>\n      <td>38fe809add3b4fcf9315a9694bb96ff5</td>\n      <td>20180712</td>\n      <td>NaN</td>\n    </tr>\n    <tr>\n      <th>4</th>\n      <td>None</td>\n      <td>118</td>\n      <td>a03223e636434f42ac4c3df47e8bac43</td>\n      <td>20170804</td>\n      <td>NaN</td>\n    </tr>\n    <tr>\n      <th>6</th>\n      <td>None</td>\n      <td>118</td>\n      <td>8ec6ce2a7e7949b1bf142def7d0e0586</td>\n      <td>20170925</td>\n      <td>NaN</td>\n    </tr>\n    <tr>\n      <th>7</th>\n      <td>None</td>\n      <td>118</td>\n      <td>68617ca6246f4fbc85e91a2a49552598</td>\n      <td>20171002</td>\n      <td>NaN</td>\n    </tr>\n  </tbody>\n</table>\n</div>"
     },
     "metadata": {},
     "execution_count": 8
    }
   ],
   "source": [
    "profile_no_age = profile[profile.age==118]\n",
    "print(f'The shape of the subset is {profile_no_age.shape}\\n')\n",
    "print(f'Null values statistics is: \\n{profile_no_age.isnull().sum()}')\n",
    "profile_no_age.head()"
   ]
  },
  {
   "cell_type": "markdown",
   "metadata": {},
   "source": [
    "From above we can see that rows without `age` also miss `income` and `gender`, hence, these rows will be dropped in later operations. "
   ]
  },
  {
   "cell_type": "markdown",
   "metadata": {},
   "source": [
    "#### Distributions:"
   ]
  },
  {
   "cell_type": "code",
   "execution_count": 9,
   "metadata": {},
   "outputs": [],
   "source": [
    "profile['mbr_since'] = pd.to_datetime(profile['became_member_on'],\n",
    "                                      format='%Y%m%d')\n",
    "latest_member_date = profile['mbr_since'].max()\n",
    "\n",
    "profile['mbr_shp_len'] = latest_member_date - profile['mbr_since']"
   ]
  },
  {
   "cell_type": "code",
   "execution_count": 10,
   "metadata": {},
   "outputs": [
    {
     "output_type": "execute_result",
     "data": {
      "text/plain": "Text(0.5, 1.0, 'Membership Length Distribution in Years')"
     },
     "metadata": {},
     "execution_count": 10
    },
    {
     "output_type": "display_data",
     "data": {
      "text/plain": "<Figure size 432x288 with 1 Axes>",
      "image/svg+xml": "<?xml version=\"1.0\" encoding=\"utf-8\" standalone=\"no\"?>\n<!DOCTYPE svg PUBLIC \"-//W3C//DTD SVG 1.1//EN\"\n  \"http://www.w3.org/Graphics/SVG/1.1/DTD/svg11.dtd\">\n<!-- Created with matplotlib (https://matplotlib.org/) -->\n<svg height=\"263.63625pt\" version=\"1.1\" viewBox=\"0 0 381.65 263.63625\" width=\"381.65pt\" xmlns=\"http://www.w3.org/2000/svg\" xmlns:xlink=\"http://www.w3.org/1999/xlink\">\n <defs>\n  <style type=\"text/css\">\n*{stroke-linecap:butt;stroke-linejoin:round;}\n  </style>\n </defs>\n <g id=\"figure_1\">\n  <g id=\"patch_1\">\n   <path d=\"M -0 263.63625 \nL 381.65 263.63625 \nL 381.65 0 \nL -0 0 \nz\n\" style=\"fill:none;\"/>\n  </g>\n  <g id=\"axes_1\">\n   <g id=\"patch_2\">\n    <path d=\"M 39.65 239.758125 \nL 374.45 239.758125 \nL 374.45 22.318125 \nL 39.65 22.318125 \nz\n\" style=\"fill:#ffffff;\"/>\n   </g>\n   <g id=\"patch_3\">\n    <path clip-path=\"url(#p0e6c53ea6c)\" d=\"M 54.868182 239.758125 \nL 130.959091 239.758125 \nL 130.959091 32.672411 \nL 54.868182 32.672411 \nz\n\" style=\"fill:#1f77b4;\"/>\n   </g>\n   <g id=\"patch_4\">\n    <path clip-path=\"url(#p0e6c53ea6c)\" d=\"M 130.959091 239.758125 \nL 207.05 239.758125 \nL 207.05 157.480445 \nL 130.959091 157.480445 \nz\n\" style=\"fill:#1f77b4;\"/>\n   </g>\n   <g id=\"patch_5\">\n    <path clip-path=\"url(#p0e6c53ea6c)\" d=\"M 207.05 239.758125 \nL 283.140909 239.758125 \nL 283.140909 157.623164 \nL 207.05 157.623164 \nz\n\" style=\"fill:#1f77b4;\"/>\n   </g>\n   <g id=\"patch_6\">\n    <path clip-path=\"url(#p0e6c53ea6c)\" d=\"M 283.140909 239.758125 \nL 359.231818 239.758125 \nL 359.231818 206.885111 \nL 283.140909 206.885111 \nz\n\" style=\"fill:#1f77b4;\"/>\n   </g>\n   <g id=\"matplotlib.axis_1\">\n    <g id=\"xtick_1\">\n     <g id=\"line2d_1\">\n      <path clip-path=\"url(#p0e6c53ea6c)\" d=\"M 54.868182 239.758125 \nL 54.868182 22.318125 \n\" style=\"fill:none;stroke:#b0b0b0;stroke-linecap:square;stroke-width:0.8;\"/>\n     </g>\n     <g id=\"line2d_2\">\n      <defs>\n       <path d=\"M 0 0 \nL 0 3.5 \n\" id=\"m312344a6d5\" style=\"stroke:#000000;stroke-width:0.8;\"/>\n      </defs>\n      <g>\n       <use style=\"stroke:#000000;stroke-width:0.8;\" x=\"54.868182\" xlink:href=\"#m312344a6d5\" y=\"239.758125\"/>\n      </g>\n     </g>\n     <g id=\"text_1\">\n      <!-- 0.0 -->\n      <defs>\n       <path d=\"M 31.78125 66.40625 \nQ 24.171875 66.40625 20.328125 58.90625 \nQ 16.5 51.421875 16.5 36.375 \nQ 16.5 21.390625 20.328125 13.890625 \nQ 24.171875 6.390625 31.78125 6.390625 \nQ 39.453125 6.390625 43.28125 13.890625 \nQ 47.125 21.390625 47.125 36.375 \nQ 47.125 51.421875 43.28125 58.90625 \nQ 39.453125 66.40625 31.78125 66.40625 \nz\nM 31.78125 74.21875 \nQ 44.046875 74.21875 50.515625 64.515625 \nQ 56.984375 54.828125 56.984375 36.375 \nQ 56.984375 17.96875 50.515625 8.265625 \nQ 44.046875 -1.421875 31.78125 -1.421875 \nQ 19.53125 -1.421875 13.0625 8.265625 \nQ 6.59375 17.96875 6.59375 36.375 \nQ 6.59375 54.828125 13.0625 64.515625 \nQ 19.53125 74.21875 31.78125 74.21875 \nz\n\" id=\"DejaVuSans-48\"/>\n       <path d=\"M 10.6875 12.40625 \nL 21 12.40625 \nL 21 0 \nL 10.6875 0 \nz\n\" id=\"DejaVuSans-46\"/>\n      </defs>\n      <g transform=\"translate(46.916619 254.356563)scale(0.1 -0.1)\">\n       <use xlink:href=\"#DejaVuSans-48\"/>\n       <use x=\"63.623047\" xlink:href=\"#DejaVuSans-46\"/>\n       <use x=\"95.410156\" xlink:href=\"#DejaVuSans-48\"/>\n      </g>\n     </g>\n    </g>\n    <g id=\"xtick_2\">\n     <g id=\"line2d_3\">\n      <path clip-path=\"url(#p0e6c53ea6c)\" d=\"M 92.913636 239.758125 \nL 92.913636 22.318125 \n\" style=\"fill:none;stroke:#b0b0b0;stroke-linecap:square;stroke-width:0.8;\"/>\n     </g>\n     <g id=\"line2d_4\">\n      <g>\n       <use style=\"stroke:#000000;stroke-width:0.8;\" x=\"92.913636\" xlink:href=\"#m312344a6d5\" y=\"239.758125\"/>\n      </g>\n     </g>\n     <g id=\"text_2\">\n      <!-- 0.5 -->\n      <defs>\n       <path d=\"M 10.796875 72.90625 \nL 49.515625 72.90625 \nL 49.515625 64.59375 \nL 19.828125 64.59375 \nL 19.828125 46.734375 \nQ 21.96875 47.46875 24.109375 47.828125 \nQ 26.265625 48.1875 28.421875 48.1875 \nQ 40.625 48.1875 47.75 41.5 \nQ 54.890625 34.8125 54.890625 23.390625 \nQ 54.890625 11.625 47.5625 5.09375 \nQ 40.234375 -1.421875 26.90625 -1.421875 \nQ 22.3125 -1.421875 17.546875 -0.640625 \nQ 12.796875 0.140625 7.71875 1.703125 \nL 7.71875 11.625 \nQ 12.109375 9.234375 16.796875 8.0625 \nQ 21.484375 6.890625 26.703125 6.890625 \nQ 35.15625 6.890625 40.078125 11.328125 \nQ 45.015625 15.765625 45.015625 23.390625 \nQ 45.015625 31 40.078125 35.4375 \nQ 35.15625 39.890625 26.703125 39.890625 \nQ 22.75 39.890625 18.8125 39.015625 \nQ 14.890625 38.140625 10.796875 36.28125 \nz\n\" id=\"DejaVuSans-53\"/>\n      </defs>\n      <g transform=\"translate(84.962074 254.356563)scale(0.1 -0.1)\">\n       <use xlink:href=\"#DejaVuSans-48\"/>\n       <use x=\"63.623047\" xlink:href=\"#DejaVuSans-46\"/>\n       <use x=\"95.410156\" xlink:href=\"#DejaVuSans-53\"/>\n      </g>\n     </g>\n    </g>\n    <g id=\"xtick_3\">\n     <g id=\"line2d_5\">\n      <path clip-path=\"url(#p0e6c53ea6c)\" d=\"M 130.959091 239.758125 \nL 130.959091 22.318125 \n\" style=\"fill:none;stroke:#b0b0b0;stroke-linecap:square;stroke-width:0.8;\"/>\n     </g>\n     <g id=\"line2d_6\">\n      <g>\n       <use style=\"stroke:#000000;stroke-width:0.8;\" x=\"130.959091\" xlink:href=\"#m312344a6d5\" y=\"239.758125\"/>\n      </g>\n     </g>\n     <g id=\"text_3\">\n      <!-- 1.0 -->\n      <defs>\n       <path d=\"M 12.40625 8.296875 \nL 28.515625 8.296875 \nL 28.515625 63.921875 \nL 10.984375 60.40625 \nL 10.984375 69.390625 \nL 28.421875 72.90625 \nL 38.28125 72.90625 \nL 38.28125 8.296875 \nL 54.390625 8.296875 \nL 54.390625 0 \nL 12.40625 0 \nz\n\" id=\"DejaVuSans-49\"/>\n      </defs>\n      <g transform=\"translate(123.007528 254.356563)scale(0.1 -0.1)\">\n       <use xlink:href=\"#DejaVuSans-49\"/>\n       <use x=\"63.623047\" xlink:href=\"#DejaVuSans-46\"/>\n       <use x=\"95.410156\" xlink:href=\"#DejaVuSans-48\"/>\n      </g>\n     </g>\n    </g>\n    <g id=\"xtick_4\">\n     <g id=\"line2d_7\">\n      <path clip-path=\"url(#p0e6c53ea6c)\" d=\"M 169.004545 239.758125 \nL 169.004545 22.318125 \n\" style=\"fill:none;stroke:#b0b0b0;stroke-linecap:square;stroke-width:0.8;\"/>\n     </g>\n     <g id=\"line2d_8\">\n      <g>\n       <use style=\"stroke:#000000;stroke-width:0.8;\" x=\"169.004545\" xlink:href=\"#m312344a6d5\" y=\"239.758125\"/>\n      </g>\n     </g>\n     <g id=\"text_4\">\n      <!-- 1.5 -->\n      <g transform=\"translate(161.052983 254.356563)scale(0.1 -0.1)\">\n       <use xlink:href=\"#DejaVuSans-49\"/>\n       <use x=\"63.623047\" xlink:href=\"#DejaVuSans-46\"/>\n       <use x=\"95.410156\" xlink:href=\"#DejaVuSans-53\"/>\n      </g>\n     </g>\n    </g>\n    <g id=\"xtick_5\">\n     <g id=\"line2d_9\">\n      <path clip-path=\"url(#p0e6c53ea6c)\" d=\"M 207.05 239.758125 \nL 207.05 22.318125 \n\" style=\"fill:none;stroke:#b0b0b0;stroke-linecap:square;stroke-width:0.8;\"/>\n     </g>\n     <g id=\"line2d_10\">\n      <g>\n       <use style=\"stroke:#000000;stroke-width:0.8;\" x=\"207.05\" xlink:href=\"#m312344a6d5\" y=\"239.758125\"/>\n      </g>\n     </g>\n     <g id=\"text_5\">\n      <!-- 2.0 -->\n      <defs>\n       <path d=\"M 19.1875 8.296875 \nL 53.609375 8.296875 \nL 53.609375 0 \nL 7.328125 0 \nL 7.328125 8.296875 \nQ 12.9375 14.109375 22.625 23.890625 \nQ 32.328125 33.6875 34.8125 36.53125 \nQ 39.546875 41.84375 41.421875 45.53125 \nQ 43.3125 49.21875 43.3125 52.78125 \nQ 43.3125 58.59375 39.234375 62.25 \nQ 35.15625 65.921875 28.609375 65.921875 \nQ 23.96875 65.921875 18.8125 64.3125 \nQ 13.671875 62.703125 7.8125 59.421875 \nL 7.8125 69.390625 \nQ 13.765625 71.78125 18.9375 73 \nQ 24.125 74.21875 28.421875 74.21875 \nQ 39.75 74.21875 46.484375 68.546875 \nQ 53.21875 62.890625 53.21875 53.421875 \nQ 53.21875 48.921875 51.53125 44.890625 \nQ 49.859375 40.875 45.40625 35.40625 \nQ 44.1875 33.984375 37.640625 27.21875 \nQ 31.109375 20.453125 19.1875 8.296875 \nz\n\" id=\"DejaVuSans-50\"/>\n      </defs>\n      <g transform=\"translate(199.098438 254.356563)scale(0.1 -0.1)\">\n       <use xlink:href=\"#DejaVuSans-50\"/>\n       <use x=\"63.623047\" xlink:href=\"#DejaVuSans-46\"/>\n       <use x=\"95.410156\" xlink:href=\"#DejaVuSans-48\"/>\n      </g>\n     </g>\n    </g>\n    <g id=\"xtick_6\">\n     <g id=\"line2d_11\">\n      <path clip-path=\"url(#p0e6c53ea6c)\" d=\"M 245.095455 239.758125 \nL 245.095455 22.318125 \n\" style=\"fill:none;stroke:#b0b0b0;stroke-linecap:square;stroke-width:0.8;\"/>\n     </g>\n     <g id=\"line2d_12\">\n      <g>\n       <use style=\"stroke:#000000;stroke-width:0.8;\" x=\"245.095455\" xlink:href=\"#m312344a6d5\" y=\"239.758125\"/>\n      </g>\n     </g>\n     <g id=\"text_6\">\n      <!-- 2.5 -->\n      <g transform=\"translate(237.143892 254.356563)scale(0.1 -0.1)\">\n       <use xlink:href=\"#DejaVuSans-50\"/>\n       <use x=\"63.623047\" xlink:href=\"#DejaVuSans-46\"/>\n       <use x=\"95.410156\" xlink:href=\"#DejaVuSans-53\"/>\n      </g>\n     </g>\n    </g>\n    <g id=\"xtick_7\">\n     <g id=\"line2d_13\">\n      <path clip-path=\"url(#p0e6c53ea6c)\" d=\"M 283.140909 239.758125 \nL 283.140909 22.318125 \n\" style=\"fill:none;stroke:#b0b0b0;stroke-linecap:square;stroke-width:0.8;\"/>\n     </g>\n     <g id=\"line2d_14\">\n      <g>\n       <use style=\"stroke:#000000;stroke-width:0.8;\" x=\"283.140909\" xlink:href=\"#m312344a6d5\" y=\"239.758125\"/>\n      </g>\n     </g>\n     <g id=\"text_7\">\n      <!-- 3.0 -->\n      <defs>\n       <path d=\"M 40.578125 39.3125 \nQ 47.65625 37.796875 51.625 33 \nQ 55.609375 28.21875 55.609375 21.1875 \nQ 55.609375 10.40625 48.1875 4.484375 \nQ 40.765625 -1.421875 27.09375 -1.421875 \nQ 22.515625 -1.421875 17.65625 -0.515625 \nQ 12.796875 0.390625 7.625 2.203125 \nL 7.625 11.71875 \nQ 11.71875 9.328125 16.59375 8.109375 \nQ 21.484375 6.890625 26.8125 6.890625 \nQ 36.078125 6.890625 40.9375 10.546875 \nQ 45.796875 14.203125 45.796875 21.1875 \nQ 45.796875 27.640625 41.28125 31.265625 \nQ 36.765625 34.90625 28.71875 34.90625 \nL 20.21875 34.90625 \nL 20.21875 43.015625 \nL 29.109375 43.015625 \nQ 36.375 43.015625 40.234375 45.921875 \nQ 44.09375 48.828125 44.09375 54.296875 \nQ 44.09375 59.90625 40.109375 62.90625 \nQ 36.140625 65.921875 28.71875 65.921875 \nQ 24.65625 65.921875 20.015625 65.03125 \nQ 15.375 64.15625 9.8125 62.3125 \nL 9.8125 71.09375 \nQ 15.4375 72.65625 20.34375 73.4375 \nQ 25.25 74.21875 29.59375 74.21875 \nQ 40.828125 74.21875 47.359375 69.109375 \nQ 53.90625 64.015625 53.90625 55.328125 \nQ 53.90625 49.265625 50.4375 45.09375 \nQ 46.96875 40.921875 40.578125 39.3125 \nz\n\" id=\"DejaVuSans-51\"/>\n      </defs>\n      <g transform=\"translate(275.189347 254.356563)scale(0.1 -0.1)\">\n       <use xlink:href=\"#DejaVuSans-51\"/>\n       <use x=\"63.623047\" xlink:href=\"#DejaVuSans-46\"/>\n       <use x=\"95.410156\" xlink:href=\"#DejaVuSans-48\"/>\n      </g>\n     </g>\n    </g>\n    <g id=\"xtick_8\">\n     <g id=\"line2d_15\">\n      <path clip-path=\"url(#p0e6c53ea6c)\" d=\"M 321.186364 239.758125 \nL 321.186364 22.318125 \n\" style=\"fill:none;stroke:#b0b0b0;stroke-linecap:square;stroke-width:0.8;\"/>\n     </g>\n     <g id=\"line2d_16\">\n      <g>\n       <use style=\"stroke:#000000;stroke-width:0.8;\" x=\"321.186364\" xlink:href=\"#m312344a6d5\" y=\"239.758125\"/>\n      </g>\n     </g>\n     <g id=\"text_8\">\n      <!-- 3.5 -->\n      <g transform=\"translate(313.234801 254.356563)scale(0.1 -0.1)\">\n       <use xlink:href=\"#DejaVuSans-51\"/>\n       <use x=\"63.623047\" xlink:href=\"#DejaVuSans-46\"/>\n       <use x=\"95.410156\" xlink:href=\"#DejaVuSans-53\"/>\n      </g>\n     </g>\n    </g>\n    <g id=\"xtick_9\">\n     <g id=\"line2d_17\">\n      <path clip-path=\"url(#p0e6c53ea6c)\" d=\"M 359.231818 239.758125 \nL 359.231818 22.318125 \n\" style=\"fill:none;stroke:#b0b0b0;stroke-linecap:square;stroke-width:0.8;\"/>\n     </g>\n     <g id=\"line2d_18\">\n      <g>\n       <use style=\"stroke:#000000;stroke-width:0.8;\" x=\"359.231818\" xlink:href=\"#m312344a6d5\" y=\"239.758125\"/>\n      </g>\n     </g>\n     <g id=\"text_9\">\n      <!-- 4.0 -->\n      <defs>\n       <path d=\"M 37.796875 64.3125 \nL 12.890625 25.390625 \nL 37.796875 25.390625 \nz\nM 35.203125 72.90625 \nL 47.609375 72.90625 \nL 47.609375 25.390625 \nL 58.015625 25.390625 \nL 58.015625 17.1875 \nL 47.609375 17.1875 \nL 47.609375 0 \nL 37.796875 0 \nL 37.796875 17.1875 \nL 4.890625 17.1875 \nL 4.890625 26.703125 \nz\n\" id=\"DejaVuSans-52\"/>\n      </defs>\n      <g transform=\"translate(351.280256 254.356563)scale(0.1 -0.1)\">\n       <use xlink:href=\"#DejaVuSans-52\"/>\n       <use x=\"63.623047\" xlink:href=\"#DejaVuSans-46\"/>\n       <use x=\"95.410156\" xlink:href=\"#DejaVuSans-48\"/>\n      </g>\n     </g>\n    </g>\n   </g>\n   <g id=\"matplotlib.axis_2\">\n    <g id=\"ytick_1\">\n     <g id=\"line2d_19\">\n      <path clip-path=\"url(#p0e6c53ea6c)\" d=\"M 39.65 239.758125 \nL 374.45 239.758125 \n\" style=\"fill:none;stroke:#b0b0b0;stroke-linecap:square;stroke-width:0.8;\"/>\n     </g>\n     <g id=\"line2d_20\">\n      <defs>\n       <path d=\"M 0 0 \nL -3.5 0 \n\" id=\"md4d6f48c85\" style=\"stroke:#000000;stroke-width:0.8;\"/>\n      </defs>\n      <g>\n       <use style=\"stroke:#000000;stroke-width:0.8;\" x=\"39.65\" xlink:href=\"#md4d6f48c85\" y=\"239.758125\"/>\n      </g>\n     </g>\n     <g id=\"text_10\">\n      <!-- 0 -->\n      <g transform=\"translate(26.2875 243.557344)scale(0.1 -0.1)\">\n       <use xlink:href=\"#DejaVuSans-48\"/>\n      </g>\n     </g>\n    </g>\n    <g id=\"ytick_2\">\n     <g id=\"line2d_21\">\n      <path clip-path=\"url(#p0e6c53ea6c)\" d=\"M 39.65 192.185023 \nL 374.45 192.185023 \n\" style=\"fill:none;stroke:#b0b0b0;stroke-linecap:square;stroke-width:0.8;\"/>\n     </g>\n     <g id=\"line2d_22\">\n      <g>\n       <use style=\"stroke:#000000;stroke-width:0.8;\" x=\"39.65\" xlink:href=\"#md4d6f48c85\" y=\"192.185023\"/>\n      </g>\n     </g>\n     <g id=\"text_11\">\n      <!-- 2000 -->\n      <g transform=\"translate(7.2 195.984241)scale(0.1 -0.1)\">\n       <use xlink:href=\"#DejaVuSans-50\"/>\n       <use x=\"63.623047\" xlink:href=\"#DejaVuSans-48\"/>\n       <use x=\"127.246094\" xlink:href=\"#DejaVuSans-48\"/>\n       <use x=\"190.869141\" xlink:href=\"#DejaVuSans-48\"/>\n      </g>\n     </g>\n    </g>\n    <g id=\"ytick_3\">\n     <g id=\"line2d_23\">\n      <path clip-path=\"url(#p0e6c53ea6c)\" d=\"M 39.65 144.61192 \nL 374.45 144.61192 \n\" style=\"fill:none;stroke:#b0b0b0;stroke-linecap:square;stroke-width:0.8;\"/>\n     </g>\n     <g id=\"line2d_24\">\n      <g>\n       <use style=\"stroke:#000000;stroke-width:0.8;\" x=\"39.65\" xlink:href=\"#md4d6f48c85\" y=\"144.61192\"/>\n      </g>\n     </g>\n     <g id=\"text_12\">\n      <!-- 4000 -->\n      <g transform=\"translate(7.2 148.411139)scale(0.1 -0.1)\">\n       <use xlink:href=\"#DejaVuSans-52\"/>\n       <use x=\"63.623047\" xlink:href=\"#DejaVuSans-48\"/>\n       <use x=\"127.246094\" xlink:href=\"#DejaVuSans-48\"/>\n       <use x=\"190.869141\" xlink:href=\"#DejaVuSans-48\"/>\n      </g>\n     </g>\n    </g>\n    <g id=\"ytick_4\">\n     <g id=\"line2d_25\">\n      <path clip-path=\"url(#p0e6c53ea6c)\" d=\"M 39.65 97.038818 \nL 374.45 97.038818 \n\" style=\"fill:none;stroke:#b0b0b0;stroke-linecap:square;stroke-width:0.8;\"/>\n     </g>\n     <g id=\"line2d_26\">\n      <g>\n       <use style=\"stroke:#000000;stroke-width:0.8;\" x=\"39.65\" xlink:href=\"#md4d6f48c85\" y=\"97.038818\"/>\n      </g>\n     </g>\n     <g id=\"text_13\">\n      <!-- 6000 -->\n      <defs>\n       <path d=\"M 33.015625 40.375 \nQ 26.375 40.375 22.484375 35.828125 \nQ 18.609375 31.296875 18.609375 23.390625 \nQ 18.609375 15.53125 22.484375 10.953125 \nQ 26.375 6.390625 33.015625 6.390625 \nQ 39.65625 6.390625 43.53125 10.953125 \nQ 47.40625 15.53125 47.40625 23.390625 \nQ 47.40625 31.296875 43.53125 35.828125 \nQ 39.65625 40.375 33.015625 40.375 \nz\nM 52.59375 71.296875 \nL 52.59375 62.3125 \nQ 48.875 64.0625 45.09375 64.984375 \nQ 41.3125 65.921875 37.59375 65.921875 \nQ 27.828125 65.921875 22.671875 59.328125 \nQ 17.53125 52.734375 16.796875 39.40625 \nQ 19.671875 43.65625 24.015625 45.921875 \nQ 28.375 48.1875 33.59375 48.1875 \nQ 44.578125 48.1875 50.953125 41.515625 \nQ 57.328125 34.859375 57.328125 23.390625 \nQ 57.328125 12.15625 50.6875 5.359375 \nQ 44.046875 -1.421875 33.015625 -1.421875 \nQ 20.359375 -1.421875 13.671875 8.265625 \nQ 6.984375 17.96875 6.984375 36.375 \nQ 6.984375 53.65625 15.1875 63.9375 \nQ 23.390625 74.21875 37.203125 74.21875 \nQ 40.921875 74.21875 44.703125 73.484375 \nQ 48.484375 72.75 52.59375 71.296875 \nz\n\" id=\"DejaVuSans-54\"/>\n      </defs>\n      <g transform=\"translate(7.2 100.838037)scale(0.1 -0.1)\">\n       <use xlink:href=\"#DejaVuSans-54\"/>\n       <use x=\"63.623047\" xlink:href=\"#DejaVuSans-48\"/>\n       <use x=\"127.246094\" xlink:href=\"#DejaVuSans-48\"/>\n       <use x=\"190.869141\" xlink:href=\"#DejaVuSans-48\"/>\n      </g>\n     </g>\n    </g>\n    <g id=\"ytick_5\">\n     <g id=\"line2d_27\">\n      <path clip-path=\"url(#p0e6c53ea6c)\" d=\"M 39.65 49.465716 \nL 374.45 49.465716 \n\" style=\"fill:none;stroke:#b0b0b0;stroke-linecap:square;stroke-width:0.8;\"/>\n     </g>\n     <g id=\"line2d_28\">\n      <g>\n       <use style=\"stroke:#000000;stroke-width:0.8;\" x=\"39.65\" xlink:href=\"#md4d6f48c85\" y=\"49.465716\"/>\n      </g>\n     </g>\n     <g id=\"text_14\">\n      <!-- 8000 -->\n      <defs>\n       <path d=\"M 31.78125 34.625 \nQ 24.75 34.625 20.71875 30.859375 \nQ 16.703125 27.09375 16.703125 20.515625 \nQ 16.703125 13.921875 20.71875 10.15625 \nQ 24.75 6.390625 31.78125 6.390625 \nQ 38.8125 6.390625 42.859375 10.171875 \nQ 46.921875 13.96875 46.921875 20.515625 \nQ 46.921875 27.09375 42.890625 30.859375 \nQ 38.875 34.625 31.78125 34.625 \nz\nM 21.921875 38.8125 \nQ 15.578125 40.375 12.03125 44.71875 \nQ 8.5 49.078125 8.5 55.328125 \nQ 8.5 64.0625 14.71875 69.140625 \nQ 20.953125 74.21875 31.78125 74.21875 \nQ 42.671875 74.21875 48.875 69.140625 \nQ 55.078125 64.0625 55.078125 55.328125 \nQ 55.078125 49.078125 51.53125 44.71875 \nQ 48 40.375 41.703125 38.8125 \nQ 48.828125 37.15625 52.796875 32.3125 \nQ 56.78125 27.484375 56.78125 20.515625 \nQ 56.78125 9.90625 50.3125 4.234375 \nQ 43.84375 -1.421875 31.78125 -1.421875 \nQ 19.734375 -1.421875 13.25 4.234375 \nQ 6.78125 9.90625 6.78125 20.515625 \nQ 6.78125 27.484375 10.78125 32.3125 \nQ 14.796875 37.15625 21.921875 38.8125 \nz\nM 18.3125 54.390625 \nQ 18.3125 48.734375 21.84375 45.5625 \nQ 25.390625 42.390625 31.78125 42.390625 \nQ 38.140625 42.390625 41.71875 45.5625 \nQ 45.3125 48.734375 45.3125 54.390625 \nQ 45.3125 60.0625 41.71875 63.234375 \nQ 38.140625 66.40625 31.78125 66.40625 \nQ 25.390625 66.40625 21.84375 63.234375 \nQ 18.3125 60.0625 18.3125 54.390625 \nz\n\" id=\"DejaVuSans-56\"/>\n      </defs>\n      <g transform=\"translate(7.2 53.264935)scale(0.1 -0.1)\">\n       <use xlink:href=\"#DejaVuSans-56\"/>\n       <use x=\"63.623047\" xlink:href=\"#DejaVuSans-48\"/>\n       <use x=\"127.246094\" xlink:href=\"#DejaVuSans-48\"/>\n       <use x=\"190.869141\" xlink:href=\"#DejaVuSans-48\"/>\n      </g>\n     </g>\n    </g>\n   </g>\n   <g id=\"patch_7\">\n    <path d=\"M 39.65 239.758125 \nL 39.65 22.318125 \n\" style=\"fill:none;stroke:#000000;stroke-linecap:square;stroke-linejoin:miter;stroke-width:0.8;\"/>\n   </g>\n   <g id=\"patch_8\">\n    <path d=\"M 374.45 239.758125 \nL 374.45 22.318125 \n\" style=\"fill:none;stroke:#000000;stroke-linecap:square;stroke-linejoin:miter;stroke-width:0.8;\"/>\n   </g>\n   <g id=\"patch_9\">\n    <path d=\"M 39.65 239.758125 \nL 374.45 239.758125 \n\" style=\"fill:none;stroke:#000000;stroke-linecap:square;stroke-linejoin:miter;stroke-width:0.8;\"/>\n   </g>\n   <g id=\"patch_10\">\n    <path d=\"M 39.65 22.318125 \nL 374.45 22.318125 \n\" style=\"fill:none;stroke:#000000;stroke-linecap:square;stroke-linejoin:miter;stroke-width:0.8;\"/>\n   </g>\n   <g id=\"text_15\">\n    <!-- Membership Length Distribution in Years -->\n    <defs>\n     <path d=\"M 9.8125 72.90625 \nL 24.515625 72.90625 \nL 43.109375 23.296875 \nL 61.8125 72.90625 \nL 76.515625 72.90625 \nL 76.515625 0 \nL 66.890625 0 \nL 66.890625 64.015625 \nL 48.09375 14.015625 \nL 38.1875 14.015625 \nL 19.390625 64.015625 \nL 19.390625 0 \nL 9.8125 0 \nz\n\" id=\"DejaVuSans-77\"/>\n     <path d=\"M 56.203125 29.59375 \nL 56.203125 25.203125 \nL 14.890625 25.203125 \nQ 15.484375 15.921875 20.484375 11.0625 \nQ 25.484375 6.203125 34.421875 6.203125 \nQ 39.59375 6.203125 44.453125 7.46875 \nQ 49.3125 8.734375 54.109375 11.28125 \nL 54.109375 2.78125 \nQ 49.265625 0.734375 44.1875 -0.34375 \nQ 39.109375 -1.421875 33.890625 -1.421875 \nQ 20.796875 -1.421875 13.15625 6.1875 \nQ 5.515625 13.8125 5.515625 26.8125 \nQ 5.515625 40.234375 12.765625 48.109375 \nQ 20.015625 56 32.328125 56 \nQ 43.359375 56 49.78125 48.890625 \nQ 56.203125 41.796875 56.203125 29.59375 \nz\nM 47.21875 32.234375 \nQ 47.125 39.59375 43.09375 43.984375 \nQ 39.0625 48.390625 32.421875 48.390625 \nQ 24.90625 48.390625 20.390625 44.140625 \nQ 15.875 39.890625 15.1875 32.171875 \nz\n\" id=\"DejaVuSans-101\"/>\n     <path d=\"M 52 44.1875 \nQ 55.375 50.25 60.0625 53.125 \nQ 64.75 56 71.09375 56 \nQ 79.640625 56 84.28125 50.015625 \nQ 88.921875 44.046875 88.921875 33.015625 \nL 88.921875 0 \nL 79.890625 0 \nL 79.890625 32.71875 \nQ 79.890625 40.578125 77.09375 44.375 \nQ 74.3125 48.1875 68.609375 48.1875 \nQ 61.625 48.1875 57.5625 43.546875 \nQ 53.515625 38.921875 53.515625 30.90625 \nL 53.515625 0 \nL 44.484375 0 \nL 44.484375 32.71875 \nQ 44.484375 40.625 41.703125 44.40625 \nQ 38.921875 48.1875 33.109375 48.1875 \nQ 26.21875 48.1875 22.15625 43.53125 \nQ 18.109375 38.875 18.109375 30.90625 \nL 18.109375 0 \nL 9.078125 0 \nL 9.078125 54.6875 \nL 18.109375 54.6875 \nL 18.109375 46.1875 \nQ 21.1875 51.21875 25.484375 53.609375 \nQ 29.78125 56 35.6875 56 \nQ 41.65625 56 45.828125 52.96875 \nQ 50 49.953125 52 44.1875 \nz\n\" id=\"DejaVuSans-109\"/>\n     <path d=\"M 48.6875 27.296875 \nQ 48.6875 37.203125 44.609375 42.84375 \nQ 40.53125 48.484375 33.40625 48.484375 \nQ 26.265625 48.484375 22.1875 42.84375 \nQ 18.109375 37.203125 18.109375 27.296875 \nQ 18.109375 17.390625 22.1875 11.75 \nQ 26.265625 6.109375 33.40625 6.109375 \nQ 40.53125 6.109375 44.609375 11.75 \nQ 48.6875 17.390625 48.6875 27.296875 \nz\nM 18.109375 46.390625 \nQ 20.953125 51.265625 25.265625 53.625 \nQ 29.59375 56 35.59375 56 \nQ 45.5625 56 51.78125 48.09375 \nQ 58.015625 40.1875 58.015625 27.296875 \nQ 58.015625 14.40625 51.78125 6.484375 \nQ 45.5625 -1.421875 35.59375 -1.421875 \nQ 29.59375 -1.421875 25.265625 0.953125 \nQ 20.953125 3.328125 18.109375 8.203125 \nL 18.109375 0 \nL 9.078125 0 \nL 9.078125 75.984375 \nL 18.109375 75.984375 \nz\n\" id=\"DejaVuSans-98\"/>\n     <path d=\"M 41.109375 46.296875 \nQ 39.59375 47.171875 37.8125 47.578125 \nQ 36.03125 48 33.890625 48 \nQ 26.265625 48 22.1875 43.046875 \nQ 18.109375 38.09375 18.109375 28.8125 \nL 18.109375 0 \nL 9.078125 0 \nL 9.078125 54.6875 \nL 18.109375 54.6875 \nL 18.109375 46.1875 \nQ 20.953125 51.171875 25.484375 53.578125 \nQ 30.03125 56 36.53125 56 \nQ 37.453125 56 38.578125 55.875 \nQ 39.703125 55.765625 41.0625 55.515625 \nz\n\" id=\"DejaVuSans-114\"/>\n     <path d=\"M 44.28125 53.078125 \nL 44.28125 44.578125 \nQ 40.484375 46.53125 36.375 47.5 \nQ 32.28125 48.484375 27.875 48.484375 \nQ 21.1875 48.484375 17.84375 46.4375 \nQ 14.5 44.390625 14.5 40.28125 \nQ 14.5 37.15625 16.890625 35.375 \nQ 19.28125 33.59375 26.515625 31.984375 \nL 29.59375 31.296875 \nQ 39.15625 29.25 43.1875 25.515625 \nQ 47.21875 21.78125 47.21875 15.09375 \nQ 47.21875 7.46875 41.1875 3.015625 \nQ 35.15625 -1.421875 24.609375 -1.421875 \nQ 20.21875 -1.421875 15.453125 -0.5625 \nQ 10.6875 0.296875 5.421875 2 \nL 5.421875 11.28125 \nQ 10.40625 8.6875 15.234375 7.390625 \nQ 20.0625 6.109375 24.8125 6.109375 \nQ 31.15625 6.109375 34.5625 8.28125 \nQ 37.984375 10.453125 37.984375 14.40625 \nQ 37.984375 18.0625 35.515625 20.015625 \nQ 33.0625 21.96875 24.703125 23.78125 \nL 21.578125 24.515625 \nQ 13.234375 26.265625 9.515625 29.90625 \nQ 5.8125 33.546875 5.8125 39.890625 \nQ 5.8125 47.609375 11.28125 51.796875 \nQ 16.75 56 26.8125 56 \nQ 31.78125 56 36.171875 55.265625 \nQ 40.578125 54.546875 44.28125 53.078125 \nz\n\" id=\"DejaVuSans-115\"/>\n     <path d=\"M 54.890625 33.015625 \nL 54.890625 0 \nL 45.90625 0 \nL 45.90625 32.71875 \nQ 45.90625 40.484375 42.875 44.328125 \nQ 39.84375 48.1875 33.796875 48.1875 \nQ 26.515625 48.1875 22.3125 43.546875 \nQ 18.109375 38.921875 18.109375 30.90625 \nL 18.109375 0 \nL 9.078125 0 \nL 9.078125 75.984375 \nL 18.109375 75.984375 \nL 18.109375 46.1875 \nQ 21.34375 51.125 25.703125 53.5625 \nQ 30.078125 56 35.796875 56 \nQ 45.21875 56 50.046875 50.171875 \nQ 54.890625 44.34375 54.890625 33.015625 \nz\n\" id=\"DejaVuSans-104\"/>\n     <path d=\"M 9.421875 54.6875 \nL 18.40625 54.6875 \nL 18.40625 0 \nL 9.421875 0 \nz\nM 9.421875 75.984375 \nL 18.40625 75.984375 \nL 18.40625 64.59375 \nL 9.421875 64.59375 \nz\n\" id=\"DejaVuSans-105\"/>\n     <path d=\"M 18.109375 8.203125 \nL 18.109375 -20.796875 \nL 9.078125 -20.796875 \nL 9.078125 54.6875 \nL 18.109375 54.6875 \nL 18.109375 46.390625 \nQ 20.953125 51.265625 25.265625 53.625 \nQ 29.59375 56 35.59375 56 \nQ 45.5625 56 51.78125 48.09375 \nQ 58.015625 40.1875 58.015625 27.296875 \nQ 58.015625 14.40625 51.78125 6.484375 \nQ 45.5625 -1.421875 35.59375 -1.421875 \nQ 29.59375 -1.421875 25.265625 0.953125 \nQ 20.953125 3.328125 18.109375 8.203125 \nz\nM 48.6875 27.296875 \nQ 48.6875 37.203125 44.609375 42.84375 \nQ 40.53125 48.484375 33.40625 48.484375 \nQ 26.265625 48.484375 22.1875 42.84375 \nQ 18.109375 37.203125 18.109375 27.296875 \nQ 18.109375 17.390625 22.1875 11.75 \nQ 26.265625 6.109375 33.40625 6.109375 \nQ 40.53125 6.109375 44.609375 11.75 \nQ 48.6875 17.390625 48.6875 27.296875 \nz\n\" id=\"DejaVuSans-112\"/>\n     <path id=\"DejaVuSans-32\"/>\n     <path d=\"M 9.8125 72.90625 \nL 19.671875 72.90625 \nL 19.671875 8.296875 \nL 55.171875 8.296875 \nL 55.171875 0 \nL 9.8125 0 \nz\n\" id=\"DejaVuSans-76\"/>\n     <path d=\"M 54.890625 33.015625 \nL 54.890625 0 \nL 45.90625 0 \nL 45.90625 32.71875 \nQ 45.90625 40.484375 42.875 44.328125 \nQ 39.84375 48.1875 33.796875 48.1875 \nQ 26.515625 48.1875 22.3125 43.546875 \nQ 18.109375 38.921875 18.109375 30.90625 \nL 18.109375 0 \nL 9.078125 0 \nL 9.078125 54.6875 \nL 18.109375 54.6875 \nL 18.109375 46.1875 \nQ 21.34375 51.125 25.703125 53.5625 \nQ 30.078125 56 35.796875 56 \nQ 45.21875 56 50.046875 50.171875 \nQ 54.890625 44.34375 54.890625 33.015625 \nz\n\" id=\"DejaVuSans-110\"/>\n     <path d=\"M 45.40625 27.984375 \nQ 45.40625 37.75 41.375 43.109375 \nQ 37.359375 48.484375 30.078125 48.484375 \nQ 22.859375 48.484375 18.828125 43.109375 \nQ 14.796875 37.75 14.796875 27.984375 \nQ 14.796875 18.265625 18.828125 12.890625 \nQ 22.859375 7.515625 30.078125 7.515625 \nQ 37.359375 7.515625 41.375 12.890625 \nQ 45.40625 18.265625 45.40625 27.984375 \nz\nM 54.390625 6.78125 \nQ 54.390625 -7.171875 48.1875 -13.984375 \nQ 42 -20.796875 29.203125 -20.796875 \nQ 24.46875 -20.796875 20.265625 -20.09375 \nQ 16.0625 -19.390625 12.109375 -17.921875 \nL 12.109375 -9.1875 \nQ 16.0625 -11.328125 19.921875 -12.34375 \nQ 23.78125 -13.375 27.78125 -13.375 \nQ 36.625 -13.375 41.015625 -8.765625 \nQ 45.40625 -4.15625 45.40625 5.171875 \nL 45.40625 9.625 \nQ 42.625 4.78125 38.28125 2.390625 \nQ 33.9375 0 27.875 0 \nQ 17.828125 0 11.671875 7.65625 \nQ 5.515625 15.328125 5.515625 27.984375 \nQ 5.515625 40.671875 11.671875 48.328125 \nQ 17.828125 56 27.875 56 \nQ 33.9375 56 38.28125 53.609375 \nQ 42.625 51.21875 45.40625 46.390625 \nL 45.40625 54.6875 \nL 54.390625 54.6875 \nz\n\" id=\"DejaVuSans-103\"/>\n     <path d=\"M 18.3125 70.21875 \nL 18.3125 54.6875 \nL 36.8125 54.6875 \nL 36.8125 47.703125 \nL 18.3125 47.703125 \nL 18.3125 18.015625 \nQ 18.3125 11.328125 20.140625 9.421875 \nQ 21.96875 7.515625 27.59375 7.515625 \nL 36.8125 7.515625 \nL 36.8125 0 \nL 27.59375 0 \nQ 17.1875 0 13.234375 3.875 \nQ 9.28125 7.765625 9.28125 18.015625 \nL 9.28125 47.703125 \nL 2.6875 47.703125 \nL 2.6875 54.6875 \nL 9.28125 54.6875 \nL 9.28125 70.21875 \nz\n\" id=\"DejaVuSans-116\"/>\n     <path d=\"M 19.671875 64.796875 \nL 19.671875 8.109375 \nL 31.59375 8.109375 \nQ 46.6875 8.109375 53.6875 14.9375 \nQ 60.6875 21.78125 60.6875 36.53125 \nQ 60.6875 51.171875 53.6875 57.984375 \nQ 46.6875 64.796875 31.59375 64.796875 \nz\nM 9.8125 72.90625 \nL 30.078125 72.90625 \nQ 51.265625 72.90625 61.171875 64.09375 \nQ 71.09375 55.28125 71.09375 36.53125 \nQ 71.09375 17.671875 61.125 8.828125 \nQ 51.171875 0 30.078125 0 \nL 9.8125 0 \nz\n\" id=\"DejaVuSans-68\"/>\n     <path d=\"M 8.5 21.578125 \nL 8.5 54.6875 \nL 17.484375 54.6875 \nL 17.484375 21.921875 \nQ 17.484375 14.15625 20.5 10.265625 \nQ 23.53125 6.390625 29.59375 6.390625 \nQ 36.859375 6.390625 41.078125 11.03125 \nQ 45.3125 15.671875 45.3125 23.6875 \nL 45.3125 54.6875 \nL 54.296875 54.6875 \nL 54.296875 0 \nL 45.3125 0 \nL 45.3125 8.40625 \nQ 42.046875 3.421875 37.71875 1 \nQ 33.40625 -1.421875 27.6875 -1.421875 \nQ 18.265625 -1.421875 13.375 4.4375 \nQ 8.5 10.296875 8.5 21.578125 \nz\nM 31.109375 56 \nz\n\" id=\"DejaVuSans-117\"/>\n     <path d=\"M 30.609375 48.390625 \nQ 23.390625 48.390625 19.1875 42.75 \nQ 14.984375 37.109375 14.984375 27.296875 \nQ 14.984375 17.484375 19.15625 11.84375 \nQ 23.34375 6.203125 30.609375 6.203125 \nQ 37.796875 6.203125 41.984375 11.859375 \nQ 46.1875 17.53125 46.1875 27.296875 \nQ 46.1875 37.015625 41.984375 42.703125 \nQ 37.796875 48.390625 30.609375 48.390625 \nz\nM 30.609375 56 \nQ 42.328125 56 49.015625 48.375 \nQ 55.71875 40.765625 55.71875 27.296875 \nQ 55.71875 13.875 49.015625 6.21875 \nQ 42.328125 -1.421875 30.609375 -1.421875 \nQ 18.84375 -1.421875 12.171875 6.21875 \nQ 5.515625 13.875 5.515625 27.296875 \nQ 5.515625 40.765625 12.171875 48.375 \nQ 18.84375 56 30.609375 56 \nz\n\" id=\"DejaVuSans-111\"/>\n     <path d=\"M -0.203125 72.90625 \nL 10.40625 72.90625 \nL 30.609375 42.921875 \nL 50.6875 72.90625 \nL 61.28125 72.90625 \nL 35.5 34.71875 \nL 35.5 0 \nL 25.59375 0 \nL 25.59375 34.71875 \nz\n\" id=\"DejaVuSans-89\"/>\n     <path d=\"M 34.28125 27.484375 \nQ 23.390625 27.484375 19.1875 25 \nQ 14.984375 22.515625 14.984375 16.5 \nQ 14.984375 11.71875 18.140625 8.90625 \nQ 21.296875 6.109375 26.703125 6.109375 \nQ 34.1875 6.109375 38.703125 11.40625 \nQ 43.21875 16.703125 43.21875 25.484375 \nL 43.21875 27.484375 \nz\nM 52.203125 31.203125 \nL 52.203125 0 \nL 43.21875 0 \nL 43.21875 8.296875 \nQ 40.140625 3.328125 35.546875 0.953125 \nQ 30.953125 -1.421875 24.3125 -1.421875 \nQ 15.921875 -1.421875 10.953125 3.296875 \nQ 6 8.015625 6 15.921875 \nQ 6 25.140625 12.171875 29.828125 \nQ 18.359375 34.515625 30.609375 34.515625 \nL 43.21875 34.515625 \nL 43.21875 35.40625 \nQ 43.21875 41.609375 39.140625 45 \nQ 35.0625 48.390625 27.6875 48.390625 \nQ 23 48.390625 18.546875 47.265625 \nQ 14.109375 46.140625 10.015625 43.890625 \nL 10.015625 52.203125 \nQ 14.9375 54.109375 19.578125 55.046875 \nQ 24.21875 56 28.609375 56 \nQ 40.484375 56 46.34375 49.84375 \nQ 52.203125 43.703125 52.203125 31.203125 \nz\n\" id=\"DejaVuSans-97\"/>\n    </defs>\n    <g transform=\"translate(84.452188 16.318125)scale(0.12 -0.12)\">\n     <use xlink:href=\"#DejaVuSans-77\"/>\n     <use x=\"86.279297\" xlink:href=\"#DejaVuSans-101\"/>\n     <use x=\"147.802734\" xlink:href=\"#DejaVuSans-109\"/>\n     <use x=\"245.214844\" xlink:href=\"#DejaVuSans-98\"/>\n     <use x=\"308.691406\" xlink:href=\"#DejaVuSans-101\"/>\n     <use x=\"370.214844\" xlink:href=\"#DejaVuSans-114\"/>\n     <use x=\"411.328125\" xlink:href=\"#DejaVuSans-115\"/>\n     <use x=\"463.427734\" xlink:href=\"#DejaVuSans-104\"/>\n     <use x=\"526.806641\" xlink:href=\"#DejaVuSans-105\"/>\n     <use x=\"554.589844\" xlink:href=\"#DejaVuSans-112\"/>\n     <use x=\"618.066406\" xlink:href=\"#DejaVuSans-32\"/>\n     <use x=\"649.853516\" xlink:href=\"#DejaVuSans-76\"/>\n     <use x=\"705.550781\" xlink:href=\"#DejaVuSans-101\"/>\n     <use x=\"767.074219\" xlink:href=\"#DejaVuSans-110\"/>\n     <use x=\"830.453125\" xlink:href=\"#DejaVuSans-103\"/>\n     <use x=\"893.929688\" xlink:href=\"#DejaVuSans-116\"/>\n     <use x=\"933.138672\" xlink:href=\"#DejaVuSans-104\"/>\n     <use x=\"996.517578\" xlink:href=\"#DejaVuSans-32\"/>\n     <use x=\"1028.304688\" xlink:href=\"#DejaVuSans-68\"/>\n     <use x=\"1105.306641\" xlink:href=\"#DejaVuSans-105\"/>\n     <use x=\"1133.089844\" xlink:href=\"#DejaVuSans-115\"/>\n     <use x=\"1185.189453\" xlink:href=\"#DejaVuSans-116\"/>\n     <use x=\"1224.398438\" xlink:href=\"#DejaVuSans-114\"/>\n     <use x=\"1265.511719\" xlink:href=\"#DejaVuSans-105\"/>\n     <use x=\"1293.294922\" xlink:href=\"#DejaVuSans-98\"/>\n     <use x=\"1356.771484\" xlink:href=\"#DejaVuSans-117\"/>\n     <use x=\"1420.150391\" xlink:href=\"#DejaVuSans-116\"/>\n     <use x=\"1459.359375\" xlink:href=\"#DejaVuSans-105\"/>\n     <use x=\"1487.142578\" xlink:href=\"#DejaVuSans-111\"/>\n     <use x=\"1548.324219\" xlink:href=\"#DejaVuSans-110\"/>\n     <use x=\"1611.703125\" xlink:href=\"#DejaVuSans-32\"/>\n     <use x=\"1643.490234\" xlink:href=\"#DejaVuSans-105\"/>\n     <use x=\"1671.273438\" xlink:href=\"#DejaVuSans-110\"/>\n     <use x=\"1734.652344\" xlink:href=\"#DejaVuSans-32\"/>\n     <use x=\"1766.439453\" xlink:href=\"#DejaVuSans-89\"/>\n     <use x=\"1827.320312\" xlink:href=\"#DejaVuSans-101\"/>\n     <use x=\"1888.84375\" xlink:href=\"#DejaVuSans-97\"/>\n     <use x=\"1950.123047\" xlink:href=\"#DejaVuSans-114\"/>\n     <use x=\"1991.236328\" xlink:href=\"#DejaVuSans-115\"/>\n    </g>\n   </g>\n  </g>\n </g>\n <defs>\n  <clipPath id=\"p0e6c53ea6c\">\n   <rect height=\"217.44\" width=\"334.8\" x=\"39.65\" y=\"22.318125\"/>\n  </clipPath>\n </defs>\n</svg>\n",
      "image/png": "[encoded data removed]"
     },
     "metadata": {
      "needs_background": "light"
     }
    }
   ],
   "source": [
    "profile.mbr_shp_len.astype('timedelta64[Y]').hist(bins=4)\n",
    "plt.title('Membership Length Distribution in Years')"
   ]
  },
  {
   "cell_type": "code",
   "execution_count": 11,
   "metadata": {},
   "outputs": [
    {
     "output_type": "execute_result",
     "data": {
      "text/plain": "Text(0.5, 1.0, 'Gender Distribution')"
     },
     "metadata": {},
     "execution_count": 11
    },
    {
     "output_type": "display_data",
     "data": {
      "text/plain": "<Figure size 432x288 with 1 Axes>",
      "image/svg+xml": "<?xml version=\"1.0\" encoding=\"utf-8\" standalone=\"no\"?>\n<!DOCTYPE svg PUBLIC \"-//W3C//DTD SVG 1.1//EN\"\n  \"http://www.w3.org/Graphics/SVG/1.1/DTD/svg11.dtd\">\n<!-- Created with matplotlib (https://matplotlib.org/) -->\n<svg height=\"263.63625pt\" version=\"1.1\" viewBox=\"0 0 381.65 263.63625\" width=\"381.65pt\" xmlns=\"http://www.w3.org/2000/svg\" xmlns:xlink=\"http://www.w3.org/1999/xlink\">\n <defs>\n  <style type=\"text/css\">\n*{stroke-linecap:butt;stroke-linejoin:round;}\n  </style>\n </defs>\n <g id=\"figure_1\">\n  <g id=\"patch_1\">\n   <path d=\"M -0 263.63625 \nL 381.65 263.63625 \nL 381.65 0 \nL -0 0 \nz\n\" style=\"fill:none;\"/>\n  </g>\n  <g id=\"axes_1\">\n   <g id=\"patch_2\">\n    <path d=\"M 39.65 239.758125 \nL 374.45 239.758125 \nL 374.45 22.318125 \nL 39.65 22.318125 \nz\n\" style=\"fill:#ffffff;\"/>\n   </g>\n   <g id=\"patch_3\">\n    <path clip-path=\"url(#p7ef67421b5)\" d=\"M 54.868182 239.758125 \nL 141.829221 239.758125 \nL 141.829221 90.155539 \nL 54.868182 90.155539 \nz\n\" style=\"fill:#1f77b4;\"/>\n   </g>\n   <g id=\"patch_4\">\n    <path clip-path=\"url(#p7ef67421b5)\" d=\"M 163.569481 239.758125 \nL 250.530519 239.758125 \nL 250.530519 32.672411 \nL 163.569481 32.672411 \nz\n\" style=\"fill:#1f77b4;\"/>\n   </g>\n   <g id=\"patch_5\">\n    <path clip-path=\"url(#p7ef67421b5)\" d=\"M 272.270779 239.758125 \nL 359.231818 239.758125 \nL 359.231818 234.583423 \nL 272.270779 234.583423 \nz\n\" style=\"fill:#1f77b4;\"/>\n   </g>\n   <g id=\"matplotlib.axis_1\">\n    <g id=\"xtick_1\">\n     <g id=\"line2d_1\">\n      <defs>\n       <path d=\"M 0 0 \nL 0 3.5 \n\" id=\"m1a96117c55\" style=\"stroke:#000000;stroke-width:0.8;\"/>\n      </defs>\n      <g>\n       <use style=\"stroke:#000000;stroke-width:0.8;\" x=\"98.348701\" xlink:href=\"#m1a96117c55\" y=\"239.758125\"/>\n      </g>\n     </g>\n     <g id=\"text_1\">\n      <!-- F -->\n      <defs>\n       <path d=\"M 9.8125 72.90625 \nL 51.703125 72.90625 \nL 51.703125 64.59375 \nL 19.671875 64.59375 \nL 19.671875 43.109375 \nL 48.578125 43.109375 \nL 48.578125 34.8125 \nL 19.671875 34.8125 \nL 19.671875 0 \nL 9.8125 0 \nz\n\" id=\"DejaVuSans-70\"/>\n      </defs>\n      <g transform=\"translate(95.47292 254.356563)scale(0.1 -0.1)\">\n       <use xlink:href=\"#DejaVuSans-70\"/>\n      </g>\n     </g>\n    </g>\n    <g id=\"xtick_2\">\n     <g id=\"line2d_2\">\n      <g>\n       <use style=\"stroke:#000000;stroke-width:0.8;\" x=\"207.05\" xlink:href=\"#m1a96117c55\" y=\"239.758125\"/>\n      </g>\n     </g>\n     <g id=\"text_2\">\n      <!-- M -->\n      <defs>\n       <path d=\"M 9.8125 72.90625 \nL 24.515625 72.90625 \nL 43.109375 23.296875 \nL 61.8125 72.90625 \nL 76.515625 72.90625 \nL 76.515625 0 \nL 66.890625 0 \nL 66.890625 64.015625 \nL 48.09375 14.015625 \nL 38.1875 14.015625 \nL 19.390625 64.015625 \nL 19.390625 0 \nL 9.8125 0 \nz\n\" id=\"DejaVuSans-77\"/>\n      </defs>\n      <g transform=\"translate(202.735938 254.356563)scale(0.1 -0.1)\">\n       <use xlink:href=\"#DejaVuSans-77\"/>\n      </g>\n     </g>\n    </g>\n    <g id=\"xtick_3\">\n     <g id=\"line2d_3\">\n      <g>\n       <use style=\"stroke:#000000;stroke-width:0.8;\" x=\"315.751299\" xlink:href=\"#m1a96117c55\" y=\"239.758125\"/>\n      </g>\n     </g>\n     <g id=\"text_3\">\n      <!-- O -->\n      <defs>\n       <path d=\"M 39.40625 66.21875 \nQ 28.65625 66.21875 22.328125 58.203125 \nQ 16.015625 50.203125 16.015625 36.375 \nQ 16.015625 22.609375 22.328125 14.59375 \nQ 28.65625 6.59375 39.40625 6.59375 \nQ 50.140625 6.59375 56.421875 14.59375 \nQ 62.703125 22.609375 62.703125 36.375 \nQ 62.703125 50.203125 56.421875 58.203125 \nQ 50.140625 66.21875 39.40625 66.21875 \nz\nM 39.40625 74.21875 \nQ 54.734375 74.21875 63.90625 63.9375 \nQ 73.09375 53.65625 73.09375 36.375 \nQ 73.09375 19.140625 63.90625 8.859375 \nQ 54.734375 -1.421875 39.40625 -1.421875 \nQ 24.03125 -1.421875 14.8125 8.828125 \nQ 5.609375 19.09375 5.609375 36.375 \nQ 5.609375 53.65625 14.8125 63.9375 \nQ 24.03125 74.21875 39.40625 74.21875 \nz\n\" id=\"DejaVuSans-79\"/>\n      </defs>\n      <g transform=\"translate(311.815361 254.356563)scale(0.1 -0.1)\">\n       <use xlink:href=\"#DejaVuSans-79\"/>\n      </g>\n     </g>\n    </g>\n   </g>\n   <g id=\"matplotlib.axis_2\">\n    <g id=\"ytick_1\">\n     <g id=\"line2d_4\">\n      <defs>\n       <path d=\"M 0 0 \nL -3.5 0 \n\" id=\"m054a770a0f\" style=\"stroke:#000000;stroke-width:0.8;\"/>\n      </defs>\n      <g>\n       <use style=\"stroke:#000000;stroke-width:0.8;\" x=\"39.65\" xlink:href=\"#m054a770a0f\" y=\"239.758125\"/>\n      </g>\n     </g>\n     <g id=\"text_4\">\n      <!-- 0 -->\n      <defs>\n       <path d=\"M 31.78125 66.40625 \nQ 24.171875 66.40625 20.328125 58.90625 \nQ 16.5 51.421875 16.5 36.375 \nQ 16.5 21.390625 20.328125 13.890625 \nQ 24.171875 6.390625 31.78125 6.390625 \nQ 39.453125 6.390625 43.28125 13.890625 \nQ 47.125 21.390625 47.125 36.375 \nQ 47.125 51.421875 43.28125 58.90625 \nQ 39.453125 66.40625 31.78125 66.40625 \nz\nM 31.78125 74.21875 \nQ 44.046875 74.21875 50.515625 64.515625 \nQ 56.984375 54.828125 56.984375 36.375 \nQ 56.984375 17.96875 50.515625 8.265625 \nQ 44.046875 -1.421875 31.78125 -1.421875 \nQ 19.53125 -1.421875 13.0625 8.265625 \nQ 6.59375 17.96875 6.59375 36.375 \nQ 6.59375 54.828125 13.0625 64.515625 \nQ 19.53125 74.21875 31.78125 74.21875 \nz\n\" id=\"DejaVuSans-48\"/>\n      </defs>\n      <g transform=\"translate(26.2875 243.557344)scale(0.1 -0.1)\">\n       <use xlink:href=\"#DejaVuSans-48\"/>\n      </g>\n     </g>\n    </g>\n    <g id=\"ytick_2\">\n     <g id=\"line2d_5\">\n      <g>\n       <use style=\"stroke:#000000;stroke-width:0.8;\" x=\"39.65\" xlink:href=\"#m054a770a0f\" y=\"215.349153\"/>\n      </g>\n     </g>\n     <g id=\"text_5\">\n      <!-- 1000 -->\n      <defs>\n       <path d=\"M 12.40625 8.296875 \nL 28.515625 8.296875 \nL 28.515625 63.921875 \nL 10.984375 60.40625 \nL 10.984375 69.390625 \nL 28.421875 72.90625 \nL 38.28125 72.90625 \nL 38.28125 8.296875 \nL 54.390625 8.296875 \nL 54.390625 0 \nL 12.40625 0 \nz\n\" id=\"DejaVuSans-49\"/>\n      </defs>\n      <g transform=\"translate(7.2 219.148372)scale(0.1 -0.1)\">\n       <use xlink:href=\"#DejaVuSans-49\"/>\n       <use x=\"63.623047\" xlink:href=\"#DejaVuSans-48\"/>\n       <use x=\"127.246094\" xlink:href=\"#DejaVuSans-48\"/>\n       <use x=\"190.869141\" xlink:href=\"#DejaVuSans-48\"/>\n      </g>\n     </g>\n    </g>\n    <g id=\"ytick_3\">\n     <g id=\"line2d_6\">\n      <g>\n       <use style=\"stroke:#000000;stroke-width:0.8;\" x=\"39.65\" xlink:href=\"#m054a770a0f\" y=\"190.940182\"/>\n      </g>\n     </g>\n     <g id=\"text_6\">\n      <!-- 2000 -->\n      <defs>\n       <path d=\"M 19.1875 8.296875 \nL 53.609375 8.296875 \nL 53.609375 0 \nL 7.328125 0 \nL 7.328125 8.296875 \nQ 12.9375 14.109375 22.625 23.890625 \nQ 32.328125 33.6875 34.8125 36.53125 \nQ 39.546875 41.84375 41.421875 45.53125 \nQ 43.3125 49.21875 43.3125 52.78125 \nQ 43.3125 58.59375 39.234375 62.25 \nQ 35.15625 65.921875 28.609375 65.921875 \nQ 23.96875 65.921875 18.8125 64.3125 \nQ 13.671875 62.703125 7.8125 59.421875 \nL 7.8125 69.390625 \nQ 13.765625 71.78125 18.9375 73 \nQ 24.125 74.21875 28.421875 74.21875 \nQ 39.75 74.21875 46.484375 68.546875 \nQ 53.21875 62.890625 53.21875 53.421875 \nQ 53.21875 48.921875 51.53125 44.890625 \nQ 49.859375 40.875 45.40625 35.40625 \nQ 44.1875 33.984375 37.640625 27.21875 \nQ 31.109375 20.453125 19.1875 8.296875 \nz\n\" id=\"DejaVuSans-50\"/>\n      </defs>\n      <g transform=\"translate(7.2 194.739401)scale(0.1 -0.1)\">\n       <use xlink:href=\"#DejaVuSans-50\"/>\n       <use x=\"63.623047\" xlink:href=\"#DejaVuSans-48\"/>\n       <use x=\"127.246094\" xlink:href=\"#DejaVuSans-48\"/>\n       <use x=\"190.869141\" xlink:href=\"#DejaVuSans-48\"/>\n      </g>\n     </g>\n    </g>\n    <g id=\"ytick_4\">\n     <g id=\"line2d_7\">\n      <g>\n       <use style=\"stroke:#000000;stroke-width:0.8;\" x=\"39.65\" xlink:href=\"#m054a770a0f\" y=\"166.53121\"/>\n      </g>\n     </g>\n     <g id=\"text_7\">\n      <!-- 3000 -->\n      <defs>\n       <path d=\"M 40.578125 39.3125 \nQ 47.65625 37.796875 51.625 33 \nQ 55.609375 28.21875 55.609375 21.1875 \nQ 55.609375 10.40625 48.1875 4.484375 \nQ 40.765625 -1.421875 27.09375 -1.421875 \nQ 22.515625 -1.421875 17.65625 -0.515625 \nQ 12.796875 0.390625 7.625 2.203125 \nL 7.625 11.71875 \nQ 11.71875 9.328125 16.59375 8.109375 \nQ 21.484375 6.890625 26.8125 6.890625 \nQ 36.078125 6.890625 40.9375 10.546875 \nQ 45.796875 14.203125 45.796875 21.1875 \nQ 45.796875 27.640625 41.28125 31.265625 \nQ 36.765625 34.90625 28.71875 34.90625 \nL 20.21875 34.90625 \nL 20.21875 43.015625 \nL 29.109375 43.015625 \nQ 36.375 43.015625 40.234375 45.921875 \nQ 44.09375 48.828125 44.09375 54.296875 \nQ 44.09375 59.90625 40.109375 62.90625 \nQ 36.140625 65.921875 28.71875 65.921875 \nQ 24.65625 65.921875 20.015625 65.03125 \nQ 15.375 64.15625 9.8125 62.3125 \nL 9.8125 71.09375 \nQ 15.4375 72.65625 20.34375 73.4375 \nQ 25.25 74.21875 29.59375 74.21875 \nQ 40.828125 74.21875 47.359375 69.109375 \nQ 53.90625 64.015625 53.90625 55.328125 \nQ 53.90625 49.265625 50.4375 45.09375 \nQ 46.96875 40.921875 40.578125 39.3125 \nz\n\" id=\"DejaVuSans-51\"/>\n      </defs>\n      <g transform=\"translate(7.2 170.330429)scale(0.1 -0.1)\">\n       <use xlink:href=\"#DejaVuSans-51\"/>\n       <use x=\"63.623047\" xlink:href=\"#DejaVuSans-48\"/>\n       <use x=\"127.246094\" xlink:href=\"#DejaVuSans-48\"/>\n       <use x=\"190.869141\" xlink:href=\"#DejaVuSans-48\"/>\n      </g>\n     </g>\n    </g>\n    <g id=\"ytick_5\">\n     <g id=\"line2d_8\">\n      <g>\n       <use style=\"stroke:#000000;stroke-width:0.8;\" x=\"39.65\" xlink:href=\"#m054a770a0f\" y=\"142.122239\"/>\n      </g>\n     </g>\n     <g id=\"text_8\">\n      <!-- 4000 -->\n      <defs>\n       <path d=\"M 37.796875 64.3125 \nL 12.890625 25.390625 \nL 37.796875 25.390625 \nz\nM 35.203125 72.90625 \nL 47.609375 72.90625 \nL 47.609375 25.390625 \nL 58.015625 25.390625 \nL 58.015625 17.1875 \nL 47.609375 17.1875 \nL 47.609375 0 \nL 37.796875 0 \nL 37.796875 17.1875 \nL 4.890625 17.1875 \nL 4.890625 26.703125 \nz\n\" id=\"DejaVuSans-52\"/>\n      </defs>\n      <g transform=\"translate(7.2 145.921458)scale(0.1 -0.1)\">\n       <use xlink:href=\"#DejaVuSans-52\"/>\n       <use x=\"63.623047\" xlink:href=\"#DejaVuSans-48\"/>\n       <use x=\"127.246094\" xlink:href=\"#DejaVuSans-48\"/>\n       <use x=\"190.869141\" xlink:href=\"#DejaVuSans-48\"/>\n      </g>\n     </g>\n    </g>\n    <g id=\"ytick_6\">\n     <g id=\"line2d_9\">\n      <g>\n       <use style=\"stroke:#000000;stroke-width:0.8;\" x=\"39.65\" xlink:href=\"#m054a770a0f\" y=\"117.713267\"/>\n      </g>\n     </g>\n     <g id=\"text_9\">\n      <!-- 5000 -->\n      <defs>\n       <path d=\"M 10.796875 72.90625 \nL 49.515625 72.90625 \nL 49.515625 64.59375 \nL 19.828125 64.59375 \nL 19.828125 46.734375 \nQ 21.96875 47.46875 24.109375 47.828125 \nQ 26.265625 48.1875 28.421875 48.1875 \nQ 40.625 48.1875 47.75 41.5 \nQ 54.890625 34.8125 54.890625 23.390625 \nQ 54.890625 11.625 47.5625 5.09375 \nQ 40.234375 -1.421875 26.90625 -1.421875 \nQ 22.3125 -1.421875 17.546875 -0.640625 \nQ 12.796875 0.140625 7.71875 1.703125 \nL 7.71875 11.625 \nQ 12.109375 9.234375 16.796875 8.0625 \nQ 21.484375 6.890625 26.703125 6.890625 \nQ 35.15625 6.890625 40.078125 11.328125 \nQ 45.015625 15.765625 45.015625 23.390625 \nQ 45.015625 31 40.078125 35.4375 \nQ 35.15625 39.890625 26.703125 39.890625 \nQ 22.75 39.890625 18.8125 39.015625 \nQ 14.890625 38.140625 10.796875 36.28125 \nz\n\" id=\"DejaVuSans-53\"/>\n      </defs>\n      <g transform=\"translate(7.2 121.512486)scale(0.1 -0.1)\">\n       <use xlink:href=\"#DejaVuSans-53\"/>\n       <use x=\"63.623047\" xlink:href=\"#DejaVuSans-48\"/>\n       <use x=\"127.246094\" xlink:href=\"#DejaVuSans-48\"/>\n       <use x=\"190.869141\" xlink:href=\"#DejaVuSans-48\"/>\n      </g>\n     </g>\n    </g>\n    <g id=\"ytick_7\">\n     <g id=\"line2d_10\">\n      <g>\n       <use style=\"stroke:#000000;stroke-width:0.8;\" x=\"39.65\" xlink:href=\"#m054a770a0f\" y=\"93.304296\"/>\n      </g>\n     </g>\n     <g id=\"text_10\">\n      <!-- 6000 -->\n      <defs>\n       <path d=\"M 33.015625 40.375 \nQ 26.375 40.375 22.484375 35.828125 \nQ 18.609375 31.296875 18.609375 23.390625 \nQ 18.609375 15.53125 22.484375 10.953125 \nQ 26.375 6.390625 33.015625 6.390625 \nQ 39.65625 6.390625 43.53125 10.953125 \nQ 47.40625 15.53125 47.40625 23.390625 \nQ 47.40625 31.296875 43.53125 35.828125 \nQ 39.65625 40.375 33.015625 40.375 \nz\nM 52.59375 71.296875 \nL 52.59375 62.3125 \nQ 48.875 64.0625 45.09375 64.984375 \nQ 41.3125 65.921875 37.59375 65.921875 \nQ 27.828125 65.921875 22.671875 59.328125 \nQ 17.53125 52.734375 16.796875 39.40625 \nQ 19.671875 43.65625 24.015625 45.921875 \nQ 28.375 48.1875 33.59375 48.1875 \nQ 44.578125 48.1875 50.953125 41.515625 \nQ 57.328125 34.859375 57.328125 23.390625 \nQ 57.328125 12.15625 50.6875 5.359375 \nQ 44.046875 -1.421875 33.015625 -1.421875 \nQ 20.359375 -1.421875 13.671875 8.265625 \nQ 6.984375 17.96875 6.984375 36.375 \nQ 6.984375 53.65625 15.1875 63.9375 \nQ 23.390625 74.21875 37.203125 74.21875 \nQ 40.921875 74.21875 44.703125 73.484375 \nQ 48.484375 72.75 52.59375 71.296875 \nz\n\" id=\"DejaVuSans-54\"/>\n      </defs>\n      <g transform=\"translate(7.2 97.103515)scale(0.1 -0.1)\">\n       <use xlink:href=\"#DejaVuSans-54\"/>\n       <use x=\"63.623047\" xlink:href=\"#DejaVuSans-48\"/>\n       <use x=\"127.246094\" xlink:href=\"#DejaVuSans-48\"/>\n       <use x=\"190.869141\" xlink:href=\"#DejaVuSans-48\"/>\n      </g>\n     </g>\n    </g>\n    <g id=\"ytick_8\">\n     <g id=\"line2d_11\">\n      <g>\n       <use style=\"stroke:#000000;stroke-width:0.8;\" x=\"39.65\" xlink:href=\"#m054a770a0f\" y=\"68.895324\"/>\n      </g>\n     </g>\n     <g id=\"text_11\">\n      <!-- 7000 -->\n      <defs>\n       <path d=\"M 8.203125 72.90625 \nL 55.078125 72.90625 \nL 55.078125 68.703125 \nL 28.609375 0 \nL 18.3125 0 \nL 43.21875 64.59375 \nL 8.203125 64.59375 \nz\n\" id=\"DejaVuSans-55\"/>\n      </defs>\n      <g transform=\"translate(7.2 72.694543)scale(0.1 -0.1)\">\n       <use xlink:href=\"#DejaVuSans-55\"/>\n       <use x=\"63.623047\" xlink:href=\"#DejaVuSans-48\"/>\n       <use x=\"127.246094\" xlink:href=\"#DejaVuSans-48\"/>\n       <use x=\"190.869141\" xlink:href=\"#DejaVuSans-48\"/>\n      </g>\n     </g>\n    </g>\n    <g id=\"ytick_9\">\n     <g id=\"line2d_12\">\n      <g>\n       <use style=\"stroke:#000000;stroke-width:0.8;\" x=\"39.65\" xlink:href=\"#m054a770a0f\" y=\"44.486353\"/>\n      </g>\n     </g>\n     <g id=\"text_12\">\n      <!-- 8000 -->\n      <defs>\n       <path d=\"M 31.78125 34.625 \nQ 24.75 34.625 20.71875 30.859375 \nQ 16.703125 27.09375 16.703125 20.515625 \nQ 16.703125 13.921875 20.71875 10.15625 \nQ 24.75 6.390625 31.78125 6.390625 \nQ 38.8125 6.390625 42.859375 10.171875 \nQ 46.921875 13.96875 46.921875 20.515625 \nQ 46.921875 27.09375 42.890625 30.859375 \nQ 38.875 34.625 31.78125 34.625 \nz\nM 21.921875 38.8125 \nQ 15.578125 40.375 12.03125 44.71875 \nQ 8.5 49.078125 8.5 55.328125 \nQ 8.5 64.0625 14.71875 69.140625 \nQ 20.953125 74.21875 31.78125 74.21875 \nQ 42.671875 74.21875 48.875 69.140625 \nQ 55.078125 64.0625 55.078125 55.328125 \nQ 55.078125 49.078125 51.53125 44.71875 \nQ 48 40.375 41.703125 38.8125 \nQ 48.828125 37.15625 52.796875 32.3125 \nQ 56.78125 27.484375 56.78125 20.515625 \nQ 56.78125 9.90625 50.3125 4.234375 \nQ 43.84375 -1.421875 31.78125 -1.421875 \nQ 19.734375 -1.421875 13.25 4.234375 \nQ 6.78125 9.90625 6.78125 20.515625 \nQ 6.78125 27.484375 10.78125 32.3125 \nQ 14.796875 37.15625 21.921875 38.8125 \nz\nM 18.3125 54.390625 \nQ 18.3125 48.734375 21.84375 45.5625 \nQ 25.390625 42.390625 31.78125 42.390625 \nQ 38.140625 42.390625 41.71875 45.5625 \nQ 45.3125 48.734375 45.3125 54.390625 \nQ 45.3125 60.0625 41.71875 63.234375 \nQ 38.140625 66.40625 31.78125 66.40625 \nQ 25.390625 66.40625 21.84375 63.234375 \nQ 18.3125 60.0625 18.3125 54.390625 \nz\n\" id=\"DejaVuSans-56\"/>\n      </defs>\n      <g transform=\"translate(7.2 48.285572)scale(0.1 -0.1)\">\n       <use xlink:href=\"#DejaVuSans-56\"/>\n       <use x=\"63.623047\" xlink:href=\"#DejaVuSans-48\"/>\n       <use x=\"127.246094\" xlink:href=\"#DejaVuSans-48\"/>\n       <use x=\"190.869141\" xlink:href=\"#DejaVuSans-48\"/>\n      </g>\n     </g>\n    </g>\n   </g>\n   <g id=\"patch_6\">\n    <path d=\"M 39.65 239.758125 \nL 39.65 22.318125 \n\" style=\"fill:none;stroke:#000000;stroke-linecap:square;stroke-linejoin:miter;stroke-width:0.8;\"/>\n   </g>\n   <g id=\"patch_7\">\n    <path d=\"M 374.45 239.758125 \nL 374.45 22.318125 \n\" style=\"fill:none;stroke:#000000;stroke-linecap:square;stroke-linejoin:miter;stroke-width:0.8;\"/>\n   </g>\n   <g id=\"patch_8\">\n    <path d=\"M 39.65 239.758125 \nL 374.45 239.758125 \n\" style=\"fill:none;stroke:#000000;stroke-linecap:square;stroke-linejoin:miter;stroke-width:0.8;\"/>\n   </g>\n   <g id=\"patch_9\">\n    <path d=\"M 39.65 22.318125 \nL 374.45 22.318125 \n\" style=\"fill:none;stroke:#000000;stroke-linecap:square;stroke-linejoin:miter;stroke-width:0.8;\"/>\n   </g>\n   <g id=\"text_13\">\n    <!-- Gender Distribution -->\n    <defs>\n     <path d=\"M 59.515625 10.40625 \nL 59.515625 29.984375 \nL 43.40625 29.984375 \nL 43.40625 38.09375 \nL 69.28125 38.09375 \nL 69.28125 6.78125 \nQ 63.578125 2.734375 56.6875 0.65625 \nQ 49.8125 -1.421875 42 -1.421875 \nQ 24.90625 -1.421875 15.25 8.5625 \nQ 5.609375 18.5625 5.609375 36.375 \nQ 5.609375 54.25 15.25 64.234375 \nQ 24.90625 74.21875 42 74.21875 \nQ 49.125 74.21875 55.546875 72.453125 \nQ 61.96875 70.703125 67.390625 67.28125 \nL 67.390625 56.78125 \nQ 61.921875 61.421875 55.765625 63.765625 \nQ 49.609375 66.109375 42.828125 66.109375 \nQ 29.4375 66.109375 22.71875 58.640625 \nQ 16.015625 51.171875 16.015625 36.375 \nQ 16.015625 21.625 22.71875 14.15625 \nQ 29.4375 6.6875 42.828125 6.6875 \nQ 48.046875 6.6875 52.140625 7.59375 \nQ 56.25 8.5 59.515625 10.40625 \nz\n\" id=\"DejaVuSans-71\"/>\n     <path d=\"M 56.203125 29.59375 \nL 56.203125 25.203125 \nL 14.890625 25.203125 \nQ 15.484375 15.921875 20.484375 11.0625 \nQ 25.484375 6.203125 34.421875 6.203125 \nQ 39.59375 6.203125 44.453125 7.46875 \nQ 49.3125 8.734375 54.109375 11.28125 \nL 54.109375 2.78125 \nQ 49.265625 0.734375 44.1875 -0.34375 \nQ 39.109375 -1.421875 33.890625 -1.421875 \nQ 20.796875 -1.421875 13.15625 6.1875 \nQ 5.515625 13.8125 5.515625 26.8125 \nQ 5.515625 40.234375 12.765625 48.109375 \nQ 20.015625 56 32.328125 56 \nQ 43.359375 56 49.78125 48.890625 \nQ 56.203125 41.796875 56.203125 29.59375 \nz\nM 47.21875 32.234375 \nQ 47.125 39.59375 43.09375 43.984375 \nQ 39.0625 48.390625 32.421875 48.390625 \nQ 24.90625 48.390625 20.390625 44.140625 \nQ 15.875 39.890625 15.1875 32.171875 \nz\n\" id=\"DejaVuSans-101\"/>\n     <path d=\"M 54.890625 33.015625 \nL 54.890625 0 \nL 45.90625 0 \nL 45.90625 32.71875 \nQ 45.90625 40.484375 42.875 44.328125 \nQ 39.84375 48.1875 33.796875 48.1875 \nQ 26.515625 48.1875 22.3125 43.546875 \nQ 18.109375 38.921875 18.109375 30.90625 \nL 18.109375 0 \nL 9.078125 0 \nL 9.078125 54.6875 \nL 18.109375 54.6875 \nL 18.109375 46.1875 \nQ 21.34375 51.125 25.703125 53.5625 \nQ 30.078125 56 35.796875 56 \nQ 45.21875 56 50.046875 50.171875 \nQ 54.890625 44.34375 54.890625 33.015625 \nz\n\" id=\"DejaVuSans-110\"/>\n     <path d=\"M 45.40625 46.390625 \nL 45.40625 75.984375 \nL 54.390625 75.984375 \nL 54.390625 0 \nL 45.40625 0 \nL 45.40625 8.203125 \nQ 42.578125 3.328125 38.25 0.953125 \nQ 33.9375 -1.421875 27.875 -1.421875 \nQ 17.96875 -1.421875 11.734375 6.484375 \nQ 5.515625 14.40625 5.515625 27.296875 \nQ 5.515625 40.1875 11.734375 48.09375 \nQ 17.96875 56 27.875 56 \nQ 33.9375 56 38.25 53.625 \nQ 42.578125 51.265625 45.40625 46.390625 \nz\nM 14.796875 27.296875 \nQ 14.796875 17.390625 18.875 11.75 \nQ 22.953125 6.109375 30.078125 6.109375 \nQ 37.203125 6.109375 41.296875 11.75 \nQ 45.40625 17.390625 45.40625 27.296875 \nQ 45.40625 37.203125 41.296875 42.84375 \nQ 37.203125 48.484375 30.078125 48.484375 \nQ 22.953125 48.484375 18.875 42.84375 \nQ 14.796875 37.203125 14.796875 27.296875 \nz\n\" id=\"DejaVuSans-100\"/>\n     <path d=\"M 41.109375 46.296875 \nQ 39.59375 47.171875 37.8125 47.578125 \nQ 36.03125 48 33.890625 48 \nQ 26.265625 48 22.1875 43.046875 \nQ 18.109375 38.09375 18.109375 28.8125 \nL 18.109375 0 \nL 9.078125 0 \nL 9.078125 54.6875 \nL 18.109375 54.6875 \nL 18.109375 46.1875 \nQ 20.953125 51.171875 25.484375 53.578125 \nQ 30.03125 56 36.53125 56 \nQ 37.453125 56 38.578125 55.875 \nQ 39.703125 55.765625 41.0625 55.515625 \nz\n\" id=\"DejaVuSans-114\"/>\n     <path id=\"DejaVuSans-32\"/>\n     <path d=\"M 19.671875 64.796875 \nL 19.671875 8.109375 \nL 31.59375 8.109375 \nQ 46.6875 8.109375 53.6875 14.9375 \nQ 60.6875 21.78125 60.6875 36.53125 \nQ 60.6875 51.171875 53.6875 57.984375 \nQ 46.6875 64.796875 31.59375 64.796875 \nz\nM 9.8125 72.90625 \nL 30.078125 72.90625 \nQ 51.265625 72.90625 61.171875 64.09375 \nQ 71.09375 55.28125 71.09375 36.53125 \nQ 71.09375 17.671875 61.125 8.828125 \nQ 51.171875 0 30.078125 0 \nL 9.8125 0 \nz\n\" id=\"DejaVuSans-68\"/>\n     <path d=\"M 9.421875 54.6875 \nL 18.40625 54.6875 \nL 18.40625 0 \nL 9.421875 0 \nz\nM 9.421875 75.984375 \nL 18.40625 75.984375 \nL 18.40625 64.59375 \nL 9.421875 64.59375 \nz\n\" id=\"DejaVuSans-105\"/>\n     <path d=\"M 44.28125 53.078125 \nL 44.28125 44.578125 \nQ 40.484375 46.53125 36.375 47.5 \nQ 32.28125 48.484375 27.875 48.484375 \nQ 21.1875 48.484375 17.84375 46.4375 \nQ 14.5 44.390625 14.5 40.28125 \nQ 14.5 37.15625 16.890625 35.375 \nQ 19.28125 33.59375 26.515625 31.984375 \nL 29.59375 31.296875 \nQ 39.15625 29.25 43.1875 25.515625 \nQ 47.21875 21.78125 47.21875 15.09375 \nQ 47.21875 7.46875 41.1875 3.015625 \nQ 35.15625 -1.421875 24.609375 -1.421875 \nQ 20.21875 -1.421875 15.453125 -0.5625 \nQ 10.6875 0.296875 5.421875 2 \nL 5.421875 11.28125 \nQ 10.40625 8.6875 15.234375 7.390625 \nQ 20.0625 6.109375 24.8125 6.109375 \nQ 31.15625 6.109375 34.5625 8.28125 \nQ 37.984375 10.453125 37.984375 14.40625 \nQ 37.984375 18.0625 35.515625 20.015625 \nQ 33.0625 21.96875 24.703125 23.78125 \nL 21.578125 24.515625 \nQ 13.234375 26.265625 9.515625 29.90625 \nQ 5.8125 33.546875 5.8125 39.890625 \nQ 5.8125 47.609375 11.28125 51.796875 \nQ 16.75 56 26.8125 56 \nQ 31.78125 56 36.171875 55.265625 \nQ 40.578125 54.546875 44.28125 53.078125 \nz\n\" id=\"DejaVuSans-115\"/>\n     <path d=\"M 18.3125 70.21875 \nL 18.3125 54.6875 \nL 36.8125 54.6875 \nL 36.8125 47.703125 \nL 18.3125 47.703125 \nL 18.3125 18.015625 \nQ 18.3125 11.328125 20.140625 9.421875 \nQ 21.96875 7.515625 27.59375 7.515625 \nL 36.8125 7.515625 \nL 36.8125 0 \nL 27.59375 0 \nQ 17.1875 0 13.234375 3.875 \nQ 9.28125 7.765625 9.28125 18.015625 \nL 9.28125 47.703125 \nL 2.6875 47.703125 \nL 2.6875 54.6875 \nL 9.28125 54.6875 \nL 9.28125 70.21875 \nz\n\" id=\"DejaVuSans-116\"/>\n     <path d=\"M 48.6875 27.296875 \nQ 48.6875 37.203125 44.609375 42.84375 \nQ 40.53125 48.484375 33.40625 48.484375 \nQ 26.265625 48.484375 22.1875 42.84375 \nQ 18.109375 37.203125 18.109375 27.296875 \nQ 18.109375 17.390625 22.1875 11.75 \nQ 26.265625 6.109375 33.40625 6.109375 \nQ 40.53125 6.109375 44.609375 11.75 \nQ 48.6875 17.390625 48.6875 27.296875 \nz\nM 18.109375 46.390625 \nQ 20.953125 51.265625 25.265625 53.625 \nQ 29.59375 56 35.59375 56 \nQ 45.5625 56 51.78125 48.09375 \nQ 58.015625 40.1875 58.015625 27.296875 \nQ 58.015625 14.40625 51.78125 6.484375 \nQ 45.5625 -1.421875 35.59375 -1.421875 \nQ 29.59375 -1.421875 25.265625 0.953125 \nQ 20.953125 3.328125 18.109375 8.203125 \nL 18.109375 0 \nL 9.078125 0 \nL 9.078125 75.984375 \nL 18.109375 75.984375 \nz\n\" id=\"DejaVuSans-98\"/>\n     <path d=\"M 8.5 21.578125 \nL 8.5 54.6875 \nL 17.484375 54.6875 \nL 17.484375 21.921875 \nQ 17.484375 14.15625 20.5 10.265625 \nQ 23.53125 6.390625 29.59375 6.390625 \nQ 36.859375 6.390625 41.078125 11.03125 \nQ 45.3125 15.671875 45.3125 23.6875 \nL 45.3125 54.6875 \nL 54.296875 54.6875 \nL 54.296875 0 \nL 45.3125 0 \nL 45.3125 8.40625 \nQ 42.046875 3.421875 37.71875 1 \nQ 33.40625 -1.421875 27.6875 -1.421875 \nQ 18.265625 -1.421875 13.375 4.4375 \nQ 8.5 10.296875 8.5 21.578125 \nz\nM 31.109375 56 \nz\n\" id=\"DejaVuSans-117\"/>\n     <path d=\"M 30.609375 48.390625 \nQ 23.390625 48.390625 19.1875 42.75 \nQ 14.984375 37.109375 14.984375 27.296875 \nQ 14.984375 17.484375 19.15625 11.84375 \nQ 23.34375 6.203125 30.609375 6.203125 \nQ 37.796875 6.203125 41.984375 11.859375 \nQ 46.1875 17.53125 46.1875 27.296875 \nQ 46.1875 37.015625 41.984375 42.703125 \nQ 37.796875 48.390625 30.609375 48.390625 \nz\nM 30.609375 56 \nQ 42.328125 56 49.015625 48.375 \nQ 55.71875 40.765625 55.71875 27.296875 \nQ 55.71875 13.875 49.015625 6.21875 \nQ 42.328125 -1.421875 30.609375 -1.421875 \nQ 18.84375 -1.421875 12.171875 6.21875 \nQ 5.515625 13.875 5.515625 27.296875 \nQ 5.515625 40.765625 12.171875 48.375 \nQ 18.84375 56 30.609375 56 \nz\n\" id=\"DejaVuSans-111\"/>\n    </defs>\n    <g transform=\"translate(148.029688 16.318125)scale(0.12 -0.12)\">\n     <use xlink:href=\"#DejaVuSans-71\"/>\n     <use x=\"77.490234\" xlink:href=\"#DejaVuSans-101\"/>\n     <use x=\"139.013672\" xlink:href=\"#DejaVuSans-110\"/>\n     <use x=\"202.392578\" xlink:href=\"#DejaVuSans-100\"/>\n     <use x=\"265.869141\" xlink:href=\"#DejaVuSans-101\"/>\n     <use x=\"327.392578\" xlink:href=\"#DejaVuSans-114\"/>\n     <use x=\"368.505859\" xlink:href=\"#DejaVuSans-32\"/>\n     <use x=\"400.292969\" xlink:href=\"#DejaVuSans-68\"/>\n     <use x=\"477.294922\" xlink:href=\"#DejaVuSans-105\"/>\n     <use x=\"505.078125\" xlink:href=\"#DejaVuSans-115\"/>\n     <use x=\"557.177734\" xlink:href=\"#DejaVuSans-116\"/>\n     <use x=\"596.386719\" xlink:href=\"#DejaVuSans-114\"/>\n     <use x=\"637.5\" xlink:href=\"#DejaVuSans-105\"/>\n     <use x=\"665.283203\" xlink:href=\"#DejaVuSans-98\"/>\n     <use x=\"728.759766\" xlink:href=\"#DejaVuSans-117\"/>\n     <use x=\"792.138672\" xlink:href=\"#DejaVuSans-116\"/>\n     <use x=\"831.347656\" xlink:href=\"#DejaVuSans-105\"/>\n     <use x=\"859.130859\" xlink:href=\"#DejaVuSans-111\"/>\n     <use x=\"920.3125\" xlink:href=\"#DejaVuSans-110\"/>\n    </g>\n   </g>\n  </g>\n </g>\n <defs>\n  <clipPath id=\"p7ef67421b5\">\n   <rect height=\"217.44\" width=\"334.8\" x=\"39.65\" y=\"22.318125\"/>\n  </clipPath>\n </defs>\n</svg>\n",
      "image/png": "[encoded data removed]"
     },
     "metadata": {
      "needs_background": "light"
     }
    }
   ],
   "source": [
    "plt.bar(['F', 'M', 'O'],profile.groupby('gender').id.count())\n",
    "plt.title('Gender Distribution')"
   ]
  },
  {
   "cell_type": "code",
   "execution_count": 12,
   "metadata": {
    "pycharm": {
     "name": "#%%\n"
    }
   },
   "outputs": [
    {
     "output_type": "execute_result",
     "data": {
      "text/plain": "Text(0.5, 1.0, '60+ yrs Old Other Income Distribution')"
     },
     "metadata": {},
     "execution_count": 12
    },
    {
     "output_type": "display_data",
     "data": {
      "text/plain": "<Figure size 2160x1440 with 9 Axes>",
      "image/svg+xml": "<?xml version=\"1.0\" encoding=\"utf-8\" standalone=\"no\"?>\n<!DOCTYPE svg PUBLIC \"-//W3C//DTD SVG 1.1//EN\"\n  \"http://www.w3.org/Graphics/SVG/1.1/DTD/svg11.dtd\">\n<!-- Created with matplotlib (https://matplotlib.org/) -->\n<svg height=\"1133.39625pt\" version=\"1.1\" viewBox=\"0 0 1717.777579 1133.39625\" width=\"1717.777579pt\" xmlns=\"http://www.w3.org/2000/svg\" xmlns:xlink=\"http://www.w3.org/1999/xlink\">\n <defs>\n  <style type=\"text/css\">\n*{stroke-linecap:butt;stroke-linejoin:round;}\n  </style>\n </defs>\n <g id=\"figure_1\">\n  <g id=\"patch_1\">\n   <path d=\"M 0 1133.39625 \nL 1717.777579 1133.39625 \nL 1717.777579 0 \nL 0 0 \nz\n\" style=\"fill:none;\"/>\n  </g>\n  <g id=\"axes_1\">\n   <g id=\"patch_2\">\n    <path d=\"M 33.2875 342.082831 \nL 525.640441 342.082831 \nL 525.640441 22.318125 \nL 33.2875 22.318125 \nz\n\" style=\"fill:#ffffff;\"/>\n   </g>\n   <g id=\"patch_3\">\n    <path clip-path=\"url(#pef33aa6b5a)\" d=\"M 55.667179 342.082831 \nL 145.185896 342.082831 \nL 145.185896 51.339412 \nL 55.667179 51.339412 \nz\n\" style=\"fill:#1f77b4;\"/>\n   </g>\n   <g id=\"patch_4\">\n    <path clip-path=\"url(#pef33aa6b5a)\" d=\"M 145.185896 342.082831 \nL 234.704612 342.082831 \nL 234.704612 37.545016 \nL 145.185896 37.545016 \nz\n\" style=\"fill:#1f77b4;\"/>\n   </g>\n   <g id=\"patch_5\">\n    <path clip-path=\"url(#pef33aa6b5a)\" d=\"M 234.704612 342.082831 \nL 324.223329 342.082831 \nL 324.223329 63.011593 \nL 234.704612 63.011593 \nz\n\" style=\"fill:#1f77b4;\"/>\n   </g>\n   <g id=\"patch_6\">\n    <path clip-path=\"url(#pef33aa6b5a)\" d=\"M 324.223329 342.082831 \nL 413.742045 342.082831 \nL 413.742045 247.644275 \nL 324.223329 247.644275 \nz\n\" style=\"fill:#1f77b4;\"/>\n   </g>\n   <g id=\"patch_7\">\n    <path clip-path=\"url(#pef33aa6b5a)\" d=\"M 413.742045 342.082831 \nL 503.260762 342.082831 \nL 503.260762 320.860683 \nL 413.742045 320.860683 \nz\n\" style=\"fill:#1f77b4;\"/>\n   </g>\n   <g id=\"matplotlib.axis_1\">\n    <g id=\"xtick_1\">\n     <g id=\"line2d_1\">\n      <path clip-path=\"url(#pef33aa6b5a)\" d=\"M 55.667179 342.082831 \nL 55.667179 22.318125 \n\" style=\"fill:none;stroke:#b0b0b0;stroke-linecap:square;stroke-width:0.8;\"/>\n     </g>\n     <g id=\"line2d_2\">\n      <defs>\n       <path d=\"M 0 0 \nL 0 3.5 \n\" id=\"m5169d1b306\" style=\"stroke:#000000;stroke-width:0.8;\"/>\n      </defs>\n      <g>\n       <use style=\"stroke:#000000;stroke-width:0.8;\" x=\"55.667179\" xlink:href=\"#m5169d1b306\" y=\"342.082831\"/>\n      </g>\n     </g>\n     <g id=\"text_1\">\n      <!-- 30000 -->\n      <defs>\n       <path d=\"M 40.578125 39.3125 \nQ 47.65625 37.796875 51.625 33 \nQ 55.609375 28.21875 55.609375 21.1875 \nQ 55.609375 10.40625 48.1875 4.484375 \nQ 40.765625 -1.421875 27.09375 -1.421875 \nQ 22.515625 -1.421875 17.65625 -0.515625 \nQ 12.796875 0.390625 7.625 2.203125 \nL 7.625 11.71875 \nQ 11.71875 9.328125 16.59375 8.109375 \nQ 21.484375 6.890625 26.8125 6.890625 \nQ 36.078125 6.890625 40.9375 10.546875 \nQ 45.796875 14.203125 45.796875 21.1875 \nQ 45.796875 27.640625 41.28125 31.265625 \nQ 36.765625 34.90625 28.71875 34.90625 \nL 20.21875 34.90625 \nL 20.21875 43.015625 \nL 29.109375 43.015625 \nQ 36.375 43.015625 40.234375 45.921875 \nQ 44.09375 48.828125 44.09375 54.296875 \nQ 44.09375 59.90625 40.109375 62.90625 \nQ 36.140625 65.921875 28.71875 65.921875 \nQ 24.65625 65.921875 20.015625 65.03125 \nQ 15.375 64.15625 9.8125 62.3125 \nL 9.8125 71.09375 \nQ 15.4375 72.65625 20.34375 73.4375 \nQ 25.25 74.21875 29.59375 74.21875 \nQ 40.828125 74.21875 47.359375 69.109375 \nQ 53.90625 64.015625 53.90625 55.328125 \nQ 53.90625 49.265625 50.4375 45.09375 \nQ 46.96875 40.921875 40.578125 39.3125 \nz\n\" id=\"DejaVuSans-51\"/>\n       <path d=\"M 31.78125 66.40625 \nQ 24.171875 66.40625 20.328125 58.90625 \nQ 16.5 51.421875 16.5 36.375 \nQ 16.5 21.390625 20.328125 13.890625 \nQ 24.171875 6.390625 31.78125 6.390625 \nQ 39.453125 6.390625 43.28125 13.890625 \nQ 47.125 21.390625 47.125 36.375 \nQ 47.125 51.421875 43.28125 58.90625 \nQ 39.453125 66.40625 31.78125 66.40625 \nz\nM 31.78125 74.21875 \nQ 44.046875 74.21875 50.515625 64.515625 \nQ 56.984375 54.828125 56.984375 36.375 \nQ 56.984375 17.96875 50.515625 8.265625 \nQ 44.046875 -1.421875 31.78125 -1.421875 \nQ 19.53125 -1.421875 13.0625 8.265625 \nQ 6.59375 17.96875 6.59375 36.375 \nQ 6.59375 54.828125 13.0625 64.515625 \nQ 19.53125 74.21875 31.78125 74.21875 \nz\n\" id=\"DejaVuSans-48\"/>\n      </defs>\n      <g transform=\"translate(39.760929 356.681268)scale(0.1 -0.1)\">\n       <use xlink:href=\"#DejaVuSans-51\"/>\n       <use x=\"63.623047\" xlink:href=\"#DejaVuSans-48\"/>\n       <use x=\"127.246094\" xlink:href=\"#DejaVuSans-48\"/>\n       <use x=\"190.869141\" xlink:href=\"#DejaVuSans-48\"/>\n       <use x=\"254.492188\" xlink:href=\"#DejaVuSans-48\"/>\n      </g>\n     </g>\n    </g>\n    <g id=\"xtick_2\">\n     <g id=\"line2d_3\">\n      <path clip-path=\"url(#pef33aa6b5a)\" d=\"M 119.60912 342.082831 \nL 119.60912 22.318125 \n\" style=\"fill:none;stroke:#b0b0b0;stroke-linecap:square;stroke-width:0.8;\"/>\n     </g>\n     <g id=\"line2d_4\">\n      <g>\n       <use style=\"stroke:#000000;stroke-width:0.8;\" x=\"119.60912\" xlink:href=\"#m5169d1b306\" y=\"342.082831\"/>\n      </g>\n     </g>\n     <g id=\"text_2\">\n      <!-- 40000 -->\n      <defs>\n       <path d=\"M 37.796875 64.3125 \nL 12.890625 25.390625 \nL 37.796875 25.390625 \nz\nM 35.203125 72.90625 \nL 47.609375 72.90625 \nL 47.609375 25.390625 \nL 58.015625 25.390625 \nL 58.015625 17.1875 \nL 47.609375 17.1875 \nL 47.609375 0 \nL 37.796875 0 \nL 37.796875 17.1875 \nL 4.890625 17.1875 \nL 4.890625 26.703125 \nz\n\" id=\"DejaVuSans-52\"/>\n      </defs>\n      <g transform=\"translate(103.70287 356.681268)scale(0.1 -0.1)\">\n       <use xlink:href=\"#DejaVuSans-52\"/>\n       <use x=\"63.623047\" xlink:href=\"#DejaVuSans-48\"/>\n       <use x=\"127.246094\" xlink:href=\"#DejaVuSans-48\"/>\n       <use x=\"190.869141\" xlink:href=\"#DejaVuSans-48\"/>\n       <use x=\"254.492188\" xlink:href=\"#DejaVuSans-48\"/>\n      </g>\n     </g>\n    </g>\n    <g id=\"xtick_3\">\n     <g id=\"line2d_5\">\n      <path clip-path=\"url(#pef33aa6b5a)\" d=\"M 183.55106 342.082831 \nL 183.55106 22.318125 \n\" style=\"fill:none;stroke:#b0b0b0;stroke-linecap:square;stroke-width:0.8;\"/>\n     </g>\n     <g id=\"line2d_6\">\n      <g>\n       <use style=\"stroke:#000000;stroke-width:0.8;\" x=\"183.55106\" xlink:href=\"#m5169d1b306\" y=\"342.082831\"/>\n      </g>\n     </g>\n     <g id=\"text_3\">\n      <!-- 50000 -->\n      <defs>\n       <path d=\"M 10.796875 72.90625 \nL 49.515625 72.90625 \nL 49.515625 64.59375 \nL 19.828125 64.59375 \nL 19.828125 46.734375 \nQ 21.96875 47.46875 24.109375 47.828125 \nQ 26.265625 48.1875 28.421875 48.1875 \nQ 40.625 48.1875 47.75 41.5 \nQ 54.890625 34.8125 54.890625 23.390625 \nQ 54.890625 11.625 47.5625 5.09375 \nQ 40.234375 -1.421875 26.90625 -1.421875 \nQ 22.3125 -1.421875 17.546875 -0.640625 \nQ 12.796875 0.140625 7.71875 1.703125 \nL 7.71875 11.625 \nQ 12.109375 9.234375 16.796875 8.0625 \nQ 21.484375 6.890625 26.703125 6.890625 \nQ 35.15625 6.890625 40.078125 11.328125 \nQ 45.015625 15.765625 45.015625 23.390625 \nQ 45.015625 31 40.078125 35.4375 \nQ 35.15625 39.890625 26.703125 39.890625 \nQ 22.75 39.890625 18.8125 39.015625 \nQ 14.890625 38.140625 10.796875 36.28125 \nz\n\" id=\"DejaVuSans-53\"/>\n      </defs>\n      <g transform=\"translate(167.64481 356.681268)scale(0.1 -0.1)\">\n       <use xlink:href=\"#DejaVuSans-53\"/>\n       <use x=\"63.623047\" xlink:href=\"#DejaVuSans-48\"/>\n       <use x=\"127.246094\" xlink:href=\"#DejaVuSans-48\"/>\n       <use x=\"190.869141\" xlink:href=\"#DejaVuSans-48\"/>\n       <use x=\"254.492188\" xlink:href=\"#DejaVuSans-48\"/>\n      </g>\n     </g>\n    </g>\n    <g id=\"xtick_4\">\n     <g id=\"line2d_7\">\n      <path clip-path=\"url(#pef33aa6b5a)\" d=\"M 247.493 342.082831 \nL 247.493 22.318125 \n\" style=\"fill:none;stroke:#b0b0b0;stroke-linecap:square;stroke-width:0.8;\"/>\n     </g>\n     <g id=\"line2d_8\">\n      <g>\n       <use style=\"stroke:#000000;stroke-width:0.8;\" x=\"247.493\" xlink:href=\"#m5169d1b306\" y=\"342.082831\"/>\n      </g>\n     </g>\n     <g id=\"text_4\">\n      <!-- 60000 -->\n      <defs>\n       <path d=\"M 33.015625 40.375 \nQ 26.375 40.375 22.484375 35.828125 \nQ 18.609375 31.296875 18.609375 23.390625 \nQ 18.609375 15.53125 22.484375 10.953125 \nQ 26.375 6.390625 33.015625 6.390625 \nQ 39.65625 6.390625 43.53125 10.953125 \nQ 47.40625 15.53125 47.40625 23.390625 \nQ 47.40625 31.296875 43.53125 35.828125 \nQ 39.65625 40.375 33.015625 40.375 \nz\nM 52.59375 71.296875 \nL 52.59375 62.3125 \nQ 48.875 64.0625 45.09375 64.984375 \nQ 41.3125 65.921875 37.59375 65.921875 \nQ 27.828125 65.921875 22.671875 59.328125 \nQ 17.53125 52.734375 16.796875 39.40625 \nQ 19.671875 43.65625 24.015625 45.921875 \nQ 28.375 48.1875 33.59375 48.1875 \nQ 44.578125 48.1875 50.953125 41.515625 \nQ 57.328125 34.859375 57.328125 23.390625 \nQ 57.328125 12.15625 50.6875 5.359375 \nQ 44.046875 -1.421875 33.015625 -1.421875 \nQ 20.359375 -1.421875 13.671875 8.265625 \nQ 6.984375 17.96875 6.984375 36.375 \nQ 6.984375 53.65625 15.1875 63.9375 \nQ 23.390625 74.21875 37.203125 74.21875 \nQ 40.921875 74.21875 44.703125 73.484375 \nQ 48.484375 72.75 52.59375 71.296875 \nz\n\" id=\"DejaVuSans-54\"/>\n      </defs>\n      <g transform=\"translate(231.58675 356.681268)scale(0.1 -0.1)\">\n       <use xlink:href=\"#DejaVuSans-54\"/>\n       <use x=\"63.623047\" xlink:href=\"#DejaVuSans-48\"/>\n       <use x=\"127.246094\" xlink:href=\"#DejaVuSans-48\"/>\n       <use x=\"190.869141\" xlink:href=\"#DejaVuSans-48\"/>\n       <use x=\"254.492188\" xlink:href=\"#DejaVuSans-48\"/>\n      </g>\n     </g>\n    </g>\n    <g id=\"xtick_5\">\n     <g id=\"line2d_9\">\n      <path clip-path=\"url(#pef33aa6b5a)\" d=\"M 311.434941 342.082831 \nL 311.434941 22.318125 \n\" style=\"fill:none;stroke:#b0b0b0;stroke-linecap:square;stroke-width:0.8;\"/>\n     </g>\n     <g id=\"line2d_10\">\n      <g>\n       <use style=\"stroke:#000000;stroke-width:0.8;\" x=\"311.434941\" xlink:href=\"#m5169d1b306\" y=\"342.082831\"/>\n      </g>\n     </g>\n     <g id=\"text_5\">\n      <!-- 70000 -->\n      <defs>\n       <path d=\"M 8.203125 72.90625 \nL 55.078125 72.90625 \nL 55.078125 68.703125 \nL 28.609375 0 \nL 18.3125 0 \nL 43.21875 64.59375 \nL 8.203125 64.59375 \nz\n\" id=\"DejaVuSans-55\"/>\n      </defs>\n      <g transform=\"translate(295.528691 356.681268)scale(0.1 -0.1)\">\n       <use xlink:href=\"#DejaVuSans-55\"/>\n       <use x=\"63.623047\" xlink:href=\"#DejaVuSans-48\"/>\n       <use x=\"127.246094\" xlink:href=\"#DejaVuSans-48\"/>\n       <use x=\"190.869141\" xlink:href=\"#DejaVuSans-48\"/>\n       <use x=\"254.492188\" xlink:href=\"#DejaVuSans-48\"/>\n      </g>\n     </g>\n    </g>\n    <g id=\"xtick_6\">\n     <g id=\"line2d_11\">\n      <path clip-path=\"url(#pef33aa6b5a)\" d=\"M 375.376881 342.082831 \nL 375.376881 22.318125 \n\" style=\"fill:none;stroke:#b0b0b0;stroke-linecap:square;stroke-width:0.8;\"/>\n     </g>\n     <g id=\"line2d_12\">\n      <g>\n       <use style=\"stroke:#000000;stroke-width:0.8;\" x=\"375.376881\" xlink:href=\"#m5169d1b306\" y=\"342.082831\"/>\n      </g>\n     </g>\n     <g id=\"text_6\">\n      <!-- 80000 -->\n      <defs>\n       <path d=\"M 31.78125 34.625 \nQ 24.75 34.625 20.71875 30.859375 \nQ 16.703125 27.09375 16.703125 20.515625 \nQ 16.703125 13.921875 20.71875 10.15625 \nQ 24.75 6.390625 31.78125 6.390625 \nQ 38.8125 6.390625 42.859375 10.171875 \nQ 46.921875 13.96875 46.921875 20.515625 \nQ 46.921875 27.09375 42.890625 30.859375 \nQ 38.875 34.625 31.78125 34.625 \nz\nM 21.921875 38.8125 \nQ 15.578125 40.375 12.03125 44.71875 \nQ 8.5 49.078125 8.5 55.328125 \nQ 8.5 64.0625 14.71875 69.140625 \nQ 20.953125 74.21875 31.78125 74.21875 \nQ 42.671875 74.21875 48.875 69.140625 \nQ 55.078125 64.0625 55.078125 55.328125 \nQ 55.078125 49.078125 51.53125 44.71875 \nQ 48 40.375 41.703125 38.8125 \nQ 48.828125 37.15625 52.796875 32.3125 \nQ 56.78125 27.484375 56.78125 20.515625 \nQ 56.78125 9.90625 50.3125 4.234375 \nQ 43.84375 -1.421875 31.78125 -1.421875 \nQ 19.734375 -1.421875 13.25 4.234375 \nQ 6.78125 9.90625 6.78125 20.515625 \nQ 6.78125 27.484375 10.78125 32.3125 \nQ 14.796875 37.15625 21.921875 38.8125 \nz\nM 18.3125 54.390625 \nQ 18.3125 48.734375 21.84375 45.5625 \nQ 25.390625 42.390625 31.78125 42.390625 \nQ 38.140625 42.390625 41.71875 45.5625 \nQ 45.3125 48.734375 45.3125 54.390625 \nQ 45.3125 60.0625 41.71875 63.234375 \nQ 38.140625 66.40625 31.78125 66.40625 \nQ 25.390625 66.40625 21.84375 63.234375 \nQ 18.3125 60.0625 18.3125 54.390625 \nz\n\" id=\"DejaVuSans-56\"/>\n      </defs>\n      <g transform=\"translate(359.470631 356.681268)scale(0.1 -0.1)\">\n       <use xlink:href=\"#DejaVuSans-56\"/>\n       <use x=\"63.623047\" xlink:href=\"#DejaVuSans-48\"/>\n       <use x=\"127.246094\" xlink:href=\"#DejaVuSans-48\"/>\n       <use x=\"190.869141\" xlink:href=\"#DejaVuSans-48\"/>\n       <use x=\"254.492188\" xlink:href=\"#DejaVuSans-48\"/>\n      </g>\n     </g>\n    </g>\n    <g id=\"xtick_7\">\n     <g id=\"line2d_13\">\n      <path clip-path=\"url(#pef33aa6b5a)\" d=\"M 439.318822 342.082831 \nL 439.318822 22.318125 \n\" style=\"fill:none;stroke:#b0b0b0;stroke-linecap:square;stroke-width:0.8;\"/>\n     </g>\n     <g id=\"line2d_14\">\n      <g>\n       <use style=\"stroke:#000000;stroke-width:0.8;\" x=\"439.318822\" xlink:href=\"#m5169d1b306\" y=\"342.082831\"/>\n      </g>\n     </g>\n     <g id=\"text_7\">\n      <!-- 90000 -->\n      <defs>\n       <path d=\"M 10.984375 1.515625 \nL 10.984375 10.5 \nQ 14.703125 8.734375 18.5 7.8125 \nQ 22.3125 6.890625 25.984375 6.890625 \nQ 35.75 6.890625 40.890625 13.453125 \nQ 46.046875 20.015625 46.78125 33.40625 \nQ 43.953125 29.203125 39.59375 26.953125 \nQ 35.25 24.703125 29.984375 24.703125 \nQ 19.046875 24.703125 12.671875 31.3125 \nQ 6.296875 37.9375 6.296875 49.421875 \nQ 6.296875 60.640625 12.9375 67.421875 \nQ 19.578125 74.21875 30.609375 74.21875 \nQ 43.265625 74.21875 49.921875 64.515625 \nQ 56.59375 54.828125 56.59375 36.375 \nQ 56.59375 19.140625 48.40625 8.859375 \nQ 40.234375 -1.421875 26.421875 -1.421875 \nQ 22.703125 -1.421875 18.890625 -0.6875 \nQ 15.09375 0.046875 10.984375 1.515625 \nz\nM 30.609375 32.421875 \nQ 37.25 32.421875 41.125 36.953125 \nQ 45.015625 41.5 45.015625 49.421875 \nQ 45.015625 57.28125 41.125 61.84375 \nQ 37.25 66.40625 30.609375 66.40625 \nQ 23.96875 66.40625 20.09375 61.84375 \nQ 16.21875 57.28125 16.21875 49.421875 \nQ 16.21875 41.5 20.09375 36.953125 \nQ 23.96875 32.421875 30.609375 32.421875 \nz\n\" id=\"DejaVuSans-57\"/>\n      </defs>\n      <g transform=\"translate(423.412572 356.681268)scale(0.1 -0.1)\">\n       <use xlink:href=\"#DejaVuSans-57\"/>\n       <use x=\"63.623047\" xlink:href=\"#DejaVuSans-48\"/>\n       <use x=\"127.246094\" xlink:href=\"#DejaVuSans-48\"/>\n       <use x=\"190.869141\" xlink:href=\"#DejaVuSans-48\"/>\n       <use x=\"254.492188\" xlink:href=\"#DejaVuSans-48\"/>\n      </g>\n     </g>\n    </g>\n    <g id=\"xtick_8\">\n     <g id=\"line2d_15\">\n      <path clip-path=\"url(#pef33aa6b5a)\" d=\"M 503.260762 342.082831 \nL 503.260762 22.318125 \n\" style=\"fill:none;stroke:#b0b0b0;stroke-linecap:square;stroke-width:0.8;\"/>\n     </g>\n     <g id=\"line2d_16\">\n      <g>\n       <use style=\"stroke:#000000;stroke-width:0.8;\" x=\"503.260762\" xlink:href=\"#m5169d1b306\" y=\"342.082831\"/>\n      </g>\n     </g>\n     <g id=\"text_8\">\n      <!-- 100000 -->\n      <defs>\n       <path d=\"M 12.40625 8.296875 \nL 28.515625 8.296875 \nL 28.515625 63.921875 \nL 10.984375 60.40625 \nL 10.984375 69.390625 \nL 28.421875 72.90625 \nL 38.28125 72.90625 \nL 38.28125 8.296875 \nL 54.390625 8.296875 \nL 54.390625 0 \nL 12.40625 0 \nz\n\" id=\"DejaVuSans-49\"/>\n      </defs>\n      <g transform=\"translate(484.173262 356.681268)scale(0.1 -0.1)\">\n       <use xlink:href=\"#DejaVuSans-49\"/>\n       <use x=\"63.623047\" xlink:href=\"#DejaVuSans-48\"/>\n       <use x=\"127.246094\" xlink:href=\"#DejaVuSans-48\"/>\n       <use x=\"190.869141\" xlink:href=\"#DejaVuSans-48\"/>\n       <use x=\"254.492188\" xlink:href=\"#DejaVuSans-48\"/>\n       <use x=\"318.115234\" xlink:href=\"#DejaVuSans-48\"/>\n      </g>\n     </g>\n    </g>\n   </g>\n   <g id=\"matplotlib.axis_2\">\n    <g id=\"ytick_1\">\n     <g id=\"line2d_17\">\n      <path clip-path=\"url(#pef33aa6b5a)\" d=\"M 33.2875 342.082831 \nL 525.640441 342.082831 \n\" style=\"fill:none;stroke:#b0b0b0;stroke-linecap:square;stroke-width:0.8;\"/>\n     </g>\n     <g id=\"line2d_18\">\n      <defs>\n       <path d=\"M 0 0 \nL -3.5 0 \n\" id=\"m5cee1d8d27\" style=\"stroke:#000000;stroke-width:0.8;\"/>\n      </defs>\n      <g>\n       <use style=\"stroke:#000000;stroke-width:0.8;\" x=\"33.2875\" xlink:href=\"#m5cee1d8d27\" y=\"342.082831\"/>\n      </g>\n     </g>\n     <g id=\"text_9\">\n      <!-- 0 -->\n      <g transform=\"translate(19.925 345.88205)scale(0.1 -0.1)\">\n       <use xlink:href=\"#DejaVuSans-48\"/>\n      </g>\n     </g>\n    </g>\n    <g id=\"ytick_2\">\n     <g id=\"line2d_19\">\n      <path clip-path=\"url(#pef33aa6b5a)\" d=\"M 33.2875 289.027462 \nL 525.640441 289.027462 \n\" style=\"fill:none;stroke:#b0b0b0;stroke-linecap:square;stroke-width:0.8;\"/>\n     </g>\n     <g id=\"line2d_20\">\n      <g>\n       <use style=\"stroke:#000000;stroke-width:0.8;\" x=\"33.2875\" xlink:href=\"#m5cee1d8d27\" y=\"289.027462\"/>\n      </g>\n     </g>\n     <g id=\"text_10\">\n      <!-- 50 -->\n      <g transform=\"translate(13.5625 292.826681)scale(0.1 -0.1)\">\n       <use xlink:href=\"#DejaVuSans-53\"/>\n       <use x=\"63.623047\" xlink:href=\"#DejaVuSans-48\"/>\n      </g>\n     </g>\n    </g>\n    <g id=\"ytick_3\">\n     <g id=\"line2d_21\">\n      <path clip-path=\"url(#pef33aa6b5a)\" d=\"M 33.2875 235.972094 \nL 525.640441 235.972094 \n\" style=\"fill:none;stroke:#b0b0b0;stroke-linecap:square;stroke-width:0.8;\"/>\n     </g>\n     <g id=\"line2d_22\">\n      <g>\n       <use style=\"stroke:#000000;stroke-width:0.8;\" x=\"33.2875\" xlink:href=\"#m5cee1d8d27\" y=\"235.972094\"/>\n      </g>\n     </g>\n     <g id=\"text_11\">\n      <!-- 100 -->\n      <g transform=\"translate(7.2 239.771313)scale(0.1 -0.1)\">\n       <use xlink:href=\"#DejaVuSans-49\"/>\n       <use x=\"63.623047\" xlink:href=\"#DejaVuSans-48\"/>\n       <use x=\"127.246094\" xlink:href=\"#DejaVuSans-48\"/>\n      </g>\n     </g>\n    </g>\n    <g id=\"ytick_4\">\n     <g id=\"line2d_23\">\n      <path clip-path=\"url(#pef33aa6b5a)\" d=\"M 33.2875 182.916725 \nL 525.640441 182.916725 \n\" style=\"fill:none;stroke:#b0b0b0;stroke-linecap:square;stroke-width:0.8;\"/>\n     </g>\n     <g id=\"line2d_24\">\n      <g>\n       <use style=\"stroke:#000000;stroke-width:0.8;\" x=\"33.2875\" xlink:href=\"#m5cee1d8d27\" y=\"182.916725\"/>\n      </g>\n     </g>\n     <g id=\"text_12\">\n      <!-- 150 -->\n      <g transform=\"translate(7.2 186.715944)scale(0.1 -0.1)\">\n       <use xlink:href=\"#DejaVuSans-49\"/>\n       <use x=\"63.623047\" xlink:href=\"#DejaVuSans-53\"/>\n       <use x=\"127.246094\" xlink:href=\"#DejaVuSans-48\"/>\n      </g>\n     </g>\n    </g>\n    <g id=\"ytick_5\">\n     <g id=\"line2d_25\">\n      <path clip-path=\"url(#pef33aa6b5a)\" d=\"M 33.2875 129.861357 \nL 525.640441 129.861357 \n\" style=\"fill:none;stroke:#b0b0b0;stroke-linecap:square;stroke-width:0.8;\"/>\n     </g>\n     <g id=\"line2d_26\">\n      <g>\n       <use style=\"stroke:#000000;stroke-width:0.8;\" x=\"33.2875\" xlink:href=\"#m5cee1d8d27\" y=\"129.861357\"/>\n      </g>\n     </g>\n     <g id=\"text_13\">\n      <!-- 200 -->\n      <defs>\n       <path d=\"M 19.1875 8.296875 \nL 53.609375 8.296875 \nL 53.609375 0 \nL 7.328125 0 \nL 7.328125 8.296875 \nQ 12.9375 14.109375 22.625 23.890625 \nQ 32.328125 33.6875 34.8125 36.53125 \nQ 39.546875 41.84375 41.421875 45.53125 \nQ 43.3125 49.21875 43.3125 52.78125 \nQ 43.3125 58.59375 39.234375 62.25 \nQ 35.15625 65.921875 28.609375 65.921875 \nQ 23.96875 65.921875 18.8125 64.3125 \nQ 13.671875 62.703125 7.8125 59.421875 \nL 7.8125 69.390625 \nQ 13.765625 71.78125 18.9375 73 \nQ 24.125 74.21875 28.421875 74.21875 \nQ 39.75 74.21875 46.484375 68.546875 \nQ 53.21875 62.890625 53.21875 53.421875 \nQ 53.21875 48.921875 51.53125 44.890625 \nQ 49.859375 40.875 45.40625 35.40625 \nQ 44.1875 33.984375 37.640625 27.21875 \nQ 31.109375 20.453125 19.1875 8.296875 \nz\n\" id=\"DejaVuSans-50\"/>\n      </defs>\n      <g transform=\"translate(7.2 133.660576)scale(0.1 -0.1)\">\n       <use xlink:href=\"#DejaVuSans-50\"/>\n       <use x=\"63.623047\" xlink:href=\"#DejaVuSans-48\"/>\n       <use x=\"127.246094\" xlink:href=\"#DejaVuSans-48\"/>\n      </g>\n     </g>\n    </g>\n    <g id=\"ytick_6\">\n     <g id=\"line2d_27\">\n      <path clip-path=\"url(#pef33aa6b5a)\" d=\"M 33.2875 76.805988 \nL 525.640441 76.805988 \n\" style=\"fill:none;stroke:#b0b0b0;stroke-linecap:square;stroke-width:0.8;\"/>\n     </g>\n     <g id=\"line2d_28\">\n      <g>\n       <use style=\"stroke:#000000;stroke-width:0.8;\" x=\"33.2875\" xlink:href=\"#m5cee1d8d27\" y=\"76.805988\"/>\n      </g>\n     </g>\n     <g id=\"text_14\">\n      <!-- 250 -->\n      <g transform=\"translate(7.2 80.605207)scale(0.1 -0.1)\">\n       <use xlink:href=\"#DejaVuSans-50\"/>\n       <use x=\"63.623047\" xlink:href=\"#DejaVuSans-53\"/>\n       <use x=\"127.246094\" xlink:href=\"#DejaVuSans-48\"/>\n      </g>\n     </g>\n    </g>\n    <g id=\"ytick_7\">\n     <g id=\"line2d_29\">\n      <path clip-path=\"url(#pef33aa6b5a)\" d=\"M 33.2875 23.75062 \nL 525.640441 23.75062 \n\" style=\"fill:none;stroke:#b0b0b0;stroke-linecap:square;stroke-width:0.8;\"/>\n     </g>\n     <g id=\"line2d_30\">\n      <g>\n       <use style=\"stroke:#000000;stroke-width:0.8;\" x=\"33.2875\" xlink:href=\"#m5cee1d8d27\" y=\"23.75062\"/>\n      </g>\n     </g>\n     <g id=\"text_15\">\n      <!-- 300 -->\n      <g transform=\"translate(7.2 27.549839)scale(0.1 -0.1)\">\n       <use xlink:href=\"#DejaVuSans-51\"/>\n       <use x=\"63.623047\" xlink:href=\"#DejaVuSans-48\"/>\n       <use x=\"127.246094\" xlink:href=\"#DejaVuSans-48\"/>\n      </g>\n     </g>\n    </g>\n   </g>\n   <g id=\"patch_8\">\n    <path d=\"M 33.2875 342.082831 \nL 33.2875 22.318125 \n\" style=\"fill:none;stroke:#000000;stroke-linecap:square;stroke-linejoin:miter;stroke-width:0.8;\"/>\n   </g>\n   <g id=\"patch_9\">\n    <path d=\"M 525.640441 342.082831 \nL 525.640441 22.318125 \n\" style=\"fill:none;stroke:#000000;stroke-linecap:square;stroke-linejoin:miter;stroke-width:0.8;\"/>\n   </g>\n   <g id=\"patch_10\">\n    <path d=\"M 33.2875 342.082831 \nL 525.640441 342.082831 \n\" style=\"fill:none;stroke:#000000;stroke-linecap:square;stroke-linejoin:miter;stroke-width:0.8;\"/>\n   </g>\n   <g id=\"patch_11\">\n    <path d=\"M 33.2875 22.318125 \nL 525.640441 22.318125 \n\" style=\"fill:none;stroke:#000000;stroke-linecap:square;stroke-linejoin:miter;stroke-width:0.8;\"/>\n   </g>\n   <g id=\"text_16\">\n    <!-- 18-39 Yrs Old Female Income Distribution -->\n    <defs>\n     <path d=\"M 4.890625 31.390625 \nL 31.203125 31.390625 \nL 31.203125 23.390625 \nL 4.890625 23.390625 \nz\n\" id=\"DejaVuSans-45\"/>\n     <path id=\"DejaVuSans-32\"/>\n     <path d=\"M -0.203125 72.90625 \nL 10.40625 72.90625 \nL 30.609375 42.921875 \nL 50.6875 72.90625 \nL 61.28125 72.90625 \nL 35.5 34.71875 \nL 35.5 0 \nL 25.59375 0 \nL 25.59375 34.71875 \nz\n\" id=\"DejaVuSans-89\"/>\n     <path d=\"M 41.109375 46.296875 \nQ 39.59375 47.171875 37.8125 47.578125 \nQ 36.03125 48 33.890625 48 \nQ 26.265625 48 22.1875 43.046875 \nQ 18.109375 38.09375 18.109375 28.8125 \nL 18.109375 0 \nL 9.078125 0 \nL 9.078125 54.6875 \nL 18.109375 54.6875 \nL 18.109375 46.1875 \nQ 20.953125 51.171875 25.484375 53.578125 \nQ 30.03125 56 36.53125 56 \nQ 37.453125 56 38.578125 55.875 \nQ 39.703125 55.765625 41.0625 55.515625 \nz\n\" id=\"DejaVuSans-114\"/>\n     <path d=\"M 44.28125 53.078125 \nL 44.28125 44.578125 \nQ 40.484375 46.53125 36.375 47.5 \nQ 32.28125 48.484375 27.875 48.484375 \nQ 21.1875 48.484375 17.84375 46.4375 \nQ 14.5 44.390625 14.5 40.28125 \nQ 14.5 37.15625 16.890625 35.375 \nQ 19.28125 33.59375 26.515625 31.984375 \nL 29.59375 31.296875 \nQ 39.15625 29.25 43.1875 25.515625 \nQ 47.21875 21.78125 47.21875 15.09375 \nQ 47.21875 7.46875 41.1875 3.015625 \nQ 35.15625 -1.421875 24.609375 -1.421875 \nQ 20.21875 -1.421875 15.453125 -0.5625 \nQ 10.6875 0.296875 5.421875 2 \nL 5.421875 11.28125 \nQ 10.40625 8.6875 15.234375 7.390625 \nQ 20.0625 6.109375 24.8125 6.109375 \nQ 31.15625 6.109375 34.5625 8.28125 \nQ 37.984375 10.453125 37.984375 14.40625 \nQ 37.984375 18.0625 35.515625 20.015625 \nQ 33.0625 21.96875 24.703125 23.78125 \nL 21.578125 24.515625 \nQ 13.234375 26.265625 9.515625 29.90625 \nQ 5.8125 33.546875 5.8125 39.890625 \nQ 5.8125 47.609375 11.28125 51.796875 \nQ 16.75 56 26.8125 56 \nQ 31.78125 56 36.171875 55.265625 \nQ 40.578125 54.546875 44.28125 53.078125 \nz\n\" id=\"DejaVuSans-115\"/>\n     <path d=\"M 39.40625 66.21875 \nQ 28.65625 66.21875 22.328125 58.203125 \nQ 16.015625 50.203125 16.015625 36.375 \nQ 16.015625 22.609375 22.328125 14.59375 \nQ 28.65625 6.59375 39.40625 6.59375 \nQ 50.140625 6.59375 56.421875 14.59375 \nQ 62.703125 22.609375 62.703125 36.375 \nQ 62.703125 50.203125 56.421875 58.203125 \nQ 50.140625 66.21875 39.40625 66.21875 \nz\nM 39.40625 74.21875 \nQ 54.734375 74.21875 63.90625 63.9375 \nQ 73.09375 53.65625 73.09375 36.375 \nQ 73.09375 19.140625 63.90625 8.859375 \nQ 54.734375 -1.421875 39.40625 -1.421875 \nQ 24.03125 -1.421875 14.8125 8.828125 \nQ 5.609375 19.09375 5.609375 36.375 \nQ 5.609375 53.65625 14.8125 63.9375 \nQ 24.03125 74.21875 39.40625 74.21875 \nz\n\" id=\"DejaVuSans-79\"/>\n     <path d=\"M 9.421875 75.984375 \nL 18.40625 75.984375 \nL 18.40625 0 \nL 9.421875 0 \nz\n\" id=\"DejaVuSans-108\"/>\n     <path d=\"M 45.40625 46.390625 \nL 45.40625 75.984375 \nL 54.390625 75.984375 \nL 54.390625 0 \nL 45.40625 0 \nL 45.40625 8.203125 \nQ 42.578125 3.328125 38.25 0.953125 \nQ 33.9375 -1.421875 27.875 -1.421875 \nQ 17.96875 -1.421875 11.734375 6.484375 \nQ 5.515625 14.40625 5.515625 27.296875 \nQ 5.515625 40.1875 11.734375 48.09375 \nQ 17.96875 56 27.875 56 \nQ 33.9375 56 38.25 53.625 \nQ 42.578125 51.265625 45.40625 46.390625 \nz\nM 14.796875 27.296875 \nQ 14.796875 17.390625 18.875 11.75 \nQ 22.953125 6.109375 30.078125 6.109375 \nQ 37.203125 6.109375 41.296875 11.75 \nQ 45.40625 17.390625 45.40625 27.296875 \nQ 45.40625 37.203125 41.296875 42.84375 \nQ 37.203125 48.484375 30.078125 48.484375 \nQ 22.953125 48.484375 18.875 42.84375 \nQ 14.796875 37.203125 14.796875 27.296875 \nz\n\" id=\"DejaVuSans-100\"/>\n     <path d=\"M 9.8125 72.90625 \nL 51.703125 72.90625 \nL 51.703125 64.59375 \nL 19.671875 64.59375 \nL 19.671875 43.109375 \nL 48.578125 43.109375 \nL 48.578125 34.8125 \nL 19.671875 34.8125 \nL 19.671875 0 \nL 9.8125 0 \nz\n\" id=\"DejaVuSans-70\"/>\n     <path d=\"M 56.203125 29.59375 \nL 56.203125 25.203125 \nL 14.890625 25.203125 \nQ 15.484375 15.921875 20.484375 11.0625 \nQ 25.484375 6.203125 34.421875 6.203125 \nQ 39.59375 6.203125 44.453125 7.46875 \nQ 49.3125 8.734375 54.109375 11.28125 \nL 54.109375 2.78125 \nQ 49.265625 0.734375 44.1875 -0.34375 \nQ 39.109375 -1.421875 33.890625 -1.421875 \nQ 20.796875 -1.421875 13.15625 6.1875 \nQ 5.515625 13.8125 5.515625 26.8125 \nQ 5.515625 40.234375 12.765625 48.109375 \nQ 20.015625 56 32.328125 56 \nQ 43.359375 56 49.78125 48.890625 \nQ 56.203125 41.796875 56.203125 29.59375 \nz\nM 47.21875 32.234375 \nQ 47.125 39.59375 43.09375 43.984375 \nQ 39.0625 48.390625 32.421875 48.390625 \nQ 24.90625 48.390625 20.390625 44.140625 \nQ 15.875 39.890625 15.1875 32.171875 \nz\n\" id=\"DejaVuSans-101\"/>\n     <path d=\"M 52 44.1875 \nQ 55.375 50.25 60.0625 53.125 \nQ 64.75 56 71.09375 56 \nQ 79.640625 56 84.28125 50.015625 \nQ 88.921875 44.046875 88.921875 33.015625 \nL 88.921875 0 \nL 79.890625 0 \nL 79.890625 32.71875 \nQ 79.890625 40.578125 77.09375 44.375 \nQ 74.3125 48.1875 68.609375 48.1875 \nQ 61.625 48.1875 57.5625 43.546875 \nQ 53.515625 38.921875 53.515625 30.90625 \nL 53.515625 0 \nL 44.484375 0 \nL 44.484375 32.71875 \nQ 44.484375 40.625 41.703125 44.40625 \nQ 38.921875 48.1875 33.109375 48.1875 \nQ 26.21875 48.1875 22.15625 43.53125 \nQ 18.109375 38.875 18.109375 30.90625 \nL 18.109375 0 \nL 9.078125 0 \nL 9.078125 54.6875 \nL 18.109375 54.6875 \nL 18.109375 46.1875 \nQ 21.1875 51.21875 25.484375 53.609375 \nQ 29.78125 56 35.6875 56 \nQ 41.65625 56 45.828125 52.96875 \nQ 50 49.953125 52 44.1875 \nz\n\" id=\"DejaVuSans-109\"/>\n     <path d=\"M 34.28125 27.484375 \nQ 23.390625 27.484375 19.1875 25 \nQ 14.984375 22.515625 14.984375 16.5 \nQ 14.984375 11.71875 18.140625 8.90625 \nQ 21.296875 6.109375 26.703125 6.109375 \nQ 34.1875 6.109375 38.703125 11.40625 \nQ 43.21875 16.703125 43.21875 25.484375 \nL 43.21875 27.484375 \nz\nM 52.203125 31.203125 \nL 52.203125 0 \nL 43.21875 0 \nL 43.21875 8.296875 \nQ 40.140625 3.328125 35.546875 0.953125 \nQ 30.953125 -1.421875 24.3125 -1.421875 \nQ 15.921875 -1.421875 10.953125 3.296875 \nQ 6 8.015625 6 15.921875 \nQ 6 25.140625 12.171875 29.828125 \nQ 18.359375 34.515625 30.609375 34.515625 \nL 43.21875 34.515625 \nL 43.21875 35.40625 \nQ 43.21875 41.609375 39.140625 45 \nQ 35.0625 48.390625 27.6875 48.390625 \nQ 23 48.390625 18.546875 47.265625 \nQ 14.109375 46.140625 10.015625 43.890625 \nL 10.015625 52.203125 \nQ 14.9375 54.109375 19.578125 55.046875 \nQ 24.21875 56 28.609375 56 \nQ 40.484375 56 46.34375 49.84375 \nQ 52.203125 43.703125 52.203125 31.203125 \nz\n\" id=\"DejaVuSans-97\"/>\n     <path d=\"M 9.8125 72.90625 \nL 19.671875 72.90625 \nL 19.671875 0 \nL 9.8125 0 \nz\n\" id=\"DejaVuSans-73\"/>\n     <path d=\"M 54.890625 33.015625 \nL 54.890625 0 \nL 45.90625 0 \nL 45.90625 32.71875 \nQ 45.90625 40.484375 42.875 44.328125 \nQ 39.84375 48.1875 33.796875 48.1875 \nQ 26.515625 48.1875 22.3125 43.546875 \nQ 18.109375 38.921875 18.109375 30.90625 \nL 18.109375 0 \nL 9.078125 0 \nL 9.078125 54.6875 \nL 18.109375 54.6875 \nL 18.109375 46.1875 \nQ 21.34375 51.125 25.703125 53.5625 \nQ 30.078125 56 35.796875 56 \nQ 45.21875 56 50.046875 50.171875 \nQ 54.890625 44.34375 54.890625 33.015625 \nz\n\" id=\"DejaVuSans-110\"/>\n     <path d=\"M 48.78125 52.59375 \nL 48.78125 44.1875 \nQ 44.96875 46.296875 41.140625 47.34375 \nQ 37.3125 48.390625 33.40625 48.390625 \nQ 24.65625 48.390625 19.8125 42.84375 \nQ 14.984375 37.3125 14.984375 27.296875 \nQ 14.984375 17.28125 19.8125 11.734375 \nQ 24.65625 6.203125 33.40625 6.203125 \nQ 37.3125 6.203125 41.140625 7.25 \nQ 44.96875 8.296875 48.78125 10.40625 \nL 48.78125 2.09375 \nQ 45.015625 0.34375 40.984375 -0.53125 \nQ 36.96875 -1.421875 32.421875 -1.421875 \nQ 20.0625 -1.421875 12.78125 6.34375 \nQ 5.515625 14.109375 5.515625 27.296875 \nQ 5.515625 40.671875 12.859375 48.328125 \nQ 20.21875 56 33.015625 56 \nQ 37.15625 56 41.109375 55.140625 \nQ 45.0625 54.296875 48.78125 52.59375 \nz\n\" id=\"DejaVuSans-99\"/>\n     <path d=\"M 30.609375 48.390625 \nQ 23.390625 48.390625 19.1875 42.75 \nQ 14.984375 37.109375 14.984375 27.296875 \nQ 14.984375 17.484375 19.15625 11.84375 \nQ 23.34375 6.203125 30.609375 6.203125 \nQ 37.796875 6.203125 41.984375 11.859375 \nQ 46.1875 17.53125 46.1875 27.296875 \nQ 46.1875 37.015625 41.984375 42.703125 \nQ 37.796875 48.390625 30.609375 48.390625 \nz\nM 30.609375 56 \nQ 42.328125 56 49.015625 48.375 \nQ 55.71875 40.765625 55.71875 27.296875 \nQ 55.71875 13.875 49.015625 6.21875 \nQ 42.328125 -1.421875 30.609375 -1.421875 \nQ 18.84375 -1.421875 12.171875 6.21875 \nQ 5.515625 13.875 5.515625 27.296875 \nQ 5.515625 40.765625 12.171875 48.375 \nQ 18.84375 56 30.609375 56 \nz\n\" id=\"DejaVuSans-111\"/>\n     <path d=\"M 19.671875 64.796875 \nL 19.671875 8.109375 \nL 31.59375 8.109375 \nQ 46.6875 8.109375 53.6875 14.9375 \nQ 60.6875 21.78125 60.6875 36.53125 \nQ 60.6875 51.171875 53.6875 57.984375 \nQ 46.6875 64.796875 31.59375 64.796875 \nz\nM 9.8125 72.90625 \nL 30.078125 72.90625 \nQ 51.265625 72.90625 61.171875 64.09375 \nQ 71.09375 55.28125 71.09375 36.53125 \nQ 71.09375 17.671875 61.125 8.828125 \nQ 51.171875 0 30.078125 0 \nL 9.8125 0 \nz\n\" id=\"DejaVuSans-68\"/>\n     <path d=\"M 9.421875 54.6875 \nL 18.40625 54.6875 \nL 18.40625 0 \nL 9.421875 0 \nz\nM 9.421875 75.984375 \nL 18.40625 75.984375 \nL 18.40625 64.59375 \nL 9.421875 64.59375 \nz\n\" id=\"DejaVuSans-105\"/>\n     <path d=\"M 18.3125 70.21875 \nL 18.3125 54.6875 \nL 36.8125 54.6875 \nL 36.8125 47.703125 \nL 18.3125 47.703125 \nL 18.3125 18.015625 \nQ 18.3125 11.328125 20.140625 9.421875 \nQ 21.96875 7.515625 27.59375 7.515625 \nL 36.8125 7.515625 \nL 36.8125 0 \nL 27.59375 0 \nQ 17.1875 0 13.234375 3.875 \nQ 9.28125 7.765625 9.28125 18.015625 \nL 9.28125 47.703125 \nL 2.6875 47.703125 \nL 2.6875 54.6875 \nL 9.28125 54.6875 \nL 9.28125 70.21875 \nz\n\" id=\"DejaVuSans-116\"/>\n     <path d=\"M 48.6875 27.296875 \nQ 48.6875 37.203125 44.609375 42.84375 \nQ 40.53125 48.484375 33.40625 48.484375 \nQ 26.265625 48.484375 22.1875 42.84375 \nQ 18.109375 37.203125 18.109375 27.296875 \nQ 18.109375 17.390625 22.1875 11.75 \nQ 26.265625 6.109375 33.40625 6.109375 \nQ 40.53125 6.109375 44.609375 11.75 \nQ 48.6875 17.390625 48.6875 27.296875 \nz\nM 18.109375 46.390625 \nQ 20.953125 51.265625 25.265625 53.625 \nQ 29.59375 56 35.59375 56 \nQ 45.5625 56 51.78125 48.09375 \nQ 58.015625 40.1875 58.015625 27.296875 \nQ 58.015625 14.40625 51.78125 6.484375 \nQ 45.5625 -1.421875 35.59375 -1.421875 \nQ 29.59375 -1.421875 25.265625 0.953125 \nQ 20.953125 3.328125 18.109375 8.203125 \nL 18.109375 0 \nL 9.078125 0 \nL 9.078125 75.984375 \nL 18.109375 75.984375 \nz\n\" id=\"DejaVuSans-98\"/>\n     <path d=\"M 8.5 21.578125 \nL 8.5 54.6875 \nL 17.484375 54.6875 \nL 17.484375 21.921875 \nQ 17.484375 14.15625 20.5 10.265625 \nQ 23.53125 6.390625 29.59375 6.390625 \nQ 36.859375 6.390625 41.078125 11.03125 \nQ 45.3125 15.671875 45.3125 23.6875 \nL 45.3125 54.6875 \nL 54.296875 54.6875 \nL 54.296875 0 \nL 45.3125 0 \nL 45.3125 8.40625 \nQ 42.046875 3.421875 37.71875 1 \nQ 33.40625 -1.421875 27.6875 -1.421875 \nQ 18.265625 -1.421875 13.375 4.4375 \nQ 8.5 10.296875 8.5 21.578125 \nz\nM 31.109375 56 \nz\n\" id=\"DejaVuSans-117\"/>\n    </defs>\n    <g transform=\"translate(153.939283 16.318125)scale(0.12 -0.12)\">\n     <use xlink:href=\"#DejaVuSans-49\"/>\n     <use x=\"63.623047\" xlink:href=\"#DejaVuSans-56\"/>\n     <use x=\"127.246094\" xlink:href=\"#DejaVuSans-45\"/>\n     <use x=\"163.330078\" xlink:href=\"#DejaVuSans-51\"/>\n     <use x=\"226.953125\" xlink:href=\"#DejaVuSans-57\"/>\n     <use x=\"290.576172\" xlink:href=\"#DejaVuSans-32\"/>\n     <use x=\"322.363281\" xlink:href=\"#DejaVuSans-89\"/>\n     <use x=\"383.447266\" xlink:href=\"#DejaVuSans-114\"/>\n     <use x=\"424.560547\" xlink:href=\"#DejaVuSans-115\"/>\n     <use x=\"476.660156\" xlink:href=\"#DejaVuSans-32\"/>\n     <use x=\"508.447266\" xlink:href=\"#DejaVuSans-79\"/>\n     <use x=\"587.158203\" xlink:href=\"#DejaVuSans-108\"/>\n     <use x=\"614.941406\" xlink:href=\"#DejaVuSans-100\"/>\n     <use x=\"678.417969\" xlink:href=\"#DejaVuSans-32\"/>\n     <use x=\"710.205078\" xlink:href=\"#DejaVuSans-70\"/>\n     <use x=\"767.646484\" xlink:href=\"#DejaVuSans-101\"/>\n     <use x=\"829.169922\" xlink:href=\"#DejaVuSans-109\"/>\n     <use x=\"926.582031\" xlink:href=\"#DejaVuSans-97\"/>\n     <use x=\"987.861328\" xlink:href=\"#DejaVuSans-108\"/>\n     <use x=\"1015.644531\" xlink:href=\"#DejaVuSans-101\"/>\n     <use x=\"1077.167969\" xlink:href=\"#DejaVuSans-32\"/>\n     <use x=\"1108.955078\" xlink:href=\"#DejaVuSans-73\"/>\n     <use x=\"1138.447266\" xlink:href=\"#DejaVuSans-110\"/>\n     <use x=\"1201.826172\" xlink:href=\"#DejaVuSans-99\"/>\n     <use x=\"1256.806641\" xlink:href=\"#DejaVuSans-111\"/>\n     <use x=\"1317.988281\" xlink:href=\"#DejaVuSans-109\"/>\n     <use x=\"1415.400391\" xlink:href=\"#DejaVuSans-101\"/>\n     <use x=\"1476.923828\" xlink:href=\"#DejaVuSans-32\"/>\n     <use x=\"1508.710938\" xlink:href=\"#DejaVuSans-68\"/>\n     <use x=\"1585.712891\" xlink:href=\"#DejaVuSans-105\"/>\n     <use x=\"1613.496094\" xlink:href=\"#DejaVuSans-115\"/>\n     <use x=\"1665.595703\" xlink:href=\"#DejaVuSans-116\"/>\n     <use x=\"1704.804688\" xlink:href=\"#DejaVuSans-114\"/>\n     <use x=\"1745.917969\" xlink:href=\"#DejaVuSans-105\"/>\n     <use x=\"1773.701172\" xlink:href=\"#DejaVuSans-98\"/>\n     <use x=\"1837.177734\" xlink:href=\"#DejaVuSans-117\"/>\n     <use x=\"1900.556641\" xlink:href=\"#DejaVuSans-116\"/>\n     <use x=\"1939.765625\" xlink:href=\"#DejaVuSans-105\"/>\n     <use x=\"1967.548828\" xlink:href=\"#DejaVuSans-111\"/>\n     <use x=\"2028.730469\" xlink:href=\"#DejaVuSans-110\"/>\n    </g>\n   </g>\n  </g>\n  <g id=\"axes_2\">\n   <g id=\"patch_12\">\n    <path d=\"M 624.111029 342.082831 \nL 1116.463971 342.082831 \nL 1116.463971 22.318125 \nL 624.111029 22.318125 \nz\n\" style=\"fill:#ffffff;\"/>\n   </g>\n   <g id=\"patch_13\">\n    <path clip-path=\"url(#pf9d9da9782)\" d=\"M 646.490709 342.082831 \nL 736.009425 342.082831 \nL 736.009425 37.545016 \nL 646.490709 37.545016 \nz\n\" style=\"fill:#1f77b4;\"/>\n   </g>\n   <g id=\"patch_14\">\n    <path clip-path=\"url(#pf9d9da9782)\" d=\"M 736.009425 342.082831 \nL 825.528142 342.082831 \nL 825.528142 55.687694 \nL 736.009425 55.687694 \nz\n\" style=\"fill:#1f77b4;\"/>\n   </g>\n   <g id=\"patch_15\">\n    <path clip-path=\"url(#pf9d9da9782)\" d=\"M 825.528142 342.082831 \nL 915.046858 342.082831 \nL 915.046858 97.588642 \nL 825.528142 97.588642 \nz\n\" style=\"fill:#1f77b4;\"/>\n   </g>\n   <g id=\"patch_16\">\n    <path clip-path=\"url(#pf9d9da9782)\" d=\"M 915.046858 342.082831 \nL 1004.565575 342.082831 \nL 1004.565575 269.944086 \nL 915.046858 269.944086 \nz\n\" style=\"fill:#1f77b4;\"/>\n   </g>\n   <g id=\"patch_17\">\n    <path clip-path=\"url(#pf9d9da9782)\" d=\"M 1004.565575 342.082831 \nL 1094.084291 342.082831 \nL 1094.084291 330.419681 \nL 1004.565575 330.419681 \nz\n\" style=\"fill:#1f77b4;\"/>\n   </g>\n   <g id=\"matplotlib.axis_3\">\n    <g id=\"xtick_9\">\n     <g id=\"line2d_31\">\n      <path clip-path=\"url(#pf9d9da9782)\" d=\"M 646.490709 342.082831 \nL 646.490709 22.318125 \n\" style=\"fill:none;stroke:#b0b0b0;stroke-linecap:square;stroke-width:0.8;\"/>\n     </g>\n     <g id=\"line2d_32\">\n      <g>\n       <use style=\"stroke:#000000;stroke-width:0.8;\" x=\"646.490709\" xlink:href=\"#m5169d1b306\" y=\"342.082831\"/>\n      </g>\n     </g>\n     <g id=\"text_17\">\n      <!-- 30000 -->\n      <g transform=\"translate(630.584459 356.681268)scale(0.1 -0.1)\">\n       <use xlink:href=\"#DejaVuSans-51\"/>\n       <use x=\"63.623047\" xlink:href=\"#DejaVuSans-48\"/>\n       <use x=\"127.246094\" xlink:href=\"#DejaVuSans-48\"/>\n       <use x=\"190.869141\" xlink:href=\"#DejaVuSans-48\"/>\n       <use x=\"254.492188\" xlink:href=\"#DejaVuSans-48\"/>\n      </g>\n     </g>\n    </g>\n    <g id=\"xtick_10\">\n     <g id=\"line2d_33\">\n      <path clip-path=\"url(#pf9d9da9782)\" d=\"M 710.432649 342.082831 \nL 710.432649 22.318125 \n\" style=\"fill:none;stroke:#b0b0b0;stroke-linecap:square;stroke-width:0.8;\"/>\n     </g>\n     <g id=\"line2d_34\">\n      <g>\n       <use style=\"stroke:#000000;stroke-width:0.8;\" x=\"710.432649\" xlink:href=\"#m5169d1b306\" y=\"342.082831\"/>\n      </g>\n     </g>\n     <g id=\"text_18\">\n      <!-- 40000 -->\n      <g transform=\"translate(694.526399 356.681268)scale(0.1 -0.1)\">\n       <use xlink:href=\"#DejaVuSans-52\"/>\n       <use x=\"63.623047\" xlink:href=\"#DejaVuSans-48\"/>\n       <use x=\"127.246094\" xlink:href=\"#DejaVuSans-48\"/>\n       <use x=\"190.869141\" xlink:href=\"#DejaVuSans-48\"/>\n       <use x=\"254.492188\" xlink:href=\"#DejaVuSans-48\"/>\n      </g>\n     </g>\n    </g>\n    <g id=\"xtick_11\">\n     <g id=\"line2d_35\">\n      <path clip-path=\"url(#pf9d9da9782)\" d=\"M 774.374589 342.082831 \nL 774.374589 22.318125 \n\" style=\"fill:none;stroke:#b0b0b0;stroke-linecap:square;stroke-width:0.8;\"/>\n     </g>\n     <g id=\"line2d_36\">\n      <g>\n       <use style=\"stroke:#000000;stroke-width:0.8;\" x=\"774.374589\" xlink:href=\"#m5169d1b306\" y=\"342.082831\"/>\n      </g>\n     </g>\n     <g id=\"text_19\">\n      <!-- 50000 -->\n      <g transform=\"translate(758.468339 356.681268)scale(0.1 -0.1)\">\n       <use xlink:href=\"#DejaVuSans-53\"/>\n       <use x=\"63.623047\" xlink:href=\"#DejaVuSans-48\"/>\n       <use x=\"127.246094\" xlink:href=\"#DejaVuSans-48\"/>\n       <use x=\"190.869141\" xlink:href=\"#DejaVuSans-48\"/>\n       <use x=\"254.492188\" xlink:href=\"#DejaVuSans-48\"/>\n      </g>\n     </g>\n    </g>\n    <g id=\"xtick_12\">\n     <g id=\"line2d_37\">\n      <path clip-path=\"url(#pf9d9da9782)\" d=\"M 838.31653 342.082831 \nL 838.31653 22.318125 \n\" style=\"fill:none;stroke:#b0b0b0;stroke-linecap:square;stroke-width:0.8;\"/>\n     </g>\n     <g id=\"line2d_38\">\n      <g>\n       <use style=\"stroke:#000000;stroke-width:0.8;\" x=\"838.31653\" xlink:href=\"#m5169d1b306\" y=\"342.082831\"/>\n      </g>\n     </g>\n     <g id=\"text_20\">\n      <!-- 60000 -->\n      <g transform=\"translate(822.41028 356.681268)scale(0.1 -0.1)\">\n       <use xlink:href=\"#DejaVuSans-54\"/>\n       <use x=\"63.623047\" xlink:href=\"#DejaVuSans-48\"/>\n       <use x=\"127.246094\" xlink:href=\"#DejaVuSans-48\"/>\n       <use x=\"190.869141\" xlink:href=\"#DejaVuSans-48\"/>\n       <use x=\"254.492188\" xlink:href=\"#DejaVuSans-48\"/>\n      </g>\n     </g>\n    </g>\n    <g id=\"xtick_13\">\n     <g id=\"line2d_39\">\n      <path clip-path=\"url(#pf9d9da9782)\" d=\"M 902.25847 342.082831 \nL 902.25847 22.318125 \n\" style=\"fill:none;stroke:#b0b0b0;stroke-linecap:square;stroke-width:0.8;\"/>\n     </g>\n     <g id=\"line2d_40\">\n      <g>\n       <use style=\"stroke:#000000;stroke-width:0.8;\" x=\"902.25847\" xlink:href=\"#m5169d1b306\" y=\"342.082831\"/>\n      </g>\n     </g>\n     <g id=\"text_21\">\n      <!-- 70000 -->\n      <g transform=\"translate(886.35222 356.681268)scale(0.1 -0.1)\">\n       <use xlink:href=\"#DejaVuSans-55\"/>\n       <use x=\"63.623047\" xlink:href=\"#DejaVuSans-48\"/>\n       <use x=\"127.246094\" xlink:href=\"#DejaVuSans-48\"/>\n       <use x=\"190.869141\" xlink:href=\"#DejaVuSans-48\"/>\n       <use x=\"254.492188\" xlink:href=\"#DejaVuSans-48\"/>\n      </g>\n     </g>\n    </g>\n    <g id=\"xtick_14\">\n     <g id=\"line2d_41\">\n      <path clip-path=\"url(#pf9d9da9782)\" d=\"M 966.200411 342.082831 \nL 966.200411 22.318125 \n\" style=\"fill:none;stroke:#b0b0b0;stroke-linecap:square;stroke-width:0.8;\"/>\n     </g>\n     <g id=\"line2d_42\">\n      <g>\n       <use style=\"stroke:#000000;stroke-width:0.8;\" x=\"966.200411\" xlink:href=\"#m5169d1b306\" y=\"342.082831\"/>\n      </g>\n     </g>\n     <g id=\"text_22\">\n      <!-- 80000 -->\n      <g transform=\"translate(950.294161 356.681268)scale(0.1 -0.1)\">\n       <use xlink:href=\"#DejaVuSans-56\"/>\n       <use x=\"63.623047\" xlink:href=\"#DejaVuSans-48\"/>\n       <use x=\"127.246094\" xlink:href=\"#DejaVuSans-48\"/>\n       <use x=\"190.869141\" xlink:href=\"#DejaVuSans-48\"/>\n       <use x=\"254.492188\" xlink:href=\"#DejaVuSans-48\"/>\n      </g>\n     </g>\n    </g>\n    <g id=\"xtick_15\">\n     <g id=\"line2d_43\">\n      <path clip-path=\"url(#pf9d9da9782)\" d=\"M 1030.142351 342.082831 \nL 1030.142351 22.318125 \n\" style=\"fill:none;stroke:#b0b0b0;stroke-linecap:square;stroke-width:0.8;\"/>\n     </g>\n     <g id=\"line2d_44\">\n      <g>\n       <use style=\"stroke:#000000;stroke-width:0.8;\" x=\"1030.142351\" xlink:href=\"#m5169d1b306\" y=\"342.082831\"/>\n      </g>\n     </g>\n     <g id=\"text_23\">\n      <!-- 90000 -->\n      <g transform=\"translate(1014.236101 356.681268)scale(0.1 -0.1)\">\n       <use xlink:href=\"#DejaVuSans-57\"/>\n       <use x=\"63.623047\" xlink:href=\"#DejaVuSans-48\"/>\n       <use x=\"127.246094\" xlink:href=\"#DejaVuSans-48\"/>\n       <use x=\"190.869141\" xlink:href=\"#DejaVuSans-48\"/>\n       <use x=\"254.492188\" xlink:href=\"#DejaVuSans-48\"/>\n      </g>\n     </g>\n    </g>\n    <g id=\"xtick_16\">\n     <g id=\"line2d_45\">\n      <path clip-path=\"url(#pf9d9da9782)\" d=\"M 1094.084291 342.082831 \nL 1094.084291 22.318125 \n\" style=\"fill:none;stroke:#b0b0b0;stroke-linecap:square;stroke-width:0.8;\"/>\n     </g>\n     <g id=\"line2d_46\">\n      <g>\n       <use style=\"stroke:#000000;stroke-width:0.8;\" x=\"1094.084291\" xlink:href=\"#m5169d1b306\" y=\"342.082831\"/>\n      </g>\n     </g>\n     <g id=\"text_24\">\n      <!-- 100000 -->\n      <g transform=\"translate(1074.996791 356.681268)scale(0.1 -0.1)\">\n       <use xlink:href=\"#DejaVuSans-49\"/>\n       <use x=\"63.623047\" xlink:href=\"#DejaVuSans-48\"/>\n       <use x=\"127.246094\" xlink:href=\"#DejaVuSans-48\"/>\n       <use x=\"190.869141\" xlink:href=\"#DejaVuSans-48\"/>\n       <use x=\"254.492188\" xlink:href=\"#DejaVuSans-48\"/>\n       <use x=\"318.115234\" xlink:href=\"#DejaVuSans-48\"/>\n      </g>\n     </g>\n    </g>\n   </g>\n   <g id=\"matplotlib.axis_4\">\n    <g id=\"ytick_8\">\n     <g id=\"line2d_47\">\n      <path clip-path=\"url(#pf9d9da9782)\" d=\"M 624.111029 342.082831 \nL 1116.463971 342.082831 \n\" style=\"fill:none;stroke:#b0b0b0;stroke-linecap:square;stroke-width:0.8;\"/>\n     </g>\n     <g id=\"line2d_48\">\n      <g>\n       <use style=\"stroke:#000000;stroke-width:0.8;\" x=\"624.111029\" xlink:href=\"#m5cee1d8d27\" y=\"342.082831\"/>\n      </g>\n     </g>\n     <g id=\"text_25\">\n      <!-- 0 -->\n      <g transform=\"translate(610.748529 345.88205)scale(0.1 -0.1)\">\n       <use xlink:href=\"#DejaVuSans-48\"/>\n      </g>\n     </g>\n    </g>\n    <g id=\"ytick_9\">\n     <g id=\"line2d_49\">\n      <path clip-path=\"url(#pf9d9da9782)\" d=\"M 624.111029 298.885978 \nL 1116.463971 298.885978 \n\" style=\"fill:none;stroke:#b0b0b0;stroke-linecap:square;stroke-width:0.8;\"/>\n     </g>\n     <g id=\"line2d_50\">\n      <g>\n       <use style=\"stroke:#000000;stroke-width:0.8;\" x=\"624.111029\" xlink:href=\"#m5cee1d8d27\" y=\"298.885978\"/>\n      </g>\n     </g>\n     <g id=\"text_26\">\n      <!-- 100 -->\n      <g transform=\"translate(598.023529 302.685196)scale(0.1 -0.1)\">\n       <use xlink:href=\"#DejaVuSans-49\"/>\n       <use x=\"63.623047\" xlink:href=\"#DejaVuSans-48\"/>\n       <use x=\"127.246094\" xlink:href=\"#DejaVuSans-48\"/>\n      </g>\n     </g>\n    </g>\n    <g id=\"ytick_10\">\n     <g id=\"line2d_51\">\n      <path clip-path=\"url(#pf9d9da9782)\" d=\"M 624.111029 255.689124 \nL 1116.463971 255.689124 \n\" style=\"fill:none;stroke:#b0b0b0;stroke-linecap:square;stroke-width:0.8;\"/>\n     </g>\n     <g id=\"line2d_52\">\n      <g>\n       <use style=\"stroke:#000000;stroke-width:0.8;\" x=\"624.111029\" xlink:href=\"#m5cee1d8d27\" y=\"255.689124\"/>\n      </g>\n     </g>\n     <g id=\"text_27\">\n      <!-- 200 -->\n      <g transform=\"translate(598.023529 259.488343)scale(0.1 -0.1)\">\n       <use xlink:href=\"#DejaVuSans-50\"/>\n       <use x=\"63.623047\" xlink:href=\"#DejaVuSans-48\"/>\n       <use x=\"127.246094\" xlink:href=\"#DejaVuSans-48\"/>\n      </g>\n     </g>\n    </g>\n    <g id=\"ytick_11\">\n     <g id=\"line2d_53\">\n      <path clip-path=\"url(#pf9d9da9782)\" d=\"M 624.111029 212.492271 \nL 1116.463971 212.492271 \n\" style=\"fill:none;stroke:#b0b0b0;stroke-linecap:square;stroke-width:0.8;\"/>\n     </g>\n     <g id=\"line2d_54\">\n      <g>\n       <use style=\"stroke:#000000;stroke-width:0.8;\" x=\"624.111029\" xlink:href=\"#m5cee1d8d27\" y=\"212.492271\"/>\n      </g>\n     </g>\n     <g id=\"text_28\">\n      <!-- 300 -->\n      <g transform=\"translate(598.023529 216.29149)scale(0.1 -0.1)\">\n       <use xlink:href=\"#DejaVuSans-51\"/>\n       <use x=\"63.623047\" xlink:href=\"#DejaVuSans-48\"/>\n       <use x=\"127.246094\" xlink:href=\"#DejaVuSans-48\"/>\n      </g>\n     </g>\n    </g>\n    <g id=\"ytick_12\">\n     <g id=\"line2d_55\">\n      <path clip-path=\"url(#pf9d9da9782)\" d=\"M 624.111029 169.295418 \nL 1116.463971 169.295418 \n\" style=\"fill:none;stroke:#b0b0b0;stroke-linecap:square;stroke-width:0.8;\"/>\n     </g>\n     <g id=\"line2d_56\">\n      <g>\n       <use style=\"stroke:#000000;stroke-width:0.8;\" x=\"624.111029\" xlink:href=\"#m5cee1d8d27\" y=\"169.295418\"/>\n      </g>\n     </g>\n     <g id=\"text_29\">\n      <!-- 400 -->\n      <g transform=\"translate(598.023529 173.094637)scale(0.1 -0.1)\">\n       <use xlink:href=\"#DejaVuSans-52\"/>\n       <use x=\"63.623047\" xlink:href=\"#DejaVuSans-48\"/>\n       <use x=\"127.246094\" xlink:href=\"#DejaVuSans-48\"/>\n      </g>\n     </g>\n    </g>\n    <g id=\"ytick_13\">\n     <g id=\"line2d_57\">\n      <path clip-path=\"url(#pf9d9da9782)\" d=\"M 624.111029 126.098565 \nL 1116.463971 126.098565 \n\" style=\"fill:none;stroke:#b0b0b0;stroke-linecap:square;stroke-width:0.8;\"/>\n     </g>\n     <g id=\"line2d_58\">\n      <g>\n       <use style=\"stroke:#000000;stroke-width:0.8;\" x=\"624.111029\" xlink:href=\"#m5cee1d8d27\" y=\"126.098565\"/>\n      </g>\n     </g>\n     <g id=\"text_30\">\n      <!-- 500 -->\n      <g transform=\"translate(598.023529 129.897784)scale(0.1 -0.1)\">\n       <use xlink:href=\"#DejaVuSans-53\"/>\n       <use x=\"63.623047\" xlink:href=\"#DejaVuSans-48\"/>\n       <use x=\"127.246094\" xlink:href=\"#DejaVuSans-48\"/>\n      </g>\n     </g>\n    </g>\n    <g id=\"ytick_14\">\n     <g id=\"line2d_59\">\n      <path clip-path=\"url(#pf9d9da9782)\" d=\"M 624.111029 82.901712 \nL 1116.463971 82.901712 \n\" style=\"fill:none;stroke:#b0b0b0;stroke-linecap:square;stroke-width:0.8;\"/>\n     </g>\n     <g id=\"line2d_60\">\n      <g>\n       <use style=\"stroke:#000000;stroke-width:0.8;\" x=\"624.111029\" xlink:href=\"#m5cee1d8d27\" y=\"82.901712\"/>\n      </g>\n     </g>\n     <g id=\"text_31\">\n      <!-- 600 -->\n      <g transform=\"translate(598.023529 86.70093)scale(0.1 -0.1)\">\n       <use xlink:href=\"#DejaVuSans-54\"/>\n       <use x=\"63.623047\" xlink:href=\"#DejaVuSans-48\"/>\n       <use x=\"127.246094\" xlink:href=\"#DejaVuSans-48\"/>\n      </g>\n     </g>\n    </g>\n    <g id=\"ytick_15\">\n     <g id=\"line2d_61\">\n      <path clip-path=\"url(#pf9d9da9782)\" d=\"M 624.111029 39.704858 \nL 1116.463971 39.704858 \n\" style=\"fill:none;stroke:#b0b0b0;stroke-linecap:square;stroke-width:0.8;\"/>\n     </g>\n     <g id=\"line2d_62\">\n      <g>\n       <use style=\"stroke:#000000;stroke-width:0.8;\" x=\"624.111029\" xlink:href=\"#m5cee1d8d27\" y=\"39.704858\"/>\n      </g>\n     </g>\n     <g id=\"text_32\">\n      <!-- 700 -->\n      <g transform=\"translate(598.023529 43.504077)scale(0.1 -0.1)\">\n       <use xlink:href=\"#DejaVuSans-55\"/>\n       <use x=\"63.623047\" xlink:href=\"#DejaVuSans-48\"/>\n       <use x=\"127.246094\" xlink:href=\"#DejaVuSans-48\"/>\n      </g>\n     </g>\n    </g>\n   </g>\n   <g id=\"patch_18\">\n    <path d=\"M 624.111029 342.082831 \nL 624.111029 22.318125 \n\" style=\"fill:none;stroke:#000000;stroke-linecap:square;stroke-linejoin:miter;stroke-width:0.8;\"/>\n   </g>\n   <g id=\"patch_19\">\n    <path d=\"M 1116.463971 342.082831 \nL 1116.463971 22.318125 \n\" style=\"fill:none;stroke:#000000;stroke-linecap:square;stroke-linejoin:miter;stroke-width:0.8;\"/>\n   </g>\n   <g id=\"patch_20\">\n    <path d=\"M 624.111029 342.082831 \nL 1116.463971 342.082831 \n\" style=\"fill:none;stroke:#000000;stroke-linecap:square;stroke-linejoin:miter;stroke-width:0.8;\"/>\n   </g>\n   <g id=\"patch_21\">\n    <path d=\"M 624.111029 22.318125 \nL 1116.463971 22.318125 \n\" style=\"fill:none;stroke:#000000;stroke-linecap:square;stroke-linejoin:miter;stroke-width:0.8;\"/>\n   </g>\n   <g id=\"text_33\">\n    <!-- 18-39 Yrs Old Male Income Distribution -->\n    <defs>\n     <path d=\"M 9.8125 72.90625 \nL 24.515625 72.90625 \nL 43.109375 23.296875 \nL 61.8125 72.90625 \nL 76.515625 72.90625 \nL 76.515625 0 \nL 66.890625 0 \nL 66.890625 64.015625 \nL 48.09375 14.015625 \nL 38.1875 14.015625 \nL 19.390625 64.015625 \nL 19.390625 0 \nL 9.8125 0 \nz\n\" id=\"DejaVuSans-77\"/>\n    </defs>\n    <g transform=\"translate(752.568438 16.318125)scale(0.12 -0.12)\">\n     <use xlink:href=\"#DejaVuSans-49\"/>\n     <use x=\"63.623047\" xlink:href=\"#DejaVuSans-56\"/>\n     <use x=\"127.246094\" xlink:href=\"#DejaVuSans-45\"/>\n     <use x=\"163.330078\" xlink:href=\"#DejaVuSans-51\"/>\n     <use x=\"226.953125\" xlink:href=\"#DejaVuSans-57\"/>\n     <use x=\"290.576172\" xlink:href=\"#DejaVuSans-32\"/>\n     <use x=\"322.363281\" xlink:href=\"#DejaVuSans-89\"/>\n     <use x=\"383.447266\" xlink:href=\"#DejaVuSans-114\"/>\n     <use x=\"424.560547\" xlink:href=\"#DejaVuSans-115\"/>\n     <use x=\"476.660156\" xlink:href=\"#DejaVuSans-32\"/>\n     <use x=\"508.447266\" xlink:href=\"#DejaVuSans-79\"/>\n     <use x=\"587.158203\" xlink:href=\"#DejaVuSans-108\"/>\n     <use x=\"614.941406\" xlink:href=\"#DejaVuSans-100\"/>\n     <use x=\"678.417969\" xlink:href=\"#DejaVuSans-32\"/>\n     <use x=\"710.205078\" xlink:href=\"#DejaVuSans-77\"/>\n     <use x=\"796.484375\" xlink:href=\"#DejaVuSans-97\"/>\n     <use x=\"857.763672\" xlink:href=\"#DejaVuSans-108\"/>\n     <use x=\"885.546875\" xlink:href=\"#DejaVuSans-101\"/>\n     <use x=\"947.070312\" xlink:href=\"#DejaVuSans-32\"/>\n     <use x=\"978.857422\" xlink:href=\"#DejaVuSans-73\"/>\n     <use x=\"1008.349609\" xlink:href=\"#DejaVuSans-110\"/>\n     <use x=\"1071.728516\" xlink:href=\"#DejaVuSans-99\"/>\n     <use x=\"1126.708984\" xlink:href=\"#DejaVuSans-111\"/>\n     <use x=\"1187.890625\" xlink:href=\"#DejaVuSans-109\"/>\n     <use x=\"1285.302734\" xlink:href=\"#DejaVuSans-101\"/>\n     <use x=\"1346.826172\" xlink:href=\"#DejaVuSans-32\"/>\n     <use x=\"1378.613281\" xlink:href=\"#DejaVuSans-68\"/>\n     <use x=\"1455.615234\" xlink:href=\"#DejaVuSans-105\"/>\n     <use x=\"1483.398438\" xlink:href=\"#DejaVuSans-115\"/>\n     <use x=\"1535.498047\" xlink:href=\"#DejaVuSans-116\"/>\n     <use x=\"1574.707031\" xlink:href=\"#DejaVuSans-114\"/>\n     <use x=\"1615.820312\" xlink:href=\"#DejaVuSans-105\"/>\n     <use x=\"1643.603516\" xlink:href=\"#DejaVuSans-98\"/>\n     <use x=\"1707.080078\" xlink:href=\"#DejaVuSans-117\"/>\n     <use x=\"1770.458984\" xlink:href=\"#DejaVuSans-116\"/>\n     <use x=\"1809.667969\" xlink:href=\"#DejaVuSans-105\"/>\n     <use x=\"1837.451172\" xlink:href=\"#DejaVuSans-111\"/>\n     <use x=\"1898.632812\" xlink:href=\"#DejaVuSans-110\"/>\n    </g>\n   </g>\n  </g>\n  <g id=\"axes_3\">\n   <g id=\"patch_22\">\n    <path d=\"M 1214.934559 342.082831 \nL 1707.2875 342.082831 \nL 1707.2875 22.318125 \nL 1214.934559 22.318125 \nz\n\" style=\"fill:#ffffff;\"/>\n   </g>\n   <g id=\"patch_23\">\n    <path clip-path=\"url(#pa42e14edef)\" d=\"M 1237.314238 342.082831 \nL 1326.832955 342.082831 \nL 1326.832955 37.545016 \nL 1237.314238 37.545016 \nz\n\" style=\"fill:#1f77b4;\"/>\n   </g>\n   <g id=\"patch_24\">\n    <path clip-path=\"url(#pa42e14edef)\" d=\"M 1326.832955 342.082831 \nL 1416.351671 342.082831 \nL 1416.351671 168.061222 \nL 1326.832955 168.061222 \nz\n\" style=\"fill:#1f77b4;\"/>\n   </g>\n   <g id=\"patch_25\">\n    <path clip-path=\"url(#pa42e14edef)\" d=\"M 1416.351671 342.082831 \nL 1505.870388 342.082831 \nL 1505.870388 146.308521 \nL 1416.351671 146.308521 \nz\n\" style=\"fill:#1f77b4;\"/>\n   </g>\n   <g id=\"patch_26\">\n    <path clip-path=\"url(#pa42e14edef)\" d=\"M 1505.870388 342.082831 \nL 1595.389104 342.082831 \nL 1595.389104 211.566624 \nL 1505.870388 211.566624 \nz\n\" style=\"fill:#1f77b4;\"/>\n   </g>\n   <g id=\"patch_27\">\n    <path clip-path=\"url(#pa42e14edef)\" d=\"M 1595.389104 342.082831 \nL 1684.907821 342.082831 \nL 1684.907821 298.577429 \nL 1595.389104 298.577429 \nz\n\" style=\"fill:#1f77b4;\"/>\n   </g>\n   <g id=\"matplotlib.axis_5\">\n    <g id=\"xtick_17\">\n     <g id=\"line2d_63\">\n      <path clip-path=\"url(#pa42e14edef)\" d=\"M 1237.314238 342.082831 \nL 1237.314238 22.318125 \n\" style=\"fill:none;stroke:#b0b0b0;stroke-linecap:square;stroke-width:0.8;\"/>\n     </g>\n     <g id=\"line2d_64\">\n      <g>\n       <use style=\"stroke:#000000;stroke-width:0.8;\" x=\"1237.314238\" xlink:href=\"#m5169d1b306\" y=\"342.082831\"/>\n      </g>\n     </g>\n     <g id=\"text_34\">\n      <!-- 30000 -->\n      <g transform=\"translate(1221.407988 356.681268)scale(0.1 -0.1)\">\n       <use xlink:href=\"#DejaVuSans-51\"/>\n       <use x=\"63.623047\" xlink:href=\"#DejaVuSans-48\"/>\n       <use x=\"127.246094\" xlink:href=\"#DejaVuSans-48\"/>\n       <use x=\"190.869141\" xlink:href=\"#DejaVuSans-48\"/>\n       <use x=\"254.492188\" xlink:href=\"#DejaVuSans-48\"/>\n      </g>\n     </g>\n    </g>\n    <g id=\"xtick_18\">\n     <g id=\"line2d_65\">\n      <path clip-path=\"url(#pa42e14edef)\" d=\"M 1313.177557 342.082831 \nL 1313.177557 22.318125 \n\" style=\"fill:none;stroke:#b0b0b0;stroke-linecap:square;stroke-width:0.8;\"/>\n     </g>\n     <g id=\"line2d_66\">\n      <g>\n       <use style=\"stroke:#000000;stroke-width:0.8;\" x=\"1313.177557\" xlink:href=\"#m5169d1b306\" y=\"342.082831\"/>\n      </g>\n     </g>\n     <g id=\"text_35\">\n      <!-- 40000 -->\n      <g transform=\"translate(1297.271307 356.681268)scale(0.1 -0.1)\">\n       <use xlink:href=\"#DejaVuSans-52\"/>\n       <use x=\"63.623047\" xlink:href=\"#DejaVuSans-48\"/>\n       <use x=\"127.246094\" xlink:href=\"#DejaVuSans-48\"/>\n       <use x=\"190.869141\" xlink:href=\"#DejaVuSans-48\"/>\n       <use x=\"254.492188\" xlink:href=\"#DejaVuSans-48\"/>\n      </g>\n     </g>\n    </g>\n    <g id=\"xtick_19\">\n     <g id=\"line2d_67\">\n      <path clip-path=\"url(#pa42e14edef)\" d=\"M 1389.040876 342.082831 \nL 1389.040876 22.318125 \n\" style=\"fill:none;stroke:#b0b0b0;stroke-linecap:square;stroke-width:0.8;\"/>\n     </g>\n     <g id=\"line2d_68\">\n      <g>\n       <use style=\"stroke:#000000;stroke-width:0.8;\" x=\"1389.040876\" xlink:href=\"#m5169d1b306\" y=\"342.082831\"/>\n      </g>\n     </g>\n     <g id=\"text_36\">\n      <!-- 50000 -->\n      <g transform=\"translate(1373.134626 356.681268)scale(0.1 -0.1)\">\n       <use xlink:href=\"#DejaVuSans-53\"/>\n       <use x=\"63.623047\" xlink:href=\"#DejaVuSans-48\"/>\n       <use x=\"127.246094\" xlink:href=\"#DejaVuSans-48\"/>\n       <use x=\"190.869141\" xlink:href=\"#DejaVuSans-48\"/>\n       <use x=\"254.492188\" xlink:href=\"#DejaVuSans-48\"/>\n      </g>\n     </g>\n    </g>\n    <g id=\"xtick_20\">\n     <g id=\"line2d_69\">\n      <path clip-path=\"url(#pa42e14edef)\" d=\"M 1464.904195 342.082831 \nL 1464.904195 22.318125 \n\" style=\"fill:none;stroke:#b0b0b0;stroke-linecap:square;stroke-width:0.8;\"/>\n     </g>\n     <g id=\"line2d_70\">\n      <g>\n       <use style=\"stroke:#000000;stroke-width:0.8;\" x=\"1464.904195\" xlink:href=\"#m5169d1b306\" y=\"342.082831\"/>\n      </g>\n     </g>\n     <g id=\"text_37\">\n      <!-- 60000 -->\n      <g transform=\"translate(1448.997945 356.681268)scale(0.1 -0.1)\">\n       <use xlink:href=\"#DejaVuSans-54\"/>\n       <use x=\"63.623047\" xlink:href=\"#DejaVuSans-48\"/>\n       <use x=\"127.246094\" xlink:href=\"#DejaVuSans-48\"/>\n       <use x=\"190.869141\" xlink:href=\"#DejaVuSans-48\"/>\n       <use x=\"254.492188\" xlink:href=\"#DejaVuSans-48\"/>\n      </g>\n     </g>\n    </g>\n    <g id=\"xtick_21\">\n     <g id=\"line2d_71\">\n      <path clip-path=\"url(#pa42e14edef)\" d=\"M 1540.767515 342.082831 \nL 1540.767515 22.318125 \n\" style=\"fill:none;stroke:#b0b0b0;stroke-linecap:square;stroke-width:0.8;\"/>\n     </g>\n     <g id=\"line2d_72\">\n      <g>\n       <use style=\"stroke:#000000;stroke-width:0.8;\" x=\"1540.767515\" xlink:href=\"#m5169d1b306\" y=\"342.082831\"/>\n      </g>\n     </g>\n     <g id=\"text_38\">\n      <!-- 70000 -->\n      <g transform=\"translate(1524.861265 356.681268)scale(0.1 -0.1)\">\n       <use xlink:href=\"#DejaVuSans-55\"/>\n       <use x=\"63.623047\" xlink:href=\"#DejaVuSans-48\"/>\n       <use x=\"127.246094\" xlink:href=\"#DejaVuSans-48\"/>\n       <use x=\"190.869141\" xlink:href=\"#DejaVuSans-48\"/>\n       <use x=\"254.492188\" xlink:href=\"#DejaVuSans-48\"/>\n      </g>\n     </g>\n    </g>\n    <g id=\"xtick_22\">\n     <g id=\"line2d_73\">\n      <path clip-path=\"url(#pa42e14edef)\" d=\"M 1616.630834 342.082831 \nL 1616.630834 22.318125 \n\" style=\"fill:none;stroke:#b0b0b0;stroke-linecap:square;stroke-width:0.8;\"/>\n     </g>\n     <g id=\"line2d_74\">\n      <g>\n       <use style=\"stroke:#000000;stroke-width:0.8;\" x=\"1616.630834\" xlink:href=\"#m5169d1b306\" y=\"342.082831\"/>\n      </g>\n     </g>\n     <g id=\"text_39\">\n      <!-- 80000 -->\n      <g transform=\"translate(1600.724584 356.681268)scale(0.1 -0.1)\">\n       <use xlink:href=\"#DejaVuSans-56\"/>\n       <use x=\"63.623047\" xlink:href=\"#DejaVuSans-48\"/>\n       <use x=\"127.246094\" xlink:href=\"#DejaVuSans-48\"/>\n       <use x=\"190.869141\" xlink:href=\"#DejaVuSans-48\"/>\n       <use x=\"254.492188\" xlink:href=\"#DejaVuSans-48\"/>\n      </g>\n     </g>\n    </g>\n    <g id=\"xtick_23\">\n     <g id=\"line2d_75\">\n      <path clip-path=\"url(#pa42e14edef)\" d=\"M 1692.494153 342.082831 \nL 1692.494153 22.318125 \n\" style=\"fill:none;stroke:#b0b0b0;stroke-linecap:square;stroke-width:0.8;\"/>\n     </g>\n     <g id=\"line2d_76\">\n      <g>\n       <use style=\"stroke:#000000;stroke-width:0.8;\" x=\"1692.494153\" xlink:href=\"#m5169d1b306\" y=\"342.082831\"/>\n      </g>\n     </g>\n     <g id=\"text_40\">\n      <!-- 90000 -->\n      <g transform=\"translate(1676.587903 356.681268)scale(0.1 -0.1)\">\n       <use xlink:href=\"#DejaVuSans-57\"/>\n       <use x=\"63.623047\" xlink:href=\"#DejaVuSans-48\"/>\n       <use x=\"127.246094\" xlink:href=\"#DejaVuSans-48\"/>\n       <use x=\"190.869141\" xlink:href=\"#DejaVuSans-48\"/>\n       <use x=\"254.492188\" xlink:href=\"#DejaVuSans-48\"/>\n      </g>\n     </g>\n    </g>\n   </g>\n   <g id=\"matplotlib.axis_6\">\n    <g id=\"ytick_16\">\n     <g id=\"line2d_77\">\n      <path clip-path=\"url(#pa42e14edef)\" d=\"M 1214.934559 342.082831 \nL 1707.2875 342.082831 \n\" style=\"fill:none;stroke:#b0b0b0;stroke-linecap:square;stroke-width:0.8;\"/>\n     </g>\n     <g id=\"line2d_78\">\n      <g>\n       <use style=\"stroke:#000000;stroke-width:0.8;\" x=\"1214.934559\" xlink:href=\"#m5cee1d8d27\" y=\"342.082831\"/>\n      </g>\n     </g>\n     <g id=\"text_41\">\n      <!-- 0 -->\n      <g transform=\"translate(1201.572059 345.88205)scale(0.1 -0.1)\">\n       <use xlink:href=\"#DejaVuSans-48\"/>\n      </g>\n     </g>\n    </g>\n    <g id=\"ytick_17\">\n     <g id=\"line2d_79\">\n      <path clip-path=\"url(#pa42e14edef)\" d=\"M 1214.934559 298.577429 \nL 1707.2875 298.577429 \n\" style=\"fill:none;stroke:#b0b0b0;stroke-linecap:square;stroke-width:0.8;\"/>\n     </g>\n     <g id=\"line2d_80\">\n      <g>\n       <use style=\"stroke:#000000;stroke-width:0.8;\" x=\"1214.934559\" xlink:href=\"#m5cee1d8d27\" y=\"298.577429\"/>\n      </g>\n     </g>\n     <g id=\"text_42\">\n      <!-- 2 -->\n      <g transform=\"translate(1201.572059 302.376647)scale(0.1 -0.1)\">\n       <use xlink:href=\"#DejaVuSans-50\"/>\n      </g>\n     </g>\n    </g>\n    <g id=\"ytick_18\">\n     <g id=\"line2d_81\">\n      <path clip-path=\"url(#pa42e14edef)\" d=\"M 1214.934559 255.072027 \nL 1707.2875 255.072027 \n\" style=\"fill:none;stroke:#b0b0b0;stroke-linecap:square;stroke-width:0.8;\"/>\n     </g>\n     <g id=\"line2d_82\">\n      <g>\n       <use style=\"stroke:#000000;stroke-width:0.8;\" x=\"1214.934559\" xlink:href=\"#m5cee1d8d27\" y=\"255.072027\"/>\n      </g>\n     </g>\n     <g id=\"text_43\">\n      <!-- 4 -->\n      <g transform=\"translate(1201.572059 258.871245)scale(0.1 -0.1)\">\n       <use xlink:href=\"#DejaVuSans-52\"/>\n      </g>\n     </g>\n    </g>\n    <g id=\"ytick_19\">\n     <g id=\"line2d_83\">\n      <path clip-path=\"url(#pa42e14edef)\" d=\"M 1214.934559 211.566624 \nL 1707.2875 211.566624 \n\" style=\"fill:none;stroke:#b0b0b0;stroke-linecap:square;stroke-width:0.8;\"/>\n     </g>\n     <g id=\"line2d_84\">\n      <g>\n       <use style=\"stroke:#000000;stroke-width:0.8;\" x=\"1214.934559\" xlink:href=\"#m5cee1d8d27\" y=\"211.566624\"/>\n      </g>\n     </g>\n     <g id=\"text_44\">\n      <!-- 6 -->\n      <g transform=\"translate(1201.572059 215.365843)scale(0.1 -0.1)\">\n       <use xlink:href=\"#DejaVuSans-54\"/>\n      </g>\n     </g>\n    </g>\n    <g id=\"ytick_20\">\n     <g id=\"line2d_85\">\n      <path clip-path=\"url(#pa42e14edef)\" d=\"M 1214.934559 168.061222 \nL 1707.2875 168.061222 \n\" style=\"fill:none;stroke:#b0b0b0;stroke-linecap:square;stroke-width:0.8;\"/>\n     </g>\n     <g id=\"line2d_86\">\n      <g>\n       <use style=\"stroke:#000000;stroke-width:0.8;\" x=\"1214.934559\" xlink:href=\"#m5cee1d8d27\" y=\"168.061222\"/>\n      </g>\n     </g>\n     <g id=\"text_45\">\n      <!-- 8 -->\n      <g transform=\"translate(1201.572059 171.860441)scale(0.1 -0.1)\">\n       <use xlink:href=\"#DejaVuSans-56\"/>\n      </g>\n     </g>\n    </g>\n    <g id=\"ytick_21\">\n     <g id=\"line2d_87\">\n      <path clip-path=\"url(#pa42e14edef)\" d=\"M 1214.934559 124.55582 \nL 1707.2875 124.55582 \n\" style=\"fill:none;stroke:#b0b0b0;stroke-linecap:square;stroke-width:0.8;\"/>\n     </g>\n     <g id=\"line2d_88\">\n      <g>\n       <use style=\"stroke:#000000;stroke-width:0.8;\" x=\"1214.934559\" xlink:href=\"#m5cee1d8d27\" y=\"124.55582\"/>\n      </g>\n     </g>\n     <g id=\"text_46\">\n      <!-- 10 -->\n      <g transform=\"translate(1195.209559 128.355039)scale(0.1 -0.1)\">\n       <use xlink:href=\"#DejaVuSans-49\"/>\n       <use x=\"63.623047\" xlink:href=\"#DejaVuSans-48\"/>\n      </g>\n     </g>\n    </g>\n    <g id=\"ytick_22\">\n     <g id=\"line2d_89\">\n      <path clip-path=\"url(#pa42e14edef)\" d=\"M 1214.934559 81.050418 \nL 1707.2875 81.050418 \n\" style=\"fill:none;stroke:#b0b0b0;stroke-linecap:square;stroke-width:0.8;\"/>\n     </g>\n     <g id=\"line2d_90\">\n      <g>\n       <use style=\"stroke:#000000;stroke-width:0.8;\" x=\"1214.934559\" xlink:href=\"#m5cee1d8d27\" y=\"81.050418\"/>\n      </g>\n     </g>\n     <g id=\"text_47\">\n      <!-- 12 -->\n      <g transform=\"translate(1195.209559 84.849637)scale(0.1 -0.1)\">\n       <use xlink:href=\"#DejaVuSans-49\"/>\n       <use x=\"63.623047\" xlink:href=\"#DejaVuSans-50\"/>\n      </g>\n     </g>\n    </g>\n    <g id=\"ytick_23\">\n     <g id=\"line2d_91\">\n      <path clip-path=\"url(#pa42e14edef)\" d=\"M 1214.934559 37.545016 \nL 1707.2875 37.545016 \n\" style=\"fill:none;stroke:#b0b0b0;stroke-linecap:square;stroke-width:0.8;\"/>\n     </g>\n     <g id=\"line2d_92\">\n      <g>\n       <use style=\"stroke:#000000;stroke-width:0.8;\" x=\"1214.934559\" xlink:href=\"#m5cee1d8d27\" y=\"37.545016\"/>\n      </g>\n     </g>\n     <g id=\"text_48\">\n      <!-- 14 -->\n      <g transform=\"translate(1195.209559 41.344235)scale(0.1 -0.1)\">\n       <use xlink:href=\"#DejaVuSans-49\"/>\n       <use x=\"63.623047\" xlink:href=\"#DejaVuSans-52\"/>\n      </g>\n     </g>\n    </g>\n   </g>\n   <g id=\"patch_28\">\n    <path d=\"M 1214.934559 342.082831 \nL 1214.934559 22.318125 \n\" style=\"fill:none;stroke:#000000;stroke-linecap:square;stroke-linejoin:miter;stroke-width:0.8;\"/>\n   </g>\n   <g id=\"patch_29\">\n    <path d=\"M 1707.2875 342.082831 \nL 1707.2875 22.318125 \n\" style=\"fill:none;stroke:#000000;stroke-linecap:square;stroke-linejoin:miter;stroke-width:0.8;\"/>\n   </g>\n   <g id=\"patch_30\">\n    <path d=\"M 1214.934559 342.082831 \nL 1707.2875 342.082831 \n\" style=\"fill:none;stroke:#000000;stroke-linecap:square;stroke-linejoin:miter;stroke-width:0.8;\"/>\n   </g>\n   <g id=\"patch_31\">\n    <path d=\"M 1214.934559 22.318125 \nL 1707.2875 22.318125 \n\" style=\"fill:none;stroke:#000000;stroke-linecap:square;stroke-linejoin:miter;stroke-width:0.8;\"/>\n   </g>\n   <g id=\"text_49\">\n    <!-- 18-39 Yrs Old Other Income Distribution -->\n    <defs>\n     <path d=\"M 54.890625 33.015625 \nL 54.890625 0 \nL 45.90625 0 \nL 45.90625 32.71875 \nQ 45.90625 40.484375 42.875 44.328125 \nQ 39.84375 48.1875 33.796875 48.1875 \nQ 26.515625 48.1875 22.3125 43.546875 \nQ 18.109375 38.921875 18.109375 30.90625 \nL 18.109375 0 \nL 9.078125 0 \nL 9.078125 75.984375 \nL 18.109375 75.984375 \nL 18.109375 46.1875 \nQ 21.34375 51.125 25.703125 53.5625 \nQ 30.078125 56 35.796875 56 \nQ 45.21875 56 50.046875 50.171875 \nQ 54.890625 44.34375 54.890625 33.015625 \nz\n\" id=\"DejaVuSans-104\"/>\n    </defs>\n    <g transform=\"translate(1340.568217 16.318125)scale(0.12 -0.12)\">\n     <use xlink:href=\"#DejaVuSans-49\"/>\n     <use x=\"63.623047\" xlink:href=\"#DejaVuSans-56\"/>\n     <use x=\"127.246094\" xlink:href=\"#DejaVuSans-45\"/>\n     <use x=\"163.330078\" xlink:href=\"#DejaVuSans-51\"/>\n     <use x=\"226.953125\" xlink:href=\"#DejaVuSans-57\"/>\n     <use x=\"290.576172\" xlink:href=\"#DejaVuSans-32\"/>\n     <use x=\"322.363281\" xlink:href=\"#DejaVuSans-89\"/>\n     <use x=\"383.447266\" xlink:href=\"#DejaVuSans-114\"/>\n     <use x=\"424.560547\" xlink:href=\"#DejaVuSans-115\"/>\n     <use x=\"476.660156\" xlink:href=\"#DejaVuSans-32\"/>\n     <use x=\"508.447266\" xlink:href=\"#DejaVuSans-79\"/>\n     <use x=\"587.158203\" xlink:href=\"#DejaVuSans-108\"/>\n     <use x=\"614.941406\" xlink:href=\"#DejaVuSans-100\"/>\n     <use x=\"678.417969\" xlink:href=\"#DejaVuSans-32\"/>\n     <use x=\"710.205078\" xlink:href=\"#DejaVuSans-79\"/>\n     <use x=\"788.916016\" xlink:href=\"#DejaVuSans-116\"/>\n     <use x=\"828.125\" xlink:href=\"#DejaVuSans-104\"/>\n     <use x=\"891.503906\" xlink:href=\"#DejaVuSans-101\"/>\n     <use x=\"953.027344\" xlink:href=\"#DejaVuSans-114\"/>\n     <use x=\"994.140625\" xlink:href=\"#DejaVuSans-32\"/>\n     <use x=\"1025.927734\" xlink:href=\"#DejaVuSans-73\"/>\n     <use x=\"1055.419922\" xlink:href=\"#DejaVuSans-110\"/>\n     <use x=\"1118.798828\" xlink:href=\"#DejaVuSans-99\"/>\n     <use x=\"1173.779297\" xlink:href=\"#DejaVuSans-111\"/>\n     <use x=\"1234.960938\" xlink:href=\"#DejaVuSans-109\"/>\n     <use x=\"1332.373047\" xlink:href=\"#DejaVuSans-101\"/>\n     <use x=\"1393.896484\" xlink:href=\"#DejaVuSans-32\"/>\n     <use x=\"1425.683594\" xlink:href=\"#DejaVuSans-68\"/>\n     <use x=\"1502.685547\" xlink:href=\"#DejaVuSans-105\"/>\n     <use x=\"1530.46875\" xlink:href=\"#DejaVuSans-115\"/>\n     <use x=\"1582.568359\" xlink:href=\"#DejaVuSans-116\"/>\n     <use x=\"1621.777344\" xlink:href=\"#DejaVuSans-114\"/>\n     <use x=\"1662.890625\" xlink:href=\"#DejaVuSans-105\"/>\n     <use x=\"1690.673828\" xlink:href=\"#DejaVuSans-98\"/>\n     <use x=\"1754.150391\" xlink:href=\"#DejaVuSans-117\"/>\n     <use x=\"1817.529297\" xlink:href=\"#DejaVuSans-116\"/>\n     <use x=\"1856.738281\" xlink:href=\"#DejaVuSans-105\"/>\n     <use x=\"1884.521484\" xlink:href=\"#DejaVuSans-111\"/>\n     <use x=\"1945.703125\" xlink:href=\"#DejaVuSans-110\"/>\n    </g>\n   </g>\n  </g>\n  <g id=\"axes_4\">\n   <g id=\"patch_32\">\n    <path d=\"M 33.2875 725.800478 \nL 525.640441 725.800478 \nL 525.640441 406.035772 \nL 33.2875 406.035772 \nz\n\" style=\"fill:#ffffff;\"/>\n   </g>\n   <g id=\"patch_33\">\n    <path clip-path=\"url(#p524fe0dd6f)\" d=\"M 55.667179 725.800478 \nL 145.185896 725.800478 \nL 145.185896 594.655581 \nL 55.667179 594.655581 \nz\n\" style=\"fill:#1f77b4;\"/>\n   </g>\n   <g id=\"patch_34\">\n    <path clip-path=\"url(#p524fe0dd6f)\" d=\"M 145.185896 725.800478 \nL 234.704612 725.800478 \nL 234.704612 447.227592 \nL 145.185896 447.227592 \nz\n\" style=\"fill:#1f77b4;\"/>\n   </g>\n   <g id=\"patch_35\">\n    <path clip-path=\"url(#p524fe0dd6f)\" d=\"M 234.704612 725.800478 \nL 324.223329 725.800478 \nL 324.223329 421.262663 \nL 234.704612 421.262663 \nz\n\" style=\"fill:#1f77b4;\"/>\n   </g>\n   <g id=\"patch_36\">\n    <path clip-path=\"url(#p524fe0dd6f)\" d=\"M 324.223329 725.800478 \nL 413.742045 725.800478 \nL 413.742045 494.316532 \nL 324.223329 494.316532 \nz\n\" style=\"fill:#1f77b4;\"/>\n   </g>\n   <g id=\"patch_37\">\n    <path clip-path=\"url(#p524fe0dd6f)\" d=\"M 413.742045 725.800478 \nL 503.260762 725.800478 \nL 503.260762 617.539925 \nL 413.742045 617.539925 \nz\n\" style=\"fill:#1f77b4;\"/>\n   </g>\n   <g id=\"matplotlib.axis_7\">\n    <g id=\"xtick_24\">\n     <g id=\"line2d_93\">\n      <path clip-path=\"url(#p524fe0dd6f)\" d=\"M 105.399799 725.800478 \nL 105.399799 406.035772 \n\" style=\"fill:none;stroke:#b0b0b0;stroke-linecap:square;stroke-width:0.8;\"/>\n     </g>\n     <g id=\"line2d_94\">\n      <g>\n       <use style=\"stroke:#000000;stroke-width:0.8;\" x=\"105.399799\" xlink:href=\"#m5169d1b306\" y=\"725.800478\"/>\n      </g>\n     </g>\n     <g id=\"text_50\">\n      <!-- 40000 -->\n      <g transform=\"translate(89.493549 740.398915)scale(0.1 -0.1)\">\n       <use xlink:href=\"#DejaVuSans-52\"/>\n       <use x=\"63.623047\" xlink:href=\"#DejaVuSans-48\"/>\n       <use x=\"127.246094\" xlink:href=\"#DejaVuSans-48\"/>\n       <use x=\"190.869141\" xlink:href=\"#DejaVuSans-48\"/>\n       <use x=\"254.492188\" xlink:href=\"#DejaVuSans-48\"/>\n      </g>\n     </g>\n    </g>\n    <g id=\"xtick_25\">\n     <g id=\"line2d_95\">\n      <path clip-path=\"url(#p524fe0dd6f)\" d=\"M 204.86504 725.800478 \nL 204.86504 406.035772 \n\" style=\"fill:none;stroke:#b0b0b0;stroke-linecap:square;stroke-width:0.8;\"/>\n     </g>\n     <g id=\"line2d_96\">\n      <g>\n       <use style=\"stroke:#000000;stroke-width:0.8;\" x=\"204.86504\" xlink:href=\"#m5169d1b306\" y=\"725.800478\"/>\n      </g>\n     </g>\n     <g id=\"text_51\">\n      <!-- 60000 -->\n      <g transform=\"translate(188.95879 740.398915)scale(0.1 -0.1)\">\n       <use xlink:href=\"#DejaVuSans-54\"/>\n       <use x=\"63.623047\" xlink:href=\"#DejaVuSans-48\"/>\n       <use x=\"127.246094\" xlink:href=\"#DejaVuSans-48\"/>\n       <use x=\"190.869141\" xlink:href=\"#DejaVuSans-48\"/>\n       <use x=\"254.492188\" xlink:href=\"#DejaVuSans-48\"/>\n      </g>\n     </g>\n    </g>\n    <g id=\"xtick_26\">\n     <g id=\"line2d_97\">\n      <path clip-path=\"url(#p524fe0dd6f)\" d=\"M 304.330281 725.800478 \nL 304.330281 406.035772 \n\" style=\"fill:none;stroke:#b0b0b0;stroke-linecap:square;stroke-width:0.8;\"/>\n     </g>\n     <g id=\"line2d_98\">\n      <g>\n       <use style=\"stroke:#000000;stroke-width:0.8;\" x=\"304.330281\" xlink:href=\"#m5169d1b306\" y=\"725.800478\"/>\n      </g>\n     </g>\n     <g id=\"text_52\">\n      <!-- 80000 -->\n      <g transform=\"translate(288.424031 740.398915)scale(0.1 -0.1)\">\n       <use xlink:href=\"#DejaVuSans-56\"/>\n       <use x=\"63.623047\" xlink:href=\"#DejaVuSans-48\"/>\n       <use x=\"127.246094\" xlink:href=\"#DejaVuSans-48\"/>\n       <use x=\"190.869141\" xlink:href=\"#DejaVuSans-48\"/>\n       <use x=\"254.492188\" xlink:href=\"#DejaVuSans-48\"/>\n      </g>\n     </g>\n    </g>\n    <g id=\"xtick_27\">\n     <g id=\"line2d_99\">\n      <path clip-path=\"url(#p524fe0dd6f)\" d=\"M 403.795521 725.800478 \nL 403.795521 406.035772 \n\" style=\"fill:none;stroke:#b0b0b0;stroke-linecap:square;stroke-width:0.8;\"/>\n     </g>\n     <g id=\"line2d_100\">\n      <g>\n       <use style=\"stroke:#000000;stroke-width:0.8;\" x=\"403.795521\" xlink:href=\"#m5169d1b306\" y=\"725.800478\"/>\n      </g>\n     </g>\n     <g id=\"text_53\">\n      <!-- 100000 -->\n      <g transform=\"translate(384.708021 740.398915)scale(0.1 -0.1)\">\n       <use xlink:href=\"#DejaVuSans-49\"/>\n       <use x=\"63.623047\" xlink:href=\"#DejaVuSans-48\"/>\n       <use x=\"127.246094\" xlink:href=\"#DejaVuSans-48\"/>\n       <use x=\"190.869141\" xlink:href=\"#DejaVuSans-48\"/>\n       <use x=\"254.492188\" xlink:href=\"#DejaVuSans-48\"/>\n       <use x=\"318.115234\" xlink:href=\"#DejaVuSans-48\"/>\n      </g>\n     </g>\n    </g>\n    <g id=\"xtick_28\">\n     <g id=\"line2d_101\">\n      <path clip-path=\"url(#p524fe0dd6f)\" d=\"M 503.260762 725.800478 \nL 503.260762 406.035772 \n\" style=\"fill:none;stroke:#b0b0b0;stroke-linecap:square;stroke-width:0.8;\"/>\n     </g>\n     <g id=\"line2d_102\">\n      <g>\n       <use style=\"stroke:#000000;stroke-width:0.8;\" x=\"503.260762\" xlink:href=\"#m5169d1b306\" y=\"725.800478\"/>\n      </g>\n     </g>\n     <g id=\"text_54\">\n      <!-- 120000 -->\n      <g transform=\"translate(484.173262 740.398915)scale(0.1 -0.1)\">\n       <use xlink:href=\"#DejaVuSans-49\"/>\n       <use x=\"63.623047\" xlink:href=\"#DejaVuSans-50\"/>\n       <use x=\"127.246094\" xlink:href=\"#DejaVuSans-48\"/>\n       <use x=\"190.869141\" xlink:href=\"#DejaVuSans-48\"/>\n       <use x=\"254.492188\" xlink:href=\"#DejaVuSans-48\"/>\n       <use x=\"318.115234\" xlink:href=\"#DejaVuSans-48\"/>\n      </g>\n     </g>\n    </g>\n   </g>\n   <g id=\"matplotlib.axis_8\">\n    <g id=\"ytick_24\">\n     <g id=\"line2d_103\">\n      <path clip-path=\"url(#p524fe0dd6f)\" d=\"M 33.2875 725.800478 \nL 525.640441 725.800478 \n\" style=\"fill:none;stroke:#b0b0b0;stroke-linecap:square;stroke-width:0.8;\"/>\n     </g>\n     <g id=\"line2d_104\">\n      <g>\n       <use style=\"stroke:#000000;stroke-width:0.8;\" x=\"33.2875\" xlink:href=\"#m5cee1d8d27\" y=\"725.800478\"/>\n      </g>\n     </g>\n     <g id=\"text_55\">\n      <!-- 0 -->\n      <g transform=\"translate(19.925 729.599697)scale(0.1 -0.1)\">\n       <use xlink:href=\"#DejaVuSans-48\"/>\n      </g>\n     </g>\n    </g>\n    <g id=\"ytick_25\">\n     <g id=\"line2d_105\">\n      <path clip-path=\"url(#p524fe0dd6f)\" d=\"M 33.2875 681.792123 \nL 525.640441 681.792123 \n\" style=\"fill:none;stroke:#b0b0b0;stroke-linecap:square;stroke-width:0.8;\"/>\n     </g>\n     <g id=\"line2d_106\">\n      <g>\n       <use style=\"stroke:#000000;stroke-width:0.8;\" x=\"33.2875\" xlink:href=\"#m5cee1d8d27\" y=\"681.792123\"/>\n      </g>\n     </g>\n     <g id=\"text_56\">\n      <!-- 100 -->\n      <g transform=\"translate(7.2 685.591342)scale(0.1 -0.1)\">\n       <use xlink:href=\"#DejaVuSans-49\"/>\n       <use x=\"63.623047\" xlink:href=\"#DejaVuSans-48\"/>\n       <use x=\"127.246094\" xlink:href=\"#DejaVuSans-48\"/>\n      </g>\n     </g>\n    </g>\n    <g id=\"ytick_26\">\n     <g id=\"line2d_107\">\n      <path clip-path=\"url(#p524fe0dd6f)\" d=\"M 33.2875 637.783768 \nL 525.640441 637.783768 \n\" style=\"fill:none;stroke:#b0b0b0;stroke-linecap:square;stroke-width:0.8;\"/>\n     </g>\n     <g id=\"line2d_108\">\n      <g>\n       <use style=\"stroke:#000000;stroke-width:0.8;\" x=\"33.2875\" xlink:href=\"#m5cee1d8d27\" y=\"637.783768\"/>\n      </g>\n     </g>\n     <g id=\"text_57\">\n      <!-- 200 -->\n      <g transform=\"translate(7.2 641.582987)scale(0.1 -0.1)\">\n       <use xlink:href=\"#DejaVuSans-50\"/>\n       <use x=\"63.623047\" xlink:href=\"#DejaVuSans-48\"/>\n       <use x=\"127.246094\" xlink:href=\"#DejaVuSans-48\"/>\n      </g>\n     </g>\n    </g>\n    <g id=\"ytick_27\">\n     <g id=\"line2d_109\">\n      <path clip-path=\"url(#p524fe0dd6f)\" d=\"M 33.2875 593.775414 \nL 525.640441 593.775414 \n\" style=\"fill:none;stroke:#b0b0b0;stroke-linecap:square;stroke-width:0.8;\"/>\n     </g>\n     <g id=\"line2d_110\">\n      <g>\n       <use style=\"stroke:#000000;stroke-width:0.8;\" x=\"33.2875\" xlink:href=\"#m5cee1d8d27\" y=\"593.775414\"/>\n      </g>\n     </g>\n     <g id=\"text_58\">\n      <!-- 300 -->\n      <g transform=\"translate(7.2 597.574632)scale(0.1 -0.1)\">\n       <use xlink:href=\"#DejaVuSans-51\"/>\n       <use x=\"63.623047\" xlink:href=\"#DejaVuSans-48\"/>\n       <use x=\"127.246094\" xlink:href=\"#DejaVuSans-48\"/>\n      </g>\n     </g>\n    </g>\n    <g id=\"ytick_28\">\n     <g id=\"line2d_111\">\n      <path clip-path=\"url(#p524fe0dd6f)\" d=\"M 33.2875 549.767059 \nL 525.640441 549.767059 \n\" style=\"fill:none;stroke:#b0b0b0;stroke-linecap:square;stroke-width:0.8;\"/>\n     </g>\n     <g id=\"line2d_112\">\n      <g>\n       <use style=\"stroke:#000000;stroke-width:0.8;\" x=\"33.2875\" xlink:href=\"#m5cee1d8d27\" y=\"549.767059\"/>\n      </g>\n     </g>\n     <g id=\"text_59\">\n      <!-- 400 -->\n      <g transform=\"translate(7.2 553.566278)scale(0.1 -0.1)\">\n       <use xlink:href=\"#DejaVuSans-52\"/>\n       <use x=\"63.623047\" xlink:href=\"#DejaVuSans-48\"/>\n       <use x=\"127.246094\" xlink:href=\"#DejaVuSans-48\"/>\n      </g>\n     </g>\n    </g>\n    <g id=\"ytick_29\">\n     <g id=\"line2d_113\">\n      <path clip-path=\"url(#p524fe0dd6f)\" d=\"M 33.2875 505.758704 \nL 525.640441 505.758704 \n\" style=\"fill:none;stroke:#b0b0b0;stroke-linecap:square;stroke-width:0.8;\"/>\n     </g>\n     <g id=\"line2d_114\">\n      <g>\n       <use style=\"stroke:#000000;stroke-width:0.8;\" x=\"33.2875\" xlink:href=\"#m5cee1d8d27\" y=\"505.758704\"/>\n      </g>\n     </g>\n     <g id=\"text_60\">\n      <!-- 500 -->\n      <g transform=\"translate(7.2 509.557923)scale(0.1 -0.1)\">\n       <use xlink:href=\"#DejaVuSans-53\"/>\n       <use x=\"63.623047\" xlink:href=\"#DejaVuSans-48\"/>\n       <use x=\"127.246094\" xlink:href=\"#DejaVuSans-48\"/>\n      </g>\n     </g>\n    </g>\n    <g id=\"ytick_30\">\n     <g id=\"line2d_115\">\n      <path clip-path=\"url(#p524fe0dd6f)\" d=\"M 33.2875 461.750349 \nL 525.640441 461.750349 \n\" style=\"fill:none;stroke:#b0b0b0;stroke-linecap:square;stroke-width:0.8;\"/>\n     </g>\n     <g id=\"line2d_116\">\n      <g>\n       <use style=\"stroke:#000000;stroke-width:0.8;\" x=\"33.2875\" xlink:href=\"#m5cee1d8d27\" y=\"461.750349\"/>\n      </g>\n     </g>\n     <g id=\"text_61\">\n      <!-- 600 -->\n      <g transform=\"translate(7.2 465.549568)scale(0.1 -0.1)\">\n       <use xlink:href=\"#DejaVuSans-54\"/>\n       <use x=\"63.623047\" xlink:href=\"#DejaVuSans-48\"/>\n       <use x=\"127.246094\" xlink:href=\"#DejaVuSans-48\"/>\n      </g>\n     </g>\n    </g>\n    <g id=\"ytick_31\">\n     <g id=\"line2d_117\">\n      <path clip-path=\"url(#p524fe0dd6f)\" d=\"M 33.2875 417.741994 \nL 525.640441 417.741994 \n\" style=\"fill:none;stroke:#b0b0b0;stroke-linecap:square;stroke-width:0.8;\"/>\n     </g>\n     <g id=\"line2d_118\">\n      <g>\n       <use style=\"stroke:#000000;stroke-width:0.8;\" x=\"33.2875\" xlink:href=\"#m5cee1d8d27\" y=\"417.741994\"/>\n      </g>\n     </g>\n     <g id=\"text_62\">\n      <!-- 700 -->\n      <g transform=\"translate(7.2 421.541213)scale(0.1 -0.1)\">\n       <use xlink:href=\"#DejaVuSans-55\"/>\n       <use x=\"63.623047\" xlink:href=\"#DejaVuSans-48\"/>\n       <use x=\"127.246094\" xlink:href=\"#DejaVuSans-48\"/>\n      </g>\n     </g>\n    </g>\n   </g>\n   <g id=\"patch_38\">\n    <path d=\"M 33.2875 725.800478 \nL 33.2875 406.035772 \n\" style=\"fill:none;stroke:#000000;stroke-linecap:square;stroke-linejoin:miter;stroke-width:0.8;\"/>\n   </g>\n   <g id=\"patch_39\">\n    <path d=\"M 525.640441 725.800478 \nL 525.640441 406.035772 \n\" style=\"fill:none;stroke:#000000;stroke-linecap:square;stroke-linejoin:miter;stroke-width:0.8;\"/>\n   </g>\n   <g id=\"patch_40\">\n    <path d=\"M 33.2875 725.800478 \nL 525.640441 725.800478 \n\" style=\"fill:none;stroke:#000000;stroke-linecap:square;stroke-linejoin:miter;stroke-width:0.8;\"/>\n   </g>\n   <g id=\"patch_41\">\n    <path d=\"M 33.2875 406.035772 \nL 525.640441 406.035772 \n\" style=\"fill:none;stroke:#000000;stroke-linecap:square;stroke-linejoin:miter;stroke-width:0.8;\"/>\n   </g>\n   <g id=\"text_63\">\n    <!-- 40-59 Yrs Old Female Income Distribution -->\n    <g transform=\"translate(153.939283 400.035772)scale(0.12 -0.12)\">\n     <use xlink:href=\"#DejaVuSans-52\"/>\n     <use x=\"63.623047\" xlink:href=\"#DejaVuSans-48\"/>\n     <use x=\"127.246094\" xlink:href=\"#DejaVuSans-45\"/>\n     <use x=\"163.330078\" xlink:href=\"#DejaVuSans-53\"/>\n     <use x=\"226.953125\" xlink:href=\"#DejaVuSans-57\"/>\n     <use x=\"290.576172\" xlink:href=\"#DejaVuSans-32\"/>\n     <use x=\"322.363281\" xlink:href=\"#DejaVuSans-89\"/>\n     <use x=\"383.447266\" xlink:href=\"#DejaVuSans-114\"/>\n     <use x=\"424.560547\" xlink:href=\"#DejaVuSans-115\"/>\n     <use x=\"476.660156\" xlink:href=\"#DejaVuSans-32\"/>\n     <use x=\"508.447266\" xlink:href=\"#DejaVuSans-79\"/>\n     <use x=\"587.158203\" xlink:href=\"#DejaVuSans-108\"/>\n     <use x=\"614.941406\" xlink:href=\"#DejaVuSans-100\"/>\n     <use x=\"678.417969\" xlink:href=\"#DejaVuSans-32\"/>\n     <use x=\"710.205078\" xlink:href=\"#DejaVuSans-70\"/>\n     <use x=\"767.646484\" xlink:href=\"#DejaVuSans-101\"/>\n     <use x=\"829.169922\" xlink:href=\"#DejaVuSans-109\"/>\n     <use x=\"926.582031\" xlink:href=\"#DejaVuSans-97\"/>\n     <use x=\"987.861328\" xlink:href=\"#DejaVuSans-108\"/>\n     <use x=\"1015.644531\" xlink:href=\"#DejaVuSans-101\"/>\n     <use x=\"1077.167969\" xlink:href=\"#DejaVuSans-32\"/>\n     <use x=\"1108.955078\" xlink:href=\"#DejaVuSans-73\"/>\n     <use x=\"1138.447266\" xlink:href=\"#DejaVuSans-110\"/>\n     <use x=\"1201.826172\" xlink:href=\"#DejaVuSans-99\"/>\n     <use x=\"1256.806641\" xlink:href=\"#DejaVuSans-111\"/>\n     <use x=\"1317.988281\" xlink:href=\"#DejaVuSans-109\"/>\n     <use x=\"1415.400391\" xlink:href=\"#DejaVuSans-101\"/>\n     <use x=\"1476.923828\" xlink:href=\"#DejaVuSans-32\"/>\n     <use x=\"1508.710938\" xlink:href=\"#DejaVuSans-68\"/>\n     <use x=\"1585.712891\" xlink:href=\"#DejaVuSans-105\"/>\n     <use x=\"1613.496094\" xlink:href=\"#DejaVuSans-115\"/>\n     <use x=\"1665.595703\" xlink:href=\"#DejaVuSans-116\"/>\n     <use x=\"1704.804688\" xlink:href=\"#DejaVuSans-114\"/>\n     <use x=\"1745.917969\" xlink:href=\"#DejaVuSans-105\"/>\n     <use x=\"1773.701172\" xlink:href=\"#DejaVuSans-98\"/>\n     <use x=\"1837.177734\" xlink:href=\"#DejaVuSans-117\"/>\n     <use x=\"1900.556641\" xlink:href=\"#DejaVuSans-116\"/>\n     <use x=\"1939.765625\" xlink:href=\"#DejaVuSans-105\"/>\n     <use x=\"1967.548828\" xlink:href=\"#DejaVuSans-111\"/>\n     <use x=\"2028.730469\" xlink:href=\"#DejaVuSans-110\"/>\n    </g>\n   </g>\n  </g>\n  <g id=\"axes_5\">\n   <g id=\"patch_42\">\n    <path d=\"M 624.111029 725.800478 \nL 1116.463971 725.800478 \nL 1116.463971 406.035772 \nL 624.111029 406.035772 \nz\n\" style=\"fill:#ffffff;\"/>\n   </g>\n   <g id=\"patch_43\">\n    <path clip-path=\"url(#p2e9c77566d)\" d=\"M 646.490709 725.800478 \nL 736.009425 725.800478 \nL 736.009425 491.32331 \nL 646.490709 491.32331 \nz\n\" style=\"fill:#1f77b4;\"/>\n   </g>\n   <g id=\"patch_44\">\n    <path clip-path=\"url(#p2e9c77566d)\" d=\"M 736.009425 725.800478 \nL 825.528142 725.800478 \nL 825.528142 421.262663 \nL 736.009425 421.262663 \nz\n\" style=\"fill:#1f77b4;\"/>\n   </g>\n   <g id=\"patch_45\">\n    <path clip-path=\"url(#p2e9c77566d)\" d=\"M 825.528142 725.800478 \nL 915.046858 725.800478 \nL 915.046858 480.023206 \nL 825.528142 480.023206 \nz\n\" style=\"fill:#1f77b4;\"/>\n   </g>\n   <g id=\"patch_46\">\n    <path clip-path=\"url(#p2e9c77566d)\" d=\"M 915.046858 725.800478 \nL 1004.565575 725.800478 \nL 1004.565575 598.109298 \nL 915.046858 598.109298 \nz\n\" style=\"fill:#1f77b4;\"/>\n   </g>\n   <g id=\"patch_47\">\n    <path clip-path=\"url(#p2e9c77566d)\" d=\"M 1004.565575 725.800478 \nL 1094.084291 725.800478 \nL 1094.084291 689.357641 \nL 1004.565575 689.357641 \nz\n\" style=\"fill:#1f77b4;\"/>\n   </g>\n   <g id=\"matplotlib.axis_9\">\n    <g id=\"xtick_29\">\n     <g id=\"line2d_119\">\n      <path clip-path=\"url(#p2e9c77566d)\" d=\"M 696.223329 725.800478 \nL 696.223329 406.035772 \n\" style=\"fill:none;stroke:#b0b0b0;stroke-linecap:square;stroke-width:0.8;\"/>\n     </g>\n     <g id=\"line2d_120\">\n      <g>\n       <use style=\"stroke:#000000;stroke-width:0.8;\" x=\"696.223329\" xlink:href=\"#m5169d1b306\" y=\"725.800478\"/>\n      </g>\n     </g>\n     <g id=\"text_64\">\n      <!-- 40000 -->\n      <g transform=\"translate(680.317079 740.398915)scale(0.1 -0.1)\">\n       <use xlink:href=\"#DejaVuSans-52\"/>\n       <use x=\"63.623047\" xlink:href=\"#DejaVuSans-48\"/>\n       <use x=\"127.246094\" xlink:href=\"#DejaVuSans-48\"/>\n       <use x=\"190.869141\" xlink:href=\"#DejaVuSans-48\"/>\n       <use x=\"254.492188\" xlink:href=\"#DejaVuSans-48\"/>\n      </g>\n     </g>\n    </g>\n    <g id=\"xtick_30\">\n     <g id=\"line2d_121\">\n      <path clip-path=\"url(#p2e9c77566d)\" d=\"M 795.68857 725.800478 \nL 795.68857 406.035772 \n\" style=\"fill:none;stroke:#b0b0b0;stroke-linecap:square;stroke-width:0.8;\"/>\n     </g>\n     <g id=\"line2d_122\">\n      <g>\n       <use style=\"stroke:#000000;stroke-width:0.8;\" x=\"795.68857\" xlink:href=\"#m5169d1b306\" y=\"725.800478\"/>\n      </g>\n     </g>\n     <g id=\"text_65\">\n      <!-- 60000 -->\n      <g transform=\"translate(779.78232 740.398915)scale(0.1 -0.1)\">\n       <use xlink:href=\"#DejaVuSans-54\"/>\n       <use x=\"63.623047\" xlink:href=\"#DejaVuSans-48\"/>\n       <use x=\"127.246094\" xlink:href=\"#DejaVuSans-48\"/>\n       <use x=\"190.869141\" xlink:href=\"#DejaVuSans-48\"/>\n       <use x=\"254.492188\" xlink:href=\"#DejaVuSans-48\"/>\n      </g>\n     </g>\n    </g>\n    <g id=\"xtick_31\">\n     <g id=\"line2d_123\">\n      <path clip-path=\"url(#p2e9c77566d)\" d=\"M 895.15381 725.800478 \nL 895.15381 406.035772 \n\" style=\"fill:none;stroke:#b0b0b0;stroke-linecap:square;stroke-width:0.8;\"/>\n     </g>\n     <g id=\"line2d_124\">\n      <g>\n       <use style=\"stroke:#000000;stroke-width:0.8;\" x=\"895.15381\" xlink:href=\"#m5169d1b306\" y=\"725.800478\"/>\n      </g>\n     </g>\n     <g id=\"text_66\">\n      <!-- 80000 -->\n      <g transform=\"translate(879.24756 740.398915)scale(0.1 -0.1)\">\n       <use xlink:href=\"#DejaVuSans-56\"/>\n       <use x=\"63.623047\" xlink:href=\"#DejaVuSans-48\"/>\n       <use x=\"127.246094\" xlink:href=\"#DejaVuSans-48\"/>\n       <use x=\"190.869141\" xlink:href=\"#DejaVuSans-48\"/>\n       <use x=\"254.492188\" xlink:href=\"#DejaVuSans-48\"/>\n      </g>\n     </g>\n    </g>\n    <g id=\"xtick_32\">\n     <g id=\"line2d_125\">\n      <path clip-path=\"url(#p2e9c77566d)\" d=\"M 994.619051 725.800478 \nL 994.619051 406.035772 \n\" style=\"fill:none;stroke:#b0b0b0;stroke-linecap:square;stroke-width:0.8;\"/>\n     </g>\n     <g id=\"line2d_126\">\n      <g>\n       <use style=\"stroke:#000000;stroke-width:0.8;\" x=\"994.619051\" xlink:href=\"#m5169d1b306\" y=\"725.800478\"/>\n      </g>\n     </g>\n     <g id=\"text_67\">\n      <!-- 100000 -->\n      <g transform=\"translate(975.531551 740.398915)scale(0.1 -0.1)\">\n       <use xlink:href=\"#DejaVuSans-49\"/>\n       <use x=\"63.623047\" xlink:href=\"#DejaVuSans-48\"/>\n       <use x=\"127.246094\" xlink:href=\"#DejaVuSans-48\"/>\n       <use x=\"190.869141\" xlink:href=\"#DejaVuSans-48\"/>\n       <use x=\"254.492188\" xlink:href=\"#DejaVuSans-48\"/>\n       <use x=\"318.115234\" xlink:href=\"#DejaVuSans-48\"/>\n      </g>\n     </g>\n    </g>\n    <g id=\"xtick_33\">\n     <g id=\"line2d_127\">\n      <path clip-path=\"url(#p2e9c77566d)\" d=\"M 1094.084291 725.800478 \nL 1094.084291 406.035772 \n\" style=\"fill:none;stroke:#b0b0b0;stroke-linecap:square;stroke-width:0.8;\"/>\n     </g>\n     <g id=\"line2d_128\">\n      <g>\n       <use style=\"stroke:#000000;stroke-width:0.8;\" x=\"1094.084291\" xlink:href=\"#m5169d1b306\" y=\"725.800478\"/>\n      </g>\n     </g>\n     <g id=\"text_68\">\n      <!-- 120000 -->\n      <g transform=\"translate(1074.996791 740.398915)scale(0.1 -0.1)\">\n       <use xlink:href=\"#DejaVuSans-49\"/>\n       <use x=\"63.623047\" xlink:href=\"#DejaVuSans-50\"/>\n       <use x=\"127.246094\" xlink:href=\"#DejaVuSans-48\"/>\n       <use x=\"190.869141\" xlink:href=\"#DejaVuSans-48\"/>\n       <use x=\"254.492188\" xlink:href=\"#DejaVuSans-48\"/>\n       <use x=\"318.115234\" xlink:href=\"#DejaVuSans-48\"/>\n      </g>\n     </g>\n    </g>\n   </g>\n   <g id=\"matplotlib.axis_10\">\n    <g id=\"ytick_32\">\n     <g id=\"line2d_129\">\n      <path clip-path=\"url(#p2e9c77566d)\" d=\"M 624.111029 725.800478 \nL 1116.463971 725.800478 \n\" style=\"fill:none;stroke:#b0b0b0;stroke-linecap:square;stroke-width:0.8;\"/>\n     </g>\n     <g id=\"line2d_130\">\n      <g>\n       <use style=\"stroke:#000000;stroke-width:0.8;\" x=\"624.111029\" xlink:href=\"#m5cee1d8d27\" y=\"725.800478\"/>\n      </g>\n     </g>\n     <g id=\"text_69\">\n      <!-- 0 -->\n      <g transform=\"translate(610.748529 729.599697)scale(0.1 -0.1)\">\n       <use xlink:href=\"#DejaVuSans-48\"/>\n      </g>\n     </g>\n    </g>\n    <g id=\"ytick_33\">\n     <g id=\"line2d_131\">\n      <path clip-path=\"url(#p2e9c77566d)\" d=\"M 624.111029 669.299956 \nL 1116.463971 669.299956 \n\" style=\"fill:none;stroke:#b0b0b0;stroke-linecap:square;stroke-width:0.8;\"/>\n     </g>\n     <g id=\"line2d_132\">\n      <g>\n       <use style=\"stroke:#000000;stroke-width:0.8;\" x=\"624.111029\" xlink:href=\"#m5cee1d8d27\" y=\"669.299956\"/>\n      </g>\n     </g>\n     <g id=\"text_70\">\n      <!-- 200 -->\n      <g transform=\"translate(598.023529 673.099174)scale(0.1 -0.1)\">\n       <use xlink:href=\"#DejaVuSans-50\"/>\n       <use x=\"63.623047\" xlink:href=\"#DejaVuSans-48\"/>\n       <use x=\"127.246094\" xlink:href=\"#DejaVuSans-48\"/>\n      </g>\n     </g>\n    </g>\n    <g id=\"ytick_34\">\n     <g id=\"line2d_133\">\n      <path clip-path=\"url(#p2e9c77566d)\" d=\"M 624.111029 612.799433 \nL 1116.463971 612.799433 \n\" style=\"fill:none;stroke:#b0b0b0;stroke-linecap:square;stroke-width:0.8;\"/>\n     </g>\n     <g id=\"line2d_134\">\n      <g>\n       <use style=\"stroke:#000000;stroke-width:0.8;\" x=\"624.111029\" xlink:href=\"#m5cee1d8d27\" y=\"612.799433\"/>\n      </g>\n     </g>\n     <g id=\"text_71\">\n      <!-- 400 -->\n      <g transform=\"translate(598.023529 616.598652)scale(0.1 -0.1)\">\n       <use xlink:href=\"#DejaVuSans-52\"/>\n       <use x=\"63.623047\" xlink:href=\"#DejaVuSans-48\"/>\n       <use x=\"127.246094\" xlink:href=\"#DejaVuSans-48\"/>\n      </g>\n     </g>\n    </g>\n    <g id=\"ytick_35\">\n     <g id=\"line2d_135\">\n      <path clip-path=\"url(#p2e9c77566d)\" d=\"M 624.111029 556.298911 \nL 1116.463971 556.298911 \n\" style=\"fill:none;stroke:#b0b0b0;stroke-linecap:square;stroke-width:0.8;\"/>\n     </g>\n     <g id=\"line2d_136\">\n      <g>\n       <use style=\"stroke:#000000;stroke-width:0.8;\" x=\"624.111029\" xlink:href=\"#m5cee1d8d27\" y=\"556.298911\"/>\n      </g>\n     </g>\n     <g id=\"text_72\">\n      <!-- 600 -->\n      <g transform=\"translate(598.023529 560.09813)scale(0.1 -0.1)\">\n       <use xlink:href=\"#DejaVuSans-54\"/>\n       <use x=\"63.623047\" xlink:href=\"#DejaVuSans-48\"/>\n       <use x=\"127.246094\" xlink:href=\"#DejaVuSans-48\"/>\n      </g>\n     </g>\n    </g>\n    <g id=\"ytick_36\">\n     <g id=\"line2d_137\">\n      <path clip-path=\"url(#p2e9c77566d)\" d=\"M 624.111029 499.798389 \nL 1116.463971 499.798389 \n\" style=\"fill:none;stroke:#b0b0b0;stroke-linecap:square;stroke-width:0.8;\"/>\n     </g>\n     <g id=\"line2d_138\">\n      <g>\n       <use style=\"stroke:#000000;stroke-width:0.8;\" x=\"624.111029\" xlink:href=\"#m5cee1d8d27\" y=\"499.798389\"/>\n      </g>\n     </g>\n     <g id=\"text_73\">\n      <!-- 800 -->\n      <g transform=\"translate(598.023529 503.597608)scale(0.1 -0.1)\">\n       <use xlink:href=\"#DejaVuSans-56\"/>\n       <use x=\"63.623047\" xlink:href=\"#DejaVuSans-48\"/>\n       <use x=\"127.246094\" xlink:href=\"#DejaVuSans-48\"/>\n      </g>\n     </g>\n    </g>\n    <g id=\"ytick_37\">\n     <g id=\"line2d_139\">\n      <path clip-path=\"url(#p2e9c77566d)\" d=\"M 624.111029 443.297867 \nL 1116.463971 443.297867 \n\" style=\"fill:none;stroke:#b0b0b0;stroke-linecap:square;stroke-width:0.8;\"/>\n     </g>\n     <g id=\"line2d_140\">\n      <g>\n       <use style=\"stroke:#000000;stroke-width:0.8;\" x=\"624.111029\" xlink:href=\"#m5cee1d8d27\" y=\"443.297867\"/>\n      </g>\n     </g>\n     <g id=\"text_74\">\n      <!-- 1000 -->\n      <g transform=\"translate(591.661029 447.097085)scale(0.1 -0.1)\">\n       <use xlink:href=\"#DejaVuSans-49\"/>\n       <use x=\"63.623047\" xlink:href=\"#DejaVuSans-48\"/>\n       <use x=\"127.246094\" xlink:href=\"#DejaVuSans-48\"/>\n       <use x=\"190.869141\" xlink:href=\"#DejaVuSans-48\"/>\n      </g>\n     </g>\n    </g>\n   </g>\n   <g id=\"patch_48\">\n    <path d=\"M 624.111029 725.800478 \nL 624.111029 406.035772 \n\" style=\"fill:none;stroke:#000000;stroke-linecap:square;stroke-linejoin:miter;stroke-width:0.8;\"/>\n   </g>\n   <g id=\"patch_49\">\n    <path d=\"M 1116.463971 725.800478 \nL 1116.463971 406.035772 \n\" style=\"fill:none;stroke:#000000;stroke-linecap:square;stroke-linejoin:miter;stroke-width:0.8;\"/>\n   </g>\n   <g id=\"patch_50\">\n    <path d=\"M 624.111029 725.800478 \nL 1116.463971 725.800478 \n\" style=\"fill:none;stroke:#000000;stroke-linecap:square;stroke-linejoin:miter;stroke-width:0.8;\"/>\n   </g>\n   <g id=\"patch_51\">\n    <path d=\"M 624.111029 406.035772 \nL 1116.463971 406.035772 \n\" style=\"fill:none;stroke:#000000;stroke-linecap:square;stroke-linejoin:miter;stroke-width:0.8;\"/>\n   </g>\n   <g id=\"text_75\">\n    <!-- 40-59 Yrs Old Male Income Distribution -->\n    <g transform=\"translate(752.568438 400.035772)scale(0.12 -0.12)\">\n     <use xlink:href=\"#DejaVuSans-52\"/>\n     <use x=\"63.623047\" xlink:href=\"#DejaVuSans-48\"/>\n     <use x=\"127.246094\" xlink:href=\"#DejaVuSans-45\"/>\n     <use x=\"163.330078\" xlink:href=\"#DejaVuSans-53\"/>\n     <use x=\"226.953125\" xlink:href=\"#DejaVuSans-57\"/>\n     <use x=\"290.576172\" xlink:href=\"#DejaVuSans-32\"/>\n     <use x=\"322.363281\" xlink:href=\"#DejaVuSans-89\"/>\n     <use x=\"383.447266\" xlink:href=\"#DejaVuSans-114\"/>\n     <use x=\"424.560547\" xlink:href=\"#DejaVuSans-115\"/>\n     <use x=\"476.660156\" xlink:href=\"#DejaVuSans-32\"/>\n     <use x=\"508.447266\" xlink:href=\"#DejaVuSans-79\"/>\n     <use x=\"587.158203\" xlink:href=\"#DejaVuSans-108\"/>\n     <use x=\"614.941406\" xlink:href=\"#DejaVuSans-100\"/>\n     <use x=\"678.417969\" xlink:href=\"#DejaVuSans-32\"/>\n     <use x=\"710.205078\" xlink:href=\"#DejaVuSans-77\"/>\n     <use x=\"796.484375\" xlink:href=\"#DejaVuSans-97\"/>\n     <use x=\"857.763672\" xlink:href=\"#DejaVuSans-108\"/>\n     <use x=\"885.546875\" xlink:href=\"#DejaVuSans-101\"/>\n     <use x=\"947.070312\" xlink:href=\"#DejaVuSans-32\"/>\n     <use x=\"978.857422\" xlink:href=\"#DejaVuSans-73\"/>\n     <use x=\"1008.349609\" xlink:href=\"#DejaVuSans-110\"/>\n     <use x=\"1071.728516\" xlink:href=\"#DejaVuSans-99\"/>\n     <use x=\"1126.708984\" xlink:href=\"#DejaVuSans-111\"/>\n     <use x=\"1187.890625\" xlink:href=\"#DejaVuSans-109\"/>\n     <use x=\"1285.302734\" xlink:href=\"#DejaVuSans-101\"/>\n     <use x=\"1346.826172\" xlink:href=\"#DejaVuSans-32\"/>\n     <use x=\"1378.613281\" xlink:href=\"#DejaVuSans-68\"/>\n     <use x=\"1455.615234\" xlink:href=\"#DejaVuSans-105\"/>\n     <use x=\"1483.398438\" xlink:href=\"#DejaVuSans-115\"/>\n     <use x=\"1535.498047\" xlink:href=\"#DejaVuSans-116\"/>\n     <use x=\"1574.707031\" xlink:href=\"#DejaVuSans-114\"/>\n     <use x=\"1615.820312\" xlink:href=\"#DejaVuSans-105\"/>\n     <use x=\"1643.603516\" xlink:href=\"#DejaVuSans-98\"/>\n     <use x=\"1707.080078\" xlink:href=\"#DejaVuSans-117\"/>\n     <use x=\"1770.458984\" xlink:href=\"#DejaVuSans-116\"/>\n     <use x=\"1809.667969\" xlink:href=\"#DejaVuSans-105\"/>\n     <use x=\"1837.451172\" xlink:href=\"#DejaVuSans-111\"/>\n     <use x=\"1898.632812\" xlink:href=\"#DejaVuSans-110\"/>\n    </g>\n   </g>\n  </g>\n  <g id=\"axes_6\">\n   <g id=\"patch_52\">\n    <path d=\"M 1214.934559 725.800478 \nL 1707.2875 725.800478 \nL 1707.2875 406.035772 \nL 1214.934559 406.035772 \nz\n\" style=\"fill:#ffffff;\"/>\n   </g>\n   <g id=\"patch_53\">\n    <path clip-path=\"url(#pd895259d06)\" d=\"M 1237.314238 725.800478 \nL 1326.832955 725.800478 \nL 1326.832955 579.622327 \nL 1237.314238 579.622327 \nz\n\" style=\"fill:#1f77b4;\"/>\n   </g>\n   <g id=\"patch_54\">\n    <path clip-path=\"url(#pd895259d06)\" d=\"M 1326.832955 725.800478 \nL 1416.351671 725.800478 \nL 1416.351671 518.714764 \nL 1326.832955 518.714764 \nz\n\" style=\"fill:#1f77b4;\"/>\n   </g>\n   <g id=\"patch_55\">\n    <path clip-path=\"url(#pd895259d06)\" d=\"M 1416.351671 725.800478 \nL 1505.870388 725.800478 \nL 1505.870388 494.351738 \nL 1416.351671 494.351738 \nz\n\" style=\"fill:#1f77b4;\"/>\n   </g>\n   <g id=\"patch_56\">\n    <path clip-path=\"url(#pd895259d06)\" d=\"M 1505.870388 725.800478 \nL 1595.389104 725.800478 \nL 1595.389104 421.262663 \nL 1505.870388 421.262663 \nz\n\" style=\"fill:#1f77b4;\"/>\n   </g>\n   <g id=\"patch_57\">\n    <path clip-path=\"url(#pd895259d06)\" d=\"M 1595.389104 725.800478 \nL 1684.907821 725.800478 \nL 1684.907821 445.625688 \nL 1595.389104 445.625688 \nz\n\" style=\"fill:#1f77b4;\"/>\n   </g>\n   <g id=\"matplotlib.axis_11\">\n    <g id=\"xtick_34\">\n     <g id=\"line2d_141\">\n      <path clip-path=\"url(#pd895259d06)\" d=\"M 1237.314238 725.800478 \nL 1237.314238 406.035772 \n\" style=\"fill:none;stroke:#b0b0b0;stroke-linecap:square;stroke-width:0.8;\"/>\n     </g>\n     <g id=\"line2d_142\">\n      <g>\n       <use style=\"stroke:#000000;stroke-width:0.8;\" x=\"1237.314238\" xlink:href=\"#m5169d1b306\" y=\"725.800478\"/>\n      </g>\n     </g>\n     <g id=\"text_76\">\n      <!-- 30000 -->\n      <g transform=\"translate(1221.407988 740.398915)scale(0.1 -0.1)\">\n       <use xlink:href=\"#DejaVuSans-51\"/>\n       <use x=\"63.623047\" xlink:href=\"#DejaVuSans-48\"/>\n       <use x=\"127.246094\" xlink:href=\"#DejaVuSans-48\"/>\n       <use x=\"190.869141\" xlink:href=\"#DejaVuSans-48\"/>\n       <use x=\"254.492188\" xlink:href=\"#DejaVuSans-48\"/>\n      </g>\n     </g>\n    </g>\n    <g id=\"xtick_35\">\n     <g id=\"line2d_143\">\n      <path clip-path=\"url(#pd895259d06)\" d=\"M 1301.256178 725.800478 \nL 1301.256178 406.035772 \n\" style=\"fill:none;stroke:#b0b0b0;stroke-linecap:square;stroke-width:0.8;\"/>\n     </g>\n     <g id=\"line2d_144\">\n      <g>\n       <use style=\"stroke:#000000;stroke-width:0.8;\" x=\"1301.256178\" xlink:href=\"#m5169d1b306\" y=\"725.800478\"/>\n      </g>\n     </g>\n     <g id=\"text_77\">\n      <!-- 40000 -->\n      <g transform=\"translate(1285.349928 740.398915)scale(0.1 -0.1)\">\n       <use xlink:href=\"#DejaVuSans-52\"/>\n       <use x=\"63.623047\" xlink:href=\"#DejaVuSans-48\"/>\n       <use x=\"127.246094\" xlink:href=\"#DejaVuSans-48\"/>\n       <use x=\"190.869141\" xlink:href=\"#DejaVuSans-48\"/>\n       <use x=\"254.492188\" xlink:href=\"#DejaVuSans-48\"/>\n      </g>\n     </g>\n    </g>\n    <g id=\"xtick_36\">\n     <g id=\"line2d_145\">\n      <path clip-path=\"url(#pd895259d06)\" d=\"M 1365.198119 725.800478 \nL 1365.198119 406.035772 \n\" style=\"fill:none;stroke:#b0b0b0;stroke-linecap:square;stroke-width:0.8;\"/>\n     </g>\n     <g id=\"line2d_146\">\n      <g>\n       <use style=\"stroke:#000000;stroke-width:0.8;\" x=\"1365.198119\" xlink:href=\"#m5169d1b306\" y=\"725.800478\"/>\n      </g>\n     </g>\n     <g id=\"text_78\">\n      <!-- 50000 -->\n      <g transform=\"translate(1349.291869 740.398915)scale(0.1 -0.1)\">\n       <use xlink:href=\"#DejaVuSans-53\"/>\n       <use x=\"63.623047\" xlink:href=\"#DejaVuSans-48\"/>\n       <use x=\"127.246094\" xlink:href=\"#DejaVuSans-48\"/>\n       <use x=\"190.869141\" xlink:href=\"#DejaVuSans-48\"/>\n       <use x=\"254.492188\" xlink:href=\"#DejaVuSans-48\"/>\n      </g>\n     </g>\n    </g>\n    <g id=\"xtick_37\">\n     <g id=\"line2d_147\">\n      <path clip-path=\"url(#pd895259d06)\" d=\"M 1429.140059 725.800478 \nL 1429.140059 406.035772 \n\" style=\"fill:none;stroke:#b0b0b0;stroke-linecap:square;stroke-width:0.8;\"/>\n     </g>\n     <g id=\"line2d_148\">\n      <g>\n       <use style=\"stroke:#000000;stroke-width:0.8;\" x=\"1429.140059\" xlink:href=\"#m5169d1b306\" y=\"725.800478\"/>\n      </g>\n     </g>\n     <g id=\"text_79\">\n      <!-- 60000 -->\n      <g transform=\"translate(1413.233809 740.398915)scale(0.1 -0.1)\">\n       <use xlink:href=\"#DejaVuSans-54\"/>\n       <use x=\"63.623047\" xlink:href=\"#DejaVuSans-48\"/>\n       <use x=\"127.246094\" xlink:href=\"#DejaVuSans-48\"/>\n       <use x=\"190.869141\" xlink:href=\"#DejaVuSans-48\"/>\n       <use x=\"254.492188\" xlink:href=\"#DejaVuSans-48\"/>\n      </g>\n     </g>\n    </g>\n    <g id=\"xtick_38\">\n     <g id=\"line2d_149\">\n      <path clip-path=\"url(#pd895259d06)\" d=\"M 1493.082 725.800478 \nL 1493.082 406.035772 \n\" style=\"fill:none;stroke:#b0b0b0;stroke-linecap:square;stroke-width:0.8;\"/>\n     </g>\n     <g id=\"line2d_150\">\n      <g>\n       <use style=\"stroke:#000000;stroke-width:0.8;\" x=\"1493.082\" xlink:href=\"#m5169d1b306\" y=\"725.800478\"/>\n      </g>\n     </g>\n     <g id=\"text_80\">\n      <!-- 70000 -->\n      <g transform=\"translate(1477.17575 740.398915)scale(0.1 -0.1)\">\n       <use xlink:href=\"#DejaVuSans-55\"/>\n       <use x=\"63.623047\" xlink:href=\"#DejaVuSans-48\"/>\n       <use x=\"127.246094\" xlink:href=\"#DejaVuSans-48\"/>\n       <use x=\"190.869141\" xlink:href=\"#DejaVuSans-48\"/>\n       <use x=\"254.492188\" xlink:href=\"#DejaVuSans-48\"/>\n      </g>\n     </g>\n    </g>\n    <g id=\"xtick_39\">\n     <g id=\"line2d_151\">\n      <path clip-path=\"url(#pd895259d06)\" d=\"M 1557.02394 725.800478 \nL 1557.02394 406.035772 \n\" style=\"fill:none;stroke:#b0b0b0;stroke-linecap:square;stroke-width:0.8;\"/>\n     </g>\n     <g id=\"line2d_152\">\n      <g>\n       <use style=\"stroke:#000000;stroke-width:0.8;\" x=\"1557.02394\" xlink:href=\"#m5169d1b306\" y=\"725.800478\"/>\n      </g>\n     </g>\n     <g id=\"text_81\">\n      <!-- 80000 -->\n      <g transform=\"translate(1541.11769 740.398915)scale(0.1 -0.1)\">\n       <use xlink:href=\"#DejaVuSans-56\"/>\n       <use x=\"63.623047\" xlink:href=\"#DejaVuSans-48\"/>\n       <use x=\"127.246094\" xlink:href=\"#DejaVuSans-48\"/>\n       <use x=\"190.869141\" xlink:href=\"#DejaVuSans-48\"/>\n       <use x=\"254.492188\" xlink:href=\"#DejaVuSans-48\"/>\n      </g>\n     </g>\n    </g>\n    <g id=\"xtick_40\">\n     <g id=\"line2d_153\">\n      <path clip-path=\"url(#pd895259d06)\" d=\"M 1620.96588 725.800478 \nL 1620.96588 406.035772 \n\" style=\"fill:none;stroke:#b0b0b0;stroke-linecap:square;stroke-width:0.8;\"/>\n     </g>\n     <g id=\"line2d_154\">\n      <g>\n       <use style=\"stroke:#000000;stroke-width:0.8;\" x=\"1620.96588\" xlink:href=\"#m5169d1b306\" y=\"725.800478\"/>\n      </g>\n     </g>\n     <g id=\"text_82\">\n      <!-- 90000 -->\n      <g transform=\"translate(1605.05963 740.398915)scale(0.1 -0.1)\">\n       <use xlink:href=\"#DejaVuSans-57\"/>\n       <use x=\"63.623047\" xlink:href=\"#DejaVuSans-48\"/>\n       <use x=\"127.246094\" xlink:href=\"#DejaVuSans-48\"/>\n       <use x=\"190.869141\" xlink:href=\"#DejaVuSans-48\"/>\n       <use x=\"254.492188\" xlink:href=\"#DejaVuSans-48\"/>\n      </g>\n     </g>\n    </g>\n    <g id=\"xtick_41\">\n     <g id=\"line2d_155\">\n      <path clip-path=\"url(#pd895259d06)\" d=\"M 1684.907821 725.800478 \nL 1684.907821 406.035772 \n\" style=\"fill:none;stroke:#b0b0b0;stroke-linecap:square;stroke-width:0.8;\"/>\n     </g>\n     <g id=\"line2d_156\">\n      <g>\n       <use style=\"stroke:#000000;stroke-width:0.8;\" x=\"1684.907821\" xlink:href=\"#m5169d1b306\" y=\"725.800478\"/>\n      </g>\n     </g>\n     <g id=\"text_83\">\n      <!-- 100000 -->\n      <g transform=\"translate(1665.820321 740.398915)scale(0.1 -0.1)\">\n       <use xlink:href=\"#DejaVuSans-49\"/>\n       <use x=\"63.623047\" xlink:href=\"#DejaVuSans-48\"/>\n       <use x=\"127.246094\" xlink:href=\"#DejaVuSans-48\"/>\n       <use x=\"190.869141\" xlink:href=\"#DejaVuSans-48\"/>\n       <use x=\"254.492188\" xlink:href=\"#DejaVuSans-48\"/>\n       <use x=\"318.115234\" xlink:href=\"#DejaVuSans-48\"/>\n      </g>\n     </g>\n    </g>\n   </g>\n   <g id=\"matplotlib.axis_12\">\n    <g id=\"ytick_38\">\n     <g id=\"line2d_157\">\n      <path clip-path=\"url(#pd895259d06)\" d=\"M 1214.934559 725.800478 \nL 1707.2875 725.800478 \n\" style=\"fill:none;stroke:#b0b0b0;stroke-linecap:square;stroke-width:0.8;\"/>\n     </g>\n     <g id=\"line2d_158\">\n      <g>\n       <use style=\"stroke:#000000;stroke-width:0.8;\" x=\"1214.934559\" xlink:href=\"#m5cee1d8d27\" y=\"725.800478\"/>\n      </g>\n     </g>\n     <g id=\"text_84\">\n      <!-- 0 -->\n      <g transform=\"translate(1201.572059 729.599697)scale(0.1 -0.1)\">\n       <use xlink:href=\"#DejaVuSans-48\"/>\n      </g>\n     </g>\n    </g>\n    <g id=\"ytick_39\">\n     <g id=\"line2d_159\">\n      <path clip-path=\"url(#pd895259d06)\" d=\"M 1214.934559 664.892915 \nL 1707.2875 664.892915 \n\" style=\"fill:none;stroke:#b0b0b0;stroke-linecap:square;stroke-width:0.8;\"/>\n     </g>\n     <g id=\"line2d_160\">\n      <g>\n       <use style=\"stroke:#000000;stroke-width:0.8;\" x=\"1214.934559\" xlink:href=\"#m5cee1d8d27\" y=\"664.892915\"/>\n      </g>\n     </g>\n     <g id=\"text_85\">\n      <!-- 5 -->\n      <g transform=\"translate(1201.572059 668.692134)scale(0.1 -0.1)\">\n       <use xlink:href=\"#DejaVuSans-53\"/>\n      </g>\n     </g>\n    </g>\n    <g id=\"ytick_40\">\n     <g id=\"line2d_161\">\n      <path clip-path=\"url(#pd895259d06)\" d=\"M 1214.934559 603.985352 \nL 1707.2875 603.985352 \n\" style=\"fill:none;stroke:#b0b0b0;stroke-linecap:square;stroke-width:0.8;\"/>\n     </g>\n     <g id=\"line2d_162\">\n      <g>\n       <use style=\"stroke:#000000;stroke-width:0.8;\" x=\"1214.934559\" xlink:href=\"#m5cee1d8d27\" y=\"603.985352\"/>\n      </g>\n     </g>\n     <g id=\"text_86\">\n      <!-- 10 -->\n      <g transform=\"translate(1195.209559 607.784571)scale(0.1 -0.1)\">\n       <use xlink:href=\"#DejaVuSans-49\"/>\n       <use x=\"63.623047\" xlink:href=\"#DejaVuSans-48\"/>\n      </g>\n     </g>\n    </g>\n    <g id=\"ytick_41\">\n     <g id=\"line2d_163\">\n      <path clip-path=\"url(#pd895259d06)\" d=\"M 1214.934559 543.077789 \nL 1707.2875 543.077789 \n\" style=\"fill:none;stroke:#b0b0b0;stroke-linecap:square;stroke-width:0.8;\"/>\n     </g>\n     <g id=\"line2d_164\">\n      <g>\n       <use style=\"stroke:#000000;stroke-width:0.8;\" x=\"1214.934559\" xlink:href=\"#m5cee1d8d27\" y=\"543.077789\"/>\n      </g>\n     </g>\n     <g id=\"text_87\">\n      <!-- 15 -->\n      <g transform=\"translate(1195.209559 546.877008)scale(0.1 -0.1)\">\n       <use xlink:href=\"#DejaVuSans-49\"/>\n       <use x=\"63.623047\" xlink:href=\"#DejaVuSans-53\"/>\n      </g>\n     </g>\n    </g>\n    <g id=\"ytick_42\">\n     <g id=\"line2d_165\">\n      <path clip-path=\"url(#pd895259d06)\" d=\"M 1214.934559 482.170226 \nL 1707.2875 482.170226 \n\" style=\"fill:none;stroke:#b0b0b0;stroke-linecap:square;stroke-width:0.8;\"/>\n     </g>\n     <g id=\"line2d_166\">\n      <g>\n       <use style=\"stroke:#000000;stroke-width:0.8;\" x=\"1214.934559\" xlink:href=\"#m5cee1d8d27\" y=\"482.170226\"/>\n      </g>\n     </g>\n     <g id=\"text_88\">\n      <!-- 20 -->\n      <g transform=\"translate(1195.209559 485.969445)scale(0.1 -0.1)\">\n       <use xlink:href=\"#DejaVuSans-50\"/>\n       <use x=\"63.623047\" xlink:href=\"#DejaVuSans-48\"/>\n      </g>\n     </g>\n    </g>\n    <g id=\"ytick_43\">\n     <g id=\"line2d_167\">\n      <path clip-path=\"url(#pd895259d06)\" d=\"M 1214.934559 421.262663 \nL 1707.2875 421.262663 \n\" style=\"fill:none;stroke:#b0b0b0;stroke-linecap:square;stroke-width:0.8;\"/>\n     </g>\n     <g id=\"line2d_168\">\n      <g>\n       <use style=\"stroke:#000000;stroke-width:0.8;\" x=\"1214.934559\" xlink:href=\"#m5cee1d8d27\" y=\"421.262663\"/>\n      </g>\n     </g>\n     <g id=\"text_89\">\n      <!-- 25 -->\n      <g transform=\"translate(1195.209559 425.061882)scale(0.1 -0.1)\">\n       <use xlink:href=\"#DejaVuSans-50\"/>\n       <use x=\"63.623047\" xlink:href=\"#DejaVuSans-53\"/>\n      </g>\n     </g>\n    </g>\n   </g>\n   <g id=\"patch_58\">\n    <path d=\"M 1214.934559 725.800478 \nL 1214.934559 406.035772 \n\" style=\"fill:none;stroke:#000000;stroke-linecap:square;stroke-linejoin:miter;stroke-width:0.8;\"/>\n   </g>\n   <g id=\"patch_59\">\n    <path d=\"M 1707.2875 725.800478 \nL 1707.2875 406.035772 \n\" style=\"fill:none;stroke:#000000;stroke-linecap:square;stroke-linejoin:miter;stroke-width:0.8;\"/>\n   </g>\n   <g id=\"patch_60\">\n    <path d=\"M 1214.934559 725.800478 \nL 1707.2875 725.800478 \n\" style=\"fill:none;stroke:#000000;stroke-linecap:square;stroke-linejoin:miter;stroke-width:0.8;\"/>\n   </g>\n   <g id=\"patch_61\">\n    <path d=\"M 1214.934559 406.035772 \nL 1707.2875 406.035772 \n\" style=\"fill:none;stroke:#000000;stroke-linecap:square;stroke-linejoin:miter;stroke-width:0.8;\"/>\n   </g>\n   <g id=\"text_90\">\n    <!-- 40-59 Yrs Old Other Income Distribution -->\n    <g transform=\"translate(1340.568217 400.035772)scale(0.12 -0.12)\">\n     <use xlink:href=\"#DejaVuSans-52\"/>\n     <use x=\"63.623047\" xlink:href=\"#DejaVuSans-48\"/>\n     <use x=\"127.246094\" xlink:href=\"#DejaVuSans-45\"/>\n     <use x=\"163.330078\" xlink:href=\"#DejaVuSans-53\"/>\n     <use x=\"226.953125\" xlink:href=\"#DejaVuSans-57\"/>\n     <use x=\"290.576172\" xlink:href=\"#DejaVuSans-32\"/>\n     <use x=\"322.363281\" xlink:href=\"#DejaVuSans-89\"/>\n     <use x=\"383.447266\" xlink:href=\"#DejaVuSans-114\"/>\n     <use x=\"424.560547\" xlink:href=\"#DejaVuSans-115\"/>\n     <use x=\"476.660156\" xlink:href=\"#DejaVuSans-32\"/>\n     <use x=\"508.447266\" xlink:href=\"#DejaVuSans-79\"/>\n     <use x=\"587.158203\" xlink:href=\"#DejaVuSans-108\"/>\n     <use x=\"614.941406\" xlink:href=\"#DejaVuSans-100\"/>\n     <use x=\"678.417969\" xlink:href=\"#DejaVuSans-32\"/>\n     <use x=\"710.205078\" xlink:href=\"#DejaVuSans-79\"/>\n     <use x=\"788.916016\" xlink:href=\"#DejaVuSans-116\"/>\n     <use x=\"828.125\" xlink:href=\"#DejaVuSans-104\"/>\n     <use x=\"891.503906\" xlink:href=\"#DejaVuSans-101\"/>\n     <use x=\"953.027344\" xlink:href=\"#DejaVuSans-114\"/>\n     <use x=\"994.140625\" xlink:href=\"#DejaVuSans-32\"/>\n     <use x=\"1025.927734\" xlink:href=\"#DejaVuSans-73\"/>\n     <use x=\"1055.419922\" xlink:href=\"#DejaVuSans-110\"/>\n     <use x=\"1118.798828\" xlink:href=\"#DejaVuSans-99\"/>\n     <use x=\"1173.779297\" xlink:href=\"#DejaVuSans-111\"/>\n     <use x=\"1234.960938\" xlink:href=\"#DejaVuSans-109\"/>\n     <use x=\"1332.373047\" xlink:href=\"#DejaVuSans-101\"/>\n     <use x=\"1393.896484\" xlink:href=\"#DejaVuSans-32\"/>\n     <use x=\"1425.683594\" xlink:href=\"#DejaVuSans-68\"/>\n     <use x=\"1502.685547\" xlink:href=\"#DejaVuSans-105\"/>\n     <use x=\"1530.46875\" xlink:href=\"#DejaVuSans-115\"/>\n     <use x=\"1582.568359\" xlink:href=\"#DejaVuSans-116\"/>\n     <use x=\"1621.777344\" xlink:href=\"#DejaVuSans-114\"/>\n     <use x=\"1662.890625\" xlink:href=\"#DejaVuSans-105\"/>\n     <use x=\"1690.673828\" xlink:href=\"#DejaVuSans-98\"/>\n     <use x=\"1754.150391\" xlink:href=\"#DejaVuSans-117\"/>\n     <use x=\"1817.529297\" xlink:href=\"#DejaVuSans-116\"/>\n     <use x=\"1856.738281\" xlink:href=\"#DejaVuSans-105\"/>\n     <use x=\"1884.521484\" xlink:href=\"#DejaVuSans-111\"/>\n     <use x=\"1945.703125\" xlink:href=\"#DejaVuSans-110\"/>\n    </g>\n   </g>\n  </g>\n  <g id=\"axes_7\">\n   <g id=\"patch_62\">\n    <path d=\"M 33.2875 1109.518125 \nL 525.640441 1109.518125 \nL 525.640441 789.753419 \nL 33.2875 789.753419 \nz\n\" style=\"fill:#ffffff;\"/>\n   </g>\n   <g id=\"patch_63\">\n    <path clip-path=\"url(#pff0d2da0ff)\" d=\"M 55.667179 1109.518125 \nL 145.185896 1109.518125 \nL 145.185896 989.30583 \nL 55.667179 989.30583 \nz\n\" style=\"fill:#1f77b4;\"/>\n   </g>\n   <g id=\"patch_64\">\n    <path clip-path=\"url(#pff0d2da0ff)\" d=\"M 145.185896 1109.518125 \nL 234.704612 1109.518125 \nL 234.704612 900.057307 \nL 145.185896 900.057307 \nz\n\" style=\"fill:#1f77b4;\"/>\n   </g>\n   <g id=\"patch_65\">\n    <path clip-path=\"url(#pff0d2da0ff)\" d=\"M 234.704612 1109.518125 \nL 324.223329 1109.518125 \nL 324.223329 804.98031 \nL 234.704612 804.98031 \nz\n\" style=\"fill:#1f77b4;\"/>\n   </g>\n   <g id=\"patch_66\">\n    <path clip-path=\"url(#pff0d2da0ff)\" d=\"M 324.223329 1109.518125 \nL 413.742045 1109.518125 \nL 413.742045 869.457814 \nL 324.223329 869.457814 \nz\n\" style=\"fill:#1f77b4;\"/>\n   </g>\n   <g id=\"patch_67\">\n    <path clip-path=\"url(#pff0d2da0ff)\" d=\"M 413.742045 1109.518125 \nL 503.260762 1109.518125 \nL 503.260762 963.441972 \nL 413.742045 963.441972 \nz\n\" style=\"fill:#1f77b4;\"/>\n   </g>\n   <g id=\"matplotlib.axis_13\">\n    <g id=\"xtick_42\">\n     <g id=\"line2d_169\">\n      <path clip-path=\"url(#pff0d2da0ff)\" d=\"M 105.399799 1109.518125 \nL 105.399799 789.753419 \n\" style=\"fill:none;stroke:#b0b0b0;stroke-linecap:square;stroke-width:0.8;\"/>\n     </g>\n     <g id=\"line2d_170\">\n      <g>\n       <use style=\"stroke:#000000;stroke-width:0.8;\" x=\"105.399799\" xlink:href=\"#m5169d1b306\" y=\"1109.518125\"/>\n      </g>\n     </g>\n     <g id=\"text_91\">\n      <!-- 40000 -->\n      <g transform=\"translate(89.493549 1124.116563)scale(0.1 -0.1)\">\n       <use xlink:href=\"#DejaVuSans-52\"/>\n       <use x=\"63.623047\" xlink:href=\"#DejaVuSans-48\"/>\n       <use x=\"127.246094\" xlink:href=\"#DejaVuSans-48\"/>\n       <use x=\"190.869141\" xlink:href=\"#DejaVuSans-48\"/>\n       <use x=\"254.492188\" xlink:href=\"#DejaVuSans-48\"/>\n      </g>\n     </g>\n    </g>\n    <g id=\"xtick_43\">\n     <g id=\"line2d_171\">\n      <path clip-path=\"url(#pff0d2da0ff)\" d=\"M 204.86504 1109.518125 \nL 204.86504 789.753419 \n\" style=\"fill:none;stroke:#b0b0b0;stroke-linecap:square;stroke-width:0.8;\"/>\n     </g>\n     <g id=\"line2d_172\">\n      <g>\n       <use style=\"stroke:#000000;stroke-width:0.8;\" x=\"204.86504\" xlink:href=\"#m5169d1b306\" y=\"1109.518125\"/>\n      </g>\n     </g>\n     <g id=\"text_92\">\n      <!-- 60000 -->\n      <g transform=\"translate(188.95879 1124.116563)scale(0.1 -0.1)\">\n       <use xlink:href=\"#DejaVuSans-54\"/>\n       <use x=\"63.623047\" xlink:href=\"#DejaVuSans-48\"/>\n       <use x=\"127.246094\" xlink:href=\"#DejaVuSans-48\"/>\n       <use x=\"190.869141\" xlink:href=\"#DejaVuSans-48\"/>\n       <use x=\"254.492188\" xlink:href=\"#DejaVuSans-48\"/>\n      </g>\n     </g>\n    </g>\n    <g id=\"xtick_44\">\n     <g id=\"line2d_173\">\n      <path clip-path=\"url(#pff0d2da0ff)\" d=\"M 304.330281 1109.518125 \nL 304.330281 789.753419 \n\" style=\"fill:none;stroke:#b0b0b0;stroke-linecap:square;stroke-width:0.8;\"/>\n     </g>\n     <g id=\"line2d_174\">\n      <g>\n       <use style=\"stroke:#000000;stroke-width:0.8;\" x=\"304.330281\" xlink:href=\"#m5169d1b306\" y=\"1109.518125\"/>\n      </g>\n     </g>\n     <g id=\"text_93\">\n      <!-- 80000 -->\n      <g transform=\"translate(288.424031 1124.116563)scale(0.1 -0.1)\">\n       <use xlink:href=\"#DejaVuSans-56\"/>\n       <use x=\"63.623047\" xlink:href=\"#DejaVuSans-48\"/>\n       <use x=\"127.246094\" xlink:href=\"#DejaVuSans-48\"/>\n       <use x=\"190.869141\" xlink:href=\"#DejaVuSans-48\"/>\n       <use x=\"254.492188\" xlink:href=\"#DejaVuSans-48\"/>\n      </g>\n     </g>\n    </g>\n    <g id=\"xtick_45\">\n     <g id=\"line2d_175\">\n      <path clip-path=\"url(#pff0d2da0ff)\" d=\"M 403.795521 1109.518125 \nL 403.795521 789.753419 \n\" style=\"fill:none;stroke:#b0b0b0;stroke-linecap:square;stroke-width:0.8;\"/>\n     </g>\n     <g id=\"line2d_176\">\n      <g>\n       <use style=\"stroke:#000000;stroke-width:0.8;\" x=\"403.795521\" xlink:href=\"#m5169d1b306\" y=\"1109.518125\"/>\n      </g>\n     </g>\n     <g id=\"text_94\">\n      <!-- 100000 -->\n      <g transform=\"translate(384.708021 1124.116563)scale(0.1 -0.1)\">\n       <use xlink:href=\"#DejaVuSans-49\"/>\n       <use x=\"63.623047\" xlink:href=\"#DejaVuSans-48\"/>\n       <use x=\"127.246094\" xlink:href=\"#DejaVuSans-48\"/>\n       <use x=\"190.869141\" xlink:href=\"#DejaVuSans-48\"/>\n       <use x=\"254.492188\" xlink:href=\"#DejaVuSans-48\"/>\n       <use x=\"318.115234\" xlink:href=\"#DejaVuSans-48\"/>\n      </g>\n     </g>\n    </g>\n    <g id=\"xtick_46\">\n     <g id=\"line2d_177\">\n      <path clip-path=\"url(#pff0d2da0ff)\" d=\"M 503.260762 1109.518125 \nL 503.260762 789.753419 \n\" style=\"fill:none;stroke:#b0b0b0;stroke-linecap:square;stroke-width:0.8;\"/>\n     </g>\n     <g id=\"line2d_178\">\n      <g>\n       <use style=\"stroke:#000000;stroke-width:0.8;\" x=\"503.260762\" xlink:href=\"#m5169d1b306\" y=\"1109.518125\"/>\n      </g>\n     </g>\n     <g id=\"text_95\">\n      <!-- 120000 -->\n      <g transform=\"translate(484.173262 1124.116563)scale(0.1 -0.1)\">\n       <use xlink:href=\"#DejaVuSans-49\"/>\n       <use x=\"63.623047\" xlink:href=\"#DejaVuSans-50\"/>\n       <use x=\"127.246094\" xlink:href=\"#DejaVuSans-48\"/>\n       <use x=\"190.869141\" xlink:href=\"#DejaVuSans-48\"/>\n       <use x=\"254.492188\" xlink:href=\"#DejaVuSans-48\"/>\n       <use x=\"318.115234\" xlink:href=\"#DejaVuSans-48\"/>\n      </g>\n     </g>\n    </g>\n   </g>\n   <g id=\"matplotlib.axis_14\">\n    <g id=\"ytick_44\">\n     <g id=\"line2d_179\">\n      <path clip-path=\"url(#pff0d2da0ff)\" d=\"M 33.2875 1109.518125 \nL 525.640441 1109.518125 \n\" style=\"fill:none;stroke:#b0b0b0;stroke-linecap:square;stroke-width:0.8;\"/>\n     </g>\n     <g id=\"line2d_180\">\n      <g>\n       <use style=\"stroke:#000000;stroke-width:0.8;\" x=\"33.2875\" xlink:href=\"#m5cee1d8d27\" y=\"1109.518125\"/>\n      </g>\n     </g>\n     <g id=\"text_96\">\n      <!-- 0 -->\n      <g transform=\"translate(19.925 1113.317344)scale(0.1 -0.1)\">\n       <use xlink:href=\"#DejaVuSans-48\"/>\n      </g>\n     </g>\n    </g>\n    <g id=\"ytick_45\">\n     <g id=\"line2d_181\">\n      <path clip-path=\"url(#pff0d2da0ff)\" d=\"M 33.2875 1073.090157 \nL 525.640441 1073.090157 \n\" style=\"fill:none;stroke:#b0b0b0;stroke-linecap:square;stroke-width:0.8;\"/>\n     </g>\n     <g id=\"line2d_182\">\n      <g>\n       <use style=\"stroke:#000000;stroke-width:0.8;\" x=\"33.2875\" xlink:href=\"#m5cee1d8d27\" y=\"1073.090157\"/>\n      </g>\n     </g>\n     <g id=\"text_97\">\n      <!-- 100 -->\n      <g transform=\"translate(7.2 1076.889375)scale(0.1 -0.1)\">\n       <use xlink:href=\"#DejaVuSans-49\"/>\n       <use x=\"63.623047\" xlink:href=\"#DejaVuSans-48\"/>\n       <use x=\"127.246094\" xlink:href=\"#DejaVuSans-48\"/>\n      </g>\n     </g>\n    </g>\n    <g id=\"ytick_46\">\n     <g id=\"line2d_183\">\n      <path clip-path=\"url(#pff0d2da0ff)\" d=\"M 33.2875 1036.662188 \nL 525.640441 1036.662188 \n\" style=\"fill:none;stroke:#b0b0b0;stroke-linecap:square;stroke-width:0.8;\"/>\n     </g>\n     <g id=\"line2d_184\">\n      <g>\n       <use style=\"stroke:#000000;stroke-width:0.8;\" x=\"33.2875\" xlink:href=\"#m5cee1d8d27\" y=\"1036.662188\"/>\n      </g>\n     </g>\n     <g id=\"text_98\">\n      <!-- 200 -->\n      <g transform=\"translate(7.2 1040.461407)scale(0.1 -0.1)\">\n       <use xlink:href=\"#DejaVuSans-50\"/>\n       <use x=\"63.623047\" xlink:href=\"#DejaVuSans-48\"/>\n       <use x=\"127.246094\" xlink:href=\"#DejaVuSans-48\"/>\n      </g>\n     </g>\n    </g>\n    <g id=\"ytick_47\">\n     <g id=\"line2d_185\">\n      <path clip-path=\"url(#pff0d2da0ff)\" d=\"M 33.2875 1000.23422 \nL 525.640441 1000.23422 \n\" style=\"fill:none;stroke:#b0b0b0;stroke-linecap:square;stroke-width:0.8;\"/>\n     </g>\n     <g id=\"line2d_186\">\n      <g>\n       <use style=\"stroke:#000000;stroke-width:0.8;\" x=\"33.2875\" xlink:href=\"#m5cee1d8d27\" y=\"1000.23422\"/>\n      </g>\n     </g>\n     <g id=\"text_99\">\n      <!-- 300 -->\n      <g transform=\"translate(7.2 1004.033439)scale(0.1 -0.1)\">\n       <use xlink:href=\"#DejaVuSans-51\"/>\n       <use x=\"63.623047\" xlink:href=\"#DejaVuSans-48\"/>\n       <use x=\"127.246094\" xlink:href=\"#DejaVuSans-48\"/>\n      </g>\n     </g>\n    </g>\n    <g id=\"ytick_48\">\n     <g id=\"line2d_187\">\n      <path clip-path=\"url(#pff0d2da0ff)\" d=\"M 33.2875 963.806252 \nL 525.640441 963.806252 \n\" style=\"fill:none;stroke:#b0b0b0;stroke-linecap:square;stroke-width:0.8;\"/>\n     </g>\n     <g id=\"line2d_188\">\n      <g>\n       <use style=\"stroke:#000000;stroke-width:0.8;\" x=\"33.2875\" xlink:href=\"#m5cee1d8d27\" y=\"963.806252\"/>\n      </g>\n     </g>\n     <g id=\"text_100\">\n      <!-- 400 -->\n      <g transform=\"translate(7.2 967.60547)scale(0.1 -0.1)\">\n       <use xlink:href=\"#DejaVuSans-52\"/>\n       <use x=\"63.623047\" xlink:href=\"#DejaVuSans-48\"/>\n       <use x=\"127.246094\" xlink:href=\"#DejaVuSans-48\"/>\n      </g>\n     </g>\n    </g>\n    <g id=\"ytick_49\">\n     <g id=\"line2d_189\">\n      <path clip-path=\"url(#pff0d2da0ff)\" d=\"M 33.2875 927.378283 \nL 525.640441 927.378283 \n\" style=\"fill:none;stroke:#b0b0b0;stroke-linecap:square;stroke-width:0.8;\"/>\n     </g>\n     <g id=\"line2d_190\">\n      <g>\n       <use style=\"stroke:#000000;stroke-width:0.8;\" x=\"33.2875\" xlink:href=\"#m5cee1d8d27\" y=\"927.378283\"/>\n      </g>\n     </g>\n     <g id=\"text_101\">\n      <!-- 500 -->\n      <g transform=\"translate(7.2 931.177502)scale(0.1 -0.1)\">\n       <use xlink:href=\"#DejaVuSans-53\"/>\n       <use x=\"63.623047\" xlink:href=\"#DejaVuSans-48\"/>\n       <use x=\"127.246094\" xlink:href=\"#DejaVuSans-48\"/>\n      </g>\n     </g>\n    </g>\n    <g id=\"ytick_50\">\n     <g id=\"line2d_191\">\n      <path clip-path=\"url(#pff0d2da0ff)\" d=\"M 33.2875 890.950315 \nL 525.640441 890.950315 \n\" style=\"fill:none;stroke:#b0b0b0;stroke-linecap:square;stroke-width:0.8;\"/>\n     </g>\n     <g id=\"line2d_192\">\n      <g>\n       <use style=\"stroke:#000000;stroke-width:0.8;\" x=\"33.2875\" xlink:href=\"#m5cee1d8d27\" y=\"890.950315\"/>\n      </g>\n     </g>\n     <g id=\"text_102\">\n      <!-- 600 -->\n      <g transform=\"translate(7.2 894.749534)scale(0.1 -0.1)\">\n       <use xlink:href=\"#DejaVuSans-54\"/>\n       <use x=\"63.623047\" xlink:href=\"#DejaVuSans-48\"/>\n       <use x=\"127.246094\" xlink:href=\"#DejaVuSans-48\"/>\n      </g>\n     </g>\n    </g>\n    <g id=\"ytick_51\">\n     <g id=\"line2d_193\">\n      <path clip-path=\"url(#pff0d2da0ff)\" d=\"M 33.2875 854.522347 \nL 525.640441 854.522347 \n\" style=\"fill:none;stroke:#b0b0b0;stroke-linecap:square;stroke-width:0.8;\"/>\n     </g>\n     <g id=\"line2d_194\">\n      <g>\n       <use style=\"stroke:#000000;stroke-width:0.8;\" x=\"33.2875\" xlink:href=\"#m5cee1d8d27\" y=\"854.522347\"/>\n      </g>\n     </g>\n     <g id=\"text_103\">\n      <!-- 700 -->\n      <g transform=\"translate(7.2 858.321566)scale(0.1 -0.1)\">\n       <use xlink:href=\"#DejaVuSans-55\"/>\n       <use x=\"63.623047\" xlink:href=\"#DejaVuSans-48\"/>\n       <use x=\"127.246094\" xlink:href=\"#DejaVuSans-48\"/>\n      </g>\n     </g>\n    </g>\n    <g id=\"ytick_52\">\n     <g id=\"line2d_195\">\n      <path clip-path=\"url(#pff0d2da0ff)\" d=\"M 33.2875 818.094378 \nL 525.640441 818.094378 \n\" style=\"fill:none;stroke:#b0b0b0;stroke-linecap:square;stroke-width:0.8;\"/>\n     </g>\n     <g id=\"line2d_196\">\n      <g>\n       <use style=\"stroke:#000000;stroke-width:0.8;\" x=\"33.2875\" xlink:href=\"#m5cee1d8d27\" y=\"818.094378\"/>\n      </g>\n     </g>\n     <g id=\"text_104\">\n      <!-- 800 -->\n      <g transform=\"translate(7.2 821.893597)scale(0.1 -0.1)\">\n       <use xlink:href=\"#DejaVuSans-56\"/>\n       <use x=\"63.623047\" xlink:href=\"#DejaVuSans-48\"/>\n       <use x=\"127.246094\" xlink:href=\"#DejaVuSans-48\"/>\n      </g>\n     </g>\n    </g>\n   </g>\n   <g id=\"patch_68\">\n    <path d=\"M 33.2875 1109.518125 \nL 33.2875 789.753419 \n\" style=\"fill:none;stroke:#000000;stroke-linecap:square;stroke-linejoin:miter;stroke-width:0.8;\"/>\n   </g>\n   <g id=\"patch_69\">\n    <path d=\"M 525.640441 1109.518125 \nL 525.640441 789.753419 \n\" style=\"fill:none;stroke:#000000;stroke-linecap:square;stroke-linejoin:miter;stroke-width:0.8;\"/>\n   </g>\n   <g id=\"patch_70\">\n    <path d=\"M 33.2875 1109.518125 \nL 525.640441 1109.518125 \n\" style=\"fill:none;stroke:#000000;stroke-linecap:square;stroke-linejoin:miter;stroke-width:0.8;\"/>\n   </g>\n   <g id=\"patch_71\">\n    <path d=\"M 33.2875 789.753419 \nL 525.640441 789.753419 \n\" style=\"fill:none;stroke:#000000;stroke-linecap:square;stroke-linejoin:miter;stroke-width:0.8;\"/>\n   </g>\n   <g id=\"text_105\">\n    <!-- 60+ Yrs Old Female Income Distribution -->\n    <defs>\n     <path d=\"M 46 62.703125 \nL 46 35.5 \nL 73.1875 35.5 \nL 73.1875 27.203125 \nL 46 27.203125 \nL 46 0 \nL 37.796875 0 \nL 37.796875 27.203125 \nL 10.59375 27.203125 \nL 10.59375 35.5 \nL 37.796875 35.5 \nL 37.796875 62.703125 \nz\n\" id=\"DejaVuSans-43\"/>\n    </defs>\n    <g transform=\"translate(158.711158 783.753419)scale(0.12 -0.12)\">\n     <use xlink:href=\"#DejaVuSans-54\"/>\n     <use x=\"63.623047\" xlink:href=\"#DejaVuSans-48\"/>\n     <use x=\"127.246094\" xlink:href=\"#DejaVuSans-43\"/>\n     <use x=\"211.035156\" xlink:href=\"#DejaVuSans-32\"/>\n     <use x=\"242.822266\" xlink:href=\"#DejaVuSans-89\"/>\n     <use x=\"303.90625\" xlink:href=\"#DejaVuSans-114\"/>\n     <use x=\"345.019531\" xlink:href=\"#DejaVuSans-115\"/>\n     <use x=\"397.119141\" xlink:href=\"#DejaVuSans-32\"/>\n     <use x=\"428.90625\" xlink:href=\"#DejaVuSans-79\"/>\n     <use x=\"507.617188\" xlink:href=\"#DejaVuSans-108\"/>\n     <use x=\"535.400391\" xlink:href=\"#DejaVuSans-100\"/>\n     <use x=\"598.876953\" xlink:href=\"#DejaVuSans-32\"/>\n     <use x=\"630.664062\" xlink:href=\"#DejaVuSans-70\"/>\n     <use x=\"688.105469\" xlink:href=\"#DejaVuSans-101\"/>\n     <use x=\"749.628906\" xlink:href=\"#DejaVuSans-109\"/>\n     <use x=\"847.041016\" xlink:href=\"#DejaVuSans-97\"/>\n     <use x=\"908.320312\" xlink:href=\"#DejaVuSans-108\"/>\n     <use x=\"936.103516\" xlink:href=\"#DejaVuSans-101\"/>\n     <use x=\"997.626953\" xlink:href=\"#DejaVuSans-32\"/>\n     <use x=\"1029.414062\" xlink:href=\"#DejaVuSans-73\"/>\n     <use x=\"1058.90625\" xlink:href=\"#DejaVuSans-110\"/>\n     <use x=\"1122.285156\" xlink:href=\"#DejaVuSans-99\"/>\n     <use x=\"1177.265625\" xlink:href=\"#DejaVuSans-111\"/>\n     <use x=\"1238.447266\" xlink:href=\"#DejaVuSans-109\"/>\n     <use x=\"1335.859375\" xlink:href=\"#DejaVuSans-101\"/>\n     <use x=\"1397.382812\" xlink:href=\"#DejaVuSans-32\"/>\n     <use x=\"1429.169922\" xlink:href=\"#DejaVuSans-68\"/>\n     <use x=\"1506.171875\" xlink:href=\"#DejaVuSans-105\"/>\n     <use x=\"1533.955078\" xlink:href=\"#DejaVuSans-115\"/>\n     <use x=\"1586.054688\" xlink:href=\"#DejaVuSans-116\"/>\n     <use x=\"1625.263672\" xlink:href=\"#DejaVuSans-114\"/>\n     <use x=\"1666.376953\" xlink:href=\"#DejaVuSans-105\"/>\n     <use x=\"1694.160156\" xlink:href=\"#DejaVuSans-98\"/>\n     <use x=\"1757.636719\" xlink:href=\"#DejaVuSans-117\"/>\n     <use x=\"1821.015625\" xlink:href=\"#DejaVuSans-116\"/>\n     <use x=\"1860.224609\" xlink:href=\"#DejaVuSans-105\"/>\n     <use x=\"1888.007812\" xlink:href=\"#DejaVuSans-111\"/>\n     <use x=\"1949.189453\" xlink:href=\"#DejaVuSans-110\"/>\n    </g>\n   </g>\n  </g>\n  <g id=\"axes_8\">\n   <g id=\"patch_72\">\n    <path d=\"M 624.111029 1109.518125 \nL 1116.463971 1109.518125 \nL 1116.463971 789.753419 \nL 624.111029 789.753419 \nz\n\" style=\"fill:#ffffff;\"/>\n   </g>\n   <g id=\"patch_73\">\n    <path clip-path=\"url(#p41151efdab)\" d=\"M 646.490709 1109.518125 \nL 736.009425 1109.518125 \nL 736.009425 887.975958 \nL 646.490709 887.975958 \nz\n\" style=\"fill:#1f77b4;\"/>\n   </g>\n   <g id=\"patch_74\">\n    <path clip-path=\"url(#p41151efdab)\" d=\"M 736.009425 1109.518125 \nL 825.528142 1109.518125 \nL 825.528142 804.98031 \nL 736.009425 804.98031 \nz\n\" style=\"fill:#1f77b4;\"/>\n   </g>\n   <g id=\"patch_75\">\n    <path clip-path=\"url(#p41151efdab)\" d=\"M 825.528142 1109.518125 \nL 915.046858 1109.518125 \nL 915.046858 860.200522 \nL 825.528142 860.200522 \nz\n\" style=\"fill:#1f77b4;\"/>\n   </g>\n   <g id=\"patch_76\">\n    <path clip-path=\"url(#p41151efdab)\" d=\"M 915.046858 1109.518125 \nL 1004.565575 1109.518125 \nL 1004.565575 954.107948 \nL 915.046858 954.107948 \nz\n\" style=\"fill:#1f77b4;\"/>\n   </g>\n   <g id=\"patch_77\">\n    <path clip-path=\"url(#p41151efdab)\" d=\"M 1004.565575 1109.518125 \nL 1094.084291 1109.518125 \nL 1094.084291 1049.338014 \nL 1004.565575 1049.338014 \nz\n\" style=\"fill:#1f77b4;\"/>\n   </g>\n   <g id=\"matplotlib.axis_15\">\n    <g id=\"xtick_47\">\n     <g id=\"line2d_197\">\n      <path clip-path=\"url(#p41151efdab)\" d=\"M 696.223329 1109.518125 \nL 696.223329 789.753419 \n\" style=\"fill:none;stroke:#b0b0b0;stroke-linecap:square;stroke-width:0.8;\"/>\n     </g>\n     <g id=\"line2d_198\">\n      <g>\n       <use style=\"stroke:#000000;stroke-width:0.8;\" x=\"696.223329\" xlink:href=\"#m5169d1b306\" y=\"1109.518125\"/>\n      </g>\n     </g>\n     <g id=\"text_106\">\n      <!-- 40000 -->\n      <g transform=\"translate(680.317079 1124.116563)scale(0.1 -0.1)\">\n       <use xlink:href=\"#DejaVuSans-52\"/>\n       <use x=\"63.623047\" xlink:href=\"#DejaVuSans-48\"/>\n       <use x=\"127.246094\" xlink:href=\"#DejaVuSans-48\"/>\n       <use x=\"190.869141\" xlink:href=\"#DejaVuSans-48\"/>\n       <use x=\"254.492188\" xlink:href=\"#DejaVuSans-48\"/>\n      </g>\n     </g>\n    </g>\n    <g id=\"xtick_48\">\n     <g id=\"line2d_199\">\n      <path clip-path=\"url(#p41151efdab)\" d=\"M 795.68857 1109.518125 \nL 795.68857 789.753419 \n\" style=\"fill:none;stroke:#b0b0b0;stroke-linecap:square;stroke-width:0.8;\"/>\n     </g>\n     <g id=\"line2d_200\">\n      <g>\n       <use style=\"stroke:#000000;stroke-width:0.8;\" x=\"795.68857\" xlink:href=\"#m5169d1b306\" y=\"1109.518125\"/>\n      </g>\n     </g>\n     <g id=\"text_107\">\n      <!-- 60000 -->\n      <g transform=\"translate(779.78232 1124.116563)scale(0.1 -0.1)\">\n       <use xlink:href=\"#DejaVuSans-54\"/>\n       <use x=\"63.623047\" xlink:href=\"#DejaVuSans-48\"/>\n       <use x=\"127.246094\" xlink:href=\"#DejaVuSans-48\"/>\n       <use x=\"190.869141\" xlink:href=\"#DejaVuSans-48\"/>\n       <use x=\"254.492188\" xlink:href=\"#DejaVuSans-48\"/>\n      </g>\n     </g>\n    </g>\n    <g id=\"xtick_49\">\n     <g id=\"line2d_201\">\n      <path clip-path=\"url(#p41151efdab)\" d=\"M 895.15381 1109.518125 \nL 895.15381 789.753419 \n\" style=\"fill:none;stroke:#b0b0b0;stroke-linecap:square;stroke-width:0.8;\"/>\n     </g>\n     <g id=\"line2d_202\">\n      <g>\n       <use style=\"stroke:#000000;stroke-width:0.8;\" x=\"895.15381\" xlink:href=\"#m5169d1b306\" y=\"1109.518125\"/>\n      </g>\n     </g>\n     <g id=\"text_108\">\n      <!-- 80000 -->\n      <g transform=\"translate(879.24756 1124.116563)scale(0.1 -0.1)\">\n       <use xlink:href=\"#DejaVuSans-56\"/>\n       <use x=\"63.623047\" xlink:href=\"#DejaVuSans-48\"/>\n       <use x=\"127.246094\" xlink:href=\"#DejaVuSans-48\"/>\n       <use x=\"190.869141\" xlink:href=\"#DejaVuSans-48\"/>\n       <use x=\"254.492188\" xlink:href=\"#DejaVuSans-48\"/>\n      </g>\n     </g>\n    </g>\n    <g id=\"xtick_50\">\n     <g id=\"line2d_203\">\n      <path clip-path=\"url(#p41151efdab)\" d=\"M 994.619051 1109.518125 \nL 994.619051 789.753419 \n\" style=\"fill:none;stroke:#b0b0b0;stroke-linecap:square;stroke-width:0.8;\"/>\n     </g>\n     <g id=\"line2d_204\">\n      <g>\n       <use style=\"stroke:#000000;stroke-width:0.8;\" x=\"994.619051\" xlink:href=\"#m5169d1b306\" y=\"1109.518125\"/>\n      </g>\n     </g>\n     <g id=\"text_109\">\n      <!-- 100000 -->\n      <g transform=\"translate(975.531551 1124.116563)scale(0.1 -0.1)\">\n       <use xlink:href=\"#DejaVuSans-49\"/>\n       <use x=\"63.623047\" xlink:href=\"#DejaVuSans-48\"/>\n       <use x=\"127.246094\" xlink:href=\"#DejaVuSans-48\"/>\n       <use x=\"190.869141\" xlink:href=\"#DejaVuSans-48\"/>\n       <use x=\"254.492188\" xlink:href=\"#DejaVuSans-48\"/>\n       <use x=\"318.115234\" xlink:href=\"#DejaVuSans-48\"/>\n      </g>\n     </g>\n    </g>\n    <g id=\"xtick_51\">\n     <g id=\"line2d_205\">\n      <path clip-path=\"url(#p41151efdab)\" d=\"M 1094.084291 1109.518125 \nL 1094.084291 789.753419 \n\" style=\"fill:none;stroke:#b0b0b0;stroke-linecap:square;stroke-width:0.8;\"/>\n     </g>\n     <g id=\"line2d_206\">\n      <g>\n       <use style=\"stroke:#000000;stroke-width:0.8;\" x=\"1094.084291\" xlink:href=\"#m5169d1b306\" y=\"1109.518125\"/>\n      </g>\n     </g>\n     <g id=\"text_110\">\n      <!-- 120000 -->\n      <g transform=\"translate(1074.996791 1124.116563)scale(0.1 -0.1)\">\n       <use xlink:href=\"#DejaVuSans-49\"/>\n       <use x=\"63.623047\" xlink:href=\"#DejaVuSans-50\"/>\n       <use x=\"127.246094\" xlink:href=\"#DejaVuSans-48\"/>\n       <use x=\"190.869141\" xlink:href=\"#DejaVuSans-48\"/>\n       <use x=\"254.492188\" xlink:href=\"#DejaVuSans-48\"/>\n       <use x=\"318.115234\" xlink:href=\"#DejaVuSans-48\"/>\n      </g>\n     </g>\n    </g>\n   </g>\n   <g id=\"matplotlib.axis_16\">\n    <g id=\"ytick_53\">\n     <g id=\"line2d_207\">\n      <path clip-path=\"url(#p41151efdab)\" d=\"M 624.111029 1109.518125 \nL 1116.463971 1109.518125 \n\" style=\"fill:none;stroke:#b0b0b0;stroke-linecap:square;stroke-width:0.8;\"/>\n     </g>\n     <g id=\"line2d_208\">\n      <g>\n       <use style=\"stroke:#000000;stroke-width:0.8;\" x=\"624.111029\" xlink:href=\"#m5cee1d8d27\" y=\"1109.518125\"/>\n      </g>\n     </g>\n     <g id=\"text_111\">\n      <!-- 0 -->\n      <g transform=\"translate(610.748529 1113.317344)scale(0.1 -0.1)\">\n       <use xlink:href=\"#DejaVuSans-48\"/>\n      </g>\n     </g>\n    </g>\n    <g id=\"ytick_54\">\n     <g id=\"line2d_209\">\n      <path clip-path=\"url(#p41151efdab)\" d=\"M 624.111029 1043.386135 \nL 1116.463971 1043.386135 \n\" style=\"fill:none;stroke:#b0b0b0;stroke-linecap:square;stroke-width:0.8;\"/>\n     </g>\n     <g id=\"line2d_210\">\n      <g>\n       <use style=\"stroke:#000000;stroke-width:0.8;\" x=\"624.111029\" xlink:href=\"#m5cee1d8d27\" y=\"1043.386135\"/>\n      </g>\n     </g>\n     <g id=\"text_112\">\n      <!-- 200 -->\n      <g transform=\"translate(598.023529 1047.185353)scale(0.1 -0.1)\">\n       <use xlink:href=\"#DejaVuSans-50\"/>\n       <use x=\"63.623047\" xlink:href=\"#DejaVuSans-48\"/>\n       <use x=\"127.246094\" xlink:href=\"#DejaVuSans-48\"/>\n      </g>\n     </g>\n    </g>\n    <g id=\"ytick_55\">\n     <g id=\"line2d_211\">\n      <path clip-path=\"url(#p41151efdab)\" d=\"M 624.111029 977.254144 \nL 1116.463971 977.254144 \n\" style=\"fill:none;stroke:#b0b0b0;stroke-linecap:square;stroke-width:0.8;\"/>\n     </g>\n     <g id=\"line2d_212\">\n      <g>\n       <use style=\"stroke:#000000;stroke-width:0.8;\" x=\"624.111029\" xlink:href=\"#m5cee1d8d27\" y=\"977.254144\"/>\n      </g>\n     </g>\n     <g id=\"text_113\">\n      <!-- 400 -->\n      <g transform=\"translate(598.023529 981.053363)scale(0.1 -0.1)\">\n       <use xlink:href=\"#DejaVuSans-52\"/>\n       <use x=\"63.623047\" xlink:href=\"#DejaVuSans-48\"/>\n       <use x=\"127.246094\" xlink:href=\"#DejaVuSans-48\"/>\n      </g>\n     </g>\n    </g>\n    <g id=\"ytick_56\">\n     <g id=\"line2d_213\">\n      <path clip-path=\"url(#p41151efdab)\" d=\"M 624.111029 911.122154 \nL 1116.463971 911.122154 \n\" style=\"fill:none;stroke:#b0b0b0;stroke-linecap:square;stroke-width:0.8;\"/>\n     </g>\n     <g id=\"line2d_214\">\n      <g>\n       <use style=\"stroke:#000000;stroke-width:0.8;\" x=\"624.111029\" xlink:href=\"#m5cee1d8d27\" y=\"911.122154\"/>\n      </g>\n     </g>\n     <g id=\"text_114\">\n      <!-- 600 -->\n      <g transform=\"translate(598.023529 914.921373)scale(0.1 -0.1)\">\n       <use xlink:href=\"#DejaVuSans-54\"/>\n       <use x=\"63.623047\" xlink:href=\"#DejaVuSans-48\"/>\n       <use x=\"127.246094\" xlink:href=\"#DejaVuSans-48\"/>\n      </g>\n     </g>\n    </g>\n    <g id=\"ytick_57\">\n     <g id=\"line2d_215\">\n      <path clip-path=\"url(#p41151efdab)\" d=\"M 624.111029 844.990164 \nL 1116.463971 844.990164 \n\" style=\"fill:none;stroke:#b0b0b0;stroke-linecap:square;stroke-width:0.8;\"/>\n     </g>\n     <g id=\"line2d_216\">\n      <g>\n       <use style=\"stroke:#000000;stroke-width:0.8;\" x=\"624.111029\" xlink:href=\"#m5cee1d8d27\" y=\"844.990164\"/>\n      </g>\n     </g>\n     <g id=\"text_115\">\n      <!-- 800 -->\n      <g transform=\"translate(598.023529 848.789383)scale(0.1 -0.1)\">\n       <use xlink:href=\"#DejaVuSans-56\"/>\n       <use x=\"63.623047\" xlink:href=\"#DejaVuSans-48\"/>\n       <use x=\"127.246094\" xlink:href=\"#DejaVuSans-48\"/>\n      </g>\n     </g>\n    </g>\n   </g>\n   <g id=\"patch_78\">\n    <path d=\"M 624.111029 1109.518125 \nL 624.111029 789.753419 \n\" style=\"fill:none;stroke:#000000;stroke-linecap:square;stroke-linejoin:miter;stroke-width:0.8;\"/>\n   </g>\n   <g id=\"patch_79\">\n    <path d=\"M 1116.463971 1109.518125 \nL 1116.463971 789.753419 \n\" style=\"fill:none;stroke:#000000;stroke-linecap:square;stroke-linejoin:miter;stroke-width:0.8;\"/>\n   </g>\n   <g id=\"patch_80\">\n    <path d=\"M 624.111029 1109.518125 \nL 1116.463971 1109.518125 \n\" style=\"fill:none;stroke:#000000;stroke-linecap:square;stroke-linejoin:miter;stroke-width:0.8;\"/>\n   </g>\n   <g id=\"patch_81\">\n    <path d=\"M 624.111029 789.753419 \nL 1116.463971 789.753419 \n\" style=\"fill:none;stroke:#000000;stroke-linecap:square;stroke-linejoin:miter;stroke-width:0.8;\"/>\n   </g>\n   <g id=\"text_116\">\n    <!-- 60+ Yrs Old Male Income Distribution -->\n    <g transform=\"translate(757.340313 783.753419)scale(0.12 -0.12)\">\n     <use xlink:href=\"#DejaVuSans-54\"/>\n     <use x=\"63.623047\" xlink:href=\"#DejaVuSans-48\"/>\n     <use x=\"127.246094\" xlink:href=\"#DejaVuSans-43\"/>\n     <use x=\"211.035156\" xlink:href=\"#DejaVuSans-32\"/>\n     <use x=\"242.822266\" xlink:href=\"#DejaVuSans-89\"/>\n     <use x=\"303.90625\" xlink:href=\"#DejaVuSans-114\"/>\n     <use x=\"345.019531\" xlink:href=\"#DejaVuSans-115\"/>\n     <use x=\"397.119141\" xlink:href=\"#DejaVuSans-32\"/>\n     <use x=\"428.90625\" xlink:href=\"#DejaVuSans-79\"/>\n     <use x=\"507.617188\" xlink:href=\"#DejaVuSans-108\"/>\n     <use x=\"535.400391\" xlink:href=\"#DejaVuSans-100\"/>\n     <use x=\"598.876953\" xlink:href=\"#DejaVuSans-32\"/>\n     <use x=\"630.664062\" xlink:href=\"#DejaVuSans-77\"/>\n     <use x=\"716.943359\" xlink:href=\"#DejaVuSans-97\"/>\n     <use x=\"778.222656\" xlink:href=\"#DejaVuSans-108\"/>\n     <use x=\"806.005859\" xlink:href=\"#DejaVuSans-101\"/>\n     <use x=\"867.529297\" xlink:href=\"#DejaVuSans-32\"/>\n     <use x=\"899.316406\" xlink:href=\"#DejaVuSans-73\"/>\n     <use x=\"928.808594\" xlink:href=\"#DejaVuSans-110\"/>\n     <use x=\"992.1875\" xlink:href=\"#DejaVuSans-99\"/>\n     <use x=\"1047.167969\" xlink:href=\"#DejaVuSans-111\"/>\n     <use x=\"1108.349609\" xlink:href=\"#DejaVuSans-109\"/>\n     <use x=\"1205.761719\" xlink:href=\"#DejaVuSans-101\"/>\n     <use x=\"1267.285156\" xlink:href=\"#DejaVuSans-32\"/>\n     <use x=\"1299.072266\" xlink:href=\"#DejaVuSans-68\"/>\n     <use x=\"1376.074219\" xlink:href=\"#DejaVuSans-105\"/>\n     <use x=\"1403.857422\" xlink:href=\"#DejaVuSans-115\"/>\n     <use x=\"1455.957031\" xlink:href=\"#DejaVuSans-116\"/>\n     <use x=\"1495.166016\" xlink:href=\"#DejaVuSans-114\"/>\n     <use x=\"1536.279297\" xlink:href=\"#DejaVuSans-105\"/>\n     <use x=\"1564.0625\" xlink:href=\"#DejaVuSans-98\"/>\n     <use x=\"1627.539062\" xlink:href=\"#DejaVuSans-117\"/>\n     <use x=\"1690.917969\" xlink:href=\"#DejaVuSans-116\"/>\n     <use x=\"1730.126953\" xlink:href=\"#DejaVuSans-105\"/>\n     <use x=\"1757.910156\" xlink:href=\"#DejaVuSans-111\"/>\n     <use x=\"1819.091797\" xlink:href=\"#DejaVuSans-110\"/>\n    </g>\n   </g>\n  </g>\n  <g id=\"axes_9\">\n   <g id=\"patch_82\">\n    <path d=\"M 1214.934559 1109.518125 \nL 1707.2875 1109.518125 \nL 1707.2875 789.753419 \nL 1214.934559 789.753419 \nz\n\" style=\"fill:#ffffff;\"/>\n   </g>\n   <g id=\"patch_83\">\n    <path clip-path=\"url(#p70a24e33b8)\" d=\"M 1237.314238 1109.518125 \nL 1326.832955 1109.518125 \nL 1326.832955 968.96221 \nL 1237.314238 968.96221 \nz\n\" style=\"fill:#1f77b4;\"/>\n   </g>\n   <g id=\"patch_84\">\n    <path clip-path=\"url(#p70a24e33b8)\" d=\"M 1326.832955 1109.518125 \nL 1416.351671 1109.518125 \nL 1416.351671 804.98031 \nL 1326.832955 804.98031 \nz\n\" style=\"fill:#1f77b4;\"/>\n   </g>\n   <g id=\"patch_85\">\n    <path clip-path=\"url(#p70a24e33b8)\" d=\"M 1416.351671 1109.518125 \nL 1505.870388 1109.518125 \nL 1505.870388 898.684253 \nL 1416.351671 898.684253 \nz\n\" style=\"fill:#1f77b4;\"/>\n   </g>\n   <g id=\"patch_86\">\n    <path clip-path=\"url(#p70a24e33b8)\" d=\"M 1505.870388 1109.518125 \nL 1595.389104 1109.518125 \nL 1595.389104 980.675203 \nL 1505.870388 980.675203 \nz\n\" style=\"fill:#1f77b4;\"/>\n   </g>\n   <g id=\"patch_87\">\n    <path clip-path=\"url(#p70a24e33b8)\" d=\"M 1595.389104 1109.518125 \nL 1684.907821 1109.518125 \nL 1684.907821 992.388196 \nL 1595.389104 992.388196 \nz\n\" style=\"fill:#1f77b4;\"/>\n   </g>\n   <g id=\"matplotlib.axis_17\">\n    <g id=\"xtick_52\">\n     <g id=\"line2d_217\">\n      <path clip-path=\"url(#p70a24e33b8)\" d=\"M 1230.731979 1109.518125 \nL 1230.731979 789.753419 \n\" style=\"fill:none;stroke:#b0b0b0;stroke-linecap:square;stroke-width:0.8;\"/>\n     </g>\n     <g id=\"line2d_218\">\n      <g>\n       <use style=\"stroke:#000000;stroke-width:0.8;\" x=\"1230.731979\" xlink:href=\"#m5169d1b306\" y=\"1109.518125\"/>\n      </g>\n     </g>\n     <g id=\"text_117\">\n      <!-- 30000 -->\n      <g transform=\"translate(1214.825729 1124.116563)scale(0.1 -0.1)\">\n       <use xlink:href=\"#DejaVuSans-51\"/>\n       <use x=\"63.623047\" xlink:href=\"#DejaVuSans-48\"/>\n       <use x=\"127.246094\" xlink:href=\"#DejaVuSans-48\"/>\n       <use x=\"190.869141\" xlink:href=\"#DejaVuSans-48\"/>\n       <use x=\"254.492188\" xlink:href=\"#DejaVuSans-48\"/>\n      </g>\n     </g>\n    </g>\n    <g id=\"xtick_53\">\n     <g id=\"line2d_219\">\n      <path clip-path=\"url(#p70a24e33b8)\" d=\"M 1296.554565 1109.518125 \nL 1296.554565 789.753419 \n\" style=\"fill:none;stroke:#b0b0b0;stroke-linecap:square;stroke-width:0.8;\"/>\n     </g>\n     <g id=\"line2d_220\">\n      <g>\n       <use style=\"stroke:#000000;stroke-width:0.8;\" x=\"1296.554565\" xlink:href=\"#m5169d1b306\" y=\"1109.518125\"/>\n      </g>\n     </g>\n     <g id=\"text_118\">\n      <!-- 40000 -->\n      <g transform=\"translate(1280.648315 1124.116563)scale(0.1 -0.1)\">\n       <use xlink:href=\"#DejaVuSans-52\"/>\n       <use x=\"63.623047\" xlink:href=\"#DejaVuSans-48\"/>\n       <use x=\"127.246094\" xlink:href=\"#DejaVuSans-48\"/>\n       <use x=\"190.869141\" xlink:href=\"#DejaVuSans-48\"/>\n       <use x=\"254.492188\" xlink:href=\"#DejaVuSans-48\"/>\n      </g>\n     </g>\n    </g>\n    <g id=\"xtick_54\">\n     <g id=\"line2d_221\">\n      <path clip-path=\"url(#p70a24e33b8)\" d=\"M 1362.377151 1109.518125 \nL 1362.377151 789.753419 \n\" style=\"fill:none;stroke:#b0b0b0;stroke-linecap:square;stroke-width:0.8;\"/>\n     </g>\n     <g id=\"line2d_222\">\n      <g>\n       <use style=\"stroke:#000000;stroke-width:0.8;\" x=\"1362.377151\" xlink:href=\"#m5169d1b306\" y=\"1109.518125\"/>\n      </g>\n     </g>\n     <g id=\"text_119\">\n      <!-- 50000 -->\n      <g transform=\"translate(1346.470901 1124.116563)scale(0.1 -0.1)\">\n       <use xlink:href=\"#DejaVuSans-53\"/>\n       <use x=\"63.623047\" xlink:href=\"#DejaVuSans-48\"/>\n       <use x=\"127.246094\" xlink:href=\"#DejaVuSans-48\"/>\n       <use x=\"190.869141\" xlink:href=\"#DejaVuSans-48\"/>\n       <use x=\"254.492188\" xlink:href=\"#DejaVuSans-48\"/>\n      </g>\n     </g>\n    </g>\n    <g id=\"xtick_55\">\n     <g id=\"line2d_223\">\n      <path clip-path=\"url(#p70a24e33b8)\" d=\"M 1428.199737 1109.518125 \nL 1428.199737 789.753419 \n\" style=\"fill:none;stroke:#b0b0b0;stroke-linecap:square;stroke-width:0.8;\"/>\n     </g>\n     <g id=\"line2d_224\">\n      <g>\n       <use style=\"stroke:#000000;stroke-width:0.8;\" x=\"1428.199737\" xlink:href=\"#m5169d1b306\" y=\"1109.518125\"/>\n      </g>\n     </g>\n     <g id=\"text_120\">\n      <!-- 60000 -->\n      <g transform=\"translate(1412.293487 1124.116563)scale(0.1 -0.1)\">\n       <use xlink:href=\"#DejaVuSans-54\"/>\n       <use x=\"63.623047\" xlink:href=\"#DejaVuSans-48\"/>\n       <use x=\"127.246094\" xlink:href=\"#DejaVuSans-48\"/>\n       <use x=\"190.869141\" xlink:href=\"#DejaVuSans-48\"/>\n       <use x=\"254.492188\" xlink:href=\"#DejaVuSans-48\"/>\n      </g>\n     </g>\n    </g>\n    <g id=\"xtick_56\">\n     <g id=\"line2d_225\">\n      <path clip-path=\"url(#p70a24e33b8)\" d=\"M 1494.022322 1109.518125 \nL 1494.022322 789.753419 \n\" style=\"fill:none;stroke:#b0b0b0;stroke-linecap:square;stroke-width:0.8;\"/>\n     </g>\n     <g id=\"line2d_226\">\n      <g>\n       <use style=\"stroke:#000000;stroke-width:0.8;\" x=\"1494.022322\" xlink:href=\"#m5169d1b306\" y=\"1109.518125\"/>\n      </g>\n     </g>\n     <g id=\"text_121\">\n      <!-- 70000 -->\n      <g transform=\"translate(1478.116072 1124.116563)scale(0.1 -0.1)\">\n       <use xlink:href=\"#DejaVuSans-55\"/>\n       <use x=\"63.623047\" xlink:href=\"#DejaVuSans-48\"/>\n       <use x=\"127.246094\" xlink:href=\"#DejaVuSans-48\"/>\n       <use x=\"190.869141\" xlink:href=\"#DejaVuSans-48\"/>\n       <use x=\"254.492188\" xlink:href=\"#DejaVuSans-48\"/>\n      </g>\n     </g>\n    </g>\n    <g id=\"xtick_57\">\n     <g id=\"line2d_227\">\n      <path clip-path=\"url(#p70a24e33b8)\" d=\"M 1559.844908 1109.518125 \nL 1559.844908 789.753419 \n\" style=\"fill:none;stroke:#b0b0b0;stroke-linecap:square;stroke-width:0.8;\"/>\n     </g>\n     <g id=\"line2d_228\">\n      <g>\n       <use style=\"stroke:#000000;stroke-width:0.8;\" x=\"1559.844908\" xlink:href=\"#m5169d1b306\" y=\"1109.518125\"/>\n      </g>\n     </g>\n     <g id=\"text_122\">\n      <!-- 80000 -->\n      <g transform=\"translate(1543.938658 1124.116563)scale(0.1 -0.1)\">\n       <use xlink:href=\"#DejaVuSans-56\"/>\n       <use x=\"63.623047\" xlink:href=\"#DejaVuSans-48\"/>\n       <use x=\"127.246094\" xlink:href=\"#DejaVuSans-48\"/>\n       <use x=\"190.869141\" xlink:href=\"#DejaVuSans-48\"/>\n       <use x=\"254.492188\" xlink:href=\"#DejaVuSans-48\"/>\n      </g>\n     </g>\n    </g>\n    <g id=\"xtick_58\">\n     <g id=\"line2d_229\">\n      <path clip-path=\"url(#p70a24e33b8)\" d=\"M 1625.667494 1109.518125 \nL 1625.667494 789.753419 \n\" style=\"fill:none;stroke:#b0b0b0;stroke-linecap:square;stroke-width:0.8;\"/>\n     </g>\n     <g id=\"line2d_230\">\n      <g>\n       <use style=\"stroke:#000000;stroke-width:0.8;\" x=\"1625.667494\" xlink:href=\"#m5169d1b306\" y=\"1109.518125\"/>\n      </g>\n     </g>\n     <g id=\"text_123\">\n      <!-- 90000 -->\n      <g transform=\"translate(1609.761244 1124.116563)scale(0.1 -0.1)\">\n       <use xlink:href=\"#DejaVuSans-57\"/>\n       <use x=\"63.623047\" xlink:href=\"#DejaVuSans-48\"/>\n       <use x=\"127.246094\" xlink:href=\"#DejaVuSans-48\"/>\n       <use x=\"190.869141\" xlink:href=\"#DejaVuSans-48\"/>\n       <use x=\"254.492188\" xlink:href=\"#DejaVuSans-48\"/>\n      </g>\n     </g>\n    </g>\n    <g id=\"xtick_59\">\n     <g id=\"line2d_231\">\n      <path clip-path=\"url(#p70a24e33b8)\" d=\"M 1691.490079 1109.518125 \nL 1691.490079 789.753419 \n\" style=\"fill:none;stroke:#b0b0b0;stroke-linecap:square;stroke-width:0.8;\"/>\n     </g>\n     <g id=\"line2d_232\">\n      <g>\n       <use style=\"stroke:#000000;stroke-width:0.8;\" x=\"1691.490079\" xlink:href=\"#m5169d1b306\" y=\"1109.518125\"/>\n      </g>\n     </g>\n     <g id=\"text_124\">\n      <!-- 100000 -->\n      <g transform=\"translate(1672.402579 1124.116563)scale(0.1 -0.1)\">\n       <use xlink:href=\"#DejaVuSans-49\"/>\n       <use x=\"63.623047\" xlink:href=\"#DejaVuSans-48\"/>\n       <use x=\"127.246094\" xlink:href=\"#DejaVuSans-48\"/>\n       <use x=\"190.869141\" xlink:href=\"#DejaVuSans-48\"/>\n       <use x=\"254.492188\" xlink:href=\"#DejaVuSans-48\"/>\n       <use x=\"318.115234\" xlink:href=\"#DejaVuSans-48\"/>\n      </g>\n     </g>\n    </g>\n   </g>\n   <g id=\"matplotlib.axis_18\">\n    <g id=\"ytick_58\">\n     <g id=\"line2d_233\">\n      <path clip-path=\"url(#p70a24e33b8)\" d=\"M 1214.934559 1109.518125 \nL 1707.2875 1109.518125 \n\" style=\"fill:none;stroke:#b0b0b0;stroke-linecap:square;stroke-width:0.8;\"/>\n     </g>\n     <g id=\"line2d_234\">\n      <g>\n       <use style=\"stroke:#000000;stroke-width:0.8;\" x=\"1214.934559\" xlink:href=\"#m5cee1d8d27\" y=\"1109.518125\"/>\n      </g>\n     </g>\n     <g id=\"text_125\">\n      <!-- 0 -->\n      <g transform=\"translate(1201.572059 1113.317344)scale(0.1 -0.1)\">\n       <use xlink:href=\"#DejaVuSans-48\"/>\n      </g>\n     </g>\n    </g>\n    <g id=\"ytick_59\">\n     <g id=\"line2d_235\">\n      <path clip-path=\"url(#p70a24e33b8)\" d=\"M 1214.934559 1050.953161 \nL 1707.2875 1050.953161 \n\" style=\"fill:none;stroke:#b0b0b0;stroke-linecap:square;stroke-width:0.8;\"/>\n     </g>\n     <g id=\"line2d_236\">\n      <g>\n       <use style=\"stroke:#000000;stroke-width:0.8;\" x=\"1214.934559\" xlink:href=\"#m5cee1d8d27\" y=\"1050.953161\"/>\n      </g>\n     </g>\n     <g id=\"text_126\">\n      <!-- 5 -->\n      <g transform=\"translate(1201.572059 1054.752379)scale(0.1 -0.1)\">\n       <use xlink:href=\"#DejaVuSans-53\"/>\n      </g>\n     </g>\n    </g>\n    <g id=\"ytick_60\">\n     <g id=\"line2d_237\">\n      <path clip-path=\"url(#p70a24e33b8)\" d=\"M 1214.934559 992.388196 \nL 1707.2875 992.388196 \n\" style=\"fill:none;stroke:#b0b0b0;stroke-linecap:square;stroke-width:0.8;\"/>\n     </g>\n     <g id=\"line2d_238\">\n      <g>\n       <use style=\"stroke:#000000;stroke-width:0.8;\" x=\"1214.934559\" xlink:href=\"#m5cee1d8d27\" y=\"992.388196\"/>\n      </g>\n     </g>\n     <g id=\"text_127\">\n      <!-- 10 -->\n      <g transform=\"translate(1195.209559 996.187415)scale(0.1 -0.1)\">\n       <use xlink:href=\"#DejaVuSans-49\"/>\n       <use x=\"63.623047\" xlink:href=\"#DejaVuSans-48\"/>\n      </g>\n     </g>\n    </g>\n    <g id=\"ytick_61\">\n     <g id=\"line2d_239\">\n      <path clip-path=\"url(#p70a24e33b8)\" d=\"M 1214.934559 933.823232 \nL 1707.2875 933.823232 \n\" style=\"fill:none;stroke:#b0b0b0;stroke-linecap:square;stroke-width:0.8;\"/>\n     </g>\n     <g id=\"line2d_240\">\n      <g>\n       <use style=\"stroke:#000000;stroke-width:0.8;\" x=\"1214.934559\" xlink:href=\"#m5cee1d8d27\" y=\"933.823232\"/>\n      </g>\n     </g>\n     <g id=\"text_128\">\n      <!-- 15 -->\n      <g transform=\"translate(1195.209559 937.62245)scale(0.1 -0.1)\">\n       <use xlink:href=\"#DejaVuSans-49\"/>\n       <use x=\"63.623047\" xlink:href=\"#DejaVuSans-53\"/>\n      </g>\n     </g>\n    </g>\n    <g id=\"ytick_62\">\n     <g id=\"line2d_241\">\n      <path clip-path=\"url(#p70a24e33b8)\" d=\"M 1214.934559 875.258267 \nL 1707.2875 875.258267 \n\" style=\"fill:none;stroke:#b0b0b0;stroke-linecap:square;stroke-width:0.8;\"/>\n     </g>\n     <g id=\"line2d_242\">\n      <g>\n       <use style=\"stroke:#000000;stroke-width:0.8;\" x=\"1214.934559\" xlink:href=\"#m5cee1d8d27\" y=\"875.258267\"/>\n      </g>\n     </g>\n     <g id=\"text_129\">\n      <!-- 20 -->\n      <g transform=\"translate(1195.209559 879.057486)scale(0.1 -0.1)\">\n       <use xlink:href=\"#DejaVuSans-50\"/>\n       <use x=\"63.623047\" xlink:href=\"#DejaVuSans-48\"/>\n      </g>\n     </g>\n    </g>\n    <g id=\"ytick_63\">\n     <g id=\"line2d_243\">\n      <path clip-path=\"url(#p70a24e33b8)\" d=\"M 1214.934559 816.693303 \nL 1707.2875 816.693303 \n\" style=\"fill:none;stroke:#b0b0b0;stroke-linecap:square;stroke-width:0.8;\"/>\n     </g>\n     <g id=\"line2d_244\">\n      <g>\n       <use style=\"stroke:#000000;stroke-width:0.8;\" x=\"1214.934559\" xlink:href=\"#m5cee1d8d27\" y=\"816.693303\"/>\n      </g>\n     </g>\n     <g id=\"text_130\">\n      <!-- 25 -->\n      <g transform=\"translate(1195.209559 820.492522)scale(0.1 -0.1)\">\n       <use xlink:href=\"#DejaVuSans-50\"/>\n       <use x=\"63.623047\" xlink:href=\"#DejaVuSans-53\"/>\n      </g>\n     </g>\n    </g>\n   </g>\n   <g id=\"patch_88\">\n    <path d=\"M 1214.934559 1109.518125 \nL 1214.934559 789.753419 \n\" style=\"fill:none;stroke:#000000;stroke-linecap:square;stroke-linejoin:miter;stroke-width:0.8;\"/>\n   </g>\n   <g id=\"patch_89\">\n    <path d=\"M 1707.2875 1109.518125 \nL 1707.2875 789.753419 \n\" style=\"fill:none;stroke:#000000;stroke-linecap:square;stroke-linejoin:miter;stroke-width:0.8;\"/>\n   </g>\n   <g id=\"patch_90\">\n    <path d=\"M 1214.934559 1109.518125 \nL 1707.2875 1109.518125 \n\" style=\"fill:none;stroke:#000000;stroke-linecap:square;stroke-linejoin:miter;stroke-width:0.8;\"/>\n   </g>\n   <g id=\"patch_91\">\n    <path d=\"M 1214.934559 789.753419 \nL 1707.2875 789.753419 \n\" style=\"fill:none;stroke:#000000;stroke-linecap:square;stroke-linejoin:miter;stroke-width:0.8;\"/>\n   </g>\n   <g id=\"text_131\">\n    <!-- 60+ yrs Old Other Income Distribution -->\n    <defs>\n     <path d=\"M 32.171875 -5.078125 \nQ 28.375 -14.84375 24.75 -17.8125 \nQ 21.140625 -20.796875 15.09375 -20.796875 \nL 7.90625 -20.796875 \nL 7.90625 -13.28125 \nL 13.1875 -13.28125 \nQ 16.890625 -13.28125 18.9375 -11.515625 \nQ 21 -9.765625 23.484375 -3.21875 \nL 25.09375 0.875 \nL 2.984375 54.6875 \nL 12.5 54.6875 \nL 29.59375 11.921875 \nL 46.6875 54.6875 \nL 56.203125 54.6875 \nz\n\" id=\"DejaVuSans-121\"/>\n    </defs>\n    <g transform=\"translate(1345.453529 783.753419)scale(0.12 -0.12)\">\n     <use xlink:href=\"#DejaVuSans-54\"/>\n     <use x=\"63.623047\" xlink:href=\"#DejaVuSans-48\"/>\n     <use x=\"127.246094\" xlink:href=\"#DejaVuSans-43\"/>\n     <use x=\"211.035156\" xlink:href=\"#DejaVuSans-32\"/>\n     <use x=\"242.822266\" xlink:href=\"#DejaVuSans-121\"/>\n     <use x=\"302.001953\" xlink:href=\"#DejaVuSans-114\"/>\n     <use x=\"343.115234\" xlink:href=\"#DejaVuSans-115\"/>\n     <use x=\"395.214844\" xlink:href=\"#DejaVuSans-32\"/>\n     <use x=\"427.001953\" xlink:href=\"#DejaVuSans-79\"/>\n     <use x=\"505.712891\" xlink:href=\"#DejaVuSans-108\"/>\n     <use x=\"533.496094\" xlink:href=\"#DejaVuSans-100\"/>\n     <use x=\"596.972656\" xlink:href=\"#DejaVuSans-32\"/>\n     <use x=\"628.759766\" xlink:href=\"#DejaVuSans-79\"/>\n     <use x=\"707.470703\" xlink:href=\"#DejaVuSans-116\"/>\n     <use x=\"746.679688\" xlink:href=\"#DejaVuSans-104\"/>\n     <use x=\"810.058594\" xlink:href=\"#DejaVuSans-101\"/>\n     <use x=\"871.582031\" xlink:href=\"#DejaVuSans-114\"/>\n     <use x=\"912.695312\" xlink:href=\"#DejaVuSans-32\"/>\n     <use x=\"944.482422\" xlink:href=\"#DejaVuSans-73\"/>\n     <use x=\"973.974609\" xlink:href=\"#DejaVuSans-110\"/>\n     <use x=\"1037.353516\" xlink:href=\"#DejaVuSans-99\"/>\n     <use x=\"1092.333984\" xlink:href=\"#DejaVuSans-111\"/>\n     <use x=\"1153.515625\" xlink:href=\"#DejaVuSans-109\"/>\n     <use x=\"1250.927734\" xlink:href=\"#DejaVuSans-101\"/>\n     <use x=\"1312.451172\" xlink:href=\"#DejaVuSans-32\"/>\n     <use x=\"1344.238281\" xlink:href=\"#DejaVuSans-68\"/>\n     <use x=\"1421.240234\" xlink:href=\"#DejaVuSans-105\"/>\n     <use x=\"1449.023438\" xlink:href=\"#DejaVuSans-115\"/>\n     <use x=\"1501.123047\" xlink:href=\"#DejaVuSans-116\"/>\n     <use x=\"1540.332031\" xlink:href=\"#DejaVuSans-114\"/>\n     <use x=\"1581.445312\" xlink:href=\"#DejaVuSans-105\"/>\n     <use x=\"1609.228516\" xlink:href=\"#DejaVuSans-98\"/>\n     <use x=\"1672.705078\" xlink:href=\"#DejaVuSans-117\"/>\n     <use x=\"1736.083984\" xlink:href=\"#DejaVuSans-116\"/>\n     <use x=\"1775.292969\" xlink:href=\"#DejaVuSans-105\"/>\n     <use x=\"1803.076172\" xlink:href=\"#DejaVuSans-111\"/>\n     <use x=\"1864.257812\" xlink:href=\"#DejaVuSans-110\"/>\n    </g>\n   </g>\n  </g>\n </g>\n <defs>\n  <clipPath id=\"pef33aa6b5a\">\n   <rect height=\"319.764706\" width=\"492.352941\" x=\"33.2875\" y=\"22.318125\"/>\n  </clipPath>\n  <clipPath id=\"pf9d9da9782\">\n   <rect height=\"319.764706\" width=\"492.352941\" x=\"624.111029\" y=\"22.318125\"/>\n  </clipPath>\n  <clipPath id=\"pa42e14edef\">\n   <rect height=\"319.764706\" width=\"492.352941\" x=\"1214.934559\" y=\"22.318125\"/>\n  </clipPath>\n  <clipPath id=\"p524fe0dd6f\">\n   <rect height=\"319.764706\" width=\"492.352941\" x=\"33.2875\" y=\"406.035772\"/>\n  </clipPath>\n  <clipPath id=\"p2e9c77566d\">\n   <rect height=\"319.764706\" width=\"492.352941\" x=\"624.111029\" y=\"406.035772\"/>\n  </clipPath>\n  <clipPath id=\"pd895259d06\">\n   <rect height=\"319.764706\" width=\"492.352941\" x=\"1214.934559\" y=\"406.035772\"/>\n  </clipPath>\n  <clipPath id=\"pff0d2da0ff\">\n   <rect height=\"319.764706\" width=\"492.352941\" x=\"33.2875\" y=\"789.753419\"/>\n  </clipPath>\n  <clipPath id=\"p41151efdab\">\n   <rect height=\"319.764706\" width=\"492.352941\" x=\"624.111029\" y=\"789.753419\"/>\n  </clipPath>\n  <clipPath id=\"p70a24e33b8\">\n   <rect height=\"319.764706\" width=\"492.352941\" x=\"1214.934559\" y=\"789.753419\"/>\n  </clipPath>\n </defs>\n</svg>\n",
      "image/png": "[encoded data removed]"
     },
     "metadata": {
      "needs_background": "light"
     }
    }
   ],
   "source": [
    "plt.figure(figsize=(30, 20))\n",
    "\n",
    "plt.subplot(331)\n",
    "profile[(profile.age>=18) & \\\n",
    "        (profile.age<40) & \\\n",
    "        (profile.gender=='F')].income.hist(bins=5)\n",
    "plt.title('18-39 Yrs Old Female Income Distribution')\n",
    "\n",
    "plt.subplot(332)\n",
    "profile[(profile.age>=18) & \\\n",
    "        (profile.age<40) & \\\n",
    "        (profile.gender=='M')].income.hist(bins=5)\n",
    "plt.title('18-39 Yrs Old Male Income Distribution')\n",
    "\n",
    "plt.subplot(333)\n",
    "profile[(profile.age>=18) & \\\n",
    "        (profile.age<40) & \\\n",
    "        (profile.gender=='O')].income.hist(bins=5)\n",
    "plt.title('18-39 Yrs Old Other Income Distribution')\n",
    "\n",
    "plt.subplot(334)\n",
    "profile[(profile.age>=40) & \\\n",
    "        (profile.age<60) & \\\n",
    "        (profile.gender=='F')].income.hist(bins=5)\n",
    "plt.title('40-59 Yrs Old Female Income Distribution')\n",
    "\n",
    "plt.subplot(335)\n",
    "profile[(profile.age>=40) & \\\n",
    "        (profile.age<60) & \\\n",
    "        (profile.gender=='M')].income.hist(bins=5)\n",
    "plt.title('40-59 Yrs Old Male Income Distribution')\n",
    "\n",
    "plt.subplot(336)\n",
    "profile[(profile.age>=40) & \\\n",
    "        (profile.age<60) & \\\n",
    "        (profile.gender=='O')].income.hist(bins=5)\n",
    "plt.title('40-59 Yrs Old Other Income Distribution')\n",
    "\n",
    "plt.subplot(337)\n",
    "profile[(profile.age>=60) & \\\n",
    "        (profile.age!=118) & \\\n",
    "        (profile.gender=='F')].income.hist(bins=5)\n",
    "plt.title('60+ Yrs Old Female Income Distribution')\n",
    "\n",
    "plt.subplot(338)\n",
    "profile[(profile.age>=60) & \\\n",
    "        (profile.age!=118) & \\\n",
    "        (profile.gender=='M')].income.hist(bins=5)\n",
    "plt.title('60+ Yrs Old Male Income Distribution')\n",
    "\n",
    "plt.subplot(339)\n",
    "profile[(profile.age>=60) & \\\n",
    "        (profile.age!=118) & \\\n",
    "        (profile.gender=='O')].income.hist(bins=5)\n",
    "plt.title('60+ yrs Old Other Income Distribution')"
   ]
  },
  {
   "cell_type": "markdown",
   "metadata": {},
   "source": [
    "### 3. Transcript\n",
    "\n",
    "#### Basic Infos:"
   ]
  },
  {
   "cell_type": "code",
   "execution_count": 13,
   "metadata": {
    "pycharm": {
     "name": "#%%\n"
    }
   },
   "outputs": [
    {
     "output_type": "execute_result",
     "data": {
      "text/plain": "                             person           event  \\\n0  78afa995795e4d85b5d9ceeca43f5fef  offer received   \n1  a03223e636434f42ac4c3df47e8bac43  offer received   \n2  e2127556f4f64592b11af22de27a7932  offer received   \n3  8ec6ce2a7e7949b1bf142def7d0e0586  offer received   \n4  68617ca6246f4fbc85e91a2a49552598  offer received   \n\n                                              value  time  \n0  {'offer id': '9b98b8c7a33c4b65b9aebfe6a799e6d9'}     0  \n1  {'offer id': '0b1e1539f2cc45b7b9fa7c272da2e1d7'}     0  \n2  {'offer id': '2906b810c7d4411798c6938adc9daaa5'}     0  \n3  {'offer id': 'fafdcd668e3743c1bb461111dcafc2a4'}     0  \n4  {'offer id': '4d5c57ea9a6940dd891ad53e9dbe8da0'}     0  ",
      "text/html": "<div>\n<style scoped>\n    .dataframe tbody tr th:only-of-type {\n        vertical-align: middle;\n    }\n\n    .dataframe tbody tr th {\n        vertical-align: top;\n    }\n\n    .dataframe thead th {\n        text-align: right;\n    }\n</style>\n<table border=\"1\" class=\"dataframe\">\n  <thead>\n    <tr style=\"text-align: right;\">\n      <th></th>\n      <th>person</th>\n      <th>event</th>\n      <th>value</th>\n      <th>time</th>\n    </tr>\n  </thead>\n  <tbody>\n    <tr>\n      <th>0</th>\n      <td>78afa995795e4d85b5d9ceeca43f5fef</td>\n      <td>offer received</td>\n      <td>{'offer id': '9b98b8c7a33c4b65b9aebfe6a799e6d9'}</td>\n      <td>0</td>\n    </tr>\n    <tr>\n      <th>1</th>\n      <td>a03223e636434f42ac4c3df47e8bac43</td>\n      <td>offer received</td>\n      <td>{'offer id': '0b1e1539f2cc45b7b9fa7c272da2e1d7'}</td>\n      <td>0</td>\n    </tr>\n    <tr>\n      <th>2</th>\n      <td>e2127556f4f64592b11af22de27a7932</td>\n      <td>offer received</td>\n      <td>{'offer id': '2906b810c7d4411798c6938adc9daaa5'}</td>\n      <td>0</td>\n    </tr>\n    <tr>\n      <th>3</th>\n      <td>8ec6ce2a7e7949b1bf142def7d0e0586</td>\n      <td>offer received</td>\n      <td>{'offer id': 'fafdcd668e3743c1bb461111dcafc2a4'}</td>\n      <td>0</td>\n    </tr>\n    <tr>\n      <th>4</th>\n      <td>68617ca6246f4fbc85e91a2a49552598</td>\n      <td>offer received</td>\n      <td>{'offer id': '4d5c57ea9a6940dd891ad53e9dbe8da0'}</td>\n      <td>0</td>\n    </tr>\n  </tbody>\n</table>\n</div>"
     },
     "metadata": {},
     "execution_count": 13
    }
   ],
   "source": [
    "transcript.head()"
   ]
  },
  {
   "cell_type": "code",
   "execution_count": 14,
   "metadata": {
    "pycharm": {
     "name": "#%%\n"
    }
   },
   "outputs": [
    {
     "output_type": "stream",
     "name": "stdout",
     "text": "The shape of Transcript data is (306534, 4)\n\nNull values statistics is: \nperson    0\nevent     0\nvalue     0\ntime      0\ndtype: int64\n\nThere are 17000 unique ids.\n"
    }
   ],
   "source": [
    "print(f'The shape of Transcript data is {transcript.shape}\\n')\n",
    "print(f'Null values statistics is: \\n{transcript.isnull().sum()}\\n')\n",
    "print(f'There are {transcript.person.nunique()} unique ids.')"
   ]
  },
  {
   "cell_type": "markdown",
   "metadata": {},
   "source": [
    "#### Distributions"
   ]
  },
  {
   "cell_type": "code",
   "execution_count": 15,
   "metadata": {
    "pycharm": {
     "name": "#%%\n"
    }
   },
   "outputs": [
    {
     "output_type": "execute_result",
     "data": {
      "text/plain": "Text(0.5, 1.0, 'Event Distribution')"
     },
     "metadata": {},
     "execution_count": 15
    },
    {
     "output_type": "display_data",
     "data": {
      "text/plain": "<Figure size 432x288 with 1 Axes>",
      "image/svg+xml": "<?xml version=\"1.0\" encoding=\"utf-8\" standalone=\"no\"?>\n<!DOCTYPE svg PUBLIC \"-//W3C//DTD SVG 1.1//EN\"\n  \"http://www.w3.org/Graphics/SVG/1.1/DTD/svg11.dtd\">\n<!-- Created with matplotlib (https://matplotlib.org/) -->\n<svg height=\"263.63625pt\" version=\"1.1\" viewBox=\"0 0 394.375 263.63625\" width=\"394.375pt\" xmlns=\"http://www.w3.org/2000/svg\" xmlns:xlink=\"http://www.w3.org/1999/xlink\">\n <defs>\n  <style type=\"text/css\">\n*{stroke-linecap:butt;stroke-linejoin:round;}\n  </style>\n </defs>\n <g id=\"figure_1\">\n  <g id=\"patch_1\">\n   <path d=\"M 0 263.63625 \nL 394.375 263.63625 \nL 394.375 0 \nL 0 0 \nz\n\" style=\"fill:none;\"/>\n  </g>\n  <g id=\"axes_1\">\n   <g id=\"patch_2\">\n    <path d=\"M 52.375 239.758125 \nL 387.175 239.758125 \nL 387.175 22.318125 \nL 52.375 22.318125 \nz\n\" style=\"fill:#ffffff;\"/>\n   </g>\n   <g id=\"patch_3\">\n    <path clip-path=\"url(#p9dda80a07b)\" d=\"M 67.593182 239.758125 \nL 131.669737 239.758125 \nL 131.669737 189.714361 \nL 67.593182 189.714361 \nz\n\" style=\"fill:#1f77b4;\"/>\n   </g>\n   <g id=\"patch_4\">\n    <path clip-path=\"url(#p9dda80a07b)\" d=\"M 147.688876 239.758125 \nL 211.765431 239.758125 \nL 211.765431 126.080284 \nL 147.688876 126.080284 \nz\n\" style=\"fill:#1f77b4;\"/>\n   </g>\n   <g id=\"patch_5\">\n    <path clip-path=\"url(#p9dda80a07b)\" d=\"M 227.784569 239.758125 \nL 291.861124 239.758125 \nL 291.861124 153.728872 \nL 227.784569 153.728872 \nz\n\" style=\"fill:#1f77b4;\"/>\n   </g>\n   <g id=\"patch_6\">\n    <path clip-path=\"url(#p9dda80a07b)\" d=\"M 307.880263 239.758125 \nL 371.956818 239.758125 \nL 371.956818 32.672411 \nL 307.880263 32.672411 \nz\n\" style=\"fill:#1f77b4;\"/>\n   </g>\n   <g id=\"matplotlib.axis_1\">\n    <g id=\"xtick_1\">\n     <g id=\"line2d_1\">\n      <defs>\n       <path d=\"M 0 0 \nL 0 3.5 \n\" id=\"m24d8ac589d\" style=\"stroke:#000000;stroke-width:0.8;\"/>\n      </defs>\n      <g>\n       <use style=\"stroke:#000000;stroke-width:0.8;\" x=\"99.631459\" xlink:href=\"#m24d8ac589d\" y=\"239.758125\"/>\n      </g>\n     </g>\n     <g id=\"text_1\">\n      <!-- completed -->\n      <defs>\n       <path d=\"M 48.78125 52.59375 \nL 48.78125 44.1875 \nQ 44.96875 46.296875 41.140625 47.34375 \nQ 37.3125 48.390625 33.40625 48.390625 \nQ 24.65625 48.390625 19.8125 42.84375 \nQ 14.984375 37.3125 14.984375 27.296875 \nQ 14.984375 17.28125 19.8125 11.734375 \nQ 24.65625 6.203125 33.40625 6.203125 \nQ 37.3125 6.203125 41.140625 7.25 \nQ 44.96875 8.296875 48.78125 10.40625 \nL 48.78125 2.09375 \nQ 45.015625 0.34375 40.984375 -0.53125 \nQ 36.96875 -1.421875 32.421875 -1.421875 \nQ 20.0625 -1.421875 12.78125 6.34375 \nQ 5.515625 14.109375 5.515625 27.296875 \nQ 5.515625 40.671875 12.859375 48.328125 \nQ 20.21875 56 33.015625 56 \nQ 37.15625 56 41.109375 55.140625 \nQ 45.0625 54.296875 48.78125 52.59375 \nz\n\" id=\"DejaVuSans-99\"/>\n       <path d=\"M 30.609375 48.390625 \nQ 23.390625 48.390625 19.1875 42.75 \nQ 14.984375 37.109375 14.984375 27.296875 \nQ 14.984375 17.484375 19.15625 11.84375 \nQ 23.34375 6.203125 30.609375 6.203125 \nQ 37.796875 6.203125 41.984375 11.859375 \nQ 46.1875 17.53125 46.1875 27.296875 \nQ 46.1875 37.015625 41.984375 42.703125 \nQ 37.796875 48.390625 30.609375 48.390625 \nz\nM 30.609375 56 \nQ 42.328125 56 49.015625 48.375 \nQ 55.71875 40.765625 55.71875 27.296875 \nQ 55.71875 13.875 49.015625 6.21875 \nQ 42.328125 -1.421875 30.609375 -1.421875 \nQ 18.84375 -1.421875 12.171875 6.21875 \nQ 5.515625 13.875 5.515625 27.296875 \nQ 5.515625 40.765625 12.171875 48.375 \nQ 18.84375 56 30.609375 56 \nz\n\" id=\"DejaVuSans-111\"/>\n       <path d=\"M 52 44.1875 \nQ 55.375 50.25 60.0625 53.125 \nQ 64.75 56 71.09375 56 \nQ 79.640625 56 84.28125 50.015625 \nQ 88.921875 44.046875 88.921875 33.015625 \nL 88.921875 0 \nL 79.890625 0 \nL 79.890625 32.71875 \nQ 79.890625 40.578125 77.09375 44.375 \nQ 74.3125 48.1875 68.609375 48.1875 \nQ 61.625 48.1875 57.5625 43.546875 \nQ 53.515625 38.921875 53.515625 30.90625 \nL 53.515625 0 \nL 44.484375 0 \nL 44.484375 32.71875 \nQ 44.484375 40.625 41.703125 44.40625 \nQ 38.921875 48.1875 33.109375 48.1875 \nQ 26.21875 48.1875 22.15625 43.53125 \nQ 18.109375 38.875 18.109375 30.90625 \nL 18.109375 0 \nL 9.078125 0 \nL 9.078125 54.6875 \nL 18.109375 54.6875 \nL 18.109375 46.1875 \nQ 21.1875 51.21875 25.484375 53.609375 \nQ 29.78125 56 35.6875 56 \nQ 41.65625 56 45.828125 52.96875 \nQ 50 49.953125 52 44.1875 \nz\n\" id=\"DejaVuSans-109\"/>\n       <path d=\"M 18.109375 8.203125 \nL 18.109375 -20.796875 \nL 9.078125 -20.796875 \nL 9.078125 54.6875 \nL 18.109375 54.6875 \nL 18.109375 46.390625 \nQ 20.953125 51.265625 25.265625 53.625 \nQ 29.59375 56 35.59375 56 \nQ 45.5625 56 51.78125 48.09375 \nQ 58.015625 40.1875 58.015625 27.296875 \nQ 58.015625 14.40625 51.78125 6.484375 \nQ 45.5625 -1.421875 35.59375 -1.421875 \nQ 29.59375 -1.421875 25.265625 0.953125 \nQ 20.953125 3.328125 18.109375 8.203125 \nz\nM 48.6875 27.296875 \nQ 48.6875 37.203125 44.609375 42.84375 \nQ 40.53125 48.484375 33.40625 48.484375 \nQ 26.265625 48.484375 22.1875 42.84375 \nQ 18.109375 37.203125 18.109375 27.296875 \nQ 18.109375 17.390625 22.1875 11.75 \nQ 26.265625 6.109375 33.40625 6.109375 \nQ 40.53125 6.109375 44.609375 11.75 \nQ 48.6875 17.390625 48.6875 27.296875 \nz\n\" id=\"DejaVuSans-112\"/>\n       <path d=\"M 9.421875 75.984375 \nL 18.40625 75.984375 \nL 18.40625 0 \nL 9.421875 0 \nz\n\" id=\"DejaVuSans-108\"/>\n       <path d=\"M 56.203125 29.59375 \nL 56.203125 25.203125 \nL 14.890625 25.203125 \nQ 15.484375 15.921875 20.484375 11.0625 \nQ 25.484375 6.203125 34.421875 6.203125 \nQ 39.59375 6.203125 44.453125 7.46875 \nQ 49.3125 8.734375 54.109375 11.28125 \nL 54.109375 2.78125 \nQ 49.265625 0.734375 44.1875 -0.34375 \nQ 39.109375 -1.421875 33.890625 -1.421875 \nQ 20.796875 -1.421875 13.15625 6.1875 \nQ 5.515625 13.8125 5.515625 26.8125 \nQ 5.515625 40.234375 12.765625 48.109375 \nQ 20.015625 56 32.328125 56 \nQ 43.359375 56 49.78125 48.890625 \nQ 56.203125 41.796875 56.203125 29.59375 \nz\nM 47.21875 32.234375 \nQ 47.125 39.59375 43.09375 43.984375 \nQ 39.0625 48.390625 32.421875 48.390625 \nQ 24.90625 48.390625 20.390625 44.140625 \nQ 15.875 39.890625 15.1875 32.171875 \nz\n\" id=\"DejaVuSans-101\"/>\n       <path d=\"M 18.3125 70.21875 \nL 18.3125 54.6875 \nL 36.8125 54.6875 \nL 36.8125 47.703125 \nL 18.3125 47.703125 \nL 18.3125 18.015625 \nQ 18.3125 11.328125 20.140625 9.421875 \nQ 21.96875 7.515625 27.59375 7.515625 \nL 36.8125 7.515625 \nL 36.8125 0 \nL 27.59375 0 \nQ 17.1875 0 13.234375 3.875 \nQ 9.28125 7.765625 9.28125 18.015625 \nL 9.28125 47.703125 \nL 2.6875 47.703125 \nL 2.6875 54.6875 \nL 9.28125 54.6875 \nL 9.28125 70.21875 \nz\n\" id=\"DejaVuSans-116\"/>\n       <path d=\"M 45.40625 46.390625 \nL 45.40625 75.984375 \nL 54.390625 75.984375 \nL 54.390625 0 \nL 45.40625 0 \nL 45.40625 8.203125 \nQ 42.578125 3.328125 38.25 0.953125 \nQ 33.9375 -1.421875 27.875 -1.421875 \nQ 17.96875 -1.421875 11.734375 6.484375 \nQ 5.515625 14.40625 5.515625 27.296875 \nQ 5.515625 40.1875 11.734375 48.09375 \nQ 17.96875 56 27.875 56 \nQ 33.9375 56 38.25 53.625 \nQ 42.578125 51.265625 45.40625 46.390625 \nz\nM 14.796875 27.296875 \nQ 14.796875 17.390625 18.875 11.75 \nQ 22.953125 6.109375 30.078125 6.109375 \nQ 37.203125 6.109375 41.296875 11.75 \nQ 45.40625 17.390625 45.40625 27.296875 \nQ 45.40625 37.203125 41.296875 42.84375 \nQ 37.203125 48.484375 30.078125 48.484375 \nQ 22.953125 48.484375 18.875 42.84375 \nQ 14.796875 37.203125 14.796875 27.296875 \nz\n\" id=\"DejaVuSans-100\"/>\n      </defs>\n      <g transform=\"translate(73.101772 254.356563)scale(0.1 -0.1)\">\n       <use xlink:href=\"#DejaVuSans-99\"/>\n       <use x=\"54.980469\" xlink:href=\"#DejaVuSans-111\"/>\n       <use x=\"116.162109\" xlink:href=\"#DejaVuSans-109\"/>\n       <use x=\"213.574219\" xlink:href=\"#DejaVuSans-112\"/>\n       <use x=\"277.050781\" xlink:href=\"#DejaVuSans-108\"/>\n       <use x=\"304.833984\" xlink:href=\"#DejaVuSans-101\"/>\n       <use x=\"366.357422\" xlink:href=\"#DejaVuSans-116\"/>\n       <use x=\"405.566406\" xlink:href=\"#DejaVuSans-101\"/>\n       <use x=\"467.089844\" xlink:href=\"#DejaVuSans-100\"/>\n      </g>\n     </g>\n    </g>\n    <g id=\"xtick_2\">\n     <g id=\"line2d_2\">\n      <g>\n       <use style=\"stroke:#000000;stroke-width:0.8;\" x=\"179.727153\" xlink:href=\"#m24d8ac589d\" y=\"239.758125\"/>\n      </g>\n     </g>\n     <g id=\"text_2\">\n      <!-- received -->\n      <defs>\n       <path d=\"M 41.109375 46.296875 \nQ 39.59375 47.171875 37.8125 47.578125 \nQ 36.03125 48 33.890625 48 \nQ 26.265625 48 22.1875 43.046875 \nQ 18.109375 38.09375 18.109375 28.8125 \nL 18.109375 0 \nL 9.078125 0 \nL 9.078125 54.6875 \nL 18.109375 54.6875 \nL 18.109375 46.1875 \nQ 20.953125 51.171875 25.484375 53.578125 \nQ 30.03125 56 36.53125 56 \nQ 37.453125 56 38.578125 55.875 \nQ 39.703125 55.765625 41.0625 55.515625 \nz\n\" id=\"DejaVuSans-114\"/>\n       <path d=\"M 9.421875 54.6875 \nL 18.40625 54.6875 \nL 18.40625 0 \nL 9.421875 0 \nz\nM 9.421875 75.984375 \nL 18.40625 75.984375 \nL 18.40625 64.59375 \nL 9.421875 64.59375 \nz\n\" id=\"DejaVuSans-105\"/>\n       <path d=\"M 2.984375 54.6875 \nL 12.5 54.6875 \nL 29.59375 8.796875 \nL 46.6875 54.6875 \nL 56.203125 54.6875 \nL 35.6875 0 \nL 23.484375 0 \nz\n\" id=\"DejaVuSans-118\"/>\n      </defs>\n      <g transform=\"translate(158.171684 254.356563)scale(0.1 -0.1)\">\n       <use xlink:href=\"#DejaVuSans-114\"/>\n       <use x=\"41.082031\" xlink:href=\"#DejaVuSans-101\"/>\n       <use x=\"102.605469\" xlink:href=\"#DejaVuSans-99\"/>\n       <use x=\"157.585938\" xlink:href=\"#DejaVuSans-101\"/>\n       <use x=\"219.109375\" xlink:href=\"#DejaVuSans-105\"/>\n       <use x=\"246.892578\" xlink:href=\"#DejaVuSans-118\"/>\n       <use x=\"306.072266\" xlink:href=\"#DejaVuSans-101\"/>\n       <use x=\"367.595703\" xlink:href=\"#DejaVuSans-100\"/>\n      </g>\n     </g>\n    </g>\n    <g id=\"xtick_3\">\n     <g id=\"line2d_3\">\n      <g>\n       <use style=\"stroke:#000000;stroke-width:0.8;\" x=\"259.822847\" xlink:href=\"#m24d8ac589d\" y=\"239.758125\"/>\n      </g>\n     </g>\n     <g id=\"text_3\">\n      <!-- viewed -->\n      <defs>\n       <path d=\"M 4.203125 54.6875 \nL 13.1875 54.6875 \nL 24.421875 12.015625 \nL 35.59375 54.6875 \nL 46.1875 54.6875 \nL 57.421875 12.015625 \nL 68.609375 54.6875 \nL 77.59375 54.6875 \nL 63.28125 0 \nL 52.6875 0 \nL 40.921875 44.828125 \nL 29.109375 0 \nL 18.5 0 \nz\n\" id=\"DejaVuSans-119\"/>\n      </defs>\n      <g transform=\"translate(242.058003 254.356563)scale(0.1 -0.1)\">\n       <use xlink:href=\"#DejaVuSans-118\"/>\n       <use x=\"59.179688\" xlink:href=\"#DejaVuSans-105\"/>\n       <use x=\"86.962891\" xlink:href=\"#DejaVuSans-101\"/>\n       <use x=\"148.486328\" xlink:href=\"#DejaVuSans-119\"/>\n       <use x=\"230.273438\" xlink:href=\"#DejaVuSans-101\"/>\n       <use x=\"291.796875\" xlink:href=\"#DejaVuSans-100\"/>\n      </g>\n     </g>\n    </g>\n    <g id=\"xtick_4\">\n     <g id=\"line2d_4\">\n      <g>\n       <use style=\"stroke:#000000;stroke-width:0.8;\" x=\"339.918541\" xlink:href=\"#m24d8ac589d\" y=\"239.758125\"/>\n      </g>\n     </g>\n     <g id=\"text_4\">\n      <!-- transaction -->\n      <defs>\n       <path d=\"M 34.28125 27.484375 \nQ 23.390625 27.484375 19.1875 25 \nQ 14.984375 22.515625 14.984375 16.5 \nQ 14.984375 11.71875 18.140625 8.90625 \nQ 21.296875 6.109375 26.703125 6.109375 \nQ 34.1875 6.109375 38.703125 11.40625 \nQ 43.21875 16.703125 43.21875 25.484375 \nL 43.21875 27.484375 \nz\nM 52.203125 31.203125 \nL 52.203125 0 \nL 43.21875 0 \nL 43.21875 8.296875 \nQ 40.140625 3.328125 35.546875 0.953125 \nQ 30.953125 -1.421875 24.3125 -1.421875 \nQ 15.921875 -1.421875 10.953125 3.296875 \nQ 6 8.015625 6 15.921875 \nQ 6 25.140625 12.171875 29.828125 \nQ 18.359375 34.515625 30.609375 34.515625 \nL 43.21875 34.515625 \nL 43.21875 35.40625 \nQ 43.21875 41.609375 39.140625 45 \nQ 35.0625 48.390625 27.6875 48.390625 \nQ 23 48.390625 18.546875 47.265625 \nQ 14.109375 46.140625 10.015625 43.890625 \nL 10.015625 52.203125 \nQ 14.9375 54.109375 19.578125 55.046875 \nQ 24.21875 56 28.609375 56 \nQ 40.484375 56 46.34375 49.84375 \nQ 52.203125 43.703125 52.203125 31.203125 \nz\n\" id=\"DejaVuSans-97\"/>\n       <path d=\"M 54.890625 33.015625 \nL 54.890625 0 \nL 45.90625 0 \nL 45.90625 32.71875 \nQ 45.90625 40.484375 42.875 44.328125 \nQ 39.84375 48.1875 33.796875 48.1875 \nQ 26.515625 48.1875 22.3125 43.546875 \nQ 18.109375 38.921875 18.109375 30.90625 \nL 18.109375 0 \nL 9.078125 0 \nL 9.078125 54.6875 \nL 18.109375 54.6875 \nL 18.109375 46.1875 \nQ 21.34375 51.125 25.703125 53.5625 \nQ 30.078125 56 35.796875 56 \nQ 45.21875 56 50.046875 50.171875 \nQ 54.890625 44.34375 54.890625 33.015625 \nz\n\" id=\"DejaVuSans-110\"/>\n       <path d=\"M 44.28125 53.078125 \nL 44.28125 44.578125 \nQ 40.484375 46.53125 36.375 47.5 \nQ 32.28125 48.484375 27.875 48.484375 \nQ 21.1875 48.484375 17.84375 46.4375 \nQ 14.5 44.390625 14.5 40.28125 \nQ 14.5 37.15625 16.890625 35.375 \nQ 19.28125 33.59375 26.515625 31.984375 \nL 29.59375 31.296875 \nQ 39.15625 29.25 43.1875 25.515625 \nQ 47.21875 21.78125 47.21875 15.09375 \nQ 47.21875 7.46875 41.1875 3.015625 \nQ 35.15625 -1.421875 24.609375 -1.421875 \nQ 20.21875 -1.421875 15.453125 -0.5625 \nQ 10.6875 0.296875 5.421875 2 \nL 5.421875 11.28125 \nQ 10.40625 8.6875 15.234375 7.390625 \nQ 20.0625 6.109375 24.8125 6.109375 \nQ 31.15625 6.109375 34.5625 8.28125 \nQ 37.984375 10.453125 37.984375 14.40625 \nQ 37.984375 18.0625 35.515625 20.015625 \nQ 33.0625 21.96875 24.703125 23.78125 \nL 21.578125 24.515625 \nQ 13.234375 26.265625 9.515625 29.90625 \nQ 5.8125 33.546875 5.8125 39.890625 \nQ 5.8125 47.609375 11.28125 51.796875 \nQ 16.75 56 26.8125 56 \nQ 31.78125 56 36.171875 55.265625 \nQ 40.578125 54.546875 44.28125 53.078125 \nz\n\" id=\"DejaVuSans-115\"/>\n      </defs>\n      <g transform=\"translate(311.674791 254.356563)scale(0.1 -0.1)\">\n       <use xlink:href=\"#DejaVuSans-116\"/>\n       <use x=\"39.208984\" xlink:href=\"#DejaVuSans-114\"/>\n       <use x=\"80.322266\" xlink:href=\"#DejaVuSans-97\"/>\n       <use x=\"141.601562\" xlink:href=\"#DejaVuSans-110\"/>\n       <use x=\"204.980469\" xlink:href=\"#DejaVuSans-115\"/>\n       <use x=\"257.080078\" xlink:href=\"#DejaVuSans-97\"/>\n       <use x=\"318.359375\" xlink:href=\"#DejaVuSans-99\"/>\n       <use x=\"373.339844\" xlink:href=\"#DejaVuSans-116\"/>\n       <use x=\"412.548828\" xlink:href=\"#DejaVuSans-105\"/>\n       <use x=\"440.332031\" xlink:href=\"#DejaVuSans-111\"/>\n       <use x=\"501.513672\" xlink:href=\"#DejaVuSans-110\"/>\n      </g>\n     </g>\n    </g>\n   </g>\n   <g id=\"matplotlib.axis_2\">\n    <g id=\"ytick_1\">\n     <g id=\"line2d_5\">\n      <defs>\n       <path d=\"M 0 0 \nL -3.5 0 \n\" id=\"m9a43f3f8be\" style=\"stroke:#000000;stroke-width:0.8;\"/>\n      </defs>\n      <g>\n       <use style=\"stroke:#000000;stroke-width:0.8;\" x=\"52.375\" xlink:href=\"#m9a43f3f8be\" y=\"239.758125\"/>\n      </g>\n     </g>\n     <g id=\"text_5\">\n      <!-- 0 -->\n      <defs>\n       <path d=\"M 31.78125 66.40625 \nQ 24.171875 66.40625 20.328125 58.90625 \nQ 16.5 51.421875 16.5 36.375 \nQ 16.5 21.390625 20.328125 13.890625 \nQ 24.171875 6.390625 31.78125 6.390625 \nQ 39.453125 6.390625 43.28125 13.890625 \nQ 47.125 21.390625 47.125 36.375 \nQ 47.125 51.421875 43.28125 58.90625 \nQ 39.453125 66.40625 31.78125 66.40625 \nz\nM 31.78125 74.21875 \nQ 44.046875 74.21875 50.515625 64.515625 \nQ 56.984375 54.828125 56.984375 36.375 \nQ 56.984375 17.96875 50.515625 8.265625 \nQ 44.046875 -1.421875 31.78125 -1.421875 \nQ 19.53125 -1.421875 13.0625 8.265625 \nQ 6.59375 17.96875 6.59375 36.375 \nQ 6.59375 54.828125 13.0625 64.515625 \nQ 19.53125 74.21875 31.78125 74.21875 \nz\n\" id=\"DejaVuSans-48\"/>\n      </defs>\n      <g transform=\"translate(39.0125 243.557344)scale(0.1 -0.1)\">\n       <use xlink:href=\"#DejaVuSans-48\"/>\n      </g>\n     </g>\n    </g>\n    <g id=\"ytick_2\">\n     <g id=\"line2d_6\">\n      <g>\n       <use style=\"stroke:#000000;stroke-width:0.8;\" x=\"52.375\" xlink:href=\"#m9a43f3f8be\" y=\"209.951541\"/>\n      </g>\n     </g>\n     <g id=\"text_6\">\n      <!-- 20000 -->\n      <defs>\n       <path d=\"M 19.1875 8.296875 \nL 53.609375 8.296875 \nL 53.609375 0 \nL 7.328125 0 \nL 7.328125 8.296875 \nQ 12.9375 14.109375 22.625 23.890625 \nQ 32.328125 33.6875 34.8125 36.53125 \nQ 39.546875 41.84375 41.421875 45.53125 \nQ 43.3125 49.21875 43.3125 52.78125 \nQ 43.3125 58.59375 39.234375 62.25 \nQ 35.15625 65.921875 28.609375 65.921875 \nQ 23.96875 65.921875 18.8125 64.3125 \nQ 13.671875 62.703125 7.8125 59.421875 \nL 7.8125 69.390625 \nQ 13.765625 71.78125 18.9375 73 \nQ 24.125 74.21875 28.421875 74.21875 \nQ 39.75 74.21875 46.484375 68.546875 \nQ 53.21875 62.890625 53.21875 53.421875 \nQ 53.21875 48.921875 51.53125 44.890625 \nQ 49.859375 40.875 45.40625 35.40625 \nQ 44.1875 33.984375 37.640625 27.21875 \nQ 31.109375 20.453125 19.1875 8.296875 \nz\n\" id=\"DejaVuSans-50\"/>\n      </defs>\n      <g transform=\"translate(13.5625 213.75076)scale(0.1 -0.1)\">\n       <use xlink:href=\"#DejaVuSans-50\"/>\n       <use x=\"63.623047\" xlink:href=\"#DejaVuSans-48\"/>\n       <use x=\"127.246094\" xlink:href=\"#DejaVuSans-48\"/>\n       <use x=\"190.869141\" xlink:href=\"#DejaVuSans-48\"/>\n       <use x=\"254.492188\" xlink:href=\"#DejaVuSans-48\"/>\n      </g>\n     </g>\n    </g>\n    <g id=\"ytick_3\">\n     <g id=\"line2d_7\">\n      <g>\n       <use style=\"stroke:#000000;stroke-width:0.8;\" x=\"52.375\" xlink:href=\"#m9a43f3f8be\" y=\"180.144957\"/>\n      </g>\n     </g>\n     <g id=\"text_7\">\n      <!-- 40000 -->\n      <defs>\n       <path d=\"M 37.796875 64.3125 \nL 12.890625 25.390625 \nL 37.796875 25.390625 \nz\nM 35.203125 72.90625 \nL 47.609375 72.90625 \nL 47.609375 25.390625 \nL 58.015625 25.390625 \nL 58.015625 17.1875 \nL 47.609375 17.1875 \nL 47.609375 0 \nL 37.796875 0 \nL 37.796875 17.1875 \nL 4.890625 17.1875 \nL 4.890625 26.703125 \nz\n\" id=\"DejaVuSans-52\"/>\n      </defs>\n      <g transform=\"translate(13.5625 183.944175)scale(0.1 -0.1)\">\n       <use xlink:href=\"#DejaVuSans-52\"/>\n       <use x=\"63.623047\" xlink:href=\"#DejaVuSans-48\"/>\n       <use x=\"127.246094\" xlink:href=\"#DejaVuSans-48\"/>\n       <use x=\"190.869141\" xlink:href=\"#DejaVuSans-48\"/>\n       <use x=\"254.492188\" xlink:href=\"#DejaVuSans-48\"/>\n      </g>\n     </g>\n    </g>\n    <g id=\"ytick_4\">\n     <g id=\"line2d_8\">\n      <g>\n       <use style=\"stroke:#000000;stroke-width:0.8;\" x=\"52.375\" xlink:href=\"#m9a43f3f8be\" y=\"150.338373\"/>\n      </g>\n     </g>\n     <g id=\"text_8\">\n      <!-- 60000 -->\n      <defs>\n       <path d=\"M 33.015625 40.375 \nQ 26.375 40.375 22.484375 35.828125 \nQ 18.609375 31.296875 18.609375 23.390625 \nQ 18.609375 15.53125 22.484375 10.953125 \nQ 26.375 6.390625 33.015625 6.390625 \nQ 39.65625 6.390625 43.53125 10.953125 \nQ 47.40625 15.53125 47.40625 23.390625 \nQ 47.40625 31.296875 43.53125 35.828125 \nQ 39.65625 40.375 33.015625 40.375 \nz\nM 52.59375 71.296875 \nL 52.59375 62.3125 \nQ 48.875 64.0625 45.09375 64.984375 \nQ 41.3125 65.921875 37.59375 65.921875 \nQ 27.828125 65.921875 22.671875 59.328125 \nQ 17.53125 52.734375 16.796875 39.40625 \nQ 19.671875 43.65625 24.015625 45.921875 \nQ 28.375 48.1875 33.59375 48.1875 \nQ 44.578125 48.1875 50.953125 41.515625 \nQ 57.328125 34.859375 57.328125 23.390625 \nQ 57.328125 12.15625 50.6875 5.359375 \nQ 44.046875 -1.421875 33.015625 -1.421875 \nQ 20.359375 -1.421875 13.671875 8.265625 \nQ 6.984375 17.96875 6.984375 36.375 \nQ 6.984375 53.65625 15.1875 63.9375 \nQ 23.390625 74.21875 37.203125 74.21875 \nQ 40.921875 74.21875 44.703125 73.484375 \nQ 48.484375 72.75 52.59375 71.296875 \nz\n\" id=\"DejaVuSans-54\"/>\n      </defs>\n      <g transform=\"translate(13.5625 154.137591)scale(0.1 -0.1)\">\n       <use xlink:href=\"#DejaVuSans-54\"/>\n       <use x=\"63.623047\" xlink:href=\"#DejaVuSans-48\"/>\n       <use x=\"127.246094\" xlink:href=\"#DejaVuSans-48\"/>\n       <use x=\"190.869141\" xlink:href=\"#DejaVuSans-48\"/>\n       <use x=\"254.492188\" xlink:href=\"#DejaVuSans-48\"/>\n      </g>\n     </g>\n    </g>\n    <g id=\"ytick_5\">\n     <g id=\"line2d_9\">\n      <g>\n       <use style=\"stroke:#000000;stroke-width:0.8;\" x=\"52.375\" xlink:href=\"#m9a43f3f8be\" y=\"120.531788\"/>\n      </g>\n     </g>\n     <g id=\"text_9\">\n      <!-- 80000 -->\n      <defs>\n       <path d=\"M 31.78125 34.625 \nQ 24.75 34.625 20.71875 30.859375 \nQ 16.703125 27.09375 16.703125 20.515625 \nQ 16.703125 13.921875 20.71875 10.15625 \nQ 24.75 6.390625 31.78125 6.390625 \nQ 38.8125 6.390625 42.859375 10.171875 \nQ 46.921875 13.96875 46.921875 20.515625 \nQ 46.921875 27.09375 42.890625 30.859375 \nQ 38.875 34.625 31.78125 34.625 \nz\nM 21.921875 38.8125 \nQ 15.578125 40.375 12.03125 44.71875 \nQ 8.5 49.078125 8.5 55.328125 \nQ 8.5 64.0625 14.71875 69.140625 \nQ 20.953125 74.21875 31.78125 74.21875 \nQ 42.671875 74.21875 48.875 69.140625 \nQ 55.078125 64.0625 55.078125 55.328125 \nQ 55.078125 49.078125 51.53125 44.71875 \nQ 48 40.375 41.703125 38.8125 \nQ 48.828125 37.15625 52.796875 32.3125 \nQ 56.78125 27.484375 56.78125 20.515625 \nQ 56.78125 9.90625 50.3125 4.234375 \nQ 43.84375 -1.421875 31.78125 -1.421875 \nQ 19.734375 -1.421875 13.25 4.234375 \nQ 6.78125 9.90625 6.78125 20.515625 \nQ 6.78125 27.484375 10.78125 32.3125 \nQ 14.796875 37.15625 21.921875 38.8125 \nz\nM 18.3125 54.390625 \nQ 18.3125 48.734375 21.84375 45.5625 \nQ 25.390625 42.390625 31.78125 42.390625 \nQ 38.140625 42.390625 41.71875 45.5625 \nQ 45.3125 48.734375 45.3125 54.390625 \nQ 45.3125 60.0625 41.71875 63.234375 \nQ 38.140625 66.40625 31.78125 66.40625 \nQ 25.390625 66.40625 21.84375 63.234375 \nQ 18.3125 60.0625 18.3125 54.390625 \nz\n\" id=\"DejaVuSans-56\"/>\n      </defs>\n      <g transform=\"translate(13.5625 124.331007)scale(0.1 -0.1)\">\n       <use xlink:href=\"#DejaVuSans-56\"/>\n       <use x=\"63.623047\" xlink:href=\"#DejaVuSans-48\"/>\n       <use x=\"127.246094\" xlink:href=\"#DejaVuSans-48\"/>\n       <use x=\"190.869141\" xlink:href=\"#DejaVuSans-48\"/>\n       <use x=\"254.492188\" xlink:href=\"#DejaVuSans-48\"/>\n      </g>\n     </g>\n    </g>\n    <g id=\"ytick_6\">\n     <g id=\"line2d_10\">\n      <g>\n       <use style=\"stroke:#000000;stroke-width:0.8;\" x=\"52.375\" xlink:href=\"#m9a43f3f8be\" y=\"90.725204\"/>\n      </g>\n     </g>\n     <g id=\"text_10\">\n      <!-- 100000 -->\n      <defs>\n       <path d=\"M 12.40625 8.296875 \nL 28.515625 8.296875 \nL 28.515625 63.921875 \nL 10.984375 60.40625 \nL 10.984375 69.390625 \nL 28.421875 72.90625 \nL 38.28125 72.90625 \nL 38.28125 8.296875 \nL 54.390625 8.296875 \nL 54.390625 0 \nL 12.40625 0 \nz\n\" id=\"DejaVuSans-49\"/>\n      </defs>\n      <g transform=\"translate(7.2 94.524423)scale(0.1 -0.1)\">\n       <use xlink:href=\"#DejaVuSans-49\"/>\n       <use x=\"63.623047\" xlink:href=\"#DejaVuSans-48\"/>\n       <use x=\"127.246094\" xlink:href=\"#DejaVuSans-48\"/>\n       <use x=\"190.869141\" xlink:href=\"#DejaVuSans-48\"/>\n       <use x=\"254.492188\" xlink:href=\"#DejaVuSans-48\"/>\n       <use x=\"318.115234\" xlink:href=\"#DejaVuSans-48\"/>\n      </g>\n     </g>\n    </g>\n    <g id=\"ytick_7\">\n     <g id=\"line2d_11\">\n      <g>\n       <use style=\"stroke:#000000;stroke-width:0.8;\" x=\"52.375\" xlink:href=\"#m9a43f3f8be\" y=\"60.91862\"/>\n      </g>\n     </g>\n     <g id=\"text_11\">\n      <!-- 120000 -->\n      <g transform=\"translate(7.2 64.717839)scale(0.1 -0.1)\">\n       <use xlink:href=\"#DejaVuSans-49\"/>\n       <use x=\"63.623047\" xlink:href=\"#DejaVuSans-50\"/>\n       <use x=\"127.246094\" xlink:href=\"#DejaVuSans-48\"/>\n       <use x=\"190.869141\" xlink:href=\"#DejaVuSans-48\"/>\n       <use x=\"254.492188\" xlink:href=\"#DejaVuSans-48\"/>\n       <use x=\"318.115234\" xlink:href=\"#DejaVuSans-48\"/>\n      </g>\n     </g>\n    </g>\n    <g id=\"ytick_8\">\n     <g id=\"line2d_12\">\n      <g>\n       <use style=\"stroke:#000000;stroke-width:0.8;\" x=\"52.375\" xlink:href=\"#m9a43f3f8be\" y=\"31.112036\"/>\n      </g>\n     </g>\n     <g id=\"text_12\">\n      <!-- 140000 -->\n      <g transform=\"translate(7.2 34.911255)scale(0.1 -0.1)\">\n       <use xlink:href=\"#DejaVuSans-49\"/>\n       <use x=\"63.623047\" xlink:href=\"#DejaVuSans-52\"/>\n       <use x=\"127.246094\" xlink:href=\"#DejaVuSans-48\"/>\n       <use x=\"190.869141\" xlink:href=\"#DejaVuSans-48\"/>\n       <use x=\"254.492188\" xlink:href=\"#DejaVuSans-48\"/>\n       <use x=\"318.115234\" xlink:href=\"#DejaVuSans-48\"/>\n      </g>\n     </g>\n    </g>\n   </g>\n   <g id=\"patch_7\">\n    <path d=\"M 52.375 239.758125 \nL 52.375 22.318125 \n\" style=\"fill:none;stroke:#000000;stroke-linecap:square;stroke-linejoin:miter;stroke-width:0.8;\"/>\n   </g>\n   <g id=\"patch_8\">\n    <path d=\"M 387.175 239.758125 \nL 387.175 22.318125 \n\" style=\"fill:none;stroke:#000000;stroke-linecap:square;stroke-linejoin:miter;stroke-width:0.8;\"/>\n   </g>\n   <g id=\"patch_9\">\n    <path d=\"M 52.375 239.758125 \nL 387.175 239.758125 \n\" style=\"fill:none;stroke:#000000;stroke-linecap:square;stroke-linejoin:miter;stroke-width:0.8;\"/>\n   </g>\n   <g id=\"patch_10\">\n    <path d=\"M 52.375 22.318125 \nL 387.175 22.318125 \n\" style=\"fill:none;stroke:#000000;stroke-linecap:square;stroke-linejoin:miter;stroke-width:0.8;\"/>\n   </g>\n   <g id=\"text_13\">\n    <!-- Event Distribution -->\n    <defs>\n     <path d=\"M 9.8125 72.90625 \nL 55.90625 72.90625 \nL 55.90625 64.59375 \nL 19.671875 64.59375 \nL 19.671875 43.015625 \nL 54.390625 43.015625 \nL 54.390625 34.71875 \nL 19.671875 34.71875 \nL 19.671875 8.296875 \nL 56.78125 8.296875 \nL 56.78125 0 \nL 9.8125 0 \nz\n\" id=\"DejaVuSans-69\"/>\n     <path id=\"DejaVuSans-32\"/>\n     <path d=\"M 19.671875 64.796875 \nL 19.671875 8.109375 \nL 31.59375 8.109375 \nQ 46.6875 8.109375 53.6875 14.9375 \nQ 60.6875 21.78125 60.6875 36.53125 \nQ 60.6875 51.171875 53.6875 57.984375 \nQ 46.6875 64.796875 31.59375 64.796875 \nz\nM 9.8125 72.90625 \nL 30.078125 72.90625 \nQ 51.265625 72.90625 61.171875 64.09375 \nQ 71.09375 55.28125 71.09375 36.53125 \nQ 71.09375 17.671875 61.125 8.828125 \nQ 51.171875 0 30.078125 0 \nL 9.8125 0 \nz\n\" id=\"DejaVuSans-68\"/>\n     <path d=\"M 48.6875 27.296875 \nQ 48.6875 37.203125 44.609375 42.84375 \nQ 40.53125 48.484375 33.40625 48.484375 \nQ 26.265625 48.484375 22.1875 42.84375 \nQ 18.109375 37.203125 18.109375 27.296875 \nQ 18.109375 17.390625 22.1875 11.75 \nQ 26.265625 6.109375 33.40625 6.109375 \nQ 40.53125 6.109375 44.609375 11.75 \nQ 48.6875 17.390625 48.6875 27.296875 \nz\nM 18.109375 46.390625 \nQ 20.953125 51.265625 25.265625 53.625 \nQ 29.59375 56 35.59375 56 \nQ 45.5625 56 51.78125 48.09375 \nQ 58.015625 40.1875 58.015625 27.296875 \nQ 58.015625 14.40625 51.78125 6.484375 \nQ 45.5625 -1.421875 35.59375 -1.421875 \nQ 29.59375 -1.421875 25.265625 0.953125 \nQ 20.953125 3.328125 18.109375 8.203125 \nL 18.109375 0 \nL 9.078125 0 \nL 9.078125 75.984375 \nL 18.109375 75.984375 \nz\n\" id=\"DejaVuSans-98\"/>\n     <path d=\"M 8.5 21.578125 \nL 8.5 54.6875 \nL 17.484375 54.6875 \nL 17.484375 21.921875 \nQ 17.484375 14.15625 20.5 10.265625 \nQ 23.53125 6.390625 29.59375 6.390625 \nQ 36.859375 6.390625 41.078125 11.03125 \nQ 45.3125 15.671875 45.3125 23.6875 \nL 45.3125 54.6875 \nL 54.296875 54.6875 \nL 54.296875 0 \nL 45.3125 0 \nL 45.3125 8.40625 \nQ 42.046875 3.421875 37.71875 1 \nQ 33.40625 -1.421875 27.6875 -1.421875 \nQ 18.265625 -1.421875 13.375 4.4375 \nQ 8.5 10.296875 8.5 21.578125 \nz\nM 31.109375 56 \nz\n\" id=\"DejaVuSans-117\"/>\n    </defs>\n    <g transform=\"translate(165.676563 16.318125)scale(0.12 -0.12)\">\n     <use xlink:href=\"#DejaVuSans-69\"/>\n     <use x=\"63.183594\" xlink:href=\"#DejaVuSans-118\"/>\n     <use x=\"122.363281\" xlink:href=\"#DejaVuSans-101\"/>\n     <use x=\"183.886719\" xlink:href=\"#DejaVuSans-110\"/>\n     <use x=\"247.265625\" xlink:href=\"#DejaVuSans-116\"/>\n     <use x=\"286.474609\" xlink:href=\"#DejaVuSans-32\"/>\n     <use x=\"318.261719\" xlink:href=\"#DejaVuSans-68\"/>\n     <use x=\"395.263672\" xlink:href=\"#DejaVuSans-105\"/>\n     <use x=\"423.046875\" xlink:href=\"#DejaVuSans-115\"/>\n     <use x=\"475.146484\" xlink:href=\"#DejaVuSans-116\"/>\n     <use x=\"514.355469\" xlink:href=\"#DejaVuSans-114\"/>\n     <use x=\"555.46875\" xlink:href=\"#DejaVuSans-105\"/>\n     <use x=\"583.251953\" xlink:href=\"#DejaVuSans-98\"/>\n     <use x=\"646.728516\" xlink:href=\"#DejaVuSans-117\"/>\n     <use x=\"710.107422\" xlink:href=\"#DejaVuSans-116\"/>\n     <use x=\"749.316406\" xlink:href=\"#DejaVuSans-105\"/>\n     <use x=\"777.099609\" xlink:href=\"#DejaVuSans-111\"/>\n     <use x=\"838.28125\" xlink:href=\"#DejaVuSans-110\"/>\n    </g>\n   </g>\n  </g>\n </g>\n <defs>\n  <clipPath id=\"p9dda80a07b\">\n   <rect height=\"217.44\" width=\"334.8\" x=\"52.375\" y=\"22.318125\"/>\n  </clipPath>\n </defs>\n</svg>\n",
      "image/png": "[encoded data removed]"
     },
     "metadata": {
      "needs_background": "light"
     }
    }
   ],
   "source": [
    "plt.bar(['completed', 'received', 'viewed', 'transaction'], \n",
    "        transcript.groupby('event').person.count())\n",
    "\n",
    "plt.title('Event Distribution')"
   ]
  },
  {
   "cell_type": "markdown",
   "metadata": {},
   "source": [
    "---\n",
    "\n",
    "## Preprocessing\n",
    "\n",
    "### 1. Merge `portfolio` and `transcript`\n",
    "\n",
    "To find out the connection between transaction and offer, we need to combine the information in `portfolio` and `transcript`, and then create subsets of different offer-event combination for later feature engineering and modeling.\n",
    "\n",
    "Before the merge, it's better to process the `value` column to extract offer ids."
   ]
  },
  {
   "cell_type": "code",
   "execution_count": 16,
   "metadata": {
    "pycharm": {
     "name": "#%%\n"
    }
   },
   "outputs": [],
   "source": [
    "transcript = pd.concat([transcript, transcript['value'].apply(pd.Series)], \n",
    "                       axis=1)\n",
    "\n",
    "transcript['clean_id'] = np.where(transcript['offer id'].isnull() & \n",
    "                                  transcript['offer_id'].notnull(), \n",
    "                                  transcript['offer_id'],\n",
    "                                  transcript['offer id'])\n",
    "\n",
    "# drop the original id columns\n",
    "transcript.drop(['offer id', 'offer_id'], axis=1, inplace=True)\n",
    "\n",
    "# rename the offer_id column\n",
    "transcript.rename(columns={'clean_id': 'offer_id'}, inplace=True)\n",
    "\n",
    "transcript = transcript.merge(portfolio,\n",
    "                              how='left',\n",
    "                              left_on='offer_id',\n",
    "                              right_on='id')"
   ]
  },
  {
   "cell_type": "code",
   "execution_count": 17,
   "metadata": {
    "pycharm": {
     "name": "#%%\n"
    }
   },
   "outputs": [
    {
     "output_type": "execute_result",
     "data": {
      "text/plain": "Text(0.5, 1.0, 'Number of Offers in Transcripts by Type')"
     },
     "metadata": {},
     "execution_count": 17
    },
    {
     "output_type": "display_data",
     "data": {
      "text/plain": "<Figure size 864x576 with 1 Axes>",
      "image/svg+xml": "<?xml version=\"1.0\" encoding=\"utf-8\" standalone=\"no\"?>\n<!DOCTYPE svg PUBLIC \"-//W3C//DTD SVG 1.1//EN\"\n  \"http://www.w3.org/Graphics/SVG/1.1/DTD/svg11.dtd\">\n<!-- Created with matplotlib (https://matplotlib.org/) -->\n<svg height=\"481.07625pt\" version=\"1.1\" viewBox=\"0 0 722.8125 481.07625\" width=\"722.8125pt\" xmlns=\"http://www.w3.org/2000/svg\" xmlns:xlink=\"http://www.w3.org/1999/xlink\">\n <defs>\n  <style type=\"text/css\">\n*{stroke-linecap:butt;stroke-linejoin:round;}\n  </style>\n </defs>\n <g id=\"figure_1\">\n  <g id=\"patch_1\">\n   <path d=\"M 0 481.07625 \nL 722.8125 481.07625 \nL 722.8125 0 \nL 0 0 \nz\n\" style=\"fill:none;\"/>\n  </g>\n  <g id=\"axes_1\">\n   <g id=\"patch_2\">\n    <path d=\"M 46.0125 457.198125 \nL 715.6125 457.198125 \nL 715.6125 22.318125 \nL 46.0125 22.318125 \nz\n\" style=\"fill:#ffffff;\"/>\n   </g>\n   <g id=\"patch_3\">\n    <path clip-path=\"url(#pbcb1695d50)\" d=\"M 76.448864 457.198125 \nL 198.194318 457.198125 \nL 198.194318 43.623348 \nL 76.448864 43.623348 \nz\n\" style=\"fill:#4169e1;\"/>\n   </g>\n   <g id=\"patch_4\">\n    <path clip-path=\"url(#pbcb1695d50)\" d=\"M 319.939773 457.198125 \nL 441.685227 457.198125 \nL 441.685227 43.026696 \nL 319.939773 43.026696 \nz\n\" style=\"fill:#4169e1;\"/>\n   </g>\n   <g id=\"patch_5\">\n    <path clip-path=\"url(#pbcb1695d50)\" d=\"M 563.430682 457.198125 \nL 685.176136 457.198125 \nL 685.176136 250.607361 \nL 563.430682 250.607361 \nz\n\" style=\"fill:#4169e1;\"/>\n   </g>\n   <g id=\"patch_6\">\n    <path clip-path=\"url(#pbcb1695d50)\" d=\"M 76.448864 457.198125 \nL 198.194318 457.198125 \nL 198.194318 112.102729 \nL 76.448864 112.102729 \nz\n\" style=\"fill:#00bfff;\"/>\n   </g>\n   <g id=\"patch_7\">\n    <path clip-path=\"url(#pbcb1695d50)\" d=\"M 319.939773 457.198125 \nL 441.685227 457.198125 \nL 441.685227 166.398063 \nL 319.939773 166.398063 \nz\n\" style=\"fill:#00bfff;\"/>\n   </g>\n   <g id=\"patch_8\">\n    <path clip-path=\"url(#pbcb1695d50)\" d=\"M 563.430682 457.198125 \nL 685.176136 457.198125 \nL 685.176136 310.326804 \nL 563.430682 310.326804 \nz\n\" style=\"fill:#00bfff;\"/>\n   </g>\n   <g id=\"patch_9\">\n    <path clip-path=\"url(#pbcb1695d50)\" d=\"M 76.448864 457.198125 \nL 198.194318 457.198125 \nL 198.194318 244.722202 \nL 76.448864 244.722202 \nz\n\" style=\"fill:#00ffff;\"/>\n   </g>\n   <g id=\"patch_10\">\n    <path clip-path=\"url(#pbcb1695d50)\" d=\"M 319.939773 457.198125 \nL 441.685227 457.198125 \nL 441.685227 214.33363 \nL 319.939773 214.33363 \nz\n\" style=\"fill:#00ffff;\"/>\n   </g>\n   <g id=\"patch_11\">\n    <path clip-path=\"url(#pbcb1695d50)\" d=\"M 563.430682 457.198125 \nL 685.176136 457.198125 \nL 685.176136 457.198125 \nL 563.430682 457.198125 \nz\n\" style=\"fill:#00ffff;\"/>\n   </g>\n   <g id=\"matplotlib.axis_1\">\n    <g id=\"xtick_1\">\n     <g id=\"line2d_1\">\n      <defs>\n       <path d=\"M 0 0 \nL 0 3.5 \n\" id=\"med7a8f967d\" style=\"stroke:#000000;stroke-width:0.8;\"/>\n      </defs>\n      <g>\n       <use style=\"stroke:#000000;stroke-width:0.8;\" x=\"137.321591\" xlink:href=\"#med7a8f967d\" y=\"457.198125\"/>\n      </g>\n     </g>\n     <g id=\"text_1\">\n      <!-- bogo -->\n      <defs>\n       <path d=\"M 48.6875 27.296875 \nQ 48.6875 37.203125 44.609375 42.84375 \nQ 40.53125 48.484375 33.40625 48.484375 \nQ 26.265625 48.484375 22.1875 42.84375 \nQ 18.109375 37.203125 18.109375 27.296875 \nQ 18.109375 17.390625 22.1875 11.75 \nQ 26.265625 6.109375 33.40625 6.109375 \nQ 40.53125 6.109375 44.609375 11.75 \nQ 48.6875 17.390625 48.6875 27.296875 \nz\nM 18.109375 46.390625 \nQ 20.953125 51.265625 25.265625 53.625 \nQ 29.59375 56 35.59375 56 \nQ 45.5625 56 51.78125 48.09375 \nQ 58.015625 40.1875 58.015625 27.296875 \nQ 58.015625 14.40625 51.78125 6.484375 \nQ 45.5625 -1.421875 35.59375 -1.421875 \nQ 29.59375 -1.421875 25.265625 0.953125 \nQ 20.953125 3.328125 18.109375 8.203125 \nL 18.109375 0 \nL 9.078125 0 \nL 9.078125 75.984375 \nL 18.109375 75.984375 \nz\n\" id=\"DejaVuSans-98\"/>\n       <path d=\"M 30.609375 48.390625 \nQ 23.390625 48.390625 19.1875 42.75 \nQ 14.984375 37.109375 14.984375 27.296875 \nQ 14.984375 17.484375 19.15625 11.84375 \nQ 23.34375 6.203125 30.609375 6.203125 \nQ 37.796875 6.203125 41.984375 11.859375 \nQ 46.1875 17.53125 46.1875 27.296875 \nQ 46.1875 37.015625 41.984375 42.703125 \nQ 37.796875 48.390625 30.609375 48.390625 \nz\nM 30.609375 56 \nQ 42.328125 56 49.015625 48.375 \nQ 55.71875 40.765625 55.71875 27.296875 \nQ 55.71875 13.875 49.015625 6.21875 \nQ 42.328125 -1.421875 30.609375 -1.421875 \nQ 18.84375 -1.421875 12.171875 6.21875 \nQ 5.515625 13.875 5.515625 27.296875 \nQ 5.515625 40.765625 12.171875 48.375 \nQ 18.84375 56 30.609375 56 \nz\n\" id=\"DejaVuSans-111\"/>\n       <path d=\"M 45.40625 27.984375 \nQ 45.40625 37.75 41.375 43.109375 \nQ 37.359375 48.484375 30.078125 48.484375 \nQ 22.859375 48.484375 18.828125 43.109375 \nQ 14.796875 37.75 14.796875 27.984375 \nQ 14.796875 18.265625 18.828125 12.890625 \nQ 22.859375 7.515625 30.078125 7.515625 \nQ 37.359375 7.515625 41.375 12.890625 \nQ 45.40625 18.265625 45.40625 27.984375 \nz\nM 54.390625 6.78125 \nQ 54.390625 -7.171875 48.1875 -13.984375 \nQ 42 -20.796875 29.203125 -20.796875 \nQ 24.46875 -20.796875 20.265625 -20.09375 \nQ 16.0625 -19.390625 12.109375 -17.921875 \nL 12.109375 -9.1875 \nQ 16.0625 -11.328125 19.921875 -12.34375 \nQ 23.78125 -13.375 27.78125 -13.375 \nQ 36.625 -13.375 41.015625 -8.765625 \nQ 45.40625 -4.15625 45.40625 5.171875 \nL 45.40625 9.625 \nQ 42.625 4.78125 38.28125 2.390625 \nQ 33.9375 0 27.875 0 \nQ 17.828125 0 11.671875 7.65625 \nQ 5.515625 15.328125 5.515625 27.984375 \nQ 5.515625 40.671875 11.671875 48.328125 \nQ 17.828125 56 27.875 56 \nQ 33.9375 56 38.28125 53.609375 \nQ 42.625 51.21875 45.40625 46.390625 \nL 45.40625 54.6875 \nL 54.390625 54.6875 \nz\n\" id=\"DejaVuSans-103\"/>\n      </defs>\n      <g transform=\"translate(124.854403 471.796562)scale(0.1 -0.1)\">\n       <use xlink:href=\"#DejaVuSans-98\"/>\n       <use x=\"63.476562\" xlink:href=\"#DejaVuSans-111\"/>\n       <use x=\"124.658203\" xlink:href=\"#DejaVuSans-103\"/>\n       <use x=\"188.134766\" xlink:href=\"#DejaVuSans-111\"/>\n      </g>\n     </g>\n    </g>\n    <g id=\"xtick_2\">\n     <g id=\"line2d_2\">\n      <g>\n       <use style=\"stroke:#000000;stroke-width:0.8;\" x=\"380.8125\" xlink:href=\"#med7a8f967d\" y=\"457.198125\"/>\n      </g>\n     </g>\n     <g id=\"text_2\">\n      <!-- discount -->\n      <defs>\n       <path d=\"M 45.40625 46.390625 \nL 45.40625 75.984375 \nL 54.390625 75.984375 \nL 54.390625 0 \nL 45.40625 0 \nL 45.40625 8.203125 \nQ 42.578125 3.328125 38.25 0.953125 \nQ 33.9375 -1.421875 27.875 -1.421875 \nQ 17.96875 -1.421875 11.734375 6.484375 \nQ 5.515625 14.40625 5.515625 27.296875 \nQ 5.515625 40.1875 11.734375 48.09375 \nQ 17.96875 56 27.875 56 \nQ 33.9375 56 38.25 53.625 \nQ 42.578125 51.265625 45.40625 46.390625 \nz\nM 14.796875 27.296875 \nQ 14.796875 17.390625 18.875 11.75 \nQ 22.953125 6.109375 30.078125 6.109375 \nQ 37.203125 6.109375 41.296875 11.75 \nQ 45.40625 17.390625 45.40625 27.296875 \nQ 45.40625 37.203125 41.296875 42.84375 \nQ 37.203125 48.484375 30.078125 48.484375 \nQ 22.953125 48.484375 18.875 42.84375 \nQ 14.796875 37.203125 14.796875 27.296875 \nz\n\" id=\"DejaVuSans-100\"/>\n       <path d=\"M 9.421875 54.6875 \nL 18.40625 54.6875 \nL 18.40625 0 \nL 9.421875 0 \nz\nM 9.421875 75.984375 \nL 18.40625 75.984375 \nL 18.40625 64.59375 \nL 9.421875 64.59375 \nz\n\" id=\"DejaVuSans-105\"/>\n       <path d=\"M 44.28125 53.078125 \nL 44.28125 44.578125 \nQ 40.484375 46.53125 36.375 47.5 \nQ 32.28125 48.484375 27.875 48.484375 \nQ 21.1875 48.484375 17.84375 46.4375 \nQ 14.5 44.390625 14.5 40.28125 \nQ 14.5 37.15625 16.890625 35.375 \nQ 19.28125 33.59375 26.515625 31.984375 \nL 29.59375 31.296875 \nQ 39.15625 29.25 43.1875 25.515625 \nQ 47.21875 21.78125 47.21875 15.09375 \nQ 47.21875 7.46875 41.1875 3.015625 \nQ 35.15625 -1.421875 24.609375 -1.421875 \nQ 20.21875 -1.421875 15.453125 -0.5625 \nQ 10.6875 0.296875 5.421875 2 \nL 5.421875 11.28125 \nQ 10.40625 8.6875 15.234375 7.390625 \nQ 20.0625 6.109375 24.8125 6.109375 \nQ 31.15625 6.109375 34.5625 8.28125 \nQ 37.984375 10.453125 37.984375 14.40625 \nQ 37.984375 18.0625 35.515625 20.015625 \nQ 33.0625 21.96875 24.703125 23.78125 \nL 21.578125 24.515625 \nQ 13.234375 26.265625 9.515625 29.90625 \nQ 5.8125 33.546875 5.8125 39.890625 \nQ 5.8125 47.609375 11.28125 51.796875 \nQ 16.75 56 26.8125 56 \nQ 31.78125 56 36.171875 55.265625 \nQ 40.578125 54.546875 44.28125 53.078125 \nz\n\" id=\"DejaVuSans-115\"/>\n       <path d=\"M 48.78125 52.59375 \nL 48.78125 44.1875 \nQ 44.96875 46.296875 41.140625 47.34375 \nQ 37.3125 48.390625 33.40625 48.390625 \nQ 24.65625 48.390625 19.8125 42.84375 \nQ 14.984375 37.3125 14.984375 27.296875 \nQ 14.984375 17.28125 19.8125 11.734375 \nQ 24.65625 6.203125 33.40625 6.203125 \nQ 37.3125 6.203125 41.140625 7.25 \nQ 44.96875 8.296875 48.78125 10.40625 \nL 48.78125 2.09375 \nQ 45.015625 0.34375 40.984375 -0.53125 \nQ 36.96875 -1.421875 32.421875 -1.421875 \nQ 20.0625 -1.421875 12.78125 6.34375 \nQ 5.515625 14.109375 5.515625 27.296875 \nQ 5.515625 40.671875 12.859375 48.328125 \nQ 20.21875 56 33.015625 56 \nQ 37.15625 56 41.109375 55.140625 \nQ 45.0625 54.296875 48.78125 52.59375 \nz\n\" id=\"DejaVuSans-99\"/>\n       <path d=\"M 8.5 21.578125 \nL 8.5 54.6875 \nL 17.484375 54.6875 \nL 17.484375 21.921875 \nQ 17.484375 14.15625 20.5 10.265625 \nQ 23.53125 6.390625 29.59375 6.390625 \nQ 36.859375 6.390625 41.078125 11.03125 \nQ 45.3125 15.671875 45.3125 23.6875 \nL 45.3125 54.6875 \nL 54.296875 54.6875 \nL 54.296875 0 \nL 45.3125 0 \nL 45.3125 8.40625 \nQ 42.046875 3.421875 37.71875 1 \nQ 33.40625 -1.421875 27.6875 -1.421875 \nQ 18.265625 -1.421875 13.375 4.4375 \nQ 8.5 10.296875 8.5 21.578125 \nz\nM 31.109375 56 \nz\n\" id=\"DejaVuSans-117\"/>\n       <path d=\"M 54.890625 33.015625 \nL 54.890625 0 \nL 45.90625 0 \nL 45.90625 32.71875 \nQ 45.90625 40.484375 42.875 44.328125 \nQ 39.84375 48.1875 33.796875 48.1875 \nQ 26.515625 48.1875 22.3125 43.546875 \nQ 18.109375 38.921875 18.109375 30.90625 \nL 18.109375 0 \nL 9.078125 0 \nL 9.078125 54.6875 \nL 18.109375 54.6875 \nL 18.109375 46.1875 \nQ 21.34375 51.125 25.703125 53.5625 \nQ 30.078125 56 35.796875 56 \nQ 45.21875 56 50.046875 50.171875 \nQ 54.890625 44.34375 54.890625 33.015625 \nz\n\" id=\"DejaVuSans-110\"/>\n       <path d=\"M 18.3125 70.21875 \nL 18.3125 54.6875 \nL 36.8125 54.6875 \nL 36.8125 47.703125 \nL 18.3125 47.703125 \nL 18.3125 18.015625 \nQ 18.3125 11.328125 20.140625 9.421875 \nQ 21.96875 7.515625 27.59375 7.515625 \nL 36.8125 7.515625 \nL 36.8125 0 \nL 27.59375 0 \nQ 17.1875 0 13.234375 3.875 \nQ 9.28125 7.765625 9.28125 18.015625 \nL 9.28125 47.703125 \nL 2.6875 47.703125 \nL 2.6875 54.6875 \nL 9.28125 54.6875 \nL 9.28125 70.21875 \nz\n\" id=\"DejaVuSans-116\"/>\n      </defs>\n      <g transform=\"translate(359.538281 471.796562)scale(0.1 -0.1)\">\n       <use xlink:href=\"#DejaVuSans-100\"/>\n       <use x=\"63.476562\" xlink:href=\"#DejaVuSans-105\"/>\n       <use x=\"91.259766\" xlink:href=\"#DejaVuSans-115\"/>\n       <use x=\"143.359375\" xlink:href=\"#DejaVuSans-99\"/>\n       <use x=\"198.339844\" xlink:href=\"#DejaVuSans-111\"/>\n       <use x=\"259.521484\" xlink:href=\"#DejaVuSans-117\"/>\n       <use x=\"322.900391\" xlink:href=\"#DejaVuSans-110\"/>\n       <use x=\"386.279297\" xlink:href=\"#DejaVuSans-116\"/>\n      </g>\n     </g>\n    </g>\n    <g id=\"xtick_3\">\n     <g id=\"line2d_3\">\n      <g>\n       <use style=\"stroke:#000000;stroke-width:0.8;\" x=\"624.303409\" xlink:href=\"#med7a8f967d\" y=\"457.198125\"/>\n      </g>\n     </g>\n     <g id=\"text_3\">\n      <!-- informational -->\n      <defs>\n       <path d=\"M 37.109375 75.984375 \nL 37.109375 68.5 \nL 28.515625 68.5 \nQ 23.6875 68.5 21.796875 66.546875 \nQ 19.921875 64.59375 19.921875 59.515625 \nL 19.921875 54.6875 \nL 34.71875 54.6875 \nL 34.71875 47.703125 \nL 19.921875 47.703125 \nL 19.921875 0 \nL 10.890625 0 \nL 10.890625 47.703125 \nL 2.296875 47.703125 \nL 2.296875 54.6875 \nL 10.890625 54.6875 \nL 10.890625 58.5 \nQ 10.890625 67.625 15.140625 71.796875 \nQ 19.390625 75.984375 28.609375 75.984375 \nz\n\" id=\"DejaVuSans-102\"/>\n       <path d=\"M 41.109375 46.296875 \nQ 39.59375 47.171875 37.8125 47.578125 \nQ 36.03125 48 33.890625 48 \nQ 26.265625 48 22.1875 43.046875 \nQ 18.109375 38.09375 18.109375 28.8125 \nL 18.109375 0 \nL 9.078125 0 \nL 9.078125 54.6875 \nL 18.109375 54.6875 \nL 18.109375 46.1875 \nQ 20.953125 51.171875 25.484375 53.578125 \nQ 30.03125 56 36.53125 56 \nQ 37.453125 56 38.578125 55.875 \nQ 39.703125 55.765625 41.0625 55.515625 \nz\n\" id=\"DejaVuSans-114\"/>\n       <path d=\"M 52 44.1875 \nQ 55.375 50.25 60.0625 53.125 \nQ 64.75 56 71.09375 56 \nQ 79.640625 56 84.28125 50.015625 \nQ 88.921875 44.046875 88.921875 33.015625 \nL 88.921875 0 \nL 79.890625 0 \nL 79.890625 32.71875 \nQ 79.890625 40.578125 77.09375 44.375 \nQ 74.3125 48.1875 68.609375 48.1875 \nQ 61.625 48.1875 57.5625 43.546875 \nQ 53.515625 38.921875 53.515625 30.90625 \nL 53.515625 0 \nL 44.484375 0 \nL 44.484375 32.71875 \nQ 44.484375 40.625 41.703125 44.40625 \nQ 38.921875 48.1875 33.109375 48.1875 \nQ 26.21875 48.1875 22.15625 43.53125 \nQ 18.109375 38.875 18.109375 30.90625 \nL 18.109375 0 \nL 9.078125 0 \nL 9.078125 54.6875 \nL 18.109375 54.6875 \nL 18.109375 46.1875 \nQ 21.1875 51.21875 25.484375 53.609375 \nQ 29.78125 56 35.6875 56 \nQ 41.65625 56 45.828125 52.96875 \nQ 50 49.953125 52 44.1875 \nz\n\" id=\"DejaVuSans-109\"/>\n       <path d=\"M 34.28125 27.484375 \nQ 23.390625 27.484375 19.1875 25 \nQ 14.984375 22.515625 14.984375 16.5 \nQ 14.984375 11.71875 18.140625 8.90625 \nQ 21.296875 6.109375 26.703125 6.109375 \nQ 34.1875 6.109375 38.703125 11.40625 \nQ 43.21875 16.703125 43.21875 25.484375 \nL 43.21875 27.484375 \nz\nM 52.203125 31.203125 \nL 52.203125 0 \nL 43.21875 0 \nL 43.21875 8.296875 \nQ 40.140625 3.328125 35.546875 0.953125 \nQ 30.953125 -1.421875 24.3125 -1.421875 \nQ 15.921875 -1.421875 10.953125 3.296875 \nQ 6 8.015625 6 15.921875 \nQ 6 25.140625 12.171875 29.828125 \nQ 18.359375 34.515625 30.609375 34.515625 \nL 43.21875 34.515625 \nL 43.21875 35.40625 \nQ 43.21875 41.609375 39.140625 45 \nQ 35.0625 48.390625 27.6875 48.390625 \nQ 23 48.390625 18.546875 47.265625 \nQ 14.109375 46.140625 10.015625 43.890625 \nL 10.015625 52.203125 \nQ 14.9375 54.109375 19.578125 55.046875 \nQ 24.21875 56 28.609375 56 \nQ 40.484375 56 46.34375 49.84375 \nQ 52.203125 43.703125 52.203125 31.203125 \nz\n\" id=\"DejaVuSans-97\"/>\n       <path d=\"M 9.421875 75.984375 \nL 18.40625 75.984375 \nL 18.40625 0 \nL 9.421875 0 \nz\n\" id=\"DejaVuSans-108\"/>\n      </defs>\n      <g transform=\"translate(590.906534 471.796562)scale(0.1 -0.1)\">\n       <use xlink:href=\"#DejaVuSans-105\"/>\n       <use x=\"27.783203\" xlink:href=\"#DejaVuSans-110\"/>\n       <use x=\"91.162109\" xlink:href=\"#DejaVuSans-102\"/>\n       <use x=\"126.367188\" xlink:href=\"#DejaVuSans-111\"/>\n       <use x=\"187.548828\" xlink:href=\"#DejaVuSans-114\"/>\n       <use x=\"228.646484\" xlink:href=\"#DejaVuSans-109\"/>\n       <use x=\"326.058594\" xlink:href=\"#DejaVuSans-97\"/>\n       <use x=\"387.337891\" xlink:href=\"#DejaVuSans-116\"/>\n       <use x=\"426.546875\" xlink:href=\"#DejaVuSans-105\"/>\n       <use x=\"454.330078\" xlink:href=\"#DejaVuSans-111\"/>\n       <use x=\"515.511719\" xlink:href=\"#DejaVuSans-110\"/>\n       <use x=\"578.890625\" xlink:href=\"#DejaVuSans-97\"/>\n       <use x=\"640.169922\" xlink:href=\"#DejaVuSans-108\"/>\n      </g>\n     </g>\n    </g>\n   </g>\n   <g id=\"matplotlib.axis_2\">\n    <g id=\"ytick_1\">\n     <g id=\"line2d_4\">\n      <defs>\n       <path d=\"M 0 0 \nL -3.5 0 \n\" id=\"me0ab4ce7a4\" style=\"stroke:#000000;stroke-width:0.8;\"/>\n      </defs>\n      <g>\n       <use style=\"stroke:#000000;stroke-width:0.8;\" x=\"46.0125\" xlink:href=\"#me0ab4ce7a4\" y=\"457.198125\"/>\n      </g>\n     </g>\n     <g id=\"text_4\">\n      <!-- 0 -->\n      <defs>\n       <path d=\"M 31.78125 66.40625 \nQ 24.171875 66.40625 20.328125 58.90625 \nQ 16.5 51.421875 16.5 36.375 \nQ 16.5 21.390625 20.328125 13.890625 \nQ 24.171875 6.390625 31.78125 6.390625 \nQ 39.453125 6.390625 43.28125 13.890625 \nQ 47.125 21.390625 47.125 36.375 \nQ 47.125 51.421875 43.28125 58.90625 \nQ 39.453125 66.40625 31.78125 66.40625 \nz\nM 31.78125 74.21875 \nQ 44.046875 74.21875 50.515625 64.515625 \nQ 56.984375 54.828125 56.984375 36.375 \nQ 56.984375 17.96875 50.515625 8.265625 \nQ 44.046875 -1.421875 31.78125 -1.421875 \nQ 19.53125 -1.421875 13.0625 8.265625 \nQ 6.59375 17.96875 6.59375 36.375 \nQ 6.59375 54.828125 13.0625 64.515625 \nQ 19.53125 74.21875 31.78125 74.21875 \nz\n\" id=\"DejaVuSans-48\"/>\n      </defs>\n      <g transform=\"translate(32.65 460.997344)scale(0.1 -0.1)\">\n       <use xlink:href=\"#DejaVuSans-48\"/>\n      </g>\n     </g>\n    </g>\n    <g id=\"ytick_2\">\n     <g id=\"line2d_5\">\n      <g>\n       <use style=\"stroke:#000000;stroke-width:0.8;\" x=\"46.0125\" xlink:href=\"#me0ab4ce7a4\" y=\"389.396758\"/>\n      </g>\n     </g>\n     <g id=\"text_5\">\n      <!-- 5000 -->\n      <defs>\n       <path d=\"M 10.796875 72.90625 \nL 49.515625 72.90625 \nL 49.515625 64.59375 \nL 19.828125 64.59375 \nL 19.828125 46.734375 \nQ 21.96875 47.46875 24.109375 47.828125 \nQ 26.265625 48.1875 28.421875 48.1875 \nQ 40.625 48.1875 47.75 41.5 \nQ 54.890625 34.8125 54.890625 23.390625 \nQ 54.890625 11.625 47.5625 5.09375 \nQ 40.234375 -1.421875 26.90625 -1.421875 \nQ 22.3125 -1.421875 17.546875 -0.640625 \nQ 12.796875 0.140625 7.71875 1.703125 \nL 7.71875 11.625 \nQ 12.109375 9.234375 16.796875 8.0625 \nQ 21.484375 6.890625 26.703125 6.890625 \nQ 35.15625 6.890625 40.078125 11.328125 \nQ 45.015625 15.765625 45.015625 23.390625 \nQ 45.015625 31 40.078125 35.4375 \nQ 35.15625 39.890625 26.703125 39.890625 \nQ 22.75 39.890625 18.8125 39.015625 \nQ 14.890625 38.140625 10.796875 36.28125 \nz\n\" id=\"DejaVuSans-53\"/>\n      </defs>\n      <g transform=\"translate(13.5625 393.195977)scale(0.1 -0.1)\">\n       <use xlink:href=\"#DejaVuSans-53\"/>\n       <use x=\"63.623047\" xlink:href=\"#DejaVuSans-48\"/>\n       <use x=\"127.246094\" xlink:href=\"#DejaVuSans-48\"/>\n       <use x=\"190.869141\" xlink:href=\"#DejaVuSans-48\"/>\n      </g>\n     </g>\n    </g>\n    <g id=\"ytick_3\">\n     <g id=\"line2d_6\">\n      <g>\n       <use style=\"stroke:#000000;stroke-width:0.8;\" x=\"46.0125\" xlink:href=\"#me0ab4ce7a4\" y=\"321.595392\"/>\n      </g>\n     </g>\n     <g id=\"text_6\">\n      <!-- 10000 -->\n      <defs>\n       <path d=\"M 12.40625 8.296875 \nL 28.515625 8.296875 \nL 28.515625 63.921875 \nL 10.984375 60.40625 \nL 10.984375 69.390625 \nL 28.421875 72.90625 \nL 38.28125 72.90625 \nL 38.28125 8.296875 \nL 54.390625 8.296875 \nL 54.390625 0 \nL 12.40625 0 \nz\n\" id=\"DejaVuSans-49\"/>\n      </defs>\n      <g transform=\"translate(7.2 325.39461)scale(0.1 -0.1)\">\n       <use xlink:href=\"#DejaVuSans-49\"/>\n       <use x=\"63.623047\" xlink:href=\"#DejaVuSans-48\"/>\n       <use x=\"127.246094\" xlink:href=\"#DejaVuSans-48\"/>\n       <use x=\"190.869141\" xlink:href=\"#DejaVuSans-48\"/>\n       <use x=\"254.492188\" xlink:href=\"#DejaVuSans-48\"/>\n      </g>\n     </g>\n    </g>\n    <g id=\"ytick_4\">\n     <g id=\"line2d_7\">\n      <g>\n       <use style=\"stroke:#000000;stroke-width:0.8;\" x=\"46.0125\" xlink:href=\"#me0ab4ce7a4\" y=\"253.794025\"/>\n      </g>\n     </g>\n     <g id=\"text_7\">\n      <!-- 15000 -->\n      <g transform=\"translate(7.2 257.593244)scale(0.1 -0.1)\">\n       <use xlink:href=\"#DejaVuSans-49\"/>\n       <use x=\"63.623047\" xlink:href=\"#DejaVuSans-53\"/>\n       <use x=\"127.246094\" xlink:href=\"#DejaVuSans-48\"/>\n       <use x=\"190.869141\" xlink:href=\"#DejaVuSans-48\"/>\n       <use x=\"254.492188\" xlink:href=\"#DejaVuSans-48\"/>\n      </g>\n     </g>\n    </g>\n    <g id=\"ytick_5\">\n     <g id=\"line2d_8\">\n      <g>\n       <use style=\"stroke:#000000;stroke-width:0.8;\" x=\"46.0125\" xlink:href=\"#me0ab4ce7a4\" y=\"185.992658\"/>\n      </g>\n     </g>\n     <g id=\"text_8\">\n      <!-- 20000 -->\n      <defs>\n       <path d=\"M 19.1875 8.296875 \nL 53.609375 8.296875 \nL 53.609375 0 \nL 7.328125 0 \nL 7.328125 8.296875 \nQ 12.9375 14.109375 22.625 23.890625 \nQ 32.328125 33.6875 34.8125 36.53125 \nQ 39.546875 41.84375 41.421875 45.53125 \nQ 43.3125 49.21875 43.3125 52.78125 \nQ 43.3125 58.59375 39.234375 62.25 \nQ 35.15625 65.921875 28.609375 65.921875 \nQ 23.96875 65.921875 18.8125 64.3125 \nQ 13.671875 62.703125 7.8125 59.421875 \nL 7.8125 69.390625 \nQ 13.765625 71.78125 18.9375 73 \nQ 24.125 74.21875 28.421875 74.21875 \nQ 39.75 74.21875 46.484375 68.546875 \nQ 53.21875 62.890625 53.21875 53.421875 \nQ 53.21875 48.921875 51.53125 44.890625 \nQ 49.859375 40.875 45.40625 35.40625 \nQ 44.1875 33.984375 37.640625 27.21875 \nQ 31.109375 20.453125 19.1875 8.296875 \nz\n\" id=\"DejaVuSans-50\"/>\n      </defs>\n      <g transform=\"translate(7.2 189.791877)scale(0.1 -0.1)\">\n       <use xlink:href=\"#DejaVuSans-50\"/>\n       <use x=\"63.623047\" xlink:href=\"#DejaVuSans-48\"/>\n       <use x=\"127.246094\" xlink:href=\"#DejaVuSans-48\"/>\n       <use x=\"190.869141\" xlink:href=\"#DejaVuSans-48\"/>\n       <use x=\"254.492188\" xlink:href=\"#DejaVuSans-48\"/>\n      </g>\n     </g>\n    </g>\n    <g id=\"ytick_6\">\n     <g id=\"line2d_9\">\n      <g>\n       <use style=\"stroke:#000000;stroke-width:0.8;\" x=\"46.0125\" xlink:href=\"#me0ab4ce7a4\" y=\"118.191292\"/>\n      </g>\n     </g>\n     <g id=\"text_9\">\n      <!-- 25000 -->\n      <g transform=\"translate(7.2 121.99051)scale(0.1 -0.1)\">\n       <use xlink:href=\"#DejaVuSans-50\"/>\n       <use x=\"63.623047\" xlink:href=\"#DejaVuSans-53\"/>\n       <use x=\"127.246094\" xlink:href=\"#DejaVuSans-48\"/>\n       <use x=\"190.869141\" xlink:href=\"#DejaVuSans-48\"/>\n       <use x=\"254.492188\" xlink:href=\"#DejaVuSans-48\"/>\n      </g>\n     </g>\n    </g>\n    <g id=\"ytick_7\">\n     <g id=\"line2d_10\">\n      <g>\n       <use style=\"stroke:#000000;stroke-width:0.8;\" x=\"46.0125\" xlink:href=\"#me0ab4ce7a4\" y=\"50.389925\"/>\n      </g>\n     </g>\n     <g id=\"text_10\">\n      <!-- 30000 -->\n      <defs>\n       <path d=\"M 40.578125 39.3125 \nQ 47.65625 37.796875 51.625 33 \nQ 55.609375 28.21875 55.609375 21.1875 \nQ 55.609375 10.40625 48.1875 4.484375 \nQ 40.765625 -1.421875 27.09375 -1.421875 \nQ 22.515625 -1.421875 17.65625 -0.515625 \nQ 12.796875 0.390625 7.625 2.203125 \nL 7.625 11.71875 \nQ 11.71875 9.328125 16.59375 8.109375 \nQ 21.484375 6.890625 26.8125 6.890625 \nQ 36.078125 6.890625 40.9375 10.546875 \nQ 45.796875 14.203125 45.796875 21.1875 \nQ 45.796875 27.640625 41.28125 31.265625 \nQ 36.765625 34.90625 28.71875 34.90625 \nL 20.21875 34.90625 \nL 20.21875 43.015625 \nL 29.109375 43.015625 \nQ 36.375 43.015625 40.234375 45.921875 \nQ 44.09375 48.828125 44.09375 54.296875 \nQ 44.09375 59.90625 40.109375 62.90625 \nQ 36.140625 65.921875 28.71875 65.921875 \nQ 24.65625 65.921875 20.015625 65.03125 \nQ 15.375 64.15625 9.8125 62.3125 \nL 9.8125 71.09375 \nQ 15.4375 72.65625 20.34375 73.4375 \nQ 25.25 74.21875 29.59375 74.21875 \nQ 40.828125 74.21875 47.359375 69.109375 \nQ 53.90625 64.015625 53.90625 55.328125 \nQ 53.90625 49.265625 50.4375 45.09375 \nQ 46.96875 40.921875 40.578125 39.3125 \nz\n\" id=\"DejaVuSans-51\"/>\n      </defs>\n      <g transform=\"translate(7.2 54.189144)scale(0.1 -0.1)\">\n       <use xlink:href=\"#DejaVuSans-51\"/>\n       <use x=\"63.623047\" xlink:href=\"#DejaVuSans-48\"/>\n       <use x=\"127.246094\" xlink:href=\"#DejaVuSans-48\"/>\n       <use x=\"190.869141\" xlink:href=\"#DejaVuSans-48\"/>\n       <use x=\"254.492188\" xlink:href=\"#DejaVuSans-48\"/>\n      </g>\n     </g>\n    </g>\n   </g>\n   <g id=\"patch_12\">\n    <path d=\"M 46.0125 457.198125 \nL 46.0125 22.318125 \n\" style=\"fill:none;stroke:#000000;stroke-linecap:square;stroke-linejoin:miter;stroke-width:0.8;\"/>\n   </g>\n   <g id=\"patch_13\">\n    <path d=\"M 715.6125 457.198125 \nL 715.6125 22.318125 \n\" style=\"fill:none;stroke:#000000;stroke-linecap:square;stroke-linejoin:miter;stroke-width:0.8;\"/>\n   </g>\n   <g id=\"patch_14\">\n    <path d=\"M 46.0125 457.198125 \nL 715.6125 457.198125 \n\" style=\"fill:none;stroke:#000000;stroke-linecap:square;stroke-linejoin:miter;stroke-width:0.8;\"/>\n   </g>\n   <g id=\"patch_15\">\n    <path d=\"M 46.0125 22.318125 \nL 715.6125 22.318125 \n\" style=\"fill:none;stroke:#000000;stroke-linecap:square;stroke-linejoin:miter;stroke-width:0.8;\"/>\n   </g>\n   <g id=\"text_11\">\n    <!-- 15669 -->\n    <defs>\n     <path d=\"M 11.71875 12.984375 \nL 28.328125 12.984375 \nL 28.328125 60.109375 \nL 11.28125 56.59375 \nL 11.28125 69.390625 \nL 28.21875 72.90625 \nL 46.09375 72.90625 \nL 46.09375 12.984375 \nL 62.703125 12.984375 \nL 62.703125 0 \nL 11.71875 0 \nz\n\" id=\"DejaVuSans-Bold-49\"/>\n     <path d=\"M 10.59375 72.90625 \nL 57.328125 72.90625 \nL 57.328125 59.078125 \nL 25.59375 59.078125 \nL 25.59375 47.796875 \nQ 27.734375 48.390625 29.90625 48.703125 \nQ 32.078125 49.03125 34.421875 49.03125 \nQ 47.75 49.03125 55.171875 42.359375 \nQ 62.59375 35.6875 62.59375 23.78125 \nQ 62.59375 11.96875 54.515625 5.265625 \nQ 46.4375 -1.421875 32.078125 -1.421875 \nQ 25.875 -1.421875 19.796875 -0.21875 \nQ 13.71875 0.984375 7.71875 3.421875 \nL 7.71875 18.21875 \nQ 13.671875 14.796875 19.015625 13.078125 \nQ 24.359375 11.375 29.109375 11.375 \nQ 35.9375 11.375 39.859375 14.71875 \nQ 43.796875 18.0625 43.796875 23.78125 \nQ 43.796875 29.546875 39.859375 32.859375 \nQ 35.9375 36.1875 29.109375 36.1875 \nQ 25.046875 36.1875 20.453125 35.125 \nQ 15.875 34.078125 10.59375 31.890625 \nz\n\" id=\"DejaVuSans-Bold-53\"/>\n     <path d=\"M 36.1875 35.984375 \nQ 31.25 35.984375 28.78125 32.78125 \nQ 26.3125 29.59375 26.3125 23.1875 \nQ 26.3125 16.796875 28.78125 13.59375 \nQ 31.25 10.40625 36.1875 10.40625 \nQ 41.15625 10.40625 43.625 13.59375 \nQ 46.09375 16.796875 46.09375 23.1875 \nQ 46.09375 29.59375 43.625 32.78125 \nQ 41.15625 35.984375 36.1875 35.984375 \nz\nM 59.421875 71 \nL 59.421875 57.515625 \nQ 54.78125 59.71875 50.671875 60.765625 \nQ 46.578125 61.8125 42.671875 61.8125 \nQ 34.28125 61.8125 29.59375 57.140625 \nQ 24.90625 52.484375 24.125 43.3125 \nQ 27.34375 45.703125 31.09375 46.890625 \nQ 34.859375 48.09375 39.3125 48.09375 \nQ 50.484375 48.09375 57.34375 41.546875 \nQ 64.203125 35.015625 64.203125 24.421875 \nQ 64.203125 12.703125 56.53125 5.640625 \nQ 48.875 -1.421875 35.984375 -1.421875 \nQ 21.78125 -1.421875 13.984375 8.171875 \nQ 6.203125 17.78125 6.203125 35.40625 \nQ 6.203125 53.46875 15.3125 63.796875 \nQ 24.421875 74.125 40.28125 74.125 \nQ 45.3125 74.125 50.046875 73.34375 \nQ 54.78125 72.5625 59.421875 71 \nz\n\" id=\"DejaVuSans-Bold-54\"/>\n     <path d=\"M 10.015625 1.609375 \nL 10.015625 15.09375 \nQ 14.5 12.984375 18.59375 11.9375 \nQ 22.703125 10.890625 26.703125 10.890625 \nQ 35.109375 10.890625 39.796875 15.546875 \nQ 44.484375 20.21875 45.3125 29.390625 \nQ 42 26.953125 38.234375 25.734375 \nQ 34.46875 24.515625 30.078125 24.515625 \nQ 18.890625 24.515625 12.03125 31.03125 \nQ 5.171875 37.546875 5.171875 48.1875 \nQ 5.171875 59.96875 12.8125 67.046875 \nQ 20.453125 74.125 33.296875 74.125 \nQ 47.5625 74.125 55.375 64.5 \nQ 63.1875 54.890625 63.1875 37.3125 \nQ 63.1875 19.234375 54.046875 8.90625 \nQ 44.921875 -1.421875 29 -1.421875 \nQ 23.875 -1.421875 19.1875 -0.65625 \nQ 14.5 0.09375 10.015625 1.609375 \nz\nM 33.203125 36.71875 \nQ 38.140625 36.71875 40.625 39.90625 \nQ 43.109375 43.109375 43.109375 49.515625 \nQ 43.109375 55.859375 40.625 59.078125 \nQ 38.140625 62.3125 33.203125 62.3125 \nQ 28.265625 62.3125 25.78125 59.078125 \nQ 23.296875 55.859375 23.296875 49.515625 \nQ 23.296875 43.109375 25.78125 39.90625 \nQ 28.265625 36.71875 33.203125 36.71875 \nz\n\" id=\"DejaVuSans-Bold-57\"/>\n    </defs>\n    <g style=\"fill:#ffffff;\" transform=\"translate(109.490341 347.632664)scale(0.16 -0.16)\">\n     <use xlink:href=\"#DejaVuSans-Bold-49\"/>\n     <use x=\"69.580078\" xlink:href=\"#DejaVuSans-Bold-53\"/>\n     <use x=\"139.160156\" xlink:href=\"#DejaVuSans-Bold-54\"/>\n     <use x=\"208.740234\" xlink:href=\"#DejaVuSans-Bold-54\"/>\n     <use x=\"278.320312\" xlink:href=\"#DejaVuSans-Bold-57\"/>\n    </g>\n   </g>\n   <g id=\"text_12\">\n    <!-- 25449 -->\n    <defs>\n     <path d=\"M 28.8125 13.8125 \nL 60.890625 13.8125 \nL 60.890625 0 \nL 7.90625 0 \nL 7.90625 13.8125 \nL 34.515625 37.3125 \nQ 38.09375 40.53125 39.796875 43.609375 \nQ 41.5 46.6875 41.5 50 \nQ 41.5 55.125 38.0625 58.25 \nQ 34.625 61.375 28.90625 61.375 \nQ 24.515625 61.375 19.28125 59.5 \nQ 14.0625 57.625 8.109375 53.90625 \nL 8.109375 69.921875 \nQ 14.453125 72.015625 20.65625 73.109375 \nQ 26.859375 74.21875 32.8125 74.21875 \nQ 45.90625 74.21875 53.15625 68.453125 \nQ 60.40625 62.703125 60.40625 52.390625 \nQ 60.40625 46.4375 57.328125 41.28125 \nQ 54.25 36.140625 44.390625 27.484375 \nz\n\" id=\"DejaVuSans-Bold-50\"/>\n     <path d=\"M 36.8125 57.421875 \nL 16.21875 26.90625 \nL 36.8125 26.90625 \nz\nM 33.6875 72.90625 \nL 54.59375 72.90625 \nL 54.59375 26.90625 \nL 64.984375 26.90625 \nL 64.984375 13.28125 \nL 54.59375 13.28125 \nL 54.59375 0 \nL 36.8125 0 \nL 36.8125 13.28125 \nL 4.5 13.28125 \nL 4.5 29.390625 \nz\n\" id=\"DejaVuSans-Bold-52\"/>\n    </defs>\n    <g style=\"fill:#ffffff;\" transform=\"translate(109.490341 175.084965)scale(0.16 -0.16)\">\n     <use xlink:href=\"#DejaVuSans-Bold-50\"/>\n     <use x=\"69.580078\" xlink:href=\"#DejaVuSans-Bold-53\"/>\n     <use x=\"139.160156\" xlink:href=\"#DejaVuSans-Bold-52\"/>\n     <use x=\"208.740234\" xlink:href=\"#DejaVuSans-Bold-52\"/>\n     <use x=\"278.320312\" xlink:href=\"#DejaVuSans-Bold-57\"/>\n    </g>\n   </g>\n   <g id=\"text_13\">\n    <!-- 30499 -->\n    <defs>\n     <path d=\"M 46.578125 39.3125 \nQ 53.953125 37.40625 57.78125 32.6875 \nQ 61.625 27.984375 61.625 20.703125 \nQ 61.625 9.859375 53.3125 4.21875 \nQ 45.015625 -1.421875 29.109375 -1.421875 \nQ 23.484375 -1.421875 17.84375 -0.515625 \nQ 12.203125 0.390625 6.6875 2.203125 \nL 6.6875 16.703125 \nQ 11.96875 14.0625 17.15625 12.71875 \nQ 22.359375 11.375 27.390625 11.375 \nQ 34.859375 11.375 38.84375 13.953125 \nQ 42.828125 16.546875 42.828125 21.390625 \nQ 42.828125 26.375 38.75 28.9375 \nQ 34.671875 31.5 26.703125 31.5 \nL 19.1875 31.5 \nL 19.1875 43.609375 \nL 27.09375 43.609375 \nQ 34.1875 43.609375 37.640625 45.828125 \nQ 41.109375 48.046875 41.109375 52.59375 \nQ 41.109375 56.78125 37.734375 59.078125 \nQ 34.375 61.375 28.21875 61.375 \nQ 23.6875 61.375 19.046875 60.34375 \nQ 14.40625 59.328125 9.8125 57.328125 \nL 9.8125 71.09375 \nQ 15.375 72.65625 20.84375 73.4375 \nQ 26.3125 74.21875 31.59375 74.21875 \nQ 45.796875 74.21875 52.84375 69.546875 \nQ 59.90625 64.890625 59.90625 55.515625 \nQ 59.90625 49.125 56.53125 45.046875 \nQ 53.171875 40.96875 46.578125 39.3125 \nz\n\" id=\"DejaVuSans-Bold-51\"/>\n     <path d=\"M 46 36.53125 \nQ 46 50.203125 43.4375 55.78125 \nQ 40.875 61.375 34.8125 61.375 \nQ 28.765625 61.375 26.171875 55.78125 \nQ 23.578125 50.203125 23.578125 36.53125 \nQ 23.578125 22.703125 26.171875 17.03125 \nQ 28.765625 11.375 34.8125 11.375 \nQ 40.828125 11.375 43.40625 17.03125 \nQ 46 22.703125 46 36.53125 \nz\nM 64.796875 36.375 \nQ 64.796875 18.265625 56.984375 8.421875 \nQ 49.171875 -1.421875 34.8125 -1.421875 \nQ 20.40625 -1.421875 12.59375 8.421875 \nQ 4.78125 18.265625 4.78125 36.375 \nQ 4.78125 54.546875 12.59375 64.375 \nQ 20.40625 74.21875 34.8125 74.21875 \nQ 49.171875 74.21875 56.984375 64.375 \nQ 64.796875 54.546875 64.796875 36.375 \nz\n\" id=\"DejaVuSans-Bold-48\"/>\n    </defs>\n    <g style=\"fill:#ffffff;\" transform=\"translate(109.490341 74.535539)scale(0.16 -0.16)\">\n     <use xlink:href=\"#DejaVuSans-Bold-51\"/>\n     <use x=\"69.580078\" xlink:href=\"#DejaVuSans-Bold-48\"/>\n     <use x=\"139.160156\" xlink:href=\"#DejaVuSans-Bold-52\"/>\n     <use x=\"208.740234\" xlink:href=\"#DejaVuSans-Bold-57\"/>\n     <use x=\"278.320312\" xlink:href=\"#DejaVuSans-Bold-57\"/>\n    </g>\n   </g>\n   <g id=\"text_14\">\n    <!-- 17910 -->\n    <defs>\n     <path d=\"M 6.6875 72.90625 \nL 61.625 72.90625 \nL 61.625 62.3125 \nL 33.203125 0 \nL 14.890625 0 \nL 41.796875 59.078125 \nL 6.6875 59.078125 \nz\n\" id=\"DejaVuSans-Bold-55\"/>\n    </defs>\n    <g style=\"fill:#ffffff;\" transform=\"translate(352.98125 332.438377)scale(0.16 -0.16)\">\n     <use xlink:href=\"#DejaVuSans-Bold-49\"/>\n     <use x=\"69.580078\" xlink:href=\"#DejaVuSans-Bold-55\"/>\n     <use x=\"139.160156\" xlink:href=\"#DejaVuSans-Bold-57\"/>\n     <use x=\"208.740234\" xlink:href=\"#DejaVuSans-Bold-49\"/>\n     <use x=\"278.320312\" xlink:href=\"#DejaVuSans-Bold-48\"/>\n    </g>\n   </g>\n   <g id=\"text_15\">\n    <!-- 21445 -->\n    <g style=\"fill:#ffffff;\" transform=\"translate(352.98125 187.038346)scale(0.16 -0.16)\">\n     <use xlink:href=\"#DejaVuSans-Bold-50\"/>\n     <use x=\"69.580078\" xlink:href=\"#DejaVuSans-Bold-49\"/>\n     <use x=\"139.160156\" xlink:href=\"#DejaVuSans-Bold-52\"/>\n     <use x=\"208.740234\" xlink:href=\"#DejaVuSans-Bold-52\"/>\n     <use x=\"278.320312\" xlink:href=\"#DejaVuSans-Bold-53\"/>\n    </g>\n   </g>\n   <g id=\"text_16\">\n    <!-- 30543 -->\n    <g style=\"fill:#ffffff;\" transform=\"translate(352.98125 101.38488)scale(0.16 -0.16)\">\n     <use xlink:href=\"#DejaVuSans-Bold-51\"/>\n     <use x=\"69.580078\" xlink:href=\"#DejaVuSans-Bold-48\"/>\n     <use x=\"139.160156\" xlink:href=\"#DejaVuSans-Bold-53\"/>\n     <use x=\"208.740234\" xlink:href=\"#DejaVuSans-Bold-52\"/>\n     <use x=\"278.320312\" xlink:href=\"#DejaVuSans-Bold-51\"/>\n    </g>\n   </g>\n   <g id=\"text_17\">\n    <!-- 0 -->\n    <g style=\"fill:#ffffff;\" transform=\"translate(618.737159 453.870625)scale(0.16 -0.16)\">\n     <use xlink:href=\"#DejaVuSans-Bold-48\"/>\n    </g>\n   </g>\n   <g id=\"text_18\">\n    <!-- 10831 -->\n    <defs>\n     <path d=\"M 34.8125 32.625 \nQ 29.546875 32.625 26.703125 29.734375 \nQ 23.875 26.859375 23.875 21.484375 \nQ 23.875 16.109375 26.703125 13.25 \nQ 29.546875 10.40625 34.8125 10.40625 \nQ 40.046875 10.40625 42.828125 13.25 \nQ 45.609375 16.109375 45.609375 21.484375 \nQ 45.609375 26.90625 42.828125 29.765625 \nQ 40.046875 32.625 34.8125 32.625 \nz\nM 21.09375 38.8125 \nQ 14.453125 40.828125 11.078125 44.96875 \nQ 7.71875 49.125 7.71875 55.328125 \nQ 7.71875 64.546875 14.59375 69.375 \nQ 21.484375 74.21875 34.8125 74.21875 \nQ 48.046875 74.21875 54.921875 69.40625 \nQ 61.8125 64.59375 61.8125 55.328125 \nQ 61.8125 49.125 58.421875 44.96875 \nQ 55.03125 40.828125 48.390625 38.8125 \nQ 55.8125 36.765625 59.59375 32.15625 \nQ 63.375 27.546875 63.375 20.515625 \nQ 63.375 9.671875 56.171875 4.125 \nQ 48.96875 -1.421875 34.8125 -1.421875 \nQ 20.609375 -1.421875 13.359375 4.125 \nQ 6.109375 9.671875 6.109375 20.515625 \nQ 6.109375 27.546875 9.890625 32.15625 \nQ 13.671875 36.765625 21.09375 38.8125 \nz\nM 25.484375 53.421875 \nQ 25.484375 49.078125 27.90625 46.734375 \nQ 30.328125 44.390625 34.8125 44.390625 \nQ 39.203125 44.390625 41.59375 46.734375 \nQ 44 49.078125 44 53.421875 \nQ 44 57.765625 41.59375 60.078125 \nQ 39.203125 62.40625 34.8125 62.40625 \nQ 30.328125 62.40625 27.90625 60.0625 \nQ 25.484375 57.71875 25.484375 53.421875 \nz\n\" id=\"DejaVuSans-Bold-56\"/>\n    </defs>\n    <g style=\"fill:#ffffff;\" transform=\"translate(596.472159 380.434965)scale(0.16 -0.16)\">\n     <use xlink:href=\"#DejaVuSans-Bold-49\"/>\n     <use x=\"69.580078\" xlink:href=\"#DejaVuSans-Bold-48\"/>\n     <use x=\"139.160156\" xlink:href=\"#DejaVuSans-Bold-56\"/>\n     <use x=\"208.740234\" xlink:href=\"#DejaVuSans-Bold-51\"/>\n     <use x=\"278.320312\" xlink:href=\"#DejaVuSans-Bold-49\"/>\n    </g>\n   </g>\n   <g id=\"text_19\">\n    <!-- 15235 -->\n    <g style=\"fill:#ffffff;\" transform=\"translate(596.472159 277.139583)scale(0.16 -0.16)\">\n     <use xlink:href=\"#DejaVuSans-Bold-49\"/>\n     <use x=\"69.580078\" xlink:href=\"#DejaVuSans-Bold-53\"/>\n     <use x=\"139.160156\" xlink:href=\"#DejaVuSans-Bold-50\"/>\n     <use x=\"208.740234\" xlink:href=\"#DejaVuSans-Bold-51\"/>\n     <use x=\"278.320312\" xlink:href=\"#DejaVuSans-Bold-53\"/>\n    </g>\n   </g>\n   <g id=\"text_20\">\n    <!-- Number of Offers in Transcripts by Type -->\n    <defs>\n     <path d=\"M 9.8125 72.90625 \nL 23.09375 72.90625 \nL 55.421875 11.921875 \nL 55.421875 72.90625 \nL 64.984375 72.90625 \nL 64.984375 0 \nL 51.703125 0 \nL 19.390625 60.984375 \nL 19.390625 0 \nL 9.8125 0 \nz\n\" id=\"DejaVuSans-78\"/>\n     <path d=\"M 56.203125 29.59375 \nL 56.203125 25.203125 \nL 14.890625 25.203125 \nQ 15.484375 15.921875 20.484375 11.0625 \nQ 25.484375 6.203125 34.421875 6.203125 \nQ 39.59375 6.203125 44.453125 7.46875 \nQ 49.3125 8.734375 54.109375 11.28125 \nL 54.109375 2.78125 \nQ 49.265625 0.734375 44.1875 -0.34375 \nQ 39.109375 -1.421875 33.890625 -1.421875 \nQ 20.796875 -1.421875 13.15625 6.1875 \nQ 5.515625 13.8125 5.515625 26.8125 \nQ 5.515625 40.234375 12.765625 48.109375 \nQ 20.015625 56 32.328125 56 \nQ 43.359375 56 49.78125 48.890625 \nQ 56.203125 41.796875 56.203125 29.59375 \nz\nM 47.21875 32.234375 \nQ 47.125 39.59375 43.09375 43.984375 \nQ 39.0625 48.390625 32.421875 48.390625 \nQ 24.90625 48.390625 20.390625 44.140625 \nQ 15.875 39.890625 15.1875 32.171875 \nz\n\" id=\"DejaVuSans-101\"/>\n     <path id=\"DejaVuSans-32\"/>\n     <path d=\"M 39.40625 66.21875 \nQ 28.65625 66.21875 22.328125 58.203125 \nQ 16.015625 50.203125 16.015625 36.375 \nQ 16.015625 22.609375 22.328125 14.59375 \nQ 28.65625 6.59375 39.40625 6.59375 \nQ 50.140625 6.59375 56.421875 14.59375 \nQ 62.703125 22.609375 62.703125 36.375 \nQ 62.703125 50.203125 56.421875 58.203125 \nQ 50.140625 66.21875 39.40625 66.21875 \nz\nM 39.40625 74.21875 \nQ 54.734375 74.21875 63.90625 63.9375 \nQ 73.09375 53.65625 73.09375 36.375 \nQ 73.09375 19.140625 63.90625 8.859375 \nQ 54.734375 -1.421875 39.40625 -1.421875 \nQ 24.03125 -1.421875 14.8125 8.828125 \nQ 5.609375 19.09375 5.609375 36.375 \nQ 5.609375 53.65625 14.8125 63.9375 \nQ 24.03125 74.21875 39.40625 74.21875 \nz\n\" id=\"DejaVuSans-79\"/>\n     <path d=\"M -0.296875 72.90625 \nL 61.375 72.90625 \nL 61.375 64.59375 \nL 35.5 64.59375 \nL 35.5 0 \nL 25.59375 0 \nL 25.59375 64.59375 \nL -0.296875 64.59375 \nz\n\" id=\"DejaVuSans-84\"/>\n     <path d=\"M 18.109375 8.203125 \nL 18.109375 -20.796875 \nL 9.078125 -20.796875 \nL 9.078125 54.6875 \nL 18.109375 54.6875 \nL 18.109375 46.390625 \nQ 20.953125 51.265625 25.265625 53.625 \nQ 29.59375 56 35.59375 56 \nQ 45.5625 56 51.78125 48.09375 \nQ 58.015625 40.1875 58.015625 27.296875 \nQ 58.015625 14.40625 51.78125 6.484375 \nQ 45.5625 -1.421875 35.59375 -1.421875 \nQ 29.59375 -1.421875 25.265625 0.953125 \nQ 20.953125 3.328125 18.109375 8.203125 \nz\nM 48.6875 27.296875 \nQ 48.6875 37.203125 44.609375 42.84375 \nQ 40.53125 48.484375 33.40625 48.484375 \nQ 26.265625 48.484375 22.1875 42.84375 \nQ 18.109375 37.203125 18.109375 27.296875 \nQ 18.109375 17.390625 22.1875 11.75 \nQ 26.265625 6.109375 33.40625 6.109375 \nQ 40.53125 6.109375 44.609375 11.75 \nQ 48.6875 17.390625 48.6875 27.296875 \nz\n\" id=\"DejaVuSans-112\"/>\n     <path d=\"M 32.171875 -5.078125 \nQ 28.375 -14.84375 24.75 -17.8125 \nQ 21.140625 -20.796875 15.09375 -20.796875 \nL 7.90625 -20.796875 \nL 7.90625 -13.28125 \nL 13.1875 -13.28125 \nQ 16.890625 -13.28125 18.9375 -11.515625 \nQ 21 -9.765625 23.484375 -3.21875 \nL 25.09375 0.875 \nL 2.984375 54.6875 \nL 12.5 54.6875 \nL 29.59375 11.921875 \nL 46.6875 54.6875 \nL 56.203125 54.6875 \nz\n\" id=\"DejaVuSans-121\"/>\n    </defs>\n    <g transform=\"translate(260.278125 16.318125)scale(0.12 -0.12)\">\n     <use xlink:href=\"#DejaVuSans-78\"/>\n     <use x=\"74.804688\" xlink:href=\"#DejaVuSans-117\"/>\n     <use x=\"138.183594\" xlink:href=\"#DejaVuSans-109\"/>\n     <use x=\"235.595703\" xlink:href=\"#DejaVuSans-98\"/>\n     <use x=\"299.072266\" xlink:href=\"#DejaVuSans-101\"/>\n     <use x=\"360.595703\" xlink:href=\"#DejaVuSans-114\"/>\n     <use x=\"401.708984\" xlink:href=\"#DejaVuSans-32\"/>\n     <use x=\"433.496094\" xlink:href=\"#DejaVuSans-111\"/>\n     <use x=\"494.677734\" xlink:href=\"#DejaVuSans-102\"/>\n     <use x=\"529.882812\" xlink:href=\"#DejaVuSans-32\"/>\n     <use x=\"561.669922\" xlink:href=\"#DejaVuSans-79\"/>\n     <use x=\"640.380859\" xlink:href=\"#DejaVuSans-102\"/>\n     <use x=\"675.585938\" xlink:href=\"#DejaVuSans-102\"/>\n     <use x=\"710.791016\" xlink:href=\"#DejaVuSans-101\"/>\n     <use x=\"772.314453\" xlink:href=\"#DejaVuSans-114\"/>\n     <use x=\"813.427734\" xlink:href=\"#DejaVuSans-115\"/>\n     <use x=\"865.527344\" xlink:href=\"#DejaVuSans-32\"/>\n     <use x=\"897.314453\" xlink:href=\"#DejaVuSans-105\"/>\n     <use x=\"925.097656\" xlink:href=\"#DejaVuSans-110\"/>\n     <use x=\"988.476562\" xlink:href=\"#DejaVuSans-32\"/>\n     <use x=\"1020.263672\" xlink:href=\"#DejaVuSans-84\"/>\n     <use x=\"1081.128906\" xlink:href=\"#DejaVuSans-114\"/>\n     <use x=\"1122.242188\" xlink:href=\"#DejaVuSans-97\"/>\n     <use x=\"1183.521484\" xlink:href=\"#DejaVuSans-110\"/>\n     <use x=\"1246.900391\" xlink:href=\"#DejaVuSans-115\"/>\n     <use x=\"1299\" xlink:href=\"#DejaVuSans-99\"/>\n     <use x=\"1353.980469\" xlink:href=\"#DejaVuSans-114\"/>\n     <use x=\"1395.09375\" xlink:href=\"#DejaVuSans-105\"/>\n     <use x=\"1422.876953\" xlink:href=\"#DejaVuSans-112\"/>\n     <use x=\"1486.353516\" xlink:href=\"#DejaVuSans-116\"/>\n     <use x=\"1525.5625\" xlink:href=\"#DejaVuSans-115\"/>\n     <use x=\"1577.662109\" xlink:href=\"#DejaVuSans-32\"/>\n     <use x=\"1609.449219\" xlink:href=\"#DejaVuSans-98\"/>\n     <use x=\"1672.925781\" xlink:href=\"#DejaVuSans-121\"/>\n     <use x=\"1732.105469\" xlink:href=\"#DejaVuSans-32\"/>\n     <use x=\"1763.892578\" xlink:href=\"#DejaVuSans-84\"/>\n     <use x=\"1824.742188\" xlink:href=\"#DejaVuSans-121\"/>\n     <use x=\"1883.921875\" xlink:href=\"#DejaVuSans-112\"/>\n     <use x=\"1947.398438\" xlink:href=\"#DejaVuSans-101\"/>\n    </g>\n   </g>\n   <g id=\"legend_1\">\n    <g id=\"patch_16\">\n     <path d=\"M 623.553125 74.3525 \nL 708.6125 74.3525 \nQ 710.6125 74.3525 710.6125 72.3525 \nL 710.6125 29.318125 \nQ 710.6125 27.318125 708.6125 27.318125 \nL 623.553125 27.318125 \nQ 621.553125 27.318125 621.553125 29.318125 \nL 621.553125 72.3525 \nQ 621.553125 74.3525 623.553125 74.3525 \nz\n\" style=\"fill:#ffffff;opacity:0.8;stroke:#cccccc;stroke-linejoin:miter;\"/>\n    </g>\n    <g id=\"patch_17\">\n     <path d=\"M 625.553125 38.916562 \nL 645.553125 38.916562 \nL 645.553125 31.916562 \nL 625.553125 31.916562 \nz\n\" style=\"fill:#4169e1;\"/>\n    </g>\n    <g id=\"text_21\">\n     <!-- received -->\n     <defs>\n      <path d=\"M 2.984375 54.6875 \nL 12.5 54.6875 \nL 29.59375 8.796875 \nL 46.6875 54.6875 \nL 56.203125 54.6875 \nL 35.6875 0 \nL 23.484375 0 \nz\n\" id=\"DejaVuSans-118\"/>\n     </defs>\n     <g transform=\"translate(653.553125 38.916562)scale(0.1 -0.1)\">\n      <use xlink:href=\"#DejaVuSans-114\"/>\n      <use x=\"41.082031\" xlink:href=\"#DejaVuSans-101\"/>\n      <use x=\"102.605469\" xlink:href=\"#DejaVuSans-99\"/>\n      <use x=\"157.585938\" xlink:href=\"#DejaVuSans-101\"/>\n      <use x=\"219.109375\" xlink:href=\"#DejaVuSans-105\"/>\n      <use x=\"246.892578\" xlink:href=\"#DejaVuSans-118\"/>\n      <use x=\"306.072266\" xlink:href=\"#DejaVuSans-101\"/>\n      <use x=\"367.595703\" xlink:href=\"#DejaVuSans-100\"/>\n     </g>\n    </g>\n    <g id=\"patch_18\">\n     <path d=\"M 625.553125 53.594687 \nL 645.553125 53.594687 \nL 645.553125 46.594687 \nL 625.553125 46.594687 \nz\n\" style=\"fill:#00bfff;\"/>\n    </g>\n    <g id=\"text_22\">\n     <!-- viewed -->\n     <defs>\n      <path d=\"M 4.203125 54.6875 \nL 13.1875 54.6875 \nL 24.421875 12.015625 \nL 35.59375 54.6875 \nL 46.1875 54.6875 \nL 57.421875 12.015625 \nL 68.609375 54.6875 \nL 77.59375 54.6875 \nL 63.28125 0 \nL 52.6875 0 \nL 40.921875 44.828125 \nL 29.109375 0 \nL 18.5 0 \nz\n\" id=\"DejaVuSans-119\"/>\n     </defs>\n     <g transform=\"translate(653.553125 53.594687)scale(0.1 -0.1)\">\n      <use xlink:href=\"#DejaVuSans-118\"/>\n      <use x=\"59.179688\" xlink:href=\"#DejaVuSans-105\"/>\n      <use x=\"86.962891\" xlink:href=\"#DejaVuSans-101\"/>\n      <use x=\"148.486328\" xlink:href=\"#DejaVuSans-119\"/>\n      <use x=\"230.273438\" xlink:href=\"#DejaVuSans-101\"/>\n      <use x=\"291.796875\" xlink:href=\"#DejaVuSans-100\"/>\n     </g>\n    </g>\n    <g id=\"patch_19\">\n     <path d=\"M 625.553125 68.272812 \nL 645.553125 68.272812 \nL 645.553125 61.272812 \nL 625.553125 61.272812 \nz\n\" style=\"fill:#00ffff;\"/>\n    </g>\n    <g id=\"text_23\">\n     <!-- completed -->\n     <g transform=\"translate(653.553125 68.272812)scale(0.1 -0.1)\">\n      <use xlink:href=\"#DejaVuSans-99\"/>\n      <use x=\"54.980469\" xlink:href=\"#DejaVuSans-111\"/>\n      <use x=\"116.162109\" xlink:href=\"#DejaVuSans-109\"/>\n      <use x=\"213.574219\" xlink:href=\"#DejaVuSans-112\"/>\n      <use x=\"277.050781\" xlink:href=\"#DejaVuSans-108\"/>\n      <use x=\"304.833984\" xlink:href=\"#DejaVuSans-101\"/>\n      <use x=\"366.357422\" xlink:href=\"#DejaVuSans-116\"/>\n      <use x=\"405.566406\" xlink:href=\"#DejaVuSans-101\"/>\n      <use x=\"467.089844\" xlink:href=\"#DejaVuSans-100\"/>\n     </g>\n    </g>\n   </g>\n  </g>\n </g>\n <defs>\n  <clipPath id=\"pbcb1695d50\">\n   <rect height=\"434.88\" width=\"669.6\" x=\"46.0125\" y=\"22.318125\"/>\n  </clipPath>\n </defs>\n</svg>\n",
      "image/png": "[encoded data removed]"
     },
     "metadata": {
      "needs_background": "light"
     }
    }
   ],
   "source": [
    "# plot merged dataset offer types \n",
    "offer_cnt = transcript.groupby(['event', 'offer_type'])['offer_type'].count()\n",
    "complete_cnt = [offer_cnt[0], offer_cnt[1], 0]\n",
    "receive_cnt = offer_cnt[2:5]\n",
    "view_cnt = offer_cnt[5:]\n",
    "\n",
    "x = ['bogo', 'discount', 'informational']\n",
    "\n",
    "plt.figure(figsize=(12, 8))\n",
    "\n",
    "ax1 = plt.bar(x, receive_cnt, width=0.5, color='royalblue',\n",
    "              label='received', align='center')\n",
    "ax2 = plt.bar(x, view_cnt, width=0.5, color='deepskyblue',\n",
    "              label='viewed', align='center')\n",
    "ax3 = plt.bar(x, complete_cnt, width=0.5, color='aqua',\n",
    "              label='completed', align='center')\n",
    "\n",
    "for r1, r2, r3 in zip(ax3, ax2, ax1):\n",
    "    h1 = r1.get_height()\n",
    "    h2 = r2.get_height()\n",
    "    h3 = r3.get_height()\n",
    "    \n",
    "    plt.text(r1.get_x() + r1.get_width() / 2., \n",
    "             h1 / 2., \n",
    "             \"%d\" % h1, \n",
    "             ha=\"center\", va=\"bottom\", color=\"white\", \n",
    "             fontsize=16, fontweight=\"bold\")\n",
    "    \n",
    "    plt.text(r2.get_x() + r2.get_width() / 2., \n",
    "             h1 + (h2 - h1) / 2., \n",
    "             \"%d\" % h2, \n",
    "             ha=\"center\", va=\"bottom\", color=\"white\", \n",
    "             fontsize=16, fontweight=\"bold\")\n",
    "    \n",
    "    plt.text(r3.get_x() + r3.get_width() / 2., \n",
    "             h2 + (h3 - h2) / 2., \n",
    "             \"%d\" % h3, \n",
    "             ha=\"center\", va=\"bottom\", color=\"white\", \n",
    "             fontsize=16, fontweight=\"bold\")\n",
    "\n",
    "plt.legend(loc='upper right')\n",
    "plt.title('Number of Offers in Transcripts by Type')"
   ]
  },
  {
   "cell_type": "markdown",
   "metadata": {},
   "source": [
    "### 2. Subset by Categories\n",
    "\n",
    "Typically, we have the following customer behaviours:\n",
    "\n",
    "    1. make the transaction after receiving and viewing the offer\n",
    "\n",
    "    2. viewing the offer and make no transaction\n",
    "\n",
    "    3. make the transaction without receiving or viewing the offer\n",
    "\n",
    "As for offer types, we can see from above that `offer_id` is not directly linked to `transaction` events, hence, we need to establish these links.\n",
    "\n",
    "For `bogo` and `discount` offer, they have an obvious consequence of offer received, viewed, transaction and hence the offer completes.\n",
    "\n",
    "However, for the `information` offer, there's no reward step for the easy links to transactions, we need a work around.\n",
    "\n",
    "#### 2.1 `bogo` and `discount`\n",
    "\n",
    "##### 2.1.1 Responsive Customers\n",
    "\n",
    "Only the first kind of customers are regarded as responsive.\n",
    "\n",
    "Before flagging any data, we need to reorganize the data first."
   ]
  },
  {
   "cell_type": "code",
   "execution_count": 18,
   "metadata": {
    "pycharm": {
     "name": "#%%\n"
    }
   },
   "outputs": [
    {
     "output_type": "execute_result",
     "data": {
      "text/plain": "    index                            person           event  time  amount  \\\n0   55972  0009655768c64bdeb2e877511632db8f  offer received   7.0     NaN   \n1   77705  0009655768c64bdeb2e877511632db8f    offer viewed   8.0     NaN   \n2   89291  0009655768c64bdeb2e877511632db8f     transaction   9.5   22.16   \n3  113605  0009655768c64bdeb2e877511632db8f  offer received  14.0     NaN   \n4  139992  0009655768c64bdeb2e877511632db8f    offer viewed  15.5     NaN   \n\n                           offer_id  difficulty  duration     offer_type  \\\n0  5a8bc65990b245e5a138643cd4eb9837         0.0       3.0  informational   \n1  5a8bc65990b245e5a138643cd4eb9837         0.0       3.0  informational   \n2                               NaN         NaN       NaN            NaN   \n3  3f207df678b143eea3cee63160fa8bed         0.0       4.0  informational   \n4  3f207df678b143eea3cee63160fa8bed         0.0       4.0  informational   \n\n   email  mobile  social  web  \n0      1       1       1    0  \n1      1       1       1    0  \n2      0       0       0    0  \n3      1       1       0    1  \n4      1       1       0    1  ",
      "text/html": "<div>\n<style scoped>\n    .dataframe tbody tr th:only-of-type {\n        vertical-align: middle;\n    }\n\n    .dataframe tbody tr th {\n        vertical-align: top;\n    }\n\n    .dataframe thead th {\n        text-align: right;\n    }\n</style>\n<table border=\"1\" class=\"dataframe\">\n  <thead>\n    <tr style=\"text-align: right;\">\n      <th></th>\n      <th>index</th>\n      <th>person</th>\n      <th>event</th>\n      <th>time</th>\n      <th>amount</th>\n      <th>offer_id</th>\n      <th>difficulty</th>\n      <th>duration</th>\n      <th>offer_type</th>\n      <th>email</th>\n      <th>mobile</th>\n      <th>social</th>\n      <th>web</th>\n    </tr>\n  </thead>\n  <tbody>\n    <tr>\n      <th>0</th>\n      <td>55972</td>\n      <td>0009655768c64bdeb2e877511632db8f</td>\n      <td>offer received</td>\n      <td>7.0</td>\n      <td>NaN</td>\n      <td>5a8bc65990b245e5a138643cd4eb9837</td>\n      <td>0.0</td>\n      <td>3.0</td>\n      <td>informational</td>\n      <td>1</td>\n      <td>1</td>\n      <td>1</td>\n      <td>0</td>\n    </tr>\n    <tr>\n      <th>1</th>\n      <td>77705</td>\n      <td>0009655768c64bdeb2e877511632db8f</td>\n      <td>offer viewed</td>\n      <td>8.0</td>\n      <td>NaN</td>\n      <td>5a8bc65990b245e5a138643cd4eb9837</td>\n      <td>0.0</td>\n      <td>3.0</td>\n      <td>informational</td>\n      <td>1</td>\n      <td>1</td>\n      <td>1</td>\n      <td>0</td>\n    </tr>\n    <tr>\n      <th>2</th>\n      <td>89291</td>\n      <td>0009655768c64bdeb2e877511632db8f</td>\n      <td>transaction</td>\n      <td>9.5</td>\n      <td>22.16</td>\n      <td>NaN</td>\n      <td>NaN</td>\n      <td>NaN</td>\n      <td>NaN</td>\n      <td>0</td>\n      <td>0</td>\n      <td>0</td>\n      <td>0</td>\n    </tr>\n    <tr>\n      <th>3</th>\n      <td>113605</td>\n      <td>0009655768c64bdeb2e877511632db8f</td>\n      <td>offer received</td>\n      <td>14.0</td>\n      <td>NaN</td>\n      <td>3f207df678b143eea3cee63160fa8bed</td>\n      <td>0.0</td>\n      <td>4.0</td>\n      <td>informational</td>\n      <td>1</td>\n      <td>1</td>\n      <td>0</td>\n      <td>1</td>\n    </tr>\n    <tr>\n      <th>4</th>\n      <td>139992</td>\n      <td>0009655768c64bdeb2e877511632db8f</td>\n      <td>offer viewed</td>\n      <td>15.5</td>\n      <td>NaN</td>\n      <td>3f207df678b143eea3cee63160fa8bed</td>\n      <td>0.0</td>\n      <td>4.0</td>\n      <td>informational</td>\n      <td>1</td>\n      <td>1</td>\n      <td>0</td>\n      <td>1</td>\n    </tr>\n  </tbody>\n</table>\n</div>"
     },
     "metadata": {},
     "execution_count": 18
    }
   ],
   "source": [
    "# drop the dummy columns created by `merge`\n",
    "transcript_processed = transcript.drop(columns=['reward_x',\n",
    "                                                'reward_y',\n",
    "                                                'id',\n",
    "                                                'value'],\n",
    "                                       axis=1, inplace=False)\n",
    "\n",
    "transcript_processed['email'] = 0\n",
    "transcript_processed['mobile'] = 0\n",
    "transcript_processed['social'] = 0\n",
    "transcript_processed['web'] = 0\n",
    "\n",
    "for i in range(transcript_processed.shape[0]):\n",
    "    try:\n",
    "        transcript_processed['email'].iloc[i] = \\\n",
    "                np.where(('email' in transcript_processed.channels.iloc[i]),\n",
    "                         1, 0)\n",
    "    \n",
    "        transcript_processed['mobile'].iloc[i] = \\\n",
    "                np.where(('mobile' in transcript_processed.channels.iloc[i]),\n",
    "                         1, 0)\n",
    "    \n",
    "        transcript_processed['social'].iloc[i] = \\\n",
    "                np.where(('social' in transcript_processed.channels.iloc[i]),\n",
    "                         1, 0)\n",
    "    \n",
    "        transcript_processed['web'].iloc[i] = \\\n",
    "                np.where(('web' in transcript_processed.channels.iloc[i]),\n",
    "                         1, 0)\n",
    "    except:\n",
    "        pass\n",
    "\n",
    "transcript_processed.drop(columns=['channels'], axis=1, inplace=True)\n",
    "transcript_processed['time'] = transcript_processed['time'] / 24\n",
    "    \n",
    "# sort the events by person and time\n",
    "transcript_processed = transcript_processed.sort_values(['person',\n",
    "                                                         'time']).reset_index()\n",
    "transcript_processed.head()"
   ]
  },
  {
   "cell_type": "code",
   "execution_count": null,
   "metadata": {},
   "outputs": [],
   "source": [
    "person_offer_df = pd.DataFrame(columns=['person', 'amount', \n",
    "                                        'offer_id', 'offer_type',\n",
    "                                        'difficulty', 'duration',\n",
    "                                        'email', 'mobile', \n",
    "                                        'social', 'web',\n",
    "                                        'received', 'viewed',\n",
    "                                        'completed', 'transaction'])\n",
    "\n",
    "unrelated_transaction_df = pd.DataFrame(columns=['person', \n",
    "                                                 'amount',\n",
    "                                                 'time'])\n",
    "\n",
    "for i in range(transcript_processed.shape[0]):\n",
    "    \n",
    "    received = 0\n",
    "    viewed = 0\n",
    "    completed = 0\n",
    "    transaction = 0\n",
    "    \n",
    "    if transcript_processed.event.iloc[i] == 'offer received':\n",
    "        received = 1\n",
    "        person = transcript_processed.person.iloc[i]\n",
    "        ofr_id = transcript_processed.offer_id.iloc[i]\n",
    "        start_time = transcript_processed.time.iloc[i]\n",
    "        duration = transcript_processed.duration.iloc[i]\n",
    "        \n",
    "        if (transcript_processed.event.iloc[i+1] == 'offer viewed') and \\\n",
    "           (transcript_processed.offer_id.iloc[i+1] == ofr_id) and \\\n",
    "           (transcript_processed.person.iloc[i+1] == person):\n",
    "            viewed = 1\n",
    "            \n",
    "            if (transcript_processed.event.iloc[i+2] == 'offer completed') and \\\n",
    "               (transcript_processed.offer_id.iloc[i+2] == ofr_id) and \\\n",
    "               (transcript_processed.person.iloc[i+2] == person):\n",
    "                completed = 1\n",
    "                \n",
    "                if (transcript_processed.event.iloc[i+3] == 'transaction') and \\\n",
    "                   (transcript_processed.person.iloc[i+3] == person):\n",
    "                    transaction = 1\n",
    "                    end_time = transcript_processed.time.iloc[i+3]\n",
    "                    \n",
    "                    if end_time - start_time <= duration:\n",
    "                        new_entry = [transcript_processed.person.iloc[i],\n",
    "                                     transcript_processed.amount.iloc[i+3],\n",
    "                                     transcript_processed.offer_id.iloc[i],\n",
    "                                     transcript_processed.offer_type.iloc[i],\n",
    "                                     transcript_processed.difficulty.iloc[i],\n",
    "                                     transcript_processed.duration.iloc[i],\n",
    "                                     transcript_processed.email.iloc[i],\n",
    "                                     transcript_processed.mobile.iloc[i],\n",
    "                                     transcript_processed.social.iloc[i],\n",
    "                                     transcript_processed.web.iloc[i],\n",
    "                                     received, viewed,\n",
    "                                     completed, transaction]\n",
    "\n",
    "                        person_offer_df.append(pd.DataFrame(new_entry))\n",
    "\n",
    "                    elif end_time - start_time > duration:\n",
    "                        new_entry = [transcript_processed.person.iloc[i+3],\n",
    "                                     transcript_processed.amount.iloc[i+3],\n",
    "                                     transcript_processed.time.iloc[i+3]]\n",
    "                        \n",
    "                        unrelated_transaction_df.append(pd.DataFrame(new_entry))\n",
    "            \n",
    "            elif transcript_processed.event.iloc[i+2] == 'transaction':\n",
    "                pass\n",
    "    elif transcript_processed.event.iloc[i] == 'offer viewed':\n",
    "        pass\n",
    "    elif transcript_processed.event.iloc[i] == 'offer completed':\n",
    "        pass\n",
    "    elif transcript_processed.event.iloc[i] == 'transaction':\n",
    "        pass\n",
    "\n",
    "    if viewed == 1:\n",
    "        i += 1\n",
    "        if completed == 1:\n",
    "            i += 1\n",
    "            if transaction == 1:\n",
    "                i += 1\n"
   ]
  },
  {
   "cell_type": "code",
   "execution_count": 47,
   "metadata": {
    "pycharm": {
     "name": "#%%\n"
    }
   },
   "outputs": [
    {
     "data": {
      "text/html": [
       "<div>\n",
       "<style scoped>\n",
       "    .dataframe tbody tr th:only-of-type {\n",
       "        vertical-align: middle;\n",
       "    }\n",
       "\n",
       "    .dataframe tbody tr th {\n",
       "        vertical-align: top;\n",
       "    }\n",
       "\n",
       "    .dataframe thead th {\n",
       "        text-align: right;\n",
       "    }\n",
       "</style>\n",
       "<table border=\"1\" class=\"dataframe\">\n",
       "  <thead>\n",
       "    <tr style=\"text-align: right;\">\n",
       "      <th></th>\n",
       "      <th>time</th>\n",
       "      <th>offer_id</th>\n",
       "      <th>person</th>\n",
       "      <th>event</th>\n",
       "    </tr>\n",
       "  </thead>\n",
       "  <tbody>\n",
       "    <tr>\n",
       "      <th>1</th>\n",
       "      <td>8.00</td>\n",
       "      <td>5a8bc65990b245e5a138643cd4eb9837</td>\n",
       "      <td>0009655768c64bdeb2e877511632db8f</td>\n",
       "      <td>offer viewed</td>\n",
       "    </tr>\n",
       "    <tr>\n",
       "      <th>2</th>\n",
       "      <td>9.50</td>\n",
       "      <td>5a8bc65990b245e5a138643cd4eb9837</td>\n",
       "      <td>0009655768c64bdeb2e877511632db8f</td>\n",
       "      <td>transaction</td>\n",
       "    </tr>\n",
       "    <tr>\n",
       "      <th>4</th>\n",
       "      <td>15.50</td>\n",
       "      <td>3f207df678b143eea3cee63160fa8bed</td>\n",
       "      <td>0009655768c64bdeb2e877511632db8f</td>\n",
       "      <td>offer viewed</td>\n",
       "    </tr>\n",
       "    <tr>\n",
       "      <th>6</th>\n",
       "      <td>17.25</td>\n",
       "      <td>3f207df678b143eea3cee63160fa8bed</td>\n",
       "      <td>0009655768c64bdeb2e877511632db8f</td>\n",
       "      <td>transaction</td>\n",
       "    </tr>\n",
       "    <tr>\n",
       "      <th>8</th>\n",
       "      <td>19.00</td>\n",
       "      <td>f19421c1d4aa40978ebb69ca19b0e20d</td>\n",
       "      <td>0009655768c64bdeb2e877511632db8f</td>\n",
       "      <td>offer viewed</td>\n",
       "    </tr>\n",
       "  </tbody>\n",
       "</table>\n",
       "</div>"
      ],
      "text/plain": [
       "    time                          offer_id                            person  \\\n",
       "1   8.00  5a8bc65990b245e5a138643cd4eb9837  0009655768c64bdeb2e877511632db8f   \n",
       "2   9.50  5a8bc65990b245e5a138643cd4eb9837  0009655768c64bdeb2e877511632db8f   \n",
       "4  15.50  3f207df678b143eea3cee63160fa8bed  0009655768c64bdeb2e877511632db8f   \n",
       "6  17.25  3f207df678b143eea3cee63160fa8bed  0009655768c64bdeb2e877511632db8f   \n",
       "8  19.00  f19421c1d4aa40978ebb69ca19b0e20d  0009655768c64bdeb2e877511632db8f   \n",
       "\n",
       "          event  \n",
       "1  offer viewed  \n",
       "2   transaction  \n",
       "4  offer viewed  \n",
       "6   transaction  \n",
       "8  offer viewed  "
      ]
     },
     "execution_count": 47,
     "metadata": {},
     "output_type": "execute_result"
    }
   ],
   "source": [
    "offer_completed = transcript_processed[['time','offer_id','person','event']] \\\n",
    "                                      [(transcript_processed['event']== \\\n",
    "                                            'transaction') |\n",
    "                                       (transcript_processed['event']==\n",
    "                                            'offer viewed')]\n",
    "\n",
    "offer_completed['offer_id'] = offer_completed['offer_id'].ffill()\n",
    "offer_completed.head()"
   ]
  },
  {
   "cell_type": "code",
   "execution_count": 43,
   "metadata": {
    "pycharm": {
     "name": "#%%\n"
    }
   },
   "outputs": [],
   "source": [
    "# create the complete whole dataset for filtered data\n",
    "transcript_processed = transcript_processed.merge(offer_completed,\n",
    "                                                  how='left',\n",
    "                                                  on=['person','time','event'])\n",
    "\n",
    "# drop the dummy columns created by `merge`\n",
    "transcript_processed['offer_id'] = np.where(transcript_processed['offer_id_x'] \\\n",
    "                                                .isnull(),\n",
    "                                            transcript_processed['offer_id_y'],\n",
    "                                            transcript_processed['offer_id_x'])\n",
    "\n",
    "transcript_processed.drop(columns=['offer_id_x','offer_id_y'],\n",
    "                          axis=1, inplace=True)"
   ]
  },
  {
   "cell_type": "code",
   "execution_count": 44,
   "metadata": {
    "pycharm": {
     "name": "#%%\n"
    }
   },
   "outputs": [
    {
     "data": {
      "text/html": [
       "<div>\n",
       "<style scoped>\n",
       "    .dataframe tbody tr th:only-of-type {\n",
       "        vertical-align: middle;\n",
       "    }\n",
       "\n",
       "    .dataframe tbody tr th {\n",
       "        vertical-align: top;\n",
       "    }\n",
       "\n",
       "    .dataframe thead th {\n",
       "        text-align: right;\n",
       "    }\n",
       "</style>\n",
       "<table border=\"1\" class=\"dataframe\">\n",
       "  <thead>\n",
       "    <tr style=\"text-align: right;\">\n",
       "      <th></th>\n",
       "      <th>index</th>\n",
       "      <th>person</th>\n",
       "      <th>event</th>\n",
       "      <th>time</th>\n",
       "      <th>amount</th>\n",
       "      <th>difficulty</th>\n",
       "      <th>duration</th>\n",
       "      <th>offer_type</th>\n",
       "      <th>email</th>\n",
       "      <th>mobile</th>\n",
       "      <th>social</th>\n",
       "      <th>web</th>\n",
       "      <th>offer_id</th>\n",
       "    </tr>\n",
       "  </thead>\n",
       "  <tbody>\n",
       "    <tr>\n",
       "      <th>0</th>\n",
       "      <td>55972</td>\n",
       "      <td>0009655768c64bdeb2e877511632db8f</td>\n",
       "      <td>offer received</td>\n",
       "      <td>7.0</td>\n",
       "      <td>NaN</td>\n",
       "      <td>0.0</td>\n",
       "      <td>3.0</td>\n",
       "      <td>informational</td>\n",
       "      <td>1</td>\n",
       "      <td>1</td>\n",
       "      <td>1</td>\n",
       "      <td>0</td>\n",
       "      <td>5a8bc65990b245e5a138643cd4eb9837</td>\n",
       "    </tr>\n",
       "    <tr>\n",
       "      <th>1</th>\n",
       "      <td>77705</td>\n",
       "      <td>0009655768c64bdeb2e877511632db8f</td>\n",
       "      <td>offer viewed</td>\n",
       "      <td>8.0</td>\n",
       "      <td>NaN</td>\n",
       "      <td>0.0</td>\n",
       "      <td>3.0</td>\n",
       "      <td>informational</td>\n",
       "      <td>1</td>\n",
       "      <td>1</td>\n",
       "      <td>1</td>\n",
       "      <td>0</td>\n",
       "      <td>5a8bc65990b245e5a138643cd4eb9837</td>\n",
       "    </tr>\n",
       "    <tr>\n",
       "      <th>2</th>\n",
       "      <td>89291</td>\n",
       "      <td>0009655768c64bdeb2e877511632db8f</td>\n",
       "      <td>transaction</td>\n",
       "      <td>9.5</td>\n",
       "      <td>22.16</td>\n",
       "      <td>NaN</td>\n",
       "      <td>NaN</td>\n",
       "      <td>NaN</td>\n",
       "      <td>0</td>\n",
       "      <td>0</td>\n",
       "      <td>0</td>\n",
       "      <td>0</td>\n",
       "      <td>5a8bc65990b245e5a138643cd4eb9837</td>\n",
       "    </tr>\n",
       "    <tr>\n",
       "      <th>3</th>\n",
       "      <td>113605</td>\n",
       "      <td>0009655768c64bdeb2e877511632db8f</td>\n",
       "      <td>offer received</td>\n",
       "      <td>14.0</td>\n",
       "      <td>NaN</td>\n",
       "      <td>0.0</td>\n",
       "      <td>4.0</td>\n",
       "      <td>informational</td>\n",
       "      <td>1</td>\n",
       "      <td>1</td>\n",
       "      <td>0</td>\n",
       "      <td>1</td>\n",
       "      <td>3f207df678b143eea3cee63160fa8bed</td>\n",
       "    </tr>\n",
       "    <tr>\n",
       "      <th>4</th>\n",
       "      <td>139992</td>\n",
       "      <td>0009655768c64bdeb2e877511632db8f</td>\n",
       "      <td>offer viewed</td>\n",
       "      <td>15.5</td>\n",
       "      <td>NaN</td>\n",
       "      <td>0.0</td>\n",
       "      <td>4.0</td>\n",
       "      <td>informational</td>\n",
       "      <td>1</td>\n",
       "      <td>1</td>\n",
       "      <td>0</td>\n",
       "      <td>1</td>\n",
       "      <td>3f207df678b143eea3cee63160fa8bed</td>\n",
       "    </tr>\n",
       "  </tbody>\n",
       "</table>\n",
       "</div>"
      ],
      "text/plain": [
       "    index                            person           event  time  amount  \\\n",
       "0   55972  0009655768c64bdeb2e877511632db8f  offer received   7.0     NaN   \n",
       "1   77705  0009655768c64bdeb2e877511632db8f    offer viewed   8.0     NaN   \n",
       "2   89291  0009655768c64bdeb2e877511632db8f     transaction   9.5   22.16   \n",
       "3  113605  0009655768c64bdeb2e877511632db8f  offer received  14.0     NaN   \n",
       "4  139992  0009655768c64bdeb2e877511632db8f    offer viewed  15.5     NaN   \n",
       "\n",
       "   difficulty  duration     offer_type  email  mobile  social  web  \\\n",
       "0         0.0       3.0  informational      1       1       1    0   \n",
       "1         0.0       3.0  informational      1       1       1    0   \n",
       "2         NaN       NaN            NaN      0       0       0    0   \n",
       "3         0.0       4.0  informational      1       1       0    1   \n",
       "4         0.0       4.0  informational      1       1       0    1   \n",
       "\n",
       "                           offer_id  \n",
       "0  5a8bc65990b245e5a138643cd4eb9837  \n",
       "1  5a8bc65990b245e5a138643cd4eb9837  \n",
       "2  5a8bc65990b245e5a138643cd4eb9837  \n",
       "3  3f207df678b143eea3cee63160fa8bed  \n",
       "4  3f207df678b143eea3cee63160fa8bed  "
      ]
     },
     "execution_count": 44,
     "metadata": {},
     "output_type": "execute_result"
    }
   ],
   "source": [
    "transcript_processed.head()"
   ]
  },
  {
   "cell_type": "code",
   "execution_count": 46,
   "metadata": {},
   "outputs": [
    {
     "data": {
      "text/html": [
       "<div>\n",
       "<style scoped>\n",
       "    .dataframe tbody tr th:only-of-type {\n",
       "        vertical-align: middle;\n",
       "    }\n",
       "\n",
       "    .dataframe tbody tr th {\n",
       "        vertical-align: top;\n",
       "    }\n",
       "\n",
       "    .dataframe thead th {\n",
       "        text-align: right;\n",
       "    }\n",
       "</style>\n",
       "<table border=\"1\" class=\"dataframe\">\n",
       "  <thead>\n",
       "    <tr style=\"text-align: right;\">\n",
       "      <th></th>\n",
       "      <th>index</th>\n",
       "      <th>person</th>\n",
       "      <th>event</th>\n",
       "      <th>time</th>\n",
       "      <th>amount</th>\n",
       "      <th>difficulty</th>\n",
       "      <th>duration</th>\n",
       "      <th>offer_type</th>\n",
       "      <th>email</th>\n",
       "      <th>mobile</th>\n",
       "      <th>social</th>\n",
       "      <th>web</th>\n",
       "      <th>offer_id</th>\n",
       "    </tr>\n",
       "  </thead>\n",
       "  <tbody>\n",
       "    <tr>\n",
       "      <th>0</th>\n",
       "      <td>55972</td>\n",
       "      <td>0009655768c64bdeb2e877511632db8f</td>\n",
       "      <td>offer received</td>\n",
       "      <td>7.00</td>\n",
       "      <td>NaN</td>\n",
       "      <td>0.0</td>\n",
       "      <td>3.0</td>\n",
       "      <td>informational</td>\n",
       "      <td>1</td>\n",
       "      <td>1</td>\n",
       "      <td>1</td>\n",
       "      <td>0</td>\n",
       "      <td>5a8bc65990b245e5a138643cd4eb9837</td>\n",
       "    </tr>\n",
       "    <tr>\n",
       "      <th>1</th>\n",
       "      <td>77705</td>\n",
       "      <td>0009655768c64bdeb2e877511632db8f</td>\n",
       "      <td>offer viewed</td>\n",
       "      <td>8.00</td>\n",
       "      <td>NaN</td>\n",
       "      <td>0.0</td>\n",
       "      <td>3.0</td>\n",
       "      <td>informational</td>\n",
       "      <td>1</td>\n",
       "      <td>1</td>\n",
       "      <td>1</td>\n",
       "      <td>0</td>\n",
       "      <td>5a8bc65990b245e5a138643cd4eb9837</td>\n",
       "    </tr>\n",
       "    <tr>\n",
       "      <th>2</th>\n",
       "      <td>89291</td>\n",
       "      <td>0009655768c64bdeb2e877511632db8f</td>\n",
       "      <td>transaction</td>\n",
       "      <td>9.50</td>\n",
       "      <td>22.16</td>\n",
       "      <td>NaN</td>\n",
       "      <td>NaN</td>\n",
       "      <td>NaN</td>\n",
       "      <td>0</td>\n",
       "      <td>0</td>\n",
       "      <td>0</td>\n",
       "      <td>0</td>\n",
       "      <td>5a8bc65990b245e5a138643cd4eb9837</td>\n",
       "    </tr>\n",
       "    <tr>\n",
       "      <th>3</th>\n",
       "      <td>113605</td>\n",
       "      <td>0009655768c64bdeb2e877511632db8f</td>\n",
       "      <td>offer received</td>\n",
       "      <td>14.00</td>\n",
       "      <td>NaN</td>\n",
       "      <td>0.0</td>\n",
       "      <td>4.0</td>\n",
       "      <td>informational</td>\n",
       "      <td>1</td>\n",
       "      <td>1</td>\n",
       "      <td>0</td>\n",
       "      <td>1</td>\n",
       "      <td>3f207df678b143eea3cee63160fa8bed</td>\n",
       "    </tr>\n",
       "    <tr>\n",
       "      <th>4</th>\n",
       "      <td>139992</td>\n",
       "      <td>0009655768c64bdeb2e877511632db8f</td>\n",
       "      <td>offer viewed</td>\n",
       "      <td>15.50</td>\n",
       "      <td>NaN</td>\n",
       "      <td>0.0</td>\n",
       "      <td>4.0</td>\n",
       "      <td>informational</td>\n",
       "      <td>1</td>\n",
       "      <td>1</td>\n",
       "      <td>0</td>\n",
       "      <td>1</td>\n",
       "      <td>3f207df678b143eea3cee63160fa8bed</td>\n",
       "    </tr>\n",
       "    <tr>\n",
       "      <th>...</th>\n",
       "      <td>...</td>\n",
       "      <td>...</td>\n",
       "      <td>...</td>\n",
       "      <td>...</td>\n",
       "      <td>...</td>\n",
       "      <td>...</td>\n",
       "      <td>...</td>\n",
       "      <td>...</td>\n",
       "      <td>...</td>\n",
       "      <td>...</td>\n",
       "      <td>...</td>\n",
       "      <td>...</td>\n",
       "      <td>...</td>\n",
       "    </tr>\n",
       "    <tr>\n",
       "      <th>306519</th>\n",
       "      <td>152030</td>\n",
       "      <td>ffff82501cea40309d5fdd7edcca4a07</td>\n",
       "      <td>offer received</td>\n",
       "      <td>17.00</td>\n",
       "      <td>NaN</td>\n",
       "      <td>10.0</td>\n",
       "      <td>7.0</td>\n",
       "      <td>discount</td>\n",
       "      <td>1</td>\n",
       "      <td>1</td>\n",
       "      <td>0</td>\n",
       "      <td>1</td>\n",
       "      <td>2906b810c7d4411798c6938adc9daaa5</td>\n",
       "    </tr>\n",
       "    <tr>\n",
       "      <th>306524</th>\n",
       "      <td>202962</td>\n",
       "      <td>ffff82501cea40309d5fdd7edcca4a07</td>\n",
       "      <td>offer received</td>\n",
       "      <td>21.00</td>\n",
       "      <td>NaN</td>\n",
       "      <td>5.0</td>\n",
       "      <td>7.0</td>\n",
       "      <td>bogo</td>\n",
       "      <td>1</td>\n",
       "      <td>1</td>\n",
       "      <td>0</td>\n",
       "      <td>1</td>\n",
       "      <td>9b98b8c7a33c4b65b9aebfe6a799e6d9</td>\n",
       "    </tr>\n",
       "    <tr>\n",
       "      <th>306526</th>\n",
       "      <td>214717</td>\n",
       "      <td>ffff82501cea40309d5fdd7edcca4a07</td>\n",
       "      <td>offer completed</td>\n",
       "      <td>21.00</td>\n",
       "      <td>NaN</td>\n",
       "      <td>5.0</td>\n",
       "      <td>7.0</td>\n",
       "      <td>bogo</td>\n",
       "      <td>1</td>\n",
       "      <td>1</td>\n",
       "      <td>0</td>\n",
       "      <td>1</td>\n",
       "      <td>9b98b8c7a33c4b65b9aebfe6a799e6d9</td>\n",
       "    </tr>\n",
       "    <tr>\n",
       "      <th>306527</th>\n",
       "      <td>230690</td>\n",
       "      <td>ffff82501cea40309d5fdd7edcca4a07</td>\n",
       "      <td>offer viewed</td>\n",
       "      <td>22.25</td>\n",
       "      <td>NaN</td>\n",
       "      <td>5.0</td>\n",
       "      <td>7.0</td>\n",
       "      <td>bogo</td>\n",
       "      <td>1</td>\n",
       "      <td>1</td>\n",
       "      <td>0</td>\n",
       "      <td>1</td>\n",
       "      <td>9b98b8c7a33c4b65b9aebfe6a799e6d9</td>\n",
       "    </tr>\n",
       "    <tr>\n",
       "      <th>306529</th>\n",
       "      <td>258361</td>\n",
       "      <td>ffff82501cea40309d5fdd7edcca4a07</td>\n",
       "      <td>transaction</td>\n",
       "      <td>24.00</td>\n",
       "      <td>14.23</td>\n",
       "      <td>NaN</td>\n",
       "      <td>NaN</td>\n",
       "      <td>NaN</td>\n",
       "      <td>0</td>\n",
       "      <td>0</td>\n",
       "      <td>0</td>\n",
       "      <td>0</td>\n",
       "      <td>9b98b8c7a33c4b65b9aebfe6a799e6d9</td>\n",
       "    </tr>\n",
       "  </tbody>\n",
       "</table>\n",
       "<p>233627 rows × 13 columns</p>\n",
       "</div>"
      ],
      "text/plain": [
       "         index                            person            event   time  \\\n",
       "0        55972  0009655768c64bdeb2e877511632db8f   offer received   7.00   \n",
       "1        77705  0009655768c64bdeb2e877511632db8f     offer viewed   8.00   \n",
       "2        89291  0009655768c64bdeb2e877511632db8f      transaction   9.50   \n",
       "3       113605  0009655768c64bdeb2e877511632db8f   offer received  14.00   \n",
       "4       139992  0009655768c64bdeb2e877511632db8f     offer viewed  15.50   \n",
       "...        ...                               ...              ...    ...   \n",
       "306519  152030  ffff82501cea40309d5fdd7edcca4a07   offer received  17.00   \n",
       "306524  202962  ffff82501cea40309d5fdd7edcca4a07   offer received  21.00   \n",
       "306526  214717  ffff82501cea40309d5fdd7edcca4a07  offer completed  21.00   \n",
       "306527  230690  ffff82501cea40309d5fdd7edcca4a07     offer viewed  22.25   \n",
       "306529  258361  ffff82501cea40309d5fdd7edcca4a07      transaction  24.00   \n",
       "\n",
       "        amount  difficulty  duration     offer_type  email  mobile  social  \\\n",
       "0          NaN         0.0       3.0  informational      1       1       1   \n",
       "1          NaN         0.0       3.0  informational      1       1       1   \n",
       "2        22.16         NaN       NaN            NaN      0       0       0   \n",
       "3          NaN         0.0       4.0  informational      1       1       0   \n",
       "4          NaN         0.0       4.0  informational      1       1       0   \n",
       "...        ...         ...       ...            ...    ...     ...     ...   \n",
       "306519     NaN        10.0       7.0       discount      1       1       0   \n",
       "306524     NaN         5.0       7.0           bogo      1       1       0   \n",
       "306526     NaN         5.0       7.0           bogo      1       1       0   \n",
       "306527     NaN         5.0       7.0           bogo      1       1       0   \n",
       "306529   14.23         NaN       NaN            NaN      0       0       0   \n",
       "\n",
       "        web                          offer_id  \n",
       "0         0  5a8bc65990b245e5a138643cd4eb9837  \n",
       "1         0  5a8bc65990b245e5a138643cd4eb9837  \n",
       "2         0  5a8bc65990b245e5a138643cd4eb9837  \n",
       "3         1  3f207df678b143eea3cee63160fa8bed  \n",
       "4         1  3f207df678b143eea3cee63160fa8bed  \n",
       "...     ...                               ...  \n",
       "306519    1  2906b810c7d4411798c6938adc9daaa5  \n",
       "306524    1  9b98b8c7a33c4b65b9aebfe6a799e6d9  \n",
       "306526    1  9b98b8c7a33c4b65b9aebfe6a799e6d9  \n",
       "306527    1  9b98b8c7a33c4b65b9aebfe6a799e6d9  \n",
       "306529    0  9b98b8c7a33c4b65b9aebfe6a799e6d9  \n",
       "\n",
       "[233627 rows x 13 columns]"
      ]
     },
     "execution_count": 46,
     "metadata": {},
     "output_type": "execute_result"
    }
   ],
   "source": [
    "tmp = transcript_processed.groupby(['person', 'offer_id'])\n",
    "tmp.head()"
   ]
  },
  {
   "cell_type": "code",
   "execution_count": 18,
   "metadata": {
    "pycharm": {
     "name": "#%%\n"
    }
   },
   "outputs": [],
   "source": [
    "transcript_processed = transcript_processed.merge(portfolio,\n",
    "                                                  how = 'left',\n",
    "                                                  left_on='offer_id',\n",
    "                                                  right_on='id')\n",
    "\n",
    "transcript_processed['duration'] = np.where(transcript_processed['duration_x'] \\\n",
    "                                                .isnull(),\n",
    "                                            transcript_processed['duration_y'],\n",
    "                                            transcript_processed['duration_x'])\n",
    "\n",
    "# drop the dummy columns created by `merge`\n",
    "transcript_processed.drop(columns=['duration_x','offer_type_x',\n",
    "                                   'difficulty_x','channels_x','duration_y'],\n",
    "                         axis=1, inplace=True)\n",
    "\n",
    "transcript_processed.rename(columns={'channels_y':'channels',\n",
    "                                     'reward_y':'reward',\n",
    "                                     'difficulty_y':'difficulty',\n",
    "                                     'offer_type_y':'offer_type'},\n",
    "                            inplace=True)"
   ]
  },
  {
   "cell_type": "code",
   "execution_count": 19,
   "metadata": {
    "pycharm": {
     "name": "#%%\n"
    }
   },
   "outputs": [
    {
     "data": {
      "text/html": [
       "<div>\n",
       "<style scoped>\n",
       "    .dataframe tbody tr th:only-of-type {\n",
       "        vertical-align: middle;\n",
       "    }\n",
       "\n",
       "    .dataframe tbody tr th {\n",
       "        vertical-align: top;\n",
       "    }\n",
       "\n",
       "    .dataframe thead th {\n",
       "        text-align: right;\n",
       "    }\n",
       "</style>\n",
       "<table border=\"1\" class=\"dataframe\">\n",
       "  <thead>\n",
       "    <tr style=\"text-align: right;\">\n",
       "      <th></th>\n",
       "      <th>person</th>\n",
       "      <th>event</th>\n",
       "      <th>value</th>\n",
       "      <th>time</th>\n",
       "      <th>amount</th>\n",
       "      <th>id_x</th>\n",
       "      <th>offer_id</th>\n",
       "      <th>reward</th>\n",
       "      <th>channels</th>\n",
       "      <th>difficulty</th>\n",
       "      <th>offer_type</th>\n",
       "      <th>id_y</th>\n",
       "      <th>duration</th>\n",
       "    </tr>\n",
       "  </thead>\n",
       "  <tbody>\n",
       "    <tr>\n",
       "      <th>0</th>\n",
       "      <td>0009655768c64bdeb2e877511632db8f</td>\n",
       "      <td>offer received</td>\n",
       "      <td>{'offer id': '5a8bc65990b245e5a138643cd4eb9837'}</td>\n",
       "      <td>168</td>\n",
       "      <td>NaN</td>\n",
       "      <td>5a8bc65990b245e5a138643cd4eb9837</td>\n",
       "      <td>5a8bc65990b245e5a138643cd4eb9837</td>\n",
       "      <td>0</td>\n",
       "      <td>[email, mobile, social]</td>\n",
       "      <td>0</td>\n",
       "      <td>informational</td>\n",
       "      <td>5a8bc65990b245e5a138643cd4eb9837</td>\n",
       "      <td>3.0</td>\n",
       "    </tr>\n",
       "    <tr>\n",
       "      <th>1</th>\n",
       "      <td>0009655768c64bdeb2e877511632db8f</td>\n",
       "      <td>offer viewed</td>\n",
       "      <td>{'offer id': '5a8bc65990b245e5a138643cd4eb9837'}</td>\n",
       "      <td>192</td>\n",
       "      <td>NaN</td>\n",
       "      <td>5a8bc65990b245e5a138643cd4eb9837</td>\n",
       "      <td>5a8bc65990b245e5a138643cd4eb9837</td>\n",
       "      <td>0</td>\n",
       "      <td>[email, mobile, social]</td>\n",
       "      <td>0</td>\n",
       "      <td>informational</td>\n",
       "      <td>5a8bc65990b245e5a138643cd4eb9837</td>\n",
       "      <td>3.0</td>\n",
       "    </tr>\n",
       "    <tr>\n",
       "      <th>2</th>\n",
       "      <td>0009655768c64bdeb2e877511632db8f</td>\n",
       "      <td>transaction</td>\n",
       "      <td>{'amount': 22.16}</td>\n",
       "      <td>228</td>\n",
       "      <td>22.16</td>\n",
       "      <td>NaN</td>\n",
       "      <td>5a8bc65990b245e5a138643cd4eb9837</td>\n",
       "      <td>0</td>\n",
       "      <td>[email, mobile, social]</td>\n",
       "      <td>0</td>\n",
       "      <td>informational</td>\n",
       "      <td>5a8bc65990b245e5a138643cd4eb9837</td>\n",
       "      <td>3.0</td>\n",
       "    </tr>\n",
       "    <tr>\n",
       "      <th>3</th>\n",
       "      <td>0009655768c64bdeb2e877511632db8f</td>\n",
       "      <td>offer received</td>\n",
       "      <td>{'offer id': '3f207df678b143eea3cee63160fa8bed'}</td>\n",
       "      <td>336</td>\n",
       "      <td>NaN</td>\n",
       "      <td>3f207df678b143eea3cee63160fa8bed</td>\n",
       "      <td>3f207df678b143eea3cee63160fa8bed</td>\n",
       "      <td>0</td>\n",
       "      <td>[web, email, mobile]</td>\n",
       "      <td>0</td>\n",
       "      <td>informational</td>\n",
       "      <td>3f207df678b143eea3cee63160fa8bed</td>\n",
       "      <td>4.0</td>\n",
       "    </tr>\n",
       "    <tr>\n",
       "      <th>4</th>\n",
       "      <td>0009655768c64bdeb2e877511632db8f</td>\n",
       "      <td>offer viewed</td>\n",
       "      <td>{'offer id': '3f207df678b143eea3cee63160fa8bed'}</td>\n",
       "      <td>372</td>\n",
       "      <td>NaN</td>\n",
       "      <td>3f207df678b143eea3cee63160fa8bed</td>\n",
       "      <td>3f207df678b143eea3cee63160fa8bed</td>\n",
       "      <td>0</td>\n",
       "      <td>[web, email, mobile]</td>\n",
       "      <td>0</td>\n",
       "      <td>informational</td>\n",
       "      <td>3f207df678b143eea3cee63160fa8bed</td>\n",
       "      <td>4.0</td>\n",
       "    </tr>\n",
       "  </tbody>\n",
       "</table>\n",
       "</div>"
      ],
      "text/plain": [
       "                             person           event  \\\n",
       "0  0009655768c64bdeb2e877511632db8f  offer received   \n",
       "1  0009655768c64bdeb2e877511632db8f    offer viewed   \n",
       "2  0009655768c64bdeb2e877511632db8f     transaction   \n",
       "3  0009655768c64bdeb2e877511632db8f  offer received   \n",
       "4  0009655768c64bdeb2e877511632db8f    offer viewed   \n",
       "\n",
       "                                              value  time  amount  \\\n",
       "0  {'offer id': '5a8bc65990b245e5a138643cd4eb9837'}   168     NaN   \n",
       "1  {'offer id': '5a8bc65990b245e5a138643cd4eb9837'}   192     NaN   \n",
       "2                                 {'amount': 22.16}   228   22.16   \n",
       "3  {'offer id': '3f207df678b143eea3cee63160fa8bed'}   336     NaN   \n",
       "4  {'offer id': '3f207df678b143eea3cee63160fa8bed'}   372     NaN   \n",
       "\n",
       "                               id_x                          offer_id  reward  \\\n",
       "0  5a8bc65990b245e5a138643cd4eb9837  5a8bc65990b245e5a138643cd4eb9837       0   \n",
       "1  5a8bc65990b245e5a138643cd4eb9837  5a8bc65990b245e5a138643cd4eb9837       0   \n",
       "2                               NaN  5a8bc65990b245e5a138643cd4eb9837       0   \n",
       "3  3f207df678b143eea3cee63160fa8bed  3f207df678b143eea3cee63160fa8bed       0   \n",
       "4  3f207df678b143eea3cee63160fa8bed  3f207df678b143eea3cee63160fa8bed       0   \n",
       "\n",
       "                  channels  difficulty     offer_type  \\\n",
       "0  [email, mobile, social]           0  informational   \n",
       "1  [email, mobile, social]           0  informational   \n",
       "2  [email, mobile, social]           0  informational   \n",
       "3     [web, email, mobile]           0  informational   \n",
       "4     [web, email, mobile]           0  informational   \n",
       "\n",
       "                               id_y  duration  \n",
       "0  5a8bc65990b245e5a138643cd4eb9837       3.0  \n",
       "1  5a8bc65990b245e5a138643cd4eb9837       3.0  \n",
       "2  5a8bc65990b245e5a138643cd4eb9837       3.0  \n",
       "3  3f207df678b143eea3cee63160fa8bed       4.0  \n",
       "4  3f207df678b143eea3cee63160fa8bed       4.0  "
      ]
     },
     "execution_count": 19,
     "metadata": {},
     "output_type": "execute_result"
    }
   ],
   "source": [
    "transcript_processed.head()"
   ]
  },
  {
   "cell_type": "markdown",
   "metadata": {},
   "source": [
    "Now we can extract the transactions which were completed after receiving and viewing, by checking if the `offer_id` is the same before and after the transaction."
   ]
  },
  {
   "cell_type": "code",
   "execution_count": 20,
   "metadata": {
    "pycharm": {
     "name": "#%%\n"
    }
   },
   "outputs": [],
   "source": [
    "# subsets of only viewed, transaction, and offer completed events\n",
    "transactions_after_viewed = \\\n",
    "    transcript_processed[(transcript_processed['event']=='offer viewed')|\n",
    "                         (transcript_processed['event']=='transaction')|\n",
    "                         (transcript_processed['event']=='offer completed')]\\\n",
    "                             .copy()\n",
    "\n",
    "# add pre-transaction offer_id\n",
    "transactions_after_viewed['pre_offer_id'] = \\\n",
    "    transactions_after_viewed.groupby(['person', 'offer_id'])\\\n",
    "        ['offer_id'].shift()\n",
    "\n",
    "# create flag for responded offer\n",
    "transactions_after_viewed['completed_offer'] = \\\n",
    "    np.where(transactions_after_viewed['pre_offer_id']== \\\n",
    "        transactions_after_viewed['offer_id'], 1, 0)"
   ]
  },
  {
   "cell_type": "code",
   "execution_count": 21,
   "metadata": {
    "pycharm": {
     "name": "#%%\n"
    },
    "scrolled": false
   },
   "outputs": [
    {
     "data": {
      "text/html": [
       "<div>\n",
       "<style scoped>\n",
       "    .dataframe tbody tr th:only-of-type {\n",
       "        vertical-align: middle;\n",
       "    }\n",
       "\n",
       "    .dataframe tbody tr th {\n",
       "        vertical-align: top;\n",
       "    }\n",
       "\n",
       "    .dataframe thead th {\n",
       "        text-align: right;\n",
       "    }\n",
       "</style>\n",
       "<table border=\"1\" class=\"dataframe\">\n",
       "  <thead>\n",
       "    <tr style=\"text-align: right;\">\n",
       "      <th></th>\n",
       "      <th>person</th>\n",
       "      <th>event</th>\n",
       "      <th>value</th>\n",
       "      <th>time</th>\n",
       "      <th>amount</th>\n",
       "      <th>id_x</th>\n",
       "      <th>offer_id</th>\n",
       "      <th>reward</th>\n",
       "      <th>channels</th>\n",
       "      <th>difficulty</th>\n",
       "      <th>offer_type</th>\n",
       "      <th>id_y</th>\n",
       "      <th>duration</th>\n",
       "      <th>pre_offer_id</th>\n",
       "      <th>completed_offer</th>\n",
       "    </tr>\n",
       "  </thead>\n",
       "  <tbody>\n",
       "    <tr>\n",
       "      <th>1</th>\n",
       "      <td>0009655768c64bdeb2e877511632db8f</td>\n",
       "      <td>offer viewed</td>\n",
       "      <td>{'offer id': '5a8bc65990b245e5a138643cd4eb9837'}</td>\n",
       "      <td>192</td>\n",
       "      <td>NaN</td>\n",
       "      <td>5a8bc65990b245e5a138643cd4eb9837</td>\n",
       "      <td>5a8bc65990b245e5a138643cd4eb9837</td>\n",
       "      <td>0</td>\n",
       "      <td>[email, mobile, social]</td>\n",
       "      <td>0</td>\n",
       "      <td>informational</td>\n",
       "      <td>5a8bc65990b245e5a138643cd4eb9837</td>\n",
       "      <td>3.0</td>\n",
       "      <td>NaN</td>\n",
       "      <td>0</td>\n",
       "    </tr>\n",
       "    <tr>\n",
       "      <th>2</th>\n",
       "      <td>0009655768c64bdeb2e877511632db8f</td>\n",
       "      <td>transaction</td>\n",
       "      <td>{'amount': 22.16}</td>\n",
       "      <td>228</td>\n",
       "      <td>22.16</td>\n",
       "      <td>NaN</td>\n",
       "      <td>5a8bc65990b245e5a138643cd4eb9837</td>\n",
       "      <td>0</td>\n",
       "      <td>[email, mobile, social]</td>\n",
       "      <td>0</td>\n",
       "      <td>informational</td>\n",
       "      <td>5a8bc65990b245e5a138643cd4eb9837</td>\n",
       "      <td>3.0</td>\n",
       "      <td>5a8bc65990b245e5a138643cd4eb9837</td>\n",
       "      <td>1</td>\n",
       "    </tr>\n",
       "    <tr>\n",
       "      <th>4</th>\n",
       "      <td>0009655768c64bdeb2e877511632db8f</td>\n",
       "      <td>offer viewed</td>\n",
       "      <td>{'offer id': '3f207df678b143eea3cee63160fa8bed'}</td>\n",
       "      <td>372</td>\n",
       "      <td>NaN</td>\n",
       "      <td>3f207df678b143eea3cee63160fa8bed</td>\n",
       "      <td>3f207df678b143eea3cee63160fa8bed</td>\n",
       "      <td>0</td>\n",
       "      <td>[web, email, mobile]</td>\n",
       "      <td>0</td>\n",
       "      <td>informational</td>\n",
       "      <td>3f207df678b143eea3cee63160fa8bed</td>\n",
       "      <td>4.0</td>\n",
       "      <td>NaN</td>\n",
       "      <td>0</td>\n",
       "    </tr>\n",
       "    <tr>\n",
       "      <th>6</th>\n",
       "      <td>0009655768c64bdeb2e877511632db8f</td>\n",
       "      <td>transaction</td>\n",
       "      <td>{'amount': 8.57}</td>\n",
       "      <td>414</td>\n",
       "      <td>8.57</td>\n",
       "      <td>NaN</td>\n",
       "      <td>3f207df678b143eea3cee63160fa8bed</td>\n",
       "      <td>0</td>\n",
       "      <td>[web, email, mobile]</td>\n",
       "      <td>0</td>\n",
       "      <td>informational</td>\n",
       "      <td>3f207df678b143eea3cee63160fa8bed</td>\n",
       "      <td>4.0</td>\n",
       "      <td>3f207df678b143eea3cee63160fa8bed</td>\n",
       "      <td>1</td>\n",
       "    </tr>\n",
       "    <tr>\n",
       "      <th>7</th>\n",
       "      <td>0009655768c64bdeb2e877511632db8f</td>\n",
       "      <td>offer completed</td>\n",
       "      <td>{'offer_id': 'f19421c1d4aa40978ebb69ca19b0e20d...</td>\n",
       "      <td>414</td>\n",
       "      <td>NaN</td>\n",
       "      <td>f19421c1d4aa40978ebb69ca19b0e20d</td>\n",
       "      <td>f19421c1d4aa40978ebb69ca19b0e20d</td>\n",
       "      <td>5</td>\n",
       "      <td>[web, email, mobile, social]</td>\n",
       "      <td>5</td>\n",
       "      <td>bogo</td>\n",
       "      <td>f19421c1d4aa40978ebb69ca19b0e20d</td>\n",
       "      <td>5.0</td>\n",
       "      <td>NaN</td>\n",
       "      <td>0</td>\n",
       "    </tr>\n",
       "  </tbody>\n",
       "</table>\n",
       "</div>"
      ],
      "text/plain": [
       "                             person            event  \\\n",
       "1  0009655768c64bdeb2e877511632db8f     offer viewed   \n",
       "2  0009655768c64bdeb2e877511632db8f      transaction   \n",
       "4  0009655768c64bdeb2e877511632db8f     offer viewed   \n",
       "6  0009655768c64bdeb2e877511632db8f      transaction   \n",
       "7  0009655768c64bdeb2e877511632db8f  offer completed   \n",
       "\n",
       "                                               value  time  amount  \\\n",
       "1   {'offer id': '5a8bc65990b245e5a138643cd4eb9837'}   192     NaN   \n",
       "2                                  {'amount': 22.16}   228   22.16   \n",
       "4   {'offer id': '3f207df678b143eea3cee63160fa8bed'}   372     NaN   \n",
       "6                                   {'amount': 8.57}   414    8.57   \n",
       "7  {'offer_id': 'f19421c1d4aa40978ebb69ca19b0e20d...   414     NaN   \n",
       "\n",
       "                               id_x                          offer_id  reward  \\\n",
       "1  5a8bc65990b245e5a138643cd4eb9837  5a8bc65990b245e5a138643cd4eb9837       0   \n",
       "2                               NaN  5a8bc65990b245e5a138643cd4eb9837       0   \n",
       "4  3f207df678b143eea3cee63160fa8bed  3f207df678b143eea3cee63160fa8bed       0   \n",
       "6                               NaN  3f207df678b143eea3cee63160fa8bed       0   \n",
       "7  f19421c1d4aa40978ebb69ca19b0e20d  f19421c1d4aa40978ebb69ca19b0e20d       5   \n",
       "\n",
       "                       channels  difficulty     offer_type  \\\n",
       "1       [email, mobile, social]           0  informational   \n",
       "2       [email, mobile, social]           0  informational   \n",
       "4          [web, email, mobile]           0  informational   \n",
       "6          [web, email, mobile]           0  informational   \n",
       "7  [web, email, mobile, social]           5           bogo   \n",
       "\n",
       "                               id_y  duration  \\\n",
       "1  5a8bc65990b245e5a138643cd4eb9837       3.0   \n",
       "2  5a8bc65990b245e5a138643cd4eb9837       3.0   \n",
       "4  3f207df678b143eea3cee63160fa8bed       4.0   \n",
       "6  3f207df678b143eea3cee63160fa8bed       4.0   \n",
       "7  f19421c1d4aa40978ebb69ca19b0e20d       5.0   \n",
       "\n",
       "                       pre_offer_id  completed_offer  \n",
       "1                               NaN                0  \n",
       "2  5a8bc65990b245e5a138643cd4eb9837                1  \n",
       "4                               NaN                0  \n",
       "6  3f207df678b143eea3cee63160fa8bed                1  \n",
       "7                               NaN                0  "
      ]
     },
     "execution_count": 21,
     "metadata": {},
     "output_type": "execute_result"
    }
   ],
   "source": [
    "transactions_after_viewed.head()"
   ]
  },
  {
   "cell_type": "code",
   "execution_count": 22,
   "metadata": {
    "pycharm": {
     "name": "#%%\n"
    }
   },
   "outputs": [
    {
     "name": "stderr",
     "output_type": "stream",
     "text": [
      "/Users/jyuan/anaconda3/envs/pa/lib/python3.7/site-packages/ipykernel_launcher.py:5: SettingWithCopyWarning: \n",
      "A value is trying to be set on a copy of a slice from a DataFrame.\n",
      "Try using .loc[row_indexer,col_indexer] = value instead\n",
      "\n",
      "See the caveats in the documentation: https://pandas.pydata.org/pandas-docs/stable/user_guide/indexing.html#returning-a-view-versus-a-copy\n",
      "  \"\"\"\n",
      "/Users/jyuan/anaconda3/envs/pa/lib/python3.7/site-packages/ipykernel_launcher.py:6: SettingWithCopyWarning: \n",
      "A value is trying to be set on a copy of a slice from a DataFrame.\n",
      "Try using .loc[row_indexer,col_indexer] = value instead\n",
      "\n",
      "See the caveats in the documentation: https://pandas.pydata.org/pandas-docs/stable/user_guide/indexing.html#returning-a-view-versus-a-copy\n",
      "  \n"
     ]
    },
    {
     "data": {
      "text/html": [
       "<div>\n",
       "<style scoped>\n",
       "    .dataframe tbody tr th:only-of-type {\n",
       "        vertical-align: middle;\n",
       "    }\n",
       "\n",
       "    .dataframe tbody tr th {\n",
       "        vertical-align: top;\n",
       "    }\n",
       "\n",
       "    .dataframe thead th {\n",
       "        text-align: right;\n",
       "    }\n",
       "</style>\n",
       "<table border=\"1\" class=\"dataframe\">\n",
       "  <thead>\n",
       "    <tr style=\"text-align: right;\">\n",
       "      <th></th>\n",
       "      <th>person</th>\n",
       "      <th>event</th>\n",
       "      <th>value</th>\n",
       "      <th>time</th>\n",
       "      <th>amount</th>\n",
       "      <th>id_x</th>\n",
       "      <th>offer_id</th>\n",
       "      <th>reward</th>\n",
       "      <th>channels</th>\n",
       "      <th>difficulty</th>\n",
       "      <th>offer_type</th>\n",
       "      <th>id_y</th>\n",
       "      <th>duration</th>\n",
       "      <th>pre_offer_id</th>\n",
       "      <th>completed_offer</th>\n",
       "    </tr>\n",
       "  </thead>\n",
       "  <tbody>\n",
       "    <tr>\n",
       "      <th>0</th>\n",
       "      <td>0009655768c64bdeb2e877511632db8f</td>\n",
       "      <td>offer received</td>\n",
       "      <td>{'offer id': '5a8bc65990b245e5a138643cd4eb9837'}</td>\n",
       "      <td>168</td>\n",
       "      <td>NaN</td>\n",
       "      <td>5a8bc65990b245e5a138643cd4eb9837</td>\n",
       "      <td>5a8bc65990b245e5a138643cd4eb9837</td>\n",
       "      <td>0</td>\n",
       "      <td>[email, mobile, social]</td>\n",
       "      <td>0</td>\n",
       "      <td>informational</td>\n",
       "      <td>5a8bc65990b245e5a138643cd4eb9837</td>\n",
       "      <td>3.0</td>\n",
       "      <td>NaN</td>\n",
       "      <td>NaN</td>\n",
       "    </tr>\n",
       "    <tr>\n",
       "      <th>1</th>\n",
       "      <td>0009655768c64bdeb2e877511632db8f</td>\n",
       "      <td>offer viewed</td>\n",
       "      <td>{'offer id': '5a8bc65990b245e5a138643cd4eb9837'}</td>\n",
       "      <td>192</td>\n",
       "      <td>NaN</td>\n",
       "      <td>5a8bc65990b245e5a138643cd4eb9837</td>\n",
       "      <td>5a8bc65990b245e5a138643cd4eb9837</td>\n",
       "      <td>0</td>\n",
       "      <td>[email, mobile, social]</td>\n",
       "      <td>0</td>\n",
       "      <td>informational</td>\n",
       "      <td>5a8bc65990b245e5a138643cd4eb9837</td>\n",
       "      <td>3.0</td>\n",
       "      <td>NaN</td>\n",
       "      <td>0.0</td>\n",
       "    </tr>\n",
       "    <tr>\n",
       "      <th>2</th>\n",
       "      <td>0009655768c64bdeb2e877511632db8f</td>\n",
       "      <td>transaction</td>\n",
       "      <td>{'amount': 22.16}</td>\n",
       "      <td>228</td>\n",
       "      <td>22.16</td>\n",
       "      <td>NaN</td>\n",
       "      <td>5a8bc65990b245e5a138643cd4eb9837</td>\n",
       "      <td>0</td>\n",
       "      <td>[email, mobile, social]</td>\n",
       "      <td>0</td>\n",
       "      <td>informational</td>\n",
       "      <td>5a8bc65990b245e5a138643cd4eb9837</td>\n",
       "      <td>3.0</td>\n",
       "      <td>5a8bc65990b245e5a138643cd4eb9837</td>\n",
       "      <td>1.0</td>\n",
       "    </tr>\n",
       "    <tr>\n",
       "      <th>3</th>\n",
       "      <td>0009655768c64bdeb2e877511632db8f</td>\n",
       "      <td>offer received</td>\n",
       "      <td>{'offer id': '3f207df678b143eea3cee63160fa8bed'}</td>\n",
       "      <td>336</td>\n",
       "      <td>NaN</td>\n",
       "      <td>3f207df678b143eea3cee63160fa8bed</td>\n",
       "      <td>3f207df678b143eea3cee63160fa8bed</td>\n",
       "      <td>0</td>\n",
       "      <td>[web, email, mobile]</td>\n",
       "      <td>0</td>\n",
       "      <td>informational</td>\n",
       "      <td>3f207df678b143eea3cee63160fa8bed</td>\n",
       "      <td>4.0</td>\n",
       "      <td>NaN</td>\n",
       "      <td>NaN</td>\n",
       "    </tr>\n",
       "    <tr>\n",
       "      <th>4</th>\n",
       "      <td>0009655768c64bdeb2e877511632db8f</td>\n",
       "      <td>offer viewed</td>\n",
       "      <td>{'offer id': '3f207df678b143eea3cee63160fa8bed'}</td>\n",
       "      <td>372</td>\n",
       "      <td>NaN</td>\n",
       "      <td>3f207df678b143eea3cee63160fa8bed</td>\n",
       "      <td>3f207df678b143eea3cee63160fa8bed</td>\n",
       "      <td>0</td>\n",
       "      <td>[web, email, mobile]</td>\n",
       "      <td>0</td>\n",
       "      <td>informational</td>\n",
       "      <td>3f207df678b143eea3cee63160fa8bed</td>\n",
       "      <td>4.0</td>\n",
       "      <td>NaN</td>\n",
       "      <td>0.0</td>\n",
       "    </tr>\n",
       "  </tbody>\n",
       "</table>\n",
       "</div>"
      ],
      "text/plain": [
       "                             person           event  \\\n",
       "0  0009655768c64bdeb2e877511632db8f  offer received   \n",
       "1  0009655768c64bdeb2e877511632db8f    offer viewed   \n",
       "2  0009655768c64bdeb2e877511632db8f     transaction   \n",
       "3  0009655768c64bdeb2e877511632db8f  offer received   \n",
       "4  0009655768c64bdeb2e877511632db8f    offer viewed   \n",
       "\n",
       "                                              value  time  amount  \\\n",
       "0  {'offer id': '5a8bc65990b245e5a138643cd4eb9837'}   168     NaN   \n",
       "1  {'offer id': '5a8bc65990b245e5a138643cd4eb9837'}   192     NaN   \n",
       "2                                 {'amount': 22.16}   228   22.16   \n",
       "3  {'offer id': '3f207df678b143eea3cee63160fa8bed'}   336     NaN   \n",
       "4  {'offer id': '3f207df678b143eea3cee63160fa8bed'}   372     NaN   \n",
       "\n",
       "                               id_x                          offer_id  reward  \\\n",
       "0  5a8bc65990b245e5a138643cd4eb9837  5a8bc65990b245e5a138643cd4eb9837       0   \n",
       "1  5a8bc65990b245e5a138643cd4eb9837  5a8bc65990b245e5a138643cd4eb9837       0   \n",
       "2                               NaN  5a8bc65990b245e5a138643cd4eb9837       0   \n",
       "3  3f207df678b143eea3cee63160fa8bed  3f207df678b143eea3cee63160fa8bed       0   \n",
       "4  3f207df678b143eea3cee63160fa8bed  3f207df678b143eea3cee63160fa8bed       0   \n",
       "\n",
       "                  channels  difficulty     offer_type  \\\n",
       "0  [email, mobile, social]           0  informational   \n",
       "1  [email, mobile, social]           0  informational   \n",
       "2  [email, mobile, social]           0  informational   \n",
       "3     [web, email, mobile]           0  informational   \n",
       "4     [web, email, mobile]           0  informational   \n",
       "\n",
       "                               id_y  duration  \\\n",
       "0  5a8bc65990b245e5a138643cd4eb9837       3.0   \n",
       "1  5a8bc65990b245e5a138643cd4eb9837       3.0   \n",
       "2  5a8bc65990b245e5a138643cd4eb9837       3.0   \n",
       "3  3f207df678b143eea3cee63160fa8bed       4.0   \n",
       "4  3f207df678b143eea3cee63160fa8bed       4.0   \n",
       "\n",
       "                       pre_offer_id  completed_offer  \n",
       "0                               NaN              NaN  \n",
       "1                               NaN              0.0  \n",
       "2  5a8bc65990b245e5a138643cd4eb9837              1.0  \n",
       "3                               NaN              NaN  \n",
       "4                               NaN              0.0  "
      ]
     },
     "execution_count": 22,
     "metadata": {},
     "output_type": "execute_result"
    }
   ],
   "source": [
    "# restore the 'offer_received' events\n",
    "offer_received = transcript_processed[transcript_processed['event']== \\\n",
    "                                      'offer received']\n",
    "\n",
    "offer_received['pre_offer_id']=np.nan\n",
    "offer_received['completed_offer']=np.nan\n",
    "\n",
    "transcript_processed = offer_received.append(transactions_after_viewed)\\\n",
    "                           .sort_values(['person','time'])\n",
    "\n",
    "transcript_processed.head()"
   ]
  },
  {
   "cell_type": "markdown",
   "metadata": {},
   "source": [
    "Before going any further, we need to create subsets for different offer types, as we will process them differently due to their different behaviour sequence."
   ]
  },
  {
   "cell_type": "code",
   "execution_count": 23,
   "metadata": {
    "pycharm": {
     "name": "#%%\n"
    }
   },
   "outputs": [],
   "source": [
    "bogo = transcript_processed[transcript_processed['offer_type']=='bogo'].copy()\n",
    "\n",
    "discount = transcript_processed[transcript_processed['offer_type']== \\\n",
    "                                'discount'].copy()\n",
    "\n",
    "informational = transcript_processed[transcript_processed['offer_type']== \\\n",
    "                                     'informational'].copy()\n"
   ]
  },
  {
   "cell_type": "code",
   "execution_count": 24,
   "metadata": {
    "pycharm": {
     "name": "#%%\n"
    }
   },
   "outputs": [
    {
     "data": {
      "text/html": [
       "<div>\n",
       "<style scoped>\n",
       "    .dataframe tbody tr th:only-of-type {\n",
       "        vertical-align: middle;\n",
       "    }\n",
       "\n",
       "    .dataframe tbody tr th {\n",
       "        vertical-align: top;\n",
       "    }\n",
       "\n",
       "    .dataframe thead th {\n",
       "        text-align: right;\n",
       "    }\n",
       "</style>\n",
       "<table border=\"1\" class=\"dataframe\">\n",
       "  <thead>\n",
       "    <tr style=\"text-align: right;\">\n",
       "      <th></th>\n",
       "      <th>person</th>\n",
       "      <th>event</th>\n",
       "      <th>value</th>\n",
       "      <th>time</th>\n",
       "      <th>amount</th>\n",
       "      <th>id_x</th>\n",
       "      <th>offer_id</th>\n",
       "      <th>reward</th>\n",
       "      <th>channels</th>\n",
       "      <th>difficulty</th>\n",
       "      <th>offer_type</th>\n",
       "      <th>id_y</th>\n",
       "      <th>duration</th>\n",
       "      <th>pre_offer_id</th>\n",
       "      <th>completed_offer</th>\n",
       "    </tr>\n",
       "  </thead>\n",
       "  <tbody>\n",
       "    <tr>\n",
       "      <th>5</th>\n",
       "      <td>0009655768c64bdeb2e877511632db8f</td>\n",
       "      <td>offer received</td>\n",
       "      <td>{'offer id': 'f19421c1d4aa40978ebb69ca19b0e20d'}</td>\n",
       "      <td>408</td>\n",
       "      <td>NaN</td>\n",
       "      <td>f19421c1d4aa40978ebb69ca19b0e20d</td>\n",
       "      <td>f19421c1d4aa40978ebb69ca19b0e20d</td>\n",
       "      <td>5</td>\n",
       "      <td>[web, email, mobile, social]</td>\n",
       "      <td>5</td>\n",
       "      <td>bogo</td>\n",
       "      <td>f19421c1d4aa40978ebb69ca19b0e20d</td>\n",
       "      <td>5.0</td>\n",
       "      <td>NaN</td>\n",
       "      <td>NaN</td>\n",
       "    </tr>\n",
       "    <tr>\n",
       "      <th>7</th>\n",
       "      <td>0009655768c64bdeb2e877511632db8f</td>\n",
       "      <td>offer completed</td>\n",
       "      <td>{'offer_id': 'f19421c1d4aa40978ebb69ca19b0e20d...</td>\n",
       "      <td>414</td>\n",
       "      <td>NaN</td>\n",
       "      <td>f19421c1d4aa40978ebb69ca19b0e20d</td>\n",
       "      <td>f19421c1d4aa40978ebb69ca19b0e20d</td>\n",
       "      <td>5</td>\n",
       "      <td>[web, email, mobile, social]</td>\n",
       "      <td>5</td>\n",
       "      <td>bogo</td>\n",
       "      <td>f19421c1d4aa40978ebb69ca19b0e20d</td>\n",
       "      <td>5.0</td>\n",
       "      <td>NaN</td>\n",
       "      <td>0.0</td>\n",
       "    </tr>\n",
       "    <tr>\n",
       "      <th>8</th>\n",
       "      <td>0009655768c64bdeb2e877511632db8f</td>\n",
       "      <td>offer viewed</td>\n",
       "      <td>{'offer id': 'f19421c1d4aa40978ebb69ca19b0e20d'}</td>\n",
       "      <td>456</td>\n",
       "      <td>NaN</td>\n",
       "      <td>f19421c1d4aa40978ebb69ca19b0e20d</td>\n",
       "      <td>f19421c1d4aa40978ebb69ca19b0e20d</td>\n",
       "      <td>5</td>\n",
       "      <td>[web, email, mobile, social]</td>\n",
       "      <td>5</td>\n",
       "      <td>bogo</td>\n",
       "      <td>f19421c1d4aa40978ebb69ca19b0e20d</td>\n",
       "      <td>5.0</td>\n",
       "      <td>f19421c1d4aa40978ebb69ca19b0e20d</td>\n",
       "      <td>1.0</td>\n",
       "    </tr>\n",
       "    <tr>\n",
       "      <th>10</th>\n",
       "      <td>0009655768c64bdeb2e877511632db8f</td>\n",
       "      <td>transaction</td>\n",
       "      <td>{'amount': 14.11}</td>\n",
       "      <td>528</td>\n",
       "      <td>14.11</td>\n",
       "      <td>NaN</td>\n",
       "      <td>f19421c1d4aa40978ebb69ca19b0e20d</td>\n",
       "      <td>5</td>\n",
       "      <td>[web, email, mobile, social]</td>\n",
       "      <td>5</td>\n",
       "      <td>bogo</td>\n",
       "      <td>f19421c1d4aa40978ebb69ca19b0e20d</td>\n",
       "      <td>5.0</td>\n",
       "      <td>f19421c1d4aa40978ebb69ca19b0e20d</td>\n",
       "      <td>1.0</td>\n",
       "    </tr>\n",
       "    <tr>\n",
       "      <th>20</th>\n",
       "      <td>00116118485d4dfda04fdbaba9a87b5c</td>\n",
       "      <td>offer received</td>\n",
       "      <td>{'offer id': 'f19421c1d4aa40978ebb69ca19b0e20d'}</td>\n",
       "      <td>168</td>\n",
       "      <td>NaN</td>\n",
       "      <td>f19421c1d4aa40978ebb69ca19b0e20d</td>\n",
       "      <td>f19421c1d4aa40978ebb69ca19b0e20d</td>\n",
       "      <td>5</td>\n",
       "      <td>[web, email, mobile, social]</td>\n",
       "      <td>5</td>\n",
       "      <td>bogo</td>\n",
       "      <td>f19421c1d4aa40978ebb69ca19b0e20d</td>\n",
       "      <td>5.0</td>\n",
       "      <td>NaN</td>\n",
       "      <td>NaN</td>\n",
       "    </tr>\n",
       "  </tbody>\n",
       "</table>\n",
       "</div>"
      ],
      "text/plain": [
       "                              person            event  \\\n",
       "5   0009655768c64bdeb2e877511632db8f   offer received   \n",
       "7   0009655768c64bdeb2e877511632db8f  offer completed   \n",
       "8   0009655768c64bdeb2e877511632db8f     offer viewed   \n",
       "10  0009655768c64bdeb2e877511632db8f      transaction   \n",
       "20  00116118485d4dfda04fdbaba9a87b5c   offer received   \n",
       "\n",
       "                                                value  time  amount  \\\n",
       "5    {'offer id': 'f19421c1d4aa40978ebb69ca19b0e20d'}   408     NaN   \n",
       "7   {'offer_id': 'f19421c1d4aa40978ebb69ca19b0e20d...   414     NaN   \n",
       "8    {'offer id': 'f19421c1d4aa40978ebb69ca19b0e20d'}   456     NaN   \n",
       "10                                  {'amount': 14.11}   528   14.11   \n",
       "20   {'offer id': 'f19421c1d4aa40978ebb69ca19b0e20d'}   168     NaN   \n",
       "\n",
       "                                id_x                          offer_id  \\\n",
       "5   f19421c1d4aa40978ebb69ca19b0e20d  f19421c1d4aa40978ebb69ca19b0e20d   \n",
       "7   f19421c1d4aa40978ebb69ca19b0e20d  f19421c1d4aa40978ebb69ca19b0e20d   \n",
       "8   f19421c1d4aa40978ebb69ca19b0e20d  f19421c1d4aa40978ebb69ca19b0e20d   \n",
       "10                               NaN  f19421c1d4aa40978ebb69ca19b0e20d   \n",
       "20  f19421c1d4aa40978ebb69ca19b0e20d  f19421c1d4aa40978ebb69ca19b0e20d   \n",
       "\n",
       "    reward                      channels  difficulty offer_type  \\\n",
       "5        5  [web, email, mobile, social]           5       bogo   \n",
       "7        5  [web, email, mobile, social]           5       bogo   \n",
       "8        5  [web, email, mobile, social]           5       bogo   \n",
       "10       5  [web, email, mobile, social]           5       bogo   \n",
       "20       5  [web, email, mobile, social]           5       bogo   \n",
       "\n",
       "                                id_y  duration  \\\n",
       "5   f19421c1d4aa40978ebb69ca19b0e20d       5.0   \n",
       "7   f19421c1d4aa40978ebb69ca19b0e20d       5.0   \n",
       "8   f19421c1d4aa40978ebb69ca19b0e20d       5.0   \n",
       "10  f19421c1d4aa40978ebb69ca19b0e20d       5.0   \n",
       "20  f19421c1d4aa40978ebb69ca19b0e20d       5.0   \n",
       "\n",
       "                        pre_offer_id  completed_offer  \n",
       "5                                NaN              NaN  \n",
       "7                                NaN              0.0  \n",
       "8   f19421c1d4aa40978ebb69ca19b0e20d              1.0  \n",
       "10  f19421c1d4aa40978ebb69ca19b0e20d              1.0  \n",
       "20                               NaN              NaN  "
      ]
     },
     "execution_count": 24,
     "metadata": {},
     "output_type": "execute_result"
    }
   ],
   "source": [
    "bogo.head()"
   ]
  },
  {
   "cell_type": "code",
   "execution_count": 25,
   "metadata": {
    "pycharm": {
     "name": "#%%\n"
    }
   },
   "outputs": [
    {
     "data": {
      "text/html": [
       "<div>\n",
       "<style scoped>\n",
       "    .dataframe tbody tr th:only-of-type {\n",
       "        vertical-align: middle;\n",
       "    }\n",
       "\n",
       "    .dataframe tbody tr th {\n",
       "        vertical-align: top;\n",
       "    }\n",
       "\n",
       "    .dataframe thead th {\n",
       "        text-align: right;\n",
       "    }\n",
       "</style>\n",
       "<table border=\"1\" class=\"dataframe\">\n",
       "  <thead>\n",
       "    <tr style=\"text-align: right;\">\n",
       "      <th></th>\n",
       "      <th>person</th>\n",
       "      <th>event</th>\n",
       "      <th>value</th>\n",
       "      <th>time</th>\n",
       "      <th>amount</th>\n",
       "      <th>id_x</th>\n",
       "      <th>offer_id</th>\n",
       "      <th>reward</th>\n",
       "      <th>channels</th>\n",
       "      <th>difficulty</th>\n",
       "      <th>offer_type</th>\n",
       "      <th>id_y</th>\n",
       "      <th>duration</th>\n",
       "      <th>pre_offer_id</th>\n",
       "      <th>completed_offer</th>\n",
       "    </tr>\n",
       "  </thead>\n",
       "  <tbody>\n",
       "    <tr>\n",
       "      <th>9</th>\n",
       "      <td>0009655768c64bdeb2e877511632db8f</td>\n",
       "      <td>offer received</td>\n",
       "      <td>{'offer id': 'fafdcd668e3743c1bb461111dcafc2a4'}</td>\n",
       "      <td>504</td>\n",
       "      <td>NaN</td>\n",
       "      <td>fafdcd668e3743c1bb461111dcafc2a4</td>\n",
       "      <td>fafdcd668e3743c1bb461111dcafc2a4</td>\n",
       "      <td>2</td>\n",
       "      <td>[web, email, mobile, social]</td>\n",
       "      <td>10</td>\n",
       "      <td>discount</td>\n",
       "      <td>fafdcd668e3743c1bb461111dcafc2a4</td>\n",
       "      <td>10.0</td>\n",
       "      <td>NaN</td>\n",
       "      <td>NaN</td>\n",
       "    </tr>\n",
       "    <tr>\n",
       "      <th>11</th>\n",
       "      <td>0009655768c64bdeb2e877511632db8f</td>\n",
       "      <td>offer completed</td>\n",
       "      <td>{'offer_id': 'fafdcd668e3743c1bb461111dcafc2a4...</td>\n",
       "      <td>528</td>\n",
       "      <td>NaN</td>\n",
       "      <td>fafdcd668e3743c1bb461111dcafc2a4</td>\n",
       "      <td>fafdcd668e3743c1bb461111dcafc2a4</td>\n",
       "      <td>2</td>\n",
       "      <td>[web, email, mobile, social]</td>\n",
       "      <td>10</td>\n",
       "      <td>discount</td>\n",
       "      <td>fafdcd668e3743c1bb461111dcafc2a4</td>\n",
       "      <td>10.0</td>\n",
       "      <td>NaN</td>\n",
       "      <td>0.0</td>\n",
       "    </tr>\n",
       "    <tr>\n",
       "      <th>12</th>\n",
       "      <td>0009655768c64bdeb2e877511632db8f</td>\n",
       "      <td>offer viewed</td>\n",
       "      <td>{'offer id': 'fafdcd668e3743c1bb461111dcafc2a4'}</td>\n",
       "      <td>540</td>\n",
       "      <td>NaN</td>\n",
       "      <td>fafdcd668e3743c1bb461111dcafc2a4</td>\n",
       "      <td>fafdcd668e3743c1bb461111dcafc2a4</td>\n",
       "      <td>2</td>\n",
       "      <td>[web, email, mobile, social]</td>\n",
       "      <td>10</td>\n",
       "      <td>discount</td>\n",
       "      <td>fafdcd668e3743c1bb461111dcafc2a4</td>\n",
       "      <td>10.0</td>\n",
       "      <td>fafdcd668e3743c1bb461111dcafc2a4</td>\n",
       "      <td>1.0</td>\n",
       "    </tr>\n",
       "    <tr>\n",
       "      <th>13</th>\n",
       "      <td>0009655768c64bdeb2e877511632db8f</td>\n",
       "      <td>transaction</td>\n",
       "      <td>{'amount': 13.56}</td>\n",
       "      <td>552</td>\n",
       "      <td>13.56</td>\n",
       "      <td>NaN</td>\n",
       "      <td>fafdcd668e3743c1bb461111dcafc2a4</td>\n",
       "      <td>2</td>\n",
       "      <td>[web, email, mobile, social]</td>\n",
       "      <td>10</td>\n",
       "      <td>discount</td>\n",
       "      <td>fafdcd668e3743c1bb461111dcafc2a4</td>\n",
       "      <td>10.0</td>\n",
       "      <td>fafdcd668e3743c1bb461111dcafc2a4</td>\n",
       "      <td>1.0</td>\n",
       "    </tr>\n",
       "    <tr>\n",
       "      <th>14</th>\n",
       "      <td>0009655768c64bdeb2e877511632db8f</td>\n",
       "      <td>offer received</td>\n",
       "      <td>{'offer id': '2906b810c7d4411798c6938adc9daaa5'}</td>\n",
       "      <td>576</td>\n",
       "      <td>NaN</td>\n",
       "      <td>2906b810c7d4411798c6938adc9daaa5</td>\n",
       "      <td>2906b810c7d4411798c6938adc9daaa5</td>\n",
       "      <td>2</td>\n",
       "      <td>[web, email, mobile]</td>\n",
       "      <td>10</td>\n",
       "      <td>discount</td>\n",
       "      <td>2906b810c7d4411798c6938adc9daaa5</td>\n",
       "      <td>7.0</td>\n",
       "      <td>NaN</td>\n",
       "      <td>NaN</td>\n",
       "    </tr>\n",
       "  </tbody>\n",
       "</table>\n",
       "</div>"
      ],
      "text/plain": [
       "                              person            event  \\\n",
       "9   0009655768c64bdeb2e877511632db8f   offer received   \n",
       "11  0009655768c64bdeb2e877511632db8f  offer completed   \n",
       "12  0009655768c64bdeb2e877511632db8f     offer viewed   \n",
       "13  0009655768c64bdeb2e877511632db8f      transaction   \n",
       "14  0009655768c64bdeb2e877511632db8f   offer received   \n",
       "\n",
       "                                                value  time  amount  \\\n",
       "9    {'offer id': 'fafdcd668e3743c1bb461111dcafc2a4'}   504     NaN   \n",
       "11  {'offer_id': 'fafdcd668e3743c1bb461111dcafc2a4...   528     NaN   \n",
       "12   {'offer id': 'fafdcd668e3743c1bb461111dcafc2a4'}   540     NaN   \n",
       "13                                  {'amount': 13.56}   552   13.56   \n",
       "14   {'offer id': '2906b810c7d4411798c6938adc9daaa5'}   576     NaN   \n",
       "\n",
       "                                id_x                          offer_id  \\\n",
       "9   fafdcd668e3743c1bb461111dcafc2a4  fafdcd668e3743c1bb461111dcafc2a4   \n",
       "11  fafdcd668e3743c1bb461111dcafc2a4  fafdcd668e3743c1bb461111dcafc2a4   \n",
       "12  fafdcd668e3743c1bb461111dcafc2a4  fafdcd668e3743c1bb461111dcafc2a4   \n",
       "13                               NaN  fafdcd668e3743c1bb461111dcafc2a4   \n",
       "14  2906b810c7d4411798c6938adc9daaa5  2906b810c7d4411798c6938adc9daaa5   \n",
       "\n",
       "    reward                      channels  difficulty offer_type  \\\n",
       "9        2  [web, email, mobile, social]          10   discount   \n",
       "11       2  [web, email, mobile, social]          10   discount   \n",
       "12       2  [web, email, mobile, social]          10   discount   \n",
       "13       2  [web, email, mobile, social]          10   discount   \n",
       "14       2          [web, email, mobile]          10   discount   \n",
       "\n",
       "                                id_y  duration  \\\n",
       "9   fafdcd668e3743c1bb461111dcafc2a4      10.0   \n",
       "11  fafdcd668e3743c1bb461111dcafc2a4      10.0   \n",
       "12  fafdcd668e3743c1bb461111dcafc2a4      10.0   \n",
       "13  fafdcd668e3743c1bb461111dcafc2a4      10.0   \n",
       "14  2906b810c7d4411798c6938adc9daaa5       7.0   \n",
       "\n",
       "                        pre_offer_id  completed_offer  \n",
       "9                                NaN              NaN  \n",
       "11                               NaN              0.0  \n",
       "12  fafdcd668e3743c1bb461111dcafc2a4              1.0  \n",
       "13  fafdcd668e3743c1bb461111dcafc2a4              1.0  \n",
       "14                               NaN              NaN  "
      ]
     },
     "execution_count": 25,
     "metadata": {},
     "output_type": "execute_result"
    }
   ],
   "source": [
    "discount.head()"
   ]
  },
  {
   "cell_type": "code",
   "execution_count": 26,
   "metadata": {
    "pycharm": {
     "name": "#%%\n"
    }
   },
   "outputs": [
    {
     "data": {
      "text/html": [
       "<div>\n",
       "<style scoped>\n",
       "    .dataframe tbody tr th:only-of-type {\n",
       "        vertical-align: middle;\n",
       "    }\n",
       "\n",
       "    .dataframe tbody tr th {\n",
       "        vertical-align: top;\n",
       "    }\n",
       "\n",
       "    .dataframe thead th {\n",
       "        text-align: right;\n",
       "    }\n",
       "</style>\n",
       "<table border=\"1\" class=\"dataframe\">\n",
       "  <thead>\n",
       "    <tr style=\"text-align: right;\">\n",
       "      <th></th>\n",
       "      <th>person</th>\n",
       "      <th>event</th>\n",
       "      <th>value</th>\n",
       "      <th>time</th>\n",
       "      <th>amount</th>\n",
       "      <th>id_x</th>\n",
       "      <th>offer_id</th>\n",
       "      <th>reward</th>\n",
       "      <th>channels</th>\n",
       "      <th>difficulty</th>\n",
       "      <th>offer_type</th>\n",
       "      <th>id_y</th>\n",
       "      <th>duration</th>\n",
       "      <th>pre_offer_id</th>\n",
       "      <th>completed_offer</th>\n",
       "    </tr>\n",
       "  </thead>\n",
       "  <tbody>\n",
       "    <tr>\n",
       "      <th>0</th>\n",
       "      <td>0009655768c64bdeb2e877511632db8f</td>\n",
       "      <td>offer received</td>\n",
       "      <td>{'offer id': '5a8bc65990b245e5a138643cd4eb9837'}</td>\n",
       "      <td>168</td>\n",
       "      <td>NaN</td>\n",
       "      <td>5a8bc65990b245e5a138643cd4eb9837</td>\n",
       "      <td>5a8bc65990b245e5a138643cd4eb9837</td>\n",
       "      <td>0</td>\n",
       "      <td>[email, mobile, social]</td>\n",
       "      <td>0</td>\n",
       "      <td>informational</td>\n",
       "      <td>5a8bc65990b245e5a138643cd4eb9837</td>\n",
       "      <td>3.0</td>\n",
       "      <td>NaN</td>\n",
       "      <td>NaN</td>\n",
       "    </tr>\n",
       "    <tr>\n",
       "      <th>1</th>\n",
       "      <td>0009655768c64bdeb2e877511632db8f</td>\n",
       "      <td>offer viewed</td>\n",
       "      <td>{'offer id': '5a8bc65990b245e5a138643cd4eb9837'}</td>\n",
       "      <td>192</td>\n",
       "      <td>NaN</td>\n",
       "      <td>5a8bc65990b245e5a138643cd4eb9837</td>\n",
       "      <td>5a8bc65990b245e5a138643cd4eb9837</td>\n",
       "      <td>0</td>\n",
       "      <td>[email, mobile, social]</td>\n",
       "      <td>0</td>\n",
       "      <td>informational</td>\n",
       "      <td>5a8bc65990b245e5a138643cd4eb9837</td>\n",
       "      <td>3.0</td>\n",
       "      <td>NaN</td>\n",
       "      <td>0.0</td>\n",
       "    </tr>\n",
       "    <tr>\n",
       "      <th>2</th>\n",
       "      <td>0009655768c64bdeb2e877511632db8f</td>\n",
       "      <td>transaction</td>\n",
       "      <td>{'amount': 22.16}</td>\n",
       "      <td>228</td>\n",
       "      <td>22.16</td>\n",
       "      <td>NaN</td>\n",
       "      <td>5a8bc65990b245e5a138643cd4eb9837</td>\n",
       "      <td>0</td>\n",
       "      <td>[email, mobile, social]</td>\n",
       "      <td>0</td>\n",
       "      <td>informational</td>\n",
       "      <td>5a8bc65990b245e5a138643cd4eb9837</td>\n",
       "      <td>3.0</td>\n",
       "      <td>5a8bc65990b245e5a138643cd4eb9837</td>\n",
       "      <td>1.0</td>\n",
       "    </tr>\n",
       "    <tr>\n",
       "      <th>3</th>\n",
       "      <td>0009655768c64bdeb2e877511632db8f</td>\n",
       "      <td>offer received</td>\n",
       "      <td>{'offer id': '3f207df678b143eea3cee63160fa8bed'}</td>\n",
       "      <td>336</td>\n",
       "      <td>NaN</td>\n",
       "      <td>3f207df678b143eea3cee63160fa8bed</td>\n",
       "      <td>3f207df678b143eea3cee63160fa8bed</td>\n",
       "      <td>0</td>\n",
       "      <td>[web, email, mobile]</td>\n",
       "      <td>0</td>\n",
       "      <td>informational</td>\n",
       "      <td>3f207df678b143eea3cee63160fa8bed</td>\n",
       "      <td>4.0</td>\n",
       "      <td>NaN</td>\n",
       "      <td>NaN</td>\n",
       "    </tr>\n",
       "    <tr>\n",
       "      <th>4</th>\n",
       "      <td>0009655768c64bdeb2e877511632db8f</td>\n",
       "      <td>offer viewed</td>\n",
       "      <td>{'offer id': '3f207df678b143eea3cee63160fa8bed'}</td>\n",
       "      <td>372</td>\n",
       "      <td>NaN</td>\n",
       "      <td>3f207df678b143eea3cee63160fa8bed</td>\n",
       "      <td>3f207df678b143eea3cee63160fa8bed</td>\n",
       "      <td>0</td>\n",
       "      <td>[web, email, mobile]</td>\n",
       "      <td>0</td>\n",
       "      <td>informational</td>\n",
       "      <td>3f207df678b143eea3cee63160fa8bed</td>\n",
       "      <td>4.0</td>\n",
       "      <td>NaN</td>\n",
       "      <td>0.0</td>\n",
       "    </tr>\n",
       "  </tbody>\n",
       "</table>\n",
       "</div>"
      ],
      "text/plain": [
       "                             person           event  \\\n",
       "0  0009655768c64bdeb2e877511632db8f  offer received   \n",
       "1  0009655768c64bdeb2e877511632db8f    offer viewed   \n",
       "2  0009655768c64bdeb2e877511632db8f     transaction   \n",
       "3  0009655768c64bdeb2e877511632db8f  offer received   \n",
       "4  0009655768c64bdeb2e877511632db8f    offer viewed   \n",
       "\n",
       "                                              value  time  amount  \\\n",
       "0  {'offer id': '5a8bc65990b245e5a138643cd4eb9837'}   168     NaN   \n",
       "1  {'offer id': '5a8bc65990b245e5a138643cd4eb9837'}   192     NaN   \n",
       "2                                 {'amount': 22.16}   228   22.16   \n",
       "3  {'offer id': '3f207df678b143eea3cee63160fa8bed'}   336     NaN   \n",
       "4  {'offer id': '3f207df678b143eea3cee63160fa8bed'}   372     NaN   \n",
       "\n",
       "                               id_x                          offer_id  reward  \\\n",
       "0  5a8bc65990b245e5a138643cd4eb9837  5a8bc65990b245e5a138643cd4eb9837       0   \n",
       "1  5a8bc65990b245e5a138643cd4eb9837  5a8bc65990b245e5a138643cd4eb9837       0   \n",
       "2                               NaN  5a8bc65990b245e5a138643cd4eb9837       0   \n",
       "3  3f207df678b143eea3cee63160fa8bed  3f207df678b143eea3cee63160fa8bed       0   \n",
       "4  3f207df678b143eea3cee63160fa8bed  3f207df678b143eea3cee63160fa8bed       0   \n",
       "\n",
       "                  channels  difficulty     offer_type  \\\n",
       "0  [email, mobile, social]           0  informational   \n",
       "1  [email, mobile, social]           0  informational   \n",
       "2  [email, mobile, social]           0  informational   \n",
       "3     [web, email, mobile]           0  informational   \n",
       "4     [web, email, mobile]           0  informational   \n",
       "\n",
       "                               id_y  duration  \\\n",
       "0  5a8bc65990b245e5a138643cd4eb9837       3.0   \n",
       "1  5a8bc65990b245e5a138643cd4eb9837       3.0   \n",
       "2  5a8bc65990b245e5a138643cd4eb9837       3.0   \n",
       "3  3f207df678b143eea3cee63160fa8bed       4.0   \n",
       "4  3f207df678b143eea3cee63160fa8bed       4.0   \n",
       "\n",
       "                       pre_offer_id  completed_offer  \n",
       "0                               NaN              NaN  \n",
       "1                               NaN              0.0  \n",
       "2  5a8bc65990b245e5a138643cd4eb9837              1.0  \n",
       "3                               NaN              NaN  \n",
       "4                               NaN              0.0  "
      ]
     },
     "execution_count": 26,
     "metadata": {},
     "output_type": "execute_result"
    }
   ],
   "source": [
    "informational.head()"
   ]
  },
  {
   "cell_type": "markdown",
   "metadata": {},
   "source": [
    "\n",
    "For `bogo` and `discount` offer, responded offer can be filtered with `offer_complete` events, and responded informational offers can be filtered with the 'transaction' events."
   ]
  },
  {
   "cell_type": "code",
   "execution_count": 27,
   "metadata": {
    "pycharm": {
     "name": "#%%\n"
    }
   },
   "outputs": [],
   "source": [
    "# extract responded offer under bogo and discount type\n",
    "bogo_completed = bogo[['person','offer_id']] \\\n",
    "                     [(bogo['completed_offer']==1) &\n",
    "                      (bogo['event']=='offer completed')] \\\n",
    "                     .groupby(['person','offer_id']) \\\n",
    "                     .count().reset_index()\n",
    "\n",
    "discount_completed = discount[['person','offer_id']] \\\n",
    "                             [(discount['completed_offer']==1) &\n",
    "                              (discount['event']=='offer completed')] \\\n",
    "                             .groupby(['person','offer_id'])\\\n",
    "                             .count().reset_index()"
   ]
  },
  {
   "cell_type": "markdown",
   "metadata": {},
   "source": [
    "Next, we need to filter customers who only viewed the offers, and customers who only received the offer."
   ]
  },
  {
   "cell_type": "code",
   "execution_count": 28,
   "metadata": {
    "pycharm": {
     "name": "#%%\n"
    }
   },
   "outputs": [
    {
     "data": {
      "text/html": [
       "<div>\n",
       "<style scoped>\n",
       "    .dataframe tbody tr th:only-of-type {\n",
       "        vertical-align: middle;\n",
       "    }\n",
       "\n",
       "    .dataframe tbody tr th {\n",
       "        vertical-align: top;\n",
       "    }\n",
       "\n",
       "    .dataframe thead th {\n",
       "        text-align: right;\n",
       "    }\n",
       "</style>\n",
       "<table border=\"1\" class=\"dataframe\">\n",
       "  <thead>\n",
       "    <tr style=\"text-align: right;\">\n",
       "      <th></th>\n",
       "      <th>person</th>\n",
       "      <th>offer_id</th>\n",
       "      <th>_merge</th>\n",
       "    </tr>\n",
       "  </thead>\n",
       "  <tbody>\n",
       "    <tr>\n",
       "      <th>0</th>\n",
       "      <td>0009655768c64bdeb2e877511632db8f</td>\n",
       "      <td>f19421c1d4aa40978ebb69ca19b0e20d</td>\n",
       "      <td>both</td>\n",
       "    </tr>\n",
       "    <tr>\n",
       "      <th>1</th>\n",
       "      <td>00116118485d4dfda04fdbaba9a87b5c</td>\n",
       "      <td>f19421c1d4aa40978ebb69ca19b0e20d</td>\n",
       "      <td>both</td>\n",
       "    </tr>\n",
       "    <tr>\n",
       "      <th>2</th>\n",
       "      <td>0011e0d4e6b944f998e987f904e8c1e5</td>\n",
       "      <td>9b98b8c7a33c4b65b9aebfe6a799e6d9</td>\n",
       "      <td>both</td>\n",
       "    </tr>\n",
       "    <tr>\n",
       "      <th>3</th>\n",
       "      <td>0020c2b971eb4e9188eac86d93036a77</td>\n",
       "      <td>4d5c57ea9a6940dd891ad53e9dbe8da0</td>\n",
       "      <td>both</td>\n",
       "    </tr>\n",
       "    <tr>\n",
       "      <th>4</th>\n",
       "      <td>0020ccbbb6d84e358d3414a3ff76cffd</td>\n",
       "      <td>9b98b8c7a33c4b65b9aebfe6a799e6d9</td>\n",
       "      <td>both</td>\n",
       "    </tr>\n",
       "  </tbody>\n",
       "</table>\n",
       "</div>"
      ],
      "text/plain": [
       "                             person                          offer_id _merge\n",
       "0  0009655768c64bdeb2e877511632db8f  f19421c1d4aa40978ebb69ca19b0e20d   both\n",
       "1  00116118485d4dfda04fdbaba9a87b5c  f19421c1d4aa40978ebb69ca19b0e20d   both\n",
       "2  0011e0d4e6b944f998e987f904e8c1e5  9b98b8c7a33c4b65b9aebfe6a799e6d9   both\n",
       "3  0020c2b971eb4e9188eac86d93036a77  4d5c57ea9a6940dd891ad53e9dbe8da0   both\n",
       "4  0020ccbbb6d84e358d3414a3ff76cffd  9b98b8c7a33c4b65b9aebfe6a799e6d9   both"
      ]
     },
     "execution_count": 28,
     "metadata": {},
     "output_type": "execute_result"
    }
   ],
   "source": [
    "bogo_ids_transaction_completed = bogo[['person','offer_id']] \\\n",
    "                                     [(bogo['event']=='transaction') |\n",
    "                                      (bogo['event']=='offer completed')] \\\n",
    "                                     .groupby(['person','offer_id']) \\\n",
    "                                     .count().reset_index()\n",
    "\n",
    "bogo_ids_received = bogo[['person','offer_id']] \\\n",
    "                        [bogo['event']=='offer received'] \\\n",
    "                        .groupby(['person','offer_id']) \\\n",
    "                        .count().reset_index()\n",
    "\n",
    "# offers viewed without transaction and completion\n",
    "bogo_merged = bogo_ids_transaction_completed.merge(bogo_ids_received,\n",
    "                                                   how='right',\n",
    "                                                   on=['person','offer_id'],\n",
    "                                                   indicator=True)\n",
    "\n",
    "bogo_merged.head()"
   ]
  },
  {
   "cell_type": "code",
   "execution_count": 29,
   "metadata": {
    "pycharm": {
     "name": "#%%\n"
    }
   },
   "outputs": [
    {
     "data": {
      "text/html": [
       "<div>\n",
       "<style scoped>\n",
       "    .dataframe tbody tr th:only-of-type {\n",
       "        vertical-align: middle;\n",
       "    }\n",
       "\n",
       "    .dataframe tbody tr th {\n",
       "        vertical-align: top;\n",
       "    }\n",
       "\n",
       "    .dataframe thead th {\n",
       "        text-align: right;\n",
       "    }\n",
       "</style>\n",
       "<table border=\"1\" class=\"dataframe\">\n",
       "  <thead>\n",
       "    <tr style=\"text-align: right;\">\n",
       "      <th></th>\n",
       "      <th>person</th>\n",
       "      <th>offer_id</th>\n",
       "      <th>_merge</th>\n",
       "    </tr>\n",
       "  </thead>\n",
       "  <tbody>\n",
       "    <tr>\n",
       "      <th>0</th>\n",
       "      <td>0009655768c64bdeb2e877511632db8f</td>\n",
       "      <td>2906b810c7d4411798c6938adc9daaa5</td>\n",
       "      <td>both</td>\n",
       "    </tr>\n",
       "    <tr>\n",
       "      <th>1</th>\n",
       "      <td>0009655768c64bdeb2e877511632db8f</td>\n",
       "      <td>fafdcd668e3743c1bb461111dcafc2a4</td>\n",
       "      <td>both</td>\n",
       "    </tr>\n",
       "    <tr>\n",
       "      <th>2</th>\n",
       "      <td>0011e0d4e6b944f998e987f904e8c1e5</td>\n",
       "      <td>0b1e1539f2cc45b7b9fa7c272da2e1d7</td>\n",
       "      <td>both</td>\n",
       "    </tr>\n",
       "    <tr>\n",
       "      <th>3</th>\n",
       "      <td>0011e0d4e6b944f998e987f904e8c1e5</td>\n",
       "      <td>2298d6c36e964ae4a3e7e9706d1fb8c2</td>\n",
       "      <td>both</td>\n",
       "    </tr>\n",
       "    <tr>\n",
       "      <th>4</th>\n",
       "      <td>0020c2b971eb4e9188eac86d93036a77</td>\n",
       "      <td>fafdcd668e3743c1bb461111dcafc2a4</td>\n",
       "      <td>both</td>\n",
       "    </tr>\n",
       "  </tbody>\n",
       "</table>\n",
       "</div>"
      ],
      "text/plain": [
       "                             person                          offer_id _merge\n",
       "0  0009655768c64bdeb2e877511632db8f  2906b810c7d4411798c6938adc9daaa5   both\n",
       "1  0009655768c64bdeb2e877511632db8f  fafdcd668e3743c1bb461111dcafc2a4   both\n",
       "2  0011e0d4e6b944f998e987f904e8c1e5  0b1e1539f2cc45b7b9fa7c272da2e1d7   both\n",
       "3  0011e0d4e6b944f998e987f904e8c1e5  2298d6c36e964ae4a3e7e9706d1fb8c2   both\n",
       "4  0020c2b971eb4e9188eac86d93036a77  fafdcd668e3743c1bb461111dcafc2a4   both"
      ]
     },
     "execution_count": 29,
     "metadata": {},
     "output_type": "execute_result"
    }
   ],
   "source": [
    "# the same processing on discount offers\n",
    "discount_ids_transaction_completed = \\\n",
    "    discount[['person','offer_id']][(discount['event']=='transaction') |\n",
    "                                    (discount['event']=='offer completed')]\\\n",
    "            .groupby(['person','offer_id']).count().reset_index()\n",
    "\n",
    "discount_ids_received = discount[['person','offer_id']] \\\n",
    "                                [discount['event']=='offer received'] \\\n",
    "                                .groupby(['person','offer_id']) \\\n",
    "                                .count().reset_index()\n",
    "\n",
    "discount_merged = \\\n",
    "    discount_ids_transaction_completed.merge(discount_ids_received,\n",
    "                                             how='right',\n",
    "                                             on=['person','offer_id'],\n",
    "                                             indicator=True)\n",
    "\n",
    "discount_merged.head()"
   ]
  },
  {
   "cell_type": "markdown",
   "metadata": {},
   "source": [
    "##### 2.1.2 Less Responsive Customers\n",
    "\n",
    "Then, we can filter out less responsive customers who viewed the offer without any transaction,  and customers who didn't the received offer."
   ]
  },
  {
   "cell_type": "code",
   "execution_count": 30,
   "metadata": {
    "pycharm": {
     "name": "#%%\n"
    }
   },
   "outputs": [],
   "source": [
    "bogo_no_transaction = bogo_merged[bogo_merged['_merge']=='right_only']\n",
    "bogo_no_transaction = bogo_no_transaction.merge(transcript_processed,\n",
    "                                                how='left',\n",
    "                                                on=['person','offer_id'])\n",
    "\n",
    "bogo_viewed = bogo_no_transaction[['person','offer_id']] \\\n",
    "                                 [bogo_no_transaction['event']=='offer viewed']\\\n",
    "                                 .groupby(['person','offer_id']) \\\n",
    "                                 .count().reset_index()\n",
    "\n",
    "bogo_no_transaction.drop(['_merge'], axis=1, inplace=True)\n",
    "\n",
    "bogo_no_view = bogo_no_transaction.merge(bogo_viewed[['person','offer_id']],\n",
    "                                         how='left', indicator=True)\n",
    "\n",
    "bogo_no_view = bogo_no_view[bogo_no_view['_merge']=='left_only'].copy()\n"
   ]
  },
  {
   "cell_type": "code",
   "execution_count": 31,
   "metadata": {
    "pycharm": {
     "name": "#%%\n"
    }
   },
   "outputs": [],
   "source": [
    "# do the same  on discount offers\n",
    "\n",
    "discount_no_transaction = \\\n",
    "    discount_merged[discount_merged['_merge']=='right_only']\n",
    "discount_no_transaction = \\\n",
    "    discount_no_transaction.merge(transcript_processed,\n",
    "                                  how='left',\n",
    "                                  on=['person','offer_id'])\n",
    "\n",
    "discount_viewed = \\\n",
    "    discount_no_transaction[['person','offer_id']] \\\n",
    "                           [discount_no_transaction['event']=='offer viewed'] \\\n",
    "                           .groupby(['person','offer_id']) \\\n",
    "                           .count().reset_index()\n",
    "\n",
    "discount_no_transaction.drop(['_merge'], axis=1, inplace=True)\n",
    "\n",
    "discount_no_view = \\\n",
    "    discount_no_transaction.merge(discount_viewed[['person','offer_id']],\n",
    "                                  how='left', indicator=True)\n",
    "\n",
    "discount_no_view = discount_no_view[discount_no_view['_merge']=='left_only'] \\\n",
    "                                   .copy()\n"
   ]
  },
  {
   "cell_type": "markdown",
   "metadata": {},
   "source": [
    "##### 2.1.3 Unrelated Customers\n",
    "\n",
    "After above processes, there are still some more transcripts that are not related to offers according to given data"
   ]
  },
  {
   "cell_type": "code",
   "execution_count": 32,
   "metadata": {
    "pycharm": {
     "name": "#%%\n"
    }
   },
   "outputs": [],
   "source": [
    "bogo_unrelated = bogo[['person','offer_id']] \\\n",
    "                     [(bogo['event']=='offer completed') &\n",
    "                      (bogo['completed_offer']!=1)] \\\n",
    "                     .groupby(['person','offer_id'])\\\n",
    "                     .count().reset_index()\n",
    "\n",
    "discount_unrelated = discount[['person','offer_id']] \\\n",
    "                             [(discount['event']=='offer completed') &\n",
    "                              (discount['completed_offer']!=1)]\\\n",
    "                             .groupby(['person','offer_id'])\\\n",
    "                             .count().reset_index()"
   ]
  },
  {
   "cell_type": "markdown",
   "metadata": {},
   "source": [
    "##### 2.1.4. Group Subsets for Feature Engineering\n",
    "\n",
    "As explained previously, `bogo` and `discount` offers both have a complete sequence of actions, hence these two will be grouped for later use."
   ]
  },
  {
   "cell_type": "code",
   "execution_count": 33,
   "metadata": {
    "pycharm": {
     "name": "#%%\n"
    }
   },
   "outputs": [],
   "source": [
    "# combine the two kind of customers cases which are focused on\n",
    "bogo_completed['offer_responded'] = 1\n",
    "bogo_viewed['offer_responded'] = 0\n",
    "bogo_offer = bogo_completed.append(bogo_viewed, sort=False)\n",
    "\n",
    "discount_completed['offer_responded'] = 1\n",
    "discount_viewed['offer_responded'] = 0\n",
    "discount_offer = discount_completed.append(discount_viewed, sort=False)\n"
   ]
  },
  {
   "cell_type": "markdown",
   "metadata": {},
   "source": [
    "#### 2.2 `informational`\n",
    "\n",
    "For `informational` offers, we count transactions within the offer duration as responded, hence we need to process the given time related columns."
   ]
  },
  {
   "cell_type": "code",
   "execution_count": 34,
   "metadata": {
    "pycharm": {
     "name": "#%%\n"
    }
   },
   "outputs": [],
   "source": [
    "#convert time into days\n",
    "informational['day_offer'] = informational['time']/24\n",
    "\n",
    "#drop unnecessary columns\n",
    "informational.drop(['time','value','pre_offer_id'], axis=1, inplace=True)\n",
    "informational = informational.sort_values(['person','day_offer',\n",
    "                                           'event','offer_id'])\n",
    "\n",
    "#get difference in time for informational offers\n",
    "informational['diff'] = \\\n",
    "    informational[(informational['offer_type']=='informational') &\n",
    "                  ((informational['event']=='offer received') |\n",
    "                   (informational['event']=='transaction'))] \\\n",
    "                 .groupby(['person','offer_id'])['day_offer'].diff()\n",
    "\n",
    "informational['valid_completion']=np.nan\n",
    "\n",
    "#flag valid events if within duration\n",
    "informational.loc[informational['diff']<=informational['duration'],\n",
    "                  'valid_completion'] = 1\n",
    "#fill any missing values with 0 flag\n",
    "informational['valid_completion'] = \\\n",
    "    informational['valid_completion'].fillna(value=0)"
   ]
  },
  {
   "cell_type": "code",
   "execution_count": 35,
   "metadata": {
    "pycharm": {
     "name": "#%%\n"
    }
   },
   "outputs": [
    {
     "data": {
      "text/html": [
       "<div>\n",
       "<style scoped>\n",
       "    .dataframe tbody tr th:only-of-type {\n",
       "        vertical-align: middle;\n",
       "    }\n",
       "\n",
       "    .dataframe tbody tr th {\n",
       "        vertical-align: top;\n",
       "    }\n",
       "\n",
       "    .dataframe thead th {\n",
       "        text-align: right;\n",
       "    }\n",
       "</style>\n",
       "<table border=\"1\" class=\"dataframe\">\n",
       "  <thead>\n",
       "    <tr style=\"text-align: right;\">\n",
       "      <th></th>\n",
       "      <th>person</th>\n",
       "      <th>event</th>\n",
       "      <th>amount</th>\n",
       "      <th>id_x</th>\n",
       "      <th>offer_id</th>\n",
       "      <th>reward</th>\n",
       "      <th>channels</th>\n",
       "      <th>difficulty</th>\n",
       "      <th>offer_type</th>\n",
       "      <th>id_y</th>\n",
       "      <th>duration</th>\n",
       "      <th>completed_offer</th>\n",
       "      <th>day_offer</th>\n",
       "      <th>diff</th>\n",
       "      <th>valid_completion</th>\n",
       "    </tr>\n",
       "  </thead>\n",
       "  <tbody>\n",
       "    <tr>\n",
       "      <th>0</th>\n",
       "      <td>0009655768c64bdeb2e877511632db8f</td>\n",
       "      <td>offer received</td>\n",
       "      <td>NaN</td>\n",
       "      <td>5a8bc65990b245e5a138643cd4eb9837</td>\n",
       "      <td>5a8bc65990b245e5a138643cd4eb9837</td>\n",
       "      <td>0</td>\n",
       "      <td>[email, mobile, social]</td>\n",
       "      <td>0</td>\n",
       "      <td>informational</td>\n",
       "      <td>5a8bc65990b245e5a138643cd4eb9837</td>\n",
       "      <td>3.0</td>\n",
       "      <td>NaN</td>\n",
       "      <td>7.0</td>\n",
       "      <td>NaN</td>\n",
       "      <td>0.0</td>\n",
       "    </tr>\n",
       "    <tr>\n",
       "      <th>1</th>\n",
       "      <td>0009655768c64bdeb2e877511632db8f</td>\n",
       "      <td>offer viewed</td>\n",
       "      <td>NaN</td>\n",
       "      <td>5a8bc65990b245e5a138643cd4eb9837</td>\n",
       "      <td>5a8bc65990b245e5a138643cd4eb9837</td>\n",
       "      <td>0</td>\n",
       "      <td>[email, mobile, social]</td>\n",
       "      <td>0</td>\n",
       "      <td>informational</td>\n",
       "      <td>5a8bc65990b245e5a138643cd4eb9837</td>\n",
       "      <td>3.0</td>\n",
       "      <td>0.0</td>\n",
       "      <td>8.0</td>\n",
       "      <td>NaN</td>\n",
       "      <td>0.0</td>\n",
       "    </tr>\n",
       "    <tr>\n",
       "      <th>2</th>\n",
       "      <td>0009655768c64bdeb2e877511632db8f</td>\n",
       "      <td>transaction</td>\n",
       "      <td>22.16</td>\n",
       "      <td>NaN</td>\n",
       "      <td>5a8bc65990b245e5a138643cd4eb9837</td>\n",
       "      <td>0</td>\n",
       "      <td>[email, mobile, social]</td>\n",
       "      <td>0</td>\n",
       "      <td>informational</td>\n",
       "      <td>5a8bc65990b245e5a138643cd4eb9837</td>\n",
       "      <td>3.0</td>\n",
       "      <td>1.0</td>\n",
       "      <td>9.5</td>\n",
       "      <td>2.5</td>\n",
       "      <td>1.0</td>\n",
       "    </tr>\n",
       "    <tr>\n",
       "      <th>3</th>\n",
       "      <td>0009655768c64bdeb2e877511632db8f</td>\n",
       "      <td>offer received</td>\n",
       "      <td>NaN</td>\n",
       "      <td>3f207df678b143eea3cee63160fa8bed</td>\n",
       "      <td>3f207df678b143eea3cee63160fa8bed</td>\n",
       "      <td>0</td>\n",
       "      <td>[web, email, mobile]</td>\n",
       "      <td>0</td>\n",
       "      <td>informational</td>\n",
       "      <td>3f207df678b143eea3cee63160fa8bed</td>\n",
       "      <td>4.0</td>\n",
       "      <td>NaN</td>\n",
       "      <td>14.0</td>\n",
       "      <td>NaN</td>\n",
       "      <td>0.0</td>\n",
       "    </tr>\n",
       "    <tr>\n",
       "      <th>4</th>\n",
       "      <td>0009655768c64bdeb2e877511632db8f</td>\n",
       "      <td>offer viewed</td>\n",
       "      <td>NaN</td>\n",
       "      <td>3f207df678b143eea3cee63160fa8bed</td>\n",
       "      <td>3f207df678b143eea3cee63160fa8bed</td>\n",
       "      <td>0</td>\n",
       "      <td>[web, email, mobile]</td>\n",
       "      <td>0</td>\n",
       "      <td>informational</td>\n",
       "      <td>3f207df678b143eea3cee63160fa8bed</td>\n",
       "      <td>4.0</td>\n",
       "      <td>0.0</td>\n",
       "      <td>15.5</td>\n",
       "      <td>NaN</td>\n",
       "      <td>0.0</td>\n",
       "    </tr>\n",
       "  </tbody>\n",
       "</table>\n",
       "</div>"
      ],
      "text/plain": [
       "                             person           event  amount  \\\n",
       "0  0009655768c64bdeb2e877511632db8f  offer received     NaN   \n",
       "1  0009655768c64bdeb2e877511632db8f    offer viewed     NaN   \n",
       "2  0009655768c64bdeb2e877511632db8f     transaction   22.16   \n",
       "3  0009655768c64bdeb2e877511632db8f  offer received     NaN   \n",
       "4  0009655768c64bdeb2e877511632db8f    offer viewed     NaN   \n",
       "\n",
       "                               id_x                          offer_id  reward  \\\n",
       "0  5a8bc65990b245e5a138643cd4eb9837  5a8bc65990b245e5a138643cd4eb9837       0   \n",
       "1  5a8bc65990b245e5a138643cd4eb9837  5a8bc65990b245e5a138643cd4eb9837       0   \n",
       "2                               NaN  5a8bc65990b245e5a138643cd4eb9837       0   \n",
       "3  3f207df678b143eea3cee63160fa8bed  3f207df678b143eea3cee63160fa8bed       0   \n",
       "4  3f207df678b143eea3cee63160fa8bed  3f207df678b143eea3cee63160fa8bed       0   \n",
       "\n",
       "                  channels  difficulty     offer_type  \\\n",
       "0  [email, mobile, social]           0  informational   \n",
       "1  [email, mobile, social]           0  informational   \n",
       "2  [email, mobile, social]           0  informational   \n",
       "3     [web, email, mobile]           0  informational   \n",
       "4     [web, email, mobile]           0  informational   \n",
       "\n",
       "                               id_y  duration  completed_offer  day_offer  \\\n",
       "0  5a8bc65990b245e5a138643cd4eb9837       3.0              NaN        7.0   \n",
       "1  5a8bc65990b245e5a138643cd4eb9837       3.0              0.0        8.0   \n",
       "2  5a8bc65990b245e5a138643cd4eb9837       3.0              1.0        9.5   \n",
       "3  3f207df678b143eea3cee63160fa8bed       4.0              NaN       14.0   \n",
       "4  3f207df678b143eea3cee63160fa8bed       4.0              0.0       15.5   \n",
       "\n",
       "   diff  valid_completion  \n",
       "0   NaN               0.0  \n",
       "1   NaN               0.0  \n",
       "2   2.5               1.0  \n",
       "3   NaN               0.0  \n",
       "4   NaN               0.0  "
      ]
     },
     "execution_count": 35,
     "metadata": {},
     "output_type": "execute_result"
    }
   ],
   "source": [
    "informational.head()"
   ]
  },
  {
   "cell_type": "code",
   "execution_count": 36,
   "metadata": {
    "pycharm": {
     "name": "#%%\n"
    }
   },
   "outputs": [],
   "source": [
    "#flag responded offers where completed_offer=1 and valid_completion=1\n",
    "informational['offer_responded'] = \\\n",
    "    np.where(((informational['completed_offer']==1) &\n",
    "              (informational['valid_completion']==1)), 1, 0)"
   ]
  },
  {
   "cell_type": "code",
   "execution_count": 37,
   "metadata": {
    "pycharm": {
     "name": "#%%\n"
    }
   },
   "outputs": [],
   "source": [
    "info_completed = informational[['person','offer_id']] \\\n",
    "                              [informational['offer_responded']==1] \\\n",
    "                              .groupby(['person','offer_id']) \\\n",
    "                              .sum().reset_index()"
   ]
  },
  {
   "cell_type": "code",
   "execution_count": 38,
   "metadata": {
    "pycharm": {
     "name": "#%%\n"
    }
   },
   "outputs": [],
   "source": [
    "informational_ids_transaction_completed = \\\n",
    "    informational[['person','offer_id']] \\\n",
    "                 [(informational['event']=='transaction') |\n",
    "                  (informational['event']=='offer completed')] \\\n",
    "                 .groupby(['person','offer_id']) \\\n",
    "                 .count().reset_index()\n",
    "\n",
    "informational_ids_received = \\\n",
    "    informational[['person','offer_id']] \\\n",
    "                 [informational['event']=='offer received'] \\\n",
    "                 .groupby(['person','offer_id']) \\\n",
    "                 .count().reset_index()\n",
    "\n",
    "informational_merged = \\\n",
    "    informational_ids_transaction_completed \\\n",
    "        .merge(informational_ids_received,\n",
    "               how='right',\n",
    "               on=['person','offer_id'],\n",
    "               indicator=True)"
   ]
  },
  {
   "cell_type": "code",
   "execution_count": 39,
   "metadata": {
    "pycharm": {
     "name": "#%%\n"
    }
   },
   "outputs": [
    {
     "data": {
      "text/html": [
       "<div>\n",
       "<style scoped>\n",
       "    .dataframe tbody tr th:only-of-type {\n",
       "        vertical-align: middle;\n",
       "    }\n",
       "\n",
       "    .dataframe tbody tr th {\n",
       "        vertical-align: top;\n",
       "    }\n",
       "\n",
       "    .dataframe thead th {\n",
       "        text-align: right;\n",
       "    }\n",
       "</style>\n",
       "<table border=\"1\" class=\"dataframe\">\n",
       "  <thead>\n",
       "    <tr style=\"text-align: right;\">\n",
       "      <th></th>\n",
       "      <th>person</th>\n",
       "      <th>offer_id</th>\n",
       "      <th>_merge</th>\n",
       "    </tr>\n",
       "  </thead>\n",
       "  <tbody>\n",
       "    <tr>\n",
       "      <th>0</th>\n",
       "      <td>0009655768c64bdeb2e877511632db8f</td>\n",
       "      <td>3f207df678b143eea3cee63160fa8bed</td>\n",
       "      <td>both</td>\n",
       "    </tr>\n",
       "    <tr>\n",
       "      <th>1</th>\n",
       "      <td>0009655768c64bdeb2e877511632db8f</td>\n",
       "      <td>5a8bc65990b245e5a138643cd4eb9837</td>\n",
       "      <td>both</td>\n",
       "    </tr>\n",
       "    <tr>\n",
       "      <th>2</th>\n",
       "      <td>0011e0d4e6b944f998e987f904e8c1e5</td>\n",
       "      <td>3f207df678b143eea3cee63160fa8bed</td>\n",
       "      <td>both</td>\n",
       "    </tr>\n",
       "    <tr>\n",
       "      <th>3</th>\n",
       "      <td>0020c2b971eb4e9188eac86d93036a77</td>\n",
       "      <td>5a8bc65990b245e5a138643cd4eb9837</td>\n",
       "      <td>both</td>\n",
       "    </tr>\n",
       "    <tr>\n",
       "      <th>4</th>\n",
       "      <td>0020ccbbb6d84e358d3414a3ff76cffd</td>\n",
       "      <td>5a8bc65990b245e5a138643cd4eb9837</td>\n",
       "      <td>both</td>\n",
       "    </tr>\n",
       "  </tbody>\n",
       "</table>\n",
       "</div>"
      ],
      "text/plain": [
       "                             person                          offer_id _merge\n",
       "0  0009655768c64bdeb2e877511632db8f  3f207df678b143eea3cee63160fa8bed   both\n",
       "1  0009655768c64bdeb2e877511632db8f  5a8bc65990b245e5a138643cd4eb9837   both\n",
       "2  0011e0d4e6b944f998e987f904e8c1e5  3f207df678b143eea3cee63160fa8bed   both\n",
       "3  0020c2b971eb4e9188eac86d93036a77  5a8bc65990b245e5a138643cd4eb9837   both\n",
       "4  0020ccbbb6d84e358d3414a3ff76cffd  5a8bc65990b245e5a138643cd4eb9837   both"
      ]
     },
     "execution_count": 39,
     "metadata": {},
     "output_type": "execute_result"
    }
   ],
   "source": [
    "informational_merged.head()"
   ]
  },
  {
   "cell_type": "code",
   "execution_count": 40,
   "metadata": {
    "pycharm": {
     "name": "#%%\n"
    }
   },
   "outputs": [],
   "source": [
    "informational_no_transaction = \\\n",
    "    informational_merged[informational_merged['_merge']=='right_only']\n",
    "\n",
    "informational_no_transaction = \\\n",
    "    informational_no_transaction.merge(transcript_processed,\n",
    "                                       how='left',\n",
    "                                       on=['person','offer_id'])\n",
    "\n",
    "informational_viewed = \\\n",
    "    informational_no_transaction[['person','offer_id']] \\\n",
    "                                [informational_no_transaction['event']== \\\n",
    "                                     'offer viewed'] \\\n",
    "                                .groupby(['person','offer_id']) \\\n",
    "                                .count().reset_index()\n",
    "\n",
    "informational_no_transaction.drop(['_merge'], axis=1, inplace=True)\n",
    "\n",
    "informational_no_view = \\\n",
    "    informational_no_transaction.merge(\n",
    "            informational_viewed[['person','offer_id']],\n",
    "            how='left',\n",
    "            indicator=True)\n",
    "\n",
    "informational_no_view = \\\n",
    "    informational_no_view[informational_no_view['_merge']=='left_only'].copy()\n"
   ]
  },
  {
   "cell_type": "code",
   "execution_count": 41,
   "metadata": {
    "pycharm": {
     "name": "#%%\n"
    }
   },
   "outputs": [],
   "source": [
    "info_completed['offer_responded']=1\n",
    "informational_viewed['offer_responded']=0\n",
    "informational_offer = info_completed.append(informational_viewed, sort=False)"
   ]
  },
  {
   "cell_type": "markdown",
   "metadata": {},
   "source": [
    "## Feature engineering\n",
    "\n",
    "After basic processing, the next step will look if there are any columns that can be used to create new features.\n",
    "\n",
    "- generate a new column for length of customer's membership"
   ]
  },
  {
   "cell_type": "code",
   "execution_count": 42,
   "metadata": {
    "pycharm": {
     "name": "#%%\n"
    }
   },
   "outputs": [],
   "source": [
    "profile.rename(columns={'id':'person'},inplace=True)"
   ]
  },
  {
   "cell_type": "code",
   "execution_count": 43,
   "metadata": {
    "pycharm": {
     "name": "#%%\n"
    }
   },
   "outputs": [],
   "source": [
    "#create function to generate the length of time since the user become the member\n",
    "def member_since(df):\n",
    "    '''\n",
    "    inputs:\n",
    "    - df: dataframe to generate the ength of time since the user become the member\n",
    "    outputs:\n",
    "    - Returns dataframe with became_member_on column transformed to be tenure in days\n",
    "    \n",
    "    '''\n",
    "    #merge to get user demographic profile\n",
    "    df=df.merge(profile, how='left', on='person')\n",
    "    \n",
    "    df['year']=pd.Series([int(str(x)[:4]) for x in df['became_member_on']])\n",
    "    df['month']=pd.Series([int(str(x)[-3]) for x in df['became_member_on']])\n",
    "    df['day']=pd.Series([int(str(x)[-2:]) for x in df['became_member_on']])\n",
    "\n",
    "    df = df.drop('became_member_on', axis=1, inplace=False)\n",
    "\n",
    "    df.loc[df['year'] == 2018, 'membership_days'] = (30*df['month'])+df['day']\n",
    "    df.loc[df['year'] != 2018, 'membership_days'] = ((2018-df['year'])*365) + \\\n",
    "                                                    (30*df['month'])+df['day']\n",
    "\n",
    "    df = df.drop(['year','month','day'], axis=1, inplace=False)\n",
    "    \n",
    "    return df"
   ]
  },
  {
   "cell_type": "code",
   "execution_count": 44,
   "metadata": {
    "pycharm": {
     "name": "#%%\n"
    }
   },
   "outputs": [],
   "source": [
    "bogo_offer=member_since(bogo_offer)\n",
    "discount_offer=member_since(discount_offer)\n",
    "informational_offer=member_since(informational_offer)"
   ]
  },
  {
   "cell_type": "code",
   "execution_count": 45,
   "metadata": {
    "pycharm": {
     "name": "#%%\n"
    }
   },
   "outputs": [
    {
     "data": {
      "text/html": [
       "<div>\n",
       "<style scoped>\n",
       "    .dataframe tbody tr th:only-of-type {\n",
       "        vertical-align: middle;\n",
       "    }\n",
       "\n",
       "    .dataframe tbody tr th {\n",
       "        vertical-align: top;\n",
       "    }\n",
       "\n",
       "    .dataframe thead th {\n",
       "        text-align: right;\n",
       "    }\n",
       "</style>\n",
       "<table border=\"1\" class=\"dataframe\">\n",
       "  <thead>\n",
       "    <tr style=\"text-align: right;\">\n",
       "      <th></th>\n",
       "      <th>person</th>\n",
       "      <th>offer_id</th>\n",
       "      <th>offer_responded</th>\n",
       "      <th>gender</th>\n",
       "      <th>age</th>\n",
       "      <th>income</th>\n",
       "      <th>membership_days</th>\n",
       "    </tr>\n",
       "  </thead>\n",
       "  <tbody>\n",
       "    <tr>\n",
       "      <th>0</th>\n",
       "      <td>0011e0d4e6b944f998e987f904e8c1e5</td>\n",
       "      <td>9b98b8c7a33c4b65b9aebfe6a799e6d9</td>\n",
       "      <td>1</td>\n",
       "      <td>O</td>\n",
       "      <td>40</td>\n",
       "      <td>57000.0</td>\n",
       "      <td>39.0</td>\n",
       "    </tr>\n",
       "    <tr>\n",
       "      <th>1</th>\n",
       "      <td>0020c2b971eb4e9188eac86d93036a77</td>\n",
       "      <td>4d5c57ea9a6940dd891ad53e9dbe8da0</td>\n",
       "      <td>1</td>\n",
       "      <td>F</td>\n",
       "      <td>59</td>\n",
       "      <td>90000.0</td>\n",
       "      <td>824.0</td>\n",
       "    </tr>\n",
       "    <tr>\n",
       "      <th>2</th>\n",
       "      <td>0020ccbbb6d84e358d3414a3ff76cffd</td>\n",
       "      <td>9b98b8c7a33c4b65b9aebfe6a799e6d9</td>\n",
       "      <td>1</td>\n",
       "      <td>F</td>\n",
       "      <td>24</td>\n",
       "      <td>60000.0</td>\n",
       "      <td>771.0</td>\n",
       "    </tr>\n",
       "    <tr>\n",
       "      <th>3</th>\n",
       "      <td>0020ccbbb6d84e358d3414a3ff76cffd</td>\n",
       "      <td>f19421c1d4aa40978ebb69ca19b0e20d</td>\n",
       "      <td>1</td>\n",
       "      <td>F</td>\n",
       "      <td>24</td>\n",
       "      <td>60000.0</td>\n",
       "      <td>771.0</td>\n",
       "    </tr>\n",
       "    <tr>\n",
       "      <th>4</th>\n",
       "      <td>004b041fbfe44859945daa2c7f79ee64</td>\n",
       "      <td>f19421c1d4aa40978ebb69ca19b0e20d</td>\n",
       "      <td>1</td>\n",
       "      <td>F</td>\n",
       "      <td>55</td>\n",
       "      <td>74000.0</td>\n",
       "      <td>158.0</td>\n",
       "    </tr>\n",
       "  </tbody>\n",
       "</table>\n",
       "</div>"
      ],
      "text/plain": [
       "                             person                          offer_id  \\\n",
       "0  0011e0d4e6b944f998e987f904e8c1e5  9b98b8c7a33c4b65b9aebfe6a799e6d9   \n",
       "1  0020c2b971eb4e9188eac86d93036a77  4d5c57ea9a6940dd891ad53e9dbe8da0   \n",
       "2  0020ccbbb6d84e358d3414a3ff76cffd  9b98b8c7a33c4b65b9aebfe6a799e6d9   \n",
       "3  0020ccbbb6d84e358d3414a3ff76cffd  f19421c1d4aa40978ebb69ca19b0e20d   \n",
       "4  004b041fbfe44859945daa2c7f79ee64  f19421c1d4aa40978ebb69ca19b0e20d   \n",
       "\n",
       "   offer_responded gender  age   income  membership_days  \n",
       "0                1      O   40  57000.0             39.0  \n",
       "1                1      F   59  90000.0            824.0  \n",
       "2                1      F   24  60000.0            771.0  \n",
       "3                1      F   24  60000.0            771.0  \n",
       "4                1      F   55  74000.0            158.0  "
      ]
     },
     "execution_count": 45,
     "metadata": {},
     "output_type": "execute_result"
    }
   ],
   "source": [
    "bogo_offer.head()"
   ]
  },
  {
   "cell_type": "markdown",
   "metadata": {},
   "source": [
    "- generate the count of offer received for each user"
   ]
  },
  {
   "cell_type": "code",
   "execution_count": 46,
   "metadata": {
    "pycharm": {
     "name": "#%%\n"
    }
   },
   "outputs": [
    {
     "data": {
      "text/html": [
       "<div>\n",
       "<style scoped>\n",
       "    .dataframe tbody tr th:only-of-type {\n",
       "        vertical-align: middle;\n",
       "    }\n",
       "\n",
       "    .dataframe tbody tr th {\n",
       "        vertical-align: top;\n",
       "    }\n",
       "\n",
       "    .dataframe thead th {\n",
       "        text-align: right;\n",
       "    }\n",
       "</style>\n",
       "<table border=\"1\" class=\"dataframe\">\n",
       "  <thead>\n",
       "    <tr style=\"text-align: right;\">\n",
       "      <th></th>\n",
       "      <th>person</th>\n",
       "      <th>event</th>\n",
       "      <th>value</th>\n",
       "      <th>time</th>\n",
       "      <th>amount</th>\n",
       "      <th>reward_x</th>\n",
       "      <th>offer_id</th>\n",
       "      <th>reward_y</th>\n",
       "      <th>channels</th>\n",
       "      <th>difficulty</th>\n",
       "      <th>duration</th>\n",
       "      <th>offer_type</th>\n",
       "      <th>id</th>\n",
       "    </tr>\n",
       "  </thead>\n",
       "  <tbody>\n",
       "    <tr>\n",
       "      <th>0</th>\n",
       "      <td>78afa995795e4d85b5d9ceeca43f5fef</td>\n",
       "      <td>offer received</td>\n",
       "      <td>{'offer id': '9b98b8c7a33c4b65b9aebfe6a799e6d9'}</td>\n",
       "      <td>0</td>\n",
       "      <td>NaN</td>\n",
       "      <td>NaN</td>\n",
       "      <td>9b98b8c7a33c4b65b9aebfe6a799e6d9</td>\n",
       "      <td>5.0</td>\n",
       "      <td>[web, email, mobile]</td>\n",
       "      <td>5.0</td>\n",
       "      <td>7.0</td>\n",
       "      <td>bogo</td>\n",
       "      <td>9b98b8c7a33c4b65b9aebfe6a799e6d9</td>\n",
       "    </tr>\n",
       "    <tr>\n",
       "      <th>1</th>\n",
       "      <td>a03223e636434f42ac4c3df47e8bac43</td>\n",
       "      <td>offer received</td>\n",
       "      <td>{'offer id': '0b1e1539f2cc45b7b9fa7c272da2e1d7'}</td>\n",
       "      <td>0</td>\n",
       "      <td>NaN</td>\n",
       "      <td>NaN</td>\n",
       "      <td>0b1e1539f2cc45b7b9fa7c272da2e1d7</td>\n",
       "      <td>5.0</td>\n",
       "      <td>[web, email]</td>\n",
       "      <td>20.0</td>\n",
       "      <td>10.0</td>\n",
       "      <td>discount</td>\n",
       "      <td>0b1e1539f2cc45b7b9fa7c272da2e1d7</td>\n",
       "    </tr>\n",
       "    <tr>\n",
       "      <th>2</th>\n",
       "      <td>e2127556f4f64592b11af22de27a7932</td>\n",
       "      <td>offer received</td>\n",
       "      <td>{'offer id': '2906b810c7d4411798c6938adc9daaa5'}</td>\n",
       "      <td>0</td>\n",
       "      <td>NaN</td>\n",
       "      <td>NaN</td>\n",
       "      <td>2906b810c7d4411798c6938adc9daaa5</td>\n",
       "      <td>2.0</td>\n",
       "      <td>[web, email, mobile]</td>\n",
       "      <td>10.0</td>\n",
       "      <td>7.0</td>\n",
       "      <td>discount</td>\n",
       "      <td>2906b810c7d4411798c6938adc9daaa5</td>\n",
       "    </tr>\n",
       "    <tr>\n",
       "      <th>3</th>\n",
       "      <td>8ec6ce2a7e7949b1bf142def7d0e0586</td>\n",
       "      <td>offer received</td>\n",
       "      <td>{'offer id': 'fafdcd668e3743c1bb461111dcafc2a4'}</td>\n",
       "      <td>0</td>\n",
       "      <td>NaN</td>\n",
       "      <td>NaN</td>\n",
       "      <td>fafdcd668e3743c1bb461111dcafc2a4</td>\n",
       "      <td>2.0</td>\n",
       "      <td>[web, email, mobile, social]</td>\n",
       "      <td>10.0</td>\n",
       "      <td>10.0</td>\n",
       "      <td>discount</td>\n",
       "      <td>fafdcd668e3743c1bb461111dcafc2a4</td>\n",
       "    </tr>\n",
       "    <tr>\n",
       "      <th>4</th>\n",
       "      <td>68617ca6246f4fbc85e91a2a49552598</td>\n",
       "      <td>offer received</td>\n",
       "      <td>{'offer id': '4d5c57ea9a6940dd891ad53e9dbe8da0'}</td>\n",
       "      <td>0</td>\n",
       "      <td>NaN</td>\n",
       "      <td>NaN</td>\n",
       "      <td>4d5c57ea9a6940dd891ad53e9dbe8da0</td>\n",
       "      <td>10.0</td>\n",
       "      <td>[web, email, mobile, social]</td>\n",
       "      <td>10.0</td>\n",
       "      <td>5.0</td>\n",
       "      <td>bogo</td>\n",
       "      <td>4d5c57ea9a6940dd891ad53e9dbe8da0</td>\n",
       "    </tr>\n",
       "  </tbody>\n",
       "</table>\n",
       "</div>"
      ],
      "text/plain": [
       "                             person           event  \\\n",
       "0  78afa995795e4d85b5d9ceeca43f5fef  offer received   \n",
       "1  a03223e636434f42ac4c3df47e8bac43  offer received   \n",
       "2  e2127556f4f64592b11af22de27a7932  offer received   \n",
       "3  8ec6ce2a7e7949b1bf142def7d0e0586  offer received   \n",
       "4  68617ca6246f4fbc85e91a2a49552598  offer received   \n",
       "\n",
       "                                              value  time  amount  reward_x  \\\n",
       "0  {'offer id': '9b98b8c7a33c4b65b9aebfe6a799e6d9'}     0     NaN       NaN   \n",
       "1  {'offer id': '0b1e1539f2cc45b7b9fa7c272da2e1d7'}     0     NaN       NaN   \n",
       "2  {'offer id': '2906b810c7d4411798c6938adc9daaa5'}     0     NaN       NaN   \n",
       "3  {'offer id': 'fafdcd668e3743c1bb461111dcafc2a4'}     0     NaN       NaN   \n",
       "4  {'offer id': '4d5c57ea9a6940dd891ad53e9dbe8da0'}     0     NaN       NaN   \n",
       "\n",
       "                           offer_id  reward_y                      channels  \\\n",
       "0  9b98b8c7a33c4b65b9aebfe6a799e6d9       5.0          [web, email, mobile]   \n",
       "1  0b1e1539f2cc45b7b9fa7c272da2e1d7       5.0                  [web, email]   \n",
       "2  2906b810c7d4411798c6938adc9daaa5       2.0          [web, email, mobile]   \n",
       "3  fafdcd668e3743c1bb461111dcafc2a4       2.0  [web, email, mobile, social]   \n",
       "4  4d5c57ea9a6940dd891ad53e9dbe8da0      10.0  [web, email, mobile, social]   \n",
       "\n",
       "   difficulty  duration offer_type                                id  \n",
       "0         5.0       7.0       bogo  9b98b8c7a33c4b65b9aebfe6a799e6d9  \n",
       "1        20.0      10.0   discount  0b1e1539f2cc45b7b9fa7c272da2e1d7  \n",
       "2        10.0       7.0   discount  2906b810c7d4411798c6938adc9daaa5  \n",
       "3        10.0      10.0   discount  fafdcd668e3743c1bb461111dcafc2a4  \n",
       "4        10.0       5.0       bogo  4d5c57ea9a6940dd891ad53e9dbe8da0  "
      ]
     },
     "execution_count": 46,
     "metadata": {},
     "output_type": "execute_result"
    }
   ],
   "source": [
    "transcript.head()"
   ]
  },
  {
   "cell_type": "code",
   "execution_count": 47,
   "metadata": {
    "pycharm": {
     "name": "#%%\n"
    }
   },
   "outputs": [
    {
     "data": {
      "text/html": [
       "<div>\n",
       "<style scoped>\n",
       "    .dataframe tbody tr th:only-of-type {\n",
       "        vertical-align: middle;\n",
       "    }\n",
       "\n",
       "    .dataframe tbody tr th {\n",
       "        vertical-align: top;\n",
       "    }\n",
       "\n",
       "    .dataframe thead th {\n",
       "        text-align: right;\n",
       "    }\n",
       "</style>\n",
       "<table border=\"1\" class=\"dataframe\">\n",
       "  <thead>\n",
       "    <tr style=\"text-align: right;\">\n",
       "      <th></th>\n",
       "      <th>person</th>\n",
       "      <th>offer_id</th>\n",
       "      <th>offer_received_cnt</th>\n",
       "    </tr>\n",
       "  </thead>\n",
       "  <tbody>\n",
       "    <tr>\n",
       "      <th>0</th>\n",
       "      <td>0009655768c64bdeb2e877511632db8f</td>\n",
       "      <td>2906b810c7d4411798c6938adc9daaa5</td>\n",
       "      <td>1</td>\n",
       "    </tr>\n",
       "    <tr>\n",
       "      <th>1</th>\n",
       "      <td>0009655768c64bdeb2e877511632db8f</td>\n",
       "      <td>3f207df678b143eea3cee63160fa8bed</td>\n",
       "      <td>1</td>\n",
       "    </tr>\n",
       "    <tr>\n",
       "      <th>2</th>\n",
       "      <td>0009655768c64bdeb2e877511632db8f</td>\n",
       "      <td>5a8bc65990b245e5a138643cd4eb9837</td>\n",
       "      <td>1</td>\n",
       "    </tr>\n",
       "    <tr>\n",
       "      <th>3</th>\n",
       "      <td>0009655768c64bdeb2e877511632db8f</td>\n",
       "      <td>f19421c1d4aa40978ebb69ca19b0e20d</td>\n",
       "      <td>1</td>\n",
       "    </tr>\n",
       "    <tr>\n",
       "      <th>4</th>\n",
       "      <td>0009655768c64bdeb2e877511632db8f</td>\n",
       "      <td>fafdcd668e3743c1bb461111dcafc2a4</td>\n",
       "      <td>1</td>\n",
       "    </tr>\n",
       "  </tbody>\n",
       "</table>\n",
       "</div>"
      ],
      "text/plain": [
       "                             person                          offer_id  \\\n",
       "0  0009655768c64bdeb2e877511632db8f  2906b810c7d4411798c6938adc9daaa5   \n",
       "1  0009655768c64bdeb2e877511632db8f  3f207df678b143eea3cee63160fa8bed   \n",
       "2  0009655768c64bdeb2e877511632db8f  5a8bc65990b245e5a138643cd4eb9837   \n",
       "3  0009655768c64bdeb2e877511632db8f  f19421c1d4aa40978ebb69ca19b0e20d   \n",
       "4  0009655768c64bdeb2e877511632db8f  fafdcd668e3743c1bb461111dcafc2a4   \n",
       "\n",
       "   offer_received_cnt  \n",
       "0                   1  \n",
       "1                   1  \n",
       "2                   1  \n",
       "3                   1  \n",
       "4                   1  "
      ]
     },
     "execution_count": 47,
     "metadata": {},
     "output_type": "execute_result"
    }
   ],
   "source": [
    "# generate the count of offers received per person\n",
    "offer_cnt = transcript_processed[\n",
    "    transcript_processed['event']=='offer received'] \\\n",
    "    .groupby(['person','offer_id','time']) \\\n",
    "    .count()['event'].reset_index()\n",
    "\n",
    "offer_cnt.rename(columns={'event':'offer_received_cnt'},inplace=True)\n",
    "\n",
    "offer_cnt.drop(['time'], axis=1, inplace=True)\n",
    "\n",
    "# ensure only unique person-offer_id pairs\n",
    "offer_cnt=offer_cnt.groupby(['person','offer_id']).sum().reset_index()\n",
    "offer_cnt.head()"
   ]
  },
  {
   "cell_type": "markdown",
   "metadata": {},
   "source": [
    "- subtract the transactions which's not related to the offer"
   ]
  },
  {
   "cell_type": "code",
   "execution_count": 48,
   "metadata": {
    "pycharm": {
     "name": "#%%\n"
    }
   },
   "outputs": [],
   "source": [
    "# subtract the transactions which's not related to the offer\n",
    "transactions_not_related = \\\n",
    "    transcript_processed[(transcript_processed['event']=='transaction') &\n",
    "                         (transcript_processed['completed_offer']==0)] \\\n",
    "                         .groupby(['person','offer_id'])['amount'] \\\n",
    "                         .sum().reset_index()\n",
    "\n",
    "transactions_not_related.rename(columns={'amount':'amount_invalid'},\n",
    "                                inplace=True)"
   ]
  },
  {
   "cell_type": "markdown",
   "metadata": {},
   "source": [
    "- calculate the time lap between offers"
   ]
  },
  {
   "cell_type": "code",
   "execution_count": 49,
   "metadata": {
    "pycharm": {
     "name": "#%%\n"
    }
   },
   "outputs": [],
   "source": [
    "# convert time into days\n",
    "transcript_processed['day_offer'] = transcript_processed['time'] / 24\n",
    "# drop unnecessary columns\n",
    "transcript_processed.drop(['time'], axis=1, inplace=True)\n",
    "\n",
    "# calculate the time between offers\n",
    "transcript_processed['time_gap'] = \\\n",
    "    transcript_processed[transcript_processed['event']=='offer received'] \\\n",
    "        .groupby(['person','offer_id'])['day_offer'].diff()\n",
    "\n",
    "# fill missing values with 0\n",
    "transcript_processed['time_gap'] = transcript_processed['time_gap'] \\\n",
    "                                       .fillna(value=0)\n",
    "\n",
    "df_time_gap = transcript_processed.groupby(['person','offer_id'])['time_gap'] \\\n",
    "                                  .sum().reset_index()"
   ]
  },
  {
   "cell_type": "markdown",
   "metadata": {},
   "source": [
    "- Merge the temporary data created above together, then drop the missing values in gender column, and split the channel column to the categorical variable"
   ]
  },
  {
   "cell_type": "code",
   "execution_count": 50,
   "metadata": {
    "pycharm": {
     "name": "#%%\n"
    }
   },
   "outputs": [],
   "source": [
    "# merge to get offers received count and invalid amount transacted \n",
    "bogo_offer = bogo_offer.merge(offer_cnt[['person', 'offer_id',\n",
    "                                         'offer_received_cnt']],\n",
    "                              how='left',on=['person','offer_id'])\n",
    "\n",
    "bogo_offer = bogo_offer.merge(transactions_not_related[['person', 'offer_id',\n",
    "                                                        'amount_invalid']],\n",
    "                              how='left',on=['person','offer_id'])"
   ]
  },
  {
   "cell_type": "code",
   "execution_count": 51,
   "metadata": {
    "pycharm": {
     "name": "#%%\n"
    }
   },
   "outputs": [],
   "source": [
    "# fill missing values for amount_invalid with 0\n",
    "bogo_offer['amount_invalid']=bogo_offer['amount_invalid'].fillna(value=0)\n",
    "bogo_offer.dropna(inplace=True)"
   ]
  },
  {
   "cell_type": "code",
   "execution_count": 52,
   "metadata": {
    "pycharm": {
     "name": "#%%\n"
    }
   },
   "outputs": [
    {
     "data": {
      "text/html": [
       "<div>\n",
       "<style scoped>\n",
       "    .dataframe tbody tr th:only-of-type {\n",
       "        vertical-align: middle;\n",
       "    }\n",
       "\n",
       "    .dataframe tbody tr th {\n",
       "        vertical-align: top;\n",
       "    }\n",
       "\n",
       "    .dataframe thead th {\n",
       "        text-align: right;\n",
       "    }\n",
       "</style>\n",
       "<table border=\"1\" class=\"dataframe\">\n",
       "  <thead>\n",
       "    <tr style=\"text-align: right;\">\n",
       "      <th></th>\n",
       "      <th>person</th>\n",
       "      <th>offer_id</th>\n",
       "      <th>offer_responded</th>\n",
       "      <th>gender</th>\n",
       "      <th>age</th>\n",
       "      <th>income</th>\n",
       "      <th>membership_days</th>\n",
       "      <th>offer_received_cnt</th>\n",
       "      <th>amount_invalid</th>\n",
       "    </tr>\n",
       "  </thead>\n",
       "  <tbody>\n",
       "    <tr>\n",
       "      <th>0</th>\n",
       "      <td>0011e0d4e6b944f998e987f904e8c1e5</td>\n",
       "      <td>9b98b8c7a33c4b65b9aebfe6a799e6d9</td>\n",
       "      <td>1</td>\n",
       "      <td>O</td>\n",
       "      <td>40</td>\n",
       "      <td>57000.0</td>\n",
       "      <td>39.0</td>\n",
       "      <td>1</td>\n",
       "      <td>0.0</td>\n",
       "    </tr>\n",
       "    <tr>\n",
       "      <th>1</th>\n",
       "      <td>0020c2b971eb4e9188eac86d93036a77</td>\n",
       "      <td>4d5c57ea9a6940dd891ad53e9dbe8da0</td>\n",
       "      <td>1</td>\n",
       "      <td>F</td>\n",
       "      <td>59</td>\n",
       "      <td>90000.0</td>\n",
       "      <td>824.0</td>\n",
       "      <td>1</td>\n",
       "      <td>0.0</td>\n",
       "    </tr>\n",
       "    <tr>\n",
       "      <th>2</th>\n",
       "      <td>0020ccbbb6d84e358d3414a3ff76cffd</td>\n",
       "      <td>9b98b8c7a33c4b65b9aebfe6a799e6d9</td>\n",
       "      <td>1</td>\n",
       "      <td>F</td>\n",
       "      <td>24</td>\n",
       "      <td>60000.0</td>\n",
       "      <td>771.0</td>\n",
       "      <td>1</td>\n",
       "      <td>0.0</td>\n",
       "    </tr>\n",
       "    <tr>\n",
       "      <th>3</th>\n",
       "      <td>0020ccbbb6d84e358d3414a3ff76cffd</td>\n",
       "      <td>f19421c1d4aa40978ebb69ca19b0e20d</td>\n",
       "      <td>1</td>\n",
       "      <td>F</td>\n",
       "      <td>24</td>\n",
       "      <td>60000.0</td>\n",
       "      <td>771.0</td>\n",
       "      <td>1</td>\n",
       "      <td>0.0</td>\n",
       "    </tr>\n",
       "    <tr>\n",
       "      <th>4</th>\n",
       "      <td>004b041fbfe44859945daa2c7f79ee64</td>\n",
       "      <td>f19421c1d4aa40978ebb69ca19b0e20d</td>\n",
       "      <td>1</td>\n",
       "      <td>F</td>\n",
       "      <td>55</td>\n",
       "      <td>74000.0</td>\n",
       "      <td>158.0</td>\n",
       "      <td>1</td>\n",
       "      <td>0.0</td>\n",
       "    </tr>\n",
       "  </tbody>\n",
       "</table>\n",
       "</div>"
      ],
      "text/plain": [
       "                             person                          offer_id  \\\n",
       "0  0011e0d4e6b944f998e987f904e8c1e5  9b98b8c7a33c4b65b9aebfe6a799e6d9   \n",
       "1  0020c2b971eb4e9188eac86d93036a77  4d5c57ea9a6940dd891ad53e9dbe8da0   \n",
       "2  0020ccbbb6d84e358d3414a3ff76cffd  9b98b8c7a33c4b65b9aebfe6a799e6d9   \n",
       "3  0020ccbbb6d84e358d3414a3ff76cffd  f19421c1d4aa40978ebb69ca19b0e20d   \n",
       "4  004b041fbfe44859945daa2c7f79ee64  f19421c1d4aa40978ebb69ca19b0e20d   \n",
       "\n",
       "   offer_responded gender  age   income  membership_days  offer_received_cnt  \\\n",
       "0                1      O   40  57000.0             39.0                   1   \n",
       "1                1      F   59  90000.0            824.0                   1   \n",
       "2                1      F   24  60000.0            771.0                   1   \n",
       "3                1      F   24  60000.0            771.0                   1   \n",
       "4                1      F   55  74000.0            158.0                   1   \n",
       "\n",
       "   amount_invalid  \n",
       "0             0.0  \n",
       "1             0.0  \n",
       "2             0.0  \n",
       "3             0.0  \n",
       "4             0.0  "
      ]
     },
     "execution_count": 52,
     "metadata": {},
     "output_type": "execute_result"
    }
   ],
   "source": [
    "bogo_offer.head()"
   ]
  },
  {
   "cell_type": "code",
   "execution_count": 53,
   "metadata": {
    "pycharm": {
     "name": "#%%\n"
    }
   },
   "outputs": [],
   "source": [
    "# Split the channel column into categorical variables\n",
    "def rename(col_name,df):\n",
    "    df[col_name]=np.where(df[col_name]==col_name,1,0)\n",
    "    return df\n",
    "\n",
    "# dummy variable encoding function\n",
    "def dummy(df,col):\n",
    "    df = pd.concat([df[:],pd.get_dummies(df[col],prefix=col)],axis=1)\n",
    "    df = df.drop([col], axis=1, inplace=False)\n",
    "    return df\n",
    "\n",
    "portfolio.rename(columns={'id':'offer_id'}, inplace=True)"
   ]
  },
  {
   "cell_type": "code",
   "execution_count": 54,
   "metadata": {
    "pycharm": {
     "name": "#%%\n"
    }
   },
   "outputs": [],
   "source": [
    "# merge with portfolio to get offer details\n",
    "bogo_offer=bogo_offer.merge(portfolio,how='left',on='offer_id')\n",
    "\n",
    "# convert channels into categorical variables\n",
    "channels = bogo_offer['channels'].apply(pd.Series)\n",
    "channels = channels.rename(columns={0:'web',1:'email',2:'mobile',3:'social'})\n",
    "bogo_offer = pd.concat([bogo_offer[:], channels[:]], axis=1)\n",
    "rename('web',bogo_offer)\n",
    "rename('email',bogo_offer)\n",
    "rename('mobile',bogo_offer)\n",
    "rename('social',bogo_offer)\n",
    "bogo_offer = bogo_offer.drop(['channels'], axis=1, inplace=False)\n",
    "\n",
    "# convert gender into categorical variables\n",
    "bogo_offer=dummy(bogo_offer,'gender')"
   ]
  },
  {
   "cell_type": "code",
   "execution_count": 55,
   "metadata": {
    "pycharm": {
     "name": "#%%\n"
    }
   },
   "outputs": [
    {
     "data": {
      "text/html": [
       "<div>\n",
       "<style scoped>\n",
       "    .dataframe tbody tr th:only-of-type {\n",
       "        vertical-align: middle;\n",
       "    }\n",
       "\n",
       "    .dataframe tbody tr th {\n",
       "        vertical-align: top;\n",
       "    }\n",
       "\n",
       "    .dataframe thead th {\n",
       "        text-align: right;\n",
       "    }\n",
       "</style>\n",
       "<table border=\"1\" class=\"dataframe\">\n",
       "  <thead>\n",
       "    <tr style=\"text-align: right;\">\n",
       "      <th></th>\n",
       "      <th>person</th>\n",
       "      <th>offer_id</th>\n",
       "      <th>offer_responded</th>\n",
       "      <th>age</th>\n",
       "      <th>income</th>\n",
       "      <th>membership_days</th>\n",
       "      <th>offer_received_cnt</th>\n",
       "      <th>amount_invalid</th>\n",
       "      <th>reward</th>\n",
       "      <th>difficulty</th>\n",
       "      <th>duration</th>\n",
       "      <th>offer_type</th>\n",
       "      <th>web</th>\n",
       "      <th>email</th>\n",
       "      <th>mobile</th>\n",
       "      <th>social</th>\n",
       "      <th>gender_F</th>\n",
       "      <th>gender_M</th>\n",
       "      <th>gender_O</th>\n",
       "    </tr>\n",
       "  </thead>\n",
       "  <tbody>\n",
       "    <tr>\n",
       "      <th>0</th>\n",
       "      <td>0011e0d4e6b944f998e987f904e8c1e5</td>\n",
       "      <td>9b98b8c7a33c4b65b9aebfe6a799e6d9</td>\n",
       "      <td>1</td>\n",
       "      <td>40</td>\n",
       "      <td>57000.0</td>\n",
       "      <td>39.0</td>\n",
       "      <td>1</td>\n",
       "      <td>0.0</td>\n",
       "      <td>5</td>\n",
       "      <td>5</td>\n",
       "      <td>7</td>\n",
       "      <td>bogo</td>\n",
       "      <td>1</td>\n",
       "      <td>1</td>\n",
       "      <td>1</td>\n",
       "      <td>0</td>\n",
       "      <td>0</td>\n",
       "      <td>0</td>\n",
       "      <td>1</td>\n",
       "    </tr>\n",
       "    <tr>\n",
       "      <th>1</th>\n",
       "      <td>0020c2b971eb4e9188eac86d93036a77</td>\n",
       "      <td>4d5c57ea9a6940dd891ad53e9dbe8da0</td>\n",
       "      <td>1</td>\n",
       "      <td>59</td>\n",
       "      <td>90000.0</td>\n",
       "      <td>824.0</td>\n",
       "      <td>1</td>\n",
       "      <td>0.0</td>\n",
       "      <td>10</td>\n",
       "      <td>10</td>\n",
       "      <td>5</td>\n",
       "      <td>bogo</td>\n",
       "      <td>1</td>\n",
       "      <td>1</td>\n",
       "      <td>1</td>\n",
       "      <td>1</td>\n",
       "      <td>1</td>\n",
       "      <td>0</td>\n",
       "      <td>0</td>\n",
       "    </tr>\n",
       "    <tr>\n",
       "      <th>2</th>\n",
       "      <td>0020ccbbb6d84e358d3414a3ff76cffd</td>\n",
       "      <td>9b98b8c7a33c4b65b9aebfe6a799e6d9</td>\n",
       "      <td>1</td>\n",
       "      <td>24</td>\n",
       "      <td>60000.0</td>\n",
       "      <td>771.0</td>\n",
       "      <td>1</td>\n",
       "      <td>0.0</td>\n",
       "      <td>5</td>\n",
       "      <td>5</td>\n",
       "      <td>7</td>\n",
       "      <td>bogo</td>\n",
       "      <td>1</td>\n",
       "      <td>1</td>\n",
       "      <td>1</td>\n",
       "      <td>0</td>\n",
       "      <td>1</td>\n",
       "      <td>0</td>\n",
       "      <td>0</td>\n",
       "    </tr>\n",
       "    <tr>\n",
       "      <th>3</th>\n",
       "      <td>0020ccbbb6d84e358d3414a3ff76cffd</td>\n",
       "      <td>f19421c1d4aa40978ebb69ca19b0e20d</td>\n",
       "      <td>1</td>\n",
       "      <td>24</td>\n",
       "      <td>60000.0</td>\n",
       "      <td>771.0</td>\n",
       "      <td>1</td>\n",
       "      <td>0.0</td>\n",
       "      <td>5</td>\n",
       "      <td>5</td>\n",
       "      <td>5</td>\n",
       "      <td>bogo</td>\n",
       "      <td>1</td>\n",
       "      <td>1</td>\n",
       "      <td>1</td>\n",
       "      <td>1</td>\n",
       "      <td>1</td>\n",
       "      <td>0</td>\n",
       "      <td>0</td>\n",
       "    </tr>\n",
       "    <tr>\n",
       "      <th>4</th>\n",
       "      <td>004b041fbfe44859945daa2c7f79ee64</td>\n",
       "      <td>f19421c1d4aa40978ebb69ca19b0e20d</td>\n",
       "      <td>1</td>\n",
       "      <td>55</td>\n",
       "      <td>74000.0</td>\n",
       "      <td>158.0</td>\n",
       "      <td>1</td>\n",
       "      <td>0.0</td>\n",
       "      <td>5</td>\n",
       "      <td>5</td>\n",
       "      <td>5</td>\n",
       "      <td>bogo</td>\n",
       "      <td>1</td>\n",
       "      <td>1</td>\n",
       "      <td>1</td>\n",
       "      <td>1</td>\n",
       "      <td>1</td>\n",
       "      <td>0</td>\n",
       "      <td>0</td>\n",
       "    </tr>\n",
       "  </tbody>\n",
       "</table>\n",
       "</div>"
      ],
      "text/plain": [
       "                             person                          offer_id  \\\n",
       "0  0011e0d4e6b944f998e987f904e8c1e5  9b98b8c7a33c4b65b9aebfe6a799e6d9   \n",
       "1  0020c2b971eb4e9188eac86d93036a77  4d5c57ea9a6940dd891ad53e9dbe8da0   \n",
       "2  0020ccbbb6d84e358d3414a3ff76cffd  9b98b8c7a33c4b65b9aebfe6a799e6d9   \n",
       "3  0020ccbbb6d84e358d3414a3ff76cffd  f19421c1d4aa40978ebb69ca19b0e20d   \n",
       "4  004b041fbfe44859945daa2c7f79ee64  f19421c1d4aa40978ebb69ca19b0e20d   \n",
       "\n",
       "   offer_responded  age   income  membership_days  offer_received_cnt  \\\n",
       "0                1   40  57000.0             39.0                   1   \n",
       "1                1   59  90000.0            824.0                   1   \n",
       "2                1   24  60000.0            771.0                   1   \n",
       "3                1   24  60000.0            771.0                   1   \n",
       "4                1   55  74000.0            158.0                   1   \n",
       "\n",
       "   amount_invalid  reward  difficulty  duration offer_type  web  email  \\\n",
       "0             0.0       5           5         7       bogo    1      1   \n",
       "1             0.0      10          10         5       bogo    1      1   \n",
       "2             0.0       5           5         7       bogo    1      1   \n",
       "3             0.0       5           5         5       bogo    1      1   \n",
       "4             0.0       5           5         5       bogo    1      1   \n",
       "\n",
       "   mobile  social  gender_F  gender_M  gender_O  \n",
       "0       1       0         0         0         1  \n",
       "1       1       1         1         0         0  \n",
       "2       1       0         1         0         0  \n",
       "3       1       1         1         0         0  \n",
       "4       1       1         1         0         0  "
      ]
     },
     "execution_count": 55,
     "metadata": {},
     "output_type": "execute_result"
    }
   ],
   "source": [
    "# quick check on processed data\n",
    "bogo_offer.head()"
   ]
  },
  {
   "cell_type": "code",
   "execution_count": 56,
   "metadata": {
    "pycharm": {
     "name": "#%%\n"
    }
   },
   "outputs": [
    {
     "data": {
      "text/html": [
       "<div>\n",
       "<style scoped>\n",
       "    .dataframe tbody tr th:only-of-type {\n",
       "        vertical-align: middle;\n",
       "    }\n",
       "\n",
       "    .dataframe tbody tr th {\n",
       "        vertical-align: top;\n",
       "    }\n",
       "\n",
       "    .dataframe thead th {\n",
       "        text-align: right;\n",
       "    }\n",
       "</style>\n",
       "<table border=\"1\" class=\"dataframe\">\n",
       "  <thead>\n",
       "    <tr style=\"text-align: right;\">\n",
       "      <th></th>\n",
       "      <th>person</th>\n",
       "      <th>offer_id</th>\n",
       "      <th>offer_responded</th>\n",
       "      <th>gender</th>\n",
       "      <th>age</th>\n",
       "      <th>income</th>\n",
       "      <th>membership_days</th>\n",
       "    </tr>\n",
       "  </thead>\n",
       "  <tbody>\n",
       "    <tr>\n",
       "      <th>0</th>\n",
       "      <td>0011e0d4e6b944f998e987f904e8c1e5</td>\n",
       "      <td>0b1e1539f2cc45b7b9fa7c272da2e1d7</td>\n",
       "      <td>1</td>\n",
       "      <td>O</td>\n",
       "      <td>40</td>\n",
       "      <td>57000.0</td>\n",
       "      <td>39.0</td>\n",
       "    </tr>\n",
       "    <tr>\n",
       "      <th>1</th>\n",
       "      <td>0011e0d4e6b944f998e987f904e8c1e5</td>\n",
       "      <td>2298d6c36e964ae4a3e7e9706d1fb8c2</td>\n",
       "      <td>1</td>\n",
       "      <td>O</td>\n",
       "      <td>40</td>\n",
       "      <td>57000.0</td>\n",
       "      <td>39.0</td>\n",
       "    </tr>\n",
       "    <tr>\n",
       "      <th>2</th>\n",
       "      <td>0020c2b971eb4e9188eac86d93036a77</td>\n",
       "      <td>fafdcd668e3743c1bb461111dcafc2a4</td>\n",
       "      <td>1</td>\n",
       "      <td>F</td>\n",
       "      <td>59</td>\n",
       "      <td>90000.0</td>\n",
       "      <td>824.0</td>\n",
       "    </tr>\n",
       "    <tr>\n",
       "      <th>3</th>\n",
       "      <td>0020ccbbb6d84e358d3414a3ff76cffd</td>\n",
       "      <td>2298d6c36e964ae4a3e7e9706d1fb8c2</td>\n",
       "      <td>1</td>\n",
       "      <td>F</td>\n",
       "      <td>24</td>\n",
       "      <td>60000.0</td>\n",
       "      <td>771.0</td>\n",
       "    </tr>\n",
       "    <tr>\n",
       "      <th>4</th>\n",
       "      <td>003d66b6608740288d6cc97a6903f4f0</td>\n",
       "      <td>fafdcd668e3743c1bb461111dcafc2a4</td>\n",
       "      <td>1</td>\n",
       "      <td>F</td>\n",
       "      <td>26</td>\n",
       "      <td>73000.0</td>\n",
       "      <td>566.0</td>\n",
       "    </tr>\n",
       "  </tbody>\n",
       "</table>\n",
       "</div>"
      ],
      "text/plain": [
       "                             person                          offer_id  \\\n",
       "0  0011e0d4e6b944f998e987f904e8c1e5  0b1e1539f2cc45b7b9fa7c272da2e1d7   \n",
       "1  0011e0d4e6b944f998e987f904e8c1e5  2298d6c36e964ae4a3e7e9706d1fb8c2   \n",
       "2  0020c2b971eb4e9188eac86d93036a77  fafdcd668e3743c1bb461111dcafc2a4   \n",
       "3  0020ccbbb6d84e358d3414a3ff76cffd  2298d6c36e964ae4a3e7e9706d1fb8c2   \n",
       "4  003d66b6608740288d6cc97a6903f4f0  fafdcd668e3743c1bb461111dcafc2a4   \n",
       "\n",
       "   offer_responded gender  age   income  membership_days  \n",
       "0                1      O   40  57000.0             39.0  \n",
       "1                1      O   40  57000.0             39.0  \n",
       "2                1      F   59  90000.0            824.0  \n",
       "3                1      F   24  60000.0            771.0  \n",
       "4                1      F   26  73000.0            566.0  "
      ]
     },
     "execution_count": 56,
     "metadata": {},
     "output_type": "execute_result"
    }
   ],
   "source": [
    "# quick view on discount_offer data\n",
    "discount_offer.head()"
   ]
  },
  {
   "cell_type": "code",
   "execution_count": 57,
   "metadata": {
    "pycharm": {
     "name": "#%%\n"
    }
   },
   "outputs": [],
   "source": [
    "# do the same processing on discount data\n",
    "# merge to get offers received count and invalid amount transacted \n",
    "discount_offer = discount_offer.merge(offer_cnt[['person', 'offer_id',\n",
    "                                                 'offer_received_cnt']],\n",
    "                                      how='left', on=['person','offer_id'])\n",
    "\n",
    "discount_offer = discount_offer.merge(\n",
    "        transactions_not_related[['person', 'offer_id', 'amount_invalid']],\n",
    "        how='left', on=['person','offer_id'])"
   ]
  },
  {
   "cell_type": "code",
   "execution_count": 58,
   "metadata": {
    "pycharm": {
     "name": "#%%\n"
    }
   },
   "outputs": [],
   "source": [
    "# fill missing values for amount_invalid with 0\n",
    "discount_offer['amount_invalid'] = discount_offer['amount_invalid'] \\\n",
    "                                                 .fillna(value=0)\n",
    "\n",
    "discount_offer.dropna(inplace=True)"
   ]
  },
  {
   "cell_type": "code",
   "execution_count": 59,
   "metadata": {
    "pycharm": {
     "name": "#%%\n"
    }
   },
   "outputs": [],
   "source": [
    "# merge with portfolio to get offer details\n",
    "discount_offer= discount_offer.merge(portfolio, how='left', on='offer_id')\n",
    "\n",
    "# convert channels into categorical variables\n",
    "channels = discount_offer['channels'].apply(pd.Series)\n",
    "channels = channels.rename(columns={0:'web',1:'email',2:'mobile',3:'social'})\n",
    "discount_offer = pd.concat([discount_offer[:], channels[:]], axis=1)\n",
    "rename('web',discount_offer)\n",
    "rename('email',discount_offer)\n",
    "rename('mobile',discount_offer)\n",
    "rename('social',discount_offer)\n",
    "discount_offer = discount_offer.drop(['channels'], axis=1, inplace=False)\n",
    "\n",
    "#convert gender into categorical variables\n",
    "discount_offer=dummy(discount_offer,'gender')"
   ]
  },
  {
   "cell_type": "code",
   "execution_count": 60,
   "metadata": {
    "pycharm": {
     "name": "#%%\n"
    }
   },
   "outputs": [
    {
     "data": {
      "text/html": [
       "<div>\n",
       "<style scoped>\n",
       "    .dataframe tbody tr th:only-of-type {\n",
       "        vertical-align: middle;\n",
       "    }\n",
       "\n",
       "    .dataframe tbody tr th {\n",
       "        vertical-align: top;\n",
       "    }\n",
       "\n",
       "    .dataframe thead th {\n",
       "        text-align: right;\n",
       "    }\n",
       "</style>\n",
       "<table border=\"1\" class=\"dataframe\">\n",
       "  <thead>\n",
       "    <tr style=\"text-align: right;\">\n",
       "      <th></th>\n",
       "      <th>person</th>\n",
       "      <th>offer_id</th>\n",
       "      <th>offer_responded</th>\n",
       "      <th>age</th>\n",
       "      <th>income</th>\n",
       "      <th>membership_days</th>\n",
       "      <th>offer_received_cnt</th>\n",
       "      <th>amount_invalid</th>\n",
       "      <th>reward</th>\n",
       "      <th>difficulty</th>\n",
       "      <th>duration</th>\n",
       "      <th>offer_type</th>\n",
       "      <th>web</th>\n",
       "      <th>email</th>\n",
       "      <th>mobile</th>\n",
       "      <th>social</th>\n",
       "      <th>gender_F</th>\n",
       "      <th>gender_M</th>\n",
       "      <th>gender_O</th>\n",
       "    </tr>\n",
       "  </thead>\n",
       "  <tbody>\n",
       "    <tr>\n",
       "      <th>0</th>\n",
       "      <td>0011e0d4e6b944f998e987f904e8c1e5</td>\n",
       "      <td>0b1e1539f2cc45b7b9fa7c272da2e1d7</td>\n",
       "      <td>1</td>\n",
       "      <td>40</td>\n",
       "      <td>57000.0</td>\n",
       "      <td>39.0</td>\n",
       "      <td>1</td>\n",
       "      <td>0.0</td>\n",
       "      <td>5</td>\n",
       "      <td>20</td>\n",
       "      <td>10</td>\n",
       "      <td>discount</td>\n",
       "      <td>1</td>\n",
       "      <td>1</td>\n",
       "      <td>0</td>\n",
       "      <td>0</td>\n",
       "      <td>0</td>\n",
       "      <td>0</td>\n",
       "      <td>1</td>\n",
       "    </tr>\n",
       "    <tr>\n",
       "      <th>1</th>\n",
       "      <td>0011e0d4e6b944f998e987f904e8c1e5</td>\n",
       "      <td>2298d6c36e964ae4a3e7e9706d1fb8c2</td>\n",
       "      <td>1</td>\n",
       "      <td>40</td>\n",
       "      <td>57000.0</td>\n",
       "      <td>39.0</td>\n",
       "      <td>1</td>\n",
       "      <td>0.0</td>\n",
       "      <td>3</td>\n",
       "      <td>7</td>\n",
       "      <td>7</td>\n",
       "      <td>discount</td>\n",
       "      <td>1</td>\n",
       "      <td>1</td>\n",
       "      <td>1</td>\n",
       "      <td>1</td>\n",
       "      <td>0</td>\n",
       "      <td>0</td>\n",
       "      <td>1</td>\n",
       "    </tr>\n",
       "    <tr>\n",
       "      <th>2</th>\n",
       "      <td>0020c2b971eb4e9188eac86d93036a77</td>\n",
       "      <td>fafdcd668e3743c1bb461111dcafc2a4</td>\n",
       "      <td>1</td>\n",
       "      <td>59</td>\n",
       "      <td>90000.0</td>\n",
       "      <td>824.0</td>\n",
       "      <td>2</td>\n",
       "      <td>0.0</td>\n",
       "      <td>2</td>\n",
       "      <td>10</td>\n",
       "      <td>10</td>\n",
       "      <td>discount</td>\n",
       "      <td>1</td>\n",
       "      <td>1</td>\n",
       "      <td>1</td>\n",
       "      <td>1</td>\n",
       "      <td>1</td>\n",
       "      <td>0</td>\n",
       "      <td>0</td>\n",
       "    </tr>\n",
       "    <tr>\n",
       "      <th>3</th>\n",
       "      <td>0020ccbbb6d84e358d3414a3ff76cffd</td>\n",
       "      <td>2298d6c36e964ae4a3e7e9706d1fb8c2</td>\n",
       "      <td>1</td>\n",
       "      <td>24</td>\n",
       "      <td>60000.0</td>\n",
       "      <td>771.0</td>\n",
       "      <td>1</td>\n",
       "      <td>0.0</td>\n",
       "      <td>3</td>\n",
       "      <td>7</td>\n",
       "      <td>7</td>\n",
       "      <td>discount</td>\n",
       "      <td>1</td>\n",
       "      <td>1</td>\n",
       "      <td>1</td>\n",
       "      <td>1</td>\n",
       "      <td>1</td>\n",
       "      <td>0</td>\n",
       "      <td>0</td>\n",
       "    </tr>\n",
       "    <tr>\n",
       "      <th>4</th>\n",
       "      <td>003d66b6608740288d6cc97a6903f4f0</td>\n",
       "      <td>fafdcd668e3743c1bb461111dcafc2a4</td>\n",
       "      <td>1</td>\n",
       "      <td>26</td>\n",
       "      <td>73000.0</td>\n",
       "      <td>566.0</td>\n",
       "      <td>2</td>\n",
       "      <td>0.0</td>\n",
       "      <td>2</td>\n",
       "      <td>10</td>\n",
       "      <td>10</td>\n",
       "      <td>discount</td>\n",
       "      <td>1</td>\n",
       "      <td>1</td>\n",
       "      <td>1</td>\n",
       "      <td>1</td>\n",
       "      <td>1</td>\n",
       "      <td>0</td>\n",
       "      <td>0</td>\n",
       "    </tr>\n",
       "  </tbody>\n",
       "</table>\n",
       "</div>"
      ],
      "text/plain": [
       "                             person                          offer_id  \\\n",
       "0  0011e0d4e6b944f998e987f904e8c1e5  0b1e1539f2cc45b7b9fa7c272da2e1d7   \n",
       "1  0011e0d4e6b944f998e987f904e8c1e5  2298d6c36e964ae4a3e7e9706d1fb8c2   \n",
       "2  0020c2b971eb4e9188eac86d93036a77  fafdcd668e3743c1bb461111dcafc2a4   \n",
       "3  0020ccbbb6d84e358d3414a3ff76cffd  2298d6c36e964ae4a3e7e9706d1fb8c2   \n",
       "4  003d66b6608740288d6cc97a6903f4f0  fafdcd668e3743c1bb461111dcafc2a4   \n",
       "\n",
       "   offer_responded  age   income  membership_days  offer_received_cnt  \\\n",
       "0                1   40  57000.0             39.0                   1   \n",
       "1                1   40  57000.0             39.0                   1   \n",
       "2                1   59  90000.0            824.0                   2   \n",
       "3                1   24  60000.0            771.0                   1   \n",
       "4                1   26  73000.0            566.0                   2   \n",
       "\n",
       "   amount_invalid  reward  difficulty  duration offer_type  web  email  \\\n",
       "0             0.0       5          20        10   discount    1      1   \n",
       "1             0.0       3           7         7   discount    1      1   \n",
       "2             0.0       2          10        10   discount    1      1   \n",
       "3             0.0       3           7         7   discount    1      1   \n",
       "4             0.0       2          10        10   discount    1      1   \n",
       "\n",
       "   mobile  social  gender_F  gender_M  gender_O  \n",
       "0       0       0         0         0         1  \n",
       "1       1       1         0         0         1  \n",
       "2       1       1         1         0         0  \n",
       "3       1       1         1         0         0  \n",
       "4       1       1         1         0         0  "
      ]
     },
     "execution_count": 60,
     "metadata": {},
     "output_type": "execute_result"
    }
   ],
   "source": [
    "# quick view on discount_offer data\n",
    "discount_offer.head()"
   ]
  },
  {
   "cell_type": "code",
   "execution_count": 61,
   "metadata": {
    "pycharm": {
     "name": "#%%\n"
    }
   },
   "outputs": [
    {
     "data": {
      "text/html": [
       "<div>\n",
       "<style scoped>\n",
       "    .dataframe tbody tr th:only-of-type {\n",
       "        vertical-align: middle;\n",
       "    }\n",
       "\n",
       "    .dataframe tbody tr th {\n",
       "        vertical-align: top;\n",
       "    }\n",
       "\n",
       "    .dataframe thead th {\n",
       "        text-align: right;\n",
       "    }\n",
       "</style>\n",
       "<table border=\"1\" class=\"dataframe\">\n",
       "  <thead>\n",
       "    <tr style=\"text-align: right;\">\n",
       "      <th></th>\n",
       "      <th>person</th>\n",
       "      <th>offer_id</th>\n",
       "      <th>offer_responded</th>\n",
       "      <th>gender</th>\n",
       "      <th>age</th>\n",
       "      <th>income</th>\n",
       "      <th>membership_days</th>\n",
       "    </tr>\n",
       "  </thead>\n",
       "  <tbody>\n",
       "    <tr>\n",
       "      <th>0</th>\n",
       "      <td>0009655768c64bdeb2e877511632db8f</td>\n",
       "      <td>3f207df678b143eea3cee63160fa8bed</td>\n",
       "      <td>1</td>\n",
       "      <td>M</td>\n",
       "      <td>33</td>\n",
       "      <td>72000.0</td>\n",
       "      <td>506.0</td>\n",
       "    </tr>\n",
       "    <tr>\n",
       "      <th>1</th>\n",
       "      <td>0009655768c64bdeb2e877511632db8f</td>\n",
       "      <td>5a8bc65990b245e5a138643cd4eb9837</td>\n",
       "      <td>1</td>\n",
       "      <td>M</td>\n",
       "      <td>33</td>\n",
       "      <td>72000.0</td>\n",
       "      <td>506.0</td>\n",
       "    </tr>\n",
       "    <tr>\n",
       "      <th>2</th>\n",
       "      <td>0020c2b971eb4e9188eac86d93036a77</td>\n",
       "      <td>5a8bc65990b245e5a138643cd4eb9837</td>\n",
       "      <td>1</td>\n",
       "      <td>F</td>\n",
       "      <td>59</td>\n",
       "      <td>90000.0</td>\n",
       "      <td>824.0</td>\n",
       "    </tr>\n",
       "    <tr>\n",
       "      <th>3</th>\n",
       "      <td>0020ccbbb6d84e358d3414a3ff76cffd</td>\n",
       "      <td>5a8bc65990b245e5a138643cd4eb9837</td>\n",
       "      <td>1</td>\n",
       "      <td>F</td>\n",
       "      <td>24</td>\n",
       "      <td>60000.0</td>\n",
       "      <td>771.0</td>\n",
       "    </tr>\n",
       "    <tr>\n",
       "      <th>4</th>\n",
       "      <td>003d66b6608740288d6cc97a6903f4f0</td>\n",
       "      <td>3f207df678b143eea3cee63160fa8bed</td>\n",
       "      <td>1</td>\n",
       "      <td>F</td>\n",
       "      <td>26</td>\n",
       "      <td>73000.0</td>\n",
       "      <td>566.0</td>\n",
       "    </tr>\n",
       "  </tbody>\n",
       "</table>\n",
       "</div>"
      ],
      "text/plain": [
       "                             person                          offer_id  \\\n",
       "0  0009655768c64bdeb2e877511632db8f  3f207df678b143eea3cee63160fa8bed   \n",
       "1  0009655768c64bdeb2e877511632db8f  5a8bc65990b245e5a138643cd4eb9837   \n",
       "2  0020c2b971eb4e9188eac86d93036a77  5a8bc65990b245e5a138643cd4eb9837   \n",
       "3  0020ccbbb6d84e358d3414a3ff76cffd  5a8bc65990b245e5a138643cd4eb9837   \n",
       "4  003d66b6608740288d6cc97a6903f4f0  3f207df678b143eea3cee63160fa8bed   \n",
       "\n",
       "   offer_responded gender  age   income  membership_days  \n",
       "0                1      M   33  72000.0            506.0  \n",
       "1                1      M   33  72000.0            506.0  \n",
       "2                1      F   59  90000.0            824.0  \n",
       "3                1      F   24  60000.0            771.0  \n",
       "4                1      F   26  73000.0            566.0  "
      ]
     },
     "execution_count": 61,
     "metadata": {},
     "output_type": "execute_result"
    }
   ],
   "source": [
    "# quick view on informational_offer data\n",
    "informational_offer.head()"
   ]
  },
  {
   "cell_type": "code",
   "execution_count": 62,
   "metadata": {
    "pycharm": {
     "name": "#%%\n"
    }
   },
   "outputs": [],
   "source": [
    "# processing on informational data\n",
    "# merge with portfolio to get offer details\n",
    "informational_offer = informational_offer.merge(portfolio, \n",
    "                                                how='left', on='offer_id')\n",
    "\n",
    "# reset index for informational_offer\n",
    "informational_offer = informational_offer.reset_index().drop(['index'], \n",
    "                                                             axis=1, \n",
    "                                                             inplace=False)\n",
    "\n",
    "# split the channel column\n",
    "informational_offer['email'] = np.nan\n",
    "informational_offer.loc[pd.Series(\n",
    "        ['email' in informational_offer['channels'][x] \\\n",
    "         for x in range(len(informational_offer['channels']))]), \n",
    "                        'email'] = 1\n",
    "\n",
    "informational_offer['email'] = informational_offer['email'].fillna(value=0)\n",
    "\n",
    "informational_offer['mobile'] = np.nan\n",
    "informational_offer.loc[pd.Series(\n",
    "        ['mobile' in informational_offer['channels'][x] \\\n",
    "         for x in range(len(informational_offer['channels']))]),\n",
    "                        'mobile']=1\n",
    "\n",
    "informational_offer['mobile'] = informational_offer['mobile'].fillna(value=0)\n",
    "\n",
    "informational_offer['social'] = np.nan\n",
    "informational_offer.loc[pd.Series(\n",
    "        ['social' in informational_offer['channels'][x] \\\n",
    "         for x in range(len(informational_offer['channels']))]),\n",
    "                        'social']=1\n",
    "\n",
    "informational_offer['social']=informational_offer['social'].fillna(value=0)\n",
    "\n",
    "# drop the useless columns\n",
    "informational_offer.drop(['channels'], axis=1, inplace=True)"
   ]
  },
  {
   "cell_type": "code",
   "execution_count": 63,
   "metadata": {
    "pycharm": {
     "name": "#%%\n"
    }
   },
   "outputs": [],
   "source": [
    "# merge the informational offer dataframe\n",
    "informational_offer = informational_offer.merge(offer_cnt[\n",
    "                                                    ['person',\n",
    "                                                     'offer_id',\n",
    "                                                     'offer_received_cnt']],\n",
    "                                                how='left',\n",
    "                                                on=['person','offer_id'])\n",
    "\n",
    "informational_offer = informational_offer.merge(transactions_not_related[\n",
    "                                                    ['person',\n",
    "                                                     'offer_id',\n",
    "                                                     'amount_invalid']],\n",
    "                                                how='left',\n",
    "                                                on=['person','offer_id'])\n"
   ]
  },
  {
   "cell_type": "code",
   "execution_count": 64,
   "metadata": {
    "pycharm": {
     "name": "#%%\n"
    }
   },
   "outputs": [],
   "source": [
    "# fill missing values for amount_invalid and offer_received_cnt with 0\n",
    "informational_offer['amount_invalid'] = informational_offer['amount_invalid'] \\\n",
    "                                                           .fillna(value=0)\n",
    "\n",
    "#drop income and gender null rows\n",
    "informational_offer.dropna(inplace=True)\n",
    "\n",
    "#convert gender column into dummy variables\n",
    "informational_offer=dummy(informational_offer,'gender')"
   ]
  },
  {
   "cell_type": "code",
   "execution_count": 65,
   "metadata": {
    "pycharm": {
     "name": "#%%\n"
    }
   },
   "outputs": [
    {
     "data": {
      "text/html": [
       "<div>\n",
       "<style scoped>\n",
       "    .dataframe tbody tr th:only-of-type {\n",
       "        vertical-align: middle;\n",
       "    }\n",
       "\n",
       "    .dataframe tbody tr th {\n",
       "        vertical-align: top;\n",
       "    }\n",
       "\n",
       "    .dataframe thead th {\n",
       "        text-align: right;\n",
       "    }\n",
       "</style>\n",
       "<table border=\"1\" class=\"dataframe\">\n",
       "  <thead>\n",
       "    <tr style=\"text-align: right;\">\n",
       "      <th></th>\n",
       "      <th>person</th>\n",
       "      <th>offer_id</th>\n",
       "      <th>offer_responded</th>\n",
       "      <th>age</th>\n",
       "      <th>income</th>\n",
       "      <th>membership_days</th>\n",
       "      <th>reward</th>\n",
       "      <th>difficulty</th>\n",
       "      <th>duration</th>\n",
       "      <th>offer_type</th>\n",
       "      <th>email</th>\n",
       "      <th>mobile</th>\n",
       "      <th>social</th>\n",
       "      <th>offer_received_cnt</th>\n",
       "      <th>amount_invalid</th>\n",
       "      <th>gender_F</th>\n",
       "      <th>gender_M</th>\n",
       "      <th>gender_O</th>\n",
       "    </tr>\n",
       "  </thead>\n",
       "  <tbody>\n",
       "    <tr>\n",
       "      <th>0</th>\n",
       "      <td>0009655768c64bdeb2e877511632db8f</td>\n",
       "      <td>3f207df678b143eea3cee63160fa8bed</td>\n",
       "      <td>1</td>\n",
       "      <td>33</td>\n",
       "      <td>72000.0</td>\n",
       "      <td>506.0</td>\n",
       "      <td>0</td>\n",
       "      <td>0</td>\n",
       "      <td>4</td>\n",
       "      <td>informational</td>\n",
       "      <td>1.0</td>\n",
       "      <td>1.0</td>\n",
       "      <td>0.0</td>\n",
       "      <td>1.0</td>\n",
       "      <td>0.00</td>\n",
       "      <td>0</td>\n",
       "      <td>1</td>\n",
       "      <td>0</td>\n",
       "    </tr>\n",
       "    <tr>\n",
       "      <th>1</th>\n",
       "      <td>0009655768c64bdeb2e877511632db8f</td>\n",
       "      <td>5a8bc65990b245e5a138643cd4eb9837</td>\n",
       "      <td>1</td>\n",
       "      <td>33</td>\n",
       "      <td>72000.0</td>\n",
       "      <td>506.0</td>\n",
       "      <td>0</td>\n",
       "      <td>0</td>\n",
       "      <td>3</td>\n",
       "      <td>informational</td>\n",
       "      <td>1.0</td>\n",
       "      <td>1.0</td>\n",
       "      <td>1.0</td>\n",
       "      <td>1.0</td>\n",
       "      <td>0.00</td>\n",
       "      <td>0</td>\n",
       "      <td>1</td>\n",
       "      <td>0</td>\n",
       "    </tr>\n",
       "    <tr>\n",
       "      <th>2</th>\n",
       "      <td>0020c2b971eb4e9188eac86d93036a77</td>\n",
       "      <td>5a8bc65990b245e5a138643cd4eb9837</td>\n",
       "      <td>1</td>\n",
       "      <td>59</td>\n",
       "      <td>90000.0</td>\n",
       "      <td>824.0</td>\n",
       "      <td>0</td>\n",
       "      <td>0</td>\n",
       "      <td>3</td>\n",
       "      <td>informational</td>\n",
       "      <td>1.0</td>\n",
       "      <td>1.0</td>\n",
       "      <td>1.0</td>\n",
       "      <td>1.0</td>\n",
       "      <td>0.00</td>\n",
       "      <td>1</td>\n",
       "      <td>0</td>\n",
       "      <td>0</td>\n",
       "    </tr>\n",
       "    <tr>\n",
       "      <th>3</th>\n",
       "      <td>0020ccbbb6d84e358d3414a3ff76cffd</td>\n",
       "      <td>5a8bc65990b245e5a138643cd4eb9837</td>\n",
       "      <td>1</td>\n",
       "      <td>24</td>\n",
       "      <td>60000.0</td>\n",
       "      <td>771.0</td>\n",
       "      <td>0</td>\n",
       "      <td>0</td>\n",
       "      <td>3</td>\n",
       "      <td>informational</td>\n",
       "      <td>1.0</td>\n",
       "      <td>1.0</td>\n",
       "      <td>1.0</td>\n",
       "      <td>1.0</td>\n",
       "      <td>16.27</td>\n",
       "      <td>1</td>\n",
       "      <td>0</td>\n",
       "      <td>0</td>\n",
       "    </tr>\n",
       "    <tr>\n",
       "      <th>4</th>\n",
       "      <td>003d66b6608740288d6cc97a6903f4f0</td>\n",
       "      <td>3f207df678b143eea3cee63160fa8bed</td>\n",
       "      <td>1</td>\n",
       "      <td>26</td>\n",
       "      <td>73000.0</td>\n",
       "      <td>566.0</td>\n",
       "      <td>0</td>\n",
       "      <td>0</td>\n",
       "      <td>4</td>\n",
       "      <td>informational</td>\n",
       "      <td>1.0</td>\n",
       "      <td>1.0</td>\n",
       "      <td>0.0</td>\n",
       "      <td>1.0</td>\n",
       "      <td>0.00</td>\n",
       "      <td>1</td>\n",
       "      <td>0</td>\n",
       "      <td>0</td>\n",
       "    </tr>\n",
       "  </tbody>\n",
       "</table>\n",
       "</div>"
      ],
      "text/plain": [
       "                             person                          offer_id  \\\n",
       "0  0009655768c64bdeb2e877511632db8f  3f207df678b143eea3cee63160fa8bed   \n",
       "1  0009655768c64bdeb2e877511632db8f  5a8bc65990b245e5a138643cd4eb9837   \n",
       "2  0020c2b971eb4e9188eac86d93036a77  5a8bc65990b245e5a138643cd4eb9837   \n",
       "3  0020ccbbb6d84e358d3414a3ff76cffd  5a8bc65990b245e5a138643cd4eb9837   \n",
       "4  003d66b6608740288d6cc97a6903f4f0  3f207df678b143eea3cee63160fa8bed   \n",
       "\n",
       "   offer_responded  age   income  membership_days  reward  difficulty  \\\n",
       "0                1   33  72000.0            506.0       0           0   \n",
       "1                1   33  72000.0            506.0       0           0   \n",
       "2                1   59  90000.0            824.0       0           0   \n",
       "3                1   24  60000.0            771.0       0           0   \n",
       "4                1   26  73000.0            566.0       0           0   \n",
       "\n",
       "   duration     offer_type  email  mobile  social  offer_received_cnt  \\\n",
       "0         4  informational    1.0     1.0     0.0                 1.0   \n",
       "1         3  informational    1.0     1.0     1.0                 1.0   \n",
       "2         3  informational    1.0     1.0     1.0                 1.0   \n",
       "3         3  informational    1.0     1.0     1.0                 1.0   \n",
       "4         4  informational    1.0     1.0     0.0                 1.0   \n",
       "\n",
       "   amount_invalid  gender_F  gender_M  gender_O  \n",
       "0            0.00         0         1         0  \n",
       "1            0.00         0         1         0  \n",
       "2            0.00         1         0         0  \n",
       "3           16.27         1         0         0  \n",
       "4            0.00         1         0         0  "
      ]
     },
     "execution_count": 65,
     "metadata": {},
     "output_type": "execute_result"
    }
   ],
   "source": [
    "# quick view on informational_offer data\n",
    "informational_offer.head()"
   ]
  },
  {
   "cell_type": "markdown",
   "metadata": {},
   "source": [
    "## Building model\n",
    "After pre-processing the data, the next step we'll start to implement models to figure out which factors affect most whether the customer will respond to the offer or not. And this project also attempts to predict whether the customer will respond to the different types of offers or not.\n",
    "\n",
    "Therefore, we'll use the 'offer_responded' flag in the dataset to build models to predict if the customer will respond to the offer of not. Here we will choose the basic tree model as a baseline which will help explain the feature importance better so that we can get some insight into what factors affect customer's behavior most. Meanwhile, I'll also choose random forest as an alternate model to compare the baseline model is as an improvement over simple ensemble bagging of decision trees, in order to drive towards a high accuracy in training the model."
   ]
  },
  {
   "cell_type": "markdown",
   "metadata": {},
   "source": [
    "### Model implementation preparation\n",
    "- Prepare the dateset, set the features variable and target columns"
   ]
  },
  {
   "cell_type": "code",
   "execution_count": 66,
   "metadata": {
    "pycharm": {
     "name": "#%%\n"
    }
   },
   "outputs": [],
   "source": [
    "def data_prep(df,drop_cols_prep):\n",
    "    '''\n",
    "    inputs:\n",
    "    - df: prepared dataframe for modeling \n",
    "    \n",
    "    outputs:\n",
    "    - Returns 2 dataframes - features and target dataframes\n",
    "    '''\n",
    "    # Split the data into features and target label\n",
    "    target = df['offer_responded']\n",
    "    features = df.drop(drop_cols_prep, axis=1, inplace=False)\n",
    "    return features,target"
   ]
  },
  {
   "cell_type": "markdown",
   "metadata": {},
   "source": [
    "- Split the data into training and test sets"
   ]
  },
  {
   "cell_type": "code",
   "execution_count": 67,
   "metadata": {
    "pycharm": {
     "name": "#%%\n"
    }
   },
   "outputs": [],
   "source": [
    "def model_pipeline(features,target):\n",
    "    '''\n",
    "    inputs:\n",
    "    - features & target dataframe \n",
    "    \n",
    "    outputs:\n",
    "    - Splits features and target dataframe to train and test sets, performs feature scaling on both datasets.\n",
    "    - Outputs X_train, X_test, y_train and y_test dataframes\n",
    "    '''\n",
    "    \n",
    "    #split into training and test sets\n",
    "    X_train, X_test, y_train, y_test = train_test_split(features,target, \n",
    "                                                        test_size=0.20, \n",
    "                                                        random_state=42)\n",
    "\n",
    "    #fit and transform scaling on training data\n",
    "    scaler=StandardScaler()\n",
    "    X_train=scaler.fit_transform(X_train)\n",
    "\n",
    "    #scale test data\n",
    "    X_test=scaler.transform(X_test)\n",
    "    return X_train,X_test,y_train, y_test"
   ]
  },
  {
   "cell_type": "markdown",
   "metadata": {},
   "source": [
    "- Create function to execute the model for different offer types"
   ]
  },
  {
   "cell_type": "code",
   "execution_count": 68,
   "metadata": {
    "pycharm": {
     "name": "#%%\n"
    }
   },
   "outputs": [],
   "source": [
    "# reference: Udacity -- 'Finding Donors for Charity ML' project\n",
    "# reference: Udacity -- 'Creating Customer Segments with Arvato' project\n",
    "def train_predict(model, X_train, y_train, X_test, y_test): \n",
    "    '''\n",
    "    inputs:\n",
    "       - model: the model to be trained and predicted on\n",
    "       - sample_size: the size of samples (number) to be drawn from training set\n",
    "       - X_train: features training set\n",
    "       - y_train: review_scores_rating training set\n",
    "       - X_test: features testing set\n",
    "       - y_test: review_scores_rating testing set\n",
    "    '''\n",
    "    results = {}\n",
    "    \n",
    "    #Fit the model to the training data and get training time\n",
    "    start = time() \n",
    "    model = model.fit(X_train, y_train)\n",
    "    end = time() \n",
    "    results['train_time'] = end-start\n",
    "    \n",
    "    # Get predictions on the test set(X_test), then get predictions on first 300 training samples\n",
    "    start = time() \n",
    "    predictions_test = model.predict(X_test)\n",
    "    predictions_train = model.predict(X_train)\n",
    "    end = time() \n",
    "    \n",
    "    # Calculate the total prediction time\n",
    "    results['pred_time'] = end-start\n",
    "    \n",
    "    #add training accuracy to results\n",
    "    results['training_score']=model.score(X_train,y_train)\n",
    "    \n",
    "    #add testing accuracy to results\n",
    "    results['testing_score']=model.score(X_test,y_test)\n",
    "     \n",
    "    print(\"{} trained on {} samples.\".format(model.__class__.__name__, len(y_train)))\n",
    "    print(\"MSE_train: %.4f\" % mean_squared_error(y_train,predictions_train))\n",
    "    print(\"MSE_test: %.4f\" % mean_squared_error(y_test,predictions_test))\n",
    "    print(\"Training accuracy:%.4f\" % results['training_score'])\n",
    "    print(\"Test accuracy:%.4f\" % results['testing_score'])\n",
    "    print(classification_report(y_test, predictions_test,digits=4))\n",
    "    return results"
   ]
  },
  {
   "cell_type": "code",
   "execution_count": 69,
   "metadata": {
    "pycharm": {
     "name": "#%%\n"
    }
   },
   "outputs": [],
   "source": [
    "def run_model(clf1,clf2,name):\n",
    "    '''\n",
    "    inputs:\n",
    "    - clf1: first classifier model\n",
    "    - clf2: 2nd classifier model for comparison\n",
    "    - name: name of models for comparison\n",
    "    \n",
    "    outputs:\n",
    "    - Dataframe of results from model training and prediction\n",
    "    '''\n",
    "    \n",
    "    # Collect results from models\n",
    "    results = {}\n",
    "    for clf in [clf1, clf2]:\n",
    "        clf_name = clf.__class__.__name__ + '_' +name\n",
    "        results[clf_name] = {}\n",
    "        results[clf_name]= train_predict(clf, X_train, y_train, X_test, y_test)\n",
    "    return pd.DataFrame(results)"
   ]
  },
  {
   "cell_type": "markdown",
   "metadata": {},
   "source": [
    "### Performance Metrics\n",
    "Since the project is building classification model, I choose both accuracy and F1 score as the model evaluation metric. The reason why I choose both metrics is sometimes when the dataset is imbalanced, the accuracy only couldn't objectively show how the model is performing on the dataset, while F1 score provides a better sense of model performance compared to purely accuracy as takes both false positives and false negatives in the calculation. With an imbalanced class distribution, F1 may be more useful than accuracy.\n",
    "\n",
    "Also, since the F1 score is based on the harmonic mean of precision and recall, and focuses on positive cases. For the Starbucks app here, it would be fine as we would prioritise more on whether offers are effective, and less focus on why offers are ineffective."
   ]
  },
  {
   "cell_type": "markdown",
   "metadata": {},
   "source": [
    "### Initial the model baseline\n",
    "At this point, we will firstly use default parameters for the baseline model and will tune the parameters in the later tuning steps if needed."
   ]
  },
  {
   "cell_type": "markdown",
   "metadata": {},
   "source": [
    "- __BOGO model__"
   ]
  },
  {
   "cell_type": "code",
   "execution_count": 70,
   "metadata": {
    "pycharm": {
     "name": "#%%\n"
    }
   },
   "outputs": [
    {
     "name": "stdout",
     "output_type": "stream",
     "text": [
      "DecisionTreeClassifier trained on 9829 samples.\n",
      "MSE_train: 0.1770\n",
      "MSE_test: 0.1823\n",
      "Training accuracy:0.8230\n",
      "Test accuracy:0.8177\n",
      "              precision    recall  f1-score   support\n",
      "\n",
      "           0     0.4797    0.2694    0.3450       438\n",
      "           1     0.8553    0.9366    0.8941      2020\n",
      "\n",
      "    accuracy                         0.8177      2458\n",
      "   macro avg     0.6675    0.6030    0.6196      2458\n",
      "weighted avg     0.7884    0.8177    0.7963      2458\n",
      "\n",
      "RandomForestClassifier trained on 9829 samples.\n",
      "MSE_train: 0.1644\n",
      "MSE_test: 0.1737\n",
      "Training accuracy:0.8356\n",
      "Test accuracy:0.8263\n",
      "              precision    recall  f1-score   support\n",
      "\n",
      "           0     0.5846    0.0868    0.1511       438\n",
      "           1     0.8328    0.9866    0.9032      2020\n",
      "\n",
      "    accuracy                         0.8263      2458\n",
      "   macro avg     0.7087    0.5367    0.5272      2458\n",
      "weighted avg     0.7886    0.8263    0.7692      2458\n",
      "\n"
     ]
    }
   ],
   "source": [
    "# implement the model for BOGO offer\n",
    "drop_cols_prep=['person','offer_id','offer_responded','offer_type']\n",
    "features,target=data_prep(bogo_offer,drop_cols_prep)\n",
    "X_train, X_test, y_train, y_test=model_pipeline(features,target)\n",
    "\n",
    "# initialize the model - baseline is DT model, bogo_1 model is RF model\n",
    "baseline = DecisionTreeClassifier(criterion='entropy',\n",
    "                                  max_depth=5,\n",
    "                                  random_state=2,\n",
    "                                  min_samples_split=90,\n",
    "                                  min_samples_leaf=50)\n",
    "\n",
    "bogo_1 = RandomForestClassifier(random_state=2,\n",
    "                                max_depth=11, \n",
    "                                max_features='auto',\n",
    "                                min_samples_split=10,\n",
    "                                n_estimators=20,\n",
    "                                min_samples_leaf=20)\n",
    "\n",
    "results=run_model(baseline,bogo_1,'bogo_1')"
   ]
  },
  {
   "cell_type": "markdown",
   "metadata": {},
   "source": [
    "As shown above, the accuracy of both models is good (more than 80%) for initial model implementation. But the F1 score is a bit lower than accuracy which may be tuned better in the later steps. From the result we can see that Decision Tree's F1 performs a little better than Random Forest, which means that decision tree is doing slightly better compared to random forest at not misclassifying negative events as positive (meaning, misclassifying people on which offers are ineffective, as people on which offers would be effective).\n",
    "\n",
    "But the overall higher accuracy compared to F1 score indicates that the model is predicting the positive case (i.e. where an offer is responded) more accurately compared to predicting the negative cases (i.e. where an offer is not reponded), which is expected given the uneven classes.\n",
    "\n",
    "However, in this project context, there's not big hurt to send out some more offers to people who are not gonna respond in the end. Therefore, here can still select the random forest with slightly better accuracy right now. So, right now, will stay on random forest model."
   ]
  },
  {
   "cell_type": "markdown",
   "metadata": {},
   "source": [
    "- __Discount Offer model__"
   ]
  },
  {
   "cell_type": "code",
   "execution_count": 71,
   "metadata": {
    "pycharm": {
     "name": "#%%\n"
    }
   },
   "outputs": [
    {
     "name": "stdout",
     "output_type": "stream",
     "text": [
      "DecisionTreeClassifier trained on 10179 samples.\n",
      "MSE_train: 0.1371\n",
      "MSE_test: 0.1277\n",
      "Training accuracy:0.8629\n",
      "Test accuracy:0.8723\n",
      "              precision    recall  f1-score   support\n",
      "\n",
      "           0     0.0000    0.0000    0.0000       325\n",
      "           1     0.8723    1.0000    0.9318      2220\n",
      "\n",
      "    accuracy                         0.8723      2545\n",
      "   macro avg     0.4361    0.5000    0.4659      2545\n",
      "weighted avg     0.7609    0.8723    0.8128      2545\n",
      "\n"
     ]
    },
    {
     "name": "stderr",
     "output_type": "stream",
     "text": [
      "/Users/jyuan/anaconda3/envs/pa/lib/python3.7/site-packages/sklearn/metrics/_classification.py:1272: UndefinedMetricWarning: Precision and F-score are ill-defined and being set to 0.0 in labels with no predicted samples. Use `zero_division` parameter to control this behavior.\n",
      "  _warn_prf(average, modifier, msg_start, len(result))\n"
     ]
    },
    {
     "name": "stdout",
     "output_type": "stream",
     "text": [
      "RandomForestClassifier trained on 10179 samples.\n",
      "MSE_train: 0.1311\n",
      "MSE_test: 0.1257\n",
      "Training accuracy:0.8689\n",
      "Test accuracy:0.8743\n",
      "              precision    recall  f1-score   support\n",
      "\n",
      "           0     0.7273    0.0246    0.0476       325\n",
      "           1     0.8749    0.9986    0.9327      2220\n",
      "\n",
      "    accuracy                         0.8743      2545\n",
      "   macro avg     0.8011    0.5116    0.4902      2545\n",
      "weighted avg     0.8560    0.8743    0.8197      2545\n",
      "\n"
     ]
    }
   ],
   "source": [
    "# instantiate the model for discount offer\n",
    "drop_cols_prep=['person','offer_id','offer_responded','offer_type']\n",
    "features,target=data_prep(discount_offer,drop_cols_prep)\n",
    "X_train, X_test, y_train, y_test=model_pipeline(features,target)\n",
    "\n",
    "#Initialize the model\n",
    "discount_1 = RandomForestClassifier(random_state=2,\n",
    "                                    max_depth=20, \n",
    "                                    max_features= 'auto',\n",
    "                                    min_samples_split= 10,\n",
    "                                    n_estimators=20,\n",
    "                                    min_samples_leaf=10)\n",
    "\n",
    "results=pd.concat([results[:],run_model(baseline,discount_1,'discount_1')],\n",
    "                  axis=1)"
   ]
  },
  {
   "cell_type": "markdown",
   "metadata": {},
   "source": [
    "As shown above, the random forest performs quiet similar as random forest, but decision tree got a slightly lower F1 score. The F1 score for these models are lower overall compared to the Accuracy score. \n",
    "\n",
    "As mentioned in previous steps, it's more important in this business case for the model predicting positive cases accurately, so would rather go with a higher accuracy model where F1 score is higher, for which random forest classifier has better performance (0.814 vs 0.812)."
   ]
  },
  {
   "cell_type": "markdown",
   "metadata": {},
   "source": [
    "- __Informational offer model__"
   ]
  },
  {
   "cell_type": "code",
   "execution_count": 72,
   "metadata": {
    "pycharm": {
     "name": "#%%\n"
    }
   },
   "outputs": [
    {
     "name": "stdout",
     "output_type": "stream",
     "text": [
      "DecisionTreeClassifier trained on 5585 samples.\n",
      "MSE_train: 0.2462\n",
      "MSE_test: 0.2541\n",
      "Training accuracy:0.7538\n",
      "Test accuracy:0.7459\n",
      "              precision    recall  f1-score   support\n",
      "\n",
      "           0     0.5000    0.1127    0.1839       355\n",
      "           1     0.7608    0.9616    0.8495      1042\n",
      "\n",
      "    accuracy                         0.7459      1397\n",
      "   macro avg     0.6304    0.5371    0.5167      1397\n",
      "weighted avg     0.6945    0.7459    0.6804      1397\n",
      "\n",
      "RandomForestClassifier trained on 5585 samples.\n",
      "MSE_train: 0.2333\n",
      "MSE_test: 0.2491\n",
      "Training accuracy:0.7667\n",
      "Test accuracy:0.7509\n",
      "              precision    recall  f1-score   support\n",
      "\n",
      "           0     0.5556    0.0986    0.1675       355\n",
      "           1     0.7601    0.9731    0.8535      1042\n",
      "\n",
      "    accuracy                         0.7509      1397\n",
      "   macro avg     0.6578    0.5359    0.5105      1397\n",
      "weighted avg     0.7081    0.7509    0.6792      1397\n",
      "\n"
     ]
    }
   ],
   "source": [
    "# implement model for informational offer\n",
    "features,target=data_prep(informational_offer,drop_cols_prep)\n",
    "X_train, X_test, y_train, y_test=model_pipeline(features,target)\n",
    "\n",
    "#Initialize the model\n",
    "info_1 = RandomForestClassifier(random_state=5,\n",
    "                                criterion='gini',\n",
    "                                max_depth=20, \n",
    "                                max_features='auto',\n",
    "                                min_samples_split=10,\n",
    "                                n_estimators=20,\n",
    "                                min_samples_leaf=10)\n",
    "\n",
    "results=pd.concat([results[:],run_model(baseline,info_1,'info_1')],\n",
    "                  axis=1)"
   ]
  },
  {
   "cell_type": "markdown",
   "metadata": {},
   "source": [
    "### Model tuning\n",
    "This section will attempt to tune the parameters of initial model using GridSearch method to get higher performance."
   ]
  },
  {
   "cell_type": "code",
   "execution_count": 73,
   "metadata": {
    "pycharm": {
     "name": "#%%\n"
    }
   },
   "outputs": [],
   "source": [
    "# create the function to find best model results for each offer type\n",
    "def best_model(offer_type):\n",
    "    '''\n",
    "    input:\n",
    "    - offer_type: string of offer type name\n",
    "    output:\n",
    "    - dataframe containing results of best model so far\n",
    "    \n",
    "    '''\n",
    "    print(offer_type + ' RF model:')\n",
    "    return results.transpose()[results.transpose()['testing_score']==results.transpose()[results.transpose().index.str.contains(\"RandomForestClassifier_\"+offer_type)]['testing_score'].max()]"
   ]
  },
  {
   "cell_type": "markdown",
   "metadata": {},
   "source": [
    "In the tuning section, we will first use GridSearch to search for parameters that are likely to get better model performance."
   ]
  },
  {
   "cell_type": "code",
   "execution_count": 74,
   "metadata": {
    "pycharm": {
     "name": "#%%\n"
    }
   },
   "outputs": [],
   "source": [
    "#define Grid Search function\n",
    "def rand_forest_param_selection(X,y):\n",
    "    '''\n",
    "    input:\n",
    "    - X,y: training datasets for X and y\n",
    "    output:\n",
    "    - dictionary with best parameters for random forest model\n",
    "    '''\n",
    "    \n",
    "    param_grid={'max_features': ['auto', 'sqrt'],\n",
    "                'max_depth' : [10,15],\n",
    "                'n_estimators': [10,20,25,30],\n",
    "                'min_samples_split': [10, 20],\n",
    "                'min_samples_leaf': [10,15],\n",
    "                }\n",
    "    grid_search = GridSearchCV(RandomForestClassifier(random_state=2), \n",
    "                               param_grid)\n",
    "    grid_search.fit(X, y)\n",
    "    grid_search.best_params_\n",
    "    return grid_search.best_params_"
   ]
  },
  {
   "cell_type": "code",
   "execution_count": 75,
   "metadata": {
    "pycharm": {
     "name": "#%%\n"
    }
   },
   "outputs": [
    {
     "data": {
      "text/plain": [
       "{'max_depth': 10,\n",
       " 'max_features': 'auto',\n",
       " 'min_samples_leaf': 10,\n",
       " 'min_samples_split': 10,\n",
       " 'n_estimators': 20}"
      ]
     },
     "execution_count": 75,
     "metadata": {},
     "output_type": "execute_result"
    }
   ],
   "source": [
    "#define BOGO dataset\n",
    "features,target=data_prep(bogo_offer,drop_cols_prep)\n",
    "X_train, X_test, y_train, y_test=model_pipeline(features,target)\n",
    "\n",
    "#run Grid Search\n",
    "rand_forest_param_selection(X_train, y_train)"
   ]
  },
  {
   "cell_type": "code",
   "execution_count": 76,
   "metadata": {
    "pycharm": {
     "name": "#%%\n"
    }
   },
   "outputs": [
    {
     "name": "stdout",
     "output_type": "stream",
     "text": [
      "DecisionTreeClassifier trained on 9829 samples.\n",
      "MSE_train: 0.1770\n",
      "MSE_test: 0.1823\n",
      "Training accuracy:0.8230\n",
      "Test accuracy:0.8177\n",
      "              precision    recall  f1-score   support\n",
      "\n",
      "           0     0.4797    0.2694    0.3450       438\n",
      "           1     0.8553    0.9366    0.8941      2020\n",
      "\n",
      "    accuracy                         0.8177      2458\n",
      "   macro avg     0.6675    0.6030    0.6196      2458\n",
      "weighted avg     0.7884    0.8177    0.7963      2458\n",
      "\n",
      "RandomForestClassifier trained on 9829 samples.\n",
      "MSE_train: 0.1613\n",
      "MSE_test: 0.1745\n",
      "Training accuracy:0.8387\n",
      "Test accuracy:0.8255\n",
      "              precision    recall  f1-score   support\n",
      "\n",
      "           0     0.5616    0.0936    0.1605       438\n",
      "           1     0.8335    0.9842    0.9026      2020\n",
      "\n",
      "    accuracy                         0.8255      2458\n",
      "   macro avg     0.6976    0.5389    0.5315      2458\n",
      "weighted avg     0.7851    0.8255    0.7704      2458\n",
      "\n"
     ]
    }
   ],
   "source": [
    "# use optimized parameters to rerun the model in previous step\n",
    "# initialize the model\n",
    "bogo_2 = RandomForestClassifier(random_state=2,\n",
    "                                max_depth=10, \n",
    "                                max_features='auto',\n",
    "                                min_samples_split= 10,\n",
    "                                n_estimators=20,\n",
    "                                min_samples_leaf=10)\n",
    "\n",
    "results=pd.concat([results[:],run_model(baseline,bogo_2,'bogo_2')],\n",
    "                  axis=1)"
   ]
  },
  {
   "cell_type": "code",
   "execution_count": 77,
   "metadata": {
    "pycharm": {
     "name": "#%%\n"
    }
   },
   "outputs": [
    {
     "data": {
      "text/html": [
       "<div>\n",
       "<style scoped>\n",
       "    .dataframe tbody tr th:only-of-type {\n",
       "        vertical-align: middle;\n",
       "    }\n",
       "\n",
       "    .dataframe tbody tr th {\n",
       "        vertical-align: top;\n",
       "    }\n",
       "\n",
       "    .dataframe thead th {\n",
       "        text-align: right;\n",
       "    }\n",
       "</style>\n",
       "<table border=\"1\" class=\"dataframe\">\n",
       "  <thead>\n",
       "    <tr style=\"text-align: right;\">\n",
       "      <th></th>\n",
       "      <th>RandomForestClassifier_bogo_1</th>\n",
       "      <th>RandomForestClassifier_bogo_2</th>\n",
       "    </tr>\n",
       "  </thead>\n",
       "  <tbody>\n",
       "    <tr>\n",
       "      <th>train_time</th>\n",
       "      <td>0.097391</td>\n",
       "      <td>0.126737</td>\n",
       "    </tr>\n",
       "    <tr>\n",
       "      <th>pred_time</th>\n",
       "      <td>0.022340</td>\n",
       "      <td>0.032814</td>\n",
       "    </tr>\n",
       "    <tr>\n",
       "      <th>training_score</th>\n",
       "      <td>0.835589</td>\n",
       "      <td>0.838742</td>\n",
       "    </tr>\n",
       "    <tr>\n",
       "      <th>testing_score</th>\n",
       "      <td>0.826282</td>\n",
       "      <td>0.825468</td>\n",
       "    </tr>\n",
       "  </tbody>\n",
       "</table>\n",
       "</div>"
      ],
      "text/plain": [
       "                RandomForestClassifier_bogo_1  RandomForestClassifier_bogo_2\n",
       "train_time                           0.097391                       0.126737\n",
       "pred_time                            0.022340                       0.032814\n",
       "training_score                       0.835589                       0.838742\n",
       "testing_score                        0.826282                       0.825468"
      ]
     },
     "execution_count": 77,
     "metadata": {},
     "output_type": "execute_result"
    }
   ],
   "source": [
    "results[['RandomForestClassifier_bogo_1','RandomForestClassifier_bogo_2']]"
   ]
  },
  {
   "cell_type": "code",
   "execution_count": 78,
   "metadata": {
    "pycharm": {
     "name": "#%%\n"
    }
   },
   "outputs": [
    {
     "name": "stdout",
     "output_type": "stream",
     "text": [
      "bogo RF model:\n"
     ]
    },
    {
     "data": {
      "text/html": [
       "<div>\n",
       "<style scoped>\n",
       "    .dataframe tbody tr th:only-of-type {\n",
       "        vertical-align: middle;\n",
       "    }\n",
       "\n",
       "    .dataframe tbody tr th {\n",
       "        vertical-align: top;\n",
       "    }\n",
       "\n",
       "    .dataframe thead th {\n",
       "        text-align: right;\n",
       "    }\n",
       "</style>\n",
       "<table border=\"1\" class=\"dataframe\">\n",
       "  <thead>\n",
       "    <tr style=\"text-align: right;\">\n",
       "      <th></th>\n",
       "      <th>train_time</th>\n",
       "      <th>pred_time</th>\n",
       "      <th>training_score</th>\n",
       "      <th>testing_score</th>\n",
       "    </tr>\n",
       "  </thead>\n",
       "  <tbody>\n",
       "    <tr>\n",
       "      <th>RandomForestClassifier_bogo_1</th>\n",
       "      <td>0.097391</td>\n",
       "      <td>0.02234</td>\n",
       "      <td>0.835589</td>\n",
       "      <td>0.826282</td>\n",
       "    </tr>\n",
       "  </tbody>\n",
       "</table>\n",
       "</div>"
      ],
      "text/plain": [
       "                               train_time  pred_time  training_score  \\\n",
       "RandomForestClassifier_bogo_1    0.097391    0.02234        0.835589   \n",
       "\n",
       "                               testing_score  \n",
       "RandomForestClassifier_bogo_1       0.826282  "
      ]
     },
     "execution_count": 78,
     "metadata": {},
     "output_type": "execute_result"
    }
   ],
   "source": [
    "# best model for BOGO offer type\n",
    "best_model('bogo')"
   ]
  },
  {
   "cell_type": "markdown",
   "metadata": {},
   "source": [
    "As shown above in the comparison, after using tune parameters, the test accuracy slightly improved from 0.833 to 0.838 and the F1 score increase from 0.759 to 0.779."
   ]
  },
  {
   "cell_type": "code",
   "execution_count": 79,
   "metadata": {
    "pycharm": {
     "name": "#%%\n"
    }
   },
   "outputs": [
    {
     "data": {
      "text/plain": [
       "{'max_depth': 10,\n",
       " 'max_features': 'auto',\n",
       " 'min_samples_leaf': 10,\n",
       " 'min_samples_split': 10,\n",
       " 'n_estimators': 30}"
      ]
     },
     "execution_count": 79,
     "metadata": {},
     "output_type": "execute_result"
    }
   ],
   "source": [
    "# do the same tuning and refit steps on discount offer\n",
    "features,target=data_prep(discount_offer,drop_cols_prep)\n",
    "X_train, X_test, y_train, y_test=model_pipeline(features,target)\n",
    "\n",
    "# run Grid Search\n",
    "rand_forest_param_selection(X_train, y_train)"
   ]
  },
  {
   "cell_type": "code",
   "execution_count": 80,
   "metadata": {
    "pycharm": {
     "name": "#%%\n"
    }
   },
   "outputs": [
    {
     "name": "stdout",
     "output_type": "stream",
     "text": [
      "DecisionTreeClassifier trained on 10179 samples.\n",
      "MSE_train: 0.1371\n",
      "MSE_test: 0.1277\n",
      "Training accuracy:0.8629\n",
      "Test accuracy:0.8723\n",
      "              precision    recall  f1-score   support\n",
      "\n",
      "           0     0.0000    0.0000    0.0000       325\n",
      "           1     0.8723    1.0000    0.9318      2220\n",
      "\n",
      "    accuracy                         0.8723      2545\n",
      "   macro avg     0.4361    0.5000    0.4659      2545\n",
      "weighted avg     0.7609    0.8723    0.8128      2545\n",
      "\n"
     ]
    },
    {
     "name": "stderr",
     "output_type": "stream",
     "text": [
      "/Users/jyuan/anaconda3/envs/pa/lib/python3.7/site-packages/sklearn/metrics/_classification.py:1272: UndefinedMetricWarning: Precision and F-score are ill-defined and being set to 0.0 in labels with no predicted samples. Use `zero_division` parameter to control this behavior.\n",
      "  _warn_prf(average, modifier, msg_start, len(result))\n"
     ]
    },
    {
     "name": "stdout",
     "output_type": "stream",
     "text": [
      "RandomForestClassifier trained on 10179 samples.\n",
      "MSE_train: 0.1355\n",
      "MSE_test: 0.1269\n",
      "Training accuracy:0.8645\n",
      "Test accuracy:0.8731\n",
      "              precision    recall  f1-score   support\n",
      "\n",
      "           0     1.0000    0.0062    0.0122       325\n",
      "           1     0.8730    1.0000    0.9322      2220\n",
      "\n",
      "    accuracy                         0.8731      2545\n",
      "   macro avg     0.9365    0.5031    0.4722      2545\n",
      "weighted avg     0.8892    0.8731    0.8147      2545\n",
      "\n"
     ]
    }
   ],
   "source": [
    "# rerun the model with tuned parameters\n",
    "# initialize the model\n",
    "discount_2 = RandomForestClassifier(random_state=2,\n",
    "                                    max_depth= 10, \n",
    "                                    max_features='auto',\n",
    "                                    min_samples_split= 10,\n",
    "                                    n_estimators=30,\n",
    "                                    min_samples_leaf=15)\n",
    "\n",
    "results=pd.concat([results[:],run_model(baseline,discount_2,'discount_2')],\n",
    "                  axis=1)"
   ]
  },
  {
   "cell_type": "code",
   "execution_count": 81,
   "metadata": {
    "pycharm": {
     "name": "#%%\n"
    }
   },
   "outputs": [
    {
     "data": {
      "text/html": [
       "<div>\n",
       "<style scoped>\n",
       "    .dataframe tbody tr th:only-of-type {\n",
       "        vertical-align: middle;\n",
       "    }\n",
       "\n",
       "    .dataframe tbody tr th {\n",
       "        vertical-align: top;\n",
       "    }\n",
       "\n",
       "    .dataframe thead th {\n",
       "        text-align: right;\n",
       "    }\n",
       "</style>\n",
       "<table border=\"1\" class=\"dataframe\">\n",
       "  <thead>\n",
       "    <tr style=\"text-align: right;\">\n",
       "      <th></th>\n",
       "      <th>RandomForestClassifier_discount_1</th>\n",
       "      <th>RandomForestClassifier_discount_2</th>\n",
       "    </tr>\n",
       "  </thead>\n",
       "  <tbody>\n",
       "    <tr>\n",
       "      <th>train_time</th>\n",
       "      <td>0.138239</td>\n",
       "      <td>0.147044</td>\n",
       "    </tr>\n",
       "    <tr>\n",
       "      <th>pred_time</th>\n",
       "      <td>0.030517</td>\n",
       "      <td>0.033681</td>\n",
       "    </tr>\n",
       "    <tr>\n",
       "      <th>training_score</th>\n",
       "      <td>0.868946</td>\n",
       "      <td>0.864525</td>\n",
       "    </tr>\n",
       "    <tr>\n",
       "      <th>testing_score</th>\n",
       "      <td>0.874263</td>\n",
       "      <td>0.873084</td>\n",
       "    </tr>\n",
       "  </tbody>\n",
       "</table>\n",
       "</div>"
      ],
      "text/plain": [
       "                RandomForestClassifier_discount_1  \\\n",
       "train_time                               0.138239   \n",
       "pred_time                                0.030517   \n",
       "training_score                           0.868946   \n",
       "testing_score                            0.874263   \n",
       "\n",
       "                RandomForestClassifier_discount_2  \n",
       "train_time                               0.147044  \n",
       "pred_time                                0.033681  \n",
       "training_score                           0.864525  \n",
       "testing_score                            0.873084  "
      ]
     },
     "execution_count": 81,
     "metadata": {},
     "output_type": "execute_result"
    }
   ],
   "source": [
    "results[['RandomForestClassifier_discount_1',\n",
    "         'RandomForestClassifier_discount_2']]"
   ]
  },
  {
   "cell_type": "code",
   "execution_count": 82,
   "metadata": {
    "pycharm": {
     "name": "#%%\n"
    }
   },
   "outputs": [
    {
     "name": "stdout",
     "output_type": "stream",
     "text": [
      "discount RF model:\n"
     ]
    },
    {
     "data": {
      "text/html": [
       "<div>\n",
       "<style scoped>\n",
       "    .dataframe tbody tr th:only-of-type {\n",
       "        vertical-align: middle;\n",
       "    }\n",
       "\n",
       "    .dataframe tbody tr th {\n",
       "        vertical-align: top;\n",
       "    }\n",
       "\n",
       "    .dataframe thead th {\n",
       "        text-align: right;\n",
       "    }\n",
       "</style>\n",
       "<table border=\"1\" class=\"dataframe\">\n",
       "  <thead>\n",
       "    <tr style=\"text-align: right;\">\n",
       "      <th></th>\n",
       "      <th>train_time</th>\n",
       "      <th>pred_time</th>\n",
       "      <th>training_score</th>\n",
       "      <th>testing_score</th>\n",
       "    </tr>\n",
       "  </thead>\n",
       "  <tbody>\n",
       "    <tr>\n",
       "      <th>RandomForestClassifier_discount_1</th>\n",
       "      <td>0.138239</td>\n",
       "      <td>0.030517</td>\n",
       "      <td>0.868946</td>\n",
       "      <td>0.874263</td>\n",
       "    </tr>\n",
       "  </tbody>\n",
       "</table>\n",
       "</div>"
      ],
      "text/plain": [
       "                                   train_time  pred_time  training_score  \\\n",
       "RandomForestClassifier_discount_1    0.138239   0.030517        0.868946   \n",
       "\n",
       "                                   testing_score  \n",
       "RandomForestClassifier_discount_1       0.874263  "
      ]
     },
     "execution_count": 82,
     "metadata": {},
     "output_type": "execute_result"
    }
   ],
   "source": [
    "# best model for discount offer type\n",
    "best_model('discount')"
   ]
  },
  {
   "cell_type": "markdown",
   "metadata": {},
   "source": [
    "As shown above in the comparison, after using tune parameters, the test accuracy slightly improved from 0.872 to 0.873 and the F1 score increase from 0.814 to 0.816."
   ]
  },
  {
   "cell_type": "code",
   "execution_count": 83,
   "metadata": {
    "pycharm": {
     "name": "#%%\n"
    }
   },
   "outputs": [
    {
     "data": {
      "text/plain": [
       "{'max_depth': 10,\n",
       " 'max_features': 'auto',\n",
       " 'min_samples_leaf': 10,\n",
       " 'min_samples_split': 10,\n",
       " 'n_estimators': 30}"
      ]
     },
     "execution_count": 83,
     "metadata": {},
     "output_type": "execute_result"
    }
   ],
   "source": [
    "# model tuning for informational offer model\n",
    "features,target=data_prep(informational_offer,drop_cols_prep)\n",
    "X_train, X_test, y_train, y_test=model_pipeline(features,target)\n",
    "\n",
    "#run Grid Search\n",
    "rand_forest_param_selection(X_train, y_train)"
   ]
  },
  {
   "cell_type": "code",
   "execution_count": 84,
   "metadata": {
    "pycharm": {
     "name": "#%%\n"
    }
   },
   "outputs": [
    {
     "name": "stdout",
     "output_type": "stream",
     "text": [
      "DecisionTreeClassifier trained on 5585 samples.\n",
      "MSE_train: 0.2462\n",
      "MSE_test: 0.2541\n",
      "Training accuracy:0.7538\n",
      "Test accuracy:0.7459\n",
      "              precision    recall  f1-score   support\n",
      "\n",
      "           0     0.5000    0.1127    0.1839       355\n",
      "           1     0.7608    0.9616    0.8495      1042\n",
      "\n",
      "    accuracy                         0.7459      1397\n",
      "   macro avg     0.6304    0.5371    0.5167      1397\n",
      "weighted avg     0.6945    0.7459    0.6804      1397\n",
      "\n",
      "RandomForestClassifier trained on 5585 samples.\n",
      "MSE_train: 0.2396\n",
      "MSE_test: 0.2527\n",
      "Training accuracy:0.7604\n",
      "Test accuracy:0.7473\n",
      "              precision    recall  f1-score   support\n",
      "\n",
      "           0     0.5185    0.0789    0.1369       355\n",
      "           1     0.7565    0.9750    0.8520      1042\n",
      "\n",
      "    accuracy                         0.7473      1397\n",
      "   macro avg     0.6375    0.5270    0.4945      1397\n",
      "weighted avg     0.6960    0.7473    0.6703      1397\n",
      "\n"
     ]
    }
   ],
   "source": [
    "# rerun the model with selected paramenters\n",
    "info_2 = RandomForestClassifier(random_state=2,\n",
    "                                max_depth=10, \n",
    "                                max_features='auto',\n",
    "                                min_samples_split= 10,\n",
    "                                n_estimators=10,\n",
    "                                min_samples_leaf=10)\n",
    "results=pd.concat([results[:],run_model(baseline,info_2,'info_2')],\n",
    "                  axis=1)"
   ]
  },
  {
   "cell_type": "code",
   "execution_count": 85,
   "metadata": {
    "pycharm": {
     "name": "#%%\n"
    }
   },
   "outputs": [
    {
     "data": {
      "text/html": [
       "<div>\n",
       "<style scoped>\n",
       "    .dataframe tbody tr th:only-of-type {\n",
       "        vertical-align: middle;\n",
       "    }\n",
       "\n",
       "    .dataframe tbody tr th {\n",
       "        vertical-align: top;\n",
       "    }\n",
       "\n",
       "    .dataframe thead th {\n",
       "        text-align: right;\n",
       "    }\n",
       "</style>\n",
       "<table border=\"1\" class=\"dataframe\">\n",
       "  <thead>\n",
       "    <tr style=\"text-align: right;\">\n",
       "      <th></th>\n",
       "      <th>RandomForestClassifier_info_1</th>\n",
       "      <th>RandomForestClassifier_info_2</th>\n",
       "    </tr>\n",
       "  </thead>\n",
       "  <tbody>\n",
       "    <tr>\n",
       "      <th>train_time</th>\n",
       "      <td>0.083788</td>\n",
       "      <td>0.042601</td>\n",
       "    </tr>\n",
       "    <tr>\n",
       "      <th>pred_time</th>\n",
       "      <td>0.018949</td>\n",
       "      <td>0.008955</td>\n",
       "    </tr>\n",
       "    <tr>\n",
       "      <th>training_score</th>\n",
       "      <td>0.766697</td>\n",
       "      <td>0.760430</td>\n",
       "    </tr>\n",
       "    <tr>\n",
       "      <th>testing_score</th>\n",
       "      <td>0.750895</td>\n",
       "      <td>0.747316</td>\n",
       "    </tr>\n",
       "  </tbody>\n",
       "</table>\n",
       "</div>"
      ],
      "text/plain": [
       "                RandomForestClassifier_info_1  RandomForestClassifier_info_2\n",
       "train_time                           0.083788                       0.042601\n",
       "pred_time                            0.018949                       0.008955\n",
       "training_score                       0.766697                       0.760430\n",
       "testing_score                        0.750895                       0.747316"
      ]
     },
     "execution_count": 85,
     "metadata": {},
     "output_type": "execute_result"
    }
   ],
   "source": [
    "results[['RandomForestClassifier_info_1','RandomForestClassifier_info_2']]"
   ]
  },
  {
   "cell_type": "code",
   "execution_count": 86,
   "metadata": {
    "pycharm": {
     "name": "#%%\n"
    }
   },
   "outputs": [
    {
     "name": "stdout",
     "output_type": "stream",
     "text": [
      "info RF model:\n"
     ]
    },
    {
     "data": {
      "text/html": [
       "<div>\n",
       "<style scoped>\n",
       "    .dataframe tbody tr th:only-of-type {\n",
       "        vertical-align: middle;\n",
       "    }\n",
       "\n",
       "    .dataframe tbody tr th {\n",
       "        vertical-align: top;\n",
       "    }\n",
       "\n",
       "    .dataframe thead th {\n",
       "        text-align: right;\n",
       "    }\n",
       "</style>\n",
       "<table border=\"1\" class=\"dataframe\">\n",
       "  <thead>\n",
       "    <tr style=\"text-align: right;\">\n",
       "      <th></th>\n",
       "      <th>train_time</th>\n",
       "      <th>pred_time</th>\n",
       "      <th>training_score</th>\n",
       "      <th>testing_score</th>\n",
       "    </tr>\n",
       "  </thead>\n",
       "  <tbody>\n",
       "    <tr>\n",
       "      <th>RandomForestClassifier_info_1</th>\n",
       "      <td>0.083788</td>\n",
       "      <td>0.018949</td>\n",
       "      <td>0.766697</td>\n",
       "      <td>0.750895</td>\n",
       "    </tr>\n",
       "  </tbody>\n",
       "</table>\n",
       "</div>"
      ],
      "text/plain": [
       "                               train_time  pred_time  training_score  \\\n",
       "RandomForestClassifier_info_1    0.083788   0.018949        0.766697   \n",
       "\n",
       "                               testing_score  \n",
       "RandomForestClassifier_info_1       0.750895  "
      ]
     },
     "execution_count": 86,
     "metadata": {},
     "output_type": "execute_result"
    }
   ],
   "source": [
    "# best model for informational offer type\n",
    "best_model('info')"
   ]
  },
  {
   "cell_type": "markdown",
   "metadata": {},
   "source": [
    "As shown above in the comparison, after using tune parameters, the test accuray slightly improved from 0.748 to 0.753 and the F1 score increase from 0.681 to 0.678."
   ]
  },
  {
   "cell_type": "markdown",
   "metadata": {},
   "source": [
    "### View the feature importance\n",
    "Next, we'll look at the model's result and see if there's any insight of main factors which decide whether customers will respond to offers we could get by investigating feature importance."
   ]
  },
  {
   "cell_type": "code",
   "execution_count": 87,
   "metadata": {
    "pycharm": {
     "name": "#%%\n"
    }
   },
   "outputs": [
    {
     "name": "stdout",
     "output_type": "stream",
     "text": [
      "bogo RF model:\n",
      "discount RF model:\n",
      "info RF model:\n"
     ]
    },
    {
     "data": {
      "text/html": [
       "<div>\n",
       "<style scoped>\n",
       "    .dataframe tbody tr th:only-of-type {\n",
       "        vertical-align: middle;\n",
       "    }\n",
       "\n",
       "    .dataframe tbody tr th {\n",
       "        vertical-align: top;\n",
       "    }\n",
       "\n",
       "    .dataframe thead th {\n",
       "        text-align: right;\n",
       "    }\n",
       "</style>\n",
       "<table border=\"1\" class=\"dataframe\">\n",
       "  <thead>\n",
       "    <tr style=\"text-align: right;\">\n",
       "      <th></th>\n",
       "      <th>RandomForestClassifier_bogo_1</th>\n",
       "      <th>RandomForestClassifier_discount_1</th>\n",
       "      <th>RandomForestClassifier_info_1</th>\n",
       "    </tr>\n",
       "  </thead>\n",
       "  <tbody>\n",
       "    <tr>\n",
       "      <th>train_time</th>\n",
       "      <td>0.097391</td>\n",
       "      <td>0.138239</td>\n",
       "      <td>0.083788</td>\n",
       "    </tr>\n",
       "    <tr>\n",
       "      <th>pred_time</th>\n",
       "      <td>0.022340</td>\n",
       "      <td>0.030517</td>\n",
       "      <td>0.018949</td>\n",
       "    </tr>\n",
       "    <tr>\n",
       "      <th>training_score</th>\n",
       "      <td>0.835589</td>\n",
       "      <td>0.868946</td>\n",
       "      <td>0.766697</td>\n",
       "    </tr>\n",
       "    <tr>\n",
       "      <th>testing_score</th>\n",
       "      <td>0.826282</td>\n",
       "      <td>0.874263</td>\n",
       "      <td>0.750895</td>\n",
       "    </tr>\n",
       "  </tbody>\n",
       "</table>\n",
       "</div>"
      ],
      "text/plain": [
       "                RandomForestClassifier_bogo_1  \\\n",
       "train_time                           0.097391   \n",
       "pred_time                            0.022340   \n",
       "training_score                       0.835589   \n",
       "testing_score                        0.826282   \n",
       "\n",
       "                RandomForestClassifier_discount_1  \\\n",
       "train_time                               0.138239   \n",
       "pred_time                                0.030517   \n",
       "training_score                           0.868946   \n",
       "testing_score                            0.874263   \n",
       "\n",
       "                RandomForestClassifier_info_1  \n",
       "train_time                           0.083788  \n",
       "pred_time                            0.018949  \n",
       "training_score                       0.766697  \n",
       "testing_score                        0.750895  "
      ]
     },
     "execution_count": 87,
     "metadata": {},
     "output_type": "execute_result"
    }
   ],
   "source": [
    "# models summary\n",
    "best_model('bogo').append([best_model('discount'),\n",
    "                           best_model('info')]).transpose()"
   ]
  },
  {
   "cell_type": "code",
   "execution_count": 88,
   "metadata": {
    "pycharm": {
     "name": "#%%\n"
    }
   },
   "outputs": [
    {
     "data": {
      "image/png": "[encoded data removed]",
      "text/plain": [
       "<Figure size 432x288 with 1 Axes>"
      ]
     },
     "metadata": {
      "needs_background": "light"
     },
     "output_type": "display_data"
    }
   ],
   "source": [
    "# display the feature importance\n",
    "# BOGO model\n",
    "drop_cols_prep=['person','offer_id','offer_responded','offer_type']\n",
    "features,target=data_prep(bogo_offer,drop_cols_prep)\n",
    "\n",
    "feature_importances = pd.DataFrame(bogo_2.feature_importances_,\n",
    "                                   index=features.columns,\n",
    "                                   columns=['importance']) \\\n",
    "                          .sort_values('importance',ascending=False)\n",
    "\n",
    "feature_importances.plot.bar()\n",
    "plt.title('Best BOGO model feature importance')\n",
    "plt.show()"
   ]
  },
  {
   "cell_type": "code",
   "execution_count": 89,
   "metadata": {
    "pycharm": {
     "name": "#%%\n"
    }
   },
   "outputs": [
    {
     "data": {
      "image/png": "[encoded data removed]",
      "text/plain": [
       "<Figure size 432x288 with 1 Axes>"
      ]
     },
     "metadata": {
      "needs_background": "light"
     },
     "output_type": "display_data"
    }
   ],
   "source": [
    "#discount model\n",
    "feature_importances = pd.DataFrame(discount_2.feature_importances_,\n",
    "                                   index = features.columns,\n",
    "                                    columns=['importance']) \\\n",
    "                          .sort_values('importance',ascending=False)\n",
    "feature_importances.plot.bar()\n",
    "plt.title('Best discount model feature importance')\n",
    "plt.show()"
   ]
  },
  {
   "cell_type": "code",
   "execution_count": 90,
   "metadata": {
    "pycharm": {
     "name": "#%%\n"
    }
   },
   "outputs": [
    {
     "data": {
      "image/png": "[encoded data removed]",
      "text/plain": [
       "<Figure size 432x288 with 1 Axes>"
      ]
     },
     "metadata": {
      "needs_background": "light"
     },
     "output_type": "display_data"
    }
   ],
   "source": [
    "#informational model\n",
    "drop_cols_prep=['person','offer_id','offer_responded','offer_type']\n",
    "features,target=data_prep(informational_offer,drop_cols_prep)\n",
    "#print feature importance\n",
    "feature_importances = pd.DataFrame(info_2.feature_importances_,\n",
    "                                   index = features.columns,\n",
    "                                   columns=['importance']) \\\n",
    "                          .sort_values('importance',ascending=False)\n",
    "\n",
    "feature_importances.plot.bar()\n",
    "plt.title('Best info model feature importance')\n",
    "plt.show()"
   ]
  },
  {
   "cell_type": "markdown",
   "metadata": {},
   "source": [
    "As shown above, we can see that for all three types of offer, the most important factor that largely affects if the offer will be responded to eventually is the length of membership. That is, the longer the customer as a member of Starbucks, the more likely (s)he will respond to the offer they receive. Then the second and third important factors which affect the possibility of customer's response are age and income which very make sense. Also, the number of offers they received will also affect the response a lot."
   ]
  },
  {
   "cell_type": "markdown",
   "metadata": {},
   "source": [
    "## Conclusion & Next steps"
   ]
  },
  {
   "cell_type": "markdown",
   "metadata": {},
   "source": [
    "### Conclusion"
   ]
  },
  {
   "cell_type": "markdown",
   "metadata": {},
   "source": [
    "From the result of the project, it's likely to use machine learning model to predict whether the customer will respond to the offer or not, and the model also shows the main factors such as the length of membership, age, income which highly affect the possibility of customer's responding to the offer.\n",
    "\n",
    "This project is trying to figure out:\n",
    "- What factors mainly affect the usage of the offer from customer? Should the company send out the offer or not?\n",
    "\n",
    "For this question, the feature importance given by three models shows that the length of the membership is the most important factor which affect how customer will make reponse to the offer. \n",
    "\n",
    "For all three models, the top three variables were pretty same - length of membership, income and age. However, income and age switched orders depending on offer type. And for BOGO offer, the count of offer received is the second important factor which decide if the customer will make the transaction.\n",
    "\n",
    "- How possible will a customer open and use the offer sent to them? Is there any common characteristics on the customers who take the offer?\n",
    "\n",
    "In this project, it uses thress separate models to predict if the customer will repond to the offer or not using 'offer_responded' trage variable and finally get the accuracy of 0.83, 0.87, 0.75 for BOGO, discount and informational offer seperatly. Although, the model performance of informational offer is slightly lower but is still acceptable in this phase of research. And for BOGO and discount models, the cost won't be too much to send out the offer even some people doesn't repond to it and it should be fine with this level of model performance."
   ]
  },
  {
   "cell_type": "markdown",
   "metadata": {},
   "source": [
    "### Next step"
   ]
  },
  {
   "cell_type": "markdown",
   "metadata": {},
   "source": [
    "Due to time reasons, I couldn't get a chance to try some other enhancement in the step of model tuning. For example, probably, I can do some more experiment on feature engineering step to see if any other new features can improve the model, also I could also try to reduce some feature to see how it will affect the model performance.\n",
    "\n",
    "Also, so far the analysis is focused more on customer's who successfully finish the transaction after they received the offer, there should be more insight for the other cases where the customer finishes the transactions regardless of the offer. If we could get any insight into those cases, maybe we can send out more offers to those customers.\n",
    "\n",
    "In addition, I was thinking if I could do some unsupervised learning on clustering the customers based on information we are given, to see if there are any specific characteristics on a group of customers who will be more likely to respond to the offer."
   ]
  },
  {
   "cell_type": "code",
   "execution_count": 91,
   "metadata": {
    "pycharm": {
     "name": "#%%\n"
    }
   },
   "outputs": [
    {
     "name": "stdout",
     "output_type": "stream",
     "text": [
      "[NbConvertApp] Converting notebook Starbucks_Capstone_notebook.ipynb to html\n",
      "[NbConvertApp] Writing 631601 bytes to Starbucks_Capstone_notebook.html\n"
     ]
    }
   ],
   "source": [
    "!jupyter nbconvert  Starbucks_Capstone_notebook.ipynb --to html"
   ]
  }
 ],
 "metadata": {
  "kernelspec": {
   "display_name": "Python 3.7.6 64-bit",
   "language": "python",
   "name": "python37664bitc414af06e6eb4ba7a4fbeaf90fc58679"
  },
  "language_info": {
   "codemirror_mode": {
    "name": "ipython",
    "version": 3
   },
   "file_extension": ".py",
   "mimetype": "text/x-python",
   "name": "python",
   "nbconvert_exporter": "python",
   "pygments_lexer": "ipython3",
   "version": "3.7.6-final"
  }
 },
 "nbformat": 4,
 "nbformat_minor": 2
}