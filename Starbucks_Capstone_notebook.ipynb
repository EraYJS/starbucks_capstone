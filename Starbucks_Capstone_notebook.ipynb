{
 "cells": [
  {
   "cell_type": "markdown",
   "metadata": {},
   "source": [
    "# Starbucks Capstone Challenge\n",
    "\n",
    "### Introduction\n",
    "\n",
    "This data set contains simulated data that mimics customer behavior on the Starbucks rewards mobile app. Once every few days, Starbucks sends out an offer to users of the mobile app. An offer can be merely an advertisement for a drink or an actual offer such as a discount or BOGO (buy one get one free). Some users might not receive any offer during certain weeks. \n",
    "\n",
    "Not all users receive the same offer, and that is the challenge to solve with this data set.\n",
    "\n",
    "Your task is to combine transaction, demographic and offer data to determine which demographic groups respond best to which offer type. This data set is a simplified version of the real Starbucks app because the underlying simulator only has one product whereas Starbucks actually sells dozens of products.\n",
    "\n",
    "Every offer has a validity period before the offer expires. As an example, a BOGO offer might be valid for only 5 days. You'll see in the data set that informational offers have a validity period even though these ads are merely providing information about a product; for example, if an informational offer has 7 days of validity, you can assume the customer is feeling the influence of the offer for 7 days after receiving the advertisement.\n",
    "\n",
    "You'll be given transactional data showing user purchases made on the app including the timestamp of purchase and the amount of money spent on a purchase. This transactional data also has a record for each offer that a user receives as well as a record for when a user actually views the offer. There are also records for when a user completes an offer. \n",
    "\n",
    "Keep in mind as well that someone using the app might make a purchase through the app without having received an offer or seen an offer.\n",
    "\n",
    "### Example\n",
    "\n",
    "To give an example, a user could receive a discount offer buy 10 dollars get 2 off on Monday. The offer is valid for 10 days from receipt. If the customer accumulates at least 10 dollars in purchases during the validity period, the customer completes the offer.\n",
    "\n",
    "However, there are a few things to watch out for in this data set. Customers do not opt into the offers that they receive; in other words, a user can receive an offer, never actually view the offer, and still complete the offer. For example, a user might receive the \"buy 10 dollars get 2 dollars off offer\", but the user never opens the offer during the 10 day validity period. The customer spends 15 dollars during those ten days. There will be an offer completion record in the data set; however, the customer was not influenced by the offer because the customer never viewed the offer.\n",
    "\n",
    "### Cleaning\n",
    "\n",
    "This makes data cleaning especially important and tricky.\n",
    "\n",
    "You'll also want to take into account that some demographic groups will make purchases even if they don't receive an offer. From a business perspective, if a customer is going to make a 10 dollar purchase without an offer anyway, you wouldn't want to send a buy 10 dollars get 2 dollars off offer. You'll want to try to assess what a certain demographic group will buy when not receiving any offers.\n",
    "\n",
    "### Final Advice\n",
    "\n",
    "Because this is a capstone project, you are free to analyze the data any way you see fit. For example, you could build a machine learning model that predicts how much someone will spend based on demographics and offer type. Or you could build a model that predicts whether or not someone will respond to an offer. Or, you don't need to build a machine learning model at all. You could develop a set of heuristics that determine what offer you should send to each customer (i.e., 75 percent of women customers who were 35 years old responded to offer A vs 40 percent from the same demographic to offer B, so send offer A).\n",
    "\n",
    "---"
   ]
  },
  {
   "cell_type": "markdown",
   "metadata": {},
   "source": [
    "## Data Sets\n",
    "\n",
    "The data is contained in three files:\n",
    "\n",
    "* portfolio.json - containing offer ids and meta data about each offer (duration, type, etc.)\n",
    "* profile.json - demographic data for each customer\n",
    "* transcript.json - records for transactions, offers received, offers viewed, and offers completed\n",
    "\n",
    "Here is the schema and explanation of each variable in the files:\n",
    "\n",
    "**portfolio.json**\n",
    "* id (string) - offer id\n",
    "* offer_type (string) - type of offer ie BOGO, discount, informational\n",
    "* difficulty (int) - minimum required spend to complete an offer\n",
    "* reward (int) - reward given for completing an offer\n",
    "* duration (int) - time for offer to be open, in days\n",
    "* channels (list of strings)\n",
    "\n",
    "**profile.json**\n",
    "* age (int) - age of the customer \n",
    "* became_member_on (int) - date when customer created an app account\n",
    "* gender (str) - gender of the customer (note some entries contain 'O' for other rather than M or F)\n",
    "* id (str) - customer id\n",
    "* income (float) - customer's income\n",
    "\n",
    "**transcript.json**\n",
    "* event (str) - record description (ie transaction, offer received, offer viewed, etc.)\n",
    "* person (str) - customer id\n",
    "* time (int) - time in hours since start of test. The data begins at time t=0\n",
    "* value - (dict of strings) - either an offer id or transaction amount depending on the record\n",
    "\n",
    "**Note:** If you are using the workspace, you will need to go to the terminal and run the command `conda update pandas` before reading in the files. This is because the version of pandas in the workspace cannot read in the transcript.json file correctly, but the newest version of pandas can. You can access the termnal from the orange icon in the top left of this notebook.  \n",
    "\n",
    "You can see how to access the terminal and how the install works using the two images below.  First you need to access the terminal:\n",
    "\n",
    "<img src=\"pic1.png\"/>\n",
    "\n",
    "Then you will want to run the above command:\n",
    "\n",
    "<img src=\"pic2.png\"/>\n",
    "\n",
    "Finally, when you enter back into the notebook (use the jupyter icon again), you should be able to run the below cell without any errors."
   ]
  },
  {
   "cell_type": "code",
   "execution_count": 1,
   "metadata": {},
   "outputs": [],
   "source": [
    "import json\n",
    "import math\n",
    "import numpy as np\n",
    "import pandas as pd\n",
    "\n",
    "import matplotlib.pyplot as plt\n",
    "\n",
    "from sklearn.ensemble import RandomForestClassifier\n",
    "from sklearn.linear_model import Ridge\n",
    "from sklearn.metrics import classification_report, mean_squared_error\n",
    "from sklearn.model_selection import GridSearchCV, train_test_split\n",
    "from sklearn.preprocessing import PolynomialFeatures, StandardScaler\n",
    "from sklearn.tree import DecisionTreeRegressor\n",
    "\n",
    "from time import time\n",
    "\n",
    "%matplotlib inline"
   ]
  },
  {
   "cell_type": "code",
   "execution_count": 2,
   "outputs": [],
   "source": [
    "# read in the json files\n",
    "portfolio = pd.read_json('data/portfolio.json', orient='records', lines=True)\n",
    "profile = pd.read_json('data/profile.json', orient='records', lines=True)\n",
    "transcript = pd.read_json('data/transcript.json', orient='records', lines=True)"
   ],
   "metadata": {
    "collapsed": false,
    "pycharm": {
     "name": "#%%\n"
    }
   }
  },
  {
   "cell_type": "markdown",
   "source": [
    "## Data Exploration\n",
    "\n",
    "### 1. Portfolio\n",
    "\n",
    "#### Basic Infos:"
   ],
   "metadata": {
    "collapsed": false,
    "pycharm": {
     "name": "#%% md\n"
    }
   }
  },
  {
   "cell_type": "code",
   "execution_count": 3,
   "outputs": [
    {
     "data": {
      "text/plain": "   reward                      channels  difficulty  duration     offer_type  \\\n0      10       [email, mobile, social]          10         7           bogo   \n1      10  [web, email, mobile, social]          10         5           bogo   \n2       0          [web, email, mobile]           0         4  informational   \n3       5          [web, email, mobile]           5         7           bogo   \n4       5                  [web, email]          20        10       discount   \n\n                                 id  \n0  ae264e3637204a6fb9bb56bc8210ddfd  \n1  4d5c57ea9a6940dd891ad53e9dbe8da0  \n2  3f207df678b143eea3cee63160fa8bed  \n3  9b98b8c7a33c4b65b9aebfe6a799e6d9  \n4  0b1e1539f2cc45b7b9fa7c272da2e1d7  ",
      "text/html": "<div>\n<style scoped>\n    .dataframe tbody tr th:only-of-type {\n        vertical-align: middle;\n    }\n\n    .dataframe tbody tr th {\n        vertical-align: top;\n    }\n\n    .dataframe thead th {\n        text-align: right;\n    }\n</style>\n<table border=\"1\" class=\"dataframe\">\n  <thead>\n    <tr style=\"text-align: right;\">\n      <th></th>\n      <th>reward</th>\n      <th>channels</th>\n      <th>difficulty</th>\n      <th>duration</th>\n      <th>offer_type</th>\n      <th>id</th>\n    </tr>\n  </thead>\n  <tbody>\n    <tr>\n      <th>0</th>\n      <td>10</td>\n      <td>[email, mobile, social]</td>\n      <td>10</td>\n      <td>7</td>\n      <td>bogo</td>\n      <td>ae264e3637204a6fb9bb56bc8210ddfd</td>\n    </tr>\n    <tr>\n      <th>1</th>\n      <td>10</td>\n      <td>[web, email, mobile, social]</td>\n      <td>10</td>\n      <td>5</td>\n      <td>bogo</td>\n      <td>4d5c57ea9a6940dd891ad53e9dbe8da0</td>\n    </tr>\n    <tr>\n      <th>2</th>\n      <td>0</td>\n      <td>[web, email, mobile]</td>\n      <td>0</td>\n      <td>4</td>\n      <td>informational</td>\n      <td>3f207df678b143eea3cee63160fa8bed</td>\n    </tr>\n    <tr>\n      <th>3</th>\n      <td>5</td>\n      <td>[web, email, mobile]</td>\n      <td>5</td>\n      <td>7</td>\n      <td>bogo</td>\n      <td>9b98b8c7a33c4b65b9aebfe6a799e6d9</td>\n    </tr>\n    <tr>\n      <th>4</th>\n      <td>5</td>\n      <td>[web, email]</td>\n      <td>20</td>\n      <td>10</td>\n      <td>discount</td>\n      <td>0b1e1539f2cc45b7b9fa7c272da2e1d7</td>\n    </tr>\n  </tbody>\n</table>\n</div>"
     },
     "execution_count": 3,
     "metadata": {},
     "output_type": "execute_result"
    }
   ],
   "source": [
    "portfolio.head()"
   ],
   "metadata": {
    "collapsed": false,
    "pycharm": {
     "name": "#%% \n"
    }
   }
  },
  {
   "cell_type": "code",
   "execution_count": 4,
   "metadata": {},
   "outputs": [
    {
     "name": "stdout",
     "output_type": "stream",
     "text": [
      "The shape of portfolio data is (10, 6)\n",
      "Null values statistics is: \n",
      "reward        0\n",
      "channels      0\n",
      "difficulty    0\n",
      "duration      0\n",
      "offer_type    0\n",
      "id            0\n",
      "dtype: int64\n",
      "There are 10 unique ids.\n"
     ]
    }
   ],
   "source": [
    "print(f'The shape of portfolio data is {portfolio.shape}')\n",
    "print(f'Null values statistics is: \\n{portfolio.isnull().sum()}')\n",
    "print(f'There are {portfolio.id.nunique()} unique ids.')\n"
   ]
  },
  {
   "cell_type": "code",
   "execution_count": 5,
   "outputs": [
    {
     "name": "stdout",
     "output_type": "stream",
     "text": [
      "There are the following offer types: \n",
      " offer_type\n",
      "bogo             4\n",
      "discount         4\n",
      "informational    2\n",
      "Name: id, dtype: int64\n"
     ]
    }
   ],
   "source": [
    "print(f\"There are the following offer types: \\n \"\n",
    "      f\"{portfolio.groupby('offer_type').id.count()}\")"
   ],
   "metadata": {
    "collapsed": false,
    "pycharm": {
     "name": "#%%\n"
    }
   }
  },
  {
   "cell_type": "markdown",
   "source": [
    "### 2. Profiles\n",
    "\n",
    "#### Basic Infos:"
   ],
   "metadata": {
    "collapsed": false,
    "pycharm": {
     "name": "#%% md\n"
    }
   }
  },
  {
   "cell_type": "code",
   "execution_count": 6,
   "outputs": [
    {
     "data": {
      "text/plain": "  gender  age                                id  became_member_on    income\n0   None  118  68be06ca386d4c31939f3a4f0e3dd783          20170212       NaN\n1      F   55  0610b486422d4921ae7d2bf64640c50b          20170715  112000.0\n2   None  118  38fe809add3b4fcf9315a9694bb96ff5          20180712       NaN\n3      F   75  78afa995795e4d85b5d9ceeca43f5fef          20170509  100000.0\n4   None  118  a03223e636434f42ac4c3df47e8bac43          20170804       NaN",
      "text/html": "<div>\n<style scoped>\n    .dataframe tbody tr th:only-of-type {\n        vertical-align: middle;\n    }\n\n    .dataframe tbody tr th {\n        vertical-align: top;\n    }\n\n    .dataframe thead th {\n        text-align: right;\n    }\n</style>\n<table border=\"1\" class=\"dataframe\">\n  <thead>\n    <tr style=\"text-align: right;\">\n      <th></th>\n      <th>gender</th>\n      <th>age</th>\n      <th>id</th>\n      <th>became_member_on</th>\n      <th>income</th>\n    </tr>\n  </thead>\n  <tbody>\n    <tr>\n      <th>0</th>\n      <td>None</td>\n      <td>118</td>\n      <td>68be06ca386d4c31939f3a4f0e3dd783</td>\n      <td>20170212</td>\n      <td>NaN</td>\n    </tr>\n    <tr>\n      <th>1</th>\n      <td>F</td>\n      <td>55</td>\n      <td>0610b486422d4921ae7d2bf64640c50b</td>\n      <td>20170715</td>\n      <td>112000.0</td>\n    </tr>\n    <tr>\n      <th>2</th>\n      <td>None</td>\n      <td>118</td>\n      <td>38fe809add3b4fcf9315a9694bb96ff5</td>\n      <td>20180712</td>\n      <td>NaN</td>\n    </tr>\n    <tr>\n      <th>3</th>\n      <td>F</td>\n      <td>75</td>\n      <td>78afa995795e4d85b5d9ceeca43f5fef</td>\n      <td>20170509</td>\n      <td>100000.0</td>\n    </tr>\n    <tr>\n      <th>4</th>\n      <td>None</td>\n      <td>118</td>\n      <td>a03223e636434f42ac4c3df47e8bac43</td>\n      <td>20170804</td>\n      <td>NaN</td>\n    </tr>\n  </tbody>\n</table>\n</div>"
     },
     "execution_count": 6,
     "metadata": {},
     "output_type": "execute_result"
    }
   ],
   "source": [
    "profile.head()"
   ],
   "metadata": {
    "collapsed": false,
    "pycharm": {
     "name": "#%%\n"
    }
   }
  },
  {
   "cell_type": "markdown",
   "source": [
    "**NOTE:** from the `head` we can already see that there are missing values in `income` and `gender`, and `118` seems to represent missing ages."
   ],
   "metadata": {
    "collapsed": false,
    "pycharm": {
     "name": "#%% md\n"
    }
   }
  },
  {
   "cell_type": "code",
   "execution_count": 7,
   "outputs": [
    {
     "name": "stdout",
     "output_type": "stream",
     "text": [
      "The shape of Profile data is (17000, 5)\n",
      "Null values statistics is: \n",
      "gender              2175\n",
      "age                    0\n",
      "id                     0\n",
      "became_member_on       0\n",
      "income              2175\n",
      "dtype: int64\n",
      "There are 17000 unique ids.\n"
     ]
    }
   ],
   "source": [
    "print(f'The shape of Profile data is {profile.shape}')\n",
    "print(f'Null values statistics is: \\n{profile.isnull().sum()}')\n",
    "print(f'There are {profile.id.nunique()} unique ids.')"
   ],
   "metadata": {
    "collapsed": false,
    "pycharm": {
     "name": "#%%\n"
    }
   }
  },
  {
   "cell_type": "code",
   "execution_count": 8,
   "outputs": [],
   "source": [
    "profile_no_age = profile[profile.age==118]"
   ],
   "metadata": {
    "collapsed": false,
    "pycharm": {
     "name": "#%%\n"
    }
   }
  },
  {
   "cell_type": "code",
   "execution_count": 9,
   "outputs": [
    {
     "name": "stdout",
     "output_type": "stream",
     "text": [
      "gender                 0\n",
      "age                 2175\n",
      "id                  2175\n",
      "became_member_on    2175\n",
      "income                 0\n",
      "dtype: int64\n"
     ]
    },
    {
     "data": {
      "text/plain": "  gender  age                                id  became_member_on  income\n0   None  118  68be06ca386d4c31939f3a4f0e3dd783          20170212     NaN\n2   None  118  38fe809add3b4fcf9315a9694bb96ff5          20180712     NaN\n4   None  118  a03223e636434f42ac4c3df47e8bac43          20170804     NaN\n6   None  118  8ec6ce2a7e7949b1bf142def7d0e0586          20170925     NaN\n7   None  118  68617ca6246f4fbc85e91a2a49552598          20171002     NaN",
      "text/html": "<div>\n<style scoped>\n    .dataframe tbody tr th:only-of-type {\n        vertical-align: middle;\n    }\n\n    .dataframe tbody tr th {\n        vertical-align: top;\n    }\n\n    .dataframe thead th {\n        text-align: right;\n    }\n</style>\n<table border=\"1\" class=\"dataframe\">\n  <thead>\n    <tr style=\"text-align: right;\">\n      <th></th>\n      <th>gender</th>\n      <th>age</th>\n      <th>id</th>\n      <th>became_member_on</th>\n      <th>income</th>\n    </tr>\n  </thead>\n  <tbody>\n    <tr>\n      <th>0</th>\n      <td>None</td>\n      <td>118</td>\n      <td>68be06ca386d4c31939f3a4f0e3dd783</td>\n      <td>20170212</td>\n      <td>NaN</td>\n    </tr>\n    <tr>\n      <th>2</th>\n      <td>None</td>\n      <td>118</td>\n      <td>38fe809add3b4fcf9315a9694bb96ff5</td>\n      <td>20180712</td>\n      <td>NaN</td>\n    </tr>\n    <tr>\n      <th>4</th>\n      <td>None</td>\n      <td>118</td>\n      <td>a03223e636434f42ac4c3df47e8bac43</td>\n      <td>20170804</td>\n      <td>NaN</td>\n    </tr>\n    <tr>\n      <th>6</th>\n      <td>None</td>\n      <td>118</td>\n      <td>8ec6ce2a7e7949b1bf142def7d0e0586</td>\n      <td>20170925</td>\n      <td>NaN</td>\n    </tr>\n    <tr>\n      <th>7</th>\n      <td>None</td>\n      <td>118</td>\n      <td>68617ca6246f4fbc85e91a2a49552598</td>\n      <td>20171002</td>\n      <td>NaN</td>\n    </tr>\n  </tbody>\n</table>\n</div>"
     },
     "execution_count": 9,
     "metadata": {},
     "output_type": "execute_result"
    }
   ],
   "source": [
    "print(f'{profile_no_age.count()}')\n",
    "profile_no_age.head()"
   ],
   "metadata": {
    "collapsed": false,
    "pycharm": {
     "name": "#%%\n"
    }
   }
  },
  {
   "cell_type": "markdown",
   "source": [
    "From above we can see that rows without `age` also miss `income` and `gender`, hence, these rows will be dropped in later operations. "
   ],
   "metadata": {
    "collapsed": false,
    "pycharm": {
     "name": "#%% md\n"
    }
   }
  },
  {
   "cell_type": "markdown",
   "source": [
    "#### Distributions:"
   ],
   "metadata": {
    "collapsed": false,
    "pycharm": {
     "name": "#%% md\n"
    }
   }
  },
  {
   "cell_type": "code",
   "execution_count": 10,
   "outputs": [
    {
     "name": "stdout",
     "output_type": "stream",
     "text": [
      "The gender distribution is gender\n",
      "F    6129\n",
      "M    8484\n",
      "O     212\n",
      "Name: id, dtype: int64\n"
     ]
    }
   ],
   "source": [
    "print(f\"The gender distribution is {profile.groupby('gender').id.count()}\")"
   ],
   "metadata": {
    "collapsed": false,
    "pycharm": {
     "name": "#%%\n"
    }
   }
  },
  {
   "cell_type": "code",
   "execution_count": 11,
   "outputs": [
    {
     "name": "stdout",
     "output_type": "stream",
     "text": [
      "The Age Histogram\n"
     ]
    },
    {
     "data": {
      "text/plain": "<matplotlib.axes._subplots.AxesSubplot at 0x7fa99dfd5a50>"
     },
     "execution_count": 11,
     "metadata": {},
     "output_type": "execute_result"
    },
    {
     "data": {
      "text/plain": "<Figure size 432x288 with 1 Axes>",
      "image/png": "[encoded data removed]"
     },
     "metadata": {
      "needs_background": "light"
     },
     "output_type": "display_data"
    }
   ],
   "source": [
    "print('The Age Histogram')\n",
    "profile.age.hist()"
   ],
   "metadata": {
    "collapsed": false,
    "pycharm": {
     "name": "#%%\n"
    }
   }
  },
  {
   "cell_type": "code",
   "execution_count": 12,
   "outputs": [
    {
     "name": "stdout",
     "output_type": "stream",
     "text": [
      "The Income Histogram\n"
     ]
    },
    {
     "data": {
      "text/plain": "<matplotlib.axes._subplots.AxesSubplot at 0x7fa99e084890>"
     },
     "execution_count": 12,
     "metadata": {},
     "output_type": "execute_result"
    },
    {
     "data": {
      "text/plain": "<Figure size 432x288 with 1 Axes>",
      "image/png": "[encoded data removed]"
     },
     "metadata": {
      "needs_background": "light"
     },
     "output_type": "display_data"
    }
   ],
   "source": [
    "print('The Income Histogram')\n",
    "profile.income.hist()"
   ],
   "metadata": {
    "collapsed": false,
    "pycharm": {
     "name": "#%%\n"
    }
   }
  },
  {
   "cell_type": "markdown",
   "source": [
    "### 3. Transcript\n",
    "\n",
    "#### Basic Infos:"
   ],
   "metadata": {
    "collapsed": false,
    "pycharm": {
     "name": "#%% md\n"
    }
   }
  },
  {
   "cell_type": "code",
   "execution_count": 13,
   "outputs": [
    {
     "data": {
      "text/plain": "                             person           event  \\\n0  78afa995795e4d85b5d9ceeca43f5fef  offer received   \n1  a03223e636434f42ac4c3df47e8bac43  offer received   \n2  e2127556f4f64592b11af22de27a7932  offer received   \n3  8ec6ce2a7e7949b1bf142def7d0e0586  offer received   \n4  68617ca6246f4fbc85e91a2a49552598  offer received   \n\n                                              value  time  \n0  {'offer id': '9b98b8c7a33c4b65b9aebfe6a799e6d9'}     0  \n1  {'offer id': '0b1e1539f2cc45b7b9fa7c272da2e1d7'}     0  \n2  {'offer id': '2906b810c7d4411798c6938adc9daaa5'}     0  \n3  {'offer id': 'fafdcd668e3743c1bb461111dcafc2a4'}     0  \n4  {'offer id': '4d5c57ea9a6940dd891ad53e9dbe8da0'}     0  ",
      "text/html": "<div>\n<style scoped>\n    .dataframe tbody tr th:only-of-type {\n        vertical-align: middle;\n    }\n\n    .dataframe tbody tr th {\n        vertical-align: top;\n    }\n\n    .dataframe thead th {\n        text-align: right;\n    }\n</style>\n<table border=\"1\" class=\"dataframe\">\n  <thead>\n    <tr style=\"text-align: right;\">\n      <th></th>\n      <th>person</th>\n      <th>event</th>\n      <th>value</th>\n      <th>time</th>\n    </tr>\n  </thead>\n  <tbody>\n    <tr>\n      <th>0</th>\n      <td>78afa995795e4d85b5d9ceeca43f5fef</td>\n      <td>offer received</td>\n      <td>{'offer id': '9b98b8c7a33c4b65b9aebfe6a799e6d9'}</td>\n      <td>0</td>\n    </tr>\n    <tr>\n      <th>1</th>\n      <td>a03223e636434f42ac4c3df47e8bac43</td>\n      <td>offer received</td>\n      <td>{'offer id': '0b1e1539f2cc45b7b9fa7c272da2e1d7'}</td>\n      <td>0</td>\n    </tr>\n    <tr>\n      <th>2</th>\n      <td>e2127556f4f64592b11af22de27a7932</td>\n      <td>offer received</td>\n      <td>{'offer id': '2906b810c7d4411798c6938adc9daaa5'}</td>\n      <td>0</td>\n    </tr>\n    <tr>\n      <th>3</th>\n      <td>8ec6ce2a7e7949b1bf142def7d0e0586</td>\n      <td>offer received</td>\n      <td>{'offer id': 'fafdcd668e3743c1bb461111dcafc2a4'}</td>\n      <td>0</td>\n    </tr>\n    <tr>\n      <th>4</th>\n      <td>68617ca6246f4fbc85e91a2a49552598</td>\n      <td>offer received</td>\n      <td>{'offer id': '4d5c57ea9a6940dd891ad53e9dbe8da0'}</td>\n      <td>0</td>\n    </tr>\n  </tbody>\n</table>\n</div>"
     },
     "execution_count": 13,
     "metadata": {},
     "output_type": "execute_result"
    }
   ],
   "source": [
    "transcript.head()"
   ],
   "metadata": {
    "collapsed": false,
    "pycharm": {
     "name": "#%%\n"
    }
   }
  },
  {
   "cell_type": "code",
   "execution_count": 14,
   "outputs": [
    {
     "name": "stdout",
     "output_type": "stream",
     "text": [
      "The shape of Transcript data is (306534, 4)\n",
      "Null values statistics is: \n",
      "person    0\n",
      "event     0\n",
      "value     0\n",
      "time      0\n",
      "dtype: int64\n",
      "There are 17000 unique ids.\n"
     ]
    }
   ],
   "source": [
    "print(f'The shape of Transcript data is {transcript.shape}')\n",
    "print(f'Null values statistics is: \\n{transcript.isnull().sum()}')\n",
    "print(f'There are {transcript.person.nunique()} unique ids.')"
   ],
   "metadata": {
    "collapsed": false,
    "pycharm": {
     "name": "#%%\n"
    }
   }
  },
  {
   "cell_type": "markdown",
   "source": [
    "#### Distributions"
   ],
   "metadata": {
    "collapsed": false,
    "pycharm": {
     "name": "#%% md\n"
    }
   }
  },
  {
   "cell_type": "code",
   "execution_count": 15,
   "outputs": [
    {
     "name": "stdout",
     "output_type": "stream",
     "text": [
      "Event Distribution:\n",
      "event\n",
      "offer completed     33579\n",
      "offer received      76277\n",
      "offer viewed        57725\n",
      "transaction        138953\n",
      "Name: person, dtype: int64\n"
     ]
    }
   ],
   "source": [
    "print(f\"Event Distribution:\\n{transcript.groupby('event').person.count()}\")"
   ],
   "metadata": {
    "collapsed": false,
    "pycharm": {
     "name": "#%%\n"
    }
   }
  },
  {
   "cell_type": "markdown",
   "source": [
    "We need to extract information from the `value` column for further exploration."
   ],
   "metadata": {
    "collapsed": false,
    "pycharm": {
     "name": "#%% md\n",
     "is_executing": false
    }
   }
  },
  {
   "cell_type": "code",
   "execution_count": 16,
   "outputs": [],
   "source": [
    "transcript = pd.concat([transcript, transcript['value'].apply(pd.Series)], \n",
    "                       axis=1)\n",
    "\n",
    "transcript['clean_id'] = np.where(transcript['offer id'].isnull() & \n",
    "                                  transcript['offer_id'].notnull(), \n",
    "                                  transcript['offer_id'],transcript['offer id'])\n",
    "\n",
    "# drop the original id columns\n",
    "transcript.drop(['offer id', 'offer_id'], axis=1, inplace=True)\n",
    "\n",
    "# rename the offer_id column\n",
    "transcript.rename(columns={'clean_id': 'offer_id'}, inplace=True)"
   ],
   "metadata": {
    "collapsed": false,
    "pycharm": {
     "name": "#%%\n"
    }
   }
  },
  {
   "cell_type": "code",
   "execution_count": 17,
   "outputs": [
    {
     "name": "stdout",
     "output_type": "stream",
     "text": [
      "There are 10 unique offers\n"
     ]
    }
   ],
   "source": [
    "print(f'There are {transcript.offer_id.nunique()} unique offers')"
   ],
   "metadata": {
    "collapsed": false,
    "pycharm": {
     "name": "#%%\n"
    }
   }
  },
  {
   "cell_type": "markdown",
   "source": [
    "---\n",
    "\n",
    "## Preprocessing\n",
    "\n",
    "### 1. Merge `portfolio` and `transcript`"
   ],
   "metadata": {
    "collapsed": false,
    "pycharm": {
     "name": "#%% md\n"
    }
   }
  },
  {
   "cell_type": "code",
   "execution_count": 18,
   "outputs": [
    {
     "data": {
      "text/plain": "                                  person            event  \\\n55972   0009655768c64bdeb2e877511632db8f   offer received   \n77705   0009655768c64bdeb2e877511632db8f     offer viewed   \n89291   0009655768c64bdeb2e877511632db8f      transaction   \n113605  0009655768c64bdeb2e877511632db8f   offer received   \n139992  0009655768c64bdeb2e877511632db8f     offer viewed   \n153401  0009655768c64bdeb2e877511632db8f   offer received   \n168412  0009655768c64bdeb2e877511632db8f      transaction   \n168413  0009655768c64bdeb2e877511632db8f  offer completed   \n187554  0009655768c64bdeb2e877511632db8f     offer viewed   \n204340  0009655768c64bdeb2e877511632db8f   offer received   \n\n                                                    value  time  amount  \\\n55972    {'offer id': '5a8bc65990b245e5a138643cd4eb9837'}   168     NaN   \n77705    {'offer id': '5a8bc65990b245e5a138643cd4eb9837'}   192     NaN   \n89291                                   {'amount': 22.16}   228   22.16   \n113605   {'offer id': '3f207df678b143eea3cee63160fa8bed'}   336     NaN   \n139992   {'offer id': '3f207df678b143eea3cee63160fa8bed'}   372     NaN   \n153401   {'offer id': 'f19421c1d4aa40978ebb69ca19b0e20d'}   408     NaN   \n168412                                   {'amount': 8.57}   414    8.57   \n168413  {'offer_id': 'f19421c1d4aa40978ebb69ca19b0e20d...   414     NaN   \n187554   {'offer id': 'f19421c1d4aa40978ebb69ca19b0e20d'}   456     NaN   \n204340   {'offer id': 'fafdcd668e3743c1bb461111dcafc2a4'}   504     NaN   \n\n        reward_x                          offer_id  reward_y  \\\n55972        NaN  5a8bc65990b245e5a138643cd4eb9837       0.0   \n77705        NaN  5a8bc65990b245e5a138643cd4eb9837       0.0   \n89291        NaN                               NaN       NaN   \n113605       NaN  3f207df678b143eea3cee63160fa8bed       0.0   \n139992       NaN  3f207df678b143eea3cee63160fa8bed       0.0   \n153401       NaN  f19421c1d4aa40978ebb69ca19b0e20d       5.0   \n168412       NaN                               NaN       NaN   \n168413       5.0  f19421c1d4aa40978ebb69ca19b0e20d       5.0   \n187554       NaN  f19421c1d4aa40978ebb69ca19b0e20d       5.0   \n204340       NaN  fafdcd668e3743c1bb461111dcafc2a4       2.0   \n\n                            channels  difficulty  duration     offer_type  \\\n55972        [email, mobile, social]         0.0       3.0  informational   \n77705        [email, mobile, social]         0.0       3.0  informational   \n89291                            NaN         NaN       NaN            NaN   \n113605          [web, email, mobile]         0.0       4.0  informational   \n139992          [web, email, mobile]         0.0       4.0  informational   \n153401  [web, email, mobile, social]         5.0       5.0           bogo   \n168412                           NaN         NaN       NaN            NaN   \n168413  [web, email, mobile, social]         5.0       5.0           bogo   \n187554  [web, email, mobile, social]         5.0       5.0           bogo   \n204340  [web, email, mobile, social]        10.0      10.0       discount   \n\n                                      id  \n55972   5a8bc65990b245e5a138643cd4eb9837  \n77705   5a8bc65990b245e5a138643cd4eb9837  \n89291                                NaN  \n113605  3f207df678b143eea3cee63160fa8bed  \n139992  3f207df678b143eea3cee63160fa8bed  \n153401  f19421c1d4aa40978ebb69ca19b0e20d  \n168412                               NaN  \n168413  f19421c1d4aa40978ebb69ca19b0e20d  \n187554  f19421c1d4aa40978ebb69ca19b0e20d  \n204340  fafdcd668e3743c1bb461111dcafc2a4  ",
      "text/html": "<div>\n<style scoped>\n    .dataframe tbody tr th:only-of-type {\n        vertical-align: middle;\n    }\n\n    .dataframe tbody tr th {\n        vertical-align: top;\n    }\n\n    .dataframe thead th {\n        text-align: right;\n    }\n</style>\n<table border=\"1\" class=\"dataframe\">\n  <thead>\n    <tr style=\"text-align: right;\">\n      <th></th>\n      <th>person</th>\n      <th>event</th>\n      <th>value</th>\n      <th>time</th>\n      <th>amount</th>\n      <th>reward_x</th>\n      <th>offer_id</th>\n      <th>reward_y</th>\n      <th>channels</th>\n      <th>difficulty</th>\n      <th>duration</th>\n      <th>offer_type</th>\n      <th>id</th>\n    </tr>\n  </thead>\n  <tbody>\n    <tr>\n      <th>55972</th>\n      <td>0009655768c64bdeb2e877511632db8f</td>\n      <td>offer received</td>\n      <td>{'offer id': '5a8bc65990b245e5a138643cd4eb9837'}</td>\n      <td>168</td>\n      <td>NaN</td>\n      <td>NaN</td>\n      <td>5a8bc65990b245e5a138643cd4eb9837</td>\n      <td>0.0</td>\n      <td>[email, mobile, social]</td>\n      <td>0.0</td>\n      <td>3.0</td>\n      <td>informational</td>\n      <td>5a8bc65990b245e5a138643cd4eb9837</td>\n    </tr>\n    <tr>\n      <th>77705</th>\n      <td>0009655768c64bdeb2e877511632db8f</td>\n      <td>offer viewed</td>\n      <td>{'offer id': '5a8bc65990b245e5a138643cd4eb9837'}</td>\n      <td>192</td>\n      <td>NaN</td>\n      <td>NaN</td>\n      <td>5a8bc65990b245e5a138643cd4eb9837</td>\n      <td>0.0</td>\n      <td>[email, mobile, social]</td>\n      <td>0.0</td>\n      <td>3.0</td>\n      <td>informational</td>\n      <td>5a8bc65990b245e5a138643cd4eb9837</td>\n    </tr>\n    <tr>\n      <th>89291</th>\n      <td>0009655768c64bdeb2e877511632db8f</td>\n      <td>transaction</td>\n      <td>{'amount': 22.16}</td>\n      <td>228</td>\n      <td>22.16</td>\n      <td>NaN</td>\n      <td>NaN</td>\n      <td>NaN</td>\n      <td>NaN</td>\n      <td>NaN</td>\n      <td>NaN</td>\n      <td>NaN</td>\n      <td>NaN</td>\n    </tr>\n    <tr>\n      <th>113605</th>\n      <td>0009655768c64bdeb2e877511632db8f</td>\n      <td>offer received</td>\n      <td>{'offer id': '3f207df678b143eea3cee63160fa8bed'}</td>\n      <td>336</td>\n      <td>NaN</td>\n      <td>NaN</td>\n      <td>3f207df678b143eea3cee63160fa8bed</td>\n      <td>0.0</td>\n      <td>[web, email, mobile]</td>\n      <td>0.0</td>\n      <td>4.0</td>\n      <td>informational</td>\n      <td>3f207df678b143eea3cee63160fa8bed</td>\n    </tr>\n    <tr>\n      <th>139992</th>\n      <td>0009655768c64bdeb2e877511632db8f</td>\n      <td>offer viewed</td>\n      <td>{'offer id': '3f207df678b143eea3cee63160fa8bed'}</td>\n      <td>372</td>\n      <td>NaN</td>\n      <td>NaN</td>\n      <td>3f207df678b143eea3cee63160fa8bed</td>\n      <td>0.0</td>\n      <td>[web, email, mobile]</td>\n      <td>0.0</td>\n      <td>4.0</td>\n      <td>informational</td>\n      <td>3f207df678b143eea3cee63160fa8bed</td>\n    </tr>\n    <tr>\n      <th>153401</th>\n      <td>0009655768c64bdeb2e877511632db8f</td>\n      <td>offer received</td>\n      <td>{'offer id': 'f19421c1d4aa40978ebb69ca19b0e20d'}</td>\n      <td>408</td>\n      <td>NaN</td>\n      <td>NaN</td>\n      <td>f19421c1d4aa40978ebb69ca19b0e20d</td>\n      <td>5.0</td>\n      <td>[web, email, mobile, social]</td>\n      <td>5.0</td>\n      <td>5.0</td>\n      <td>bogo</td>\n      <td>f19421c1d4aa40978ebb69ca19b0e20d</td>\n    </tr>\n    <tr>\n      <th>168412</th>\n      <td>0009655768c64bdeb2e877511632db8f</td>\n      <td>transaction</td>\n      <td>{'amount': 8.57}</td>\n      <td>414</td>\n      <td>8.57</td>\n      <td>NaN</td>\n      <td>NaN</td>\n      <td>NaN</td>\n      <td>NaN</td>\n      <td>NaN</td>\n      <td>NaN</td>\n      <td>NaN</td>\n      <td>NaN</td>\n    </tr>\n    <tr>\n      <th>168413</th>\n      <td>0009655768c64bdeb2e877511632db8f</td>\n      <td>offer completed</td>\n      <td>{'offer_id': 'f19421c1d4aa40978ebb69ca19b0e20d...</td>\n      <td>414</td>\n      <td>NaN</td>\n      <td>5.0</td>\n      <td>f19421c1d4aa40978ebb69ca19b0e20d</td>\n      <td>5.0</td>\n      <td>[web, email, mobile, social]</td>\n      <td>5.0</td>\n      <td>5.0</td>\n      <td>bogo</td>\n      <td>f19421c1d4aa40978ebb69ca19b0e20d</td>\n    </tr>\n    <tr>\n      <th>187554</th>\n      <td>0009655768c64bdeb2e877511632db8f</td>\n      <td>offer viewed</td>\n      <td>{'offer id': 'f19421c1d4aa40978ebb69ca19b0e20d'}</td>\n      <td>456</td>\n      <td>NaN</td>\n      <td>NaN</td>\n      <td>f19421c1d4aa40978ebb69ca19b0e20d</td>\n      <td>5.0</td>\n      <td>[web, email, mobile, social]</td>\n      <td>5.0</td>\n      <td>5.0</td>\n      <td>bogo</td>\n      <td>f19421c1d4aa40978ebb69ca19b0e20d</td>\n    </tr>\n    <tr>\n      <th>204340</th>\n      <td>0009655768c64bdeb2e877511632db8f</td>\n      <td>offer received</td>\n      <td>{'offer id': 'fafdcd668e3743c1bb461111dcafc2a4'}</td>\n      <td>504</td>\n      <td>NaN</td>\n      <td>NaN</td>\n      <td>fafdcd668e3743c1bb461111dcafc2a4</td>\n      <td>2.0</td>\n      <td>[web, email, mobile, social]</td>\n      <td>10.0</td>\n      <td>10.0</td>\n      <td>discount</td>\n      <td>fafdcd668e3743c1bb461111dcafc2a4</td>\n    </tr>\n  </tbody>\n</table>\n</div>"
     },
     "execution_count": 18,
     "metadata": {},
     "output_type": "execute_result"
    }
   ],
   "source": [
    "pf_ts_merge = transcript.merge(portfolio,\n",
    "                               how='left',\n",
    "                               left_on='offer_id',\n",
    "                               right_on='id')\n",
    "\n",
    "pf_ts_merge.sort_values(['person', 'time'], inplace=True)\n",
    "\n",
    "pf_ts_merge.head(10)"
   ],
   "metadata": {
    "collapsed": false,
    "pycharm": {
     "name": "#%%\n"
    }
   }
  },
  {
   "cell_type": "code",
   "execution_count": 19,
   "outputs": [
    {
     "name": "stdout",
     "output_type": "stream",
     "text": [
      "Offer Type Distribution on Event:\n",
      "event            offer_type   \n",
      "offer completed  bogo             15669\n",
      "                 discount         17910\n",
      "offer received   bogo             30499\n",
      "                 discount         30543\n",
      "                 informational    15235\n",
      "offer viewed     bogo             25449\n",
      "                 discount         21445\n",
      "                 informational    10831\n",
      "Name: offer_type, dtype: int64\n"
     ]
    }
   ],
   "source": [
    "print(f\"Offer Type Distribution on Event:\\n\"\n",
    "      f\"{pf_ts_merge.groupby(['event', 'offer_type'])['offer_type'].count()}\")"
   ],
   "metadata": {
    "collapsed": false,
    "pycharm": {
     "name": "#%%\n"
    }
   }
  },
  {
   "cell_type": "markdown",
   "source": [
    "**NOTE:** In the datasets, `offer_id` is not linked to `transaction` event, so we will need to link transactions to events.\n",
    "\n",
    "`bogo` and `discount` are more straightforward in terms of causing transactions, hence easier to track transactions after offer received, viewed and completed. \n",
    "\n",
    "However, we should also pay adequate attention to `informational` offers, thought they are indirect to be linked with transactions.\n"
   ],
   "metadata": {
    "collapsed": false,
    "pycharm": {
     "name": "#%% md\n"
    }
   }
  },
  {
   "cell_type": "code",
   "execution_count": 20,
   "outputs": [
    {
     "data": {
      "text/plain": "        time  offer_id                            person        event\n89291    228       NaN  0009655768c64bdeb2e877511632db8f  transaction\n168412   414       NaN  0009655768c64bdeb2e877511632db8f  transaction\n228422   528       NaN  0009655768c64bdeb2e877511632db8f  transaction\n237784   552       NaN  0009655768c64bdeb2e877511632db8f  transaction\n258883   576       NaN  0009655768c64bdeb2e877511632db8f  transaction\n293497   660       NaN  0009655768c64bdeb2e877511632db8f  transaction\n300930   690       NaN  0009655768c64bdeb2e877511632db8f  transaction\n302205   696       NaN  0009655768c64bdeb2e877511632db8f  transaction\n104088   294       NaN  00116118485d4dfda04fdbaba9a87b5c  transaction\n187632   456       NaN  00116118485d4dfda04fdbaba9a87b5c  transaction",
      "text/html": "<div>\n<style scoped>\n    .dataframe tbody tr th:only-of-type {\n        vertical-align: middle;\n    }\n\n    .dataframe tbody tr th {\n        vertical-align: top;\n    }\n\n    .dataframe thead th {\n        text-align: right;\n    }\n</style>\n<table border=\"1\" class=\"dataframe\">\n  <thead>\n    <tr style=\"text-align: right;\">\n      <th></th>\n      <th>time</th>\n      <th>offer_id</th>\n      <th>person</th>\n      <th>event</th>\n    </tr>\n  </thead>\n  <tbody>\n    <tr>\n      <th>89291</th>\n      <td>228</td>\n      <td>NaN</td>\n      <td>0009655768c64bdeb2e877511632db8f</td>\n      <td>transaction</td>\n    </tr>\n    <tr>\n      <th>168412</th>\n      <td>414</td>\n      <td>NaN</td>\n      <td>0009655768c64bdeb2e877511632db8f</td>\n      <td>transaction</td>\n    </tr>\n    <tr>\n      <th>228422</th>\n      <td>528</td>\n      <td>NaN</td>\n      <td>0009655768c64bdeb2e877511632db8f</td>\n      <td>transaction</td>\n    </tr>\n    <tr>\n      <th>237784</th>\n      <td>552</td>\n      <td>NaN</td>\n      <td>0009655768c64bdeb2e877511632db8f</td>\n      <td>transaction</td>\n    </tr>\n    <tr>\n      <th>258883</th>\n      <td>576</td>\n      <td>NaN</td>\n      <td>0009655768c64bdeb2e877511632db8f</td>\n      <td>transaction</td>\n    </tr>\n    <tr>\n      <th>293497</th>\n      <td>660</td>\n      <td>NaN</td>\n      <td>0009655768c64bdeb2e877511632db8f</td>\n      <td>transaction</td>\n    </tr>\n    <tr>\n      <th>300930</th>\n      <td>690</td>\n      <td>NaN</td>\n      <td>0009655768c64bdeb2e877511632db8f</td>\n      <td>transaction</td>\n    </tr>\n    <tr>\n      <th>302205</th>\n      <td>696</td>\n      <td>NaN</td>\n      <td>0009655768c64bdeb2e877511632db8f</td>\n      <td>transaction</td>\n    </tr>\n    <tr>\n      <th>104088</th>\n      <td>294</td>\n      <td>NaN</td>\n      <td>00116118485d4dfda04fdbaba9a87b5c</td>\n      <td>transaction</td>\n    </tr>\n    <tr>\n      <th>187632</th>\n      <td>456</td>\n      <td>NaN</td>\n      <td>00116118485d4dfda04fdbaba9a87b5c</td>\n      <td>transaction</td>\n    </tr>\n  </tbody>\n</table>\n</div>"
     },
     "execution_count": 20,
     "metadata": {},
     "output_type": "execute_result"
    }
   ],
   "source": [
    "offer_completed = pf_ts_merge[(pf_ts_merge['event']=='transaction') |\n",
    "                              (pf_ts_merge['event']=='offer_viewed')] \\\n",
    "                             [['time', 'offer_id', 'person', 'event']]\n",
    "\n",
    "offer_completed['offer_id'] = offer_completed['offer_id'].ffill()\n",
    "\n",
    "offer_completed.head(10)"
   ],
   "metadata": {
    "collapsed": false,
    "pycharm": {
     "name": "#%%\n"
    }
   }
  },
  {
   "cell_type": "code",
   "execution_count": 21,
   "outputs": [
    {
     "data": {
      "text/plain": "                             person           event  \\\n0  0009655768c64bdeb2e877511632db8f  offer received   \n1  0009655768c64bdeb2e877511632db8f    offer viewed   \n2  0009655768c64bdeb2e877511632db8f     transaction   \n3  0009655768c64bdeb2e877511632db8f  offer received   \n4  0009655768c64bdeb2e877511632db8f    offer viewed   \n\n                                              value  time  amount  reward_x  \\\n0  {'offer id': '5a8bc65990b245e5a138643cd4eb9837'}   168     NaN       NaN   \n1  {'offer id': '5a8bc65990b245e5a138643cd4eb9837'}   192     NaN       NaN   \n2                                 {'amount': 22.16}   228   22.16       NaN   \n3  {'offer id': '3f207df678b143eea3cee63160fa8bed'}   336     NaN       NaN   \n4  {'offer id': '3f207df678b143eea3cee63160fa8bed'}   372     NaN       NaN   \n\n                         offer_id_x  reward_y                 channels  \\\n0  5a8bc65990b245e5a138643cd4eb9837       0.0  [email, mobile, social]   \n1  5a8bc65990b245e5a138643cd4eb9837       0.0  [email, mobile, social]   \n2                               NaN       NaN                      NaN   \n3  3f207df678b143eea3cee63160fa8bed       0.0     [web, email, mobile]   \n4  3f207df678b143eea3cee63160fa8bed       0.0     [web, email, mobile]   \n\n   difficulty  duration     offer_type                                id  \\\n0         0.0       3.0  informational  5a8bc65990b245e5a138643cd4eb9837   \n1         0.0       3.0  informational  5a8bc65990b245e5a138643cd4eb9837   \n2         NaN       NaN            NaN                               NaN   \n3         0.0       4.0  informational  3f207df678b143eea3cee63160fa8bed   \n4         0.0       4.0  informational  3f207df678b143eea3cee63160fa8bed   \n\n   offer_id_y  \n0         NaN  \n1         NaN  \n2         NaN  \n3         NaN  \n4         NaN  ",
      "text/html": "<div>\n<style scoped>\n    .dataframe tbody tr th:only-of-type {\n        vertical-align: middle;\n    }\n\n    .dataframe tbody tr th {\n        vertical-align: top;\n    }\n\n    .dataframe thead th {\n        text-align: right;\n    }\n</style>\n<table border=\"1\" class=\"dataframe\">\n  <thead>\n    <tr style=\"text-align: right;\">\n      <th></th>\n      <th>person</th>\n      <th>event</th>\n      <th>value</th>\n      <th>time</th>\n      <th>amount</th>\n      <th>reward_x</th>\n      <th>offer_id_x</th>\n      <th>reward_y</th>\n      <th>channels</th>\n      <th>difficulty</th>\n      <th>duration</th>\n      <th>offer_type</th>\n      <th>id</th>\n      <th>offer_id_y</th>\n    </tr>\n  </thead>\n  <tbody>\n    <tr>\n      <th>0</th>\n      <td>0009655768c64bdeb2e877511632db8f</td>\n      <td>offer received</td>\n      <td>{'offer id': '5a8bc65990b245e5a138643cd4eb9837'}</td>\n      <td>168</td>\n      <td>NaN</td>\n      <td>NaN</td>\n      <td>5a8bc65990b245e5a138643cd4eb9837</td>\n      <td>0.0</td>\n      <td>[email, mobile, social]</td>\n      <td>0.0</td>\n      <td>3.0</td>\n      <td>informational</td>\n      <td>5a8bc65990b245e5a138643cd4eb9837</td>\n      <td>NaN</td>\n    </tr>\n    <tr>\n      <th>1</th>\n      <td>0009655768c64bdeb2e877511632db8f</td>\n      <td>offer viewed</td>\n      <td>{'offer id': '5a8bc65990b245e5a138643cd4eb9837'}</td>\n      <td>192</td>\n      <td>NaN</td>\n      <td>NaN</td>\n      <td>5a8bc65990b245e5a138643cd4eb9837</td>\n      <td>0.0</td>\n      <td>[email, mobile, social]</td>\n      <td>0.0</td>\n      <td>3.0</td>\n      <td>informational</td>\n      <td>5a8bc65990b245e5a138643cd4eb9837</td>\n      <td>NaN</td>\n    </tr>\n    <tr>\n      <th>2</th>\n      <td>0009655768c64bdeb2e877511632db8f</td>\n      <td>transaction</td>\n      <td>{'amount': 22.16}</td>\n      <td>228</td>\n      <td>22.16</td>\n      <td>NaN</td>\n      <td>NaN</td>\n      <td>NaN</td>\n      <td>NaN</td>\n      <td>NaN</td>\n      <td>NaN</td>\n      <td>NaN</td>\n      <td>NaN</td>\n      <td>NaN</td>\n    </tr>\n    <tr>\n      <th>3</th>\n      <td>0009655768c64bdeb2e877511632db8f</td>\n      <td>offer received</td>\n      <td>{'offer id': '3f207df678b143eea3cee63160fa8bed'}</td>\n      <td>336</td>\n      <td>NaN</td>\n      <td>NaN</td>\n      <td>3f207df678b143eea3cee63160fa8bed</td>\n      <td>0.0</td>\n      <td>[web, email, mobile]</td>\n      <td>0.0</td>\n      <td>4.0</td>\n      <td>informational</td>\n      <td>3f207df678b143eea3cee63160fa8bed</td>\n      <td>NaN</td>\n    </tr>\n    <tr>\n      <th>4</th>\n      <td>0009655768c64bdeb2e877511632db8f</td>\n      <td>offer viewed</td>\n      <td>{'offer id': '3f207df678b143eea3cee63160fa8bed'}</td>\n      <td>372</td>\n      <td>NaN</td>\n      <td>NaN</td>\n      <td>3f207df678b143eea3cee63160fa8bed</td>\n      <td>0.0</td>\n      <td>[web, email, mobile]</td>\n      <td>0.0</td>\n      <td>4.0</td>\n      <td>informational</td>\n      <td>3f207df678b143eea3cee63160fa8bed</td>\n      <td>NaN</td>\n    </tr>\n  </tbody>\n</table>\n</div>"
     },
     "execution_count": 21,
     "metadata": {},
     "output_type": "execute_result"
    }
   ],
   "source": [
    "pf_ts_merge = pf_ts_merge.merge(offer_completed,\n",
    "                                how='left',\n",
    "                                on=['person', 'time', 'event'])\n",
    "\n",
    "pf_ts_merge.head()"
   ],
   "metadata": {
    "collapsed": false,
    "pycharm": {
     "name": "#%%\n"
    }
   }
  },
  {
   "cell_type": "code",
   "execution_count": 22,
   "outputs": [
    {
     "data": {
      "text/plain": "                             person            event  \\\n0  0009655768c64bdeb2e877511632db8f   offer received   \n1  0009655768c64bdeb2e877511632db8f     offer viewed   \n2  0009655768c64bdeb2e877511632db8f      transaction   \n3  0009655768c64bdeb2e877511632db8f   offer received   \n4  0009655768c64bdeb2e877511632db8f     offer viewed   \n5  0009655768c64bdeb2e877511632db8f   offer received   \n6  0009655768c64bdeb2e877511632db8f      transaction   \n7  0009655768c64bdeb2e877511632db8f  offer completed   \n8  0009655768c64bdeb2e877511632db8f     offer viewed   \n9  0009655768c64bdeb2e877511632db8f   offer received   \n\n                                               value  time  amount  \\\n0   {'offer id': '5a8bc65990b245e5a138643cd4eb9837'}   168     NaN   \n1   {'offer id': '5a8bc65990b245e5a138643cd4eb9837'}   192     NaN   \n2                                  {'amount': 22.16}   228   22.16   \n3   {'offer id': '3f207df678b143eea3cee63160fa8bed'}   336     NaN   \n4   {'offer id': '3f207df678b143eea3cee63160fa8bed'}   372     NaN   \n5   {'offer id': 'f19421c1d4aa40978ebb69ca19b0e20d'}   408     NaN   \n6                                   {'amount': 8.57}   414    8.57   \n7  {'offer_id': 'f19421c1d4aa40978ebb69ca19b0e20d...   414     NaN   \n8   {'offer id': 'f19421c1d4aa40978ebb69ca19b0e20d'}   456     NaN   \n9   {'offer id': 'fafdcd668e3743c1bb461111dcafc2a4'}   504     NaN   \n\n                       channels  difficulty  duration     offer_type  \\\n0       [email, mobile, social]         0.0       3.0  informational   \n1       [email, mobile, social]         0.0       3.0  informational   \n2                           NaN         NaN       NaN            NaN   \n3          [web, email, mobile]         0.0       4.0  informational   \n4          [web, email, mobile]         0.0       4.0  informational   \n5  [web, email, mobile, social]         5.0       5.0           bogo   \n6                           NaN         NaN       NaN            NaN   \n7  [web, email, mobile, social]         5.0       5.0           bogo   \n8  [web, email, mobile, social]         5.0       5.0           bogo   \n9  [web, email, mobile, social]        10.0      10.0       discount   \n\n                                 id                          offer_id  \n0  5a8bc65990b245e5a138643cd4eb9837  5a8bc65990b245e5a138643cd4eb9837  \n1  5a8bc65990b245e5a138643cd4eb9837  5a8bc65990b245e5a138643cd4eb9837  \n2                               NaN                               NaN  \n3  3f207df678b143eea3cee63160fa8bed  3f207df678b143eea3cee63160fa8bed  \n4  3f207df678b143eea3cee63160fa8bed  3f207df678b143eea3cee63160fa8bed  \n5  f19421c1d4aa40978ebb69ca19b0e20d  f19421c1d4aa40978ebb69ca19b0e20d  \n6                               NaN                               NaN  \n7  f19421c1d4aa40978ebb69ca19b0e20d  f19421c1d4aa40978ebb69ca19b0e20d  \n8  f19421c1d4aa40978ebb69ca19b0e20d  f19421c1d4aa40978ebb69ca19b0e20d  \n9  fafdcd668e3743c1bb461111dcafc2a4  fafdcd668e3743c1bb461111dcafc2a4  ",
      "text/html": "<div>\n<style scoped>\n    .dataframe tbody tr th:only-of-type {\n        vertical-align: middle;\n    }\n\n    .dataframe tbody tr th {\n        vertical-align: top;\n    }\n\n    .dataframe thead th {\n        text-align: right;\n    }\n</style>\n<table border=\"1\" class=\"dataframe\">\n  <thead>\n    <tr style=\"text-align: right;\">\n      <th></th>\n      <th>person</th>\n      <th>event</th>\n      <th>value</th>\n      <th>time</th>\n      <th>amount</th>\n      <th>channels</th>\n      <th>difficulty</th>\n      <th>duration</th>\n      <th>offer_type</th>\n      <th>id</th>\n      <th>offer_id</th>\n    </tr>\n  </thead>\n  <tbody>\n    <tr>\n      <th>0</th>\n      <td>0009655768c64bdeb2e877511632db8f</td>\n      <td>offer received</td>\n      <td>{'offer id': '5a8bc65990b245e5a138643cd4eb9837'}</td>\n      <td>168</td>\n      <td>NaN</td>\n      <td>[email, mobile, social]</td>\n      <td>0.0</td>\n      <td>3.0</td>\n      <td>informational</td>\n      <td>5a8bc65990b245e5a138643cd4eb9837</td>\n      <td>5a8bc65990b245e5a138643cd4eb9837</td>\n    </tr>\n    <tr>\n      <th>1</th>\n      <td>0009655768c64bdeb2e877511632db8f</td>\n      <td>offer viewed</td>\n      <td>{'offer id': '5a8bc65990b245e5a138643cd4eb9837'}</td>\n      <td>192</td>\n      <td>NaN</td>\n      <td>[email, mobile, social]</td>\n      <td>0.0</td>\n      <td>3.0</td>\n      <td>informational</td>\n      <td>5a8bc65990b245e5a138643cd4eb9837</td>\n      <td>5a8bc65990b245e5a138643cd4eb9837</td>\n    </tr>\n    <tr>\n      <th>2</th>\n      <td>0009655768c64bdeb2e877511632db8f</td>\n      <td>transaction</td>\n      <td>{'amount': 22.16}</td>\n      <td>228</td>\n      <td>22.16</td>\n      <td>NaN</td>\n      <td>NaN</td>\n      <td>NaN</td>\n      <td>NaN</td>\n      <td>NaN</td>\n      <td>NaN</td>\n    </tr>\n    <tr>\n      <th>3</th>\n      <td>0009655768c64bdeb2e877511632db8f</td>\n      <td>offer received</td>\n      <td>{'offer id': '3f207df678b143eea3cee63160fa8bed'}</td>\n      <td>336</td>\n      <td>NaN</td>\n      <td>[web, email, mobile]</td>\n      <td>0.0</td>\n      <td>4.0</td>\n      <td>informational</td>\n      <td>3f207df678b143eea3cee63160fa8bed</td>\n      <td>3f207df678b143eea3cee63160fa8bed</td>\n    </tr>\n    <tr>\n      <th>4</th>\n      <td>0009655768c64bdeb2e877511632db8f</td>\n      <td>offer viewed</td>\n      <td>{'offer id': '3f207df678b143eea3cee63160fa8bed'}</td>\n      <td>372</td>\n      <td>NaN</td>\n      <td>[web, email, mobile]</td>\n      <td>0.0</td>\n      <td>4.0</td>\n      <td>informational</td>\n      <td>3f207df678b143eea3cee63160fa8bed</td>\n      <td>3f207df678b143eea3cee63160fa8bed</td>\n    </tr>\n    <tr>\n      <th>5</th>\n      <td>0009655768c64bdeb2e877511632db8f</td>\n      <td>offer received</td>\n      <td>{'offer id': 'f19421c1d4aa40978ebb69ca19b0e20d'}</td>\n      <td>408</td>\n      <td>NaN</td>\n      <td>[web, email, mobile, social]</td>\n      <td>5.0</td>\n      <td>5.0</td>\n      <td>bogo</td>\n      <td>f19421c1d4aa40978ebb69ca19b0e20d</td>\n      <td>f19421c1d4aa40978ebb69ca19b0e20d</td>\n    </tr>\n    <tr>\n      <th>6</th>\n      <td>0009655768c64bdeb2e877511632db8f</td>\n      <td>transaction</td>\n      <td>{'amount': 8.57}</td>\n      <td>414</td>\n      <td>8.57</td>\n      <td>NaN</td>\n      <td>NaN</td>\n      <td>NaN</td>\n      <td>NaN</td>\n      <td>NaN</td>\n      <td>NaN</td>\n    </tr>\n    <tr>\n      <th>7</th>\n      <td>0009655768c64bdeb2e877511632db8f</td>\n      <td>offer completed</td>\n      <td>{'offer_id': 'f19421c1d4aa40978ebb69ca19b0e20d...</td>\n      <td>414</td>\n      <td>NaN</td>\n      <td>[web, email, mobile, social]</td>\n      <td>5.0</td>\n      <td>5.0</td>\n      <td>bogo</td>\n      <td>f19421c1d4aa40978ebb69ca19b0e20d</td>\n      <td>f19421c1d4aa40978ebb69ca19b0e20d</td>\n    </tr>\n    <tr>\n      <th>8</th>\n      <td>0009655768c64bdeb2e877511632db8f</td>\n      <td>offer viewed</td>\n      <td>{'offer id': 'f19421c1d4aa40978ebb69ca19b0e20d'}</td>\n      <td>456</td>\n      <td>NaN</td>\n      <td>[web, email, mobile, social]</td>\n      <td>5.0</td>\n      <td>5.0</td>\n      <td>bogo</td>\n      <td>f19421c1d4aa40978ebb69ca19b0e20d</td>\n      <td>f19421c1d4aa40978ebb69ca19b0e20d</td>\n    </tr>\n    <tr>\n      <th>9</th>\n      <td>0009655768c64bdeb2e877511632db8f</td>\n      <td>offer received</td>\n      <td>{'offer id': 'fafdcd668e3743c1bb461111dcafc2a4'}</td>\n      <td>504</td>\n      <td>NaN</td>\n      <td>[web, email, mobile, social]</td>\n      <td>10.0</td>\n      <td>10.0</td>\n      <td>discount</td>\n      <td>fafdcd668e3743c1bb461111dcafc2a4</td>\n      <td>fafdcd668e3743c1bb461111dcafc2a4</td>\n    </tr>\n  </tbody>\n</table>\n</div>"
     },
     "execution_count": 22,
     "metadata": {},
     "output_type": "execute_result"
    }
   ],
   "source": [
    "pf_ts_merge['offer_id'] = np.where(pf_ts_merge['offer_id_x'].isnull(),\n",
    "                                   pf_ts_merge['offer_id_y'],\n",
    "                                   pf_ts_merge['offer_id_x'])\n",
    "\n",
    "pf_ts_merge.drop(columns=['offer_id_x', 'offer_id_y', 'reward_x', 'reward_y'],\n",
    "                 axis=1, inplace=True)\n",
    "\n",
    "pf_ts_merge.head(10)"
   ],
   "metadata": {
    "collapsed": false,
    "pycharm": {
     "name": "#%%\n"
    }
   }
  },
  {
   "cell_type": "code",
   "execution_count": 23,
   "outputs": [],
   "source": [
    "pf_ts_merge = pf_ts_merge.merge(portfolio,\n",
    "                                how='left',\n",
    "                                left_on='offer_id',\n",
    "                                right_on='id')"
   ],
   "metadata": {
    "collapsed": false,
    "pycharm": {
     "name": "#%%\n"
    }
   }
  },
  {
   "cell_type": "code",
   "execution_count": 26,
   "outputs": [
    {
     "data": {
      "text/plain": "                             person           event  \\\n0  0009655768c64bdeb2e877511632db8f  offer received   \n1  0009655768c64bdeb2e877511632db8f    offer viewed   \n2  0009655768c64bdeb2e877511632db8f     transaction   \n3  0009655768c64bdeb2e877511632db8f  offer received   \n4  0009655768c64bdeb2e877511632db8f    offer viewed   \n\n                                              value  time  amount  \\\n0  {'offer id': '5a8bc65990b245e5a138643cd4eb9837'}   168     NaN   \n1  {'offer id': '5a8bc65990b245e5a138643cd4eb9837'}   192     NaN   \n2                                 {'amount': 22.16}   228   22.16   \n3  {'offer id': '3f207df678b143eea3cee63160fa8bed'}   336     NaN   \n4  {'offer id': '3f207df678b143eea3cee63160fa8bed'}   372     NaN   \n\n                               id_x                          offer_id  reward  \\\n0  5a8bc65990b245e5a138643cd4eb9837  5a8bc65990b245e5a138643cd4eb9837     0.0   \n1  5a8bc65990b245e5a138643cd4eb9837  5a8bc65990b245e5a138643cd4eb9837     0.0   \n2                               NaN                               NaN     NaN   \n3  3f207df678b143eea3cee63160fa8bed  3f207df678b143eea3cee63160fa8bed     0.0   \n4  3f207df678b143eea3cee63160fa8bed  3f207df678b143eea3cee63160fa8bed     0.0   \n\n                  channels  difficulty     offer_type  \\\n0  [email, mobile, social]         0.0  informational   \n1  [email, mobile, social]         0.0  informational   \n2                      NaN         NaN            NaN   \n3     [web, email, mobile]         0.0  informational   \n4     [web, email, mobile]         0.0  informational   \n\n                               id_y  duration  \n0  5a8bc65990b245e5a138643cd4eb9837       3.0  \n1  5a8bc65990b245e5a138643cd4eb9837       3.0  \n2                               NaN       NaN  \n3  3f207df678b143eea3cee63160fa8bed       4.0  \n4  3f207df678b143eea3cee63160fa8bed       4.0  ",
      "text/html": "<div>\n<style scoped>\n    .dataframe tbody tr th:only-of-type {\n        vertical-align: middle;\n    }\n\n    .dataframe tbody tr th {\n        vertical-align: top;\n    }\n\n    .dataframe thead th {\n        text-align: right;\n    }\n</style>\n<table border=\"1\" class=\"dataframe\">\n  <thead>\n    <tr style=\"text-align: right;\">\n      <th></th>\n      <th>person</th>\n      <th>event</th>\n      <th>value</th>\n      <th>time</th>\n      <th>amount</th>\n      <th>id_x</th>\n      <th>offer_id</th>\n      <th>reward</th>\n      <th>channels</th>\n      <th>difficulty</th>\n      <th>offer_type</th>\n      <th>id_y</th>\n      <th>duration</th>\n    </tr>\n  </thead>\n  <tbody>\n    <tr>\n      <th>0</th>\n      <td>0009655768c64bdeb2e877511632db8f</td>\n      <td>offer received</td>\n      <td>{'offer id': '5a8bc65990b245e5a138643cd4eb9837'}</td>\n      <td>168</td>\n      <td>NaN</td>\n      <td>5a8bc65990b245e5a138643cd4eb9837</td>\n      <td>5a8bc65990b245e5a138643cd4eb9837</td>\n      <td>0.0</td>\n      <td>[email, mobile, social]</td>\n      <td>0.0</td>\n      <td>informational</td>\n      <td>5a8bc65990b245e5a138643cd4eb9837</td>\n      <td>3.0</td>\n    </tr>\n    <tr>\n      <th>1</th>\n      <td>0009655768c64bdeb2e877511632db8f</td>\n      <td>offer viewed</td>\n      <td>{'offer id': '5a8bc65990b245e5a138643cd4eb9837'}</td>\n      <td>192</td>\n      <td>NaN</td>\n      <td>5a8bc65990b245e5a138643cd4eb9837</td>\n      <td>5a8bc65990b245e5a138643cd4eb9837</td>\n      <td>0.0</td>\n      <td>[email, mobile, social]</td>\n      <td>0.0</td>\n      <td>informational</td>\n      <td>5a8bc65990b245e5a138643cd4eb9837</td>\n      <td>3.0</td>\n    </tr>\n    <tr>\n      <th>2</th>\n      <td>0009655768c64bdeb2e877511632db8f</td>\n      <td>transaction</td>\n      <td>{'amount': 22.16}</td>\n      <td>228</td>\n      <td>22.16</td>\n      <td>NaN</td>\n      <td>NaN</td>\n      <td>NaN</td>\n      <td>NaN</td>\n      <td>NaN</td>\n      <td>NaN</td>\n      <td>NaN</td>\n      <td>NaN</td>\n    </tr>\n    <tr>\n      <th>3</th>\n      <td>0009655768c64bdeb2e877511632db8f</td>\n      <td>offer received</td>\n      <td>{'offer id': '3f207df678b143eea3cee63160fa8bed'}</td>\n      <td>336</td>\n      <td>NaN</td>\n      <td>3f207df678b143eea3cee63160fa8bed</td>\n      <td>3f207df678b143eea3cee63160fa8bed</td>\n      <td>0.0</td>\n      <td>[web, email, mobile]</td>\n      <td>0.0</td>\n      <td>informational</td>\n      <td>3f207df678b143eea3cee63160fa8bed</td>\n      <td>4.0</td>\n    </tr>\n    <tr>\n      <th>4</th>\n      <td>0009655768c64bdeb2e877511632db8f</td>\n      <td>offer viewed</td>\n      <td>{'offer id': '3f207df678b143eea3cee63160fa8bed'}</td>\n      <td>372</td>\n      <td>NaN</td>\n      <td>3f207df678b143eea3cee63160fa8bed</td>\n      <td>3f207df678b143eea3cee63160fa8bed</td>\n      <td>0.0</td>\n      <td>[web, email, mobile]</td>\n      <td>0.0</td>\n      <td>informational</td>\n      <td>3f207df678b143eea3cee63160fa8bed</td>\n      <td>4.0</td>\n    </tr>\n  </tbody>\n</table>\n</div>"
     },
     "execution_count": 26,
     "metadata": {},
     "output_type": "execute_result"
    }
   ],
   "source": [
    "pf_ts_merge['duration'] = np.where(pf_ts_merge['duration_x'].isnull(),\n",
    "                                   pf_ts_merge['duration_y'],\n",
    "                                   pf_ts_merge['duration_x'])\n",
    "\n",
    "pf_ts_merge.drop(columns=['duration_x', 'duration_y',\n",
    "                          'difficulty_x', 'channels_x',\n",
    "                          'offer_type_x'],\n",
    "                 axis=1, inplace=True)\n",
    "\n",
    "pf_ts_merge.rename(columns={'channels_y': 'channels',\n",
    "                            'reward_y': 'reward',\n",
    "                            'difficulty_y': 'difficulty',\n",
    "                            'offer_type_y': 'offer_type'},\n",
    "                   inplace=True)\n",
    "\n",
    "pf_ts_merge.head()"
   ],
   "metadata": {
    "collapsed": false,
    "pycharm": {
     "name": "#%%\n"
    }
   }
  },
  {
   "cell_type": "code",
   "execution_count": 27,
   "outputs": [
    {
     "data": {
      "text/plain": "                             person            event  \\\n1  0009655768c64bdeb2e877511632db8f     offer viewed   \n2  0009655768c64bdeb2e877511632db8f      transaction   \n4  0009655768c64bdeb2e877511632db8f     offer viewed   \n6  0009655768c64bdeb2e877511632db8f      transaction   \n7  0009655768c64bdeb2e877511632db8f  offer completed   \n\n                                               value  time  amount  \\\n1   {'offer id': '5a8bc65990b245e5a138643cd4eb9837'}   192     NaN   \n2                                  {'amount': 22.16}   228   22.16   \n4   {'offer id': '3f207df678b143eea3cee63160fa8bed'}   372     NaN   \n6                                   {'amount': 8.57}   414    8.57   \n7  {'offer_id': 'f19421c1d4aa40978ebb69ca19b0e20d...   414     NaN   \n\n                               id_x                          offer_id  reward  \\\n1  5a8bc65990b245e5a138643cd4eb9837  5a8bc65990b245e5a138643cd4eb9837     0.0   \n2                               NaN                               NaN     NaN   \n4  3f207df678b143eea3cee63160fa8bed  3f207df678b143eea3cee63160fa8bed     0.0   \n6                               NaN                               NaN     NaN   \n7  f19421c1d4aa40978ebb69ca19b0e20d  f19421c1d4aa40978ebb69ca19b0e20d     5.0   \n\n                       channels  difficulty     offer_type  \\\n1       [email, mobile, social]         0.0  informational   \n2                           NaN         NaN            NaN   \n4          [web, email, mobile]         0.0  informational   \n6                           NaN         NaN            NaN   \n7  [web, email, mobile, social]         5.0           bogo   \n\n                               id_y  duration pre_offer_id  completed_offer  \n1  5a8bc65990b245e5a138643cd4eb9837       3.0          NaN                0  \n2                               NaN       NaN          NaN                0  \n4  3f207df678b143eea3cee63160fa8bed       4.0          NaN                0  \n6                               NaN       NaN          NaN                0  \n7  f19421c1d4aa40978ebb69ca19b0e20d       5.0          NaN                0  ",
      "text/html": "<div>\n<style scoped>\n    .dataframe tbody tr th:only-of-type {\n        vertical-align: middle;\n    }\n\n    .dataframe tbody tr th {\n        vertical-align: top;\n    }\n\n    .dataframe thead th {\n        text-align: right;\n    }\n</style>\n<table border=\"1\" class=\"dataframe\">\n  <thead>\n    <tr style=\"text-align: right;\">\n      <th></th>\n      <th>person</th>\n      <th>event</th>\n      <th>value</th>\n      <th>time</th>\n      <th>amount</th>\n      <th>id_x</th>\n      <th>offer_id</th>\n      <th>reward</th>\n      <th>channels</th>\n      <th>difficulty</th>\n      <th>offer_type</th>\n      <th>id_y</th>\n      <th>duration</th>\n      <th>pre_offer_id</th>\n      <th>completed_offer</th>\n    </tr>\n  </thead>\n  <tbody>\n    <tr>\n      <th>1</th>\n      <td>0009655768c64bdeb2e877511632db8f</td>\n      <td>offer viewed</td>\n      <td>{'offer id': '5a8bc65990b245e5a138643cd4eb9837'}</td>\n      <td>192</td>\n      <td>NaN</td>\n      <td>5a8bc65990b245e5a138643cd4eb9837</td>\n      <td>5a8bc65990b245e5a138643cd4eb9837</td>\n      <td>0.0</td>\n      <td>[email, mobile, social]</td>\n      <td>0.0</td>\n      <td>informational</td>\n      <td>5a8bc65990b245e5a138643cd4eb9837</td>\n      <td>3.0</td>\n      <td>NaN</td>\n      <td>0</td>\n    </tr>\n    <tr>\n      <th>2</th>\n      <td>0009655768c64bdeb2e877511632db8f</td>\n      <td>transaction</td>\n      <td>{'amount': 22.16}</td>\n      <td>228</td>\n      <td>22.16</td>\n      <td>NaN</td>\n      <td>NaN</td>\n      <td>NaN</td>\n      <td>NaN</td>\n      <td>NaN</td>\n      <td>NaN</td>\n      <td>NaN</td>\n      <td>NaN</td>\n      <td>NaN</td>\n      <td>0</td>\n    </tr>\n    <tr>\n      <th>4</th>\n      <td>0009655768c64bdeb2e877511632db8f</td>\n      <td>offer viewed</td>\n      <td>{'offer id': '3f207df678b143eea3cee63160fa8bed'}</td>\n      <td>372</td>\n      <td>NaN</td>\n      <td>3f207df678b143eea3cee63160fa8bed</td>\n      <td>3f207df678b143eea3cee63160fa8bed</td>\n      <td>0.0</td>\n      <td>[web, email, mobile]</td>\n      <td>0.0</td>\n      <td>informational</td>\n      <td>3f207df678b143eea3cee63160fa8bed</td>\n      <td>4.0</td>\n      <td>NaN</td>\n      <td>0</td>\n    </tr>\n    <tr>\n      <th>6</th>\n      <td>0009655768c64bdeb2e877511632db8f</td>\n      <td>transaction</td>\n      <td>{'amount': 8.57}</td>\n      <td>414</td>\n      <td>8.57</td>\n      <td>NaN</td>\n      <td>NaN</td>\n      <td>NaN</td>\n      <td>NaN</td>\n      <td>NaN</td>\n      <td>NaN</td>\n      <td>NaN</td>\n      <td>NaN</td>\n      <td>NaN</td>\n      <td>0</td>\n    </tr>\n    <tr>\n      <th>7</th>\n      <td>0009655768c64bdeb2e877511632db8f</td>\n      <td>offer completed</td>\n      <td>{'offer_id': 'f19421c1d4aa40978ebb69ca19b0e20d...</td>\n      <td>414</td>\n      <td>NaN</td>\n      <td>f19421c1d4aa40978ebb69ca19b0e20d</td>\n      <td>f19421c1d4aa40978ebb69ca19b0e20d</td>\n      <td>5.0</td>\n      <td>[web, email, mobile, social]</td>\n      <td>5.0</td>\n      <td>bogo</td>\n      <td>f19421c1d4aa40978ebb69ca19b0e20d</td>\n      <td>5.0</td>\n      <td>NaN</td>\n      <td>0</td>\n    </tr>\n  </tbody>\n</table>\n</div>"
     },
     "execution_count": 27,
     "metadata": {},
     "output_type": "execute_result"
    }
   ],
   "source": [
    "transactions_after_viewed = \\\n",
    "    pf_ts_merge[(pf_ts_merge['event']=='offer viewed') |\n",
    "                (pf_ts_merge['event']=='transaction') |\n",
    "                (pf_ts_merge['event']=='offer completed')].copy()\n",
    "\n",
    "transactions_after_viewed['pre_offer_id'] = \\\n",
    "    transactions_after_viewed.groupby(['person', 'offer_id']) \\\n",
    "        ['offer_id'].shift()\n",
    "\n",
    "transactions_after_viewed['completed_offer'] = \\\n",
    "    np.where(transactions_after_viewed['pre_offer_id']== \\\n",
    "             transactions_after_viewed['offer_id'], 1, 0)\n",
    "\n",
    "transactions_after_viewed.head()"
   ],
   "metadata": {
    "collapsed": false,
    "pycharm": {
     "name": "#%%\n"
    }
   }
  },
  {
   "cell_type": "code",
   "execution_count": null,
   "outputs": [],
   "source": [
    "\n",
    "\n",
    "\n",
    "\n",
    "\n",
    "\n",
    "\n",
    "\n",
    "\n",
    "\n",
    "\n",
    "\n",
    "\n",
    "\n",
    "\n",
    "\n",
    "\n",
    "\n",
    "\n"
   ],
   "metadata": {
    "collapsed": false,
    "pycharm": {
     "name": "#%%\n"
    }
   }
  }
 ],
 "metadata": {
  "kernelspec": {
   "name": "playground",
   "language": "python",
   "display_name": "Py3 (pa)"
  },
  "language_info": {
   "codemirror_mode": {
    "name": "ipython",
    "version": 3
   },
   "file_extension": ".py",
   "mimetype": "text/x-python",
   "name": "python",
   "nbconvert_exporter": "python",
   "pygments_lexer": "ipython3",
   "version": "3.6.3"
  }
 },
 "nbformat": 4,
 "nbformat_minor": 2
}