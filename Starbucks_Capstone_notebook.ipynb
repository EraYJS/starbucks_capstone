{
 "cells": [
  {
   "cell_type": "markdown",
   "source": [
    "# Starbucks Capstone Challenge\n",
    "\n",
    "### Introduction\n",
    "\n",
    "This data set contains simulated data that mimics customer behavior on the Starbucks rewards mobile app. Once every few days, Starbucks sends out an offer to users of the mobile app. An offer can be merely an advertisement for a drink or an actual offer such as a discount or BOGO (buy one get one free). Some users might not receive any offer during certain weeks. \n",
    "\n",
    "Not all users receive the same offer, and that is the challenge to solve with this data set.\n",
    "\n",
    "Your task is to combine transaction, demographic and offer data to determine which demographic groups respond best to which offer type. This data set is a simplified version of the real Starbucks app because the underlying simulator only has one product whereas Starbucks actually sells dozens of products.\n",
    "\n",
    "Every offer has a validity period before the offer expires. As an example, a BOGO offer might be valid for only 5 days. You'll see in the data set that informational offers have a validity period even though these ads are merely providing information about a product; for example, if an informational offer has 7 days of validity, you can assume the customer is feeling the influence of the offer for 7 days after receiving the advertisement.\n",
    "\n",
    "You'll be given transactional data showing user purchases made on the app including the timestamp of purchase and the amount of money spent on a purchase. This transactional data also has a record for each offer that a user receives as well as a record for when a user actually views the offer. There are also records for when a user completes an offer. \n",
    "\n",
    "Keep in mind as well that someone using the app might make a purchase through the app without having received an offer or seen an offer.\n",
    "\n",
    "### Example\n",
    "\n",
    "To give an example, a user could receive a discount offer buy 10 dollars get 2 off on Monday. The offer is valid for 10 days from receipt. If the customer accumulates at least 10 dollars in purchases during the validity period, the customer completes the offer.\n",
    "\n",
    "However, there are a few things to watch out for in this data set. Customers do not opt into the offers that they receive; in other words, a user can receive an offer, never actually view the offer, and still complete the offer. For example, a user might receive the \"buy 10 dollars get 2 dollars off offer\", but the user never opens the offer during the 10 day validity period. The customer spends 15 dollars during those ten days. There will be an offer completion record in the data set; however, the customer was not influenced by the offer because the customer never viewed the offer.\n",
    "\n",
    "### Cleaning\n",
    "\n",
    "This makes data cleaning especially important and tricky.\n",
    "\n",
    "You'll also want to take into account that some demographic groups will make purchases even if they don't receive an offer. From a business perspective, if a customer is going to make a 10 dollar purchase without an offer anyway, you wouldn't want to send a buy 10 dollars get 2 dollars off offer. You'll want to try to assess what a certain demographic group will buy when not receiving any offers.\n",
    "\n",
    "### Final Advice\n",
    "\n",
    "Because this is a capstone project, you are free to analyze the data any way you see fit. For example, you could build a machine learning model that predicts how much someone will spend based on demographics and offer type. Or you could build a model that predicts whether or not someone will respond to an offer. Or, you don't need to build a machine learning model at all. You could develop a set of heuristics that determine what offer you should send to each customer (i.e., 75 percent of women customers who were 35 years old responded to offer A vs 40 percent from the same demographic to offer B, so send offer A).\n",
    "\n",
    "---"
   ],
   "metadata": {
    "collapsed": false
   }
  },
  {
   "cell_type": "markdown",
   "source": [
    "## Data Sets\n",
    "\n",
    "The data is contained in three files:\n",
    "\n",
    "* portfolio.json - containing offer ids and meta data about each offer (duration, type, etc.)\n",
    "* profile.json - demographic data for each customer\n",
    "* transcript.json - records for transactions, offers received, offers viewed, and offers completed\n",
    "\n",
    "Here is the schema and explanation of each variable in the files:\n",
    "\n",
    "**portfolio.json**\n",
    "* id (string) - offer id\n",
    "* offer_type (string) - type of offer ie BOGO, discount, informational\n",
    "* difficulty (int) - minimum required spend to complete an offer\n",
    "* reward (int) - reward given for completing an offer\n",
    "* duration (int) - time for offer to be open, in days\n",
    "* channels (list of strings)\n",
    "\n",
    "**profile.json**\n",
    "* age (int) - age of the customer \n",
    "* became_member_on (int) - date when customer created an app account\n",
    "* gender (str) - gender of the customer (note some entries contain 'O' for other rather than M or F)\n",
    "* id (str) - customer id\n",
    "* income (float) - customer's income\n",
    "\n",
    "**transcript.json**\n",
    "* event (str) - record description (ie transaction, offer received, offer viewed, etc.)\n",
    "* person (str) - customer id\n",
    "* time (int) - time in hours since start of test. The data begins at time t=0\n",
    "* value - (dict of strings) - either an offer id or transaction amount depending on the record\n",
    "\n",
    "**Note:** If you are using the workspace, you will need to go to the terminal and run the command `conda update pandas` before reading in the files. This is because the version of pandas in the workspace cannot read in the transcript.json file correctly, but the newest version of pandas can. You can access the termnal from the orange icon in the top left of this notebook.  \n",
    "\n",
    "You can see how to access the terminal and how the install works using the two images below.  First you need to access the terminal:\n",
    "\n",
    "<img src=\"pic1.png\"/>\n",
    "\n",
    "Then you will want to run the above command:\n",
    "\n",
    "<img src=\"pic2.png\"/>\n",
    "\n",
    "Finally, when you enter back into the notebook (use the jupyter icon again), you should be able to run the below cell without any errors."
   ],
   "metadata": {
    "collapsed": false
   }
  },
  {
   "cell_type": "code",
   "execution_count": 1,
   "outputs": [],
   "source": [
    "import json\n",
    "import math\n",
    "import numpy as np\n",
    "import pandas as pd\n",
    "\n",
    "import matplotlib.pyplot as plt\n",
    "\n",
    "from sklearn.ensemble import RandomForestClassifier\n",
    "from sklearn.linear_model import Ridge\n",
    "from sklearn.metrics import classification_report, mean_squared_error\n",
    "from sklearn.model_selection import GridSearchCV, train_test_split\n",
    "from sklearn.preprocessing import PolynomialFeatures, StandardScaler\n",
    "from sklearn.tree import DecisionTreeClassifier\n",
    "\n",
    "from time import time\n",
    "\n",
    "%matplotlib inline"
   ],
   "metadata": {
    "collapsed": false,
    "pycharm": {
     "name": "#%%\n"
    }
   }
  },
  {
   "cell_type": "code",
   "execution_count": 2,
   "outputs": [],
   "source": [
    "# read in the json files\n",
    "portfolio = pd.read_json('data/portfolio.json', orient='records', lines=True)\n",
    "profile = pd.read_json('data/profile.json', orient='records', lines=True)\n",
    "transcript = pd.read_json('data/transcript.json', orient='records', lines=True)"
   ],
   "metadata": {
    "collapsed": false,
    "pycharm": {
     "name": "#%%\n"
    }
   }
  },
  {
   "cell_type": "markdown",
   "source": [
    "## Data Exploration\n",
    "\n",
    "### 1. Portfolio\n",
    "\n",
    "#### Basic Infos:"
   ],
   "metadata": {
    "collapsed": false
   }
  },
  {
   "cell_type": "code",
   "execution_count": 3,
   "outputs": [
    {
     "data": {
      "text/plain": "   reward                      channels  difficulty  duration     offer_type  \\\n0      10       [email, mobile, social]          10         7           bogo   \n1      10  [web, email, mobile, social]          10         5           bogo   \n2       0          [web, email, mobile]           0         4  informational   \n3       5          [web, email, mobile]           5         7           bogo   \n4       5                  [web, email]          20        10       discount   \n\n                                 id  \n0  ae264e3637204a6fb9bb56bc8210ddfd  \n1  4d5c57ea9a6940dd891ad53e9dbe8da0  \n2  3f207df678b143eea3cee63160fa8bed  \n3  9b98b8c7a33c4b65b9aebfe6a799e6d9  \n4  0b1e1539f2cc45b7b9fa7c272da2e1d7  ",
      "text/html": "<div>\n<style scoped>\n    .dataframe tbody tr th:only-of-type {\n        vertical-align: middle;\n    }\n\n    .dataframe tbody tr th {\n        vertical-align: top;\n    }\n\n    .dataframe thead th {\n        text-align: right;\n    }\n</style>\n<table border=\"1\" class=\"dataframe\">\n  <thead>\n    <tr style=\"text-align: right;\">\n      <th></th>\n      <th>reward</th>\n      <th>channels</th>\n      <th>difficulty</th>\n      <th>duration</th>\n      <th>offer_type</th>\n      <th>id</th>\n    </tr>\n  </thead>\n  <tbody>\n    <tr>\n      <th>0</th>\n      <td>10</td>\n      <td>[email, mobile, social]</td>\n      <td>10</td>\n      <td>7</td>\n      <td>bogo</td>\n      <td>ae264e3637204a6fb9bb56bc8210ddfd</td>\n    </tr>\n    <tr>\n      <th>1</th>\n      <td>10</td>\n      <td>[web, email, mobile, social]</td>\n      <td>10</td>\n      <td>5</td>\n      <td>bogo</td>\n      <td>4d5c57ea9a6940dd891ad53e9dbe8da0</td>\n    </tr>\n    <tr>\n      <th>2</th>\n      <td>0</td>\n      <td>[web, email, mobile]</td>\n      <td>0</td>\n      <td>4</td>\n      <td>informational</td>\n      <td>3f207df678b143eea3cee63160fa8bed</td>\n    </tr>\n    <tr>\n      <th>3</th>\n      <td>5</td>\n      <td>[web, email, mobile]</td>\n      <td>5</td>\n      <td>7</td>\n      <td>bogo</td>\n      <td>9b98b8c7a33c4b65b9aebfe6a799e6d9</td>\n    </tr>\n    <tr>\n      <th>4</th>\n      <td>5</td>\n      <td>[web, email]</td>\n      <td>20</td>\n      <td>10</td>\n      <td>discount</td>\n      <td>0b1e1539f2cc45b7b9fa7c272da2e1d7</td>\n    </tr>\n  </tbody>\n</table>\n</div>"
     },
     "execution_count": 3,
     "metadata": {},
     "output_type": "execute_result"
    }
   ],
   "source": [
    "portfolio.head()"
   ],
   "metadata": {
    "collapsed": false,
    "pycharm": {
     "name": "#%% \n"
    }
   }
  },
  {
   "cell_type": "code",
   "execution_count": 4,
   "outputs": [
    {
     "name": "stdout",
     "output_type": "stream",
     "text": [
      "The shape of portfolio data is (10, 6)\n",
      "Null values statistics is: \n",
      "reward        0\n",
      "channels      0\n",
      "difficulty    0\n",
      "duration      0\n",
      "offer_type    0\n",
      "id            0\n",
      "dtype: int64\n",
      "There are 10 unique ids.\n"
     ]
    }
   ],
   "source": [
    "print(f'The shape of portfolio data is {portfolio.shape}')\n",
    "print(f'Null values statistics is: \\n{portfolio.isnull().sum()}')\n",
    "print(f'There are {portfolio.id.nunique()} unique ids.')\n"
   ],
   "metadata": {
    "collapsed": false,
    "pycharm": {
     "name": "#%%\n"
    }
   }
  },
  {
   "cell_type": "code",
   "execution_count": 5,
   "outputs": [
    {
     "name": "stdout",
     "output_type": "stream",
     "text": [
      "There are the following offer types: \n",
      " offer_type\n",
      "bogo             4\n",
      "discount         4\n",
      "informational    2\n",
      "Name: id, dtype: int64\n"
     ]
    }
   ],
   "source": [
    "print(f\"There are the following offer types: \\n \"\n",
    "      f\"{portfolio.groupby('offer_type').id.count()}\")"
   ],
   "metadata": {
    "collapsed": false,
    "pycharm": {
     "name": "#%%\n"
    }
   }
  },
  {
   "cell_type": "markdown",
   "source": [
    "### 2. Profiles\n",
    "\n",
    "#### Basic Infos:"
   ],
   "metadata": {
    "collapsed": false
   }
  },
  {
   "cell_type": "code",
   "execution_count": 6,
   "outputs": [
    {
     "data": {
      "text/plain": "  gender  age                                id  became_member_on    income\n0   None  118  68be06ca386d4c31939f3a4f0e3dd783          20170212       NaN\n1      F   55  0610b486422d4921ae7d2bf64640c50b          20170715  112000.0\n2   None  118  38fe809add3b4fcf9315a9694bb96ff5          20180712       NaN\n3      F   75  78afa995795e4d85b5d9ceeca43f5fef          20170509  100000.0\n4   None  118  a03223e636434f42ac4c3df47e8bac43          20170804       NaN",
      "text/html": "<div>\n<style scoped>\n    .dataframe tbody tr th:only-of-type {\n        vertical-align: middle;\n    }\n\n    .dataframe tbody tr th {\n        vertical-align: top;\n    }\n\n    .dataframe thead th {\n        text-align: right;\n    }\n</style>\n<table border=\"1\" class=\"dataframe\">\n  <thead>\n    <tr style=\"text-align: right;\">\n      <th></th>\n      <th>gender</th>\n      <th>age</th>\n      <th>id</th>\n      <th>became_member_on</th>\n      <th>income</th>\n    </tr>\n  </thead>\n  <tbody>\n    <tr>\n      <th>0</th>\n      <td>None</td>\n      <td>118</td>\n      <td>68be06ca386d4c31939f3a4f0e3dd783</td>\n      <td>20170212</td>\n      <td>NaN</td>\n    </tr>\n    <tr>\n      <th>1</th>\n      <td>F</td>\n      <td>55</td>\n      <td>0610b486422d4921ae7d2bf64640c50b</td>\n      <td>20170715</td>\n      <td>112000.0</td>\n    </tr>\n    <tr>\n      <th>2</th>\n      <td>None</td>\n      <td>118</td>\n      <td>38fe809add3b4fcf9315a9694bb96ff5</td>\n      <td>20180712</td>\n      <td>NaN</td>\n    </tr>\n    <tr>\n      <th>3</th>\n      <td>F</td>\n      <td>75</td>\n      <td>78afa995795e4d85b5d9ceeca43f5fef</td>\n      <td>20170509</td>\n      <td>100000.0</td>\n    </tr>\n    <tr>\n      <th>4</th>\n      <td>None</td>\n      <td>118</td>\n      <td>a03223e636434f42ac4c3df47e8bac43</td>\n      <td>20170804</td>\n      <td>NaN</td>\n    </tr>\n  </tbody>\n</table>\n</div>"
     },
     "execution_count": 6,
     "metadata": {},
     "output_type": "execute_result"
    }
   ],
   "source": [
    "profile.head()"
   ],
   "metadata": {
    "collapsed": false,
    "pycharm": {
     "name": "#%%\n"
    }
   }
  },
  {
   "cell_type": "markdown",
   "source": [
    "**NOTE:** from the `head` we can already see that there are missing values in `income` and `gender`, and `118` seems to represent missing ages."
   ],
   "metadata": {
    "collapsed": false
   }
  },
  {
   "cell_type": "code",
   "execution_count": 7,
   "outputs": [
    {
     "name": "stdout",
     "output_type": "stream",
     "text": [
      "The shape of Profile data is (17000, 5)\n",
      "Null values statistics is: \n",
      "gender              2175\n",
      "age                    0\n",
      "id                     0\n",
      "became_member_on       0\n",
      "income              2175\n",
      "dtype: int64\n",
      "There are 17000 unique ids.\n"
     ]
    }
   ],
   "source": [
    "print(f'The shape of Profile data is {profile.shape}')\n",
    "print(f'Null values statistics is: \\n{profile.isnull().sum()}')\n",
    "print(f'There are {profile.id.nunique()} unique ids.')"
   ],
   "metadata": {
    "collapsed": false,
    "pycharm": {
     "name": "#%%\n"
    }
   }
  },
  {
   "cell_type": "code",
   "execution_count": 8,
   "outputs": [],
   "source": [
    "profile_no_age = profile[profile.age==118]"
   ],
   "metadata": {
    "collapsed": false,
    "pycharm": {
     "name": "#%%\n"
    }
   }
  },
  {
   "cell_type": "code",
   "execution_count": 9,
   "outputs": [
    {
     "name": "stdout",
     "output_type": "stream",
     "text": [
      "gender                 0\n",
      "age                 2175\n",
      "id                  2175\n",
      "became_member_on    2175\n",
      "income                 0\n",
      "dtype: int64\n"
     ]
    },
    {
     "data": {
      "text/plain": "  gender  age                                id  became_member_on  income\n0   None  118  68be06ca386d4c31939f3a4f0e3dd783          20170212     NaN\n2   None  118  38fe809add3b4fcf9315a9694bb96ff5          20180712     NaN\n4   None  118  a03223e636434f42ac4c3df47e8bac43          20170804     NaN\n6   None  118  8ec6ce2a7e7949b1bf142def7d0e0586          20170925     NaN\n7   None  118  68617ca6246f4fbc85e91a2a49552598          20171002     NaN",
      "text/html": "<div>\n<style scoped>\n    .dataframe tbody tr th:only-of-type {\n        vertical-align: middle;\n    }\n\n    .dataframe tbody tr th {\n        vertical-align: top;\n    }\n\n    .dataframe thead th {\n        text-align: right;\n    }\n</style>\n<table border=\"1\" class=\"dataframe\">\n  <thead>\n    <tr style=\"text-align: right;\">\n      <th></th>\n      <th>gender</th>\n      <th>age</th>\n      <th>id</th>\n      <th>became_member_on</th>\n      <th>income</th>\n    </tr>\n  </thead>\n  <tbody>\n    <tr>\n      <th>0</th>\n      <td>None</td>\n      <td>118</td>\n      <td>68be06ca386d4c31939f3a4f0e3dd783</td>\n      <td>20170212</td>\n      <td>NaN</td>\n    </tr>\n    <tr>\n      <th>2</th>\n      <td>None</td>\n      <td>118</td>\n      <td>38fe809add3b4fcf9315a9694bb96ff5</td>\n      <td>20180712</td>\n      <td>NaN</td>\n    </tr>\n    <tr>\n      <th>4</th>\n      <td>None</td>\n      <td>118</td>\n      <td>a03223e636434f42ac4c3df47e8bac43</td>\n      <td>20170804</td>\n      <td>NaN</td>\n    </tr>\n    <tr>\n      <th>6</th>\n      <td>None</td>\n      <td>118</td>\n      <td>8ec6ce2a7e7949b1bf142def7d0e0586</td>\n      <td>20170925</td>\n      <td>NaN</td>\n    </tr>\n    <tr>\n      <th>7</th>\n      <td>None</td>\n      <td>118</td>\n      <td>68617ca6246f4fbc85e91a2a49552598</td>\n      <td>20171002</td>\n      <td>NaN</td>\n    </tr>\n  </tbody>\n</table>\n</div>"
     },
     "execution_count": 9,
     "metadata": {},
     "output_type": "execute_result"
    }
   ],
   "source": [
    "print(f'{profile_no_age.count()}')\n",
    "profile_no_age.head()"
   ],
   "metadata": {
    "collapsed": false,
    "pycharm": {
     "name": "#%%\n"
    }
   }
  },
  {
   "cell_type": "markdown",
   "source": [
    "From above we can see that rows without `age` also miss `income` and `gender`, hence, these rows will be dropped in later operations. "
   ],
   "metadata": {
    "collapsed": false
   }
  },
  {
   "cell_type": "markdown",
   "source": [
    "#### Distributions:"
   ],
   "metadata": {
    "collapsed": false
   }
  },
  {
   "cell_type": "code",
   "execution_count": 10,
   "outputs": [
    {
     "name": "stdout",
     "output_type": "stream",
     "text": [
      "The gender distribution is gender\n",
      "F    6129\n",
      "M    8484\n",
      "O     212\n",
      "Name: id, dtype: int64\n"
     ]
    }
   ],
   "source": [
    "print(f\"The gender distribution is {profile.groupby('gender').id.count()}\")"
   ],
   "metadata": {
    "collapsed": false,
    "pycharm": {
     "name": "#%%\n"
    }
   }
  },
  {
   "cell_type": "code",
   "execution_count": 11,
   "outputs": [
    {
     "name": "stdout",
     "output_type": "stream",
     "text": [
      "The Age Histogram\n"
     ]
    },
    {
     "data": {
      "text/plain": "<matplotlib.axes._subplots.AxesSubplot at 0x7f3e72a05450>"
     },
     "execution_count": 11,
     "metadata": {},
     "output_type": "execute_result"
    },
    {
     "data": {
      "text/plain": "<Figure size 432x288 with 1 Axes>",
      "image/png": "[encoded data removed]"
     },
     "metadata": {
      "needs_background": "light"
     },
     "output_type": "display_data"
    }
   ],
   "source": [
    "print('The Age Histogram')\n",
    "profile.age.hist()"
   ],
   "metadata": {
    "collapsed": false,
    "pycharm": {
     "name": "#%%\n"
    }
   }
  },
  {
   "cell_type": "code",
   "execution_count": 12,
   "outputs": [
    {
     "name": "stdout",
     "output_type": "stream",
     "text": [
      "The Income Histogram\n"
     ]
    },
    {
     "data": {
      "text/plain": "<matplotlib.axes._subplots.AxesSubplot at 0x7f3e712661d0>"
     },
     "execution_count": 12,
     "metadata": {},
     "output_type": "execute_result"
    },
    {
     "data": {
      "text/plain": "<Figure size 432x288 with 1 Axes>",
      "image/png": "[encoded data removed]"
     },
     "metadata": {
      "needs_background": "light"
     },
     "output_type": "display_data"
    }
   ],
   "source": [
    "print('The Income Histogram')\n",
    "profile.income.hist()"
   ],
   "metadata": {
    "collapsed": false,
    "pycharm": {
     "name": "#%%\n"
    }
   }
  },
  {
   "cell_type": "markdown",
   "source": [
    "### 3. Transcript\n",
    "\n",
    "#### Basic Infos:"
   ],
   "metadata": {
    "collapsed": false
   }
  },
  {
   "cell_type": "code",
   "execution_count": 13,
   "outputs": [
    {
     "data": {
      "text/plain": "                             person           event  \\\n0  78afa995795e4d85b5d9ceeca43f5fef  offer received   \n1  a03223e636434f42ac4c3df47e8bac43  offer received   \n2  e2127556f4f64592b11af22de27a7932  offer received   \n3  8ec6ce2a7e7949b1bf142def7d0e0586  offer received   \n4  68617ca6246f4fbc85e91a2a49552598  offer received   \n\n                                              value  time  \n0  {'offer id': '9b98b8c7a33c4b65b9aebfe6a799e6d9'}     0  \n1  {'offer id': '0b1e1539f2cc45b7b9fa7c272da2e1d7'}     0  \n2  {'offer id': '2906b810c7d4411798c6938adc9daaa5'}     0  \n3  {'offer id': 'fafdcd668e3743c1bb461111dcafc2a4'}     0  \n4  {'offer id': '4d5c57ea9a6940dd891ad53e9dbe8da0'}     0  ",
      "text/html": "<div>\n<style scoped>\n    .dataframe tbody tr th:only-of-type {\n        vertical-align: middle;\n    }\n\n    .dataframe tbody tr th {\n        vertical-align: top;\n    }\n\n    .dataframe thead th {\n        text-align: right;\n    }\n</style>\n<table border=\"1\" class=\"dataframe\">\n  <thead>\n    <tr style=\"text-align: right;\">\n      <th></th>\n      <th>person</th>\n      <th>event</th>\n      <th>value</th>\n      <th>time</th>\n    </tr>\n  </thead>\n  <tbody>\n    <tr>\n      <th>0</th>\n      <td>78afa995795e4d85b5d9ceeca43f5fef</td>\n      <td>offer received</td>\n      <td>{'offer id': '9b98b8c7a33c4b65b9aebfe6a799e6d9'}</td>\n      <td>0</td>\n    </tr>\n    <tr>\n      <th>1</th>\n      <td>a03223e636434f42ac4c3df47e8bac43</td>\n      <td>offer received</td>\n      <td>{'offer id': '0b1e1539f2cc45b7b9fa7c272da2e1d7'}</td>\n      <td>0</td>\n    </tr>\n    <tr>\n      <th>2</th>\n      <td>e2127556f4f64592b11af22de27a7932</td>\n      <td>offer received</td>\n      <td>{'offer id': '2906b810c7d4411798c6938adc9daaa5'}</td>\n      <td>0</td>\n    </tr>\n    <tr>\n      <th>3</th>\n      <td>8ec6ce2a7e7949b1bf142def7d0e0586</td>\n      <td>offer received</td>\n      <td>{'offer id': 'fafdcd668e3743c1bb461111dcafc2a4'}</td>\n      <td>0</td>\n    </tr>\n    <tr>\n      <th>4</th>\n      <td>68617ca6246f4fbc85e91a2a49552598</td>\n      <td>offer received</td>\n      <td>{'offer id': '4d5c57ea9a6940dd891ad53e9dbe8da0'}</td>\n      <td>0</td>\n    </tr>\n  </tbody>\n</table>\n</div>"
     },
     "execution_count": 13,
     "metadata": {},
     "output_type": "execute_result"
    }
   ],
   "source": [
    "transcript.head()"
   ],
   "metadata": {
    "collapsed": false,
    "pycharm": {
     "name": "#%%\n"
    }
   }
  },
  {
   "cell_type": "code",
   "execution_count": 14,
   "outputs": [
    {
     "name": "stdout",
     "output_type": "stream",
     "text": [
      "The shape of Transcript data is (306534, 4)\n",
      "Null values statistics is: \n",
      "person    0\n",
      "event     0\n",
      "value     0\n",
      "time      0\n",
      "dtype: int64\n",
      "There are 17000 unique ids.\n"
     ]
    }
   ],
   "source": [
    "print(f'The shape of Transcript data is {transcript.shape}')\n",
    "print(f'Null values statistics is: \\n{transcript.isnull().sum()}')\n",
    "print(f'There are {transcript.person.nunique()} unique ids.')"
   ],
   "metadata": {
    "collapsed": false,
    "pycharm": {
     "name": "#%%\n"
    }
   }
  },
  {
   "cell_type": "markdown",
   "source": [
    "#### Distributions"
   ],
   "metadata": {
    "collapsed": false
   }
  },
  {
   "cell_type": "code",
   "execution_count": 15,
   "outputs": [
    {
     "name": "stdout",
     "output_type": "stream",
     "text": [
      "Event Distribution:\n",
      "event\n",
      "offer completed     33579\n",
      "offer received      76277\n",
      "offer viewed        57725\n",
      "transaction        138953\n",
      "Name: person, dtype: int64\n"
     ]
    }
   ],
   "source": [
    "print(f\"Event Distribution:\\n{transcript.groupby('event').person.count()}\")"
   ],
   "metadata": {
    "collapsed": false,
    "pycharm": {
     "name": "#%%\n"
    }
   }
  },
  {
   "cell_type": "markdown",
   "source": [
    "We need to extract information from the `value` column for further exploration."
   ],
   "metadata": {
    "collapsed": false
   }
  },
  {
   "cell_type": "code",
   "execution_count": 16,
   "outputs": [],
   "source": [
    "transcript = pd.concat([transcript, transcript['value'].apply(pd.Series)], \n",
    "                       axis=1)\n",
    "\n",
    "transcript['clean_id'] = np.where(transcript['offer id'].isnull() & \n",
    "                                  transcript['offer_id'].notnull(), \n",
    "                                  transcript['offer_id'],transcript['offer id'])\n",
    "\n",
    "# drop the original id columns\n",
    "transcript.drop(['offer id', 'offer_id'], axis=1, inplace=True)\n",
    "\n",
    "# rename the offer_id column\n",
    "transcript.rename(columns={'clean_id': 'offer_id'}, inplace=True)"
   ],
   "metadata": {
    "collapsed": false,
    "pycharm": {
     "name": "#%%\n"
    }
   }
  },
  {
   "cell_type": "code",
   "execution_count": 17,
   "outputs": [
    {
     "name": "stdout",
     "output_type": "stream",
     "text": [
      "There are 10 unique offers\n"
     ]
    }
   ],
   "source": [
    "print(f'There are {transcript.offer_id.nunique()} unique offers')"
   ],
   "metadata": {
    "collapsed": false,
    "pycharm": {
     "name": "#%%\n"
    }
   }
  },
  {
   "cell_type": "markdown",
   "source": [
    "---\n",
    "\n",
    "## Preprocessing\n",
    "\n",
    "### 1. Merge `portfolio` and `transcript`\n",
    "\n",
    "To find out the connection between transaction and offer, we need to combine the information in `portfolio` and `transcript`, and then create subsets of different offer-event combination for later feature engineering and modeling."
   ],
   "metadata": {
    "collapsed": false
   }
  },
  {
   "cell_type": "code",
   "execution_count": 18,
   "outputs": [
    {
     "data": {
      "text/plain": "event            offer_type   \noffer completed  bogo             15669\n                 discount         17910\noffer received   bogo             30499\n                 discount         30543\n                 informational    15235\noffer viewed     bogo             25449\n                 discount         21445\n                 informational    10831\nName: offer_type, dtype: int64"
     },
     "execution_count": 18,
     "metadata": {},
     "output_type": "execute_result"
    }
   ],
   "source": [
    "transcript = transcript.merge(portfolio,\n",
    "                              how='left',\n",
    "                              left_on='offer_id',\n",
    "                              right_on='id')\n",
    "\n",
    "print(f\"This is the Event Distribution:\\n\"\n",
    "      f\"{transcript.groupby(['event', 'offer_type'])['offer_type'].count()}\")\n"
   ],
   "metadata": {
    "collapsed": false,
    "pycharm": {
     "name": "#%%\n"
    }
   }
  },
  {
   "cell_type": "markdown",
   "source": [
    "### 2. Subset by Categories\n",
    "\n",
    "Typically, we have the following customer behaviours:\n",
    "\n",
    "    1. make the transaction after receiving and viewing the offer\n",
    "\n",
    "    2. viewing the offer and make no transaction\n",
    "\n",
    "    3. make the transaction without receiving or viewing the offer\n",
    "\n",
    "As for offer types, we can see from above that `offer_id` is not directly linked to `transaction` events, hence, we need to establish these links.\n",
    "\n",
    "For `bogo` and `discount` offer, they have an obvious consequence of offer received, viewed, transaction and hence the offer completes.\n",
    "\n",
    "However, for the `information` offer, there's no reward step for the easy links to transactions, we need a work around.\n",
    "\n",
    "#### 2.1 `bogo` and `discount`\n",
    "\n",
    "##### 2.1.1 Responsive Customers\n",
    "\n",
    "Only the first kind of customers are regarded as responsive.\n",
    "\n",
    "Before flagging any data, we need to reorganize the data first."
   ],
   "metadata": {
    "collapsed": false
   }
  },
  {
   "cell_type": "code",
   "execution_count": null,
   "outputs": [],
   "source": [
    "# drop the dummy columns created by `merge`\n",
    "transcript_processed = pd.DataFrame(transcript)\n",
    "\n",
    "transcript_processed = transcript_processed.drop(columns=['reward_x',\n",
    "                                                          'reward_y'],\n",
    "                                                 axis=1,inplace=False)\n",
    "\n",
    "# sort the events by person and time\n",
    "transcript_processed = transcript_processed.sort_values(['person','time'])\n",
    "transcript_processed.head(10)"
   ],
   "metadata": {
    "collapsed": false,
    "pycharm": {
     "name": "#%%\n"
    }
   }
  },
  {
   "cell_type": "code",
   "execution_count": 21,
   "outputs": [],
   "source": [
    "offer_completed = transcript_processed[['time','offer_id','person','event']] \\\n",
    "                                      [(transcript_processed['event']== \\\n",
    "                                            'transaction') |\n",
    "                                       (transcript_processed['event']==\n",
    "                                            'offer viewed')]\n",
    "\n",
    "offer_completed['offer_id'] = offer_completed['offer_id'].ffill()"
   ],
   "metadata": {
    "collapsed": false,
    "pycharm": {
     "name": "#%%\n"
    }
   }
  },
  {
   "cell_type": "code",
   "execution_count": 22,
   "outputs": [
    {
     "data": {
      "text/plain": "                             person           event  \\\n0  0009655768c64bdeb2e877511632db8f  offer received   \n1  0009655768c64bdeb2e877511632db8f    offer viewed   \n2  0009655768c64bdeb2e877511632db8f     transaction   \n3  0009655768c64bdeb2e877511632db8f  offer received   \n4  0009655768c64bdeb2e877511632db8f    offer viewed   \n\n                                              value  time  amount  \\\n0  {'offer id': '5a8bc65990b245e5a138643cd4eb9837'}   168     NaN   \n1  {'offer id': '5a8bc65990b245e5a138643cd4eb9837'}   192     NaN   \n2                                 {'amount': 22.16}   228   22.16   \n3  {'offer id': '3f207df678b143eea3cee63160fa8bed'}   336     NaN   \n4  {'offer id': '3f207df678b143eea3cee63160fa8bed'}   372     NaN   \n\n                         offer_id_x                 channels  difficulty  \\\n0  5a8bc65990b245e5a138643cd4eb9837  [email, mobile, social]         0.0   \n1  5a8bc65990b245e5a138643cd4eb9837  [email, mobile, social]         0.0   \n2                               NaN                      NaN         NaN   \n3  3f207df678b143eea3cee63160fa8bed     [web, email, mobile]         0.0   \n4  3f207df678b143eea3cee63160fa8bed     [web, email, mobile]         0.0   \n\n   duration     offer_type                                id  \\\n0       3.0  informational  5a8bc65990b245e5a138643cd4eb9837   \n1       3.0  informational  5a8bc65990b245e5a138643cd4eb9837   \n2       NaN            NaN                               NaN   \n3       4.0  informational  3f207df678b143eea3cee63160fa8bed   \n4       4.0  informational  3f207df678b143eea3cee63160fa8bed   \n\n                         offer_id_y  \n0                               NaN  \n1  5a8bc65990b245e5a138643cd4eb9837  \n2  5a8bc65990b245e5a138643cd4eb9837  \n3                               NaN  \n4  3f207df678b143eea3cee63160fa8bed  ",
      "text/html": "<div>\n<style scoped>\n    .dataframe tbody tr th:only-of-type {\n        vertical-align: middle;\n    }\n\n    .dataframe tbody tr th {\n        vertical-align: top;\n    }\n\n    .dataframe thead th {\n        text-align: right;\n    }\n</style>\n<table border=\"1\" class=\"dataframe\">\n  <thead>\n    <tr style=\"text-align: right;\">\n      <th></th>\n      <th>person</th>\n      <th>event</th>\n      <th>value</th>\n      <th>time</th>\n      <th>amount</th>\n      <th>offer_id_x</th>\n      <th>channels</th>\n      <th>difficulty</th>\n      <th>duration</th>\n      <th>offer_type</th>\n      <th>id</th>\n      <th>offer_id_y</th>\n    </tr>\n  </thead>\n  <tbody>\n    <tr>\n      <th>0</th>\n      <td>0009655768c64bdeb2e877511632db8f</td>\n      <td>offer received</td>\n      <td>{'offer id': '5a8bc65990b245e5a138643cd4eb9837'}</td>\n      <td>168</td>\n      <td>NaN</td>\n      <td>5a8bc65990b245e5a138643cd4eb9837</td>\n      <td>[email, mobile, social]</td>\n      <td>0.0</td>\n      <td>3.0</td>\n      <td>informational</td>\n      <td>5a8bc65990b245e5a138643cd4eb9837</td>\n      <td>NaN</td>\n    </tr>\n    <tr>\n      <th>1</th>\n      <td>0009655768c64bdeb2e877511632db8f</td>\n      <td>offer viewed</td>\n      <td>{'offer id': '5a8bc65990b245e5a138643cd4eb9837'}</td>\n      <td>192</td>\n      <td>NaN</td>\n      <td>5a8bc65990b245e5a138643cd4eb9837</td>\n      <td>[email, mobile, social]</td>\n      <td>0.0</td>\n      <td>3.0</td>\n      <td>informational</td>\n      <td>5a8bc65990b245e5a138643cd4eb9837</td>\n      <td>5a8bc65990b245e5a138643cd4eb9837</td>\n    </tr>\n    <tr>\n      <th>2</th>\n      <td>0009655768c64bdeb2e877511632db8f</td>\n      <td>transaction</td>\n      <td>{'amount': 22.16}</td>\n      <td>228</td>\n      <td>22.16</td>\n      <td>NaN</td>\n      <td>NaN</td>\n      <td>NaN</td>\n      <td>NaN</td>\n      <td>NaN</td>\n      <td>NaN</td>\n      <td>5a8bc65990b245e5a138643cd4eb9837</td>\n    </tr>\n    <tr>\n      <th>3</th>\n      <td>0009655768c64bdeb2e877511632db8f</td>\n      <td>offer received</td>\n      <td>{'offer id': '3f207df678b143eea3cee63160fa8bed'}</td>\n      <td>336</td>\n      <td>NaN</td>\n      <td>3f207df678b143eea3cee63160fa8bed</td>\n      <td>[web, email, mobile]</td>\n      <td>0.0</td>\n      <td>4.0</td>\n      <td>informational</td>\n      <td>3f207df678b143eea3cee63160fa8bed</td>\n      <td>NaN</td>\n    </tr>\n    <tr>\n      <th>4</th>\n      <td>0009655768c64bdeb2e877511632db8f</td>\n      <td>offer viewed</td>\n      <td>{'offer id': '3f207df678b143eea3cee63160fa8bed'}</td>\n      <td>372</td>\n      <td>NaN</td>\n      <td>3f207df678b143eea3cee63160fa8bed</td>\n      <td>[web, email, mobile]</td>\n      <td>0.0</td>\n      <td>4.0</td>\n      <td>informational</td>\n      <td>3f207df678b143eea3cee63160fa8bed</td>\n      <td>3f207df678b143eea3cee63160fa8bed</td>\n    </tr>\n  </tbody>\n</table>\n</div>"
     },
     "execution_count": 22,
     "metadata": {},
     "output_type": "execute_result"
    }
   ],
   "source": [
    "# create the complete whole dataset for filtered data\n",
    "transcript_processed = transcript_processed.merge(offer_completed,\n",
    "                                                  how='left',\n",
    "                                                  on=['person','time','event'])\n",
    "\n",
    "# drop the dummy columns created by `merge`\n",
    "transcript_processed['offer_id'] = np.where(transcript_processed['offer_id_x'] \\\n",
    "                                                .isnull(),\n",
    "                                            transcript_processed['offer_id_y'],\n",
    "                                            transcript_processed['offer_id_x'])\n",
    "\n",
    "transcript_processed.drop(columns=['offer_id_x','offer_id_y'],\n",
    "                          axis=1, inplace=True)"
   ],
   "metadata": {
    "collapsed": false,
    "pycharm": {
     "name": "#%%\n"
    }
   }
  },
  {
   "cell_type": "code",
   "execution_count": 24,
   "outputs": [
    {
     "data": {
      "text/plain": "                             person           event  \\\n0  0009655768c64bdeb2e877511632db8f  offer received   \n1  0009655768c64bdeb2e877511632db8f    offer viewed   \n2  0009655768c64bdeb2e877511632db8f     transaction   \n3  0009655768c64bdeb2e877511632db8f  offer received   \n4  0009655768c64bdeb2e877511632db8f    offer viewed   \n\n                                              value  time  amount  \\\n0  {'offer id': '5a8bc65990b245e5a138643cd4eb9837'}   168     NaN   \n1  {'offer id': '5a8bc65990b245e5a138643cd4eb9837'}   192     NaN   \n2                                 {'amount': 22.16}   228   22.16   \n3  {'offer id': '3f207df678b143eea3cee63160fa8bed'}   336     NaN   \n4  {'offer id': '3f207df678b143eea3cee63160fa8bed'}   372     NaN   \n\n                  channels  difficulty  duration     offer_type  \\\n0  [email, mobile, social]         0.0       3.0  informational   \n1  [email, mobile, social]         0.0       3.0  informational   \n2                      NaN         NaN       NaN            NaN   \n3     [web, email, mobile]         0.0       4.0  informational   \n4     [web, email, mobile]         0.0       4.0  informational   \n\n                                 id                          offer_id  \n0  5a8bc65990b245e5a138643cd4eb9837  5a8bc65990b245e5a138643cd4eb9837  \n1  5a8bc65990b245e5a138643cd4eb9837  5a8bc65990b245e5a138643cd4eb9837  \n2                               NaN  5a8bc65990b245e5a138643cd4eb9837  \n3  3f207df678b143eea3cee63160fa8bed  3f207df678b143eea3cee63160fa8bed  \n4  3f207df678b143eea3cee63160fa8bed  3f207df678b143eea3cee63160fa8bed  ",
      "text/html": "<div>\n<style scoped>\n    .dataframe tbody tr th:only-of-type {\n        vertical-align: middle;\n    }\n\n    .dataframe tbody tr th {\n        vertical-align: top;\n    }\n\n    .dataframe thead th {\n        text-align: right;\n    }\n</style>\n<table border=\"1\" class=\"dataframe\">\n  <thead>\n    <tr style=\"text-align: right;\">\n      <th></th>\n      <th>person</th>\n      <th>event</th>\n      <th>value</th>\n      <th>time</th>\n      <th>amount</th>\n      <th>channels</th>\n      <th>difficulty</th>\n      <th>duration</th>\n      <th>offer_type</th>\n      <th>id</th>\n      <th>offer_id</th>\n    </tr>\n  </thead>\n  <tbody>\n    <tr>\n      <th>0</th>\n      <td>0009655768c64bdeb2e877511632db8f</td>\n      <td>offer received</td>\n      <td>{'offer id': '5a8bc65990b245e5a138643cd4eb9837'}</td>\n      <td>168</td>\n      <td>NaN</td>\n      <td>[email, mobile, social]</td>\n      <td>0.0</td>\n      <td>3.0</td>\n      <td>informational</td>\n      <td>5a8bc65990b245e5a138643cd4eb9837</td>\n      <td>5a8bc65990b245e5a138643cd4eb9837</td>\n    </tr>\n    <tr>\n      <th>1</th>\n      <td>0009655768c64bdeb2e877511632db8f</td>\n      <td>offer viewed</td>\n      <td>{'offer id': '5a8bc65990b245e5a138643cd4eb9837'}</td>\n      <td>192</td>\n      <td>NaN</td>\n      <td>[email, mobile, social]</td>\n      <td>0.0</td>\n      <td>3.0</td>\n      <td>informational</td>\n      <td>5a8bc65990b245e5a138643cd4eb9837</td>\n      <td>5a8bc65990b245e5a138643cd4eb9837</td>\n    </tr>\n    <tr>\n      <th>2</th>\n      <td>0009655768c64bdeb2e877511632db8f</td>\n      <td>transaction</td>\n      <td>{'amount': 22.16}</td>\n      <td>228</td>\n      <td>22.16</td>\n      <td>NaN</td>\n      <td>NaN</td>\n      <td>NaN</td>\n      <td>NaN</td>\n      <td>NaN</td>\n      <td>5a8bc65990b245e5a138643cd4eb9837</td>\n    </tr>\n    <tr>\n      <th>3</th>\n      <td>0009655768c64bdeb2e877511632db8f</td>\n      <td>offer received</td>\n      <td>{'offer id': '3f207df678b143eea3cee63160fa8bed'}</td>\n      <td>336</td>\n      <td>NaN</td>\n      <td>[web, email, mobile]</td>\n      <td>0.0</td>\n      <td>4.0</td>\n      <td>informational</td>\n      <td>3f207df678b143eea3cee63160fa8bed</td>\n      <td>3f207df678b143eea3cee63160fa8bed</td>\n    </tr>\n    <tr>\n      <th>4</th>\n      <td>0009655768c64bdeb2e877511632db8f</td>\n      <td>offer viewed</td>\n      <td>{'offer id': '3f207df678b143eea3cee63160fa8bed'}</td>\n      <td>372</td>\n      <td>NaN</td>\n      <td>[web, email, mobile]</td>\n      <td>0.0</td>\n      <td>4.0</td>\n      <td>informational</td>\n      <td>3f207df678b143eea3cee63160fa8bed</td>\n      <td>3f207df678b143eea3cee63160fa8bed</td>\n    </tr>\n  </tbody>\n</table>\n</div>"
     },
     "execution_count": 24,
     "metadata": {},
     "output_type": "execute_result"
    }
   ],
   "source": [
    "transcript_processed.head()"
   ],
   "metadata": {
    "collapsed": false,
    "pycharm": {
     "name": "#%%\n"
    }
   }
  },
  {
   "cell_type": "code",
   "execution_count": 25,
   "outputs": [],
   "source": [
    "transcript_processed = transcript_processed.merge(portfolio,\n",
    "                                                  how = 'left',\n",
    "                                                  left_on='offer_id',\n",
    "                                                  right_on='id')\n",
    "\n",
    "transcript_processed['duration'] = np.where(transcript_processed['duration_x'] \\\n",
    "                                                .isnull(),\n",
    "                                            transcript_processed['duration_y'],\n",
    "                                            transcript_processed['duration_x'])\n",
    "\n",
    "# drop the dummy columns created by `merge`\n",
    "transcript_processed.drop(columns=['duration_x','offer_type_x',\n",
    "                                   'difficulty_x','channels_x','duration_y'],\n",
    "                         axis=1, inplace=True)\n",
    "\n",
    "transcript_processed.rename(columns={'channels_y':'channels',\n",
    "                                     'reward_y':'reward',\n",
    "                                     'difficulty_y':'difficulty',\n",
    "                                     'offer_type_y':'offer_type'},\n",
    "                            inplace=True)"
   ],
   "metadata": {
    "collapsed": false,
    "pycharm": {
     "name": "#%%\n"
    }
   }
  },
  {
   "cell_type": "code",
   "execution_count": 26,
   "outputs": [
    {
     "data": {
      "text/plain": "                             person           event  \\\n0  0009655768c64bdeb2e877511632db8f  offer received   \n1  0009655768c64bdeb2e877511632db8f    offer viewed   \n2  0009655768c64bdeb2e877511632db8f     transaction   \n3  0009655768c64bdeb2e877511632db8f  offer received   \n4  0009655768c64bdeb2e877511632db8f    offer viewed   \n\n                                              value  time  amount  \\\n0  {'offer id': '5a8bc65990b245e5a138643cd4eb9837'}   168     NaN   \n1  {'offer id': '5a8bc65990b245e5a138643cd4eb9837'}   192     NaN   \n2                                 {'amount': 22.16}   228   22.16   \n3  {'offer id': '3f207df678b143eea3cee63160fa8bed'}   336     NaN   \n4  {'offer id': '3f207df678b143eea3cee63160fa8bed'}   372     NaN   \n\n                               id_x                          offer_id  reward  \\\n0  5a8bc65990b245e5a138643cd4eb9837  5a8bc65990b245e5a138643cd4eb9837       0   \n1  5a8bc65990b245e5a138643cd4eb9837  5a8bc65990b245e5a138643cd4eb9837       0   \n2                               NaN  5a8bc65990b245e5a138643cd4eb9837       0   \n3  3f207df678b143eea3cee63160fa8bed  3f207df678b143eea3cee63160fa8bed       0   \n4  3f207df678b143eea3cee63160fa8bed  3f207df678b143eea3cee63160fa8bed       0   \n\n                  channels  difficulty     offer_type  \\\n0  [email, mobile, social]           0  informational   \n1  [email, mobile, social]           0  informational   \n2  [email, mobile, social]           0  informational   \n3     [web, email, mobile]           0  informational   \n4     [web, email, mobile]           0  informational   \n\n                               id_y  duration  \n0  5a8bc65990b245e5a138643cd4eb9837       3.0  \n1  5a8bc65990b245e5a138643cd4eb9837       3.0  \n2  5a8bc65990b245e5a138643cd4eb9837       3.0  \n3  3f207df678b143eea3cee63160fa8bed       4.0  \n4  3f207df678b143eea3cee63160fa8bed       4.0  ",
      "text/html": "<div>\n<style scoped>\n    .dataframe tbody tr th:only-of-type {\n        vertical-align: middle;\n    }\n\n    .dataframe tbody tr th {\n        vertical-align: top;\n    }\n\n    .dataframe thead th {\n        text-align: right;\n    }\n</style>\n<table border=\"1\" class=\"dataframe\">\n  <thead>\n    <tr style=\"text-align: right;\">\n      <th></th>\n      <th>person</th>\n      <th>event</th>\n      <th>value</th>\n      <th>time</th>\n      <th>amount</th>\n      <th>id_x</th>\n      <th>offer_id</th>\n      <th>reward</th>\n      <th>channels</th>\n      <th>difficulty</th>\n      <th>offer_type</th>\n      <th>id_y</th>\n      <th>duration</th>\n    </tr>\n  </thead>\n  <tbody>\n    <tr>\n      <th>0</th>\n      <td>0009655768c64bdeb2e877511632db8f</td>\n      <td>offer received</td>\n      <td>{'offer id': '5a8bc65990b245e5a138643cd4eb9837'}</td>\n      <td>168</td>\n      <td>NaN</td>\n      <td>5a8bc65990b245e5a138643cd4eb9837</td>\n      <td>5a8bc65990b245e5a138643cd4eb9837</td>\n      <td>0</td>\n      <td>[email, mobile, social]</td>\n      <td>0</td>\n      <td>informational</td>\n      <td>5a8bc65990b245e5a138643cd4eb9837</td>\n      <td>3.0</td>\n    </tr>\n    <tr>\n      <th>1</th>\n      <td>0009655768c64bdeb2e877511632db8f</td>\n      <td>offer viewed</td>\n      <td>{'offer id': '5a8bc65990b245e5a138643cd4eb9837'}</td>\n      <td>192</td>\n      <td>NaN</td>\n      <td>5a8bc65990b245e5a138643cd4eb9837</td>\n      <td>5a8bc65990b245e5a138643cd4eb9837</td>\n      <td>0</td>\n      <td>[email, mobile, social]</td>\n      <td>0</td>\n      <td>informational</td>\n      <td>5a8bc65990b245e5a138643cd4eb9837</td>\n      <td>3.0</td>\n    </tr>\n    <tr>\n      <th>2</th>\n      <td>0009655768c64bdeb2e877511632db8f</td>\n      <td>transaction</td>\n      <td>{'amount': 22.16}</td>\n      <td>228</td>\n      <td>22.16</td>\n      <td>NaN</td>\n      <td>5a8bc65990b245e5a138643cd4eb9837</td>\n      <td>0</td>\n      <td>[email, mobile, social]</td>\n      <td>0</td>\n      <td>informational</td>\n      <td>5a8bc65990b245e5a138643cd4eb9837</td>\n      <td>3.0</td>\n    </tr>\n    <tr>\n      <th>3</th>\n      <td>0009655768c64bdeb2e877511632db8f</td>\n      <td>offer received</td>\n      <td>{'offer id': '3f207df678b143eea3cee63160fa8bed'}</td>\n      <td>336</td>\n      <td>NaN</td>\n      <td>3f207df678b143eea3cee63160fa8bed</td>\n      <td>3f207df678b143eea3cee63160fa8bed</td>\n      <td>0</td>\n      <td>[web, email, mobile]</td>\n      <td>0</td>\n      <td>informational</td>\n      <td>3f207df678b143eea3cee63160fa8bed</td>\n      <td>4.0</td>\n    </tr>\n    <tr>\n      <th>4</th>\n      <td>0009655768c64bdeb2e877511632db8f</td>\n      <td>offer viewed</td>\n      <td>{'offer id': '3f207df678b143eea3cee63160fa8bed'}</td>\n      <td>372</td>\n      <td>NaN</td>\n      <td>3f207df678b143eea3cee63160fa8bed</td>\n      <td>3f207df678b143eea3cee63160fa8bed</td>\n      <td>0</td>\n      <td>[web, email, mobile]</td>\n      <td>0</td>\n      <td>informational</td>\n      <td>3f207df678b143eea3cee63160fa8bed</td>\n      <td>4.0</td>\n    </tr>\n  </tbody>\n</table>\n</div>"
     },
     "execution_count": 26,
     "metadata": {},
     "output_type": "execute_result"
    }
   ],
   "source": [
    "transcript_processed.head()"
   ],
   "metadata": {
    "collapsed": false,
    "pycharm": {
     "name": "#%%\n"
    }
   }
  },
  {
   "cell_type": "markdown",
   "source": [
    "Now we can extract the transactions which were completed after receiving and viewing, by checking if the `offer_id` is the same before and after the transaction."
   ],
   "metadata": {
    "collapsed": false
   }
  },
  {
   "cell_type": "code",
   "execution_count": 27,
   "outputs": [],
   "source": [
    "# subsets of only viewed, transaction, and offer completed events\n",
    "transactions_after_viewed = \\\n",
    "    transcript_processed[(transcript_processed['event']=='offer viewed')|\n",
    "                         (transcript_processed['event']=='transaction')|\n",
    "                         (transcript_processed['event']=='offer completed')]\\\n",
    "                             .copy()\n",
    "\n",
    "# add pre-transaction offer_id\n",
    "transactions_after_viewed['pre_offer_id'] = \\\n",
    "    transactions_after_viewed.groupby(['person', 'offer_id'])\\\n",
    "        ['offer_id'].shift()\n",
    "\n",
    "# create flag for responded offer\n",
    "transactions_after_viewed['completed_offer'] = \\\n",
    "    np.where(transactions_after_viewed['pre_offer_id']== \\\n",
    "        transactions_after_viewed['offer_id'], 1, 0)"
   ],
   "metadata": {
    "collapsed": false,
    "pycharm": {
     "name": "#%%\n"
    }
   }
  },
  {
   "cell_type": "code",
   "execution_count": 28,
   "outputs": [
    {
     "data": {
      "text/plain": "                             person            event  \\\n1  0009655768c64bdeb2e877511632db8f     offer viewed   \n2  0009655768c64bdeb2e877511632db8f      transaction   \n4  0009655768c64bdeb2e877511632db8f     offer viewed   \n6  0009655768c64bdeb2e877511632db8f      transaction   \n7  0009655768c64bdeb2e877511632db8f  offer completed   \n\n                                               value  time  amount  \\\n1   {'offer id': '5a8bc65990b245e5a138643cd4eb9837'}   192     NaN   \n2                                  {'amount': 22.16}   228   22.16   \n4   {'offer id': '3f207df678b143eea3cee63160fa8bed'}   372     NaN   \n6                                   {'amount': 8.57}   414    8.57   \n7  {'offer_id': 'f19421c1d4aa40978ebb69ca19b0e20d...   414     NaN   \n\n                               id_x                          offer_id  reward  \\\n1  5a8bc65990b245e5a138643cd4eb9837  5a8bc65990b245e5a138643cd4eb9837       0   \n2                               NaN  5a8bc65990b245e5a138643cd4eb9837       0   \n4  3f207df678b143eea3cee63160fa8bed  3f207df678b143eea3cee63160fa8bed       0   \n6                               NaN  3f207df678b143eea3cee63160fa8bed       0   \n7  f19421c1d4aa40978ebb69ca19b0e20d  f19421c1d4aa40978ebb69ca19b0e20d       5   \n\n                       channels  difficulty     offer_type  \\\n1       [email, mobile, social]           0  informational   \n2       [email, mobile, social]           0  informational   \n4          [web, email, mobile]           0  informational   \n6          [web, email, mobile]           0  informational   \n7  [web, email, mobile, social]           5           bogo   \n\n                               id_y  duration  \\\n1  5a8bc65990b245e5a138643cd4eb9837       3.0   \n2  5a8bc65990b245e5a138643cd4eb9837       3.0   \n4  3f207df678b143eea3cee63160fa8bed       4.0   \n6  3f207df678b143eea3cee63160fa8bed       4.0   \n7  f19421c1d4aa40978ebb69ca19b0e20d       5.0   \n\n                       pre_offer_id  completed_offer  \n1                               NaN                0  \n2  5a8bc65990b245e5a138643cd4eb9837                1  \n4                               NaN                0  \n6  3f207df678b143eea3cee63160fa8bed                1  \n7                               NaN                0  ",
      "text/html": "<div>\n<style scoped>\n    .dataframe tbody tr th:only-of-type {\n        vertical-align: middle;\n    }\n\n    .dataframe tbody tr th {\n        vertical-align: top;\n    }\n\n    .dataframe thead th {\n        text-align: right;\n    }\n</style>\n<table border=\"1\" class=\"dataframe\">\n  <thead>\n    <tr style=\"text-align: right;\">\n      <th></th>\n      <th>person</th>\n      <th>event</th>\n      <th>value</th>\n      <th>time</th>\n      <th>amount</th>\n      <th>id_x</th>\n      <th>offer_id</th>\n      <th>reward</th>\n      <th>channels</th>\n      <th>difficulty</th>\n      <th>offer_type</th>\n      <th>id_y</th>\n      <th>duration</th>\n      <th>pre_offer_id</th>\n      <th>completed_offer</th>\n    </tr>\n  </thead>\n  <tbody>\n    <tr>\n      <th>1</th>\n      <td>0009655768c64bdeb2e877511632db8f</td>\n      <td>offer viewed</td>\n      <td>{'offer id': '5a8bc65990b245e5a138643cd4eb9837'}</td>\n      <td>192</td>\n      <td>NaN</td>\n      <td>5a8bc65990b245e5a138643cd4eb9837</td>\n      <td>5a8bc65990b245e5a138643cd4eb9837</td>\n      <td>0</td>\n      <td>[email, mobile, social]</td>\n      <td>0</td>\n      <td>informational</td>\n      <td>5a8bc65990b245e5a138643cd4eb9837</td>\n      <td>3.0</td>\n      <td>NaN</td>\n      <td>0</td>\n    </tr>\n    <tr>\n      <th>2</th>\n      <td>0009655768c64bdeb2e877511632db8f</td>\n      <td>transaction</td>\n      <td>{'amount': 22.16}</td>\n      <td>228</td>\n      <td>22.16</td>\n      <td>NaN</td>\n      <td>5a8bc65990b245e5a138643cd4eb9837</td>\n      <td>0</td>\n      <td>[email, mobile, social]</td>\n      <td>0</td>\n      <td>informational</td>\n      <td>5a8bc65990b245e5a138643cd4eb9837</td>\n      <td>3.0</td>\n      <td>5a8bc65990b245e5a138643cd4eb9837</td>\n      <td>1</td>\n    </tr>\n    <tr>\n      <th>4</th>\n      <td>0009655768c64bdeb2e877511632db8f</td>\n      <td>offer viewed</td>\n      <td>{'offer id': '3f207df678b143eea3cee63160fa8bed'}</td>\n      <td>372</td>\n      <td>NaN</td>\n      <td>3f207df678b143eea3cee63160fa8bed</td>\n      <td>3f207df678b143eea3cee63160fa8bed</td>\n      <td>0</td>\n      <td>[web, email, mobile]</td>\n      <td>0</td>\n      <td>informational</td>\n      <td>3f207df678b143eea3cee63160fa8bed</td>\n      <td>4.0</td>\n      <td>NaN</td>\n      <td>0</td>\n    </tr>\n    <tr>\n      <th>6</th>\n      <td>0009655768c64bdeb2e877511632db8f</td>\n      <td>transaction</td>\n      <td>{'amount': 8.57}</td>\n      <td>414</td>\n      <td>8.57</td>\n      <td>NaN</td>\n      <td>3f207df678b143eea3cee63160fa8bed</td>\n      <td>0</td>\n      <td>[web, email, mobile]</td>\n      <td>0</td>\n      <td>informational</td>\n      <td>3f207df678b143eea3cee63160fa8bed</td>\n      <td>4.0</td>\n      <td>3f207df678b143eea3cee63160fa8bed</td>\n      <td>1</td>\n    </tr>\n    <tr>\n      <th>7</th>\n      <td>0009655768c64bdeb2e877511632db8f</td>\n      <td>offer completed</td>\n      <td>{'offer_id': 'f19421c1d4aa40978ebb69ca19b0e20d...</td>\n      <td>414</td>\n      <td>NaN</td>\n      <td>f19421c1d4aa40978ebb69ca19b0e20d</td>\n      <td>f19421c1d4aa40978ebb69ca19b0e20d</td>\n      <td>5</td>\n      <td>[web, email, mobile, social]</td>\n      <td>5</td>\n      <td>bogo</td>\n      <td>f19421c1d4aa40978ebb69ca19b0e20d</td>\n      <td>5.0</td>\n      <td>NaN</td>\n      <td>0</td>\n    </tr>\n  </tbody>\n</table>\n</div>"
     },
     "execution_count": 28,
     "metadata": {},
     "output_type": "execute_result"
    }
   ],
   "source": [
    "transactions_after_viewed.head()"
   ],
   "metadata": {
    "collapsed": false,
    "pycharm": {
     "name": "#%%\n"
    }
   }
  },
  {
   "cell_type": "code",
   "execution_count": 29,
   "outputs": [
    {
     "name": "stderr",
     "output_type": "stream",
     "text": [
      "/home/era/anaconda3/envs/pa/lib/python3.7/site-packages/ipykernel_launcher.py:5: SettingWithCopyWarning: \n",
      "A value is trying to be set on a copy of a slice from a DataFrame.\n",
      "Try using .loc[row_indexer,col_indexer] = value instead\n",
      "\n",
      "See the caveats in the documentation: https://pandas.pydata.org/pandas-docs/stable/user_guide/indexing.html#returning-a-view-versus-a-copy\n",
      "  \"\"\"\n",
      "/home/era/anaconda3/envs/pa/lib/python3.7/site-packages/ipykernel_launcher.py:6: SettingWithCopyWarning: \n",
      "A value is trying to be set on a copy of a slice from a DataFrame.\n",
      "Try using .loc[row_indexer,col_indexer] = value instead\n",
      "\n",
      "See the caveats in the documentation: https://pandas.pydata.org/pandas-docs/stable/user_guide/indexing.html#returning-a-view-versus-a-copy\n",
      "  \n"
     ]
    },
    {
     "data": {
      "text/plain": "                             person           event  \\\n0  0009655768c64bdeb2e877511632db8f  offer received   \n1  0009655768c64bdeb2e877511632db8f    offer viewed   \n2  0009655768c64bdeb2e877511632db8f     transaction   \n3  0009655768c64bdeb2e877511632db8f  offer received   \n4  0009655768c64bdeb2e877511632db8f    offer viewed   \n\n                                              value  time  amount  \\\n0  {'offer id': '5a8bc65990b245e5a138643cd4eb9837'}   168     NaN   \n1  {'offer id': '5a8bc65990b245e5a138643cd4eb9837'}   192     NaN   \n2                                 {'amount': 22.16}   228   22.16   \n3  {'offer id': '3f207df678b143eea3cee63160fa8bed'}   336     NaN   \n4  {'offer id': '3f207df678b143eea3cee63160fa8bed'}   372     NaN   \n\n                               id_x                          offer_id  reward  \\\n0  5a8bc65990b245e5a138643cd4eb9837  5a8bc65990b245e5a138643cd4eb9837       0   \n1  5a8bc65990b245e5a138643cd4eb9837  5a8bc65990b245e5a138643cd4eb9837       0   \n2                               NaN  5a8bc65990b245e5a138643cd4eb9837       0   \n3  3f207df678b143eea3cee63160fa8bed  3f207df678b143eea3cee63160fa8bed       0   \n4  3f207df678b143eea3cee63160fa8bed  3f207df678b143eea3cee63160fa8bed       0   \n\n                  channels  difficulty     offer_type  \\\n0  [email, mobile, social]           0  informational   \n1  [email, mobile, social]           0  informational   \n2  [email, mobile, social]           0  informational   \n3     [web, email, mobile]           0  informational   \n4     [web, email, mobile]           0  informational   \n\n                               id_y  duration  \\\n0  5a8bc65990b245e5a138643cd4eb9837       3.0   \n1  5a8bc65990b245e5a138643cd4eb9837       3.0   \n2  5a8bc65990b245e5a138643cd4eb9837       3.0   \n3  3f207df678b143eea3cee63160fa8bed       4.0   \n4  3f207df678b143eea3cee63160fa8bed       4.0   \n\n                       pre_offer_id  completed_offer  \n0                               NaN              NaN  \n1                               NaN              0.0  \n2  5a8bc65990b245e5a138643cd4eb9837              1.0  \n3                               NaN              NaN  \n4                               NaN              0.0  ",
      "text/html": "<div>\n<style scoped>\n    .dataframe tbody tr th:only-of-type {\n        vertical-align: middle;\n    }\n\n    .dataframe tbody tr th {\n        vertical-align: top;\n    }\n\n    .dataframe thead th {\n        text-align: right;\n    }\n</style>\n<table border=\"1\" class=\"dataframe\">\n  <thead>\n    <tr style=\"text-align: right;\">\n      <th></th>\n      <th>person</th>\n      <th>event</th>\n      <th>value</th>\n      <th>time</th>\n      <th>amount</th>\n      <th>id_x</th>\n      <th>offer_id</th>\n      <th>reward</th>\n      <th>channels</th>\n      <th>difficulty</th>\n      <th>offer_type</th>\n      <th>id_y</th>\n      <th>duration</th>\n      <th>pre_offer_id</th>\n      <th>completed_offer</th>\n    </tr>\n  </thead>\n  <tbody>\n    <tr>\n      <th>0</th>\n      <td>0009655768c64bdeb2e877511632db8f</td>\n      <td>offer received</td>\n      <td>{'offer id': '5a8bc65990b245e5a138643cd4eb9837'}</td>\n      <td>168</td>\n      <td>NaN</td>\n      <td>5a8bc65990b245e5a138643cd4eb9837</td>\n      <td>5a8bc65990b245e5a138643cd4eb9837</td>\n      <td>0</td>\n      <td>[email, mobile, social]</td>\n      <td>0</td>\n      <td>informational</td>\n      <td>5a8bc65990b245e5a138643cd4eb9837</td>\n      <td>3.0</td>\n      <td>NaN</td>\n      <td>NaN</td>\n    </tr>\n    <tr>\n      <th>1</th>\n      <td>0009655768c64bdeb2e877511632db8f</td>\n      <td>offer viewed</td>\n      <td>{'offer id': '5a8bc65990b245e5a138643cd4eb9837'}</td>\n      <td>192</td>\n      <td>NaN</td>\n      <td>5a8bc65990b245e5a138643cd4eb9837</td>\n      <td>5a8bc65990b245e5a138643cd4eb9837</td>\n      <td>0</td>\n      <td>[email, mobile, social]</td>\n      <td>0</td>\n      <td>informational</td>\n      <td>5a8bc65990b245e5a138643cd4eb9837</td>\n      <td>3.0</td>\n      <td>NaN</td>\n      <td>0.0</td>\n    </tr>\n    <tr>\n      <th>2</th>\n      <td>0009655768c64bdeb2e877511632db8f</td>\n      <td>transaction</td>\n      <td>{'amount': 22.16}</td>\n      <td>228</td>\n      <td>22.16</td>\n      <td>NaN</td>\n      <td>5a8bc65990b245e5a138643cd4eb9837</td>\n      <td>0</td>\n      <td>[email, mobile, social]</td>\n      <td>0</td>\n      <td>informational</td>\n      <td>5a8bc65990b245e5a138643cd4eb9837</td>\n      <td>3.0</td>\n      <td>5a8bc65990b245e5a138643cd4eb9837</td>\n      <td>1.0</td>\n    </tr>\n    <tr>\n      <th>3</th>\n      <td>0009655768c64bdeb2e877511632db8f</td>\n      <td>offer received</td>\n      <td>{'offer id': '3f207df678b143eea3cee63160fa8bed'}</td>\n      <td>336</td>\n      <td>NaN</td>\n      <td>3f207df678b143eea3cee63160fa8bed</td>\n      <td>3f207df678b143eea3cee63160fa8bed</td>\n      <td>0</td>\n      <td>[web, email, mobile]</td>\n      <td>0</td>\n      <td>informational</td>\n      <td>3f207df678b143eea3cee63160fa8bed</td>\n      <td>4.0</td>\n      <td>NaN</td>\n      <td>NaN</td>\n    </tr>\n    <tr>\n      <th>4</th>\n      <td>0009655768c64bdeb2e877511632db8f</td>\n      <td>offer viewed</td>\n      <td>{'offer id': '3f207df678b143eea3cee63160fa8bed'}</td>\n      <td>372</td>\n      <td>NaN</td>\n      <td>3f207df678b143eea3cee63160fa8bed</td>\n      <td>3f207df678b143eea3cee63160fa8bed</td>\n      <td>0</td>\n      <td>[web, email, mobile]</td>\n      <td>0</td>\n      <td>informational</td>\n      <td>3f207df678b143eea3cee63160fa8bed</td>\n      <td>4.0</td>\n      <td>NaN</td>\n      <td>0.0</td>\n    </tr>\n  </tbody>\n</table>\n</div>"
     },
     "execution_count": 29,
     "metadata": {},
     "output_type": "execute_result"
    }
   ],
   "source": [
    "# restore the 'offer_received' events\n",
    "offer_received = transcript_processed[transcript_processed['event']== \\\n",
    "                                      'offer received']\n",
    "\n",
    "offer_received['pre_offer_id']=np.nan\n",
    "offer_received['completed_offer']=np.nan\n",
    "\n",
    "transcript_processed = offer_received.append(transactions_after_viewed)\\\n",
    "                           .sort_values(['person','time'])\n",
    "\n",
    "transcript_processed.head()"
   ],
   "metadata": {
    "collapsed": false,
    "pycharm": {
     "name": "#%%\n"
    }
   }
  },
  {
   "cell_type": "markdown",
   "source": [
    "Before going any further, we need to create subsets for different offer types, as we will process them differently due to their different behaviour sequence."
   ],
   "metadata": {
    "collapsed": false
   }
  },
  {
   "cell_type": "code",
   "execution_count": 30,
   "outputs": [],
   "source": [
    "bogo = transcript_processed[transcript_processed['offer_type']=='bogo'].copy()\n",
    "\n",
    "discount = transcript_processed[transcript_processed['offer_type']== \\\n",
    "                                'discount'].copy()\n",
    "\n",
    "informational = transcript_processed[transcript_processed['offer_type']== \\\n",
    "                                     'informational'].copy()\n"
   ],
   "metadata": {
    "collapsed": false,
    "pycharm": {
     "name": "#%%\n"
    }
   }
  },
  {
   "cell_type": "code",
   "execution_count": 31,
   "outputs": [
    {
     "data": {
      "text/plain": "                              person            event  \\\n5   0009655768c64bdeb2e877511632db8f   offer received   \n7   0009655768c64bdeb2e877511632db8f  offer completed   \n8   0009655768c64bdeb2e877511632db8f     offer viewed   \n10  0009655768c64bdeb2e877511632db8f      transaction   \n20  00116118485d4dfda04fdbaba9a87b5c   offer received   \n\n                                                value  time  amount  \\\n5    {'offer id': 'f19421c1d4aa40978ebb69ca19b0e20d'}   408     NaN   \n7   {'offer_id': 'f19421c1d4aa40978ebb69ca19b0e20d...   414     NaN   \n8    {'offer id': 'f19421c1d4aa40978ebb69ca19b0e20d'}   456     NaN   \n10                                  {'amount': 14.11}   528   14.11   \n20   {'offer id': 'f19421c1d4aa40978ebb69ca19b0e20d'}   168     NaN   \n\n                                id_x                          offer_id  \\\n5   f19421c1d4aa40978ebb69ca19b0e20d  f19421c1d4aa40978ebb69ca19b0e20d   \n7   f19421c1d4aa40978ebb69ca19b0e20d  f19421c1d4aa40978ebb69ca19b0e20d   \n8   f19421c1d4aa40978ebb69ca19b0e20d  f19421c1d4aa40978ebb69ca19b0e20d   \n10                               NaN  f19421c1d4aa40978ebb69ca19b0e20d   \n20  f19421c1d4aa40978ebb69ca19b0e20d  f19421c1d4aa40978ebb69ca19b0e20d   \n\n    reward                      channels  difficulty offer_type  \\\n5        5  [web, email, mobile, social]           5       bogo   \n7        5  [web, email, mobile, social]           5       bogo   \n8        5  [web, email, mobile, social]           5       bogo   \n10       5  [web, email, mobile, social]           5       bogo   \n20       5  [web, email, mobile, social]           5       bogo   \n\n                                id_y  duration  \\\n5   f19421c1d4aa40978ebb69ca19b0e20d       5.0   \n7   f19421c1d4aa40978ebb69ca19b0e20d       5.0   \n8   f19421c1d4aa40978ebb69ca19b0e20d       5.0   \n10  f19421c1d4aa40978ebb69ca19b0e20d       5.0   \n20  f19421c1d4aa40978ebb69ca19b0e20d       5.0   \n\n                        pre_offer_id  completed_offer  \n5                                NaN              NaN  \n7                                NaN              0.0  \n8   f19421c1d4aa40978ebb69ca19b0e20d              1.0  \n10  f19421c1d4aa40978ebb69ca19b0e20d              1.0  \n20                               NaN              NaN  ",
      "text/html": "<div>\n<style scoped>\n    .dataframe tbody tr th:only-of-type {\n        vertical-align: middle;\n    }\n\n    .dataframe tbody tr th {\n        vertical-align: top;\n    }\n\n    .dataframe thead th {\n        text-align: right;\n    }\n</style>\n<table border=\"1\" class=\"dataframe\">\n  <thead>\n    <tr style=\"text-align: right;\">\n      <th></th>\n      <th>person</th>\n      <th>event</th>\n      <th>value</th>\n      <th>time</th>\n      <th>amount</th>\n      <th>id_x</th>\n      <th>offer_id</th>\n      <th>reward</th>\n      <th>channels</th>\n      <th>difficulty</th>\n      <th>offer_type</th>\n      <th>id_y</th>\n      <th>duration</th>\n      <th>pre_offer_id</th>\n      <th>completed_offer</th>\n    </tr>\n  </thead>\n  <tbody>\n    <tr>\n      <th>5</th>\n      <td>0009655768c64bdeb2e877511632db8f</td>\n      <td>offer received</td>\n      <td>{'offer id': 'f19421c1d4aa40978ebb69ca19b0e20d'}</td>\n      <td>408</td>\n      <td>NaN</td>\n      <td>f19421c1d4aa40978ebb69ca19b0e20d</td>\n      <td>f19421c1d4aa40978ebb69ca19b0e20d</td>\n      <td>5</td>\n      <td>[web, email, mobile, social]</td>\n      <td>5</td>\n      <td>bogo</td>\n      <td>f19421c1d4aa40978ebb69ca19b0e20d</td>\n      <td>5.0</td>\n      <td>NaN</td>\n      <td>NaN</td>\n    </tr>\n    <tr>\n      <th>7</th>\n      <td>0009655768c64bdeb2e877511632db8f</td>\n      <td>offer completed</td>\n      <td>{'offer_id': 'f19421c1d4aa40978ebb69ca19b0e20d...</td>\n      <td>414</td>\n      <td>NaN</td>\n      <td>f19421c1d4aa40978ebb69ca19b0e20d</td>\n      <td>f19421c1d4aa40978ebb69ca19b0e20d</td>\n      <td>5</td>\n      <td>[web, email, mobile, social]</td>\n      <td>5</td>\n      <td>bogo</td>\n      <td>f19421c1d4aa40978ebb69ca19b0e20d</td>\n      <td>5.0</td>\n      <td>NaN</td>\n      <td>0.0</td>\n    </tr>\n    <tr>\n      <th>8</th>\n      <td>0009655768c64bdeb2e877511632db8f</td>\n      <td>offer viewed</td>\n      <td>{'offer id': 'f19421c1d4aa40978ebb69ca19b0e20d'}</td>\n      <td>456</td>\n      <td>NaN</td>\n      <td>f19421c1d4aa40978ebb69ca19b0e20d</td>\n      <td>f19421c1d4aa40978ebb69ca19b0e20d</td>\n      <td>5</td>\n      <td>[web, email, mobile, social]</td>\n      <td>5</td>\n      <td>bogo</td>\n      <td>f19421c1d4aa40978ebb69ca19b0e20d</td>\n      <td>5.0</td>\n      <td>f19421c1d4aa40978ebb69ca19b0e20d</td>\n      <td>1.0</td>\n    </tr>\n    <tr>\n      <th>10</th>\n      <td>0009655768c64bdeb2e877511632db8f</td>\n      <td>transaction</td>\n      <td>{'amount': 14.11}</td>\n      <td>528</td>\n      <td>14.11</td>\n      <td>NaN</td>\n      <td>f19421c1d4aa40978ebb69ca19b0e20d</td>\n      <td>5</td>\n      <td>[web, email, mobile, social]</td>\n      <td>5</td>\n      <td>bogo</td>\n      <td>f19421c1d4aa40978ebb69ca19b0e20d</td>\n      <td>5.0</td>\n      <td>f19421c1d4aa40978ebb69ca19b0e20d</td>\n      <td>1.0</td>\n    </tr>\n    <tr>\n      <th>20</th>\n      <td>00116118485d4dfda04fdbaba9a87b5c</td>\n      <td>offer received</td>\n      <td>{'offer id': 'f19421c1d4aa40978ebb69ca19b0e20d'}</td>\n      <td>168</td>\n      <td>NaN</td>\n      <td>f19421c1d4aa40978ebb69ca19b0e20d</td>\n      <td>f19421c1d4aa40978ebb69ca19b0e20d</td>\n      <td>5</td>\n      <td>[web, email, mobile, social]</td>\n      <td>5</td>\n      <td>bogo</td>\n      <td>f19421c1d4aa40978ebb69ca19b0e20d</td>\n      <td>5.0</td>\n      <td>NaN</td>\n      <td>NaN</td>\n    </tr>\n  </tbody>\n</table>\n</div>"
     },
     "execution_count": 31,
     "metadata": {},
     "output_type": "execute_result"
    }
   ],
   "source": [
    "bogo.head()"
   ],
   "metadata": {
    "collapsed": false,
    "pycharm": {
     "name": "#%%\n"
    }
   }
  },
  {
   "cell_type": "code",
   "execution_count": 32,
   "outputs": [
    {
     "data": {
      "text/plain": "                              person            event  \\\n9   0009655768c64bdeb2e877511632db8f   offer received   \n11  0009655768c64bdeb2e877511632db8f  offer completed   \n12  0009655768c64bdeb2e877511632db8f     offer viewed   \n13  0009655768c64bdeb2e877511632db8f      transaction   \n14  0009655768c64bdeb2e877511632db8f   offer received   \n\n                                                value  time  amount  \\\n9    {'offer id': 'fafdcd668e3743c1bb461111dcafc2a4'}   504     NaN   \n11  {'offer_id': 'fafdcd668e3743c1bb461111dcafc2a4...   528     NaN   \n12   {'offer id': 'fafdcd668e3743c1bb461111dcafc2a4'}   540     NaN   \n13                                  {'amount': 13.56}   552   13.56   \n14   {'offer id': '2906b810c7d4411798c6938adc9daaa5'}   576     NaN   \n\n                                id_x                          offer_id  \\\n9   fafdcd668e3743c1bb461111dcafc2a4  fafdcd668e3743c1bb461111dcafc2a4   \n11  fafdcd668e3743c1bb461111dcafc2a4  fafdcd668e3743c1bb461111dcafc2a4   \n12  fafdcd668e3743c1bb461111dcafc2a4  fafdcd668e3743c1bb461111dcafc2a4   \n13                               NaN  fafdcd668e3743c1bb461111dcafc2a4   \n14  2906b810c7d4411798c6938adc9daaa5  2906b810c7d4411798c6938adc9daaa5   \n\n    reward                      channels  difficulty offer_type  \\\n9        2  [web, email, mobile, social]          10   discount   \n11       2  [web, email, mobile, social]          10   discount   \n12       2  [web, email, mobile, social]          10   discount   \n13       2  [web, email, mobile, social]          10   discount   \n14       2          [web, email, mobile]          10   discount   \n\n                                id_y  duration  \\\n9   fafdcd668e3743c1bb461111dcafc2a4      10.0   \n11  fafdcd668e3743c1bb461111dcafc2a4      10.0   \n12  fafdcd668e3743c1bb461111dcafc2a4      10.0   \n13  fafdcd668e3743c1bb461111dcafc2a4      10.0   \n14  2906b810c7d4411798c6938adc9daaa5       7.0   \n\n                        pre_offer_id  completed_offer  \n9                                NaN              NaN  \n11                               NaN              0.0  \n12  fafdcd668e3743c1bb461111dcafc2a4              1.0  \n13  fafdcd668e3743c1bb461111dcafc2a4              1.0  \n14                               NaN              NaN  ",
      "text/html": "<div>\n<style scoped>\n    .dataframe tbody tr th:only-of-type {\n        vertical-align: middle;\n    }\n\n    .dataframe tbody tr th {\n        vertical-align: top;\n    }\n\n    .dataframe thead th {\n        text-align: right;\n    }\n</style>\n<table border=\"1\" class=\"dataframe\">\n  <thead>\n    <tr style=\"text-align: right;\">\n      <th></th>\n      <th>person</th>\n      <th>event</th>\n      <th>value</th>\n      <th>time</th>\n      <th>amount</th>\n      <th>id_x</th>\n      <th>offer_id</th>\n      <th>reward</th>\n      <th>channels</th>\n      <th>difficulty</th>\n      <th>offer_type</th>\n      <th>id_y</th>\n      <th>duration</th>\n      <th>pre_offer_id</th>\n      <th>completed_offer</th>\n    </tr>\n  </thead>\n  <tbody>\n    <tr>\n      <th>9</th>\n      <td>0009655768c64bdeb2e877511632db8f</td>\n      <td>offer received</td>\n      <td>{'offer id': 'fafdcd668e3743c1bb461111dcafc2a4'}</td>\n      <td>504</td>\n      <td>NaN</td>\n      <td>fafdcd668e3743c1bb461111dcafc2a4</td>\n      <td>fafdcd668e3743c1bb461111dcafc2a4</td>\n      <td>2</td>\n      <td>[web, email, mobile, social]</td>\n      <td>10</td>\n      <td>discount</td>\n      <td>fafdcd668e3743c1bb461111dcafc2a4</td>\n      <td>10.0</td>\n      <td>NaN</td>\n      <td>NaN</td>\n    </tr>\n    <tr>\n      <th>11</th>\n      <td>0009655768c64bdeb2e877511632db8f</td>\n      <td>offer completed</td>\n      <td>{'offer_id': 'fafdcd668e3743c1bb461111dcafc2a4...</td>\n      <td>528</td>\n      <td>NaN</td>\n      <td>fafdcd668e3743c1bb461111dcafc2a4</td>\n      <td>fafdcd668e3743c1bb461111dcafc2a4</td>\n      <td>2</td>\n      <td>[web, email, mobile, social]</td>\n      <td>10</td>\n      <td>discount</td>\n      <td>fafdcd668e3743c1bb461111dcafc2a4</td>\n      <td>10.0</td>\n      <td>NaN</td>\n      <td>0.0</td>\n    </tr>\n    <tr>\n      <th>12</th>\n      <td>0009655768c64bdeb2e877511632db8f</td>\n      <td>offer viewed</td>\n      <td>{'offer id': 'fafdcd668e3743c1bb461111dcafc2a4'}</td>\n      <td>540</td>\n      <td>NaN</td>\n      <td>fafdcd668e3743c1bb461111dcafc2a4</td>\n      <td>fafdcd668e3743c1bb461111dcafc2a4</td>\n      <td>2</td>\n      <td>[web, email, mobile, social]</td>\n      <td>10</td>\n      <td>discount</td>\n      <td>fafdcd668e3743c1bb461111dcafc2a4</td>\n      <td>10.0</td>\n      <td>fafdcd668e3743c1bb461111dcafc2a4</td>\n      <td>1.0</td>\n    </tr>\n    <tr>\n      <th>13</th>\n      <td>0009655768c64bdeb2e877511632db8f</td>\n      <td>transaction</td>\n      <td>{'amount': 13.56}</td>\n      <td>552</td>\n      <td>13.56</td>\n      <td>NaN</td>\n      <td>fafdcd668e3743c1bb461111dcafc2a4</td>\n      <td>2</td>\n      <td>[web, email, mobile, social]</td>\n      <td>10</td>\n      <td>discount</td>\n      <td>fafdcd668e3743c1bb461111dcafc2a4</td>\n      <td>10.0</td>\n      <td>fafdcd668e3743c1bb461111dcafc2a4</td>\n      <td>1.0</td>\n    </tr>\n    <tr>\n      <th>14</th>\n      <td>0009655768c64bdeb2e877511632db8f</td>\n      <td>offer received</td>\n      <td>{'offer id': '2906b810c7d4411798c6938adc9daaa5'}</td>\n      <td>576</td>\n      <td>NaN</td>\n      <td>2906b810c7d4411798c6938adc9daaa5</td>\n      <td>2906b810c7d4411798c6938adc9daaa5</td>\n      <td>2</td>\n      <td>[web, email, mobile]</td>\n      <td>10</td>\n      <td>discount</td>\n      <td>2906b810c7d4411798c6938adc9daaa5</td>\n      <td>7.0</td>\n      <td>NaN</td>\n      <td>NaN</td>\n    </tr>\n  </tbody>\n</table>\n</div>"
     },
     "execution_count": 32,
     "metadata": {},
     "output_type": "execute_result"
    }
   ],
   "source": [
    "discount.head()"
   ],
   "metadata": {
    "collapsed": false,
    "pycharm": {
     "name": "#%%\n"
    }
   }
  },
  {
   "cell_type": "code",
   "execution_count": 33,
   "outputs": [
    {
     "data": {
      "text/plain": "                             person           event  \\\n0  0009655768c64bdeb2e877511632db8f  offer received   \n1  0009655768c64bdeb2e877511632db8f    offer viewed   \n2  0009655768c64bdeb2e877511632db8f     transaction   \n3  0009655768c64bdeb2e877511632db8f  offer received   \n4  0009655768c64bdeb2e877511632db8f    offer viewed   \n\n                                              value  time  amount  \\\n0  {'offer id': '5a8bc65990b245e5a138643cd4eb9837'}   168     NaN   \n1  {'offer id': '5a8bc65990b245e5a138643cd4eb9837'}   192     NaN   \n2                                 {'amount': 22.16}   228   22.16   \n3  {'offer id': '3f207df678b143eea3cee63160fa8bed'}   336     NaN   \n4  {'offer id': '3f207df678b143eea3cee63160fa8bed'}   372     NaN   \n\n                               id_x                          offer_id  reward  \\\n0  5a8bc65990b245e5a138643cd4eb9837  5a8bc65990b245e5a138643cd4eb9837       0   \n1  5a8bc65990b245e5a138643cd4eb9837  5a8bc65990b245e5a138643cd4eb9837       0   \n2                               NaN  5a8bc65990b245e5a138643cd4eb9837       0   \n3  3f207df678b143eea3cee63160fa8bed  3f207df678b143eea3cee63160fa8bed       0   \n4  3f207df678b143eea3cee63160fa8bed  3f207df678b143eea3cee63160fa8bed       0   \n\n                  channels  difficulty     offer_type  \\\n0  [email, mobile, social]           0  informational   \n1  [email, mobile, social]           0  informational   \n2  [email, mobile, social]           0  informational   \n3     [web, email, mobile]           0  informational   \n4     [web, email, mobile]           0  informational   \n\n                               id_y  duration  \\\n0  5a8bc65990b245e5a138643cd4eb9837       3.0   \n1  5a8bc65990b245e5a138643cd4eb9837       3.0   \n2  5a8bc65990b245e5a138643cd4eb9837       3.0   \n3  3f207df678b143eea3cee63160fa8bed       4.0   \n4  3f207df678b143eea3cee63160fa8bed       4.0   \n\n                       pre_offer_id  completed_offer  \n0                               NaN              NaN  \n1                               NaN              0.0  \n2  5a8bc65990b245e5a138643cd4eb9837              1.0  \n3                               NaN              NaN  \n4                               NaN              0.0  ",
      "text/html": "<div>\n<style scoped>\n    .dataframe tbody tr th:only-of-type {\n        vertical-align: middle;\n    }\n\n    .dataframe tbody tr th {\n        vertical-align: top;\n    }\n\n    .dataframe thead th {\n        text-align: right;\n    }\n</style>\n<table border=\"1\" class=\"dataframe\">\n  <thead>\n    <tr style=\"text-align: right;\">\n      <th></th>\n      <th>person</th>\n      <th>event</th>\n      <th>value</th>\n      <th>time</th>\n      <th>amount</th>\n      <th>id_x</th>\n      <th>offer_id</th>\n      <th>reward</th>\n      <th>channels</th>\n      <th>difficulty</th>\n      <th>offer_type</th>\n      <th>id_y</th>\n      <th>duration</th>\n      <th>pre_offer_id</th>\n      <th>completed_offer</th>\n    </tr>\n  </thead>\n  <tbody>\n    <tr>\n      <th>0</th>\n      <td>0009655768c64bdeb2e877511632db8f</td>\n      <td>offer received</td>\n      <td>{'offer id': '5a8bc65990b245e5a138643cd4eb9837'}</td>\n      <td>168</td>\n      <td>NaN</td>\n      <td>5a8bc65990b245e5a138643cd4eb9837</td>\n      <td>5a8bc65990b245e5a138643cd4eb9837</td>\n      <td>0</td>\n      <td>[email, mobile, social]</td>\n      <td>0</td>\n      <td>informational</td>\n      <td>5a8bc65990b245e5a138643cd4eb9837</td>\n      <td>3.0</td>\n      <td>NaN</td>\n      <td>NaN</td>\n    </tr>\n    <tr>\n      <th>1</th>\n      <td>0009655768c64bdeb2e877511632db8f</td>\n      <td>offer viewed</td>\n      <td>{'offer id': '5a8bc65990b245e5a138643cd4eb9837'}</td>\n      <td>192</td>\n      <td>NaN</td>\n      <td>5a8bc65990b245e5a138643cd4eb9837</td>\n      <td>5a8bc65990b245e5a138643cd4eb9837</td>\n      <td>0</td>\n      <td>[email, mobile, social]</td>\n      <td>0</td>\n      <td>informational</td>\n      <td>5a8bc65990b245e5a138643cd4eb9837</td>\n      <td>3.0</td>\n      <td>NaN</td>\n      <td>0.0</td>\n    </tr>\n    <tr>\n      <th>2</th>\n      <td>0009655768c64bdeb2e877511632db8f</td>\n      <td>transaction</td>\n      <td>{'amount': 22.16}</td>\n      <td>228</td>\n      <td>22.16</td>\n      <td>NaN</td>\n      <td>5a8bc65990b245e5a138643cd4eb9837</td>\n      <td>0</td>\n      <td>[email, mobile, social]</td>\n      <td>0</td>\n      <td>informational</td>\n      <td>5a8bc65990b245e5a138643cd4eb9837</td>\n      <td>3.0</td>\n      <td>5a8bc65990b245e5a138643cd4eb9837</td>\n      <td>1.0</td>\n    </tr>\n    <tr>\n      <th>3</th>\n      <td>0009655768c64bdeb2e877511632db8f</td>\n      <td>offer received</td>\n      <td>{'offer id': '3f207df678b143eea3cee63160fa8bed'}</td>\n      <td>336</td>\n      <td>NaN</td>\n      <td>3f207df678b143eea3cee63160fa8bed</td>\n      <td>3f207df678b143eea3cee63160fa8bed</td>\n      <td>0</td>\n      <td>[web, email, mobile]</td>\n      <td>0</td>\n      <td>informational</td>\n      <td>3f207df678b143eea3cee63160fa8bed</td>\n      <td>4.0</td>\n      <td>NaN</td>\n      <td>NaN</td>\n    </tr>\n    <tr>\n      <th>4</th>\n      <td>0009655768c64bdeb2e877511632db8f</td>\n      <td>offer viewed</td>\n      <td>{'offer id': '3f207df678b143eea3cee63160fa8bed'}</td>\n      <td>372</td>\n      <td>NaN</td>\n      <td>3f207df678b143eea3cee63160fa8bed</td>\n      <td>3f207df678b143eea3cee63160fa8bed</td>\n      <td>0</td>\n      <td>[web, email, mobile]</td>\n      <td>0</td>\n      <td>informational</td>\n      <td>3f207df678b143eea3cee63160fa8bed</td>\n      <td>4.0</td>\n      <td>NaN</td>\n      <td>0.0</td>\n    </tr>\n  </tbody>\n</table>\n</div>"
     },
     "execution_count": 33,
     "metadata": {},
     "output_type": "execute_result"
    }
   ],
   "source": [
    "informational.head()"
   ],
   "metadata": {
    "collapsed": false,
    "pycharm": {
     "name": "#%%\n"
    }
   }
  },
  {
   "cell_type": "markdown",
   "source": [
    "\n",
    "For `bogo` and `discount` offer, responded offer can be filtered with `offer_complete` events, and responded informational offers can be filtered with the 'transaction' events."
   ],
   "metadata": {
    "collapsed": false
   }
  },
  {
   "cell_type": "code",
   "execution_count": 34,
   "outputs": [],
   "source": [
    "# extract responded offer under bogo and discount type\n",
    "bogo_completed = bogo[['person','offer_id']] \\\n",
    "                     [(bogo['completed_offer']==1) &\n",
    "                      (bogo['event']=='offer completed')] \\\n",
    "                     .groupby(['person','offer_id']) \\\n",
    "                     .count().reset_index()\n",
    "\n",
    "discount_completed = discount[['person','offer_id']] \\\n",
    "                             [(discount['completed_offer']==1) &\n",
    "                              (discount['event']=='offer completed')] \\\n",
    "                             .groupby(['person','offer_id'])\\\n",
    "                             .count().reset_index()"
   ],
   "metadata": {
    "collapsed": false,
    "pycharm": {
     "name": "#%%\n"
    }
   }
  },
  {
   "cell_type": "markdown",
   "source": [
    "Next, we need to filter customers who only viewed the offers, and customers who only received the offer."
   ],
   "metadata": {
    "collapsed": false
   }
  },
  {
   "cell_type": "code",
   "execution_count": 35,
   "outputs": [
    {
     "data": {
      "text/plain": "                             person                          offer_id _merge\n0  0009655768c64bdeb2e877511632db8f  f19421c1d4aa40978ebb69ca19b0e20d   both\n1  00116118485d4dfda04fdbaba9a87b5c  f19421c1d4aa40978ebb69ca19b0e20d   both\n2  0011e0d4e6b944f998e987f904e8c1e5  9b98b8c7a33c4b65b9aebfe6a799e6d9   both\n3  0020c2b971eb4e9188eac86d93036a77  4d5c57ea9a6940dd891ad53e9dbe8da0   both\n4  0020ccbbb6d84e358d3414a3ff76cffd  9b98b8c7a33c4b65b9aebfe6a799e6d9   both",
      "text/html": "<div>\n<style scoped>\n    .dataframe tbody tr th:only-of-type {\n        vertical-align: middle;\n    }\n\n    .dataframe tbody tr th {\n        vertical-align: top;\n    }\n\n    .dataframe thead th {\n        text-align: right;\n    }\n</style>\n<table border=\"1\" class=\"dataframe\">\n  <thead>\n    <tr style=\"text-align: right;\">\n      <th></th>\n      <th>person</th>\n      <th>offer_id</th>\n      <th>_merge</th>\n    </tr>\n  </thead>\n  <tbody>\n    <tr>\n      <th>0</th>\n      <td>0009655768c64bdeb2e877511632db8f</td>\n      <td>f19421c1d4aa40978ebb69ca19b0e20d</td>\n      <td>both</td>\n    </tr>\n    <tr>\n      <th>1</th>\n      <td>00116118485d4dfda04fdbaba9a87b5c</td>\n      <td>f19421c1d4aa40978ebb69ca19b0e20d</td>\n      <td>both</td>\n    </tr>\n    <tr>\n      <th>2</th>\n      <td>0011e0d4e6b944f998e987f904e8c1e5</td>\n      <td>9b98b8c7a33c4b65b9aebfe6a799e6d9</td>\n      <td>both</td>\n    </tr>\n    <tr>\n      <th>3</th>\n      <td>0020c2b971eb4e9188eac86d93036a77</td>\n      <td>4d5c57ea9a6940dd891ad53e9dbe8da0</td>\n      <td>both</td>\n    </tr>\n    <tr>\n      <th>4</th>\n      <td>0020ccbbb6d84e358d3414a3ff76cffd</td>\n      <td>9b98b8c7a33c4b65b9aebfe6a799e6d9</td>\n      <td>both</td>\n    </tr>\n  </tbody>\n</table>\n</div>"
     },
     "execution_count": 35,
     "metadata": {},
     "output_type": "execute_result"
    }
   ],
   "source": [
    "bogo_ids_transaction_completed = bogo[['person','offer_id']] \\\n",
    "                                     [(bogo['event']=='transaction') |\n",
    "                                      (bogo['event']=='offer completed')] \\\n",
    "                                     .groupby(['person','offer_id']) \\\n",
    "                                     .count().reset_index()\n",
    "\n",
    "bogo_ids_received = bogo[['person','offer_id']] \\\n",
    "                        [bogo['event']=='offer received'] \\\n",
    "                        .groupby(['person','offer_id']) \\\n",
    "                        .count().reset_index()\n",
    "\n",
    "# offers viewed without transaction and completion\n",
    "bogo_merged = bogo_ids_transaction_completed.merge(bogo_ids_received,\n",
    "                                                   how='right',\n",
    "                                                   on=['person','offer_id'],\n",
    "                                                   indicator=True)\n",
    "\n",
    "bogo_merged.head()"
   ],
   "metadata": {
    "collapsed": false,
    "pycharm": {
     "name": "#%%\n"
    }
   }
  },
  {
   "cell_type": "code",
   "execution_count": 36,
   "outputs": [
    {
     "data": {
      "text/plain": "                             person                          offer_id _merge\n0  0009655768c64bdeb2e877511632db8f  2906b810c7d4411798c6938adc9daaa5   both\n1  0009655768c64bdeb2e877511632db8f  fafdcd668e3743c1bb461111dcafc2a4   both\n2  0011e0d4e6b944f998e987f904e8c1e5  0b1e1539f2cc45b7b9fa7c272da2e1d7   both\n3  0011e0d4e6b944f998e987f904e8c1e5  2298d6c36e964ae4a3e7e9706d1fb8c2   both\n4  0020c2b971eb4e9188eac86d93036a77  fafdcd668e3743c1bb461111dcafc2a4   both",
      "text/html": "<div>\n<style scoped>\n    .dataframe tbody tr th:only-of-type {\n        vertical-align: middle;\n    }\n\n    .dataframe tbody tr th {\n        vertical-align: top;\n    }\n\n    .dataframe thead th {\n        text-align: right;\n    }\n</style>\n<table border=\"1\" class=\"dataframe\">\n  <thead>\n    <tr style=\"text-align: right;\">\n      <th></th>\n      <th>person</th>\n      <th>offer_id</th>\n      <th>_merge</th>\n    </tr>\n  </thead>\n  <tbody>\n    <tr>\n      <th>0</th>\n      <td>0009655768c64bdeb2e877511632db8f</td>\n      <td>2906b810c7d4411798c6938adc9daaa5</td>\n      <td>both</td>\n    </tr>\n    <tr>\n      <th>1</th>\n      <td>0009655768c64bdeb2e877511632db8f</td>\n      <td>fafdcd668e3743c1bb461111dcafc2a4</td>\n      <td>both</td>\n    </tr>\n    <tr>\n      <th>2</th>\n      <td>0011e0d4e6b944f998e987f904e8c1e5</td>\n      <td>0b1e1539f2cc45b7b9fa7c272da2e1d7</td>\n      <td>both</td>\n    </tr>\n    <tr>\n      <th>3</th>\n      <td>0011e0d4e6b944f998e987f904e8c1e5</td>\n      <td>2298d6c36e964ae4a3e7e9706d1fb8c2</td>\n      <td>both</td>\n    </tr>\n    <tr>\n      <th>4</th>\n      <td>0020c2b971eb4e9188eac86d93036a77</td>\n      <td>fafdcd668e3743c1bb461111dcafc2a4</td>\n      <td>both</td>\n    </tr>\n  </tbody>\n</table>\n</div>"
     },
     "execution_count": 36,
     "metadata": {},
     "output_type": "execute_result"
    }
   ],
   "source": [
    "# the same processing on discount offers\n",
    "discount_ids_transaction_completed = \\\n",
    "    discount[['person','offer_id']][(discount['event']=='transaction') |\n",
    "                                    (discount['event']=='offer completed')]\\\n",
    "            .groupby(['person','offer_id']).count().reset_index()\n",
    "\n",
    "discount_ids_received = discount[['person','offer_id']] \\\n",
    "                                [discount['event']=='offer received'] \\\n",
    "                                .groupby(['person','offer_id']) \\\n",
    "                                .count().reset_index()\n",
    "\n",
    "discount_merged = \\\n",
    "    discount_ids_transaction_completed.merge(discount_ids_received,\n",
    "                                             how='right',\n",
    "                                             on=['person','offer_id'],\n",
    "                                             indicator=True)\n",
    "\n",
    "discount_merged.head()"
   ],
   "metadata": {
    "collapsed": false,
    "pycharm": {
     "name": "#%%\n"
    }
   }
  },
  {
   "cell_type": "markdown",
   "source": [
    "##### 2.1.2 Less Responsive Customers\n",
    "\n",
    "Then, we can filter out less responsive customers who viewed the offer without any transaction,  and customers who didn't the received offer."
   ],
   "metadata": {
    "collapsed": false
   }
  },
  {
   "cell_type": "code",
   "execution_count": 37,
   "outputs": [],
   "source": [
    "bogo_no_transaction = bogo_merged[bogo_merged['_merge']=='right_only']\n",
    "bogo_no_transaction = bogo_no_transaction.merge(transcript_processed,\n",
    "                                                how='left',\n",
    "                                                on=['person','offer_id'])\n",
    "\n",
    "bogo_viewed = bogo_no_transaction[['person','offer_id']] \\\n",
    "                                 [bogo_no_transaction['event']=='offer viewed']\\\n",
    "                                 .groupby(['person','offer_id']) \\\n",
    "                                 .count().reset_index()\n",
    "\n",
    "bogo_no_transaction.drop(['_merge'], axis=1, inplace=True)\n",
    "\n",
    "bogo_no_view = bogo_no_transaction.merge(bogo_viewed[['person','offer_id']],\n",
    "                                         how='left', indicator=True)\n",
    "\n",
    "bogo_no_view = bogo_no_view[bogo_no_view['_merge']=='left_only'].copy()\n"
   ],
   "metadata": {
    "collapsed": false,
    "pycharm": {
     "name": "#%%\n"
    }
   }
  },
  {
   "cell_type": "code",
   "execution_count": 38,
   "outputs": [],
   "source": [
    "# do the same  on discount offers\n",
    "\n",
    "discount_no_transaction = \\\n",
    "    discount_merged[discount_merged['_merge']=='right_only']\n",
    "discount_no_transaction = \\\n",
    "    discount_no_transaction.merge(transcript_processed,\n",
    "                                  how='left',\n",
    "                                  on=['person','offer_id'])\n",
    "\n",
    "discount_viewed = \\\n",
    "    discount_no_transaction[['person','offer_id']] \\\n",
    "                           [discount_no_transaction['event']=='offer viewed'] \\\n",
    "                           .groupby(['person','offer_id']) \\\n",
    "                           .count().reset_index()\n",
    "\n",
    "discount_no_transaction.drop(['_merge'], axis=1, inplace=True)\n",
    "\n",
    "discount_no_view = \\\n",
    "    discount_no_transaction.merge(discount_viewed[['person','offer_id']],\n",
    "                                  how='left', indicator=True)\n",
    "\n",
    "discount_no_view = discount_no_view[discount_no_view['_merge']=='left_only'] \\\n",
    "                                   .copy()\n"
   ],
   "metadata": {
    "collapsed": false,
    "pycharm": {
     "name": "#%%\n"
    }
   }
  },
  {
   "cell_type": "markdown",
   "source": [
    "##### 2.1.3 Unrelated Customers\n",
    "\n",
    "After above processes, there are still some more transcripts that are not related to offers according to given data"
   ],
   "metadata": {
    "collapsed": false
   }
  },
  {
   "cell_type": "code",
   "execution_count": 39,
   "outputs": [],
   "source": [
    "bogo_unrelated = bogo[['person','offer_id']] \\\n",
    "                     [(bogo['event']=='offer completed') &\n",
    "                      (bogo['completed_offer']!=1)] \\\n",
    "                     .groupby(['person','offer_id'])\\\n",
    "                     .count().reset_index()\n",
    "\n",
    "discount_unrelated = discount[['person','offer_id']] \\\n",
    "                             [(discount['event']=='offer completed') &\n",
    "                              (discount['completed_offer']!=1)]\\\n",
    "                             .groupby(['person','offer_id'])\\\n",
    "                             .count().reset_index()"
   ],
   "metadata": {
    "collapsed": false,
    "pycharm": {
     "name": "#%%\n"
    }
   }
  },
  {
   "cell_type": "markdown",
   "source": [
    "##### 2.1.4. Group Subsets for Feature Engineering\n",
    "\n",
    "As explained previously, `bogo` and `discount` offers both have a complete sequence of actions, hence these two will be grouped for later use."
   ],
   "metadata": {
    "collapsed": false
   }
  },
  {
   "cell_type": "code",
   "execution_count": 40,
   "outputs": [],
   "source": [
    "# combine the two kind of customers cases which are focused on\n",
    "bogo_completed['offer_responded'] = 1\n",
    "bogo_viewed['offer_responded'] = 0\n",
    "bogo_offer = bogo_completed.append(bogo_viewed, sort=False)\n",
    "\n",
    "discount_completed['offer_responded'] = 1\n",
    "discount_viewed['offer_responded'] = 0\n",
    "discount_offer = discount_completed.append(discount_viewed, sort=False)\n"
   ],
   "metadata": {
    "collapsed": false,
    "pycharm": {
     "name": "#%%\n"
    }
   }
  },
  {
   "cell_type": "markdown",
   "source": [
    "#### 2.2 `informational`\n",
    "\n",
    "For `informational` offers, we count transactions within the offer duration as responded, hence we need to process the given time related columns."
   ],
   "metadata": {
    "collapsed": false
   }
  },
  {
   "cell_type": "code",
   "execution_count": 41,
   "outputs": [],
   "source": [
    "#convert time into days\n",
    "informational['day_offer'] = informational['time']/24\n",
    "\n",
    "#drop unnecessary columns\n",
    "informational.drop(['time','value','pre_offer_id'], axis=1, inplace=True)\n",
    "informational = informational.sort_values(['person','day_offer',\n",
    "                                           'event','offer_id'])\n",
    "\n",
    "#get difference in time for informational offers\n",
    "informational['diff'] = \\\n",
    "    informational[(informational['offer_type']=='informational') &\n",
    "                  ((informational['event']=='offer received') |\n",
    "                   (informational['event']=='transaction'))] \\\n",
    "                 .groupby(['person','offer_id'])['day_offer'].diff()\n",
    "\n",
    "informational['valid_completion']=np.nan\n",
    "\n",
    "#flag valid events if within duration\n",
    "informational.loc[informational['diff']<=informational['duration'],\n",
    "                  'valid_completion'] = 1\n",
    "#fill any missing values with 0 flag\n",
    "informational['valid_completion'] = \\\n",
    "    informational['valid_completion'].fillna(value=0)"
   ],
   "metadata": {
    "collapsed": false,
    "pycharm": {
     "name": "#%%\n"
    }
   }
  },
  {
   "cell_type": "code",
   "execution_count": 42,
   "outputs": [
    {
     "data": {
      "text/plain": "                             person           event  amount  \\\n0  0009655768c64bdeb2e877511632db8f  offer received     NaN   \n1  0009655768c64bdeb2e877511632db8f    offer viewed     NaN   \n2  0009655768c64bdeb2e877511632db8f     transaction   22.16   \n3  0009655768c64bdeb2e877511632db8f  offer received     NaN   \n4  0009655768c64bdeb2e877511632db8f    offer viewed     NaN   \n\n                               id_x                          offer_id  reward  \\\n0  5a8bc65990b245e5a138643cd4eb9837  5a8bc65990b245e5a138643cd4eb9837       0   \n1  5a8bc65990b245e5a138643cd4eb9837  5a8bc65990b245e5a138643cd4eb9837       0   \n2                               NaN  5a8bc65990b245e5a138643cd4eb9837       0   \n3  3f207df678b143eea3cee63160fa8bed  3f207df678b143eea3cee63160fa8bed       0   \n4  3f207df678b143eea3cee63160fa8bed  3f207df678b143eea3cee63160fa8bed       0   \n\n                  channels  difficulty     offer_type  \\\n0  [email, mobile, social]           0  informational   \n1  [email, mobile, social]           0  informational   \n2  [email, mobile, social]           0  informational   \n3     [web, email, mobile]           0  informational   \n4     [web, email, mobile]           0  informational   \n\n                               id_y  duration  completed_offer  day_offer  \\\n0  5a8bc65990b245e5a138643cd4eb9837       3.0              NaN        7.0   \n1  5a8bc65990b245e5a138643cd4eb9837       3.0              0.0        8.0   \n2  5a8bc65990b245e5a138643cd4eb9837       3.0              1.0        9.5   \n3  3f207df678b143eea3cee63160fa8bed       4.0              NaN       14.0   \n4  3f207df678b143eea3cee63160fa8bed       4.0              0.0       15.5   \n\n   diff  valid_completion  \n0   NaN               0.0  \n1   NaN               0.0  \n2   2.5               1.0  \n3   NaN               0.0  \n4   NaN               0.0  ",
      "text/html": "<div>\n<style scoped>\n    .dataframe tbody tr th:only-of-type {\n        vertical-align: middle;\n    }\n\n    .dataframe tbody tr th {\n        vertical-align: top;\n    }\n\n    .dataframe thead th {\n        text-align: right;\n    }\n</style>\n<table border=\"1\" class=\"dataframe\">\n  <thead>\n    <tr style=\"text-align: right;\">\n      <th></th>\n      <th>person</th>\n      <th>event</th>\n      <th>amount</th>\n      <th>id_x</th>\n      <th>offer_id</th>\n      <th>reward</th>\n      <th>channels</th>\n      <th>difficulty</th>\n      <th>offer_type</th>\n      <th>id_y</th>\n      <th>duration</th>\n      <th>completed_offer</th>\n      <th>day_offer</th>\n      <th>diff</th>\n      <th>valid_completion</th>\n    </tr>\n  </thead>\n  <tbody>\n    <tr>\n      <th>0</th>\n      <td>0009655768c64bdeb2e877511632db8f</td>\n      <td>offer received</td>\n      <td>NaN</td>\n      <td>5a8bc65990b245e5a138643cd4eb9837</td>\n      <td>5a8bc65990b245e5a138643cd4eb9837</td>\n      <td>0</td>\n      <td>[email, mobile, social]</td>\n      <td>0</td>\n      <td>informational</td>\n      <td>5a8bc65990b245e5a138643cd4eb9837</td>\n      <td>3.0</td>\n      <td>NaN</td>\n      <td>7.0</td>\n      <td>NaN</td>\n      <td>0.0</td>\n    </tr>\n    <tr>\n      <th>1</th>\n      <td>0009655768c64bdeb2e877511632db8f</td>\n      <td>offer viewed</td>\n      <td>NaN</td>\n      <td>5a8bc65990b245e5a138643cd4eb9837</td>\n      <td>5a8bc65990b245e5a138643cd4eb9837</td>\n      <td>0</td>\n      <td>[email, mobile, social]</td>\n      <td>0</td>\n      <td>informational</td>\n      <td>5a8bc65990b245e5a138643cd4eb9837</td>\n      <td>3.0</td>\n      <td>0.0</td>\n      <td>8.0</td>\n      <td>NaN</td>\n      <td>0.0</td>\n    </tr>\n    <tr>\n      <th>2</th>\n      <td>0009655768c64bdeb2e877511632db8f</td>\n      <td>transaction</td>\n      <td>22.16</td>\n      <td>NaN</td>\n      <td>5a8bc65990b245e5a138643cd4eb9837</td>\n      <td>0</td>\n      <td>[email, mobile, social]</td>\n      <td>0</td>\n      <td>informational</td>\n      <td>5a8bc65990b245e5a138643cd4eb9837</td>\n      <td>3.0</td>\n      <td>1.0</td>\n      <td>9.5</td>\n      <td>2.5</td>\n      <td>1.0</td>\n    </tr>\n    <tr>\n      <th>3</th>\n      <td>0009655768c64bdeb2e877511632db8f</td>\n      <td>offer received</td>\n      <td>NaN</td>\n      <td>3f207df678b143eea3cee63160fa8bed</td>\n      <td>3f207df678b143eea3cee63160fa8bed</td>\n      <td>0</td>\n      <td>[web, email, mobile]</td>\n      <td>0</td>\n      <td>informational</td>\n      <td>3f207df678b143eea3cee63160fa8bed</td>\n      <td>4.0</td>\n      <td>NaN</td>\n      <td>14.0</td>\n      <td>NaN</td>\n      <td>0.0</td>\n    </tr>\n    <tr>\n      <th>4</th>\n      <td>0009655768c64bdeb2e877511632db8f</td>\n      <td>offer viewed</td>\n      <td>NaN</td>\n      <td>3f207df678b143eea3cee63160fa8bed</td>\n      <td>3f207df678b143eea3cee63160fa8bed</td>\n      <td>0</td>\n      <td>[web, email, mobile]</td>\n      <td>0</td>\n      <td>informational</td>\n      <td>3f207df678b143eea3cee63160fa8bed</td>\n      <td>4.0</td>\n      <td>0.0</td>\n      <td>15.5</td>\n      <td>NaN</td>\n      <td>0.0</td>\n    </tr>\n  </tbody>\n</table>\n</div>"
     },
     "execution_count": 42,
     "metadata": {},
     "output_type": "execute_result"
    }
   ],
   "source": [
    "informational.head()"
   ],
   "metadata": {
    "collapsed": false,
    "pycharm": {
     "name": "#%%\n"
    }
   }
  },
  {
   "cell_type": "code",
   "execution_count": 43,
   "outputs": [],
   "source": [
    "#flag responded offers where completed_offer=1 and valid_completion=1\n",
    "informational['offer_responded'] = \\\n",
    "    np.where(((informational['completed_offer']==1) &\n",
    "              (informational['valid_completion']==1)), 1, 0)"
   ],
   "metadata": {
    "collapsed": false,
    "pycharm": {
     "name": "#%%\n"
    }
   }
  },
  {
   "cell_type": "code",
   "execution_count": 44,
   "outputs": [],
   "source": [
    "info_completed = informational[['person','offer_id']] \\\n",
    "                              [informational['offer_responded']==1] \\\n",
    "                              .groupby(['person','offer_id']) \\\n",
    "                              .sum().reset_index()"
   ],
   "metadata": {
    "collapsed": false,
    "pycharm": {
     "name": "#%%\n"
    }
   }
  },
  {
   "cell_type": "code",
   "execution_count": 45,
   "outputs": [
    {
     "data": {
      "text/plain": "                             person                          offer_id _merge\n0  0009655768c64bdeb2e877511632db8f  3f207df678b143eea3cee63160fa8bed   both\n1  0009655768c64bdeb2e877511632db8f  5a8bc65990b245e5a138643cd4eb9837   both\n2  0011e0d4e6b944f998e987f904e8c1e5  3f207df678b143eea3cee63160fa8bed   both\n3  0020c2b971eb4e9188eac86d93036a77  5a8bc65990b245e5a138643cd4eb9837   both\n4  0020ccbbb6d84e358d3414a3ff76cffd  5a8bc65990b245e5a138643cd4eb9837   both",
      "text/html": "<div>\n<style scoped>\n    .dataframe tbody tr th:only-of-type {\n        vertical-align: middle;\n    }\n\n    .dataframe tbody tr th {\n        vertical-align: top;\n    }\n\n    .dataframe thead th {\n        text-align: right;\n    }\n</style>\n<table border=\"1\" class=\"dataframe\">\n  <thead>\n    <tr style=\"text-align: right;\">\n      <th></th>\n      <th>person</th>\n      <th>offer_id</th>\n      <th>_merge</th>\n    </tr>\n  </thead>\n  <tbody>\n    <tr>\n      <th>0</th>\n      <td>0009655768c64bdeb2e877511632db8f</td>\n      <td>3f207df678b143eea3cee63160fa8bed</td>\n      <td>both</td>\n    </tr>\n    <tr>\n      <th>1</th>\n      <td>0009655768c64bdeb2e877511632db8f</td>\n      <td>5a8bc65990b245e5a138643cd4eb9837</td>\n      <td>both</td>\n    </tr>\n    <tr>\n      <th>2</th>\n      <td>0011e0d4e6b944f998e987f904e8c1e5</td>\n      <td>3f207df678b143eea3cee63160fa8bed</td>\n      <td>both</td>\n    </tr>\n    <tr>\n      <th>3</th>\n      <td>0020c2b971eb4e9188eac86d93036a77</td>\n      <td>5a8bc65990b245e5a138643cd4eb9837</td>\n      <td>both</td>\n    </tr>\n    <tr>\n      <th>4</th>\n      <td>0020ccbbb6d84e358d3414a3ff76cffd</td>\n      <td>5a8bc65990b245e5a138643cd4eb9837</td>\n      <td>both</td>\n    </tr>\n  </tbody>\n</table>\n</div>"
     },
     "execution_count": 45,
     "metadata": {},
     "output_type": "execute_result"
    }
   ],
   "source": [
    "informational_ids_transaction_completed = \\\n",
    "    informational[['person','offer_id']] \\\n",
    "                 [(informational['event']=='transaction') |\n",
    "                  (informational['event']=='offer completed')] \\\n",
    "                 .groupby(['person','offer_id']) \\\n",
    "                 .count().reset_index()\n",
    "\n",
    "informational_ids_received = \\\n",
    "    informational[['person','offer_id']] \\\n",
    "                 [informational['event']=='offer received'] \\\n",
    "                 .groupby(['person','offer_id']) \\\n",
    "                 .count().reset_index()\n",
    "\n",
    "informational_merged = \\\n",
    "    informational_ids_transaction_completed \\\n",
    "        .merge(informational_ids_received,\n",
    "               how='right',\n",
    "               on=['person','offer_id'],\n",
    "               indicator=True)"
   ],
   "metadata": {
    "collapsed": false,
    "pycharm": {
     "name": "#%%\n"
    }
   }
  },
  {
   "cell_type": "code",
   "execution_count": null,
   "outputs": [],
   "source": [
    "informational_merged.head()"
   ],
   "metadata": {
    "collapsed": false,
    "pycharm": {
     "name": "#%%\n"
    }
   }
  },
  {
   "cell_type": "code",
   "execution_count": 46,
   "outputs": [],
   "source": [
    "informational_no_transaction = \\\n",
    "    informational_merged[informational_merged['_merge']=='right_only']\n",
    "\n",
    "informational_no_transaction = \\\n",
    "    informational_no_transaction.merge(transcript_processed,\n",
    "                                       how='left',\n",
    "                                       on=['person','offer_id'])\n",
    "\n",
    "informational_viewed = \\\n",
    "    informational_no_transaction[['person','offer_id']] \\\n",
    "                                [informational_no_transaction['event']== \\\n",
    "                                     'offer viewed'] \\\n",
    "                                .groupby(['person','offer_id']) \\\n",
    "                                .count().reset_index()\n",
    "\n",
    "informational_no_transaction.drop(['_merge'], axis=1, inplace=True)\n",
    "\n",
    "informational_no_view = \\\n",
    "    informational_no_transaction.merge(\n",
    "            informational_viewed[['person','offer_id']],\n",
    "            how='left',\n",
    "            indicator=True)\n",
    "\n",
    "informational_no_view = \\\n",
    "    informational_no_view[informational_no_view['_merge']=='left_only'].copy()\n"
   ],
   "metadata": {
    "collapsed": false,
    "pycharm": {
     "name": "#%%\n"
    }
   }
  },
  {
   "cell_type": "code",
   "execution_count": 47,
   "outputs": [],
   "source": [
    "info_completed['offer_responded']=1\n",
    "informational_viewed['offer_responded']=0\n",
    "informational_offer = info_completed.append(informational_viewed, sort=False)"
   ],
   "metadata": {
    "collapsed": false,
    "pycharm": {
     "name": "#%%\n"
    }
   }
  },
  {
   "cell_type": "markdown",
   "source": [
    "## Feature engineering\n",
    "\n",
    "After basic processing, the next step will look if there are any columns that can be used to create new features.\n",
    "\n",
    "- generate a new column for length of customer's membership"
   ],
   "metadata": {
    "collapsed": false
   }
  },
  {
   "cell_type": "code",
   "execution_count": 48,
   "outputs": [],
   "source": [
    "profile.rename(columns={'id':'person'},inplace=True)"
   ],
   "metadata": {
    "collapsed": false,
    "pycharm": {
     "name": "#%%\n"
    }
   }
  },
  {
   "cell_type": "code",
   "execution_count": 49,
   "outputs": [],
   "source": [
    "#create function to generate the length of time since the user become the member\n",
    "def member_since(df):\n",
    "    '''\n",
    "    inputs:\n",
    "    - df: dataframe to generate the ength of time since the user become the member\n",
    "    outputs:\n",
    "    - Returns dataframe with became_member_on column transformed to be tenure in days\n",
    "    \n",
    "    '''\n",
    "    #merge to get user demographic profile\n",
    "    df=df.merge(profile, how='left', on='person')\n",
    "    \n",
    "    df['year']=pd.Series([int(str(x)[:4]) for x in df['became_member_on']])\n",
    "    df['month']=pd.Series([int(str(x)[-3]) for x in df['became_member_on']])\n",
    "    df['day']=pd.Series([int(str(x)[-2:]) for x in df['became_member_on']])\n",
    "\n",
    "    df = df.drop('became_member_on', axis=1, inplace=False)\n",
    "\n",
    "    df.loc[df['year'] == 2018, 'membership_days'] = (30*df['month'])+df['day']\n",
    "    df.loc[df['year'] != 2018, 'membership_days'] = ((2018-df['year'])*365) + \\\n",
    "                                                    (30*df['month'])+df['day']\n",
    "\n",
    "    df = df.drop(['year','month','day'], axis=1, inplace=False)\n",
    "    \n",
    "    return df"
   ],
   "metadata": {
    "collapsed": false,
    "pycharm": {
     "name": "#%%\n"
    }
   }
  },
  {
   "cell_type": "code",
   "execution_count": 50,
   "outputs": [],
   "source": [
    "bogo_offer=member_since(bogo_offer)\n",
    "discount_offer=member_since(discount_offer)\n",
    "informational_offer=member_since(informational_offer)"
   ],
   "metadata": {
    "collapsed": false,
    "pycharm": {
     "name": "#%%\n"
    }
   }
  },
  {
   "cell_type": "code",
   "execution_count": 51,
   "outputs": [
    {
     "data": {
      "text/plain": "                             person                          offer_id  \\\n0  0011e0d4e6b944f998e987f904e8c1e5  9b98b8c7a33c4b65b9aebfe6a799e6d9   \n1  0020c2b971eb4e9188eac86d93036a77  4d5c57ea9a6940dd891ad53e9dbe8da0   \n2  0020ccbbb6d84e358d3414a3ff76cffd  9b98b8c7a33c4b65b9aebfe6a799e6d9   \n3  0020ccbbb6d84e358d3414a3ff76cffd  f19421c1d4aa40978ebb69ca19b0e20d   \n4  004b041fbfe44859945daa2c7f79ee64  f19421c1d4aa40978ebb69ca19b0e20d   \n\n   offer_responded gender  age   income  membership_days  \n0                1      O   40  57000.0             39.0  \n1                1      F   59  90000.0            824.0  \n2                1      F   24  60000.0            771.0  \n3                1      F   24  60000.0            771.0  \n4                1      F   55  74000.0            158.0  ",
      "text/html": "<div>\n<style scoped>\n    .dataframe tbody tr th:only-of-type {\n        vertical-align: middle;\n    }\n\n    .dataframe tbody tr th {\n        vertical-align: top;\n    }\n\n    .dataframe thead th {\n        text-align: right;\n    }\n</style>\n<table border=\"1\" class=\"dataframe\">\n  <thead>\n    <tr style=\"text-align: right;\">\n      <th></th>\n      <th>person</th>\n      <th>offer_id</th>\n      <th>offer_responded</th>\n      <th>gender</th>\n      <th>age</th>\n      <th>income</th>\n      <th>membership_days</th>\n    </tr>\n  </thead>\n  <tbody>\n    <tr>\n      <th>0</th>\n      <td>0011e0d4e6b944f998e987f904e8c1e5</td>\n      <td>9b98b8c7a33c4b65b9aebfe6a799e6d9</td>\n      <td>1</td>\n      <td>O</td>\n      <td>40</td>\n      <td>57000.0</td>\n      <td>39.0</td>\n    </tr>\n    <tr>\n      <th>1</th>\n      <td>0020c2b971eb4e9188eac86d93036a77</td>\n      <td>4d5c57ea9a6940dd891ad53e9dbe8da0</td>\n      <td>1</td>\n      <td>F</td>\n      <td>59</td>\n      <td>90000.0</td>\n      <td>824.0</td>\n    </tr>\n    <tr>\n      <th>2</th>\n      <td>0020ccbbb6d84e358d3414a3ff76cffd</td>\n      <td>9b98b8c7a33c4b65b9aebfe6a799e6d9</td>\n      <td>1</td>\n      <td>F</td>\n      <td>24</td>\n      <td>60000.0</td>\n      <td>771.0</td>\n    </tr>\n    <tr>\n      <th>3</th>\n      <td>0020ccbbb6d84e358d3414a3ff76cffd</td>\n      <td>f19421c1d4aa40978ebb69ca19b0e20d</td>\n      <td>1</td>\n      <td>F</td>\n      <td>24</td>\n      <td>60000.0</td>\n      <td>771.0</td>\n    </tr>\n    <tr>\n      <th>4</th>\n      <td>004b041fbfe44859945daa2c7f79ee64</td>\n      <td>f19421c1d4aa40978ebb69ca19b0e20d</td>\n      <td>1</td>\n      <td>F</td>\n      <td>55</td>\n      <td>74000.0</td>\n      <td>158.0</td>\n    </tr>\n  </tbody>\n</table>\n</div>"
     },
     "execution_count": 51,
     "metadata": {},
     "output_type": "execute_result"
    }
   ],
   "source": [
    "bogo_offer.head()"
   ],
   "metadata": {
    "collapsed": false,
    "pycharm": {
     "name": "#%%\n"
    }
   }
  },
  {
   "cell_type": "markdown",
   "source": [
    "- generate the count of offer received for each user"
   ],
   "metadata": {
    "collapsed": false
   }
  },
  {
   "cell_type": "code",
   "execution_count": 52,
   "outputs": [
    {
     "data": {
      "text/plain": "                             person           event  \\\n0  78afa995795e4d85b5d9ceeca43f5fef  offer received   \n1  a03223e636434f42ac4c3df47e8bac43  offer received   \n2  e2127556f4f64592b11af22de27a7932  offer received   \n3  8ec6ce2a7e7949b1bf142def7d0e0586  offer received   \n4  68617ca6246f4fbc85e91a2a49552598  offer received   \n\n                                              value  time  amount  reward_x  \\\n0  {'offer id': '9b98b8c7a33c4b65b9aebfe6a799e6d9'}     0     NaN       NaN   \n1  {'offer id': '0b1e1539f2cc45b7b9fa7c272da2e1d7'}     0     NaN       NaN   \n2  {'offer id': '2906b810c7d4411798c6938adc9daaa5'}     0     NaN       NaN   \n3  {'offer id': 'fafdcd668e3743c1bb461111dcafc2a4'}     0     NaN       NaN   \n4  {'offer id': '4d5c57ea9a6940dd891ad53e9dbe8da0'}     0     NaN       NaN   \n\n                           offer_id  reward_y                      channels  \\\n0  9b98b8c7a33c4b65b9aebfe6a799e6d9       5.0          [web, email, mobile]   \n1  0b1e1539f2cc45b7b9fa7c272da2e1d7       5.0                  [web, email]   \n2  2906b810c7d4411798c6938adc9daaa5       2.0          [web, email, mobile]   \n3  fafdcd668e3743c1bb461111dcafc2a4       2.0  [web, email, mobile, social]   \n4  4d5c57ea9a6940dd891ad53e9dbe8da0      10.0  [web, email, mobile, social]   \n\n   difficulty  duration offer_type                                id  \n0         5.0       7.0       bogo  9b98b8c7a33c4b65b9aebfe6a799e6d9  \n1        20.0      10.0   discount  0b1e1539f2cc45b7b9fa7c272da2e1d7  \n2        10.0       7.0   discount  2906b810c7d4411798c6938adc9daaa5  \n3        10.0      10.0   discount  fafdcd668e3743c1bb461111dcafc2a4  \n4        10.0       5.0       bogo  4d5c57ea9a6940dd891ad53e9dbe8da0  ",
      "text/html": "<div>\n<style scoped>\n    .dataframe tbody tr th:only-of-type {\n        vertical-align: middle;\n    }\n\n    .dataframe tbody tr th {\n        vertical-align: top;\n    }\n\n    .dataframe thead th {\n        text-align: right;\n    }\n</style>\n<table border=\"1\" class=\"dataframe\">\n  <thead>\n    <tr style=\"text-align: right;\">\n      <th></th>\n      <th>person</th>\n      <th>event</th>\n      <th>value</th>\n      <th>time</th>\n      <th>amount</th>\n      <th>reward_x</th>\n      <th>offer_id</th>\n      <th>reward_y</th>\n      <th>channels</th>\n      <th>difficulty</th>\n      <th>duration</th>\n      <th>offer_type</th>\n      <th>id</th>\n    </tr>\n  </thead>\n  <tbody>\n    <tr>\n      <th>0</th>\n      <td>78afa995795e4d85b5d9ceeca43f5fef</td>\n      <td>offer received</td>\n      <td>{'offer id': '9b98b8c7a33c4b65b9aebfe6a799e6d9'}</td>\n      <td>0</td>\n      <td>NaN</td>\n      <td>NaN</td>\n      <td>9b98b8c7a33c4b65b9aebfe6a799e6d9</td>\n      <td>5.0</td>\n      <td>[web, email, mobile]</td>\n      <td>5.0</td>\n      <td>7.0</td>\n      <td>bogo</td>\n      <td>9b98b8c7a33c4b65b9aebfe6a799e6d9</td>\n    </tr>\n    <tr>\n      <th>1</th>\n      <td>a03223e636434f42ac4c3df47e8bac43</td>\n      <td>offer received</td>\n      <td>{'offer id': '0b1e1539f2cc45b7b9fa7c272da2e1d7'}</td>\n      <td>0</td>\n      <td>NaN</td>\n      <td>NaN</td>\n      <td>0b1e1539f2cc45b7b9fa7c272da2e1d7</td>\n      <td>5.0</td>\n      <td>[web, email]</td>\n      <td>20.0</td>\n      <td>10.0</td>\n      <td>discount</td>\n      <td>0b1e1539f2cc45b7b9fa7c272da2e1d7</td>\n    </tr>\n    <tr>\n      <th>2</th>\n      <td>e2127556f4f64592b11af22de27a7932</td>\n      <td>offer received</td>\n      <td>{'offer id': '2906b810c7d4411798c6938adc9daaa5'}</td>\n      <td>0</td>\n      <td>NaN</td>\n      <td>NaN</td>\n      <td>2906b810c7d4411798c6938adc9daaa5</td>\n      <td>2.0</td>\n      <td>[web, email, mobile]</td>\n      <td>10.0</td>\n      <td>7.0</td>\n      <td>discount</td>\n      <td>2906b810c7d4411798c6938adc9daaa5</td>\n    </tr>\n    <tr>\n      <th>3</th>\n      <td>8ec6ce2a7e7949b1bf142def7d0e0586</td>\n      <td>offer received</td>\n      <td>{'offer id': 'fafdcd668e3743c1bb461111dcafc2a4'}</td>\n      <td>0</td>\n      <td>NaN</td>\n      <td>NaN</td>\n      <td>fafdcd668e3743c1bb461111dcafc2a4</td>\n      <td>2.0</td>\n      <td>[web, email, mobile, social]</td>\n      <td>10.0</td>\n      <td>10.0</td>\n      <td>discount</td>\n      <td>fafdcd668e3743c1bb461111dcafc2a4</td>\n    </tr>\n    <tr>\n      <th>4</th>\n      <td>68617ca6246f4fbc85e91a2a49552598</td>\n      <td>offer received</td>\n      <td>{'offer id': '4d5c57ea9a6940dd891ad53e9dbe8da0'}</td>\n      <td>0</td>\n      <td>NaN</td>\n      <td>NaN</td>\n      <td>4d5c57ea9a6940dd891ad53e9dbe8da0</td>\n      <td>10.0</td>\n      <td>[web, email, mobile, social]</td>\n      <td>10.0</td>\n      <td>5.0</td>\n      <td>bogo</td>\n      <td>4d5c57ea9a6940dd891ad53e9dbe8da0</td>\n    </tr>\n  </tbody>\n</table>\n</div>"
     },
     "execution_count": 52,
     "metadata": {},
     "output_type": "execute_result"
    }
   ],
   "source": [
    "transcript.head()"
   ],
   "metadata": {
    "collapsed": false,
    "pycharm": {
     "name": "#%%\n"
    }
   }
  },
  {
   "cell_type": "code",
   "execution_count": 53,
   "outputs": [
    {
     "data": {
      "text/plain": "                             person                          offer_id  \\\n0  0009655768c64bdeb2e877511632db8f  2906b810c7d4411798c6938adc9daaa5   \n1  0009655768c64bdeb2e877511632db8f  3f207df678b143eea3cee63160fa8bed   \n2  0009655768c64bdeb2e877511632db8f  5a8bc65990b245e5a138643cd4eb9837   \n3  0009655768c64bdeb2e877511632db8f  f19421c1d4aa40978ebb69ca19b0e20d   \n4  0009655768c64bdeb2e877511632db8f  fafdcd668e3743c1bb461111dcafc2a4   \n\n   offer_received_cnt  \n0                   1  \n1                   1  \n2                   1  \n3                   1  \n4                   1  ",
      "text/html": "<div>\n<style scoped>\n    .dataframe tbody tr th:only-of-type {\n        vertical-align: middle;\n    }\n\n    .dataframe tbody tr th {\n        vertical-align: top;\n    }\n\n    .dataframe thead th {\n        text-align: right;\n    }\n</style>\n<table border=\"1\" class=\"dataframe\">\n  <thead>\n    <tr style=\"text-align: right;\">\n      <th></th>\n      <th>person</th>\n      <th>offer_id</th>\n      <th>offer_received_cnt</th>\n    </tr>\n  </thead>\n  <tbody>\n    <tr>\n      <th>0</th>\n      <td>0009655768c64bdeb2e877511632db8f</td>\n      <td>2906b810c7d4411798c6938adc9daaa5</td>\n      <td>1</td>\n    </tr>\n    <tr>\n      <th>1</th>\n      <td>0009655768c64bdeb2e877511632db8f</td>\n      <td>3f207df678b143eea3cee63160fa8bed</td>\n      <td>1</td>\n    </tr>\n    <tr>\n      <th>2</th>\n      <td>0009655768c64bdeb2e877511632db8f</td>\n      <td>5a8bc65990b245e5a138643cd4eb9837</td>\n      <td>1</td>\n    </tr>\n    <tr>\n      <th>3</th>\n      <td>0009655768c64bdeb2e877511632db8f</td>\n      <td>f19421c1d4aa40978ebb69ca19b0e20d</td>\n      <td>1</td>\n    </tr>\n    <tr>\n      <th>4</th>\n      <td>0009655768c64bdeb2e877511632db8f</td>\n      <td>fafdcd668e3743c1bb461111dcafc2a4</td>\n      <td>1</td>\n    </tr>\n  </tbody>\n</table>\n</div>"
     },
     "execution_count": 53,
     "metadata": {},
     "output_type": "execute_result"
    }
   ],
   "source": [
    "# generate the count of offers received per person\n",
    "offer_cnt = transcript_processed[\n",
    "    transcript_processed['event']=='offer received'] \\\n",
    "    .groupby(['person','offer_id','time']) \\\n",
    "    .count()['event'].reset_index()\n",
    "\n",
    "offer_cnt.rename(columns={'event':'offer_received_cnt'},inplace=True)\n",
    "\n",
    "offer_cnt.drop(['time'], axis=1, inplace=True)\n",
    "\n",
    "# ensure only unique person-offer_id pairs\n",
    "offer_cnt=offer_cnt.groupby(['person','offer_id']).sum().reset_index()\n",
    "offer_cnt.head()"
   ],
   "metadata": {
    "collapsed": false,
    "pycharm": {
     "name": "#%%\n"
    }
   }
  },
  {
   "cell_type": "markdown",
   "source": [
    "- subtract the transactions which's not related to the offer"
   ],
   "metadata": {
    "collapsed": false
   }
  },
  {
   "cell_type": "code",
   "execution_count": 54,
   "outputs": [],
   "source": [
    "# subtract the transactions which's not related to the offer\n",
    "transactions_not_related = \\\n",
    "    transcript_processed[(transcript_processed['event']=='transaction') &\n",
    "                         (transcript_processed['completed_offer']==0)] \\\n",
    "                         .groupby(['person','offer_id'])['amount'] \\\n",
    "                         .sum().reset_index()\n",
    "\n",
    "transactions_not_related.rename(columns={'amount':'amount_invalid'},\n",
    "                                inplace=True)"
   ],
   "metadata": {
    "collapsed": false,
    "pycharm": {
     "name": "#%%\n"
    }
   }
  },
  {
   "cell_type": "markdown",
   "source": [
    "- calculate the time lap between offers"
   ],
   "metadata": {
    "collapsed": false
   }
  },
  {
   "cell_type": "code",
   "execution_count": 55,
   "outputs": [],
   "source": [
    "# convert time into days\n",
    "transcript_processed['day_offer'] = transcript_processed['time'] / 24\n",
    "# drop unnecessary columns\n",
    "transcript_processed.drop(['time'], axis=1, inplace=True)\n",
    "\n",
    "# calculate the time between offers\n",
    "transcript_processed['time_gap'] = \\\n",
    "    transcript_processed[transcript_processed['event']=='offer received'] \\\n",
    "        .groupby(['person','offer_id'])['day_offer'].diff()\n",
    "\n",
    "# fill missing values with 0\n",
    "transcript_processed['time_gap'] = transcript_processed['time_gap'] \\\n",
    "                                       .fillna(value=0)\n",
    "\n",
    "df_time_gap = transcript_processed.groupby(['person','offer_id'])['time_gap'] \\\n",
    "                                  .sum().reset_index()"
   ],
   "metadata": {
    "collapsed": false,
    "pycharm": {
     "name": "#%%\n"
    }
   }
  },
  {
   "cell_type": "markdown",
   "source": [
    "- Merge the temporary data created above together, then drop the missing values in gender column, and split the channel column to the categorical variable"
   ],
   "metadata": {
    "collapsed": false
   }
  },
  {
   "cell_type": "code",
   "execution_count": 56,
   "outputs": [],
   "source": [
    "# merge to get offers received count and invalid amount transacted \n",
    "bogo_offer = bogo_offer.merge(offer_cnt[['person', 'offer_id',\n",
    "                                         'offer_received_cnt']],\n",
    "                              how='left',on=['person','offer_id'])\n",
    "\n",
    "bogo_offer = bogo_offer.merge(transactions_not_related[['person', 'offer_id',\n",
    "                                                        'amount_invalid']],\n",
    "                              how='left',on=['person','offer_id'])"
   ],
   "metadata": {
    "collapsed": false,
    "pycharm": {
     "name": "#%%\n"
    }
   }
  },
  {
   "cell_type": "code",
   "execution_count": 57,
   "outputs": [],
   "source": [
    "# fill missing values for amount_invalid with 0\n",
    "bogo_offer['amount_invalid']=bogo_offer['amount_invalid'].fillna(value=0)\n",
    "bogo_offer.dropna(inplace=True)"
   ],
   "metadata": {
    "collapsed": false,
    "pycharm": {
     "name": "#%%\n"
    }
   }
  },
  {
   "cell_type": "code",
   "execution_count": 58,
   "outputs": [
    {
     "data": {
      "text/plain": "                             person                          offer_id  \\\n0  0011e0d4e6b944f998e987f904e8c1e5  9b98b8c7a33c4b65b9aebfe6a799e6d9   \n1  0020c2b971eb4e9188eac86d93036a77  4d5c57ea9a6940dd891ad53e9dbe8da0   \n2  0020ccbbb6d84e358d3414a3ff76cffd  9b98b8c7a33c4b65b9aebfe6a799e6d9   \n3  0020ccbbb6d84e358d3414a3ff76cffd  f19421c1d4aa40978ebb69ca19b0e20d   \n4  004b041fbfe44859945daa2c7f79ee64  f19421c1d4aa40978ebb69ca19b0e20d   \n\n   offer_responded gender  age   income  membership_days  offer_received_cnt  \\\n0                1      O   40  57000.0             39.0                   1   \n1                1      F   59  90000.0            824.0                   1   \n2                1      F   24  60000.0            771.0                   1   \n3                1      F   24  60000.0            771.0                   1   \n4                1      F   55  74000.0            158.0                   1   \n\n   amount_invalid  \n0             0.0  \n1             0.0  \n2             0.0  \n3             0.0  \n4             0.0  ",
      "text/html": "<div>\n<style scoped>\n    .dataframe tbody tr th:only-of-type {\n        vertical-align: middle;\n    }\n\n    .dataframe tbody tr th {\n        vertical-align: top;\n    }\n\n    .dataframe thead th {\n        text-align: right;\n    }\n</style>\n<table border=\"1\" class=\"dataframe\">\n  <thead>\n    <tr style=\"text-align: right;\">\n      <th></th>\n      <th>person</th>\n      <th>offer_id</th>\n      <th>offer_responded</th>\n      <th>gender</th>\n      <th>age</th>\n      <th>income</th>\n      <th>membership_days</th>\n      <th>offer_received_cnt</th>\n      <th>amount_invalid</th>\n    </tr>\n  </thead>\n  <tbody>\n    <tr>\n      <th>0</th>\n      <td>0011e0d4e6b944f998e987f904e8c1e5</td>\n      <td>9b98b8c7a33c4b65b9aebfe6a799e6d9</td>\n      <td>1</td>\n      <td>O</td>\n      <td>40</td>\n      <td>57000.0</td>\n      <td>39.0</td>\n      <td>1</td>\n      <td>0.0</td>\n    </tr>\n    <tr>\n      <th>1</th>\n      <td>0020c2b971eb4e9188eac86d93036a77</td>\n      <td>4d5c57ea9a6940dd891ad53e9dbe8da0</td>\n      <td>1</td>\n      <td>F</td>\n      <td>59</td>\n      <td>90000.0</td>\n      <td>824.0</td>\n      <td>1</td>\n      <td>0.0</td>\n    </tr>\n    <tr>\n      <th>2</th>\n      <td>0020ccbbb6d84e358d3414a3ff76cffd</td>\n      <td>9b98b8c7a33c4b65b9aebfe6a799e6d9</td>\n      <td>1</td>\n      <td>F</td>\n      <td>24</td>\n      <td>60000.0</td>\n      <td>771.0</td>\n      <td>1</td>\n      <td>0.0</td>\n    </tr>\n    <tr>\n      <th>3</th>\n      <td>0020ccbbb6d84e358d3414a3ff76cffd</td>\n      <td>f19421c1d4aa40978ebb69ca19b0e20d</td>\n      <td>1</td>\n      <td>F</td>\n      <td>24</td>\n      <td>60000.0</td>\n      <td>771.0</td>\n      <td>1</td>\n      <td>0.0</td>\n    </tr>\n    <tr>\n      <th>4</th>\n      <td>004b041fbfe44859945daa2c7f79ee64</td>\n      <td>f19421c1d4aa40978ebb69ca19b0e20d</td>\n      <td>1</td>\n      <td>F</td>\n      <td>55</td>\n      <td>74000.0</td>\n      <td>158.0</td>\n      <td>1</td>\n      <td>0.0</td>\n    </tr>\n  </tbody>\n</table>\n</div>"
     },
     "execution_count": 58,
     "metadata": {},
     "output_type": "execute_result"
    }
   ],
   "source": [
    "bogo_offer.head()"
   ],
   "metadata": {
    "collapsed": false,
    "pycharm": {
     "name": "#%%\n"
    }
   }
  },
  {
   "cell_type": "code",
   "execution_count": 59,
   "outputs": [],
   "source": [
    "# Split the channel column into categorical variables\n",
    "def rename(col_name,df):\n",
    "    df[col_name]=np.where(df[col_name]==col_name,1,0)\n",
    "    return df\n",
    "\n",
    "# dummy variable encoding function\n",
    "def dummy(df,col):\n",
    "    df = pd.concat([df[:],pd.get_dummies(df[col],prefix=col)],axis=1)\n",
    "    df = df.drop([col], axis=1, inplace=False)\n",
    "    return df\n",
    "\n",
    "portfolio.rename(columns={'id':'offer_id'}, inplace=True)"
   ],
   "metadata": {
    "collapsed": false,
    "pycharm": {
     "name": "#%%\n"
    }
   }
  },
  {
   "cell_type": "code",
   "execution_count": 60,
   "outputs": [],
   "source": [
    "# merge with portfolio to get offer details\n",
    "bogo_offer=bogo_offer.merge(portfolio,how='left',on='offer_id')\n",
    "\n",
    "# convert channels into categorical variables\n",
    "channels = bogo_offer['channels'].apply(pd.Series)\n",
    "channels = channels.rename(columns={0:'web',1:'email',2:'mobile',3:'social'})\n",
    "bogo_offer = pd.concat([bogo_offer[:], channels[:]], axis=1)\n",
    "rename('web',bogo_offer)\n",
    "rename('email',bogo_offer)\n",
    "rename('mobile',bogo_offer)\n",
    "rename('social',bogo_offer)\n",
    "bogo_offer = bogo_offer.drop(['channels'], axis=1, inplace=False)\n",
    "\n",
    "# convert gender into categorical variables\n",
    "bogo_offer=dummy(bogo_offer,'gender')"
   ],
   "metadata": {
    "collapsed": false,
    "pycharm": {
     "name": "#%%\n"
    }
   }
  },
  {
   "cell_type": "code",
   "execution_count": 61,
   "outputs": [
    {
     "data": {
      "text/plain": "                             person                          offer_id  \\\n0  0011e0d4e6b944f998e987f904e8c1e5  9b98b8c7a33c4b65b9aebfe6a799e6d9   \n1  0020c2b971eb4e9188eac86d93036a77  4d5c57ea9a6940dd891ad53e9dbe8da0   \n2  0020ccbbb6d84e358d3414a3ff76cffd  9b98b8c7a33c4b65b9aebfe6a799e6d9   \n3  0020ccbbb6d84e358d3414a3ff76cffd  f19421c1d4aa40978ebb69ca19b0e20d   \n4  004b041fbfe44859945daa2c7f79ee64  f19421c1d4aa40978ebb69ca19b0e20d   \n\n   offer_responded  age   income  membership_days  offer_received_cnt  \\\n0                1   40  57000.0             39.0                   1   \n1                1   59  90000.0            824.0                   1   \n2                1   24  60000.0            771.0                   1   \n3                1   24  60000.0            771.0                   1   \n4                1   55  74000.0            158.0                   1   \n\n   amount_invalid  reward  difficulty  duration offer_type  web  email  \\\n0             0.0       5           5         7       bogo    1      1   \n1             0.0      10          10         5       bogo    1      1   \n2             0.0       5           5         7       bogo    1      1   \n3             0.0       5           5         5       bogo    1      1   \n4             0.0       5           5         5       bogo    1      1   \n\n   mobile  social  gender_F  gender_M  gender_O  \n0       1       0         0         0         1  \n1       1       1         1         0         0  \n2       1       0         1         0         0  \n3       1       1         1         0         0  \n4       1       1         1         0         0  ",
      "text/html": "<div>\n<style scoped>\n    .dataframe tbody tr th:only-of-type {\n        vertical-align: middle;\n    }\n\n    .dataframe tbody tr th {\n        vertical-align: top;\n    }\n\n    .dataframe thead th {\n        text-align: right;\n    }\n</style>\n<table border=\"1\" class=\"dataframe\">\n  <thead>\n    <tr style=\"text-align: right;\">\n      <th></th>\n      <th>person</th>\n      <th>offer_id</th>\n      <th>offer_responded</th>\n      <th>age</th>\n      <th>income</th>\n      <th>membership_days</th>\n      <th>offer_received_cnt</th>\n      <th>amount_invalid</th>\n      <th>reward</th>\n      <th>difficulty</th>\n      <th>duration</th>\n      <th>offer_type</th>\n      <th>web</th>\n      <th>email</th>\n      <th>mobile</th>\n      <th>social</th>\n      <th>gender_F</th>\n      <th>gender_M</th>\n      <th>gender_O</th>\n    </tr>\n  </thead>\n  <tbody>\n    <tr>\n      <th>0</th>\n      <td>0011e0d4e6b944f998e987f904e8c1e5</td>\n      <td>9b98b8c7a33c4b65b9aebfe6a799e6d9</td>\n      <td>1</td>\n      <td>40</td>\n      <td>57000.0</td>\n      <td>39.0</td>\n      <td>1</td>\n      <td>0.0</td>\n      <td>5</td>\n      <td>5</td>\n      <td>7</td>\n      <td>bogo</td>\n      <td>1</td>\n      <td>1</td>\n      <td>1</td>\n      <td>0</td>\n      <td>0</td>\n      <td>0</td>\n      <td>1</td>\n    </tr>\n    <tr>\n      <th>1</th>\n      <td>0020c2b971eb4e9188eac86d93036a77</td>\n      <td>4d5c57ea9a6940dd891ad53e9dbe8da0</td>\n      <td>1</td>\n      <td>59</td>\n      <td>90000.0</td>\n      <td>824.0</td>\n      <td>1</td>\n      <td>0.0</td>\n      <td>10</td>\n      <td>10</td>\n      <td>5</td>\n      <td>bogo</td>\n      <td>1</td>\n      <td>1</td>\n      <td>1</td>\n      <td>1</td>\n      <td>1</td>\n      <td>0</td>\n      <td>0</td>\n    </tr>\n    <tr>\n      <th>2</th>\n      <td>0020ccbbb6d84e358d3414a3ff76cffd</td>\n      <td>9b98b8c7a33c4b65b9aebfe6a799e6d9</td>\n      <td>1</td>\n      <td>24</td>\n      <td>60000.0</td>\n      <td>771.0</td>\n      <td>1</td>\n      <td>0.0</td>\n      <td>5</td>\n      <td>5</td>\n      <td>7</td>\n      <td>bogo</td>\n      <td>1</td>\n      <td>1</td>\n      <td>1</td>\n      <td>0</td>\n      <td>1</td>\n      <td>0</td>\n      <td>0</td>\n    </tr>\n    <tr>\n      <th>3</th>\n      <td>0020ccbbb6d84e358d3414a3ff76cffd</td>\n      <td>f19421c1d4aa40978ebb69ca19b0e20d</td>\n      <td>1</td>\n      <td>24</td>\n      <td>60000.0</td>\n      <td>771.0</td>\n      <td>1</td>\n      <td>0.0</td>\n      <td>5</td>\n      <td>5</td>\n      <td>5</td>\n      <td>bogo</td>\n      <td>1</td>\n      <td>1</td>\n      <td>1</td>\n      <td>1</td>\n      <td>1</td>\n      <td>0</td>\n      <td>0</td>\n    </tr>\n    <tr>\n      <th>4</th>\n      <td>004b041fbfe44859945daa2c7f79ee64</td>\n      <td>f19421c1d4aa40978ebb69ca19b0e20d</td>\n      <td>1</td>\n      <td>55</td>\n      <td>74000.0</td>\n      <td>158.0</td>\n      <td>1</td>\n      <td>0.0</td>\n      <td>5</td>\n      <td>5</td>\n      <td>5</td>\n      <td>bogo</td>\n      <td>1</td>\n      <td>1</td>\n      <td>1</td>\n      <td>1</td>\n      <td>1</td>\n      <td>0</td>\n      <td>0</td>\n    </tr>\n  </tbody>\n</table>\n</div>"
     },
     "execution_count": 61,
     "metadata": {},
     "output_type": "execute_result"
    }
   ],
   "source": [
    "# quick check on processed data\n",
    "bogo_offer.head()"
   ],
   "metadata": {
    "collapsed": false,
    "pycharm": {
     "name": "#%%\n"
    }
   }
  },
  {
   "cell_type": "code",
   "execution_count": 62,
   "outputs": [
    {
     "data": {
      "text/plain": "                             person                          offer_id  \\\n0  0011e0d4e6b944f998e987f904e8c1e5  0b1e1539f2cc45b7b9fa7c272da2e1d7   \n1  0011e0d4e6b944f998e987f904e8c1e5  2298d6c36e964ae4a3e7e9706d1fb8c2   \n2  0020c2b971eb4e9188eac86d93036a77  fafdcd668e3743c1bb461111dcafc2a4   \n3  0020ccbbb6d84e358d3414a3ff76cffd  2298d6c36e964ae4a3e7e9706d1fb8c2   \n4  003d66b6608740288d6cc97a6903f4f0  fafdcd668e3743c1bb461111dcafc2a4   \n\n   offer_responded gender  age   income  membership_days  \n0                1      O   40  57000.0             39.0  \n1                1      O   40  57000.0             39.0  \n2                1      F   59  90000.0            824.0  \n3                1      F   24  60000.0            771.0  \n4                1      F   26  73000.0            566.0  ",
      "text/html": "<div>\n<style scoped>\n    .dataframe tbody tr th:only-of-type {\n        vertical-align: middle;\n    }\n\n    .dataframe tbody tr th {\n        vertical-align: top;\n    }\n\n    .dataframe thead th {\n        text-align: right;\n    }\n</style>\n<table border=\"1\" class=\"dataframe\">\n  <thead>\n    <tr style=\"text-align: right;\">\n      <th></th>\n      <th>person</th>\n      <th>offer_id</th>\n      <th>offer_responded</th>\n      <th>gender</th>\n      <th>age</th>\n      <th>income</th>\n      <th>membership_days</th>\n    </tr>\n  </thead>\n  <tbody>\n    <tr>\n      <th>0</th>\n      <td>0011e0d4e6b944f998e987f904e8c1e5</td>\n      <td>0b1e1539f2cc45b7b9fa7c272da2e1d7</td>\n      <td>1</td>\n      <td>O</td>\n      <td>40</td>\n      <td>57000.0</td>\n      <td>39.0</td>\n    </tr>\n    <tr>\n      <th>1</th>\n      <td>0011e0d4e6b944f998e987f904e8c1e5</td>\n      <td>2298d6c36e964ae4a3e7e9706d1fb8c2</td>\n      <td>1</td>\n      <td>O</td>\n      <td>40</td>\n      <td>57000.0</td>\n      <td>39.0</td>\n    </tr>\n    <tr>\n      <th>2</th>\n      <td>0020c2b971eb4e9188eac86d93036a77</td>\n      <td>fafdcd668e3743c1bb461111dcafc2a4</td>\n      <td>1</td>\n      <td>F</td>\n      <td>59</td>\n      <td>90000.0</td>\n      <td>824.0</td>\n    </tr>\n    <tr>\n      <th>3</th>\n      <td>0020ccbbb6d84e358d3414a3ff76cffd</td>\n      <td>2298d6c36e964ae4a3e7e9706d1fb8c2</td>\n      <td>1</td>\n      <td>F</td>\n      <td>24</td>\n      <td>60000.0</td>\n      <td>771.0</td>\n    </tr>\n    <tr>\n      <th>4</th>\n      <td>003d66b6608740288d6cc97a6903f4f0</td>\n      <td>fafdcd668e3743c1bb461111dcafc2a4</td>\n      <td>1</td>\n      <td>F</td>\n      <td>26</td>\n      <td>73000.0</td>\n      <td>566.0</td>\n    </tr>\n  </tbody>\n</table>\n</div>"
     },
     "execution_count": 62,
     "metadata": {},
     "output_type": "execute_result"
    }
   ],
   "source": [
    "# quick view on discount_offer data\n",
    "discount_offer.head()"
   ],
   "metadata": {
    "collapsed": false,
    "pycharm": {
     "name": "#%%\n"
    }
   }
  },
  {
   "cell_type": "code",
   "execution_count": 63,
   "outputs": [],
   "source": [
    "# do the same processing on discount data\n",
    "# merge to get offers received count and invalid amount transacted \n",
    "discount_offer = discount_offer.merge(offer_cnt[['person', 'offer_id',\n",
    "                                                 'offer_received_cnt']],\n",
    "                                      how='left', on=['person','offer_id'])\n",
    "\n",
    "discount_offer = discount_offer.merge(\n",
    "        transactions_not_related[['person', 'offer_id', 'amount_invalid']],\n",
    "        how='left', on=['person','offer_id'])"
   ],
   "metadata": {
    "collapsed": false,
    "pycharm": {
     "name": "#%%\n"
    }
   }
  },
  {
   "cell_type": "code",
   "execution_count": 64,
   "outputs": [],
   "source": [
    "# fill missing values for amount_invalid with 0\n",
    "discount_offer['amount_invalid'] = discount_offer['amount_invalid'] \\\n",
    "                                                 .fillna(value=0)\n",
    "\n",
    "discount_offer.dropna(inplace=True)"
   ],
   "metadata": {
    "collapsed": false,
    "pycharm": {
     "name": "#%%\n"
    }
   }
  },
  {
   "cell_type": "code",
   "execution_count": 65,
   "outputs": [],
   "source": [
    "# merge with portfolio to get offer details\n",
    "discount_offer= discount_offer.merge(portfolio, how='left', on='offer_id')\n",
    "\n",
    "# convert channels into categorical variables\n",
    "channels = discount_offer['channels'].apply(pd.Series)\n",
    "channels = channels.rename(columns={0:'web',1:'email',2:'mobile',3:'social'})\n",
    "discount_offer = pd.concat([discount_offer[:], channels[:]], axis=1)\n",
    "rename('web',discount_offer)\n",
    "rename('email',discount_offer)\n",
    "rename('mobile',discount_offer)\n",
    "rename('social',discount_offer)\n",
    "discount_offer = discount_offer.drop(['channels'], axis=1, inplace=False)\n",
    "\n",
    "#convert gender into categorical variables\n",
    "discount_offer=dummy(discount_offer,'gender')"
   ],
   "metadata": {
    "collapsed": false,
    "pycharm": {
     "name": "#%%\n"
    }
   }
  },
  {
   "cell_type": "code",
   "execution_count": 66,
   "outputs": [
    {
     "data": {
      "text/plain": "                             person                          offer_id  \\\n0  0011e0d4e6b944f998e987f904e8c1e5  0b1e1539f2cc45b7b9fa7c272da2e1d7   \n1  0011e0d4e6b944f998e987f904e8c1e5  2298d6c36e964ae4a3e7e9706d1fb8c2   \n2  0020c2b971eb4e9188eac86d93036a77  fafdcd668e3743c1bb461111dcafc2a4   \n3  0020ccbbb6d84e358d3414a3ff76cffd  2298d6c36e964ae4a3e7e9706d1fb8c2   \n4  003d66b6608740288d6cc97a6903f4f0  fafdcd668e3743c1bb461111dcafc2a4   \n\n   offer_responded  age   income  membership_days  offer_received_cnt  \\\n0                1   40  57000.0             39.0                   1   \n1                1   40  57000.0             39.0                   1   \n2                1   59  90000.0            824.0                   2   \n3                1   24  60000.0            771.0                   1   \n4                1   26  73000.0            566.0                   2   \n\n   amount_invalid  reward  difficulty  duration offer_type  web  email  \\\n0             0.0       5          20        10   discount    1      1   \n1             0.0       3           7         7   discount    1      1   \n2             0.0       2          10        10   discount    1      1   \n3             0.0       3           7         7   discount    1      1   \n4             0.0       2          10        10   discount    1      1   \n\n   mobile  social  gender_F  gender_M  gender_O  \n0       0       0         0         0         1  \n1       1       1         0         0         1  \n2       1       1         1         0         0  \n3       1       1         1         0         0  \n4       1       1         1         0         0  ",
      "text/html": "<div>\n<style scoped>\n    .dataframe tbody tr th:only-of-type {\n        vertical-align: middle;\n    }\n\n    .dataframe tbody tr th {\n        vertical-align: top;\n    }\n\n    .dataframe thead th {\n        text-align: right;\n    }\n</style>\n<table border=\"1\" class=\"dataframe\">\n  <thead>\n    <tr style=\"text-align: right;\">\n      <th></th>\n      <th>person</th>\n      <th>offer_id</th>\n      <th>offer_responded</th>\n      <th>age</th>\n      <th>income</th>\n      <th>membership_days</th>\n      <th>offer_received_cnt</th>\n      <th>amount_invalid</th>\n      <th>reward</th>\n      <th>difficulty</th>\n      <th>duration</th>\n      <th>offer_type</th>\n      <th>web</th>\n      <th>email</th>\n      <th>mobile</th>\n      <th>social</th>\n      <th>gender_F</th>\n      <th>gender_M</th>\n      <th>gender_O</th>\n    </tr>\n  </thead>\n  <tbody>\n    <tr>\n      <th>0</th>\n      <td>0011e0d4e6b944f998e987f904e8c1e5</td>\n      <td>0b1e1539f2cc45b7b9fa7c272da2e1d7</td>\n      <td>1</td>\n      <td>40</td>\n      <td>57000.0</td>\n      <td>39.0</td>\n      <td>1</td>\n      <td>0.0</td>\n      <td>5</td>\n      <td>20</td>\n      <td>10</td>\n      <td>discount</td>\n      <td>1</td>\n      <td>1</td>\n      <td>0</td>\n      <td>0</td>\n      <td>0</td>\n      <td>0</td>\n      <td>1</td>\n    </tr>\n    <tr>\n      <th>1</th>\n      <td>0011e0d4e6b944f998e987f904e8c1e5</td>\n      <td>2298d6c36e964ae4a3e7e9706d1fb8c2</td>\n      <td>1</td>\n      <td>40</td>\n      <td>57000.0</td>\n      <td>39.0</td>\n      <td>1</td>\n      <td>0.0</td>\n      <td>3</td>\n      <td>7</td>\n      <td>7</td>\n      <td>discount</td>\n      <td>1</td>\n      <td>1</td>\n      <td>1</td>\n      <td>1</td>\n      <td>0</td>\n      <td>0</td>\n      <td>1</td>\n    </tr>\n    <tr>\n      <th>2</th>\n      <td>0020c2b971eb4e9188eac86d93036a77</td>\n      <td>fafdcd668e3743c1bb461111dcafc2a4</td>\n      <td>1</td>\n      <td>59</td>\n      <td>90000.0</td>\n      <td>824.0</td>\n      <td>2</td>\n      <td>0.0</td>\n      <td>2</td>\n      <td>10</td>\n      <td>10</td>\n      <td>discount</td>\n      <td>1</td>\n      <td>1</td>\n      <td>1</td>\n      <td>1</td>\n      <td>1</td>\n      <td>0</td>\n      <td>0</td>\n    </tr>\n    <tr>\n      <th>3</th>\n      <td>0020ccbbb6d84e358d3414a3ff76cffd</td>\n      <td>2298d6c36e964ae4a3e7e9706d1fb8c2</td>\n      <td>1</td>\n      <td>24</td>\n      <td>60000.0</td>\n      <td>771.0</td>\n      <td>1</td>\n      <td>0.0</td>\n      <td>3</td>\n      <td>7</td>\n      <td>7</td>\n      <td>discount</td>\n      <td>1</td>\n      <td>1</td>\n      <td>1</td>\n      <td>1</td>\n      <td>1</td>\n      <td>0</td>\n      <td>0</td>\n    </tr>\n    <tr>\n      <th>4</th>\n      <td>003d66b6608740288d6cc97a6903f4f0</td>\n      <td>fafdcd668e3743c1bb461111dcafc2a4</td>\n      <td>1</td>\n      <td>26</td>\n      <td>73000.0</td>\n      <td>566.0</td>\n      <td>2</td>\n      <td>0.0</td>\n      <td>2</td>\n      <td>10</td>\n      <td>10</td>\n      <td>discount</td>\n      <td>1</td>\n      <td>1</td>\n      <td>1</td>\n      <td>1</td>\n      <td>1</td>\n      <td>0</td>\n      <td>0</td>\n    </tr>\n  </tbody>\n</table>\n</div>"
     },
     "execution_count": 66,
     "metadata": {},
     "output_type": "execute_result"
    }
   ],
   "source": [
    "# quick view on discount_offer data\n",
    "discount_offer.head()"
   ],
   "metadata": {
    "collapsed": false,
    "pycharm": {
     "name": "#%%\n"
    }
   }
  },
  {
   "cell_type": "code",
   "execution_count": 67,
   "outputs": [
    {
     "data": {
      "text/plain": "                             person                          offer_id  \\\n0  0009655768c64bdeb2e877511632db8f  3f207df678b143eea3cee63160fa8bed   \n1  0009655768c64bdeb2e877511632db8f  5a8bc65990b245e5a138643cd4eb9837   \n2  0020c2b971eb4e9188eac86d93036a77  5a8bc65990b245e5a138643cd4eb9837   \n3  0020ccbbb6d84e358d3414a3ff76cffd  5a8bc65990b245e5a138643cd4eb9837   \n4  003d66b6608740288d6cc97a6903f4f0  3f207df678b143eea3cee63160fa8bed   \n\n   offer_responded gender  age   income  membership_days  \n0                1      M   33  72000.0            506.0  \n1                1      M   33  72000.0            506.0  \n2                1      F   59  90000.0            824.0  \n3                1      F   24  60000.0            771.0  \n4                1      F   26  73000.0            566.0  ",
      "text/html": "<div>\n<style scoped>\n    .dataframe tbody tr th:only-of-type {\n        vertical-align: middle;\n    }\n\n    .dataframe tbody tr th {\n        vertical-align: top;\n    }\n\n    .dataframe thead th {\n        text-align: right;\n    }\n</style>\n<table border=\"1\" class=\"dataframe\">\n  <thead>\n    <tr style=\"text-align: right;\">\n      <th></th>\n      <th>person</th>\n      <th>offer_id</th>\n      <th>offer_responded</th>\n      <th>gender</th>\n      <th>age</th>\n      <th>income</th>\n      <th>membership_days</th>\n    </tr>\n  </thead>\n  <tbody>\n    <tr>\n      <th>0</th>\n      <td>0009655768c64bdeb2e877511632db8f</td>\n      <td>3f207df678b143eea3cee63160fa8bed</td>\n      <td>1</td>\n      <td>M</td>\n      <td>33</td>\n      <td>72000.0</td>\n      <td>506.0</td>\n    </tr>\n    <tr>\n      <th>1</th>\n      <td>0009655768c64bdeb2e877511632db8f</td>\n      <td>5a8bc65990b245e5a138643cd4eb9837</td>\n      <td>1</td>\n      <td>M</td>\n      <td>33</td>\n      <td>72000.0</td>\n      <td>506.0</td>\n    </tr>\n    <tr>\n      <th>2</th>\n      <td>0020c2b971eb4e9188eac86d93036a77</td>\n      <td>5a8bc65990b245e5a138643cd4eb9837</td>\n      <td>1</td>\n      <td>F</td>\n      <td>59</td>\n      <td>90000.0</td>\n      <td>824.0</td>\n    </tr>\n    <tr>\n      <th>3</th>\n      <td>0020ccbbb6d84e358d3414a3ff76cffd</td>\n      <td>5a8bc65990b245e5a138643cd4eb9837</td>\n      <td>1</td>\n      <td>F</td>\n      <td>24</td>\n      <td>60000.0</td>\n      <td>771.0</td>\n    </tr>\n    <tr>\n      <th>4</th>\n      <td>003d66b6608740288d6cc97a6903f4f0</td>\n      <td>3f207df678b143eea3cee63160fa8bed</td>\n      <td>1</td>\n      <td>F</td>\n      <td>26</td>\n      <td>73000.0</td>\n      <td>566.0</td>\n    </tr>\n  </tbody>\n</table>\n</div>"
     },
     "execution_count": 67,
     "metadata": {},
     "output_type": "execute_result"
    }
   ],
   "source": [
    "# quick view on informational_offer data\n",
    "informational_offer.head()"
   ],
   "metadata": {
    "collapsed": false,
    "pycharm": {
     "name": "#%%\n"
    }
   }
  },
  {
   "cell_type": "code",
   "execution_count": 68,
   "outputs": [],
   "source": [
    "# processing on informational data\n",
    "# merge with portfolio to get offer details\n",
    "informational_offer = informational_offer.merge(portfolio, \n",
    "                                                how='left', on='offer_id')\n",
    "\n",
    "# reset index for informational_offer\n",
    "informational_offer = informational_offer.reset_index().drop(['index'], \n",
    "                                                             axis=1, \n",
    "                                                             inplace=False)\n",
    "\n",
    "# split the channel column\n",
    "informational_offer['email'] = np.nan\n",
    "informational_offer.loc[pd.Series(\n",
    "        ['email' in informational_offer['channels'][x] \\\n",
    "         for x in range(len(informational_offer['channels']))]), \n",
    "                        'email'] = 1\n",
    "\n",
    "informational_offer['email'] = informational_offer['email'].fillna(value=0)\n",
    "\n",
    "informational_offer['mobile'] = np.nan\n",
    "informational_offer.loc[pd.Series(\n",
    "        ['mobile' in informational_offer['channels'][x] \\\n",
    "         for x in range(len(informational_offer['channels']))]),\n",
    "                        'mobile']=1\n",
    "\n",
    "informational_offer['mobile'] = informational_offer['mobile'].fillna(value=0)\n",
    "\n",
    "informational_offer['social'] = np.nan\n",
    "informational_offer.loc[pd.Series(\n",
    "        ['social' in informational_offer['channels'][x] \\\n",
    "         for x in range(len(informational_offer['channels']))]),\n",
    "                        'social']=1\n",
    "\n",
    "informational_offer['social']=informational_offer['social'].fillna(value=0)\n",
    "\n",
    "# drop the useless columns\n",
    "informational_offer.drop(['channels'], axis=1, inplace=True)"
   ],
   "metadata": {
    "collapsed": false,
    "pycharm": {
     "name": "#%%\n"
    }
   }
  },
  {
   "cell_type": "code",
   "execution_count": 69,
   "outputs": [],
   "source": [
    "# merge the informational offer dataframe\n",
    "informational_offer = informational_offer.merge(offer_cnt[\n",
    "                                                    ['person',\n",
    "                                                     'offer_id',\n",
    "                                                     'offer_received_cnt']],\n",
    "                                                how='left',\n",
    "                                                on=['person','offer_id'])\n",
    "\n",
    "informational_offer = informational_offer.merge(transactions_not_related[\n",
    "                                                    ['person',\n",
    "                                                     'offer_id',\n",
    "                                                     'amount_invalid']],\n",
    "                                                how='left',\n",
    "                                                on=['person','offer_id'])\n"
   ],
   "metadata": {
    "collapsed": false,
    "pycharm": {
     "name": "#%%\n"
    }
   }
  },
  {
   "cell_type": "code",
   "execution_count": 70,
   "outputs": [],
   "source": [
    "# fill missing values for amount_invalid and offer_received_cnt with 0\n",
    "informational_offer['amount_invalid'] = informational_offer['amount_invalid'] \\\n",
    "                                                           .fillna(value=0)\n",
    "\n",
    "#drop income and gender null rows\n",
    "informational_offer.dropna(inplace=True)\n",
    "\n",
    "#convert gender column into dummy variables\n",
    "informational_offer=dummy(informational_offer,'gender')"
   ],
   "metadata": {
    "collapsed": false,
    "pycharm": {
     "name": "#%%\n"
    }
   }
  },
  {
   "cell_type": "code",
   "execution_count": 71,
   "outputs": [
    {
     "data": {
      "text/plain": "                             person                          offer_id  \\\n0  0009655768c64bdeb2e877511632db8f  3f207df678b143eea3cee63160fa8bed   \n1  0009655768c64bdeb2e877511632db8f  5a8bc65990b245e5a138643cd4eb9837   \n2  0020c2b971eb4e9188eac86d93036a77  5a8bc65990b245e5a138643cd4eb9837   \n3  0020ccbbb6d84e358d3414a3ff76cffd  5a8bc65990b245e5a138643cd4eb9837   \n4  003d66b6608740288d6cc97a6903f4f0  3f207df678b143eea3cee63160fa8bed   \n\n   offer_responded  age   income  membership_days  reward  difficulty  \\\n0                1   33  72000.0            506.0       0           0   \n1                1   33  72000.0            506.0       0           0   \n2                1   59  90000.0            824.0       0           0   \n3                1   24  60000.0            771.0       0           0   \n4                1   26  73000.0            566.0       0           0   \n\n   duration     offer_type  email  mobile  social  offer_received_cnt  \\\n0         4  informational    1.0     1.0     0.0                 1.0   \n1         3  informational    1.0     1.0     1.0                 1.0   \n2         3  informational    1.0     1.0     1.0                 1.0   \n3         3  informational    1.0     1.0     1.0                 1.0   \n4         4  informational    1.0     1.0     0.0                 1.0   \n\n   amount_invalid  gender_F  gender_M  gender_O  \n0            0.00         0         1         0  \n1            0.00         0         1         0  \n2            0.00         1         0         0  \n3           16.27         1         0         0  \n4            0.00         1         0         0  ",
      "text/html": "<div>\n<style scoped>\n    .dataframe tbody tr th:only-of-type {\n        vertical-align: middle;\n    }\n\n    .dataframe tbody tr th {\n        vertical-align: top;\n    }\n\n    .dataframe thead th {\n        text-align: right;\n    }\n</style>\n<table border=\"1\" class=\"dataframe\">\n  <thead>\n    <tr style=\"text-align: right;\">\n      <th></th>\n      <th>person</th>\n      <th>offer_id</th>\n      <th>offer_responded</th>\n      <th>age</th>\n      <th>income</th>\n      <th>membership_days</th>\n      <th>reward</th>\n      <th>difficulty</th>\n      <th>duration</th>\n      <th>offer_type</th>\n      <th>email</th>\n      <th>mobile</th>\n      <th>social</th>\n      <th>offer_received_cnt</th>\n      <th>amount_invalid</th>\n      <th>gender_F</th>\n      <th>gender_M</th>\n      <th>gender_O</th>\n    </tr>\n  </thead>\n  <tbody>\n    <tr>\n      <th>0</th>\n      <td>0009655768c64bdeb2e877511632db8f</td>\n      <td>3f207df678b143eea3cee63160fa8bed</td>\n      <td>1</td>\n      <td>33</td>\n      <td>72000.0</td>\n      <td>506.0</td>\n      <td>0</td>\n      <td>0</td>\n      <td>4</td>\n      <td>informational</td>\n      <td>1.0</td>\n      <td>1.0</td>\n      <td>0.0</td>\n      <td>1.0</td>\n      <td>0.00</td>\n      <td>0</td>\n      <td>1</td>\n      <td>0</td>\n    </tr>\n    <tr>\n      <th>1</th>\n      <td>0009655768c64bdeb2e877511632db8f</td>\n      <td>5a8bc65990b245e5a138643cd4eb9837</td>\n      <td>1</td>\n      <td>33</td>\n      <td>72000.0</td>\n      <td>506.0</td>\n      <td>0</td>\n      <td>0</td>\n      <td>3</td>\n      <td>informational</td>\n      <td>1.0</td>\n      <td>1.0</td>\n      <td>1.0</td>\n      <td>1.0</td>\n      <td>0.00</td>\n      <td>0</td>\n      <td>1</td>\n      <td>0</td>\n    </tr>\n    <tr>\n      <th>2</th>\n      <td>0020c2b971eb4e9188eac86d93036a77</td>\n      <td>5a8bc65990b245e5a138643cd4eb9837</td>\n      <td>1</td>\n      <td>59</td>\n      <td>90000.0</td>\n      <td>824.0</td>\n      <td>0</td>\n      <td>0</td>\n      <td>3</td>\n      <td>informational</td>\n      <td>1.0</td>\n      <td>1.0</td>\n      <td>1.0</td>\n      <td>1.0</td>\n      <td>0.00</td>\n      <td>1</td>\n      <td>0</td>\n      <td>0</td>\n    </tr>\n    <tr>\n      <th>3</th>\n      <td>0020ccbbb6d84e358d3414a3ff76cffd</td>\n      <td>5a8bc65990b245e5a138643cd4eb9837</td>\n      <td>1</td>\n      <td>24</td>\n      <td>60000.0</td>\n      <td>771.0</td>\n      <td>0</td>\n      <td>0</td>\n      <td>3</td>\n      <td>informational</td>\n      <td>1.0</td>\n      <td>1.0</td>\n      <td>1.0</td>\n      <td>1.0</td>\n      <td>16.27</td>\n      <td>1</td>\n      <td>0</td>\n      <td>0</td>\n    </tr>\n    <tr>\n      <th>4</th>\n      <td>003d66b6608740288d6cc97a6903f4f0</td>\n      <td>3f207df678b143eea3cee63160fa8bed</td>\n      <td>1</td>\n      <td>26</td>\n      <td>73000.0</td>\n      <td>566.0</td>\n      <td>0</td>\n      <td>0</td>\n      <td>4</td>\n      <td>informational</td>\n      <td>1.0</td>\n      <td>1.0</td>\n      <td>0.0</td>\n      <td>1.0</td>\n      <td>0.00</td>\n      <td>1</td>\n      <td>0</td>\n      <td>0</td>\n    </tr>\n  </tbody>\n</table>\n</div>"
     },
     "execution_count": 71,
     "metadata": {},
     "output_type": "execute_result"
    }
   ],
   "source": [
    "# quick view on informational_offer data\n",
    "informational_offer.head()"
   ],
   "metadata": {
    "collapsed": false,
    "pycharm": {
     "name": "#%%\n"
    }
   }
  },
  {
   "cell_type": "markdown",
   "source": [
    "## Building model\n",
    "After pre-processing the data, the next step we'll start to implement models to figure out which factors affect most whether the customer will respond to the offer or not. And this project also attempts to predict whether the customer will respond to the different types of offers or not.\n",
    "\n",
    "Therefore, we'll use the 'offer_responded' flag in the dataset to build models to predict if the customer will respond to the offer of not. Here we will choose the basic tree model as a baseline which will help explain the feature importance better so that we can get some insight into what factors affect customer's behavior most. Meanwhile, I'll also choose random forest as an alternate model to compare the baseline model is as an improvement over simple ensemble bagging of decision trees, in order to drive towards a high accuracy in training the model."
   ],
   "metadata": {
    "collapsed": false
   }
  },
  {
   "cell_type": "markdown",
   "source": [
    "### Model implementation preparation\n",
    "- Prepare the dateset, set the features variable and target columns"
   ],
   "metadata": {
    "collapsed": false
   }
  },
  {
   "cell_type": "code",
   "execution_count": 72,
   "outputs": [],
   "source": [
    "def data_prep(df,drop_cols_prep):\n",
    "    '''\n",
    "    inputs:\n",
    "    - df: prepared dataframe for modeling \n",
    "    \n",
    "    outputs:\n",
    "    - Returns 2 dataframes - features and target dataframes\n",
    "    '''\n",
    "    # Split the data into features and target label\n",
    "    target = df['offer_responded']\n",
    "    features = df.drop(drop_cols_prep, axis=1, inplace=False)\n",
    "    return features,target"
   ],
   "metadata": {
    "collapsed": false,
    "pycharm": {
     "name": "#%%\n"
    }
   }
  },
  {
   "cell_type": "markdown",
   "source": [
    "- Split the data into training and test sets"
   ],
   "metadata": {
    "collapsed": false
   }
  },
  {
   "cell_type": "code",
   "execution_count": 73,
   "outputs": [],
   "source": [
    "def model_pipeline(features,target):\n",
    "    '''\n",
    "    inputs:\n",
    "    - features & target dataframe \n",
    "    \n",
    "    outputs:\n",
    "    - Splits features and target dataframe to train and test sets, performs feature scaling on both datasets.\n",
    "    - Outputs X_train, X_test, y_train and y_test dataframes\n",
    "    '''\n",
    "    \n",
    "    #split into training and test sets\n",
    "    X_train, X_test, y_train, y_test = train_test_split(features,target, \n",
    "                                                        test_size=0.20, \n",
    "                                                        random_state=42)\n",
    "\n",
    "    #fit and transform scaling on training data\n",
    "    scaler=StandardScaler()\n",
    "    X_train=scaler.fit_transform(X_train)\n",
    "\n",
    "    #scale test data\n",
    "    X_test=scaler.transform(X_test)\n",
    "    return X_train,X_test,y_train, y_test"
   ],
   "metadata": {
    "collapsed": false,
    "pycharm": {
     "name": "#%%\n"
    }
   }
  },
  {
   "cell_type": "markdown",
   "source": [
    "- Create function to execute the model for different offer types"
   ],
   "metadata": {
    "collapsed": false
   }
  },
  {
   "cell_type": "code",
   "execution_count": 74,
   "outputs": [],
   "source": [
    "# reference: Udacity -- 'Finding Donors for Charity ML' project\n",
    "# reference: Udacity -- 'Creating Customer Segments with Arvato' project\n",
    "def train_predict(model, X_train, y_train, X_test, y_test): \n",
    "    '''\n",
    "    inputs:\n",
    "       - model: the model to be trained and predicted on\n",
    "       - sample_size: the size of samples (number) to be drawn from training set\n",
    "       - X_train: features training set\n",
    "       - y_train: review_scores_rating training set\n",
    "       - X_test: features testing set\n",
    "       - y_test: review_scores_rating testing set\n",
    "    '''\n",
    "    results = {}\n",
    "    \n",
    "    #Fit the model to the training data and get training time\n",
    "    start = time() \n",
    "    model = model.fit(X_train, y_train)\n",
    "    end = time() \n",
    "    results['train_time'] = end-start\n",
    "    \n",
    "    # Get predictions on the test set(X_test), then get predictions on first 300 training samples\n",
    "    start = time() \n",
    "    predictions_test = model.predict(X_test)\n",
    "    predictions_train = model.predict(X_train)\n",
    "    end = time() \n",
    "    \n",
    "    # Calculate the total prediction time\n",
    "    results['pred_time'] = end-start\n",
    "    \n",
    "    #add training accuracy to results\n",
    "    results['training_score']=model.score(X_train,y_train)\n",
    "    \n",
    "    #add testing accuracy to results\n",
    "    results['testing_score']=model.score(X_test,y_test)\n",
    "     \n",
    "    print(\"{} trained on {} samples.\".format(model.__class__.__name__, len(y_train)))\n",
    "    print(\"MSE_train: %.4f\" % mean_squared_error(y_train,predictions_train))\n",
    "    print(\"MSE_test: %.4f\" % mean_squared_error(y_test,predictions_test))\n",
    "    print(\"Training accuracy:%.4f\" % results['training_score'])\n",
    "    print(\"Test accuracy:%.4f\" % results['testing_score'])\n",
    "    print(classification_report(y_test, predictions_test,digits=4))\n",
    "    return results"
   ],
   "metadata": {
    "collapsed": false,
    "pycharm": {
     "name": "#%%\n"
    }
   }
  },
  {
   "cell_type": "code",
   "execution_count": 75,
   "outputs": [],
   "source": [
    "def run_model(clf1,clf2,name):\n",
    "    '''\n",
    "    inputs:\n",
    "    - clf1: first classifier model\n",
    "    - clf2: 2nd classifier model for comparison\n",
    "    - name: name of models for comparison\n",
    "    \n",
    "    outputs:\n",
    "    - Dataframe of results from model training and prediction\n",
    "    '''\n",
    "    \n",
    "    # Collect results from models\n",
    "    results = {}\n",
    "    for clf in [clf1, clf2]:\n",
    "        clf_name = clf.__class__.__name__ + '_' +name\n",
    "        results[clf_name] = {}\n",
    "        results[clf_name]= train_predict(clf, X_train, y_train, X_test, y_test)\n",
    "    return pd.DataFrame(results)"
   ],
   "metadata": {
    "collapsed": false,
    "pycharm": {
     "name": "#%%\n"
    }
   }
  },
  {
   "cell_type": "markdown",
   "source": [
    "### Performance Metrics\n",
    "Since the project is building classification model, I choose both accuracy and F1 score as the model evaluation metric. The reason why I choose both metrics is sometimes when the dataset is imbalanced, the accuracy only couldn't objectively show how the model is performing on the dataset, while F1 score provides a better sense of model performance compared to purely accuracy as takes both false positives and false negatives in the calculation. With an imbalanced class distribution, F1 may be more useful than accuracy.\n",
    "\n",
    "Also, since the F1 score is based on the harmonic mean of precision and recall, and focuses on positive cases. For the Starbucks app here, it would be fine as we would prioritise more on whether offers are effective, and less focus on why offers are ineffective."
   ],
   "metadata": {
    "collapsed": false
   }
  },
  {
   "cell_type": "markdown",
   "source": [
    "### Initial the model baseline\n",
    "At this point, we will firstly use default parameters for the baseline model and will tune the parameters in the later tuning steps if needed."
   ],
   "metadata": {
    "collapsed": false
   }
  },
  {
   "cell_type": "markdown",
   "source": [
    "- __BOGO model__"
   ],
   "metadata": {
    "collapsed": false
   }
  },
  {
   "cell_type": "code",
   "execution_count": 76,
   "outputs": [
    {
     "name": "stdout",
     "output_type": "stream",
     "text": [
      "DecisionTreeClassifier trained on 9829 samples.\n",
      "MSE_train: 0.1770\n",
      "MSE_test: 0.1823\n",
      "Training accuracy:0.8230\n",
      "Test accuracy:0.8177\n",
      "              precision    recall  f1-score   support\n",
      "\n",
      "           0     0.4797    0.2694    0.3450       438\n",
      "           1     0.8553    0.9366    0.8941      2020\n",
      "\n",
      "    accuracy                         0.8177      2458\n",
      "   macro avg     0.6675    0.6030    0.6196      2458\n",
      "weighted avg     0.7884    0.8177    0.7963      2458\n",
      "\n",
      "RandomForestClassifier trained on 9829 samples.\n",
      "MSE_train: 0.1644\n",
      "MSE_test: 0.1737\n",
      "Training accuracy:0.8356\n",
      "Test accuracy:0.8263\n",
      "              precision    recall  f1-score   support\n",
      "\n",
      "           0     0.5846    0.0868    0.1511       438\n",
      "           1     0.8328    0.9866    0.9032      2020\n",
      "\n",
      "    accuracy                         0.8263      2458\n",
      "   macro avg     0.7087    0.5367    0.5272      2458\n",
      "weighted avg     0.7886    0.8263    0.7692      2458\n",
      "\n"
     ]
    }
   ],
   "source": [
    "# implement the model for BOGO offer\n",
    "drop_cols_prep=['person','offer_id','offer_responded','offer_type']\n",
    "features,target=data_prep(bogo_offer,drop_cols_prep)\n",
    "X_train, X_test, y_train, y_test=model_pipeline(features,target)\n",
    "\n",
    "# initialize the model - baseline is DT model, bogo_1 model is RF model\n",
    "baseline = DecisionTreeClassifier(criterion='entropy',\n",
    "                                  max_depth=5,\n",
    "                                  random_state=2,\n",
    "                                  min_samples_split=90,\n",
    "                                  min_samples_leaf=50)\n",
    "\n",
    "bogo_1 = RandomForestClassifier(random_state=2,\n",
    "                                max_depth=11, \n",
    "                                max_features='auto',\n",
    "                                min_samples_split=10,\n",
    "                                n_estimators=20,\n",
    "                                min_samples_leaf=20)\n",
    "\n",
    "results=run_model(baseline,bogo_1,'bogo_1')"
   ],
   "metadata": {
    "collapsed": false,
    "pycharm": {
     "name": "#%%\n"
    }
   }
  },
  {
   "cell_type": "markdown",
   "source": [
    "As shown above, the accuracy of both models is good (more than 80%) for initial model implementation. But the F1 score is a bit lower than accuracy which may be tuned better in the later steps. From the result we can see that Decision Tree's F1 performs a little better than Random Forest, which means that decision tree is doing slightly better compared to random forest at not misclassifying negative events as positive (meaning, misclassifying people on which offers are ineffective, as people on which offers would be effective).\n",
    "\n",
    "But the overall higher accuracy compared to F1 score indicates that the model is predicting the positive case (i.e. where an offer is responded) more accurately compared to predicting the negative cases (i.e. where an offer is not reponded), which is expected given the uneven classes.\n",
    "\n",
    "However, in this project context, there's not big hurt to send out some more offers to people who are not gonna respond in the end. Therefore, here can still select the random forest with slightly better accuracy right now. So, right now, will stay on random forest model."
   ],
   "metadata": {
    "collapsed": false
   }
  },
  {
   "cell_type": "markdown",
   "source": [
    "- __Discount Offer model__"
   ],
   "metadata": {
    "collapsed": false
   }
  },
  {
   "cell_type": "code",
   "execution_count": 77,
   "outputs": [
    {
     "name": "stdout",
     "output_type": "stream",
     "text": [
      "DecisionTreeClassifier trained on 10179 samples.\n",
      "MSE_train: 0.1371\n",
      "MSE_test: 0.1277\n",
      "Training accuracy:0.8629\n",
      "Test accuracy:0.8723\n",
      "              precision    recall  f1-score   support\n",
      "\n",
      "           0     0.0000    0.0000    0.0000       325\n",
      "           1     0.8723    1.0000    0.9318      2220\n",
      "\n",
      "    accuracy                         0.8723      2545\n",
      "   macro avg     0.4361    0.5000    0.4659      2545\n",
      "weighted avg     0.7609    0.8723    0.8128      2545\n",
      "\n",
      "RandomForestClassifier trained on 10179 samples.\n",
      "MSE_train: 0.1311\n",
      "MSE_test: 0.1257\n",
      "Training accuracy:0.8689\n",
      "Test accuracy:0.8743\n",
      "              precision    recall  f1-score   support\n",
      "\n",
      "           0     0.7273    0.0246    0.0476       325\n",
      "           1     0.8749    0.9986    0.9327      2220\n",
      "\n",
      "    accuracy                         0.8743      2545\n",
      "   macro avg     0.8011    0.5116    0.4902      2545\n",
      "weighted avg     0.8560    0.8743    0.8197      2545\n",
      "\n"
     ]
    },
    {
     "name": "stderr",
     "output_type": "stream",
     "text": [
      "/home/era/anaconda3/envs/pa/lib/python3.7/site-packages/sklearn/metrics/_classification.py:1272: UndefinedMetricWarning: Precision and F-score are ill-defined and being set to 0.0 in labels with no predicted samples. Use `zero_division` parameter to control this behavior.\n",
      "  _warn_prf(average, modifier, msg_start, len(result))\n"
     ]
    }
   ],
   "source": [
    "# instantiate the model for discount offer\n",
    "drop_cols_prep=['person','offer_id','offer_responded','offer_type']\n",
    "features,target=data_prep(discount_offer,drop_cols_prep)\n",
    "X_train, X_test, y_train, y_test=model_pipeline(features,target)\n",
    "\n",
    "#Initialize the model\n",
    "discount_1 = RandomForestClassifier(random_state=2,\n",
    "                                    max_depth=20, \n",
    "                                    max_features= 'auto',\n",
    "                                    min_samples_split= 10,\n",
    "                                    n_estimators=20,\n",
    "                                    min_samples_leaf=10)\n",
    "\n",
    "results=pd.concat([results[:],run_model(baseline,discount_1,'discount_1')],\n",
    "                  axis=1)"
   ],
   "metadata": {
    "collapsed": false,
    "pycharm": {
     "name": "#%%\n"
    }
   }
  },
  {
   "cell_type": "markdown",
   "source": [
    "As shown above, the random forest performs quiet similar as random forest, but decision tree got a slightly lower F1 score. The F1 score for these models are lower overall compared to the Accuracy score. \n",
    "\n",
    "As mentioned in previous steps, it's more important in this business case for the model predicting positive cases accurately, so would rather go with a higher accuracy model where F1 score is higher, for which random forest classifier has better performance (0.814 vs 0.812)."
   ],
   "metadata": {
    "collapsed": false
   }
  },
  {
   "cell_type": "markdown",
   "source": [
    "- __Informational offer model__"
   ],
   "metadata": {
    "collapsed": false
   }
  },
  {
   "cell_type": "code",
   "execution_count": 78,
   "outputs": [
    {
     "name": "stdout",
     "output_type": "stream",
     "text": [
      "DecisionTreeClassifier trained on 5585 samples.\n",
      "MSE_train: 0.2462\n",
      "MSE_test: 0.2541\n",
      "Training accuracy:0.7538\n",
      "Test accuracy:0.7459\n",
      "              precision    recall  f1-score   support\n",
      "\n",
      "           0     0.5000    0.1127    0.1839       355\n",
      "           1     0.7608    0.9616    0.8495      1042\n",
      "\n",
      "    accuracy                         0.7459      1397\n",
      "   macro avg     0.6304    0.5371    0.5167      1397\n",
      "weighted avg     0.6945    0.7459    0.6804      1397\n",
      "\n",
      "RandomForestClassifier trained on 5585 samples.\n",
      "MSE_train: 0.2333\n",
      "MSE_test: 0.2491\n",
      "Training accuracy:0.7667\n",
      "Test accuracy:0.7509\n",
      "              precision    recall  f1-score   support\n",
      "\n",
      "           0     0.5556    0.0986    0.1675       355\n",
      "           1     0.7601    0.9731    0.8535      1042\n",
      "\n",
      "    accuracy                         0.7509      1397\n",
      "   macro avg     0.6578    0.5359    0.5105      1397\n",
      "weighted avg     0.7081    0.7509    0.6792      1397\n",
      "\n"
     ]
    }
   ],
   "source": [
    "# implement model for informational offer\n",
    "features,target=data_prep(informational_offer,drop_cols_prep)\n",
    "X_train, X_test, y_train, y_test=model_pipeline(features,target)\n",
    "\n",
    "#Initialize the model\n",
    "info_1 = RandomForestClassifier(random_state=5,\n",
    "                                criterion='gini',\n",
    "                                max_depth=20, \n",
    "                                max_features='auto',\n",
    "                                min_samples_split=10,\n",
    "                                n_estimators=20,\n",
    "                                min_samples_leaf=10)\n",
    "\n",
    "results=pd.concat([results[:],run_model(baseline,info_1,'info_1')],\n",
    "                  axis=1)"
   ],
   "metadata": {
    "collapsed": false,
    "pycharm": {
     "name": "#%%\n"
    }
   }
  },
  {
   "cell_type": "markdown",
   "source": [
    "### Model tuning\n",
    "This section will attempt to tune the parameters of initial model using GridSearch method to get higher performance."
   ],
   "metadata": {
    "collapsed": false
   }
  },
  {
   "cell_type": "code",
   "execution_count": 79,
   "outputs": [],
   "source": [
    "# create the function to find best model results for each offer type\n",
    "def best_model(offer_type):\n",
    "    '''\n",
    "    input:\n",
    "    - offer_type: string of offer type name\n",
    "    output:\n",
    "    - dataframe containing results of best model so far\n",
    "    \n",
    "    '''\n",
    "    print(offer_type + ' RF model:')\n",
    "    return results.transpose()[results.transpose()['testing_score']==results.transpose()[results.transpose().index.str.contains(\"RandomForestClassifier_\"+offer_type)]['testing_score'].max()]"
   ],
   "metadata": {
    "collapsed": false,
    "pycharm": {
     "name": "#%%\n"
    }
   }
  },
  {
   "cell_type": "markdown",
   "source": [
    "In the tuning section, we will first use GridSearch to search for parameters that are likely to get better model performance."
   ],
   "metadata": {
    "collapsed": false
   }
  },
  {
   "cell_type": "code",
   "execution_count": 80,
   "outputs": [],
   "source": [
    "#define Grid Search function\n",
    "def rand_forest_param_selection(X,y):\n",
    "    '''\n",
    "    input:\n",
    "    - X,y: training datasets for X and y\n",
    "    output:\n",
    "    - dictionary with best parameters for random forest model\n",
    "    '''\n",
    "    \n",
    "    param_grid={'max_features': ['auto', 'sqrt'],\n",
    "                'max_depth' : [10,15],\n",
    "                'n_estimators': [10,20,25,30],\n",
    "                'min_samples_split': [10, 20],\n",
    "                'min_samples_leaf': [10,15],\n",
    "                }\n",
    "    grid_search = GridSearchCV(RandomForestClassifier(random_state=2), \n",
    "                               param_grid)\n",
    "    grid_search.fit(X, y)\n",
    "    grid_search.best_params_\n",
    "    return grid_search.best_params_"
   ],
   "metadata": {
    "collapsed": false,
    "pycharm": {
     "name": "#%%\n"
    }
   }
  },
  {
   "cell_type": "code",
   "execution_count": 81,
   "outputs": [
    {
     "data": {
      "text/plain": "{'max_depth': 10,\n 'max_features': 'auto',\n 'min_samples_leaf': 10,\n 'min_samples_split': 10,\n 'n_estimators': 20}"
     },
     "execution_count": 81,
     "metadata": {},
     "output_type": "execute_result"
    }
   ],
   "source": [
    "#define BOGO dataset\n",
    "features,target=data_prep(bogo_offer,drop_cols_prep)\n",
    "X_train, X_test, y_train, y_test=model_pipeline(features,target)\n",
    "\n",
    "#run Grid Search\n",
    "rand_forest_param_selection(X_train, y_train)"
   ],
   "metadata": {
    "collapsed": false,
    "pycharm": {
     "name": "#%%\n"
    }
   }
  },
  {
   "cell_type": "code",
   "execution_count": 82,
   "outputs": [
    {
     "name": "stdout",
     "output_type": "stream",
     "text": [
      "DecisionTreeClassifier trained on 9829 samples.\n",
      "MSE_train: 0.1770\n",
      "MSE_test: 0.1823\n",
      "Training accuracy:0.8230\n",
      "Test accuracy:0.8177\n",
      "              precision    recall  f1-score   support\n",
      "\n",
      "           0     0.4797    0.2694    0.3450       438\n",
      "           1     0.8553    0.9366    0.8941      2020\n",
      "\n",
      "    accuracy                         0.8177      2458\n",
      "   macro avg     0.6675    0.6030    0.6196      2458\n",
      "weighted avg     0.7884    0.8177    0.7963      2458\n",
      "\n",
      "RandomForestClassifier trained on 9829 samples.\n",
      "MSE_train: 0.1613\n",
      "MSE_test: 0.1745\n",
      "Training accuracy:0.8387\n",
      "Test accuracy:0.8255\n",
      "              precision    recall  f1-score   support\n",
      "\n",
      "           0     0.5616    0.0936    0.1605       438\n",
      "           1     0.8335    0.9842    0.9026      2020\n",
      "\n",
      "    accuracy                         0.8255      2458\n",
      "   macro avg     0.6976    0.5389    0.5315      2458\n",
      "weighted avg     0.7851    0.8255    0.7704      2458\n",
      "\n"
     ]
    }
   ],
   "source": [
    "# use optimized parameters to rerun the model in previous step\n",
    "# initialize the model\n",
    "bogo_2 = RandomForestClassifier(random_state=2,\n",
    "                                max_depth=10, \n",
    "                                max_features='auto',\n",
    "                                min_samples_split= 10,\n",
    "                                n_estimators=20,\n",
    "                                min_samples_leaf=10)\n",
    "\n",
    "results=pd.concat([results[:],run_model(baseline,bogo_2,'bogo_2')],\n",
    "                  axis=1)"
   ],
   "metadata": {
    "collapsed": false,
    "pycharm": {
     "name": "#%%\n"
    }
   }
  },
  {
   "cell_type": "code",
   "execution_count": 83,
   "outputs": [
    {
     "data": {
      "text/plain": "                RandomForestClassifier_bogo_1  RandomForestClassifier_bogo_2\ntrain_time                           0.105937                       0.098755\npred_time                            0.023363                       0.022662\ntraining_score                       0.835589                       0.838742\ntesting_score                        0.826282                       0.825468",
      "text/html": "<div>\n<style scoped>\n    .dataframe tbody tr th:only-of-type {\n        vertical-align: middle;\n    }\n\n    .dataframe tbody tr th {\n        vertical-align: top;\n    }\n\n    .dataframe thead th {\n        text-align: right;\n    }\n</style>\n<table border=\"1\" class=\"dataframe\">\n  <thead>\n    <tr style=\"text-align: right;\">\n      <th></th>\n      <th>RandomForestClassifier_bogo_1</th>\n      <th>RandomForestClassifier_bogo_2</th>\n    </tr>\n  </thead>\n  <tbody>\n    <tr>\n      <th>train_time</th>\n      <td>0.105937</td>\n      <td>0.098755</td>\n    </tr>\n    <tr>\n      <th>pred_time</th>\n      <td>0.023363</td>\n      <td>0.022662</td>\n    </tr>\n    <tr>\n      <th>training_score</th>\n      <td>0.835589</td>\n      <td>0.838742</td>\n    </tr>\n    <tr>\n      <th>testing_score</th>\n      <td>0.826282</td>\n      <td>0.825468</td>\n    </tr>\n  </tbody>\n</table>\n</div>"
     },
     "execution_count": 83,
     "metadata": {},
     "output_type": "execute_result"
    }
   ],
   "source": [
    "results[['RandomForestClassifier_bogo_1','RandomForestClassifier_bogo_2']]"
   ],
   "metadata": {
    "collapsed": false,
    "pycharm": {
     "name": "#%%\n"
    }
   }
  },
  {
   "cell_type": "code",
   "execution_count": 84,
   "outputs": [
    {
     "name": "stdout",
     "output_type": "stream",
     "text": [
      "bogo RF model:\n"
     ]
    },
    {
     "data": {
      "text/plain": "                               train_time  pred_time  training_score  \\\nRandomForestClassifier_bogo_1    0.105937   0.023363        0.835589   \n\n                               testing_score  \nRandomForestClassifier_bogo_1       0.826282  ",
      "text/html": "<div>\n<style scoped>\n    .dataframe tbody tr th:only-of-type {\n        vertical-align: middle;\n    }\n\n    .dataframe tbody tr th {\n        vertical-align: top;\n    }\n\n    .dataframe thead th {\n        text-align: right;\n    }\n</style>\n<table border=\"1\" class=\"dataframe\">\n  <thead>\n    <tr style=\"text-align: right;\">\n      <th></th>\n      <th>train_time</th>\n      <th>pred_time</th>\n      <th>training_score</th>\n      <th>testing_score</th>\n    </tr>\n  </thead>\n  <tbody>\n    <tr>\n      <th>RandomForestClassifier_bogo_1</th>\n      <td>0.105937</td>\n      <td>0.023363</td>\n      <td>0.835589</td>\n      <td>0.826282</td>\n    </tr>\n  </tbody>\n</table>\n</div>"
     },
     "execution_count": 84,
     "metadata": {},
     "output_type": "execute_result"
    }
   ],
   "source": [
    "# best model for BOGO offer type\n",
    "best_model('bogo')"
   ],
   "metadata": {
    "collapsed": false,
    "pycharm": {
     "name": "#%%\n"
    }
   }
  },
  {
   "cell_type": "markdown",
   "source": [
    "As shown above in the comparison, after using tune parameters, the test accuracy slightly improved from 0.833 to 0.838 and the F1 score increase from 0.759 to 0.779."
   ],
   "metadata": {
    "collapsed": false
   }
  },
  {
   "cell_type": "code",
   "execution_count": 85,
   "outputs": [
    {
     "data": {
      "text/plain": "{'max_depth': 10,\n 'max_features': 'auto',\n 'min_samples_leaf': 10,\n 'min_samples_split': 10,\n 'n_estimators': 30}"
     },
     "execution_count": 85,
     "metadata": {},
     "output_type": "execute_result"
    }
   ],
   "source": [
    "# do the same tuning and refit steps on discount offer\n",
    "features,target=data_prep(discount_offer,drop_cols_prep)\n",
    "X_train, X_test, y_train, y_test=model_pipeline(features,target)\n",
    "\n",
    "# run Grid Search\n",
    "rand_forest_param_selection(X_train, y_train)"
   ],
   "metadata": {
    "collapsed": false,
    "pycharm": {
     "name": "#%%\n"
    }
   }
  },
  {
   "cell_type": "code",
   "execution_count": 86,
   "outputs": [
    {
     "name": "stdout",
     "output_type": "stream",
     "text": [
      "DecisionTreeClassifier trained on 10179 samples.\n",
      "MSE_train: 0.1371\n",
      "MSE_test: 0.1277\n",
      "Training accuracy:0.8629\n",
      "Test accuracy:0.8723\n",
      "              precision    recall  f1-score   support\n",
      "\n",
      "           0     0.0000    0.0000    0.0000       325\n",
      "           1     0.8723    1.0000    0.9318      2220\n",
      "\n",
      "    accuracy                         0.8723      2545\n",
      "   macro avg     0.4361    0.5000    0.4659      2545\n",
      "weighted avg     0.7609    0.8723    0.8128      2545\n",
      "\n",
      "RandomForestClassifier trained on 10179 samples.\n",
      "MSE_train: 0.1355\n",
      "MSE_test: 0.1269\n",
      "Training accuracy:0.8645\n",
      "Test accuracy:0.8731\n",
      "              precision    recall  f1-score   support\n",
      "\n",
      "           0     1.0000    0.0062    0.0122       325\n",
      "           1     0.8730    1.0000    0.9322      2220\n",
      "\n",
      "    accuracy                         0.8731      2545\n",
      "   macro avg     0.9365    0.5031    0.4722      2545\n",
      "weighted avg     0.8892    0.8731    0.8147      2545\n",
      "\n"
     ]
    },
    {
     "name": "stderr",
     "output_type": "stream",
     "text": [
      "/home/era/anaconda3/envs/pa/lib/python3.7/site-packages/sklearn/metrics/_classification.py:1272: UndefinedMetricWarning: Precision and F-score are ill-defined and being set to 0.0 in labels with no predicted samples. Use `zero_division` parameter to control this behavior.\n",
      "  _warn_prf(average, modifier, msg_start, len(result))\n"
     ]
    }
   ],
   "source": [
    "# rerun the model with tuned parameters\n",
    "# initialize the model\n",
    "discount_2 = RandomForestClassifier(random_state=2,\n",
    "                                    max_depth= 10, \n",
    "                                    max_features='auto',\n",
    "                                    min_samples_split= 10,\n",
    "                                    n_estimators=30,\n",
    "                                    min_samples_leaf=15)\n",
    "\n",
    "results=pd.concat([results[:],run_model(baseline,discount_2,'discount_2')],\n",
    "                  axis=1)"
   ],
   "metadata": {
    "collapsed": false,
    "pycharm": {
     "name": "#%%\n"
    }
   }
  },
  {
   "cell_type": "code",
   "execution_count": 87,
   "outputs": [
    {
     "data": {
      "text/plain": "                RandomForestClassifier_discount_1  \\\ntrain_time                               0.109704   \npred_time                                0.025356   \ntraining_score                           0.868946   \ntesting_score                            0.874263   \n\n                RandomForestClassifier_discount_2  \ntrain_time                               0.133053  \npred_time                                0.030428  \ntraining_score                           0.864525  \ntesting_score                            0.873084  ",
      "text/html": "<div>\n<style scoped>\n    .dataframe tbody tr th:only-of-type {\n        vertical-align: middle;\n    }\n\n    .dataframe tbody tr th {\n        vertical-align: top;\n    }\n\n    .dataframe thead th {\n        text-align: right;\n    }\n</style>\n<table border=\"1\" class=\"dataframe\">\n  <thead>\n    <tr style=\"text-align: right;\">\n      <th></th>\n      <th>RandomForestClassifier_discount_1</th>\n      <th>RandomForestClassifier_discount_2</th>\n    </tr>\n  </thead>\n  <tbody>\n    <tr>\n      <th>train_time</th>\n      <td>0.109704</td>\n      <td>0.133053</td>\n    </tr>\n    <tr>\n      <th>pred_time</th>\n      <td>0.025356</td>\n      <td>0.030428</td>\n    </tr>\n    <tr>\n      <th>training_score</th>\n      <td>0.868946</td>\n      <td>0.864525</td>\n    </tr>\n    <tr>\n      <th>testing_score</th>\n      <td>0.874263</td>\n      <td>0.873084</td>\n    </tr>\n  </tbody>\n</table>\n</div>"
     },
     "execution_count": 87,
     "metadata": {},
     "output_type": "execute_result"
    }
   ],
   "source": [
    "results[['RandomForestClassifier_discount_1',\n",
    "         'RandomForestClassifier_discount_2']]"
   ],
   "metadata": {
    "collapsed": false,
    "pycharm": {
     "name": "#%%\n"
    }
   }
  },
  {
   "cell_type": "code",
   "execution_count": 88,
   "outputs": [
    {
     "name": "stdout",
     "output_type": "stream",
     "text": [
      "discount RF model:\n"
     ]
    },
    {
     "data": {
      "text/plain": "                                   train_time  pred_time  training_score  \\\nRandomForestClassifier_discount_1    0.109704   0.025356        0.868946   \n\n                                   testing_score  \nRandomForestClassifier_discount_1       0.874263  ",
      "text/html": "<div>\n<style scoped>\n    .dataframe tbody tr th:only-of-type {\n        vertical-align: middle;\n    }\n\n    .dataframe tbody tr th {\n        vertical-align: top;\n    }\n\n    .dataframe thead th {\n        text-align: right;\n    }\n</style>\n<table border=\"1\" class=\"dataframe\">\n  <thead>\n    <tr style=\"text-align: right;\">\n      <th></th>\n      <th>train_time</th>\n      <th>pred_time</th>\n      <th>training_score</th>\n      <th>testing_score</th>\n    </tr>\n  </thead>\n  <tbody>\n    <tr>\n      <th>RandomForestClassifier_discount_1</th>\n      <td>0.109704</td>\n      <td>0.025356</td>\n      <td>0.868946</td>\n      <td>0.874263</td>\n    </tr>\n  </tbody>\n</table>\n</div>"
     },
     "execution_count": 88,
     "metadata": {},
     "output_type": "execute_result"
    }
   ],
   "source": [
    "# best model for discount offer type\n",
    "best_model('discount')"
   ],
   "metadata": {
    "collapsed": false,
    "pycharm": {
     "name": "#%%\n"
    }
   }
  },
  {
   "cell_type": "markdown",
   "source": [
    "As shown above in the comparison, after using tune parameters, the test accuracy slightly improved from 0.872 to 0.873 and the F1 score increase from 0.814 to 0.816."
   ],
   "metadata": {
    "collapsed": false
   }
  },
  {
   "cell_type": "code",
   "execution_count": 89,
   "outputs": [
    {
     "data": {
      "text/plain": "{'max_depth': 10,\n 'max_features': 'auto',\n 'min_samples_leaf': 10,\n 'min_samples_split': 10,\n 'n_estimators': 30}"
     },
     "execution_count": 89,
     "metadata": {},
     "output_type": "execute_result"
    }
   ],
   "source": [
    "# model tuning for informational offer model\n",
    "features,target=data_prep(informational_offer,drop_cols_prep)\n",
    "X_train, X_test, y_train, y_test=model_pipeline(features,target)\n",
    "\n",
    "#run Grid Search\n",
    "rand_forest_param_selection(X_train, y_train)"
   ],
   "metadata": {
    "collapsed": false,
    "pycharm": {
     "name": "#%%\n"
    }
   }
  },
  {
   "cell_type": "code",
   "execution_count": 90,
   "outputs": [
    {
     "name": "stdout",
     "output_type": "stream",
     "text": [
      "DecisionTreeClassifier trained on 5585 samples.\n",
      "MSE_train: 0.2462\n",
      "MSE_test: 0.2541\n",
      "Training accuracy:0.7538\n",
      "Test accuracy:0.7459\n",
      "              precision    recall  f1-score   support\n",
      "\n",
      "           0     0.5000    0.1127    0.1839       355\n",
      "           1     0.7608    0.9616    0.8495      1042\n",
      "\n",
      "    accuracy                         0.7459      1397\n",
      "   macro avg     0.6304    0.5371    0.5167      1397\n",
      "weighted avg     0.6945    0.7459    0.6804      1397\n",
      "\n",
      "RandomForestClassifier trained on 5585 samples.\n",
      "MSE_train: 0.2396\n",
      "MSE_test: 0.2527\n",
      "Training accuracy:0.7604\n",
      "Test accuracy:0.7473\n",
      "              precision    recall  f1-score   support\n",
      "\n",
      "           0     0.5185    0.0789    0.1369       355\n",
      "           1     0.7565    0.9750    0.8520      1042\n",
      "\n",
      "    accuracy                         0.7473      1397\n",
      "   macro avg     0.6375    0.5270    0.4945      1397\n",
      "weighted avg     0.6960    0.7473    0.6703      1397\n",
      "\n"
     ]
    }
   ],
   "source": [
    "# rerun the model with selected paramenters\n",
    "info_2 = RandomForestClassifier(random_state=2,\n",
    "                                max_depth=10, \n",
    "                                max_features='auto',\n",
    "                                min_samples_split= 10,\n",
    "                                n_estimators=10,\n",
    "                                min_samples_leaf=10)\n",
    "results=pd.concat([results[:],run_model(baseline,info_2,'info_2')],\n",
    "                  axis=1)"
   ],
   "metadata": {
    "collapsed": false,
    "pycharm": {
     "name": "#%%\n"
    }
   }
  },
  {
   "cell_type": "code",
   "execution_count": 91,
   "outputs": [
    {
     "data": {
      "text/plain": "                RandomForestClassifier_info_1  RandomForestClassifier_info_2\ntrain_time                           0.067009                       0.030811\npred_time                            0.014433                       0.007054\ntraining_score                       0.766697                       0.760430\ntesting_score                        0.750895                       0.747316",
      "text/html": "<div>\n<style scoped>\n    .dataframe tbody tr th:only-of-type {\n        vertical-align: middle;\n    }\n\n    .dataframe tbody tr th {\n        vertical-align: top;\n    }\n\n    .dataframe thead th {\n        text-align: right;\n    }\n</style>\n<table border=\"1\" class=\"dataframe\">\n  <thead>\n    <tr style=\"text-align: right;\">\n      <th></th>\n      <th>RandomForestClassifier_info_1</th>\n      <th>RandomForestClassifier_info_2</th>\n    </tr>\n  </thead>\n  <tbody>\n    <tr>\n      <th>train_time</th>\n      <td>0.067009</td>\n      <td>0.030811</td>\n    </tr>\n    <tr>\n      <th>pred_time</th>\n      <td>0.014433</td>\n      <td>0.007054</td>\n    </tr>\n    <tr>\n      <th>training_score</th>\n      <td>0.766697</td>\n      <td>0.760430</td>\n    </tr>\n    <tr>\n      <th>testing_score</th>\n      <td>0.750895</td>\n      <td>0.747316</td>\n    </tr>\n  </tbody>\n</table>\n</div>"
     },
     "execution_count": 91,
     "metadata": {},
     "output_type": "execute_result"
    }
   ],
   "source": [
    "results[['RandomForestClassifier_info_1','RandomForestClassifier_info_2']]"
   ],
   "metadata": {
    "collapsed": false,
    "pycharm": {
     "name": "#%%\n"
    }
   }
  },
  {
   "cell_type": "code",
   "execution_count": 92,
   "outputs": [
    {
     "name": "stdout",
     "output_type": "stream",
     "text": [
      "info RF model:\n"
     ]
    },
    {
     "data": {
      "text/plain": "                               train_time  pred_time  training_score  \\\nRandomForestClassifier_info_1    0.067009   0.014433        0.766697   \n\n                               testing_score  \nRandomForestClassifier_info_1       0.750895  ",
      "text/html": "<div>\n<style scoped>\n    .dataframe tbody tr th:only-of-type {\n        vertical-align: middle;\n    }\n\n    .dataframe tbody tr th {\n        vertical-align: top;\n    }\n\n    .dataframe thead th {\n        text-align: right;\n    }\n</style>\n<table border=\"1\" class=\"dataframe\">\n  <thead>\n    <tr style=\"text-align: right;\">\n      <th></th>\n      <th>train_time</th>\n      <th>pred_time</th>\n      <th>training_score</th>\n      <th>testing_score</th>\n    </tr>\n  </thead>\n  <tbody>\n    <tr>\n      <th>RandomForestClassifier_info_1</th>\n      <td>0.067009</td>\n      <td>0.014433</td>\n      <td>0.766697</td>\n      <td>0.750895</td>\n    </tr>\n  </tbody>\n</table>\n</div>"
     },
     "execution_count": 92,
     "metadata": {},
     "output_type": "execute_result"
    }
   ],
   "source": [
    "# best model for informational offer type\n",
    "best_model('info')"
   ],
   "metadata": {
    "collapsed": false,
    "pycharm": {
     "name": "#%%\n"
    }
   }
  },
  {
   "cell_type": "markdown",
   "source": [
    "As shown above in the comparison, after using tune parameters, the test accuray slightly improved from 0.748 to 0.753 and the F1 score increase from 0.681 to 0.678."
   ],
   "metadata": {
    "collapsed": false
   }
  },
  {
   "cell_type": "markdown",
   "source": [
    "### View the feature importance\n",
    "Next, we'll look at the model's result and see if there's any insight of main factors which decide whether customers will respond to offers we could get by investigating feature importance."
   ],
   "metadata": {
    "collapsed": false
   }
  },
  {
   "cell_type": "code",
   "execution_count": 93,
   "outputs": [
    {
     "name": "stdout",
     "output_type": "stream",
     "text": [
      "bogo RF model:\n",
      "discount RF model:\n",
      "info RF model:\n"
     ]
    },
    {
     "data": {
      "text/plain": "                RandomForestClassifier_bogo_1  \\\ntrain_time                           0.105937   \npred_time                            0.023363   \ntraining_score                       0.835589   \ntesting_score                        0.826282   \n\n                RandomForestClassifier_discount_1  \\\ntrain_time                               0.109704   \npred_time                                0.025356   \ntraining_score                           0.868946   \ntesting_score                            0.874263   \n\n                RandomForestClassifier_info_1  \ntrain_time                           0.067009  \npred_time                            0.014433  \ntraining_score                       0.766697  \ntesting_score                        0.750895  ",
      "text/html": "<div>\n<style scoped>\n    .dataframe tbody tr th:only-of-type {\n        vertical-align: middle;\n    }\n\n    .dataframe tbody tr th {\n        vertical-align: top;\n    }\n\n    .dataframe thead th {\n        text-align: right;\n    }\n</style>\n<table border=\"1\" class=\"dataframe\">\n  <thead>\n    <tr style=\"text-align: right;\">\n      <th></th>\n      <th>RandomForestClassifier_bogo_1</th>\n      <th>RandomForestClassifier_discount_1</th>\n      <th>RandomForestClassifier_info_1</th>\n    </tr>\n  </thead>\n  <tbody>\n    <tr>\n      <th>train_time</th>\n      <td>0.105937</td>\n      <td>0.109704</td>\n      <td>0.067009</td>\n    </tr>\n    <tr>\n      <th>pred_time</th>\n      <td>0.023363</td>\n      <td>0.025356</td>\n      <td>0.014433</td>\n    </tr>\n    <tr>\n      <th>training_score</th>\n      <td>0.835589</td>\n      <td>0.868946</td>\n      <td>0.766697</td>\n    </tr>\n    <tr>\n      <th>testing_score</th>\n      <td>0.826282</td>\n      <td>0.874263</td>\n      <td>0.750895</td>\n    </tr>\n  </tbody>\n</table>\n</div>"
     },
     "execution_count": 93,
     "metadata": {},
     "output_type": "execute_result"
    }
   ],
   "source": [
    "# models summary\n",
    "best_model('bogo').append([best_model('discount'),\n",
    "                           best_model('info')]).transpose()"
   ],
   "metadata": {
    "collapsed": false,
    "pycharm": {
     "name": "#%%\n"
    }
   }
  },
  {
   "cell_type": "code",
   "execution_count": 94,
   "outputs": [
    {
     "data": {
      "text/plain": "<Figure size 432x288 with 1 Axes>",
      "image/png": "[encoded data removed]"
     },
     "metadata": {
      "needs_background": "light"
     },
     "output_type": "display_data"
    }
   ],
   "source": [
    "# display the feature importance\n",
    "# BOGO model\n",
    "drop_cols_prep=['person','offer_id','offer_responded','offer_type']\n",
    "features,target=data_prep(bogo_offer,drop_cols_prep)\n",
    "\n",
    "feature_importances = pd.DataFrame(bogo_2.feature_importances_,\n",
    "                                   index=features.columns,\n",
    "                                   columns=['importance']) \\\n",
    "                          .sort_values('importance',ascending=False)\n",
    "\n",
    "feature_importances.plot.bar()\n",
    "plt.title('Best BOGO model feature importance')\n",
    "plt.show()"
   ],
   "metadata": {
    "collapsed": false,
    "pycharm": {
     "name": "#%%\n"
    }
   }
  },
  {
   "cell_type": "code",
   "execution_count": 95,
   "outputs": [
    {
     "data": {
      "text/plain": "<Figure size 432x288 with 1 Axes>",
      "image/png": "[encoded data removed]"
     },
     "metadata": {
      "needs_background": "light"
     },
     "output_type": "display_data"
    }
   ],
   "source": [
    "#discount model\n",
    "feature_importances = pd.DataFrame(discount_2.feature_importances_,\n",
    "                                   index = features.columns,\n",
    "                                    columns=['importance']) \\\n",
    "                          .sort_values('importance',ascending=False)\n",
    "feature_importances.plot.bar()\n",
    "plt.title('Best discount model feature importance')\n",
    "plt.show()"
   ],
   "metadata": {
    "collapsed": false,
    "pycharm": {
     "name": "#%%\n"
    }
   }
  },
  {
   "cell_type": "code",
   "execution_count": 96,
   "outputs": [
    {
     "data": {
      "text/plain": "<Figure size 432x288 with 1 Axes>",
      "image/png": "[encoded data removed]"
     },
     "metadata": {
      "needs_background": "light"
     },
     "output_type": "display_data"
    }
   ],
   "source": [
    "#informational model\n",
    "drop_cols_prep=['person','offer_id','offer_responded','offer_type']\n",
    "features,target=data_prep(informational_offer,drop_cols_prep)\n",
    "#print feature importance\n",
    "feature_importances = pd.DataFrame(info_2.feature_importances_,\n",
    "                                   index = features.columns,\n",
    "                                   columns=['importance']) \\\n",
    "                          .sort_values('importance',ascending=False)\n",
    "\n",
    "feature_importances.plot.bar()\n",
    "plt.title('Best info model feature importance')\n",
    "plt.show()"
   ],
   "metadata": {
    "collapsed": false,
    "pycharm": {
     "name": "#%%\n"
    }
   }
  },
  {
   "cell_type": "markdown",
   "source": [
    "As shown above, we can see that for all three types of offer, the most important factor that largely affects if the offer will be responded to eventually is the length of membership. That is, the longer the customer as a member of Starbucks, the more likely (s)he will respond to the offer they receive. Then the second and third important factors which affect the possibility of customer's response are age and income which very make sense. Also, the number of offers they received will also affect the response a lot."
   ],
   "metadata": {
    "collapsed": false
   }
  },
  {
   "cell_type": "markdown",
   "source": [
    "## Conclusion & Next steps"
   ],
   "metadata": {
    "collapsed": false
   }
  },
  {
   "cell_type": "markdown",
   "source": [
    "### Conclusion"
   ],
   "metadata": {
    "collapsed": false
   }
  },
  {
   "cell_type": "markdown",
   "source": [
    "From the result of the project, it's likely to use machine learning model to predict whether the customer will respond to the offer or not, and the model also shows the main factors such as the length of membership, age, income which highly affect the possibility of customer's responding to the offer.\n",
    "\n",
    "This project is trying to figure out:\n",
    "- What factors mainly affect the usage of the offer from customer? Should the company send out the offer or not?\n",
    "\n",
    "For this question, the feature importance given by three models shows that the length of the membership is the most important factor which affect how customer will make reponse to the offer. \n",
    "\n",
    "For all three models, the top three variables were pretty same - length of membership, income and age. However, income and age switched orders depending on offer type. And for BOGO offer, the count of offer received is the second important factor which decide if the customer will make the transaction.\n",
    "\n",
    "- How possible will a customer open and use the offer sent to them? Is there any common characteristics on the customers who take the offer?\n",
    "\n",
    "In this project, it uses thress separate models to predict if the customer will repond to the offer or not using 'offer_responded' trage variable and finally get the accuracy of 0.83, 0.87, 0.75 for BOGO, discount and informational offer seperatly. Although, the model performance of informational offer is slightly lower but is still acceptable in this phase of research. And for BOGO and discount models, the cost won't be too much to send out the offer even some people doesn't repond to it and it should be fine with this level of model performance."
   ],
   "metadata": {
    "collapsed": false
   }
  },
  {
   "cell_type": "markdown",
   "source": [
    "### Next step"
   ],
   "metadata": {
    "collapsed": false
   }
  },
  {
   "cell_type": "markdown",
   "source": [
    "Due to time reasons, I couldn't get a chance to try some other enhancement in the step of model tuning. For example, probably, I can do some more experiment on feature engineering step to see if any other new features can improve the model, also I could also try to reduce some feature to see how it will affect the model performance.\n",
    "\n",
    "Also, so far the analysis is focused more on customer's who successfully finish the transaction after they received the offer, there should be more insight for the other cases where the customer finishes the transactions regardless of the offer. If we could get any insight into those cases, maybe we can send out more offers to those customers.\n",
    "\n",
    "In addition, I was thinking if I could do some unsupervised learning on clustering the customers based on information we are given, to see if there are any specific characteristics on a group of customers who will be more likely to respond to the offer."
   ],
   "metadata": {
    "collapsed": false
   }
  },
  {
   "cell_type": "code",
   "execution_count": 97,
   "outputs": [
    {
     "name": "stdout",
     "output_type": "stream",
     "text": [
      "[NbConvertApp] Converting notebook Starbucks_Capstone_notebook.ipynb to html\r\n",
      "[NbConvertApp] Writing 640903 bytes to Starbucks_Capstone_notebook.html\r\n"
     ]
    }
   ],
   "source": [
    "!jupyter nbconvert  Starbucks_Capstone_notebook.ipynb --to html\n",
    "\n"
   ],
   "metadata": {
    "collapsed": false,
    "pycharm": {
     "name": "#%%\n"
    }
   }
  }
 ],
 "metadata": {
  "kernelspec": {
   "name": "playground",
   "language": "python",
   "display_name": "Py3 (pa)"
  },
  "language_info": {
   "codemirror_mode": {
    "name": "ipython",
    "version": 3
   },
   "file_extension": ".py",
   "mimetype": "text/x-python",
   "name": "python",
   "nbconvert_exporter": "python",
   "pygments_lexer": "ipython3",
   "version": "3.6.3"
  }
 },
 "nbformat": 4,
 "nbformat_minor": 2
}